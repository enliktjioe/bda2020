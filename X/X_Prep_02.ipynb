{
 "cells": [
  {
   "cell_type": "markdown",
   "metadata": {
    "colab_type": "text",
    "id": "7N58yUYIDuQm"
   },
   "source": [
    "<div class=\"alert alert-block alert-info\"><b></b>\n",
    "<h1><center> <font color='black'> X </font></center></h1>\n",
    "<h2><center> <font color='black'> BDA - University of Tartu - Spring 2020</font></center></h3>\n",
    "</div>"
   ]
  },
  {
   "cell_type": "markdown",
   "metadata": {
    "colab_type": "text",
    "id": "jr2xZJsmD95l"
   },
   "source": [
    "* This exam consists of two parts, please read everything carefully.\n",
    "\n",
    "\n",
    "* Additionally, before each part there is a cell code **you should run before doing anything**, this cell will report the current timestamp.  \n",
    "\n",
    "* Also, before submitting your solution, please **run the last cell that will report the end timestamp for your exam.**\n"
   ]
  },
  {
   "cell_type": "code",
   "execution_count": 1,
   "metadata": {
    "colab": {
     "base_uri": "https://localhost:8080/",
     "height": 34
    },
    "colab_type": "code",
    "id": "o4CSpc5fDkxG",
    "outputId": "038f5317-cf03-4db6-e7e4-3bd7ac7082d1"
   },
   "outputs": [
    {
     "name": "stdout",
     "output_type": "stream",
     "text": [
      "Current Time = 02:18:34\n"
     ]
    }
   ],
   "source": [
    "from datetime import datetime\n",
    "\n",
    "now = datetime.now()\n",
    "\n",
    "current_time = now.strftime(\"%H:%M:%S\")\n",
    "print(\"Current Time =\", current_time)"
   ]
  },
  {
   "cell_type": "markdown",
   "metadata": {
    "colab_type": "text",
    "id": "Af_zw4adca6F"
   },
   "source": [
    "#### Data set:\n",
    "\n",
    "  1. The data set contains information about money spent on advertisements and their generated sales. Money was spent on TV, radio and newspaper ads.\n",
    "  2. The `objective` is to understand how advertisement spending impacts sales.\n"
   ]
  },
  {
   "cell_type": "code",
   "execution_count": 2,
   "metadata": {},
   "outputs": [],
   "source": [
    "# Resolve macOS 10.12.16 SSL error\n",
    "import ssl\n",
    "ssl._create_default_https_context = ssl._create_unverified_context"
   ]
  },
  {
   "cell_type": "code",
   "execution_count": 3,
   "metadata": {
    "colab": {
     "base_uri": "https://localhost:8080/",
     "height": 206
    },
    "colab_type": "code",
    "id": "Sadxi2eNcscv",
    "outputId": "1087893e-544f-4d35-c356-80274c1ba846"
   },
   "outputs": [
    {
     "data": {
      "text/html": [
       "<div>\n",
       "<style scoped>\n",
       "    .dataframe tbody tr th:only-of-type {\n",
       "        vertical-align: middle;\n",
       "    }\n",
       "\n",
       "    .dataframe tbody tr th {\n",
       "        vertical-align: top;\n",
       "    }\n",
       "\n",
       "    .dataframe thead th {\n",
       "        text-align: right;\n",
       "    }\n",
       "</style>\n",
       "<table border=\"1\" class=\"dataframe\">\n",
       "  <thead>\n",
       "    <tr style=\"text-align: right;\">\n",
       "      <th></th>\n",
       "      <th>Unnamed: 0</th>\n",
       "      <th>TV</th>\n",
       "      <th>radio</th>\n",
       "      <th>newspaper</th>\n",
       "      <th>sales</th>\n",
       "    </tr>\n",
       "  </thead>\n",
       "  <tbody>\n",
       "    <tr>\n",
       "      <th>0</th>\n",
       "      <td>188.0</td>\n",
       "      <td>191.1</td>\n",
       "      <td>28.7</td>\n",
       "      <td>18.2</td>\n",
       "      <td>17.3</td>\n",
       "    </tr>\n",
       "    <tr>\n",
       "      <th>1</th>\n",
       "      <td>37.0</td>\n",
       "      <td>266.9</td>\n",
       "      <td>43.8</td>\n",
       "      <td>5.0</td>\n",
       "      <td>25.4</td>\n",
       "    </tr>\n",
       "    <tr>\n",
       "      <th>2</th>\n",
       "      <td>138.0</td>\n",
       "      <td>273.7</td>\n",
       "      <td>28.9</td>\n",
       "      <td>59.7</td>\n",
       "      <td>20.8</td>\n",
       "    </tr>\n",
       "    <tr>\n",
       "      <th>3</th>\n",
       "      <td>116.0</td>\n",
       "      <td>75.1</td>\n",
       "      <td>35.0</td>\n",
       "      <td>52.7</td>\n",
       "      <td>12.6</td>\n",
       "    </tr>\n",
       "    <tr>\n",
       "      <th>4</th>\n",
       "      <td>102.0</td>\n",
       "      <td>296.4</td>\n",
       "      <td>36.3</td>\n",
       "      <td>100.9</td>\n",
       "      <td>23.8</td>\n",
       "    </tr>\n",
       "  </tbody>\n",
       "</table>\n",
       "</div>"
      ],
      "text/plain": [
       "   Unnamed: 0     TV  radio  newspaper  sales\n",
       "0       188.0  191.1   28.7       18.2   17.3\n",
       "1        37.0  266.9   43.8        5.0   25.4\n",
       "2       138.0  273.7   28.9       59.7   20.8\n",
       "3       116.0   75.1   35.0       52.7   12.6\n",
       "4       102.0  296.4   36.3      100.9   23.8"
      ]
     },
     "execution_count": 3,
     "metadata": {},
     "output_type": "execute_result"
    }
   ],
   "source": [
    "import pandas as pd\n",
    "sheet_url = 'https://docs.google.com/spreadsheets/d/1iyva8AH2m2GEnBisaOBx_yaGZzRIk5v_0S3Z1I8I8_E/edit#gid=59247673'\n",
    "csv_export_url = sheet_url.replace('/edit#gid=', '/export?format=csv&gid=')\n",
    "df = pd.read_csv(csv_export_url,)\n",
    "df.head()"
   ]
  },
  {
   "cell_type": "markdown",
   "metadata": {
    "colab_type": "text",
    "id": "rKwvGxAw_bNK"
   },
   "source": [
    "# Part 1 (25 ponits):\n",
    "\n",
    "* **In this part, you will have a specific business problem, and you need to do the following:** \n",
    "\n",
    "    1. You need to `identify the problem type`, e.g. supervised or unsupervised, as well as the `type of the supervised problem`. \n",
    "    2. Investigate the data to `decide if it has any problems`, e.g. imbalanced data, or it needs some cleaning before building a predictive model. \n",
    "    3. Try to `understand the data` either using descriptive analysis or using a proper visualization (e.g. scatter plot, box plot, heatmap, etc.), **but the most important thing is to conclude your understanding shortly**.\n",
    "    4. `Build a predictive model` using a machine learning algorithm (e.g. random forest, XGBoost, etc.) that you would prefer. `Please report why you chose this algorithm specifically`. \n",
    "    5. `Train you model` on training data **(don't forget to set the seed to reproduce results.)**\n",
    "    6. Use the trained model to `predict the unseen data`.\n",
    "    7. `Evaluate the model` using at least **two different metrics** (e.g. AUC, LogLoos, etc.) that are relative to the problem that you defined at the beginning, and `compare them correctly`. `Which one you prefer to use and why?` \n",
    "    8. We may ask separate questions at each step. Please read everything carefully. \n",
    "    9. For **regression probelms**, don't forget to mention the regression equation either for simple or multiple linear regression as well as plotting the model equation to show how it can fit the data points. \n",
    "\n",
    "    \n",
    "    \n",
    "    "
   ]
  },
  {
   "cell_type": "markdown",
   "metadata": {
    "colab_type": "text",
    "id": "UmrqnnYZC90k"
   },
   "source": [
    "**<font color='red'>Answer:</font>**\n"
   ]
  },
  {
   "cell_type": "markdown",
   "metadata": {
    "colab_type": "text",
    "id": "lpTXJ16AAjaf"
   },
   "source": [
    "### 1.1 Problem type: \n",
    "\n"
   ]
  },
  {
   "cell_type": "markdown",
   "metadata": {
    "colab_type": "text",
    "id": "sCpPBB8rAxqp"
   },
   "source": [
    "\n",
    "**<font color='blue'>Answer:</font>**\n",
    "Supervised / Regression\n"
   ]
  },
  {
   "cell_type": "markdown",
   "metadata": {
    "colab_type": "text",
    "id": "J7ZNyAXwAzWf"
   },
   "source": [
    "### 1.2 Data preparation\n"
   ]
  },
  {
   "cell_type": "code",
   "execution_count": 4,
   "metadata": {
    "colab": {
     "base_uri": "https://localhost:8080/",
     "height": 424
    },
    "colab_type": "code",
    "id": "LHZUgBQqA7gl",
    "outputId": "998fc4f5-2a8d-4fb5-c829-f106c0e8aafc"
   },
   "outputs": [
    {
     "data": {
      "text/html": [
       "<div>\n",
       "<style scoped>\n",
       "    .dataframe tbody tr th:only-of-type {\n",
       "        vertical-align: middle;\n",
       "    }\n",
       "\n",
       "    .dataframe tbody tr th {\n",
       "        vertical-align: top;\n",
       "    }\n",
       "\n",
       "    .dataframe thead th {\n",
       "        text-align: right;\n",
       "    }\n",
       "</style>\n",
       "<table border=\"1\" class=\"dataframe\">\n",
       "  <thead>\n",
       "    <tr style=\"text-align: right;\">\n",
       "      <th></th>\n",
       "      <th>X</th>\n",
       "      <th>TV</th>\n",
       "      <th>radio</th>\n",
       "      <th>newspaper</th>\n",
       "      <th>sales</th>\n",
       "    </tr>\n",
       "  </thead>\n",
       "  <tbody>\n",
       "    <tr>\n",
       "      <th>0</th>\n",
       "      <td>188.0</td>\n",
       "      <td>191.1</td>\n",
       "      <td>28.7</td>\n",
       "      <td>18.2</td>\n",
       "      <td>17.3</td>\n",
       "    </tr>\n",
       "    <tr>\n",
       "      <th>1</th>\n",
       "      <td>37.0</td>\n",
       "      <td>266.9</td>\n",
       "      <td>43.8</td>\n",
       "      <td>5.0</td>\n",
       "      <td>25.4</td>\n",
       "    </tr>\n",
       "    <tr>\n",
       "      <th>2</th>\n",
       "      <td>138.0</td>\n",
       "      <td>273.7</td>\n",
       "      <td>28.9</td>\n",
       "      <td>59.7</td>\n",
       "      <td>20.8</td>\n",
       "    </tr>\n",
       "    <tr>\n",
       "      <th>3</th>\n",
       "      <td>116.0</td>\n",
       "      <td>75.1</td>\n",
       "      <td>35.0</td>\n",
       "      <td>52.7</td>\n",
       "      <td>12.6</td>\n",
       "    </tr>\n",
       "    <tr>\n",
       "      <th>4</th>\n",
       "      <td>102.0</td>\n",
       "      <td>296.4</td>\n",
       "      <td>36.3</td>\n",
       "      <td>100.9</td>\n",
       "      <td>23.8</td>\n",
       "    </tr>\n",
       "    <tr>\n",
       "      <th>...</th>\n",
       "      <td>...</td>\n",
       "      <td>...</td>\n",
       "      <td>...</td>\n",
       "      <td>...</td>\n",
       "      <td>...</td>\n",
       "    </tr>\n",
       "    <tr>\n",
       "      <th>95</th>\n",
       "      <td>62.0</td>\n",
       "      <td>261.3</td>\n",
       "      <td>42.7</td>\n",
       "      <td>54.7</td>\n",
       "      <td>24.2</td>\n",
       "    </tr>\n",
       "    <tr>\n",
       "      <th>96</th>\n",
       "      <td>28.0</td>\n",
       "      <td>240.1</td>\n",
       "      <td>16.7</td>\n",
       "      <td>22.9</td>\n",
       "      <td>15.9</td>\n",
       "    </tr>\n",
       "    <tr>\n",
       "      <th>97</th>\n",
       "      <td>142.0</td>\n",
       "      <td>193.7</td>\n",
       "      <td>35.4</td>\n",
       "      <td>75.6</td>\n",
       "      <td>19.2</td>\n",
       "    </tr>\n",
       "    <tr>\n",
       "      <th>98</th>\n",
       "      <td>41.0</td>\n",
       "      <td>202.5</td>\n",
       "      <td>22.3</td>\n",
       "      <td>31.6</td>\n",
       "      <td>16.6</td>\n",
       "    </tr>\n",
       "    <tr>\n",
       "      <th>99</th>\n",
       "      <td>137.0</td>\n",
       "      <td>25.6</td>\n",
       "      <td>39.0</td>\n",
       "      <td>9.3</td>\n",
       "      <td>9.5</td>\n",
       "    </tr>\n",
       "  </tbody>\n",
       "</table>\n",
       "<p>100 rows × 5 columns</p>\n",
       "</div>"
      ],
      "text/plain": [
       "        X     TV  radio  newspaper  sales\n",
       "0   188.0  191.1   28.7       18.2   17.3\n",
       "1    37.0  266.9   43.8        5.0   25.4\n",
       "2   138.0  273.7   28.9       59.7   20.8\n",
       "3   116.0   75.1   35.0       52.7   12.6\n",
       "4   102.0  296.4   36.3      100.9   23.8\n",
       "..    ...    ...    ...        ...    ...\n",
       "95   62.0  261.3   42.7       54.7   24.2\n",
       "96   28.0  240.1   16.7       22.9   15.9\n",
       "97  142.0  193.7   35.4       75.6   19.2\n",
       "98   41.0  202.5   22.3       31.6   16.6\n",
       "99  137.0   25.6   39.0        9.3    9.5\n",
       "\n",
       "[100 rows x 5 columns]"
      ]
     },
     "execution_count": 4,
     "metadata": {},
     "output_type": "execute_result"
    }
   ],
   "source": [
    "#TODO\n",
    "df = df.rename(columns={\"Unnamed: 0\": \"X\"})\n",
    "df"
   ]
  },
  {
   "cell_type": "code",
   "execution_count": 5,
   "metadata": {
    "colab": {
     "base_uri": "https://localhost:8080/",
     "height": 121
    },
    "colab_type": "code",
    "id": "T_LwMqEmGatX",
    "outputId": "94c30750-c2e5-4118-cd81-ce77a6ec7f1d"
   },
   "outputs": [
    {
     "data": {
      "text/plain": [
       "X            1\n",
       "TV           1\n",
       "radio        1\n",
       "newspaper    1\n",
       "sales        0\n",
       "dtype: int64"
      ]
     },
     "execution_count": 5,
     "metadata": {},
     "output_type": "execute_result"
    }
   ],
   "source": [
    "df.isnull().sum()"
   ]
  },
  {
   "cell_type": "code",
   "execution_count": 6,
   "metadata": {
    "colab": {
     "base_uri": "https://localhost:8080/",
     "height": 121
    },
    "colab_type": "code",
    "id": "SJ2t_-5cGcXT",
    "outputId": "81ea068f-ad97-4638-954b-e5f521db6f68"
   },
   "outputs": [
    {
     "data": {
      "text/plain": [
       "X            0\n",
       "TV           0\n",
       "radio        0\n",
       "newspaper    0\n",
       "sales        0\n",
       "dtype: int64"
      ]
     },
     "execution_count": 6,
     "metadata": {},
     "output_type": "execute_result"
    }
   ],
   "source": [
    "# Mean Imputation\n",
    "df.fillna(df.mean(), inplace=True)\n",
    "df.isnull().sum()"
   ]
  },
  {
   "cell_type": "markdown",
   "metadata": {
    "colab_type": "text",
    "id": "2gH_k5G5A9lZ"
   },
   "source": [
    "### 1.3 Data understanding"
   ]
  },
  {
   "cell_type": "code",
   "execution_count": 7,
   "metadata": {
    "colab": {
     "base_uri": "https://localhost:8080/",
     "height": 121
    },
    "colab_type": "code",
    "id": "UsVHzbLeBCGG",
    "outputId": "ed4a6f63-7f7c-49d9-9820-08d6684fed57"
   },
   "outputs": [
    {
     "data": {
      "text/plain": [
       "sales        1.000000\n",
       "TV           0.735320\n",
       "radio        0.632186\n",
       "newspaper    0.133315\n",
       "X            0.082230\n",
       "Name: sales, dtype: float64"
      ]
     },
     "execution_count": 7,
     "metadata": {},
     "output_type": "execute_result"
    }
   ],
   "source": [
    "#TODO\n",
    "correlation = df.corr()\n",
    "# print(correlation['SalePrice'].sort_values(ascending = False), '\\n')\n",
    "correlation[correlation['sales'] >= 0]['sales'].sort_values(ascending = False)\n",
    "\n"
   ]
  },
  {
   "cell_type": "code",
   "execution_count": 8,
   "metadata": {
    "colab": {
     "base_uri": "https://localhost:8080/",
     "height": 476
    },
    "colab_type": "code",
    "id": "mCFoa2FdHBEo",
    "outputId": "1bd63156-cc35-4ff7-eadf-ec0458030490"
   },
   "outputs": [
    {
     "data": {
      "image/png": "[encoded data removed]",
      "text/plain": [
       "<Figure size 576x288 with 1 Axes>"
      ]
     },
     "metadata": {
      "needs_background": "light"
     },
     "output_type": "display_data"
    },
    {
     "name": "stdout",
     "output_type": "stream",
     "text": [
      "Correlations value: \n",
      " sales        1.000000\n",
      "TV           0.735320\n",
      "radio        0.632186\n",
      "newspaper    0.133315\n",
      "X            0.082230\n",
      "Name: sales, dtype: float64\n"
     ]
    }
   ],
   "source": [
    "#VISUALISATION\n",
    "import matplotlib.pyplot as plt\n",
    "import matplotlib.cm as cm\n",
    "plt.figure(figsize=(8,4))\n",
    "plt.style.use('ggplot')\n",
    "my_cmap = cm.get_cmap('Accent')\n",
    "\n",
    "correlations = df.corr()['sales'].sort_values(ascending = False)\n",
    "correlations.plot(kind='bar', cmap=my_cmap)\n",
    "\n",
    "plt.title(' Correlation with Sales',fontsize=20)\n",
    "plt.xlabel('Variables', fontsize=20)\n",
    "plt.ylabel('Rate',fontsize=20)\n",
    "\n",
    "plt.xticks(fontsize = 10) \n",
    "plt.yticks(fontsize = 20) \n",
    "plt.grid(True)\n",
    "plt.show() \n",
    "\n",
    "print('Correlations value: \\n', correlations.head(5))"
   ]
  },
  {
   "cell_type": "markdown",
   "metadata": {
    "colab_type": "text",
    "id": "62AfrQ9PGEpK"
   },
   "source": [
    "- Top 3 features with highest correlation with `SalePrice`:\n",
    "    - TV\n",
    "    - radio\n",
    "    - newspaper\n",
    "- Correlation is positive\n",
    "- When each of these 3 features got a change of value, the `sales` variable will change significantly"
   ]
  },
  {
   "cell_type": "markdown",
   "metadata": {
    "colab_type": "text",
    "id": "NBznLbWKBFC9"
   },
   "source": [
    "### 1.4 Build model"
   ]
  },
  {
   "cell_type": "code",
   "execution_count": 9,
   "metadata": {
    "colab": {},
    "colab_type": "code",
    "id": "mzqnYJ83BJw8"
   },
   "outputs": [],
   "source": [
    "#TODO\n",
    "# Import Library\n",
    "from sklearn.model_selection import train_test_split # for data splitting\n",
    "from sklearn.metrics import mean_squared_error # for model evaluation\n",
    "from sklearn.metrics import r2_score # model evaluation\n",
    "from sklearn.metrics import median_absolute_error # model evaluation\n",
    "from sklearn.linear_model import LinearRegression"
   ]
  },
  {
   "cell_type": "code",
   "execution_count": 10,
   "metadata": {
    "colab": {
     "base_uri": "https://localhost:8080/",
     "height": 126
    },
    "colab_type": "code",
    "id": "xAw7tsqJHmZp",
    "outputId": "9cae1f34-f45e-4249-f2c7-bd948a39a268"
   },
   "outputs": [
    {
     "data": {
      "text/html": [
       "<style  type=\"text/css\" >\n",
       "    #T_6265b8cc_a9de_11ea_b3b1_4c8d79eb00d4row0_col0 {\n",
       "            background-color:  #08306b;\n",
       "            color:  #f1f1f1;\n",
       "        }    #T_6265b8cc_a9de_11ea_b3b1_4c8d79eb00d4row0_col1 {\n",
       "            background-color:  #2676b8;\n",
       "            color:  #000000;\n",
       "        }    #T_6265b8cc_a9de_11ea_b3b1_4c8d79eb00d4row0_col2 {\n",
       "            background-color:  #5ca4d0;\n",
       "            color:  #000000;\n",
       "        }    #T_6265b8cc_a9de_11ea_b3b1_4c8d79eb00d4row0_col3 {\n",
       "            background-color:  #e1edf8;\n",
       "            color:  #000000;\n",
       "        }    #T_6265b8cc_a9de_11ea_b3b1_4c8d79eb00d4row1_col0 {\n",
       "            background-color:  #3080bd;\n",
       "            color:  #000000;\n",
       "        }    #T_6265b8cc_a9de_11ea_b3b1_4c8d79eb00d4row1_col1 {\n",
       "            background-color:  #08306b;\n",
       "            color:  #f1f1f1;\n",
       "        }    #T_6265b8cc_a9de_11ea_b3b1_4c8d79eb00d4row1_col2 {\n",
       "            background-color:  #f7fbff;\n",
       "            color:  #000000;\n",
       "        }    #T_6265b8cc_a9de_11ea_b3b1_4c8d79eb00d4row1_col3 {\n",
       "            background-color:  #f7fbff;\n",
       "            color:  #000000;\n",
       "        }    #T_6265b8cc_a9de_11ea_b3b1_4c8d79eb00d4row2_col0 {\n",
       "            background-color:  #529dcc;\n",
       "            color:  #000000;\n",
       "        }    #T_6265b8cc_a9de_11ea_b3b1_4c8d79eb00d4row2_col1 {\n",
       "            background-color:  #d5e5f4;\n",
       "            color:  #000000;\n",
       "        }    #T_6265b8cc_a9de_11ea_b3b1_4c8d79eb00d4row2_col2 {\n",
       "            background-color:  #08306b;\n",
       "            color:  #f1f1f1;\n",
       "        }    #T_6265b8cc_a9de_11ea_b3b1_4c8d79eb00d4row2_col3 {\n",
       "            background-color:  #b4d3e9;\n",
       "            color:  #000000;\n",
       "        }    #T_6265b8cc_a9de_11ea_b3b1_4c8d79eb00d4row3_col0 {\n",
       "            background-color:  #f7fbff;\n",
       "            color:  #000000;\n",
       "        }    #T_6265b8cc_a9de_11ea_b3b1_4c8d79eb00d4row3_col1 {\n",
       "            background-color:  #f7fbff;\n",
       "            color:  #000000;\n",
       "        }    #T_6265b8cc_a9de_11ea_b3b1_4c8d79eb00d4row3_col2 {\n",
       "            background-color:  #d7e6f5;\n",
       "            color:  #000000;\n",
       "        }    #T_6265b8cc_a9de_11ea_b3b1_4c8d79eb00d4row3_col3 {\n",
       "            background-color:  #08306b;\n",
       "            color:  #f1f1f1;\n",
       "        }</style><table id=\"T_6265b8cc_a9de_11ea_b3b1_4c8d79eb00d4\" ><thead>    <tr>        <th class=\"blank level0\" ></th>        <th class=\"col_heading level0 col0\" >sales</th>        <th class=\"col_heading level0 col1\" >TV</th>        <th class=\"col_heading level0 col2\" >radio</th>        <th class=\"col_heading level0 col3\" >newspaper</th>    </tr></thead><tbody>\n",
       "                <tr>\n",
       "                        <th id=\"T_6265b8cc_a9de_11ea_b3b1_4c8d79eb00d4level0_row0\" class=\"row_heading level0 row0\" >sales</th>\n",
       "                        <td id=\"T_6265b8cc_a9de_11ea_b3b1_4c8d79eb00d4row0_col0\" class=\"data row0 col0\" >1.000000</td>\n",
       "                        <td id=\"T_6265b8cc_a9de_11ea_b3b1_4c8d79eb00d4row0_col1\" class=\"data row0 col1\" >0.735320</td>\n",
       "                        <td id=\"T_6265b8cc_a9de_11ea_b3b1_4c8d79eb00d4row0_col2\" class=\"data row0 col2\" >0.632186</td>\n",
       "                        <td id=\"T_6265b8cc_a9de_11ea_b3b1_4c8d79eb00d4row0_col3\" class=\"data row0 col3\" >0.133315</td>\n",
       "            </tr>\n",
       "            <tr>\n",
       "                        <th id=\"T_6265b8cc_a9de_11ea_b3b1_4c8d79eb00d4level0_row1\" class=\"row_heading level0 row1\" >TV</th>\n",
       "                        <td id=\"T_6265b8cc_a9de_11ea_b3b1_4c8d79eb00d4row1_col0\" class=\"data row1 col0\" >0.735320</td>\n",
       "                        <td id=\"T_6265b8cc_a9de_11ea_b3b1_4c8d79eb00d4row1_col1\" class=\"data row1 col1\" >1.000000</td>\n",
       "                        <td id=\"T_6265b8cc_a9de_11ea_b3b1_4c8d79eb00d4row1_col2\" class=\"data row1 col2\" >0.192502</td>\n",
       "                        <td id=\"T_6265b8cc_a9de_11ea_b3b1_4c8d79eb00d4row1_col3\" class=\"data row1 col3\" >0.024611</td>\n",
       "            </tr>\n",
       "            <tr>\n",
       "                        <th id=\"T_6265b8cc_a9de_11ea_b3b1_4c8d79eb00d4level0_row2\" class=\"row_heading level0 row2\" >radio</th>\n",
       "                        <td id=\"T_6265b8cc_a9de_11ea_b3b1_4c8d79eb00d4row2_col0\" class=\"data row2 col0\" >0.632186</td>\n",
       "                        <td id=\"T_6265b8cc_a9de_11ea_b3b1_4c8d79eb00d4row2_col1\" class=\"data row2 col1\" >0.192502</td>\n",
       "                        <td id=\"T_6265b8cc_a9de_11ea_b3b1_4c8d79eb00d4row2_col2\" class=\"data row2 col2\" >1.000000</td>\n",
       "                        <td id=\"T_6265b8cc_a9de_11ea_b3b1_4c8d79eb00d4row2_col3\" class=\"data row2 col3\" >0.323186</td>\n",
       "            </tr>\n",
       "            <tr>\n",
       "                        <th id=\"T_6265b8cc_a9de_11ea_b3b1_4c8d79eb00d4level0_row3\" class=\"row_heading level0 row3\" >newspaper</th>\n",
       "                        <td id=\"T_6265b8cc_a9de_11ea_b3b1_4c8d79eb00d4row3_col0\" class=\"data row3 col0\" >0.133315</td>\n",
       "                        <td id=\"T_6265b8cc_a9de_11ea_b3b1_4c8d79eb00d4row3_col1\" class=\"data row3 col1\" >0.024611</td>\n",
       "                        <td id=\"T_6265b8cc_a9de_11ea_b3b1_4c8d79eb00d4row3_col2\" class=\"data row3 col2\" >0.323186</td>\n",
       "                        <td id=\"T_6265b8cc_a9de_11ea_b3b1_4c8d79eb00d4row3_col3\" class=\"data row3 col3\" >1.000000</td>\n",
       "            </tr>\n",
       "    </tbody></table>"
      ],
      "text/plain": [
       "<pandas.io.formats.style.Styler at 0x11bd13908>"
      ]
     },
     "execution_count": 10,
     "metadata": {},
     "output_type": "execute_result"
    }
   ],
   "source": [
    "highest_corr_features = df[['sales','TV','radio', 'newspaper']]\n",
    "# highest_corr_features.head()\n",
    "corr = highest_corr_features.corr()\n",
    "corr.style.background_gradient(cmap='Blues')"
   ]
  },
  {
   "cell_type": "code",
   "execution_count": 12,
   "metadata": {
    "colab": {
     "base_uri": "https://localhost:8080/",
     "height": 175
    },
    "colab_type": "code",
    "id": "0DdaA4X9Hmh-",
    "outputId": "26432f92-d008-4de4-e34d-a79ac38b4c8e"
   },
   "outputs": [
    {
     "data": {
      "text/html": [
       "<div>\n",
       "<style scoped>\n",
       "    .dataframe tbody tr th:only-of-type {\n",
       "        vertical-align: middle;\n",
       "    }\n",
       "\n",
       "    .dataframe tbody tr th {\n",
       "        vertical-align: top;\n",
       "    }\n",
       "\n",
       "    .dataframe thead th {\n",
       "        text-align: right;\n",
       "    }\n",
       "</style>\n",
       "<table border=\"1\" class=\"dataframe\">\n",
       "  <thead>\n",
       "    <tr style=\"text-align: right;\">\n",
       "      <th></th>\n",
       "      <th>Using Mean Imputation</th>\n",
       "    </tr>\n",
       "  </thead>\n",
       "  <tbody>\n",
       "    <tr>\n",
       "      <th>MSE</th>\n",
       "      <td>2.333965</td>\n",
       "    </tr>\n",
       "    <tr>\n",
       "      <th>RMSE</th>\n",
       "      <td>1.527732</td>\n",
       "    </tr>\n",
       "    <tr>\n",
       "      <th>MAE</th>\n",
       "      <td>1.182081</td>\n",
       "    </tr>\n",
       "    <tr>\n",
       "      <th>R2</th>\n",
       "      <td>0.919797</td>\n",
       "    </tr>\n",
       "  </tbody>\n",
       "</table>\n",
       "</div>"
      ],
      "text/plain": [
       "      Using Mean Imputation\n",
       "MSE                2.333965\n",
       "RMSE               1.527732\n",
       "MAE                1.182081\n",
       "R2                 0.919797"
      ]
     },
     "execution_count": 12,
     "metadata": {},
     "output_type": "execute_result"
    }
   ],
   "source": [
    "import numpy as np\n",
    "# drop our target variable\n",
    "X = highest_corr_features.loc[:, highest_corr_features.columns != 'sales'] \n",
    "\n",
    "# our target variable that we need to predict\n",
    "y = highest_corr_features[['sales']]\n",
    "\n",
    "# split the data to train and test\n",
    "X_train, X_test, y_train, y_test = train_test_split(X, y, test_size = 0.2, random_state=0)\n",
    "\n",
    "# make an instance from the lr model\n",
    "lin_reg_mod = LinearRegression()\n",
    "\n",
    "# train the model - teach the model\n",
    "lin_reg_mod.fit(X_train, y_train)\n",
    "\n",
    "# predict unseen data (test dat)\n",
    "pred = lin_reg_mod.predict(X_test)\n",
    "\n",
    "\n",
    "# Evaluate the LR model\n",
    "# MAE\n",
    "test_set_mae = median_absolute_error(y_test, pred)\n",
    "# RMSE\n",
    "test_set_rmse = (np.sqrt(mean_squared_error(y_test, pred)))\n",
    "#R^2\n",
    "test_set_r2 = r2_score(y_test, pred)\n",
    "#MSE\n",
    "test_set_mse = (mean_squared_error(y_test, pred))\n",
    "\n",
    "metric_values = [test_set_mse, test_set_rmse, test_set_mae,test_set_r2 ]\n",
    "idx = ['MSE', 'RMSE', 'MAE', 'R2']\n",
    "# pd.DataFrame(metric_values, index=idx)\n",
    "\n",
    "df_mean = pd.DataFrame(metric_values, columns=['Using Mean Imputation'],index=idx)\n",
    "df_mean"
   ]
  },
  {
   "cell_type": "code",
   "execution_count": 13,
   "metadata": {
    "colab": {},
    "colab_type": "code",
    "id": "EVb00KTvHmyB"
   },
   "outputs": [],
   "source": [
    "## Calculate the values for MAE, RMSE, R^2 received before applying PCA\n",
    "\n",
    "mae = 1.182081\n",
    "rmse = 1.527732\n",
    "r2 = 0.919797"
   ]
  },
  {
   "cell_type": "code",
   "execution_count": null,
   "metadata": {
    "colab": {},
    "colab_type": "code",
    "id": "bb-FSWbQHm9J"
   },
   "outputs": [],
   "source": []
  },
  {
   "cell_type": "markdown",
   "metadata": {
    "colab_type": "text",
    "id": "_FMEaSUoCVrK"
   },
   "source": [
    "### 1.5 Train your model"
   ]
  },
  {
   "cell_type": "code",
   "execution_count": 14,
   "metadata": {
    "colab": {},
    "colab_type": "code",
    "id": "rp16m1MuBDr5"
   },
   "outputs": [],
   "source": [
    "#TODO\n",
    "from sklearn.decomposition import PCA\n",
    "from sklearn.model_selection import KFold\n",
    "from sklearn import linear_model\n",
    "from sklearn.metrics import make_scorer\n",
    "from sklearn.metrics import r2_score\n",
    "from sklearn.model_selection import cross_val_score\n",
    "from sklearn.model_selection import GridSearchCV\n",
    "import matplotlib.pyplot as plt\n",
    "import seaborn"
   ]
  },
  {
   "cell_type": "code",
   "execution_count": 15,
   "metadata": {
    "colab": {},
    "colab_type": "code",
    "id": "jzoT3quNLyk2"
   },
   "outputs": [],
   "source": [
    "x = df.loc[:, df.columns != 'sales'] # features \n",
    "y = df[['sales']] # target / label"
   ]
  },
  {
   "cell_type": "code",
   "execution_count": 16,
   "metadata": {
    "colab": {},
    "colab_type": "code",
    "id": "Dzl_kDreLLuw"
   },
   "outputs": [],
   "source": [
    "# features and target\n",
    "X = x\n",
    "y = y\n",
    "\n",
    "# convert features to numpy array\n",
    "X = X.to_numpy()\n",
    "\n",
    "# n_components: Number of components (features) to keep.\n",
    "\n",
    "# whiten: When True (False by default) the components_ vectors are multiplied by the square root of n_samples\n",
    "# and then divided by the singular values to ensure uncorrelated outputs with unit component-wise variances.\n",
    "\n",
    "# svd (Singular Value Decomposition): project data to a lower dimensional space.\n",
    "\n",
    "# get an instance from PCA\n",
    "pca = PCA(n_components=3,whiten=True,svd_solver='randomized',random_state=0)\n",
    "\n",
    "# fitting or teaching PCA \n",
    "pca = pca.fit(X)\n",
    "\n",
    "# generate new features based on PCA technique by using transform()\n",
    "dataPCA = pca.transform(X)"
   ]
  },
  {
   "cell_type": "code",
   "execution_count": 17,
   "metadata": {
    "colab": {},
    "colab_type": "code",
    "id": "jcDrQJaXLsRn"
   },
   "outputs": [],
   "source": [
    "train_pca , test_pca, train_y_orig, test_y_orig = train_test_split(\n",
    "        dataPCA,\n",
    "        y,\n",
    "        test_size=0.20,\n",
    "        random_state=0)"
   ]
  },
  {
   "cell_type": "markdown",
   "metadata": {
    "colab_type": "text",
    "id": "bqx7V64FCel5"
   },
   "source": [
    "### 1.6 Predict unseen data"
   ]
  },
  {
   "cell_type": "code",
   "execution_count": 18,
   "metadata": {
    "colab": {
     "base_uri": "https://localhost:8080/",
     "height": 81
    },
    "colab_type": "code",
    "id": "IYWl9_KeChsm",
    "outputId": "8e13b489-d5ee-4a4b-f741-58e09b4ac50f"
   },
   "outputs": [
    {
     "data": {
      "text/html": [
       "<div>\n",
       "<style scoped>\n",
       "    .dataframe tbody tr th:only-of-type {\n",
       "        vertical-align: middle;\n",
       "    }\n",
       "\n",
       "    .dataframe tbody tr th {\n",
       "        vertical-align: top;\n",
       "    }\n",
       "\n",
       "    .dataframe thead th {\n",
       "        text-align: right;\n",
       "    }\n",
       "</style>\n",
       "<table border=\"1\" class=\"dataframe\">\n",
       "  <thead>\n",
       "    <tr style=\"text-align: right;\">\n",
       "      <th></th>\n",
       "      <th>MAE Score</th>\n",
       "    </tr>\n",
       "  </thead>\n",
       "  <tbody>\n",
       "    <tr>\n",
       "      <th>MAE</th>\n",
       "      <td>1.28997</td>\n",
       "    </tr>\n",
       "  </tbody>\n",
       "</table>\n",
       "</div>"
      ],
      "text/plain": [
       "     MAE Score\n",
       "MAE    1.28997"
      ]
     },
     "execution_count": 18,
     "metadata": {},
     "output_type": "execute_result"
    }
   ],
   "source": [
    "#TODO\n",
    "def get_mae(x_train, y_train, x_test,y_test):\n",
    "    results={}\n",
    "    \n",
    "    def mae_model(clf):  \n",
    "        # train the model - teach the model\n",
    "        clf.fit(x_train, y_train)\n",
    "\n",
    "        # predict unseen data (test dat)\n",
    "        pred = clf.predict(x_test)\n",
    "\n",
    "        # R2\n",
    "        mae_val_score = median_absolute_error(y_test, pred)\n",
    "\n",
    "        scores=[mae_val_score.mean()]\n",
    "        return scores\n",
    "\n",
    "    clf = linear_model.LinearRegression()\n",
    "    results[\"MAE\"]=mae_model(clf)\n",
    "\n",
    "    \n",
    "    results = pd.DataFrame.from_dict(results,orient='index')\n",
    "    results.columns=[\"MAE Score\"] \n",
    "#     results.plot(kind=\"bar\",title=\"Model Scores\")\n",
    "#     axes = plt.gca()\n",
    "#     axes.set_ylim([0.05,0.1])\n",
    "    return results\n",
    "\n",
    "# PCA model\n",
    "get_mae(train_pca, train_y_orig, test_pca,test_y_orig)"
   ]
  },
  {
   "cell_type": "code",
   "execution_count": 19,
   "metadata": {
    "colab": {
     "base_uri": "https://localhost:8080/",
     "height": 81
    },
    "colab_type": "code",
    "id": "ZO6vT2MlMl_M",
    "outputId": "ba2f033c-1379-402a-fbab-41746104d41a"
   },
   "outputs": [
    {
     "data": {
      "text/html": [
       "<div>\n",
       "<style scoped>\n",
       "    .dataframe tbody tr th:only-of-type {\n",
       "        vertical-align: middle;\n",
       "    }\n",
       "\n",
       "    .dataframe tbody tr th {\n",
       "        vertical-align: top;\n",
       "    }\n",
       "\n",
       "    .dataframe thead th {\n",
       "        text-align: right;\n",
       "    }\n",
       "</style>\n",
       "<table border=\"1\" class=\"dataframe\">\n",
       "  <thead>\n",
       "    <tr style=\"text-align: right;\">\n",
       "      <th></th>\n",
       "      <th>RMSE Score</th>\n",
       "    </tr>\n",
       "  </thead>\n",
       "  <tbody>\n",
       "    <tr>\n",
       "      <th>RMSE</th>\n",
       "      <td>2.86457</td>\n",
       "    </tr>\n",
       "  </tbody>\n",
       "</table>\n",
       "</div>"
      ],
      "text/plain": [
       "      RMSE Score\n",
       "RMSE     2.86457"
      ]
     },
     "execution_count": 19,
     "metadata": {},
     "output_type": "execute_result"
    }
   ],
   "source": [
    "from sklearn import metrics\n",
    "def get_rmse(x_train, y_train, x_test,y_test):\n",
    "    results={}\n",
    "    \n",
    "    def rmse_model(clf):  \n",
    "        # train the model - teach the model\n",
    "        clf.fit(x_train, y_train)\n",
    "\n",
    "        # predict unseen data (test dat)\n",
    "        pred = clf.predict(x_test)\n",
    "\n",
    "        # RMSE\n",
    "        rmse_val_score = np.sqrt(mean_squared_error(y_test, pred))\n",
    "\n",
    "        scores=[rmse_val_score.mean()]\n",
    "        return scores\n",
    "\n",
    "    clf = linear_model.LinearRegression()\n",
    "    results[\"RMSE\"]=rmse_model(clf)\n",
    "\n",
    "    \n",
    "    results = pd.DataFrame.from_dict(results,orient='index')\n",
    "    results.columns=[\"RMSE Score\"] \n",
    "# #     results.plot(kind=\"bar\",title=\"Model Scores\")\n",
    "# #     axes = plt.gca()\n",
    "# #     axes.set_ylim([0.1,0.2])\n",
    "    return results\n",
    "\n",
    "# PCA model\n",
    "get_rmse(train_pca, train_y_orig, test_pca,test_y_orig)"
   ]
  },
  {
   "cell_type": "code",
   "execution_count": 20,
   "metadata": {
    "colab": {
     "base_uri": "https://localhost:8080/",
     "height": 81
    },
    "colab_type": "code",
    "id": "609ZDOKaMZau",
    "outputId": "c81c7b9e-a546-4606-f731-8ba2b8e88f9b"
   },
   "outputs": [
    {
     "data": {
      "text/html": [
       "<div>\n",
       "<style scoped>\n",
       "    .dataframe tbody tr th:only-of-type {\n",
       "        vertical-align: middle;\n",
       "    }\n",
       "\n",
       "    .dataframe tbody tr th {\n",
       "        vertical-align: top;\n",
       "    }\n",
       "\n",
       "    .dataframe thead th {\n",
       "        text-align: right;\n",
       "    }\n",
       "</style>\n",
       "<table border=\"1\" class=\"dataframe\">\n",
       "  <thead>\n",
       "    <tr style=\"text-align: right;\">\n",
       "      <th></th>\n",
       "      <th>R Square Score</th>\n",
       "    </tr>\n",
       "  </thead>\n",
       "  <tbody>\n",
       "    <tr>\n",
       "      <th>R-square</th>\n",
       "      <td>0.718021</td>\n",
       "    </tr>\n",
       "  </tbody>\n",
       "</table>\n",
       "</div>"
      ],
      "text/plain": [
       "          R Square Score\n",
       "R-square        0.718021"
      ]
     },
     "execution_count": 20,
     "metadata": {},
     "output_type": "execute_result"
    }
   ],
   "source": [
    "def get_r2(x_train, y_train, x_test,y_test):\n",
    "    results={}\n",
    "    \n",
    "    def r2_model(clf):  \n",
    "        # train the model - teach the model\n",
    "        clf.fit(x_train, y_train)\n",
    "\n",
    "        # predict unseen data (test dat)\n",
    "        pred = clf.predict(x_test)\n",
    "\n",
    "        # R2\n",
    "        r2_val_score = r2_score(y_test, pred)\n",
    "\n",
    "        scores=[r2_val_score.mean()]\n",
    "        return scores\n",
    "\n",
    "    clf = linear_model.LinearRegression()\n",
    "    results[\"R-square\"]=r2_model(clf)\n",
    "\n",
    "    \n",
    "    results = pd.DataFrame.from_dict(results,orient='index')\n",
    "    results.columns=[\"R Square Score\"]\n",
    "#     results.plot(kind=\"bar\",title=\"Model Scores\")\n",
    "#     axes = plt.gca()\n",
    "#     axes.set_ylim([0.5,1])\n",
    "    return results\n",
    "\n",
    "# PCA model\n",
    "get_r2(train_pca, train_y_orig, test_pca,test_y_orig)"
   ]
  },
  {
   "cell_type": "code",
   "execution_count": 21,
   "metadata": {
    "colab": {},
    "colab_type": "code",
    "id": "brgyVAIfMZsF"
   },
   "outputs": [],
   "source": [
    "## Calculate the values for MAE, RMSE, R^2 received after applying PCA\n",
    "\n",
    "mae_pca = 1.28997\n",
    "rmse_pca = 2.86457\n",
    "r2_pca = 0.718021"
   ]
  },
  {
   "cell_type": "code",
   "execution_count": 22,
   "metadata": {
    "colab": {
     "base_uri": "https://localhost:8080/",
     "height": 885
    },
    "colab_type": "code",
    "id": "AEAry6jKMZ0t",
    "outputId": "04c19e27-1d3f-469a-c93b-97f425cd7dfd"
   },
   "outputs": [
    {
     "name": "stdout",
     "output_type": "stream",
     "text": [
      "[0]\tvalidation_0-rmse:11.06521\tvalidation_1-rmse:10.09185\n",
      "Multiple eval metrics have been passed: 'validation_1-rmse' will be used for early stopping.\n",
      "\n",
      "Will train until validation_1-rmse hasn't improved in 10 rounds.\n",
      "[1]\tvalidation_0-rmse:8.80864\tvalidation_1-rmse:7.87967\n",
      "[2]\tvalidation_0-rmse:7.51252\tvalidation_1-rmse:6.65623\n",
      "[3]\tvalidation_0-rmse:6.79131\tvalidation_1-rmse:6.01949\n",
      "[4]\tvalidation_0-rmse:6.32802\tvalidation_1-rmse:5.65257\n",
      "[5]\tvalidation_0-rmse:6.02610\tvalidation_1-rmse:5.45802\n",
      "[6]\tvalidation_0-rmse:5.88672\tvalidation_1-rmse:5.40083\n",
      "[7]\tvalidation_0-rmse:5.83534\tvalidation_1-rmse:5.39459\n",
      "[8]\tvalidation_0-rmse:5.81029\tvalidation_1-rmse:5.39881\n",
      "[9]\tvalidation_0-rmse:5.78718\tvalidation_1-rmse:5.41287\n",
      "[10]\tvalidation_0-rmse:5.77979\tvalidation_1-rmse:5.42226\n",
      "[11]\tvalidation_0-rmse:5.77213\tvalidation_1-rmse:5.43986\n",
      "[12]\tvalidation_0-rmse:5.77260\tvalidation_1-rmse:5.43827\n",
      "[13]\tvalidation_0-rmse:5.76939\tvalidation_1-rmse:5.45309\n",
      "[14]\tvalidation_0-rmse:5.76879\tvalidation_1-rmse:5.48567\n",
      "[15]\tvalidation_0-rmse:5.77180\tvalidation_1-rmse:5.50902\n",
      "[16]\tvalidation_0-rmse:5.76924\tvalidation_1-rmse:5.49056\n",
      "[17]\tvalidation_0-rmse:5.77044\tvalidation_1-rmse:5.50040\n",
      "Stopping. Best iteration:\n",
      "[7]\tvalidation_0-rmse:5.83534\tvalidation_1-rmse:5.39459\n",
      "\n"
     ]
    },
    {
     "data": {
      "text/plain": [
       "XGBRegressor(base_score=0.5, booster=None, colsample_bylevel=1,\n",
       "             colsample_bynode=1, colsample_bytree=0.8, eta=0.3, gamma=0,\n",
       "             gpu_id=-1, importance_type='gain', interaction_constraints=None,\n",
       "             learning_rate=0.300000012, max_delta_step=0, max_depth=8,\n",
       "             min_child_weight=300, missing=nan, monotone_constraints=None,\n",
       "             n_estimators=1000, n_jobs=0, num_parallel_tree=1,\n",
       "             objective='reg:squarederror', random_state=42, reg_alpha=0,\n",
       "             reg_lambda=1, scale_pos_weight=1, seed=42, subsample=0.8,\n",
       "             tree_method=None, validate_parameters=False, verbosity=None)"
      ]
     },
     "execution_count": 22,
     "metadata": {},
     "output_type": "execute_result"
    }
   ],
   "source": [
    "#Reference: https://www.kaggle.com/dlarionov/feature-engineering-xgboost\n",
    "from xgboost import XGBRegressor\n",
    "from xgboost import plot_importance\n",
    "\n",
    "model = XGBRegressor(\n",
    "    max_depth=8,\n",
    "    n_estimators=1000,\n",
    "    min_child_weight=300, \n",
    "    colsample_bytree=0.8, \n",
    "    subsample=0.8, \n",
    "    eta=0.3,    \n",
    "    seed=42)\n",
    "\n",
    "model.fit(\n",
    "    X_train, \n",
    "    y_train, \n",
    "    eval_metric=\"rmse\", \n",
    "    eval_set=[(X_train, y_train), (X_test, y_test)], \n",
    "    verbose=True, \n",
    "    early_stopping_rounds = 10)"
   ]
  },
  {
   "cell_type": "markdown",
   "metadata": {
    "colab_type": "text",
    "id": "lzzMsdQXCi4Y"
   },
   "source": [
    "### 1.7 Evaluate your model\n"
   ]
  },
  {
   "cell_type": "code",
   "execution_count": 23,
   "metadata": {
    "colab": {
     "base_uri": "https://localhost:8080/",
     "height": 69
    },
    "colab_type": "code",
    "id": "j6MpxhjRAfCu",
    "outputId": "8d5d83a8-6b24-4bef-c322-399f3bf73b61"
   },
   "outputs": [
    {
     "name": "stdout",
     "output_type": "stream",
     "text": [
      "MAE difference after PCA:  -0.10788900000000012\n",
      "RMSE difference after PCA:  -1.336838\n",
      "R2 difference after PCA:  0.20177599999999996\n"
     ]
    }
   ],
   "source": [
    "#TODO\n",
    "print(\"MAE difference after PCA: \", mae-mae_pca)\n",
    "print(\"RMSE difference after PCA: \", rmse-rmse_pca)\n",
    "print(\"R2 difference after PCA: \", r2-r2_pca)"
   ]
  },
  {
   "cell_type": "markdown",
   "metadata": {
    "colab_type": "text",
    "id": "V4CsN8g9DUQd"
   },
   "source": [
    "================================================================================================================"
   ]
  },
  {
   "cell_type": "code",
   "execution_count": 24,
   "metadata": {
    "colab": {
     "base_uri": "https://localhost:8080/",
     "height": 34
    },
    "colab_type": "code",
    "id": "0VPQFVpyFQTC",
    "outputId": "c39e98db-b95f-4baf-a985-c1667d48de22"
   },
   "outputs": [
    {
     "name": "stdout",
     "output_type": "stream",
     "text": [
      "Current Time = 02:19:38\n"
     ]
    }
   ],
   "source": [
    "from datetime import datetime\n",
    "\n",
    "now = datetime.now()\n",
    "\n",
    "current_time = now.strftime(\"%H:%M:%S\")\n",
    "print(\"Current Time =\", current_time)"
   ]
  },
  {
   "cell_type": "markdown",
   "metadata": {
    "colab_type": "text",
    "id": "DnMXz-ELDoFi"
   },
   "source": [
    "# Part 2 (15 points):\n",
    "\n",
    "### **<font color='red'>This part of the exercise is task specific. You can choose to solve the problem A or B. Choose the one you feel more comfortable with.</font>**\n",
    "\n",
    "\n"
   ]
  },
  {
   "cell_type": "markdown",
   "metadata": {
    "colab_type": "text",
    "id": "Bmdsn6tMrME6"
   },
   "source": [
    "\n",
    "# **<font color='red'> A. Uplift modelling </font>**\n",
    "\n",
    "You have to deal with uplift modelling based on these steps:\n",
    "\n",
    "1. Split the users in 4 categories, describe what each category represents and how many users belong to that category.\n",
    "\n",
    "2. Calculate the uplift score for all the users (Using XGBoost or other predictors).\n",
    "\n",
    "3. Use a visualization method of choice and visualize the uplift scores for all the users. List at least one conclusion that you can derive from the visualization.\n",
    "\n",
    "4. Describe the marketing approaches that you would like to suggest for different levels of uplift. \n"
   ]
  },
  {
   "cell_type": "code",
   "execution_count": 25,
   "metadata": {
    "colab": {},
    "colab_type": "code",
    "id": "sVWd0s0T5MoR"
   },
   "outputs": [],
   "source": [
    "# !pip install chart_studio"
   ]
  },
  {
   "cell_type": "code",
   "execution_count": 26,
   "metadata": {
    "colab": {},
    "colab_type": "code",
    "id": "xY6x2d835H7p"
   },
   "outputs": [],
   "source": [
    "# Library needed\n",
    "from __future__ import division\n",
    "\n",
    "from datetime import datetime, timedelta,date\n",
    "import pandas as pd\n",
    "%matplotlib inline\n",
    "from sklearn.metrics import classification_report,confusion_matrix\n",
    "import matplotlib.pyplot as plt\n",
    "import numpy as np\n",
    "import seaborn as sns\n",
    "from sklearn.cluster import KMeans\n",
    "\n",
    "import chart_studio.plotly as py\n",
    "import plotly.offline as pyoff\n",
    "import plotly.graph_objs as go\n",
    "\n",
    "import sklearn\n",
    "import xgboost as xgb\n",
    "from sklearn.model_selection import KFold, cross_val_score, train_test_split\n",
    "import warnings\n",
    "warnings.filterwarnings(\"ignore\")"
   ]
  },
  {
   "cell_type": "code",
   "execution_count": 27,
   "metadata": {
    "colab": {
     "base_uri": "https://localhost:8080/",
     "height": 226
    },
    "colab_type": "code",
    "id": "uBtisjOwWAAs",
    "outputId": "1c70d508-bf7f-4751-8ad2-2c0f8f1a18ee"
   },
   "outputs": [
    {
     "data": {
      "text/html": [
       "<div>\n",
       "<style scoped>\n",
       "    .dataframe tbody tr th:only-of-type {\n",
       "        vertical-align: middle;\n",
       "    }\n",
       "\n",
       "    .dataframe tbody tr th {\n",
       "        vertical-align: top;\n",
       "    }\n",
       "\n",
       "    .dataframe thead th {\n",
       "        text-align: right;\n",
       "    }\n",
       "</style>\n",
       "<table border=\"1\" class=\"dataframe\">\n",
       "  <thead>\n",
       "    <tr style=\"text-align: right;\">\n",
       "      <th></th>\n",
       "      <th>f0</th>\n",
       "      <th>f1</th>\n",
       "      <th>f2</th>\n",
       "      <th>f3</th>\n",
       "      <th>f4</th>\n",
       "      <th>f5</th>\n",
       "      <th>f6</th>\n",
       "      <th>f7</th>\n",
       "      <th>f8</th>\n",
       "      <th>f9</th>\n",
       "      <th>f10</th>\n",
       "      <th>f11</th>\n",
       "      <th>treatment</th>\n",
       "      <th>conversion</th>\n",
       "      <th>visit</th>\n",
       "      <th>exposure</th>\n",
       "    </tr>\n",
       "  </thead>\n",
       "  <tbody>\n",
       "    <tr>\n",
       "      <th>0</th>\n",
       "      <td>19.488788</td>\n",
       "      <td>10.059654</td>\n",
       "      <td>8.214383</td>\n",
       "      <td>3.907662</td>\n",
       "      <td>10.280525</td>\n",
       "      <td>4.115453</td>\n",
       "      <td>-1.288207</td>\n",
       "      <td>4.833815</td>\n",
       "      <td>3.971858</td>\n",
       "      <td>13.190056</td>\n",
       "      <td>5.300375</td>\n",
       "      <td>-0.168679</td>\n",
       "      <td>1</td>\n",
       "      <td>0</td>\n",
       "      <td>0</td>\n",
       "      <td>0</td>\n",
       "    </tr>\n",
       "    <tr>\n",
       "      <th>1</th>\n",
       "      <td>21.499191</td>\n",
       "      <td>10.059654</td>\n",
       "      <td>8.214383</td>\n",
       "      <td>4.679882</td>\n",
       "      <td>10.280525</td>\n",
       "      <td>4.115453</td>\n",
       "      <td>-2.411115</td>\n",
       "      <td>4.833815</td>\n",
       "      <td>3.971858</td>\n",
       "      <td>13.190056</td>\n",
       "      <td>5.300375</td>\n",
       "      <td>-0.168679</td>\n",
       "      <td>1</td>\n",
       "      <td>0</td>\n",
       "      <td>0</td>\n",
       "      <td>0</td>\n",
       "    </tr>\n",
       "    <tr>\n",
       "      <th>2</th>\n",
       "      <td>22.250708</td>\n",
       "      <td>10.059654</td>\n",
       "      <td>8.214383</td>\n",
       "      <td>4.679882</td>\n",
       "      <td>10.280525</td>\n",
       "      <td>4.115453</td>\n",
       "      <td>-1.288207</td>\n",
       "      <td>4.833815</td>\n",
       "      <td>3.971858</td>\n",
       "      <td>13.190056</td>\n",
       "      <td>5.300375</td>\n",
       "      <td>-0.168679</td>\n",
       "      <td>1</td>\n",
       "      <td>0</td>\n",
       "      <td>0</td>\n",
       "      <td>0</td>\n",
       "    </tr>\n",
       "    <tr>\n",
       "      <th>3</th>\n",
       "      <td>12.616365</td>\n",
       "      <td>10.059654</td>\n",
       "      <td>8.749045</td>\n",
       "      <td>4.679882</td>\n",
       "      <td>10.280525</td>\n",
       "      <td>4.115453</td>\n",
       "      <td>0.294443</td>\n",
       "      <td>4.833815</td>\n",
       "      <td>3.915574</td>\n",
       "      <td>13.190056</td>\n",
       "      <td>5.300375</td>\n",
       "      <td>-0.168679</td>\n",
       "      <td>1</td>\n",
       "      <td>0</td>\n",
       "      <td>0</td>\n",
       "      <td>0</td>\n",
       "    </tr>\n",
       "    <tr>\n",
       "      <th>4</th>\n",
       "      <td>24.304403</td>\n",
       "      <td>10.059654</td>\n",
       "      <td>8.860713</td>\n",
       "      <td>4.679882</td>\n",
       "      <td>10.280525</td>\n",
       "      <td>4.115453</td>\n",
       "      <td>-6.699321</td>\n",
       "      <td>4.833815</td>\n",
       "      <td>3.892853</td>\n",
       "      <td>13.190056</td>\n",
       "      <td>5.300375</td>\n",
       "      <td>-0.168679</td>\n",
       "      <td>1</td>\n",
       "      <td>0</td>\n",
       "      <td>0</td>\n",
       "      <td>0</td>\n",
       "    </tr>\n",
       "  </tbody>\n",
       "</table>\n",
       "</div>"
      ],
      "text/plain": [
       "          f0         f1        f2        f3         f4        f5        f6  \\\n",
       "0  19.488788  10.059654  8.214383  3.907662  10.280525  4.115453 -1.288207   \n",
       "1  21.499191  10.059654  8.214383  4.679882  10.280525  4.115453 -2.411115   \n",
       "2  22.250708  10.059654  8.214383  4.679882  10.280525  4.115453 -1.288207   \n",
       "3  12.616365  10.059654  8.749045  4.679882  10.280525  4.115453  0.294443   \n",
       "4  24.304403  10.059654  8.860713  4.679882  10.280525  4.115453 -6.699321   \n",
       "\n",
       "         f7        f8         f9       f10       f11  treatment  conversion  \\\n",
       "0  4.833815  3.971858  13.190056  5.300375 -0.168679          1           0   \n",
       "1  4.833815  3.971858  13.190056  5.300375 -0.168679          1           0   \n",
       "2  4.833815  3.971858  13.190056  5.300375 -0.168679          1           0   \n",
       "3  4.833815  3.915574  13.190056  5.300375 -0.168679          1           0   \n",
       "4  4.833815  3.892853  13.190056  5.300375 -0.168679          1           0   \n",
       "\n",
       "   visit  exposure  \n",
       "0      0         0  \n",
       "1      0         0  \n",
       "2      0         0  \n",
       "3      0         0  \n",
       "4      0         0  "
      ]
     },
     "execution_count": 27,
     "metadata": {},
     "output_type": "execute_result"
    }
   ],
   "source": [
    "import pandas as pd\n",
    "sheet_url = 'https://docs.google.com/spreadsheets/d/18qYsJlsbYT4uDuWIj3AdIHvKp2aGSPjkRaCzUfvitOQ/edit#gid=812678412'\n",
    "csv_export_url = sheet_url.replace('/edit#gid=', '/export?format=csv&gid=')\n",
    "cs = pd.read_csv(csv_export_url, )\n",
    "cs.head()"
   ]
  },
  {
   "cell_type": "markdown",
   "metadata": {
    "colab_type": "text",
    "id": "FCzxOzDbFN7j"
   },
   "source": [
    "### 2.1 User categorization"
   ]
  },
  {
   "cell_type": "code",
   "execution_count": 28,
   "metadata": {
    "colab": {},
    "colab_type": "code",
    "id": "3ne18JBs6LHT"
   },
   "outputs": [],
   "source": [
    "# cs.treatment.value_counts()\n",
    "# cs.conversion.value_counts()\n",
    "# cs.visit.value_counts()\n",
    "# cs.exposure.value_counts()"
   ]
  },
  {
   "cell_type": "code",
   "execution_count": 29,
   "metadata": {
    "colab": {
     "base_uri": "https://localhost:8080/",
     "height": 226
    },
    "colab_type": "code",
    "id": "FkURMqyLDNeO",
    "outputId": "f5aa5e46-7fac-48ab-89e4-4a934049cd43"
   },
   "outputs": [
    {
     "data": {
      "text/html": [
       "<div>\n",
       "<style scoped>\n",
       "    .dataframe tbody tr th:only-of-type {\n",
       "        vertical-align: middle;\n",
       "    }\n",
       "\n",
       "    .dataframe tbody tr th {\n",
       "        vertical-align: top;\n",
       "    }\n",
       "\n",
       "    .dataframe thead th {\n",
       "        text-align: right;\n",
       "    }\n",
       "</style>\n",
       "<table border=\"1\" class=\"dataframe\">\n",
       "  <thead>\n",
       "    <tr style=\"text-align: right;\">\n",
       "      <th></th>\n",
       "      <th>f0</th>\n",
       "      <th>f1</th>\n",
       "      <th>f2</th>\n",
       "      <th>f3</th>\n",
       "      <th>f4</th>\n",
       "      <th>f5</th>\n",
       "      <th>f6</th>\n",
       "      <th>f7</th>\n",
       "      <th>f8</th>\n",
       "      <th>f9</th>\n",
       "      <th>f10</th>\n",
       "      <th>f11</th>\n",
       "      <th>treatment</th>\n",
       "      <th>conversion</th>\n",
       "      <th>visit</th>\n",
       "      <th>exposure</th>\n",
       "      <th>target_class</th>\n",
       "    </tr>\n",
       "  </thead>\n",
       "  <tbody>\n",
       "    <tr>\n",
       "      <th>0</th>\n",
       "      <td>19.488788</td>\n",
       "      <td>10.059654</td>\n",
       "      <td>8.214383</td>\n",
       "      <td>3.907662</td>\n",
       "      <td>10.280525</td>\n",
       "      <td>4.115453</td>\n",
       "      <td>-1.288207</td>\n",
       "      <td>4.833815</td>\n",
       "      <td>3.971858</td>\n",
       "      <td>13.190056</td>\n",
       "      <td>5.300375</td>\n",
       "      <td>-0.168679</td>\n",
       "      <td>1</td>\n",
       "      <td>0</td>\n",
       "      <td>0</td>\n",
       "      <td>0</td>\n",
       "      <td>2</td>\n",
       "    </tr>\n",
       "    <tr>\n",
       "      <th>1</th>\n",
       "      <td>21.499191</td>\n",
       "      <td>10.059654</td>\n",
       "      <td>8.214383</td>\n",
       "      <td>4.679882</td>\n",
       "      <td>10.280525</td>\n",
       "      <td>4.115453</td>\n",
       "      <td>-2.411115</td>\n",
       "      <td>4.833815</td>\n",
       "      <td>3.971858</td>\n",
       "      <td>13.190056</td>\n",
       "      <td>5.300375</td>\n",
       "      <td>-0.168679</td>\n",
       "      <td>1</td>\n",
       "      <td>0</td>\n",
       "      <td>0</td>\n",
       "      <td>0</td>\n",
       "      <td>2</td>\n",
       "    </tr>\n",
       "    <tr>\n",
       "      <th>2</th>\n",
       "      <td>22.250708</td>\n",
       "      <td>10.059654</td>\n",
       "      <td>8.214383</td>\n",
       "      <td>4.679882</td>\n",
       "      <td>10.280525</td>\n",
       "      <td>4.115453</td>\n",
       "      <td>-1.288207</td>\n",
       "      <td>4.833815</td>\n",
       "      <td>3.971858</td>\n",
       "      <td>13.190056</td>\n",
       "      <td>5.300375</td>\n",
       "      <td>-0.168679</td>\n",
       "      <td>1</td>\n",
       "      <td>0</td>\n",
       "      <td>0</td>\n",
       "      <td>0</td>\n",
       "      <td>2</td>\n",
       "    </tr>\n",
       "    <tr>\n",
       "      <th>3</th>\n",
       "      <td>12.616365</td>\n",
       "      <td>10.059654</td>\n",
       "      <td>8.749045</td>\n",
       "      <td>4.679882</td>\n",
       "      <td>10.280525</td>\n",
       "      <td>4.115453</td>\n",
       "      <td>0.294443</td>\n",
       "      <td>4.833815</td>\n",
       "      <td>3.915574</td>\n",
       "      <td>13.190056</td>\n",
       "      <td>5.300375</td>\n",
       "      <td>-0.168679</td>\n",
       "      <td>1</td>\n",
       "      <td>0</td>\n",
       "      <td>0</td>\n",
       "      <td>0</td>\n",
       "      <td>2</td>\n",
       "    </tr>\n",
       "    <tr>\n",
       "      <th>4</th>\n",
       "      <td>24.304403</td>\n",
       "      <td>10.059654</td>\n",
       "      <td>8.860713</td>\n",
       "      <td>4.679882</td>\n",
       "      <td>10.280525</td>\n",
       "      <td>4.115453</td>\n",
       "      <td>-6.699321</td>\n",
       "      <td>4.833815</td>\n",
       "      <td>3.892853</td>\n",
       "      <td>13.190056</td>\n",
       "      <td>5.300375</td>\n",
       "      <td>-0.168679</td>\n",
       "      <td>1</td>\n",
       "      <td>0</td>\n",
       "      <td>0</td>\n",
       "      <td>0</td>\n",
       "      <td>2</td>\n",
       "    </tr>\n",
       "  </tbody>\n",
       "</table>\n",
       "</div>"
      ],
      "text/plain": [
       "          f0         f1        f2        f3         f4        f5        f6  \\\n",
       "0  19.488788  10.059654  8.214383  3.907662  10.280525  4.115453 -1.288207   \n",
       "1  21.499191  10.059654  8.214383  4.679882  10.280525  4.115453 -2.411115   \n",
       "2  22.250708  10.059654  8.214383  4.679882  10.280525  4.115453 -1.288207   \n",
       "3  12.616365  10.059654  8.749045  4.679882  10.280525  4.115453  0.294443   \n",
       "4  24.304403  10.059654  8.860713  4.679882  10.280525  4.115453 -6.699321   \n",
       "\n",
       "         f7        f8         f9       f10       f11  treatment  conversion  \\\n",
       "0  4.833815  3.971858  13.190056  5.300375 -0.168679          1           0   \n",
       "1  4.833815  3.971858  13.190056  5.300375 -0.168679          1           0   \n",
       "2  4.833815  3.971858  13.190056  5.300375 -0.168679          1           0   \n",
       "3  4.833815  3.915574  13.190056  5.300375 -0.168679          1           0   \n",
       "4  4.833815  3.892853  13.190056  5.300375 -0.168679          1           0   \n",
       "\n",
       "   visit  exposure  target_class  \n",
       "0      0         0             2  \n",
       "1      0         0             2  \n",
       "2      0         0             2  \n",
       "3      0         0             2  \n",
       "4      0         0             2  "
      ]
     },
     "execution_count": 29,
     "metadata": {},
     "output_type": "execute_result"
    }
   ],
   "source": [
    "# Create a target class\n",
    "cs['target_class'] = 0 #CN (Lost Causes)\n",
    "cs.loc[(cs.treatment == 0) & (cs.conversion > 0),'target_class'] = 1 #CR (Sure Things)\n",
    "cs.loc[(cs.treatment == 1) & (cs.conversion == 0),'target_class'] = 2 #TN (Sleeping Dogs)\n",
    "cs.loc[(cs.treatment == 1) & (cs.conversion > 0),'target_class'] = 3 #TR (Persuadables)\n",
    "cs.head()"
   ]
  },
  {
   "cell_type": "code",
   "execution_count": 30,
   "metadata": {
    "colab": {
     "base_uri": "https://localhost:8080/",
     "height": 104
    },
    "colab_type": "code",
    "id": "RQX8UImZ7ZdH",
    "outputId": "d27134b0-65eb-4de5-f861-abf8a3d5a122"
   },
   "outputs": [
    {
     "data": {
      "text/plain": [
       "2    8508\n",
       "0    1462\n",
       "3      26\n",
       "1       4\n",
       "Name: target_class, dtype: int64"
      ]
     },
     "execution_count": 30,
     "metadata": {},
     "output_type": "execute_result"
    }
   ],
   "source": [
    "cs.target_class.value_counts()"
   ]
  },
  {
   "cell_type": "code",
   "execution_count": 31,
   "metadata": {
    "colab": {
     "base_uri": "https://localhost:8080/",
     "height": 156
    },
    "colab_type": "code",
    "id": "HDw9V5mk7tBA",
    "outputId": "946ca9c4-e43c-47bd-e94d-5a5f9cad0402"
   },
   "outputs": [
    {
     "name": "stdout",
     "output_type": "stream",
     "text": [
      "CN: 8508\n",
      "\n",
      "CR: 1462\n",
      "\n",
      "TN: 26\n",
      "\n",
      "TR: 4\n",
      "\n"
     ]
    }
   ],
   "source": [
    "# in total counts\n",
    "gr = ['CN', 'CR', \"TN\", \"TR\"]\n",
    "i=0\n",
    "for d in cs.target_class.value_counts():\n",
    "  print(f\"{gr[i]}: {d}\\n\")\n",
    "  i+=1"
   ]
  },
  {
   "cell_type": "code",
   "execution_count": 32,
   "metadata": {
    "colab": {
     "base_uri": "https://localhost:8080/",
     "height": 156
    },
    "colab_type": "code",
    "id": "BGGN9Zy57y6N",
    "outputId": "fe322b4b-c467-4d51-cfc5-b982664e6ece"
   },
   "outputs": [
    {
     "name": "stdout",
     "output_type": "stream",
     "text": [
      "CN: 85.08%\n",
      "\n",
      "CR: 14.62%\n",
      "\n",
      "TN: 0.26%\n",
      "\n",
      "TR: 0.04%\n",
      "\n"
     ]
    }
   ],
   "source": [
    "# in percentage\n",
    "gr = ['CN', 'CR', \"TN\", \"TR\"]\n",
    "i=0\n",
    "for d in cs.target_class.value_counts()/len(cs) * 100:\n",
    "  print(\"{}: {}%\\n\".format(gr[i], np.round(d, 2)))\n",
    "#   print(f\"{gr[i]}: {d}%\\n\")\n",
    "  i+=1"
   ]
  },
  {
   "cell_type": "markdown",
   "metadata": {
    "colab_type": "text",
    "id": "FAnPAc4PFX9X"
   },
   "source": [
    "### 2.2 Uplift scores"
   ]
  },
  {
   "cell_type": "code",
   "execution_count": 33,
   "metadata": {
    "colab": {},
    "colab_type": "code",
    "id": "sriNbOZsBPlb"
   },
   "outputs": [],
   "source": [
    "#function for calculating the uplift\n",
    "#assuming exposure as the segment to predict\n",
    "\n",
    "def calc_uplift(df):\n",
    "    avg_order_value = 25\n",
    "    \n",
    "    #calculate conversions for each segment type\n",
    "    # base_conv = df[df.segment == 'No E-Mail']['conversion'].mean()\n",
    "    base_conv = 0\n",
    "    exp0_conv = df[df.exposure == 0]['conversion'].mean()\n",
    "    exp1_conv = df[df.exposure == 1]['conversion'].mean()\n",
    "    \n",
    "    #calculate conversion uplift for discount and bogo\n",
    "    exp0_conv_uplift = exp0_conv - base_conv   # uplift = treated - contolr\n",
    "    exp1_conv_uplift = exp1_conv - base_conv   # uplift = treated - contolr\n",
    "    \n",
    "    #calculate order uplift\n",
    "    exp0_order_uplift = exp0_conv_uplift * len(df[df.exposure == 0]['conversion'])\n",
    "    exp1_order_uplift = exp1_conv_uplift * len(df[df.exposure == 1]['conversion'])\n",
    "    \n",
    "    #calculate revenue uplift\n",
    "    exp0_rev_uplift = exp0_order_uplift * avg_order_value\n",
    "    exp1_rev_uplift = exp1_order_uplift * avg_order_value\n",
    "    \n",
    "    if len(df[df.exposure == 0]['conversion']) > 0:\n",
    "        print(f\"Total Targeted Customer Count: {len(df[df.exposure == 0]['conversion'])}\")\n",
    "        print('Exposure 0 Conversion Uplift: {0}%'.format(np.round(exp0_conv_uplift*100,2))) # uplitf score %\n",
    "        print('Exposure 0 Order Uplift: {0}'.format(np.round(exp0_order_uplift,2)))\n",
    "        print('Exposure 0 Revenue Uplift: ${0}'.format(np.round(exp0_rev_uplift,2)))\n",
    "        print(\"Revenue Uplift Per Targeted Customer: ${}\\n\".format(np.round(exp0_rev_uplift/len(df[df.exposure == 0]['conversion']), 2)))\n",
    "#         print(\"Revenue Uplift Per Targeted Customer: { } \\n}\".forma)\n",
    "    \n",
    "    if len(df[df.exposure == 1]['conversion']) > 0:\n",
    "        print('-------------- \\n')\n",
    "        print(f\"Total Targeted Customer Count: { len(df[df.exposure == 1]['conversion'])}\")\n",
    "        print('Exposure 1 Conversion Uplift: {0}%'.format(np.round(exp1_conv_uplift*100,2))) # uplift sore\n",
    "        print('Exposure 1 Order Uplift: {0}'.format(np.round(exp1_order_uplift,2)))\n",
    "        print('Exposure 1 Revenue Uplift: ${0}'.format(np.round(exp1_rev_uplift,2)))\n",
    "        print(\"Revenue Uplift Per Targeted Customer: ${}\\n\".format(np.round(exp1_rev_uplift/len(df[df.exposure == 1]['conversion']), 2)))\n",
    "    "
   ]
  },
  {
   "cell_type": "code",
   "execution_count": 34,
   "metadata": {
    "colab": {},
    "colab_type": "code",
    "id": "KzRd4b2u9-Xa"
   },
   "outputs": [],
   "source": [
    "# cs"
   ]
  },
  {
   "cell_type": "code",
   "execution_count": 35,
   "metadata": {
    "colab": {
     "base_uri": "https://localhost:8080/",
     "height": 206
    },
    "colab_type": "code",
    "id": "FqiuJeB999BT",
    "outputId": "bbebce46-e1f2-4192-cd0b-7b9756012302"
   },
   "outputs": [
    {
     "data": {
      "text/html": [
       "<div>\n",
       "<style scoped>\n",
       "    .dataframe tbody tr th:only-of-type {\n",
       "        vertical-align: middle;\n",
       "    }\n",
       "\n",
       "    .dataframe tbody tr th {\n",
       "        vertical-align: top;\n",
       "    }\n",
       "\n",
       "    .dataframe thead th {\n",
       "        text-align: right;\n",
       "    }\n",
       "</style>\n",
       "<table border=\"1\" class=\"dataframe\">\n",
       "  <thead>\n",
       "    <tr style=\"text-align: right;\">\n",
       "      <th></th>\n",
       "      <th>f0</th>\n",
       "      <th>f1</th>\n",
       "      <th>f2</th>\n",
       "      <th>f3</th>\n",
       "      <th>f4</th>\n",
       "      <th>f5</th>\n",
       "      <th>f6</th>\n",
       "      <th>f7</th>\n",
       "      <th>f8</th>\n",
       "      <th>f9</th>\n",
       "      <th>f10</th>\n",
       "      <th>f11</th>\n",
       "      <th>target_class</th>\n",
       "    </tr>\n",
       "  </thead>\n",
       "  <tbody>\n",
       "    <tr>\n",
       "      <th>0</th>\n",
       "      <td>19.488788</td>\n",
       "      <td>10.059654</td>\n",
       "      <td>8.214383</td>\n",
       "      <td>3.907662</td>\n",
       "      <td>10.280525</td>\n",
       "      <td>4.115453</td>\n",
       "      <td>-1.288207</td>\n",
       "      <td>4.833815</td>\n",
       "      <td>3.971858</td>\n",
       "      <td>13.190056</td>\n",
       "      <td>5.300375</td>\n",
       "      <td>-0.168679</td>\n",
       "      <td>2</td>\n",
       "    </tr>\n",
       "    <tr>\n",
       "      <th>1</th>\n",
       "      <td>21.499191</td>\n",
       "      <td>10.059654</td>\n",
       "      <td>8.214383</td>\n",
       "      <td>4.679882</td>\n",
       "      <td>10.280525</td>\n",
       "      <td>4.115453</td>\n",
       "      <td>-2.411115</td>\n",
       "      <td>4.833815</td>\n",
       "      <td>3.971858</td>\n",
       "      <td>13.190056</td>\n",
       "      <td>5.300375</td>\n",
       "      <td>-0.168679</td>\n",
       "      <td>2</td>\n",
       "    </tr>\n",
       "    <tr>\n",
       "      <th>2</th>\n",
       "      <td>22.250708</td>\n",
       "      <td>10.059654</td>\n",
       "      <td>8.214383</td>\n",
       "      <td>4.679882</td>\n",
       "      <td>10.280525</td>\n",
       "      <td>4.115453</td>\n",
       "      <td>-1.288207</td>\n",
       "      <td>4.833815</td>\n",
       "      <td>3.971858</td>\n",
       "      <td>13.190056</td>\n",
       "      <td>5.300375</td>\n",
       "      <td>-0.168679</td>\n",
       "      <td>2</td>\n",
       "    </tr>\n",
       "    <tr>\n",
       "      <th>3</th>\n",
       "      <td>12.616365</td>\n",
       "      <td>10.059654</td>\n",
       "      <td>8.749045</td>\n",
       "      <td>4.679882</td>\n",
       "      <td>10.280525</td>\n",
       "      <td>4.115453</td>\n",
       "      <td>0.294443</td>\n",
       "      <td>4.833815</td>\n",
       "      <td>3.915574</td>\n",
       "      <td>13.190056</td>\n",
       "      <td>5.300375</td>\n",
       "      <td>-0.168679</td>\n",
       "      <td>2</td>\n",
       "    </tr>\n",
       "    <tr>\n",
       "      <th>4</th>\n",
       "      <td>24.304403</td>\n",
       "      <td>10.059654</td>\n",
       "      <td>8.860713</td>\n",
       "      <td>4.679882</td>\n",
       "      <td>10.280525</td>\n",
       "      <td>4.115453</td>\n",
       "      <td>-6.699321</td>\n",
       "      <td>4.833815</td>\n",
       "      <td>3.892853</td>\n",
       "      <td>13.190056</td>\n",
       "      <td>5.300375</td>\n",
       "      <td>-0.168679</td>\n",
       "      <td>2</td>\n",
       "    </tr>\n",
       "  </tbody>\n",
       "</table>\n",
       "</div>"
      ],
      "text/plain": [
       "          f0         f1        f2        f3         f4        f5        f6  \\\n",
       "0  19.488788  10.059654  8.214383  3.907662  10.280525  4.115453 -1.288207   \n",
       "1  21.499191  10.059654  8.214383  4.679882  10.280525  4.115453 -2.411115   \n",
       "2  22.250708  10.059654  8.214383  4.679882  10.280525  4.115453 -1.288207   \n",
       "3  12.616365  10.059654  8.749045  4.679882  10.280525  4.115453  0.294443   \n",
       "4  24.304403  10.059654  8.860713  4.679882  10.280525  4.115453 -6.699321   \n",
       "\n",
       "         f7        f8         f9       f10       f11  target_class  \n",
       "0  4.833815  3.971858  13.190056  5.300375 -0.168679             2  \n",
       "1  4.833815  3.971858  13.190056  5.300375 -0.168679             2  \n",
       "2  4.833815  3.971858  13.190056  5.300375 -0.168679             2  \n",
       "3  4.833815  3.915574  13.190056  5.300375 -0.168679             2  \n",
       "4  4.833815  3.892853  13.190056  5.300375 -0.168679             2  "
      ]
     },
     "execution_count": 35,
     "metadata": {},
     "output_type": "execute_result"
    }
   ],
   "source": [
    "#creating a new dataframe as model and dropping columns that defines the label\n",
    "df_model = cs.drop(['treatment','conversion','visit', 'exposure'],axis=1)\n",
    "#convert categorical columns\n",
    "# df_model = pd.get_dummies(df_model)\n",
    "\n",
    "df_model.head()"
   ]
  },
  {
   "cell_type": "code",
   "execution_count": 36,
   "metadata": {
    "colab": {},
    "colab_type": "code",
    "id": "b8grh4TS-2JL"
   },
   "outputs": [],
   "source": [
    "#create feature set and labels\n",
    "X = df_model.drop(['target_class'],axis=1)\n",
    "y = df_model.target_class\n",
    "\n",
    "#splitting train and test groups\n",
    "X_train, X_test, y_train, y_test = train_test_split(X, y, test_size=0.2, random_state=56)\n",
    "\n",
    "#fitting the model and predicting the probabilities\n",
    "xgb_model = xgb.XGBClassifier().fit(X_train, y_train)\n",
    "class_probs = xgb_model.predict_proba(X_test)"
   ]
  },
  {
   "cell_type": "code",
   "execution_count": 37,
   "metadata": {
    "colab": {
     "base_uri": "https://localhost:8080/",
     "height": 156
    },
    "colab_type": "code",
    "id": "4FJpFrk5-5kP",
    "outputId": "a59df2d5-b148-43ad-b851-c12e28453cf1"
   },
   "outputs": [
    {
     "name": "stdout",
     "output_type": "stream",
     "text": [
      "CN: 0.115070\n",
      "\n",
      "CR: 0.000025\n",
      "\n",
      "TN: 0.884886\n",
      "\n",
      "TR: 0.000019\n",
      "\n"
     ]
    }
   ],
   "source": [
    "gr = ['CN', 'CR', \"TN\", \"TR\"]\n",
    "i=0\n",
    "for d in class_probs[0]:\n",
    "  print(\"{}: {:f}\\n\".format(gr[i], d))\n",
    "#   print(f\"{gr[i]}: {d}\\n\")\n",
    "  i+=1"
   ]
  },
  {
   "cell_type": "code",
   "execution_count": 38,
   "metadata": {
    "colab": {},
    "colab_type": "code",
    "id": "-j860dHt9glv"
   },
   "outputs": [],
   "source": [
    "#probabilities for all customers\n",
    "overall_proba = xgb_model.predict_proba(df_model.drop(['target_class'],axis=1))\n",
    "\n",
    "#assign probabilities to 4 different columns\n",
    "df_model['proba_CN'] = overall_proba[:,0] \n",
    "df_model['proba_CR'] = overall_proba[:,1] \n",
    "df_model['proba_TN'] = overall_proba[:,2] \n",
    "df_model['proba_TR'] = overall_proba[:,3]\n",
    "\n",
    "#calculate uplift score for all customers\n",
    "df_model['uplift_score'] = df_model.eval('proba_CN + proba_TR - proba_TN - proba_CR')\n",
    "\n",
    "# #assign it back to main dataframe\n",
    "cs['uplift_score'] = df_model['uplift_score']"
   ]
  },
  {
   "cell_type": "code",
   "execution_count": 39,
   "metadata": {
    "colab": {
     "base_uri": "https://localhost:8080/",
     "height": 444
    },
    "colab_type": "code",
    "id": "wwbE0oVJ9gxh",
    "outputId": "1e42c16d-58e4-4329-b82d-e62a3729b237"
   },
   "outputs": [
    {
     "data": {
      "text/html": [
       "<div>\n",
       "<style scoped>\n",
       "    .dataframe tbody tr th:only-of-type {\n",
       "        vertical-align: middle;\n",
       "    }\n",
       "\n",
       "    .dataframe tbody tr th {\n",
       "        vertical-align: top;\n",
       "    }\n",
       "\n",
       "    .dataframe thead th {\n",
       "        text-align: right;\n",
       "    }\n",
       "</style>\n",
       "<table border=\"1\" class=\"dataframe\">\n",
       "  <thead>\n",
       "    <tr style=\"text-align: right;\">\n",
       "      <th></th>\n",
       "      <th>f0</th>\n",
       "      <th>f1</th>\n",
       "      <th>f2</th>\n",
       "      <th>f3</th>\n",
       "      <th>f4</th>\n",
       "      <th>f5</th>\n",
       "      <th>f6</th>\n",
       "      <th>f7</th>\n",
       "      <th>f8</th>\n",
       "      <th>f9</th>\n",
       "      <th>f10</th>\n",
       "      <th>f11</th>\n",
       "      <th>treatment</th>\n",
       "      <th>conversion</th>\n",
       "      <th>visit</th>\n",
       "      <th>exposure</th>\n",
       "      <th>target_class</th>\n",
       "      <th>uplift_score</th>\n",
       "    </tr>\n",
       "  </thead>\n",
       "  <tbody>\n",
       "    <tr>\n",
       "      <th>0</th>\n",
       "      <td>19.488788</td>\n",
       "      <td>10.059654</td>\n",
       "      <td>8.214383</td>\n",
       "      <td>3.907662</td>\n",
       "      <td>10.280525</td>\n",
       "      <td>4.115453</td>\n",
       "      <td>-1.288207</td>\n",
       "      <td>4.833815</td>\n",
       "      <td>3.971858</td>\n",
       "      <td>13.190056</td>\n",
       "      <td>5.300375</td>\n",
       "      <td>-0.168679</td>\n",
       "      <td>1</td>\n",
       "      <td>0</td>\n",
       "      <td>0</td>\n",
       "      <td>0</td>\n",
       "      <td>2</td>\n",
       "      <td>-0.839541</td>\n",
       "    </tr>\n",
       "    <tr>\n",
       "      <th>1</th>\n",
       "      <td>21.499191</td>\n",
       "      <td>10.059654</td>\n",
       "      <td>8.214383</td>\n",
       "      <td>4.679882</td>\n",
       "      <td>10.280525</td>\n",
       "      <td>4.115453</td>\n",
       "      <td>-2.411115</td>\n",
       "      <td>4.833815</td>\n",
       "      <td>3.971858</td>\n",
       "      <td>13.190056</td>\n",
       "      <td>5.300375</td>\n",
       "      <td>-0.168679</td>\n",
       "      <td>1</td>\n",
       "      <td>0</td>\n",
       "      <td>0</td>\n",
       "      <td>0</td>\n",
       "      <td>2</td>\n",
       "      <td>-0.640972</td>\n",
       "    </tr>\n",
       "    <tr>\n",
       "      <th>2</th>\n",
       "      <td>22.250708</td>\n",
       "      <td>10.059654</td>\n",
       "      <td>8.214383</td>\n",
       "      <td>4.679882</td>\n",
       "      <td>10.280525</td>\n",
       "      <td>4.115453</td>\n",
       "      <td>-1.288207</td>\n",
       "      <td>4.833815</td>\n",
       "      <td>3.971858</td>\n",
       "      <td>13.190056</td>\n",
       "      <td>5.300375</td>\n",
       "      <td>-0.168679</td>\n",
       "      <td>1</td>\n",
       "      <td>0</td>\n",
       "      <td>0</td>\n",
       "      <td>0</td>\n",
       "      <td>2</td>\n",
       "      <td>-0.601409</td>\n",
       "    </tr>\n",
       "    <tr>\n",
       "      <th>3</th>\n",
       "      <td>12.616365</td>\n",
       "      <td>10.059654</td>\n",
       "      <td>8.749045</td>\n",
       "      <td>4.679882</td>\n",
       "      <td>10.280525</td>\n",
       "      <td>4.115453</td>\n",
       "      <td>0.294443</td>\n",
       "      <td>4.833815</td>\n",
       "      <td>3.915574</td>\n",
       "      <td>13.190056</td>\n",
       "      <td>5.300375</td>\n",
       "      <td>-0.168679</td>\n",
       "      <td>1</td>\n",
       "      <td>0</td>\n",
       "      <td>0</td>\n",
       "      <td>0</td>\n",
       "      <td>2</td>\n",
       "      <td>-0.765051</td>\n",
       "    </tr>\n",
       "    <tr>\n",
       "      <th>4</th>\n",
       "      <td>24.304403</td>\n",
       "      <td>10.059654</td>\n",
       "      <td>8.860713</td>\n",
       "      <td>4.679882</td>\n",
       "      <td>10.280525</td>\n",
       "      <td>4.115453</td>\n",
       "      <td>-6.699321</td>\n",
       "      <td>4.833815</td>\n",
       "      <td>3.892853</td>\n",
       "      <td>13.190056</td>\n",
       "      <td>5.300375</td>\n",
       "      <td>-0.168679</td>\n",
       "      <td>1</td>\n",
       "      <td>0</td>\n",
       "      <td>0</td>\n",
       "      <td>0</td>\n",
       "      <td>2</td>\n",
       "      <td>-0.918729</td>\n",
       "    </tr>\n",
       "    <tr>\n",
       "      <th>...</th>\n",
       "      <td>...</td>\n",
       "      <td>...</td>\n",
       "      <td>...</td>\n",
       "      <td>...</td>\n",
       "      <td>...</td>\n",
       "      <td>...</td>\n",
       "      <td>...</td>\n",
       "      <td>...</td>\n",
       "      <td>...</td>\n",
       "      <td>...</td>\n",
       "      <td>...</td>\n",
       "      <td>...</td>\n",
       "      <td>...</td>\n",
       "      <td>...</td>\n",
       "      <td>...</td>\n",
       "      <td>...</td>\n",
       "      <td>...</td>\n",
       "      <td>...</td>\n",
       "    </tr>\n",
       "    <tr>\n",
       "      <th>9995</th>\n",
       "      <td>12.616365</td>\n",
       "      <td>10.059654</td>\n",
       "      <td>8.375016</td>\n",
       "      <td>4.679882</td>\n",
       "      <td>10.280525</td>\n",
       "      <td>4.115453</td>\n",
       "      <td>0.294443</td>\n",
       "      <td>4.833815</td>\n",
       "      <td>3.943716</td>\n",
       "      <td>18.380112</td>\n",
       "      <td>5.300375</td>\n",
       "      <td>-0.168679</td>\n",
       "      <td>1</td>\n",
       "      <td>0</td>\n",
       "      <td>0</td>\n",
       "      <td>0</td>\n",
       "      <td>2</td>\n",
       "      <td>-0.816393</td>\n",
       "    </tr>\n",
       "    <tr>\n",
       "      <th>9996</th>\n",
       "      <td>22.161953</td>\n",
       "      <td>10.059654</td>\n",
       "      <td>9.015944</td>\n",
       "      <td>4.679882</td>\n",
       "      <td>10.280525</td>\n",
       "      <td>4.115453</td>\n",
       "      <td>-11.589224</td>\n",
       "      <td>4.833815</td>\n",
       "      <td>3.874503</td>\n",
       "      <td>13.190056</td>\n",
       "      <td>5.300375</td>\n",
       "      <td>-0.168679</td>\n",
       "      <td>1</td>\n",
       "      <td>0</td>\n",
       "      <td>0</td>\n",
       "      <td>0</td>\n",
       "      <td>2</td>\n",
       "      <td>-0.831011</td>\n",
       "    </tr>\n",
       "    <tr>\n",
       "      <th>9997</th>\n",
       "      <td>23.667468</td>\n",
       "      <td>10.059654</td>\n",
       "      <td>8.214383</td>\n",
       "      <td>4.679882</td>\n",
       "      <td>10.280525</td>\n",
       "      <td>4.115453</td>\n",
       "      <td>-16.479126</td>\n",
       "      <td>4.833815</td>\n",
       "      <td>3.971858</td>\n",
       "      <td>13.190056</td>\n",
       "      <td>5.300375</td>\n",
       "      <td>-0.168679</td>\n",
       "      <td>1</td>\n",
       "      <td>0</td>\n",
       "      <td>0</td>\n",
       "      <td>0</td>\n",
       "      <td>2</td>\n",
       "      <td>-0.947601</td>\n",
       "    </tr>\n",
       "    <tr>\n",
       "      <th>9998</th>\n",
       "      <td>19.749193</td>\n",
       "      <td>10.059654</td>\n",
       "      <td>8.214383</td>\n",
       "      <td>3.359763</td>\n",
       "      <td>10.280525</td>\n",
       "      <td>4.115453</td>\n",
       "      <td>-2.411115</td>\n",
       "      <td>4.833815</td>\n",
       "      <td>3.971858</td>\n",
       "      <td>13.190056</td>\n",
       "      <td>5.300375</td>\n",
       "      <td>-0.168679</td>\n",
       "      <td>0</td>\n",
       "      <td>0</td>\n",
       "      <td>0</td>\n",
       "      <td>0</td>\n",
       "      <td>0</td>\n",
       "      <td>-0.799719</td>\n",
       "    </tr>\n",
       "    <tr>\n",
       "      <th>9999</th>\n",
       "      <td>12.616365</td>\n",
       "      <td>10.059654</td>\n",
       "      <td>8.856867</td>\n",
       "      <td>4.679882</td>\n",
       "      <td>10.280525</td>\n",
       "      <td>4.115453</td>\n",
       "      <td>0.294443</td>\n",
       "      <td>4.833815</td>\n",
       "      <td>3.840367</td>\n",
       "      <td>13.190056</td>\n",
       "      <td>5.300375</td>\n",
       "      <td>-0.168679</td>\n",
       "      <td>1</td>\n",
       "      <td>0</td>\n",
       "      <td>0</td>\n",
       "      <td>0</td>\n",
       "      <td>2</td>\n",
       "      <td>-0.859139</td>\n",
       "    </tr>\n",
       "  </tbody>\n",
       "</table>\n",
       "<p>10000 rows × 18 columns</p>\n",
       "</div>"
      ],
      "text/plain": [
       "             f0         f1        f2        f3         f4        f5  \\\n",
       "0     19.488788  10.059654  8.214383  3.907662  10.280525  4.115453   \n",
       "1     21.499191  10.059654  8.214383  4.679882  10.280525  4.115453   \n",
       "2     22.250708  10.059654  8.214383  4.679882  10.280525  4.115453   \n",
       "3     12.616365  10.059654  8.749045  4.679882  10.280525  4.115453   \n",
       "4     24.304403  10.059654  8.860713  4.679882  10.280525  4.115453   \n",
       "...         ...        ...       ...       ...        ...       ...   \n",
       "9995  12.616365  10.059654  8.375016  4.679882  10.280525  4.115453   \n",
       "9996  22.161953  10.059654  9.015944  4.679882  10.280525  4.115453   \n",
       "9997  23.667468  10.059654  8.214383  4.679882  10.280525  4.115453   \n",
       "9998  19.749193  10.059654  8.214383  3.359763  10.280525  4.115453   \n",
       "9999  12.616365  10.059654  8.856867  4.679882  10.280525  4.115453   \n",
       "\n",
       "             f6        f7        f8         f9       f10       f11  treatment  \\\n",
       "0     -1.288207  4.833815  3.971858  13.190056  5.300375 -0.168679          1   \n",
       "1     -2.411115  4.833815  3.971858  13.190056  5.300375 -0.168679          1   \n",
       "2     -1.288207  4.833815  3.971858  13.190056  5.300375 -0.168679          1   \n",
       "3      0.294443  4.833815  3.915574  13.190056  5.300375 -0.168679          1   \n",
       "4     -6.699321  4.833815  3.892853  13.190056  5.300375 -0.168679          1   \n",
       "...         ...       ...       ...        ...       ...       ...        ...   \n",
       "9995   0.294443  4.833815  3.943716  18.380112  5.300375 -0.168679          1   \n",
       "9996 -11.589224  4.833815  3.874503  13.190056  5.300375 -0.168679          1   \n",
       "9997 -16.479126  4.833815  3.971858  13.190056  5.300375 -0.168679          1   \n",
       "9998  -2.411115  4.833815  3.971858  13.190056  5.300375 -0.168679          0   \n",
       "9999   0.294443  4.833815  3.840367  13.190056  5.300375 -0.168679          1   \n",
       "\n",
       "      conversion  visit  exposure  target_class  uplift_score  \n",
       "0              0      0         0             2     -0.839541  \n",
       "1              0      0         0             2     -0.640972  \n",
       "2              0      0         0             2     -0.601409  \n",
       "3              0      0         0             2     -0.765051  \n",
       "4              0      0         0             2     -0.918729  \n",
       "...          ...    ...       ...           ...           ...  \n",
       "9995           0      0         0             2     -0.816393  \n",
       "9996           0      0         0             2     -0.831011  \n",
       "9997           0      0         0             2     -0.947601  \n",
       "9998           0      0         0             0     -0.799719  \n",
       "9999           0      0         0             2     -0.859139  \n",
       "\n",
       "[10000 rows x 18 columns]"
      ]
     },
     "execution_count": 39,
     "metadata": {},
     "output_type": "execute_result"
    }
   ],
   "source": [
    "cs"
   ]
  },
  {
   "cell_type": "markdown",
   "metadata": {
    "colab_type": "text",
    "id": "OvBOJJM7FdAB"
   },
   "source": [
    "### 2.3 Visualizing uplift score"
   ]
  },
  {
   "cell_type": "code",
   "execution_count": 40,
   "metadata": {
    "colab": {
     "base_uri": "https://localhost:8080/",
     "height": 260
    },
    "colab_type": "code",
    "id": "vbGYSNQNDNkX",
    "outputId": "4a685bda-b214-4bc0-f674-e17277817d1b"
   },
   "outputs": [
    {
     "name": "stdout",
     "output_type": "stream",
     "text": [
      "Total Targeted Customer Count: 9711\n",
      "Exposure 0 Conversion Uplift: 0.15%\n",
      "Exposure 0 Order Uplift: 15.0\n",
      "Exposure 0 Revenue Uplift: $375.0\n",
      "Revenue Uplift Per Targeted Customer: $0.04\n",
      "\n",
      "-------------- \n",
      "\n",
      "Total Targeted Customer Count: 289\n",
      "Exposure 1 Conversion Uplift: 5.19%\n",
      "Exposure 1 Order Uplift: 15.0\n",
      "Exposure 1 Revenue Uplift: $375.0\n",
      "Revenue Uplift Per Targeted Customer: $1.3\n",
      "\n"
     ]
    }
   ],
   "source": [
    "calc_uplift(cs)"
   ]
  },
  {
   "cell_type": "markdown",
   "metadata": {
    "colab_type": "text",
    "id": "IJD5zfbHFjHm"
   },
   "source": [
    "### 2.4 Discussing uplift scores"
   ]
  },
  {
   "cell_type": "code",
   "execution_count": 41,
   "metadata": {
    "colab": {},
    "colab_type": "code",
    "id": "NHeTRh0kB77R"
   },
   "outputs": [],
   "source": [
    "df_lift = cs.copy()\n",
    "uplift_q_75 = df_lift.uplift_score.quantile(0.75)"
   ]
  },
  {
   "cell_type": "code",
   "execution_count": 42,
   "metadata": {
    "colab": {
     "base_uri": "https://localhost:8080/",
     "height": 69
    },
    "colab_type": "code",
    "id": "csd34FfgD-om",
    "outputId": "751b6201-6404-4a4e-c924-6f86f2c92b13"
   },
   "outputs": [
    {
     "data": {
      "text/plain": [
       "0    9509\n",
       "1     491\n",
       "Name: visit, dtype: int64"
      ]
     },
     "execution_count": 42,
     "metadata": {},
     "output_type": "execute_result"
    }
   ],
   "source": [
    "df_lift.visit.value_counts()"
   ]
  },
  {
   "cell_type": "code",
   "execution_count": 43,
   "metadata": {
    "colab": {
     "base_uri": "https://localhost:8080/",
     "height": 34
    },
    "colab_type": "code",
    "id": "SmNG7SZACn4B",
    "outputId": "9c47966f-bfff-4c5d-a5fa-6c1f814af6a7"
   },
   "outputs": [
    {
     "name": "stdout",
     "output_type": "stream",
     "text": [
      "Ratio of the customers targeted with Exposure 0 = 25.3%\n"
     ]
    }
   ],
   "source": [
    "# Exposure = 0\n",
    "df_target_cust = df_lift[(df_lift.exposure == 0) & (df_lift.uplift_score > uplift_q_75)].reset_index(drop=True)\n",
    "target_cust = len(df_target_cust)\n",
    "total_cust = df_lift[df_lift.exposure == 0].exposure.count()\n",
    "ratio = target_cust / total_cust\n",
    "print(\"Ratio of the customers targeted with Exposure 0 = {}%\".format(np.round(ratio*100, 2)))"
   ]
  },
  {
   "cell_type": "code",
   "execution_count": 44,
   "metadata": {
    "colab": {
     "base_uri": "https://localhost:8080/",
     "height": 34
    },
    "colab_type": "code",
    "id": "Cs6YcECND4LR",
    "outputId": "b2564e39-b9f9-4417-e347-7fb2f9100312"
   },
   "outputs": [
    {
     "name": "stdout",
     "output_type": "stream",
     "text": [
      "Ratio of the customers targeted with Exposure 1 = 12.8%\n"
     ]
    }
   ],
   "source": [
    "# Exposure = 1\n",
    "df_target_cust = df_lift[(df_lift.exposure == 1) & (df_lift.uplift_score > uplift_q_75)].reset_index(drop=True)\n",
    "target_cust = len(df_target_cust)\n",
    "total_cust = df_lift[df_lift.exposure == 1].exposure.count()\n",
    "ratio = target_cust / total_cust\n",
    "print(\"Ratio of the customers targeted with Exposure 1 = {}%\".format(np.round(ratio*100, 2)))"
   ]
  },
  {
   "cell_type": "code",
   "execution_count": 45,
   "metadata": {
    "colab": {
     "base_uri": "https://localhost:8080/",
     "height": 121
    },
    "colab_type": "code",
    "id": "reiho1yaCAgQ",
    "outputId": "e4a7d5b0-4bc2-4931-e979-7b349eca02a4"
   },
   "outputs": [
    {
     "name": "stdout",
     "output_type": "stream",
     "text": [
      "Total Targeted Customer Count: 2457\n",
      "Exposure 0 Conversion Uplift: 0.33%\n",
      "Exposure 0 Order Uplift: 8.0\n",
      "Exposure 0 Revenue Uplift: $200.0\n",
      "Revenue Uplift Per Targeted Customer: $0.08\n",
      "\n"
     ]
    }
   ],
   "source": [
    "df_lift_exp0 = df_lift[(df_lift.exposure == 0) & (df_lift.uplift_score > uplift_q_75)].reset_index(drop=True)\n",
    "calc_uplift(df_lift_exp0)"
   ]
  },
  {
   "cell_type": "code",
   "execution_count": 46,
   "metadata": {
    "colab": {
     "base_uri": "https://localhost:8080/",
     "height": 156
    },
    "colab_type": "code",
    "id": "1QvuU9ifCA2m",
    "outputId": "7db19069-e34d-4825-a155-1fb720bf9c7b"
   },
   "outputs": [
    {
     "name": "stdout",
     "output_type": "stream",
     "text": [
      "-------------- \n",
      "\n",
      "Total Targeted Customer Count: 37\n",
      "Exposure 1 Conversion Uplift: 40.54%\n",
      "Exposure 1 Order Uplift: 15.0\n",
      "Exposure 1 Revenue Uplift: $375.0\n",
      "Revenue Uplift Per Targeted Customer: $10.14\n",
      "\n"
     ]
    }
   ],
   "source": [
    "df_lift_exp1 = df_lift[(df_lift.exposure == 1) & (df_lift.uplift_score > uplift_q_75)].reset_index(drop=True)\n",
    "calc_uplift(df_lift_exp1)"
   ]
  },
  {
   "cell_type": "code",
   "execution_count": null,
   "metadata": {
    "colab": {},
    "colab_type": "code",
    "id": "hOq2TxVSCBGD"
   },
   "outputs": [],
   "source": []
  },
  {
   "cell_type": "markdown",
   "metadata": {
    "colab_type": "text",
    "id": "GyC0vwuHxO-O"
   },
   "source": [
    "**<font color='blue'>Answer:</font>**\n",
    "\n",
    " - The results is giving rising performance\n",
    "  - **Revenue uplift per targeted customer** for **Exposure = 0** is getting 2.5x better (0.1 / 0.04)\n",
    "  - For **Exposure = 1** is getting 3.3x better (4.28 / 1.3)\n",
    "\n",
    " - By using this model, we can make our campaign more efficient by:\n",
    "    - Targeting specific segments (in this case, I'm using `exposure` variable) based on the uplift score\n",
    "    - Trying different offers based on customer’s uplift score\n",
    "    - Demonstrate 80/20 rules that small proportion of customers make most of the revenue\n",
    "\n",
    "[Reference](https://towardsdatascience.com/uplift-modeling-e38f96b1ef60)"
   ]
  },
  {
   "cell_type": "markdown",
   "metadata": {
    "colab_type": "text",
    "id": "w6p2-XjGtz-K"
   },
   "source": [
    "# **<font color='red'> B. Customer Segmentation</font>**\n",
    "\n",
    "You have to deal with customer segmentation based on these steps\n",
    "\n",
    "1. Calculate the Recency, Frequency and Monetary value for each customer and split them in four bins.\n",
    "\n",
    "2. Calculate a total score for the customers based on Recency, Frequency and Monetary value.\n",
    "\n",
    "3. Build a 3D graph where axes represent the R, F and, M values and the hue (color of shade) represents the score.\n",
    "\n",
    "4. Describe the insights that you receive from the graph and the suggestions that you would like to give to the company about the customer segments"
   ]
  },
  {
   "cell_type": "code",
   "execution_count": null,
   "metadata": {
    "colab": {
     "base_uri": "https://localhost:8080/",
     "height": 204
    },
    "colab_type": "code",
    "id": "lWBodMGJVjlO",
    "outputId": "6ab01e17-67c7-4cc3-fe86-fe7edfcadd7d"
   },
   "outputs": [],
   "source": [
    "import pandas as pd\n",
    "sheet_url = 'https://docs.google.com/spreadsheets/d/12MHW04zmS7-k3Qq8iN6HVTEMjFzmpxCyIK-Yw9FJTCE/edit#gid=1079074860'\n",
    "csv_export_url = sheet_url.replace('/edit#gid=', '/export?format=csv&gid=')\n",
    "cs = pd.read_csv(csv_export_url,)\n",
    "cs.head()"
   ]
  },
  {
   "cell_type": "markdown",
   "metadata": {
    "colab_type": "text",
    "id": "2b6UQeKpuycU"
   },
   "source": [
    "### 2.1 RFM bins: \n"
   ]
  },
  {
   "cell_type": "code",
   "execution_count": null,
   "metadata": {
    "colab": {},
    "colab_type": "code",
    "id": "zW_2xCLgu6tr"
   },
   "outputs": [],
   "source": []
  },
  {
   "cell_type": "markdown",
   "metadata": {
    "colab_type": "text",
    "id": "LUC1QXHou7SJ"
   },
   "source": [
    "### 2.2 RFM score"
   ]
  },
  {
   "cell_type": "code",
   "execution_count": null,
   "metadata": {
    "colab": {},
    "colab_type": "code",
    "id": "-QRdHYE_u_9w"
   },
   "outputs": [],
   "source": []
  },
  {
   "cell_type": "markdown",
   "metadata": {
    "colab_type": "text",
    "id": "s8MmP5YHvAlP"
   },
   "source": [
    "### 2.3 RFM visualization"
   ]
  },
  {
   "cell_type": "code",
   "execution_count": null,
   "metadata": {
    "colab": {},
    "colab_type": "code",
    "id": "sf9oqIxPvEPE"
   },
   "outputs": [],
   "source": []
  },
  {
   "cell_type": "markdown",
   "metadata": {
    "colab_type": "text",
    "id": "n9H0PuTjvE8J"
   },
   "source": [
    "### 2.4 RFM discussions"
   ]
  },
  {
   "cell_type": "markdown",
   "metadata": {
    "colab_type": "text",
    "id": "qhCXQlbdF2OP"
   },
   "source": [
    "**<font color='blue'>Answer:</font>**\n"
   ]
  },
  {
   "cell_type": "code",
   "execution_count": null,
   "metadata": {
    "colab": {
     "base_uri": "https://localhost:8080/",
     "height": 34
    },
    "colab_type": "code",
    "id": "TFu__eevDNnN",
    "outputId": "f745aac6-b048-4fe6-b4db-d25bf3ad63b7"
   },
   "outputs": [],
   "source": [
    "from datetime import datetime\n",
    "\n",
    "now = datetime.now()\n",
    "\n",
    "current_time = now.strftime(\"%H:%M:%S\")\n",
    "print(\"Current Time =\", current_time)"
   ]
  }
 ],
 "metadata": {
  "colab": {
   "collapsed_sections": [],
   "name": "Exam_B96323_Enlik.ipynb",
   "provenance": []
  },
  "kernelspec": {
   "display_name": "Python 3",
   "language": "python",
   "name": "python3"
  },
  "language_info": {
   "codemirror_mode": {
    "name": "ipython",
    "version": 3
   },
   "file_extension": ".py",
   "mimetype": "text/x-python",
   "name": "python",
   "nbconvert_exporter": "python",
   "pygments_lexer": "ipython3",
   "version": "3.6.7"
  }
 },
 "nbformat": 4,
 "nbformat_minor": 1
}
