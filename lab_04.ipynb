{
 "cells": [
  {
   "cell_type": "markdown",
   "metadata": {
    "colab_type": "text",
    "id": "2snDpXbFQFyf"
   },
   "source": [
    "<h1><center> <font color='black'> Business Data Analytics - Practice Session_04 </font></center></h1>\n",
    "<h2><center> <font color='black'> Customer Lifecycle Management - Regression</font></center></h3>\n",
    "<h2><center> <font color='black'> University of Tartu - Spring 2020</font></center></h3>"
   ]
  },
  {
   "cell_type": "markdown",
   "metadata": {
    "colab_type": "text",
    "id": "s_eSX-e4QFym"
   },
   "source": [
    "============================================================================================================="
   ]
  },
  {
   "cell_type": "markdown",
   "metadata": {
    "colab_type": "text",
    "id": "JpaEiEa7QFyr"
   },
   "source": [
    "## Introduction:"
   ]
  },
  {
   "cell_type": "markdown",
   "metadata": {
    "colab_type": "text",
    "id": "hDOr1D3hQFyu"
   },
   "source": [
    "1. <font size=\"2\">Business relationships with the customers are not **static** – they change over time. It is crucial for the company to understand these dynamic processes.</font>\n",
    "\n",
    "\n",
    "2. <font size=\"2\">The customer relationship management **(CRM)** is a huge area that encompasses multiple practices, directions, and approaches related to customer interactions with the business.</font>\n",
    "\n",
    "\n",
    "3. <font size=\"2\">One of the central directions is the **Customer Lifecycle Value (CLV)**,which represents the expected revenu earned from custmer over their lifetime and this is the topic of today's session. **We will illustrate two different approaches to study:** </font>\n",
    "\n",
    "    * <font size=\"2\">**The first approach** that we will study is based on **heuristics**, where we do not use any automatic methods, but a fairly simple analysis in order to calculate Customer Lifetime Value (CLV). </font>      \n",
    "        \n",
    "    * <font size=\"2\">Then, we will learn how to use **simple and multiple linear regressions** in the context of CRM. We will follow the machine learning practices discussed during the lecture.</font>\n",
    "\n"
   ]
  },
  {
   "cell_type": "markdown",
   "metadata": {
    "colab_type": "text",
    "id": "0k0WXG9dQFyx"
   },
   "source": [
    "========================================================================================"
   ]
  },
  {
   "cell_type": "markdown",
   "metadata": {
    "colab_type": "text",
    "id": "Ce3eseZ-QFy4"
   },
   "source": [
    "## Let’s load the required packages:"
   ]
  },
  {
   "cell_type": "code",
   "execution_count": 1,
   "metadata": {
    "colab": {
     "base_uri": "https://localhost:8080/",
     "height": 34
    },
    "colab_type": "code",
    "executionInfo": {
     "elapsed": 1306,
     "status": "ok",
     "timestamp": 1583748124144,
     "user": {
      "displayName": "Mahmoud K. Shoush",
      "photoUrl": "https://lh3.googleusercontent.com/a-/AOh14Gg9UiBaJaGnafDynGv5Ght5Z18MwCGvDUW8ttd2=s64",
      "userId": "05621694697917066197"
     },
     "user_tz": -120
    },
    "id": "RHx6skqCvnFl",
    "outputId": "5bc5f9a6-ac74-46bc-bb1f-030a354b7c74"
   },
   "outputs": [
    {
     "name": "stdout",
     "output_type": "stream",
     "text": [
      "hello\n"
     ]
    }
   ],
   "source": [
    "print('hello')"
   ]
  },
  {
   "cell_type": "code",
   "execution_count": 2,
   "metadata": {
    "colab": {},
    "colab_type": "code",
    "id": "OJaaW1RAQFy7"
   },
   "outputs": [],
   "source": [
    "%matplotlib inline\n",
    "\n",
    "import numpy as np\n",
    "import pandas as pd\n",
    "import matplotlib.pyplot as plt\n",
    "import seaborn as sns\n",
    "\n",
    "#Let's make this notebook reproducible, you can use any number ex = 42\n",
    "np.random.seed(42)\n",
    "\n"
   ]
  },
  {
   "cell_type": "markdown",
   "metadata": {
    "colab_type": "text",
    "id": "jwjlHw9FQFzF"
   },
   "source": [
    "## Read customer transaction dataset"
   ]
  },
  {
   "cell_type": "code",
   "execution_count": 3,
   "metadata": {
    "colab": {
     "base_uri": "https://localhost:8080/",
     "height": 363
    },
    "colab_type": "code",
    "executionInfo": {
     "elapsed": 4043,
     "status": "ok",
     "timestamp": 1583731219147,
     "user": {
      "displayName": "Mahmoud K. Shoush",
      "photoUrl": "https://lh3.googleusercontent.com/a-/AOh14Gg9UiBaJaGnafDynGv5Ght5Z18MwCGvDUW8ttd2=s64",
      "userId": "05621694697917066197"
     },
     "user_tz": -120
    },
    "id": "foJWIgwlQFzI",
    "outputId": "15f97946-b788-47a5-b98b-003124009d40"
   },
   "outputs": [
    {
     "data": {
      "text/html": [
       "<div>\n",
       "<style scoped>\n",
       "    .dataframe tbody tr th:only-of-type {\n",
       "        vertical-align: middle;\n",
       "    }\n",
       "\n",
       "    .dataframe tbody tr th {\n",
       "        vertical-align: top;\n",
       "    }\n",
       "\n",
       "    .dataframe thead th {\n",
       "        text-align: right;\n",
       "    }\n",
       "</style>\n",
       "<table border=\"1\" class=\"dataframe\">\n",
       "  <thead>\n",
       "    <tr style=\"text-align: right;\">\n",
       "      <th></th>\n",
       "      <th>transaction_id</th>\n",
       "      <th>transaction_date</th>\n",
       "      <th>customer_id</th>\n",
       "      <th>amount</th>\n",
       "    </tr>\n",
       "  </thead>\n",
       "  <tbody>\n",
       "    <tr>\n",
       "      <th>0</th>\n",
       "      <td>1</td>\n",
       "      <td>2012-09-04</td>\n",
       "      <td>1</td>\n",
       "      <td>20.96</td>\n",
       "    </tr>\n",
       "    <tr>\n",
       "      <th>1</th>\n",
       "      <td>2</td>\n",
       "      <td>2012-05-15</td>\n",
       "      <td>2</td>\n",
       "      <td>10.87</td>\n",
       "    </tr>\n",
       "    <tr>\n",
       "      <th>2</th>\n",
       "      <td>3</td>\n",
       "      <td>2014-05-23</td>\n",
       "      <td>2</td>\n",
       "      <td>2.21</td>\n",
       "    </tr>\n",
       "    <tr>\n",
       "      <th>3</th>\n",
       "      <td>4</td>\n",
       "      <td>2014-10-24</td>\n",
       "      <td>2</td>\n",
       "      <td>10.48</td>\n",
       "    </tr>\n",
       "    <tr>\n",
       "      <th>4</th>\n",
       "      <td>5</td>\n",
       "      <td>2012-10-13</td>\n",
       "      <td>2</td>\n",
       "      <td>3.94</td>\n",
       "    </tr>\n",
       "    <tr>\n",
       "      <th>5</th>\n",
       "      <td>6</td>\n",
       "      <td>2013-01-23</td>\n",
       "      <td>2</td>\n",
       "      <td>12.37</td>\n",
       "    </tr>\n",
       "    <tr>\n",
       "      <th>6</th>\n",
       "      <td>7</td>\n",
       "      <td>2014-03-09</td>\n",
       "      <td>2</td>\n",
       "      <td>1.59</td>\n",
       "    </tr>\n",
       "    <tr>\n",
       "      <th>7</th>\n",
       "      <td>8</td>\n",
       "      <td>2013-11-17</td>\n",
       "      <td>2</td>\n",
       "      <td>2.75</td>\n",
       "    </tr>\n",
       "    <tr>\n",
       "      <th>8</th>\n",
       "      <td>9</td>\n",
       "      <td>2014-10-10</td>\n",
       "      <td>2</td>\n",
       "      <td>3.51</td>\n",
       "    </tr>\n",
       "    <tr>\n",
       "      <th>9</th>\n",
       "      <td>10</td>\n",
       "      <td>2012-11-26</td>\n",
       "      <td>3</td>\n",
       "      <td>21.58</td>\n",
       "    </tr>\n",
       "  </tbody>\n",
       "</table>\n",
       "</div>"
      ],
      "text/plain": [
       "   transaction_id transaction_date  customer_id  amount\n",
       "0               1       2012-09-04            1   20.96\n",
       "1               2       2012-05-15            2   10.87\n",
       "2               3       2014-05-23            2    2.21\n",
       "3               4       2014-10-24            2   10.48\n",
       "4               5       2012-10-13            2    3.94\n",
       "5               6       2013-01-23            2   12.37\n",
       "6               7       2014-03-09            2    1.59\n",
       "7               8       2013-11-17            2    2.75\n",
       "8               9       2014-10-10            2    3.51\n",
       "9              10       2012-11-26            3   21.58"
      ]
     },
     "execution_count": 3,
     "metadata": {},
     "output_type": "execute_result"
    }
   ],
   "source": [
    "# read customer transaction data using pandas package as a dataframe\n",
    "df = pd.read_csv(\"lab_04_clv_transactions.csv\")\n",
    "\n",
    "# get the first 10 rows from the df\n",
    "df.head(10)"
   ]
  },
  {
   "cell_type": "markdown",
   "metadata": {
    "colab_type": "text",
    "id": "HPLYGi0yQFzR"
   },
   "source": [
    "**CLV transaction dataset contains four column as follow:**\n",
    "* **transaction_id** - unique ID of some transaction;\n",
    "* **transaction_date** - date when transaction was executed;\n",
    "* **customer_id** - unique ID of the customer;\n",
    "* **amount** - total amount of money per transaction.\n"
   ]
  },
  {
   "cell_type": "code",
   "execution_count": 0,
   "metadata": {
    "colab": {
     "base_uri": "https://localhost:8080/",
     "height": 347
    },
    "colab_type": "code",
    "executionInfo": {
     "elapsed": 4025,
     "status": "ok",
     "timestamp": 1583731219149,
     "user": {
      "displayName": "Mahmoud K. Shoush",
      "photoUrl": "https://lh3.googleusercontent.com/a-/AOh14Gg9UiBaJaGnafDynGv5Ght5Z18MwCGvDUW8ttd2=s64",
      "userId": "05621694697917066197"
     },
     "user_tz": -120
    },
    "id": "ZIfWfghNQFzT",
    "outputId": "ad909445-29d9-422f-ccf9-a39e0db77bd7"
   },
   "outputs": [
    {
     "name": "stdout",
     "output_type": "stream",
     "text": [
      "<class 'pandas.core.frame.DataFrame'>\n",
      "RangeIndex: 4181 entries, 0 to 4180\n",
      "Data columns (total 4 columns):\n",
      "transaction_id      4181 non-null int64\n",
      "transaction_date    4181 non-null object\n",
      "customer_id         4181 non-null int64\n",
      "amount              4181 non-null float64\n",
      "dtypes: float64(1), int64(2), object(1)\n",
      "memory usage: 130.8+ KB\n",
      " \n",
      "       transaction_id  customer_id       amount\n",
      "count     4181.000000  4181.000000  4181.000000\n",
      "mean      2091.000000   516.332217     8.067426\n",
      "std       1207.095067   291.209738     6.007071\n",
      "min          1.000000     1.000000     0.010000\n",
      "25%       1046.000000   270.000000     3.310000\n",
      "50%       2091.000000   522.000000     6.880000\n",
      "75%       3136.000000   762.000000    11.690000\n",
      "max       4181.000000  1000.000000    38.350000\n"
     ]
    }
   ],
   "source": [
    "# get info about our df\n",
    "df.info()\n",
    "\n",
    "print(\" \")\n",
    "# summary statistics \n",
    "print (df.describe())"
   ]
  },
  {
   "cell_type": "markdown",
   "metadata": {
    "colab_type": "text",
    "id": "JnExfcELQFzd"
   },
   "source": [
    "========================================================================================="
   ]
  },
  {
   "cell_type": "markdown",
   "metadata": {
    "colab_type": "text",
    "id": "0V_yJFrrQFzg"
   },
   "source": [
    "## <font color='black'> Customer Lifecycle Value:</font>\n",
    "\n",
    "<font size=\"2\">Our goal here is to calculate **CLV**, which is `the expected revenu earned from custmer over their lifetime during the entire relationship with the company.` CLV is a metric that can be used for many different purposes:</font>\n",
    "\n",
    "* <font size=\"2\">Estimation of the customer value in order to target the most valuable ones.\n",
    "* <font size=\"2\">Reference for the markieting campaigns: how much to spend or wheher to spend? and monitoring the impact of such campaign.\n",
    "* <font size=\"2\">Measurement of customer loyalty.\n",
    "* <font size=\"2\">Optimization of resource allocation.\n",
    "* <font size=\"2\">etc..\n",
    "   \n",
    "\n",
    "<font size=\"2\">There are many methodologies of CLV, which can be very complex and include all the details taking into account all the spendings. More generally.  **CLV can be divided into two broad categoris:**</font>\n",
    "1. <font size=\"2\">**Historical CLV**:  where we do not use any automatic methods, but a fairly simple analysis in order to calculate Customer Lifetime Value (CLV).</font>\n",
    "\n",
    "2. <font size=\"2\">**Predictive CLV**: where we perform machine learning methods to apply predictive modles (Regression Problem).</font>\n",
    "\n",
    "<font size=\"2\">Let us take the simple approach and calculate the historical value.</font>\n",
    "\n"
   ]
  },
  {
   "cell_type": "markdown",
   "metadata": {
    "colab_type": "text",
    "id": "3Zr1z394QFzi"
   },
   "source": [
    "## Start with the simple approach and calculate the historical value.\n",
    "\n",
    "**CLV** is the cumulative spending per customer over time divided by amount of new customers each year "
   ]
  },
  {
   "cell_type": "code",
   "execution_count": 0,
   "metadata": {
    "colab": {
     "base_uri": "https://localhost:8080/",
     "height": 427
    },
    "colab_type": "code",
    "executionInfo": {
     "elapsed": 4010,
     "status": "ok",
     "timestamp": 1583731219152,
     "user": {
      "displayName": "Mahmoud K. Shoush",
      "photoUrl": "https://lh3.googleusercontent.com/a-/AOh14Gg9UiBaJaGnafDynGv5Ght5Z18MwCGvDUW8ttd2=s64",
      "userId": "05621694697917066197"
     },
     "user_tz": -120
    },
    "id": "LZamQ396QFzj",
    "outputId": "bcbdcd76-4de3-4db7-c6a0-1e551f6bd00a"
   },
   "outputs": [
    {
     "data": {
      "image/png": "[encoded data removed]",
      "text/plain": [
       "<Figure size 576x432 with 1 Axes>"
      ]
     },
     "metadata": {
      "tags": []
     },
     "output_type": "display_data"
    }
   ],
   "source": [
    "# histogram of transactional amounts\n",
    "# Plot the distribution of all amounts that different customers spent\n",
    "# with different transactions. \n",
    "\n",
    "# set figure properties\n",
    "from matplotlib.pyplot import figure\n",
    "figure(figsize=(8, 6))\n",
    "\n",
    "# histogram bins \n",
    "bins = np.linspace(0, 40)\n",
    "\n",
    "# set titles for figure, x, y\n",
    "plt.title('histogram of transactional amounts',fontsize=20)\n",
    "plt.xlabel('Amount', fontsize=20)\n",
    "plt.ylabel('Count',fontsize=20)\n",
    "\n",
    "\n",
    "# plot histogram using plt.hist()\n",
    "plt.hist(df.amount, bins, alpha=0.7, histtype='bar', ec='black')\n",
    "\n",
    "plt.xticks(fontsize = 20) \n",
    "plt.yticks(fontsize = 20) \n",
    "plt.grid(True)\n",
    "plt.show() "
   ]
  },
  {
   "cell_type": "code",
   "execution_count": 0,
   "metadata": {
    "colab": {
     "base_uri": "https://localhost:8080/",
     "height": 206
    },
    "colab_type": "code",
    "executionInfo": {
     "elapsed": 3992,
     "status": "ok",
     "timestamp": 1583731219153,
     "user": {
      "displayName": "Mahmoud K. Shoush",
      "photoUrl": "https://lh3.googleusercontent.com/a-/AOh14Gg9UiBaJaGnafDynGv5Ght5Z18MwCGvDUW8ttd2=s64",
      "userId": "05621694697917066197"
     },
     "user_tz": -120
    },
    "id": "UTn0syQqQFzq",
    "outputId": "adf6534c-a851-43e0-9129-d3686b8b3e46"
   },
   "outputs": [
    {
     "data": {
      "text/html": [
       "<div>\n",
       "<style scoped>\n",
       "    .dataframe tbody tr th:only-of-type {\n",
       "        vertical-align: middle;\n",
       "    }\n",
       "\n",
       "    .dataframe tbody tr th {\n",
       "        vertical-align: top;\n",
       "    }\n",
       "\n",
       "    .dataframe thead th {\n",
       "        text-align: right;\n",
       "    }\n",
       "</style>\n",
       "<table border=\"1\" class=\"dataframe\">\n",
       "  <thead>\n",
       "    <tr style=\"text-align: right;\">\n",
       "      <th></th>\n",
       "      <th>transaction_id</th>\n",
       "      <th>transaction_date</th>\n",
       "      <th>customer_id</th>\n",
       "      <th>amount</th>\n",
       "    </tr>\n",
       "  </thead>\n",
       "  <tbody>\n",
       "    <tr>\n",
       "      <th>0</th>\n",
       "      <td>1</td>\n",
       "      <td>2012-09-04</td>\n",
       "      <td>1</td>\n",
       "      <td>20.96</td>\n",
       "    </tr>\n",
       "    <tr>\n",
       "      <th>1</th>\n",
       "      <td>2</td>\n",
       "      <td>2012-05-15</td>\n",
       "      <td>2</td>\n",
       "      <td>10.87</td>\n",
       "    </tr>\n",
       "    <tr>\n",
       "      <th>2</th>\n",
       "      <td>3</td>\n",
       "      <td>2014-05-23</td>\n",
       "      <td>2</td>\n",
       "      <td>2.21</td>\n",
       "    </tr>\n",
       "    <tr>\n",
       "      <th>3</th>\n",
       "      <td>4</td>\n",
       "      <td>2014-10-24</td>\n",
       "      <td>2</td>\n",
       "      <td>10.48</td>\n",
       "    </tr>\n",
       "    <tr>\n",
       "      <th>4</th>\n",
       "      <td>5</td>\n",
       "      <td>2012-10-13</td>\n",
       "      <td>2</td>\n",
       "      <td>3.94</td>\n",
       "    </tr>\n",
       "  </tbody>\n",
       "</table>\n",
       "</div>"
      ],
      "text/plain": [
       "   transaction_id transaction_date  customer_id  amount\n",
       "0               1       2012-09-04            1   20.96\n",
       "1               2       2012-05-15            2   10.87\n",
       "2               3       2014-05-23            2    2.21\n",
       "3               4       2014-10-24            2   10.48\n",
       "4               5       2012-10-13            2    3.94"
      ]
     },
     "execution_count": 6,
     "metadata": {
      "tags": []
     },
     "output_type": "execute_result"
    }
   ],
   "source": [
    "df.head()"
   ]
  },
  {
   "cell_type": "markdown",
   "metadata": {
    "colab_type": "text",
    "id": "qlYe4or6QFzy"
   },
   "source": [
    "<font size=\"2\">**Let’s keep the raw dataset unchanged and create a new dataset, where we start to collect required features about active customers:**\n",
    "1. <font size=\"2\"> `customers_unique`: number of unique customers for each year \n",
    "2. <font size=\"2\"> `transactions_unique`: unique transaction for each year \t\n",
    "3. <font size=\"2\"> amount \t\n",
    "4. <font size=\"2\"> cumulative_amount\n",
    "5. <font size=\"2\">customer retention rate\n",
    "6. <font size=\"2\">transactions per customer\n",
    "7. <font size=\"2\">amount per transaction\n"
   ]
  },
  {
   "cell_type": "markdown",
   "metadata": {
    "colab_type": "text",
    "id": "lid1hOgXQFz1"
   },
   "source": [
    "1. <font size=\"2\">get the year only from the transaction_date feature."
   ]
  },
  {
   "cell_type": "code",
   "execution_count": 0,
   "metadata": {
    "colab": {
     "base_uri": "https://localhost:8080/",
     "height": 206
    },
    "colab_type": "code",
    "executionInfo": {
     "elapsed": 3979,
     "status": "ok",
     "timestamp": 1583731219155,
     "user": {
      "displayName": "Mahmoud K. Shoush",
      "photoUrl": "https://lh3.googleusercontent.com/a-/AOh14Gg9UiBaJaGnafDynGv5Ght5Z18MwCGvDUW8ttd2=s64",
      "userId": "05621694697917066197"
     },
     "user_tz": -120
    },
    "id": "7l_5ivLeQF0F",
    "outputId": "57543f5d-9cb3-42bc-c47d-7ed1c36dc56b"
   },
   "outputs": [
    {
     "data": {
      "text/html": [
       "<div>\n",
       "<style scoped>\n",
       "    .dataframe tbody tr th:only-of-type {\n",
       "        vertical-align: middle;\n",
       "    }\n",
       "\n",
       "    .dataframe tbody tr th {\n",
       "        vertical-align: top;\n",
       "    }\n",
       "\n",
       "    .dataframe thead th {\n",
       "        text-align: right;\n",
       "    }\n",
       "</style>\n",
       "<table border=\"1\" class=\"dataframe\">\n",
       "  <thead>\n",
       "    <tr style=\"text-align: right;\">\n",
       "      <th></th>\n",
       "      <th>transaction_id</th>\n",
       "      <th>transaction_date</th>\n",
       "      <th>customer_id</th>\n",
       "      <th>amount</th>\n",
       "      <th>year</th>\n",
       "    </tr>\n",
       "  </thead>\n",
       "  <tbody>\n",
       "    <tr>\n",
       "      <th>0</th>\n",
       "      <td>1</td>\n",
       "      <td>2012-09-04</td>\n",
       "      <td>1</td>\n",
       "      <td>20.96</td>\n",
       "      <td>2012</td>\n",
       "    </tr>\n",
       "    <tr>\n",
       "      <th>1</th>\n",
       "      <td>2</td>\n",
       "      <td>2012-05-15</td>\n",
       "      <td>2</td>\n",
       "      <td>10.87</td>\n",
       "      <td>2012</td>\n",
       "    </tr>\n",
       "    <tr>\n",
       "      <th>2</th>\n",
       "      <td>3</td>\n",
       "      <td>2014-05-23</td>\n",
       "      <td>2</td>\n",
       "      <td>2.21</td>\n",
       "      <td>2014</td>\n",
       "    </tr>\n",
       "    <tr>\n",
       "      <th>3</th>\n",
       "      <td>4</td>\n",
       "      <td>2014-10-24</td>\n",
       "      <td>2</td>\n",
       "      <td>10.48</td>\n",
       "      <td>2014</td>\n",
       "    </tr>\n",
       "    <tr>\n",
       "      <th>4</th>\n",
       "      <td>5</td>\n",
       "      <td>2012-10-13</td>\n",
       "      <td>2</td>\n",
       "      <td>3.94</td>\n",
       "      <td>2012</td>\n",
       "    </tr>\n",
       "  </tbody>\n",
       "</table>\n",
       "</div>"
      ],
      "text/plain": [
       "   transaction_id transaction_date  customer_id  amount  year\n",
       "0               1       2012-09-04            1   20.96  2012\n",
       "1               2       2012-05-15            2   10.87  2012\n",
       "2               3       2014-05-23            2    2.21  2014\n",
       "3               4       2014-10-24            2   10.48  2014\n",
       "4               5       2012-10-13            2    3.94  2012"
      ]
     },
     "execution_count": 7,
     "metadata": {
      "tags": []
     },
     "output_type": "execute_result"
    }
   ],
   "source": [
    "# copy the original df\n",
    "df_year = df \n",
    "\n",
    "# we take only year\n",
    "df_year['year'] = df_year.transaction_date.apply(lambda x: pd.to_datetime(x).date().year) \n",
    "df_year.head()"
   ]
  },
  {
   "cell_type": "markdown",
   "metadata": {
    "colab_type": "text",
    "id": "5FmTNbRYQF0M"
   },
   "source": [
    "2. <font size=\"2\">getting sample form the dataframe to check the timespan."
   ]
  },
  {
   "cell_type": "code",
   "execution_count": 0,
   "metadata": {
    "colab": {
     "base_uri": "https://localhost:8080/",
     "height": 206
    },
    "colab_type": "code",
    "executionInfo": {
     "elapsed": 3964,
     "status": "ok",
     "timestamp": 1583731219156,
     "user": {
      "displayName": "Mahmoud K. Shoush",
      "photoUrl": "https://lh3.googleusercontent.com/a-/AOh14Gg9UiBaJaGnafDynGv5Ght5Z18MwCGvDUW8ttd2=s64",
      "userId": "05621694697917066197"
     },
     "user_tz": -120
    },
    "id": "lINQeNy3QF0O",
    "outputId": "fb16807f-287a-4aac-e66e-37f97b4648c4"
   },
   "outputs": [
    {
     "data": {
      "text/html": [
       "<div>\n",
       "<style scoped>\n",
       "    .dataframe tbody tr th:only-of-type {\n",
       "        vertical-align: middle;\n",
       "    }\n",
       "\n",
       "    .dataframe tbody tr th {\n",
       "        vertical-align: top;\n",
       "    }\n",
       "\n",
       "    .dataframe thead th {\n",
       "        text-align: right;\n",
       "    }\n",
       "</style>\n",
       "<table border=\"1\" class=\"dataframe\">\n",
       "  <thead>\n",
       "    <tr style=\"text-align: right;\">\n",
       "      <th></th>\n",
       "      <th>transaction_id</th>\n",
       "      <th>transaction_date</th>\n",
       "      <th>customer_id</th>\n",
       "      <th>amount</th>\n",
       "      <th>year</th>\n",
       "    </tr>\n",
       "  </thead>\n",
       "  <tbody>\n",
       "    <tr>\n",
       "      <th>565</th>\n",
       "      <td>566</td>\n",
       "      <td>2012-02-20</td>\n",
       "      <td>137</td>\n",
       "      <td>5.71</td>\n",
       "      <td>2012</td>\n",
       "    </tr>\n",
       "    <tr>\n",
       "      <th>1663</th>\n",
       "      <td>1664</td>\n",
       "      <td>2010-11-02</td>\n",
       "      <td>412</td>\n",
       "      <td>10.65</td>\n",
       "      <td>2010</td>\n",
       "    </tr>\n",
       "    <tr>\n",
       "      <th>1664</th>\n",
       "      <td>1665</td>\n",
       "      <td>2012-10-03</td>\n",
       "      <td>412</td>\n",
       "      <td>2.34</td>\n",
       "      <td>2012</td>\n",
       "    </tr>\n",
       "    <tr>\n",
       "      <th>1665</th>\n",
       "      <td>1666</td>\n",
       "      <td>2011-02-03</td>\n",
       "      <td>412</td>\n",
       "      <td>18.40</td>\n",
       "      <td>2011</td>\n",
       "    </tr>\n",
       "    <tr>\n",
       "      <th>1666</th>\n",
       "      <td>1667</td>\n",
       "      <td>2013-09-29</td>\n",
       "      <td>412</td>\n",
       "      <td>8.37</td>\n",
       "      <td>2013</td>\n",
       "    </tr>\n",
       "  </tbody>\n",
       "</table>\n",
       "</div>"
      ],
      "text/plain": [
       "      transaction_id transaction_date  customer_id  amount  year\n",
       "565              566       2012-02-20          137    5.71  2012\n",
       "1663            1664       2010-11-02          412   10.65  2010\n",
       "1664            1665       2012-10-03          412    2.34  2012\n",
       "1665            1666       2011-02-03          412   18.40  2011\n",
       "1666            1667       2013-09-29          412    8.37  2013"
      ]
     },
     "execution_count": 8,
     "metadata": {
      "tags": []
     },
     "output_type": "execute_result"
    }
   ],
   "source": [
    "# take IDs of 10 random customers\n",
    "# Get unique values from a list\n",
    "# using sample() function\n",
    "sample_customers = pd.Series(df_year.customer_id.unique()).sample(10).values \n",
    "\n",
    "# create new sample\n",
    "df_sample = df_year[df_year.customer_id.isin(sample_customers)] \n",
    "df_sample.head() #\n"
   ]
  },
  {
   "cell_type": "markdown",
   "metadata": {
    "colab_type": "text",
    "id": "mKJxAbhdQF0U"
   },
   "source": [
    "3. <font size=\"2\">Let’s check the timespan of a few customers to understand the data better:"
   ]
  },
  {
   "cell_type": "code",
   "execution_count": 0,
   "metadata": {
    "colab": {
     "base_uri": "https://localhost:8080/",
     "height": 427
    },
    "colab_type": "code",
    "executionInfo": {
     "elapsed": 3950,
     "status": "ok",
     "timestamp": 1583731219157,
     "user": {
      "displayName": "Mahmoud K. Shoush",
      "photoUrl": "https://lh3.googleusercontent.com/a-/AOh14Gg9UiBaJaGnafDynGv5Ght5Z18MwCGvDUW8ttd2=s64",
      "userId": "05621694697917066197"
     },
     "user_tz": -120
    },
    "id": "0_eQ_CicQF0W",
    "outputId": "e3a46e58-d2ef-4926-f420-cffc01e7a530"
   },
   "outputs": [
    {
     "data": {
      "image/png": "[encoded data removed]",
      "text/plain": [
       "<Figure size 576x432 with 1 Axes>"
      ]
     },
     "metadata": {
      "tags": []
     },
     "output_type": "display_data"
    }
   ],
   "source": [
    "# group data by customer id\n",
    "groups = df_sample.groupby('customer_id')\n",
    "\n",
    "# Plot\n",
    "fig, ax = plt.subplots(figsize=(8, 6))\n",
    "\n",
    "\n",
    "# plot line for each customer \n",
    "for customer_id, group in groups:\n",
    "    ax.plot(group.year, group.customer_id, marker='o', linestyle='-', label=customer_id)\n",
    "\n",
    "\n",
    "# Make our graph cool, and understandable\n",
    "\n",
    "# put the legend outside the graph\n",
    "ax.legend(bbox_to_anchor=(1.1, 1.05), title=\"customer id\",)\n",
    "    \n",
    "# set titles for figure, x, y\n",
    "plt.title('Timespan of a few customers',fontsize=20)\n",
    "plt.xlabel('Year', fontsize=20)\n",
    "plt.ylabel('Customer Id',fontsize=20)\n",
    "\n",
    "\n",
    "plt.xticks(fontsize = 20) \n",
    "plt.yticks(fontsize = 20) \n",
    "plt.grid(True)\n",
    "plt.show()\n"
   ]
  },
  {
   "cell_type": "markdown",
   "metadata": {
    "colab_type": "text",
    "id": "X0XJV51uQF0d"
   },
   "source": [
    "* <font size=\"2\">**We can note several important things:**\n",
    "    1. <font size=\"2\">The customers are heterogeneous\n",
    "    2. <font size=\"2\">They spend at different years\n",
    "    3.  <font size=\"2\">Also they do not purchase every single year.\n",
    "    \n",
    "    \n",
    "* <font size=\"2\">**Now, here we have to make a decision how to define `active customers`.**</font>\n",
    "    1. <font size=\"2\">One definition would be to consider in our calculations any customer who kept purchasing (even if in this year he did not purchase anything).  </font>      \n",
    "    \n",
    "    2. <font size=\"2\"> Or take into account (per year basis) only a set of customers who were purchasing in the considered year.</font> \n",
    "    \n",
    "\n",
    "* <font size=\"2\">**We will adopt the second approach as it will be more tricky to calculate:**"
   ]
  },
  {
   "cell_type": "code",
   "execution_count": 0,
   "metadata": {
    "colab": {
     "base_uri": "https://localhost:8080/",
     "height": 206
    },
    "colab_type": "code",
    "executionInfo": {
     "elapsed": 3935,
     "status": "ok",
     "timestamp": 1583731219159,
     "user": {
      "displayName": "Mahmoud K. Shoush",
      "photoUrl": "https://lh3.googleusercontent.com/a-/AOh14Gg9UiBaJaGnafDynGv5Ght5Z18MwCGvDUW8ttd2=s64",
      "userId": "05621694697917066197"
     },
     "user_tz": -120
    },
    "id": "uCo5bg3eQF0f",
    "outputId": "2ec39582-6ae1-4ed6-c514-9666e536ff17"
   },
   "outputs": [
    {
     "data": {
      "text/html": [
       "<div>\n",
       "<style scoped>\n",
       "    .dataframe tbody tr th:only-of-type {\n",
       "        vertical-align: middle;\n",
       "    }\n",
       "\n",
       "    .dataframe tbody tr th {\n",
       "        vertical-align: top;\n",
       "    }\n",
       "\n",
       "    .dataframe thead th {\n",
       "        text-align: right;\n",
       "    }\n",
       "</style>\n",
       "<table border=\"1\" class=\"dataframe\">\n",
       "  <thead>\n",
       "    <tr style=\"text-align: right;\">\n",
       "      <th></th>\n",
       "      <th>transaction_id</th>\n",
       "      <th>transaction_date</th>\n",
       "      <th>customer_id</th>\n",
       "      <th>amount</th>\n",
       "      <th>year</th>\n",
       "      <th>min_year</th>\n",
       "      <th>max_year</th>\n",
       "      <th>years_active</th>\n",
       "    </tr>\n",
       "  </thead>\n",
       "  <tbody>\n",
       "    <tr>\n",
       "      <th>0</th>\n",
       "      <td>1</td>\n",
       "      <td>2012-09-04</td>\n",
       "      <td>1</td>\n",
       "      <td>20.96</td>\n",
       "      <td>2012</td>\n",
       "      <td>2012</td>\n",
       "      <td>2012</td>\n",
       "      <td>1</td>\n",
       "    </tr>\n",
       "    <tr>\n",
       "      <th>1</th>\n",
       "      <td>2</td>\n",
       "      <td>2012-05-15</td>\n",
       "      <td>2</td>\n",
       "      <td>10.87</td>\n",
       "      <td>2012</td>\n",
       "      <td>2012</td>\n",
       "      <td>2014</td>\n",
       "      <td>3</td>\n",
       "    </tr>\n",
       "    <tr>\n",
       "      <th>2</th>\n",
       "      <td>3</td>\n",
       "      <td>2014-05-23</td>\n",
       "      <td>2</td>\n",
       "      <td>2.21</td>\n",
       "      <td>2014</td>\n",
       "      <td>2012</td>\n",
       "      <td>2014</td>\n",
       "      <td>3</td>\n",
       "    </tr>\n",
       "    <tr>\n",
       "      <th>3</th>\n",
       "      <td>4</td>\n",
       "      <td>2014-10-24</td>\n",
       "      <td>2</td>\n",
       "      <td>10.48</td>\n",
       "      <td>2014</td>\n",
       "      <td>2012</td>\n",
       "      <td>2014</td>\n",
       "      <td>3</td>\n",
       "    </tr>\n",
       "    <tr>\n",
       "      <th>4</th>\n",
       "      <td>5</td>\n",
       "      <td>2012-10-13</td>\n",
       "      <td>2</td>\n",
       "      <td>3.94</td>\n",
       "      <td>2012</td>\n",
       "      <td>2012</td>\n",
       "      <td>2014</td>\n",
       "      <td>3</td>\n",
       "    </tr>\n",
       "  </tbody>\n",
       "</table>\n",
       "</div>"
      ],
      "text/plain": [
       "   transaction_id transaction_date  ...  max_year  years_active\n",
       "0               1       2012-09-04  ...      2012             1\n",
       "1               2       2012-05-15  ...      2014             3\n",
       "2               3       2014-05-23  ...      2014             3\n",
       "3               4       2014-10-24  ...      2014             3\n",
       "4               5       2012-10-13  ...      2014             3\n",
       "\n",
       "[5 rows x 8 columns]"
      ]
     },
     "execution_count": 10,
     "metadata": {
      "tags": []
     },
     "output_type": "execute_result"
    }
   ],
   "source": [
    "# group by customer id from our original df\n",
    "group = df.groupby('customer_id')\n",
    "\n",
    "# add 3 more columns (min_year, max_year, years_active) to our df \n",
    "df['min_year'] = group['year'].transform('min') # get min year\n",
    "df['max_year'] = group['year'].transform('max') # get max year\n",
    "\n",
    "df.head()"
   ]
  },
  {
   "cell_type": "markdown",
   "metadata": {
    "colab_type": "text",
    "id": "1EeEBnbSuPRI"
   },
   "source": [
    "## Ex 1:  \n",
    "\n",
    "1. Using min_year, and max_year please calculate the number of active years for each custmer, and put the output in a new column to our df. Name the new column with `years_active`\n"
   ]
  },
  {
   "cell_type": "code",
   "execution_count": 0,
   "metadata": {
    "colab": {},
    "colab_type": "code",
    "id": "_2J10BdbuukY"
   },
   "outputs": [],
   "source": [
    "#TODO: \n",
    "# df['years_active'] = ?\n",
    "\n"
   ]
  },
  {
   "cell_type": "code",
   "execution_count": 0,
   "metadata": {
    "colab": {},
    "colab_type": "code",
    "id": "8ZrPyyo8QF0l"
   },
   "outputs": [],
   "source": [
    "#group['customer_id'].unique()[0].size"
   ]
  },
  {
   "cell_type": "markdown",
   "metadata": {
    "colab_type": "text",
    "id": "sDyfMfT8vQ12"
   },
   "source": [
    "### Active customers: \n",
    "\n",
    "* we need to add the following features to our active custmers df:\n",
    "\n",
    "1. customers_unique\n",
    "2. transactions_unique\n",
    "3. amount\n",
    "4. cumulative_amount"
   ]
  },
  {
   "cell_type": "code",
   "execution_count": 0,
   "metadata": {
    "colab": {
     "base_uri": "https://localhost:8080/",
     "height": 206
    },
    "colab_type": "code",
    "executionInfo": {
     "elapsed": 867,
     "status": "ok",
     "timestamp": 1583731413833,
     "user": {
      "displayName": "Mahmoud K. Shoush",
      "photoUrl": "https://lh3.googleusercontent.com/a-/AOh14Gg9UiBaJaGnafDynGv5Ght5Z18MwCGvDUW8ttd2=s64",
      "userId": "05621694697917066197"
     },
     "user_tz": -120
    },
    "id": "xyGI3Zexv10d",
    "outputId": "5e7587d5-0e4b-4ce3-a74b-931ec7583e1b"
   },
   "outputs": [
    {
     "data": {
      "text/html": [
       "<div>\n",
       "<style scoped>\n",
       "    .dataframe tbody tr th:only-of-type {\n",
       "        vertical-align: middle;\n",
       "    }\n",
       "\n",
       "    .dataframe tbody tr th {\n",
       "        vertical-align: top;\n",
       "    }\n",
       "\n",
       "    .dataframe thead th {\n",
       "        text-align: right;\n",
       "    }\n",
       "</style>\n",
       "<table border=\"1\" class=\"dataframe\">\n",
       "  <thead>\n",
       "    <tr style=\"text-align: right;\">\n",
       "      <th></th>\n",
       "      <th>transaction_id</th>\n",
       "      <th>transaction_date</th>\n",
       "      <th>customer_id</th>\n",
       "      <th>amount</th>\n",
       "      <th>year</th>\n",
       "      <th>min_year</th>\n",
       "      <th>max_year</th>\n",
       "      <th>years_active</th>\n",
       "    </tr>\n",
       "  </thead>\n",
       "  <tbody>\n",
       "    <tr>\n",
       "      <th>0</th>\n",
       "      <td>1</td>\n",
       "      <td>2012-09-04</td>\n",
       "      <td>1</td>\n",
       "      <td>20.96</td>\n",
       "      <td>2012</td>\n",
       "      <td>2012</td>\n",
       "      <td>2012</td>\n",
       "      <td>1</td>\n",
       "    </tr>\n",
       "    <tr>\n",
       "      <th>1</th>\n",
       "      <td>2</td>\n",
       "      <td>2012-05-15</td>\n",
       "      <td>2</td>\n",
       "      <td>10.87</td>\n",
       "      <td>2012</td>\n",
       "      <td>2012</td>\n",
       "      <td>2014</td>\n",
       "      <td>3</td>\n",
       "    </tr>\n",
       "    <tr>\n",
       "      <th>2</th>\n",
       "      <td>3</td>\n",
       "      <td>2014-05-23</td>\n",
       "      <td>2</td>\n",
       "      <td>2.21</td>\n",
       "      <td>2014</td>\n",
       "      <td>2012</td>\n",
       "      <td>2014</td>\n",
       "      <td>3</td>\n",
       "    </tr>\n",
       "    <tr>\n",
       "      <th>3</th>\n",
       "      <td>4</td>\n",
       "      <td>2014-10-24</td>\n",
       "      <td>2</td>\n",
       "      <td>10.48</td>\n",
       "      <td>2014</td>\n",
       "      <td>2012</td>\n",
       "      <td>2014</td>\n",
       "      <td>3</td>\n",
       "    </tr>\n",
       "    <tr>\n",
       "      <th>4</th>\n",
       "      <td>5</td>\n",
       "      <td>2012-10-13</td>\n",
       "      <td>2</td>\n",
       "      <td>3.94</td>\n",
       "      <td>2012</td>\n",
       "      <td>2012</td>\n",
       "      <td>2014</td>\n",
       "      <td>3</td>\n",
       "    </tr>\n",
       "  </tbody>\n",
       "</table>\n",
       "</div>"
      ],
      "text/plain": [
       "   transaction_id transaction_date  ...  max_year  years_active\n",
       "0               1       2012-09-04  ...      2012             1\n",
       "1               2       2012-05-15  ...      2014             3\n",
       "2               3       2014-05-23  ...      2014             3\n",
       "3               4       2014-10-24  ...      2014             3\n",
       "4               5       2012-10-13  ...      2014             3\n",
       "\n",
       "[5 rows x 8 columns]"
      ]
     },
     "execution_count": 49,
     "metadata": {
      "tags": []
     },
     "output_type": "execute_result"
    }
   ],
   "source": [
    "df.head()"
   ]
  },
  {
   "cell_type": "code",
   "execution_count": 0,
   "metadata": {
    "colab": {
     "base_uri": "https://localhost:8080/",
     "height": 394
    },
    "colab_type": "code",
    "executionInfo": {
     "elapsed": 3904,
     "status": "ok",
     "timestamp": 1583731219165,
     "user": {
      "displayName": "Mahmoud K. Shoush",
      "photoUrl": "https://lh3.googleusercontent.com/a-/AOh14Gg9UiBaJaGnafDynGv5Ght5Z18MwCGvDUW8ttd2=s64",
      "userId": "05621694697917066197"
     },
     "user_tz": -120
    },
    "id": "trWJ2cjeQF0r",
    "outputId": "f01845d2-beb5-4597-d6e7-887be54f9764"
   },
   "outputs": [
    {
     "data": {
      "text/html": [
       "<div>\n",
       "<style scoped>\n",
       "    .dataframe tbody tr th:only-of-type {\n",
       "        vertical-align: middle;\n",
       "    }\n",
       "\n",
       "    .dataframe tbody tr th {\n",
       "        vertical-align: top;\n",
       "    }\n",
       "\n",
       "    .dataframe thead th {\n",
       "        text-align: right;\n",
       "    }\n",
       "</style>\n",
       "<table border=\"1\" class=\"dataframe\">\n",
       "  <thead>\n",
       "    <tr style=\"text-align: right;\">\n",
       "      <th></th>\n",
       "      <th></th>\n",
       "      <th>customers_unique</th>\n",
       "      <th>transactions_unique</th>\n",
       "      <th>amount</th>\n",
       "      <th>cumulative_amount</th>\n",
       "    </tr>\n",
       "    <tr>\n",
       "      <th>min_year</th>\n",
       "      <th>year</th>\n",
       "      <th></th>\n",
       "      <th></th>\n",
       "      <th></th>\n",
       "      <th></th>\n",
       "    </tr>\n",
       "  </thead>\n",
       "  <tbody>\n",
       "    <tr>\n",
       "      <th rowspan=\"6\" valign=\"top\">2010</th>\n",
       "      <th>2010</th>\n",
       "      <td>172</td>\n",
       "      <td>260</td>\n",
       "      <td>2255.07</td>\n",
       "      <td>2255.07</td>\n",
       "    </tr>\n",
       "    <tr>\n",
       "      <th>2011</th>\n",
       "      <td>93</td>\n",
       "      <td>177</td>\n",
       "      <td>1358.78</td>\n",
       "      <td>3613.85</td>\n",
       "    </tr>\n",
       "    <tr>\n",
       "      <th>2012</th>\n",
       "      <td>104</td>\n",
       "      <td>195</td>\n",
       "      <td>1658.02</td>\n",
       "      <td>5271.87</td>\n",
       "    </tr>\n",
       "    <tr>\n",
       "      <th>2013</th>\n",
       "      <td>91</td>\n",
       "      <td>164</td>\n",
       "      <td>1355.56</td>\n",
       "      <td>6627.43</td>\n",
       "    </tr>\n",
       "    <tr>\n",
       "      <th>2014</th>\n",
       "      <td>103</td>\n",
       "      <td>163</td>\n",
       "      <td>1295.52</td>\n",
       "      <td>7922.95</td>\n",
       "    </tr>\n",
       "    <tr>\n",
       "      <th>2015</th>\n",
       "      <td>82</td>\n",
       "      <td>128</td>\n",
       "      <td>1033.60</td>\n",
       "      <td>8956.55</td>\n",
       "    </tr>\n",
       "    <tr>\n",
       "      <th rowspan=\"4\" valign=\"top\">2011</th>\n",
       "      <th>2011</th>\n",
       "      <td>170</td>\n",
       "      <td>263</td>\n",
       "      <td>2238.46</td>\n",
       "      <td>2238.46</td>\n",
       "    </tr>\n",
       "    <tr>\n",
       "      <th>2012</th>\n",
       "      <td>92</td>\n",
       "      <td>189</td>\n",
       "      <td>1519.57</td>\n",
       "      <td>3758.03</td>\n",
       "    </tr>\n",
       "    <tr>\n",
       "      <th>2013</th>\n",
       "      <td>98</td>\n",
       "      <td>192</td>\n",
       "      <td>1707.09</td>\n",
       "      <td>5465.12</td>\n",
       "    </tr>\n",
       "    <tr>\n",
       "      <th>2014</th>\n",
       "      <td>89</td>\n",
       "      <td>155</td>\n",
       "      <td>1237.02</td>\n",
       "      <td>6702.14</td>\n",
       "    </tr>\n",
       "  </tbody>\n",
       "</table>\n",
       "</div>"
      ],
      "text/plain": [
       "               customers_unique  ...  cumulative_amount\n",
       "min_year year                    ...                   \n",
       "2010     2010               172  ...            2255.07\n",
       "         2011                93  ...            3613.85\n",
       "         2012               104  ...            5271.87\n",
       "         2013                91  ...            6627.43\n",
       "         2014               103  ...            7922.95\n",
       "         2015                82  ...            8956.55\n",
       "2011     2011               170  ...            2238.46\n",
       "         2012                92  ...            3758.03\n",
       "         2013                98  ...            5465.12\n",
       "         2014                89  ...            6702.14\n",
       "\n",
       "[10 rows x 4 columns]"
      ]
     },
     "execution_count": 12,
     "metadata": {
      "tags": []
     },
     "output_type": "execute_result"
    }
   ],
   "source": [
    "# define new df for the active customers\n",
    "active_customers = pd.DataFrame()\n",
    "\n",
    "# group by two cols \n",
    "# group customers by the starting year and the transactional years.\n",
    "group = df.groupby(['min_year', 'year'])\n",
    "\n",
    "# start adding cols to active customer \n",
    "\n",
    "# number of unique customers for the pairs \n",
    "# (starting year, transactional year)\n",
    "# number of unique customers for each year\n",
    "active_customers['customers_unique'] = group['customer_id'].unique().apply(lambda x: x.size)\n",
    "\n",
    "# number of unique transactions for each year\n",
    "active_customers['transactions_unique'] = group['transaction_id'].unique().apply(lambda x: x.size)\n",
    "\n",
    "# total amount of money spent in that year\n",
    "active_customers['amount'] = group['amount'].sum()\n",
    "\n",
    "#cumulative amount of money spent from previous years till current year\n",
    "active_customers['cumulative_amount'] = group['amount'].sum().groupby(by='min_year').cumsum()\n",
    "\n",
    "active_customers.head(10)"
   ]
  },
  {
   "cell_type": "code",
   "execution_count": 0,
   "metadata": {
    "colab": {
     "base_uri": "https://localhost:8080/",
     "height": 269
    },
    "colab_type": "code",
    "executionInfo": {
     "elapsed": 3891,
     "status": "ok",
     "timestamp": 1583731219167,
     "user": {
      "displayName": "Mahmoud K. Shoush",
      "photoUrl": "https://lh3.googleusercontent.com/a-/AOh14Gg9UiBaJaGnafDynGv5Ght5Z18MwCGvDUW8ttd2=s64",
      "userId": "05621694697917066197"
     },
     "user_tz": -120
    },
    "id": "HSVBn35gQF0v",
    "outputId": "0bbb0a72-fd81-42b3-d777-e8c80173bfd9"
   },
   "outputs": [
    {
     "data": {
      "text/html": [
       "<div>\n",
       "<style scoped>\n",
       "    .dataframe tbody tr th:only-of-type {\n",
       "        vertical-align: middle;\n",
       "    }\n",
       "\n",
       "    .dataframe tbody tr th {\n",
       "        vertical-align: top;\n",
       "    }\n",
       "\n",
       "    .dataframe thead th {\n",
       "        text-align: right;\n",
       "    }\n",
       "</style>\n",
       "<table border=\"1\" class=\"dataframe\">\n",
       "  <thead>\n",
       "    <tr style=\"text-align: right;\">\n",
       "      <th>year</th>\n",
       "      <th>2010</th>\n",
       "      <th>2011</th>\n",
       "      <th>2012</th>\n",
       "      <th>2013</th>\n",
       "      <th>2014</th>\n",
       "      <th>2015</th>\n",
       "    </tr>\n",
       "    <tr>\n",
       "      <th>min_year</th>\n",
       "      <th></th>\n",
       "      <th></th>\n",
       "      <th></th>\n",
       "      <th></th>\n",
       "      <th></th>\n",
       "      <th></th>\n",
       "    </tr>\n",
       "  </thead>\n",
       "  <tbody>\n",
       "    <tr>\n",
       "      <th>2010</th>\n",
       "      <td>172</td>\n",
       "      <td>93</td>\n",
       "      <td>104</td>\n",
       "      <td>91</td>\n",
       "      <td>103</td>\n",
       "      <td>82.0</td>\n",
       "    </tr>\n",
       "    <tr>\n",
       "      <th>2011</th>\n",
       "      <td></td>\n",
       "      <td>170</td>\n",
       "      <td>92</td>\n",
       "      <td>98</td>\n",
       "      <td>89</td>\n",
       "      <td>88.0</td>\n",
       "    </tr>\n",
       "    <tr>\n",
       "      <th>2012</th>\n",
       "      <td></td>\n",
       "      <td></td>\n",
       "      <td>163</td>\n",
       "      <td>109</td>\n",
       "      <td>98</td>\n",
       "      <td>90.0</td>\n",
       "    </tr>\n",
       "    <tr>\n",
       "      <th>2013</th>\n",
       "      <td></td>\n",
       "      <td></td>\n",
       "      <td></td>\n",
       "      <td>180</td>\n",
       "      <td>103</td>\n",
       "      <td>102.0</td>\n",
       "    </tr>\n",
       "    <tr>\n",
       "      <th>2014</th>\n",
       "      <td></td>\n",
       "      <td></td>\n",
       "      <td></td>\n",
       "      <td></td>\n",
       "      <td>155</td>\n",
       "      <td>90.0</td>\n",
       "    </tr>\n",
       "    <tr>\n",
       "      <th>2015</th>\n",
       "      <td></td>\n",
       "      <td></td>\n",
       "      <td></td>\n",
       "      <td></td>\n",
       "      <td></td>\n",
       "      <td>160.0</td>\n",
       "    </tr>\n",
       "  </tbody>\n",
       "</table>\n",
       "</div>"
      ],
      "text/plain": [
       "year     2010 2011 2012 2013 2014   2015\n",
       "min_year                                \n",
       "2010      172   93  104   91  103   82.0\n",
       "2011           170   92   98   89   88.0\n",
       "2012                163  109   98   90.0\n",
       "2013                     180  103  102.0\n",
       "2014                          155   90.0\n",
       "2015                               160.0"
      ]
     },
     "execution_count": 13,
     "metadata": {
      "tags": []
     },
     "output_type": "execute_result"
    }
   ],
   "source": [
    "# Pivot: allows you to transform or reshape data\n",
    "# index = rows\n",
    "# columns = cols\n",
    "\n",
    "\n",
    "# # you can pick any feature to display \n",
    "# fillna('') to replace missing values with space\n",
    "active_customers.reset_index().pivot(index='min_year', columns='year', values='customers_unique').fillna('')"
   ]
  },
  {
   "cell_type": "markdown",
   "metadata": {
    "colab_type": "text",
    "id": "vTznKNAGQF01"
   },
   "source": [
    "<font size=\"2\">**The second part is to calculate for each year the number of new customers:**"
   ]
  },
  {
   "cell_type": "code",
   "execution_count": 0,
   "metadata": {
    "colab": {
     "base_uri": "https://localhost:8080/",
     "height": 156
    },
    "colab_type": "code",
    "executionInfo": {
     "elapsed": 3876,
     "status": "ok",
     "timestamp": 1583731219169,
     "user": {
      "displayName": "Mahmoud K. Shoush",
      "photoUrl": "https://lh3.googleusercontent.com/a-/AOh14Gg9UiBaJaGnafDynGv5Ght5Z18MwCGvDUW8ttd2=s64",
      "userId": "05621694697917066197"
     },
     "user_tz": -120
    },
    "id": "Kf-58VaeQF03",
    "outputId": "98c52222-689b-41fe-8443-e8c8592b59f8"
   },
   "outputs": [
    {
     "data": {
      "text/plain": [
       "min_year\n",
       "2010    172\n",
       "2011    170\n",
       "2012    163\n",
       "2013    180\n",
       "2014    155\n",
       "2015    160\n",
       "Name: new_customers, dtype: int64"
      ]
     },
     "execution_count": 14,
     "metadata": {
      "tags": []
     },
     "output_type": "execute_result"
    }
   ],
   "source": [
    "# now will compute the amount of the new customers in each year\n",
    "group = df.groupby(['min_year'])\n",
    "\n",
    "new_customers = pd.DataFrame()\n",
    "new_customers = group['customer_id'].unique().apply(lambda x: x.size).rename('new_customers')\n",
    "new_customers.head(10)"
   ]
  },
  {
   "cell_type": "markdown",
   "metadata": {
    "colab_type": "text",
    "id": "H341BWZmQF09"
   },
   "source": [
    "<font size=\"2\">**Combine the two datasets active custmers and new customers:**"
   ]
  },
  {
   "cell_type": "code",
   "execution_count": 0,
   "metadata": {
    "colab": {
     "base_uri": "https://localhost:8080/",
     "height": 394
    },
    "colab_type": "code",
    "executionInfo": {
     "elapsed": 3866,
     "status": "ok",
     "timestamp": 1583731219171,
     "user": {
      "displayName": "Mahmoud K. Shoush",
      "photoUrl": "https://lh3.googleusercontent.com/a-/AOh14Gg9UiBaJaGnafDynGv5Ght5Z18MwCGvDUW8ttd2=s64",
      "userId": "05621694697917066197"
     },
     "user_tz": -120
    },
    "id": "n8UtN32xQF0-",
    "outputId": "a84892a5-dc65-40a2-bebd-e1e130185894"
   },
   "outputs": [
    {
     "data": {
      "text/html": [
       "<div>\n",
       "<style scoped>\n",
       "    .dataframe tbody tr th:only-of-type {\n",
       "        vertical-align: middle;\n",
       "    }\n",
       "\n",
       "    .dataframe tbody tr th {\n",
       "        vertical-align: top;\n",
       "    }\n",
       "\n",
       "    .dataframe thead th {\n",
       "        text-align: right;\n",
       "    }\n",
       "</style>\n",
       "<table border=\"1\" class=\"dataframe\">\n",
       "  <thead>\n",
       "    <tr style=\"text-align: right;\">\n",
       "      <th></th>\n",
       "      <th></th>\n",
       "      <th>customers_unique</th>\n",
       "      <th>transactions_unique</th>\n",
       "      <th>amount</th>\n",
       "      <th>cumulative_amount</th>\n",
       "      <th>new_customers</th>\n",
       "    </tr>\n",
       "    <tr>\n",
       "      <th>min_year</th>\n",
       "      <th>year</th>\n",
       "      <th></th>\n",
       "      <th></th>\n",
       "      <th></th>\n",
       "      <th></th>\n",
       "      <th></th>\n",
       "    </tr>\n",
       "  </thead>\n",
       "  <tbody>\n",
       "    <tr>\n",
       "      <th rowspan=\"6\" valign=\"top\">2010</th>\n",
       "      <th>2010</th>\n",
       "      <td>172</td>\n",
       "      <td>260</td>\n",
       "      <td>2255.07</td>\n",
       "      <td>2255.07</td>\n",
       "      <td>172</td>\n",
       "    </tr>\n",
       "    <tr>\n",
       "      <th>2011</th>\n",
       "      <td>93</td>\n",
       "      <td>177</td>\n",
       "      <td>1358.78</td>\n",
       "      <td>3613.85</td>\n",
       "      <td>172</td>\n",
       "    </tr>\n",
       "    <tr>\n",
       "      <th>2012</th>\n",
       "      <td>104</td>\n",
       "      <td>195</td>\n",
       "      <td>1658.02</td>\n",
       "      <td>5271.87</td>\n",
       "      <td>172</td>\n",
       "    </tr>\n",
       "    <tr>\n",
       "      <th>2013</th>\n",
       "      <td>91</td>\n",
       "      <td>164</td>\n",
       "      <td>1355.56</td>\n",
       "      <td>6627.43</td>\n",
       "      <td>172</td>\n",
       "    </tr>\n",
       "    <tr>\n",
       "      <th>2014</th>\n",
       "      <td>103</td>\n",
       "      <td>163</td>\n",
       "      <td>1295.52</td>\n",
       "      <td>7922.95</td>\n",
       "      <td>172</td>\n",
       "    </tr>\n",
       "    <tr>\n",
       "      <th>2015</th>\n",
       "      <td>82</td>\n",
       "      <td>128</td>\n",
       "      <td>1033.60</td>\n",
       "      <td>8956.55</td>\n",
       "      <td>172</td>\n",
       "    </tr>\n",
       "    <tr>\n",
       "      <th rowspan=\"4\" valign=\"top\">2011</th>\n",
       "      <th>2011</th>\n",
       "      <td>170</td>\n",
       "      <td>263</td>\n",
       "      <td>2238.46</td>\n",
       "      <td>2238.46</td>\n",
       "      <td>170</td>\n",
       "    </tr>\n",
       "    <tr>\n",
       "      <th>2012</th>\n",
       "      <td>92</td>\n",
       "      <td>189</td>\n",
       "      <td>1519.57</td>\n",
       "      <td>3758.03</td>\n",
       "      <td>170</td>\n",
       "    </tr>\n",
       "    <tr>\n",
       "      <th>2013</th>\n",
       "      <td>98</td>\n",
       "      <td>192</td>\n",
       "      <td>1707.09</td>\n",
       "      <td>5465.12</td>\n",
       "      <td>170</td>\n",
       "    </tr>\n",
       "    <tr>\n",
       "      <th>2014</th>\n",
       "      <td>89</td>\n",
       "      <td>155</td>\n",
       "      <td>1237.02</td>\n",
       "      <td>6702.14</td>\n",
       "      <td>170</td>\n",
       "    </tr>\n",
       "  </tbody>\n",
       "</table>\n",
       "</div>"
      ],
      "text/plain": [
       "               customers_unique  ...  new_customers\n",
       "min_year year                    ...               \n",
       "2010     2010               172  ...            172\n",
       "         2011                93  ...            172\n",
       "         2012               104  ...            172\n",
       "         2013                91  ...            172\n",
       "         2014               103  ...            172\n",
       "         2015                82  ...            172\n",
       "2011     2011               170  ...            170\n",
       "         2012                92  ...            170\n",
       "         2013                98  ...            170\n",
       "         2014                89  ...            170\n",
       "\n",
       "[10 rows x 5 columns]"
      ]
     },
     "execution_count": 15,
     "metadata": {
      "tags": []
     },
     "output_type": "execute_result"
    }
   ],
   "source": [
    "# using join to Combine the two datasets:\n",
    "\n",
    "active_customers = active_customers.join(new_customers, on='min_year')\n",
    "active_customers.head(10)"
   ]
  },
  {
   "cell_type": "markdown",
   "metadata": {
    "colab_type": "text",
    "id": "X2Dx3gcgQF1D"
   },
   "source": [
    "<font size=\"2\">**Now, we are ready to calculate several important measures:**\n",
    "    \n",
    "\n",
    "1. customer retention rate $=$ $\\frac{active\\_customers}{new\\_ customers}$ \n",
    "\n",
    "\n",
    "2. transactions per customer $=$ $\\frac{transactions}{active\\_customers}$\n",
    "\n",
    "\n",
    "3. amount per transaction $=$ $\\frac{amount}{transactions}$"
   ]
  },
  {
   "cell_type": "code",
   "execution_count": 0,
   "metadata": {
    "colab": {
     "base_uri": "https://localhost:8080/",
     "height": 206
    },
    "colab_type": "code",
    "executionInfo": {
     "elapsed": 3854,
     "status": "ok",
     "timestamp": 1583731219172,
     "user": {
      "displayName": "Mahmoud K. Shoush",
      "photoUrl": "https://lh3.googleusercontent.com/a-/AOh14Gg9UiBaJaGnafDynGv5Ght5Z18MwCGvDUW8ttd2=s64",
      "userId": "05621694697917066197"
     },
     "user_tz": -120
    },
    "id": "fP8lbqV0QF1F",
    "outputId": "f091c00a-7020-49e1-81dc-07881e37c177"
   },
   "outputs": [
    {
     "data": {
      "text/html": [
       "<div>\n",
       "<style scoped>\n",
       "    .dataframe tbody tr th:only-of-type {\n",
       "        vertical-align: middle;\n",
       "    }\n",
       "\n",
       "    .dataframe tbody tr th {\n",
       "        vertical-align: top;\n",
       "    }\n",
       "\n",
       "    .dataframe thead th {\n",
       "        text-align: right;\n",
       "    }\n",
       "</style>\n",
       "<table border=\"1\" class=\"dataframe\">\n",
       "  <thead>\n",
       "    <tr style=\"text-align: right;\">\n",
       "      <th></th>\n",
       "      <th>min_year</th>\n",
       "      <th>year</th>\n",
       "      <th>customers_unique</th>\n",
       "      <th>retention</th>\n",
       "      <th>trans_per_customer</th>\n",
       "      <th>amount_per_trans</th>\n",
       "    </tr>\n",
       "  </thead>\n",
       "  <tbody>\n",
       "    <tr>\n",
       "      <th>0</th>\n",
       "      <td>2010</td>\n",
       "      <td>2010</td>\n",
       "      <td>172</td>\n",
       "      <td>1.000000</td>\n",
       "      <td>1.511628</td>\n",
       "      <td>8.673346</td>\n",
       "    </tr>\n",
       "    <tr>\n",
       "      <th>1</th>\n",
       "      <td>2010</td>\n",
       "      <td>2011</td>\n",
       "      <td>93</td>\n",
       "      <td>0.540698</td>\n",
       "      <td>1.903226</td>\n",
       "      <td>7.676723</td>\n",
       "    </tr>\n",
       "    <tr>\n",
       "      <th>2</th>\n",
       "      <td>2010</td>\n",
       "      <td>2012</td>\n",
       "      <td>104</td>\n",
       "      <td>0.604651</td>\n",
       "      <td>1.875000</td>\n",
       "      <td>8.502667</td>\n",
       "    </tr>\n",
       "    <tr>\n",
       "      <th>3</th>\n",
       "      <td>2010</td>\n",
       "      <td>2013</td>\n",
       "      <td>91</td>\n",
       "      <td>0.529070</td>\n",
       "      <td>1.802198</td>\n",
       "      <td>8.265610</td>\n",
       "    </tr>\n",
       "    <tr>\n",
       "      <th>4</th>\n",
       "      <td>2010</td>\n",
       "      <td>2014</td>\n",
       "      <td>103</td>\n",
       "      <td>0.598837</td>\n",
       "      <td>1.582524</td>\n",
       "      <td>7.947975</td>\n",
       "    </tr>\n",
       "  </tbody>\n",
       "</table>\n",
       "</div>"
      ],
      "text/plain": [
       "   min_year  year  ...  trans_per_customer  amount_per_trans\n",
       "0      2010  2010  ...            1.511628          8.673346\n",
       "1      2010  2011  ...            1.903226          7.676723\n",
       "2      2010  2012  ...            1.875000          8.502667\n",
       "3      2010  2013  ...            1.802198          8.265610\n",
       "4      2010  2014  ...            1.582524          7.947975\n",
       "\n",
       "[5 rows x 6 columns]"
      ]
     },
     "execution_count": 16,
     "metadata": {
      "tags": []
     },
     "output_type": "execute_result"
    }
   ],
   "source": [
    "# new dataframe to hold different calculations\n",
    "active_customers_stat = pd.DataFrame()\n",
    "\n",
    "\n",
    "active_customers_stat = active_customers_stat.assign(\n",
    "    customers_unique = active_customers['customers_unique'],\n",
    "    retention = active_customers['customers_unique'] / active_customers['new_customers'], # retention\n",
    "    trans_per_customer = active_customers['transactions_unique'] / active_customers['customers_unique'],\n",
    "    amount_per_trans = active_customers['amount'] / active_customers['transactions_unique']\n",
    ")\n",
    "\n",
    "\n",
    "active_customers_stat = active_customers_stat.reset_index()\n",
    "active_customers_stat.head()"
   ]
  },
  {
   "cell_type": "code",
   "execution_count": 0,
   "metadata": {
    "colab": {
     "base_uri": "https://localhost:8080/",
     "height": 364
    },
    "colab_type": "code",
    "executionInfo": {
     "elapsed": 4772,
     "status": "ok",
     "timestamp": 1583731220104,
     "user": {
      "displayName": "Mahmoud K. Shoush",
      "photoUrl": "https://lh3.googleusercontent.com/a-/AOh14Gg9UiBaJaGnafDynGv5Ght5Z18MwCGvDUW8ttd2=s64",
      "userId": "05621694697917066197"
     },
     "user_tz": -120
    },
    "id": "-MUWIyJXQF1L",
    "outputId": "2753e5b0-5e6b-476c-b79f-136596ac0b01"
   },
   "outputs": [
    {
     "data": {
      "image/png": "[encoded data removed]",
      "text/plain": [
       "<Figure size 576x360 with 1 Axes>"
      ]
     },
     "metadata": {
      "tags": []
     },
     "output_type": "display_data"
    }
   ],
   "source": [
    "# here in this plot we look how retention rate change during five years\n",
    "# plot \n",
    "active_customers_stat.pivot(index='year', \n",
    "                            columns='min_year', \n",
    "                            values='retention').plot(figsize=(8,5), grid=True, style=\"*-\")\n",
    "\n",
    "# set titles for figure, x, y\n",
    "plt.title('Retention per year',fontsize=20)\n",
    "plt.xlabel('Year', fontsize=20)\n",
    "plt.ylabel('Retention',fontsize=20)\n",
    "\n",
    "\n",
    "plt.xticks(fontsize = 10) \n",
    "plt.yticks(fontsize = 10) \n",
    "plt.grid(True)\n",
    "plt.show()\n",
    "\n",
    "plt.show()\n"
   ]
  },
  {
   "cell_type": "markdown",
   "metadata": {
    "colab_type": "text",
    "id": "VoB3-dlkQF1P"
   },
   "source": [
    "<font size=\"2\">**Looking long enough at these numbers, we can infer:**\n",
    "    \n",
    "   * <font size=\"2\">we are able to retain around 60% of the new customers for the next year\n",
    "\n"
   ]
  },
  {
   "cell_type": "markdown",
   "metadata": {
    "colab_type": "text",
    "id": "r0v20tRBQF1Q"
   },
   "source": [
    "<font size=\"3\">Now we can calculate the **historical CLV**, which is cumulative spending per customer over time divided by amount of new customers each year\n",
    "    \n",
    "* historical CLV $=$ $\\frac{cumulative\\_amount}{new\\_cutomers}$"
   ]
  },
  {
   "cell_type": "code",
   "execution_count": 0,
   "metadata": {
    "colab": {
     "base_uri": "https://localhost:8080/",
     "height": 206
    },
    "colab_type": "code",
    "executionInfo": {
     "elapsed": 4760,
     "status": "ok",
     "timestamp": 1583731220106,
     "user": {
      "displayName": "Mahmoud K. Shoush",
      "photoUrl": "https://lh3.googleusercontent.com/a-/AOh14Gg9UiBaJaGnafDynGv5Ght5Z18MwCGvDUW8ttd2=s64",
      "userId": "05621694697917066197"
     },
     "user_tz": -120
    },
    "id": "JHBODSemQF1T",
    "outputId": "da4198b3-f7ad-476a-a71e-70afa1c1008d"
   },
   "outputs": [
    {
     "data": {
      "text/html": [
       "<div>\n",
       "<style scoped>\n",
       "    .dataframe tbody tr th:only-of-type {\n",
       "        vertical-align: middle;\n",
       "    }\n",
       "\n",
       "    .dataframe tbody tr th {\n",
       "        vertical-align: top;\n",
       "    }\n",
       "\n",
       "    .dataframe thead th {\n",
       "        text-align: right;\n",
       "    }\n",
       "</style>\n",
       "<table border=\"1\" class=\"dataframe\">\n",
       "  <thead>\n",
       "    <tr style=\"text-align: right;\">\n",
       "      <th></th>\n",
       "      <th>min_year</th>\n",
       "      <th>year</th>\n",
       "      <th>customers_unique</th>\n",
       "      <th>transactions_unique</th>\n",
       "      <th>amount</th>\n",
       "      <th>cumulative_amount</th>\n",
       "      <th>new_customers</th>\n",
       "    </tr>\n",
       "  </thead>\n",
       "  <tbody>\n",
       "    <tr>\n",
       "      <th>0</th>\n",
       "      <td>2010</td>\n",
       "      <td>2010</td>\n",
       "      <td>172</td>\n",
       "      <td>260</td>\n",
       "      <td>2255.07</td>\n",
       "      <td>2255.07</td>\n",
       "      <td>172</td>\n",
       "    </tr>\n",
       "    <tr>\n",
       "      <th>1</th>\n",
       "      <td>2010</td>\n",
       "      <td>2011</td>\n",
       "      <td>93</td>\n",
       "      <td>177</td>\n",
       "      <td>1358.78</td>\n",
       "      <td>3613.85</td>\n",
       "      <td>172</td>\n",
       "    </tr>\n",
       "    <tr>\n",
       "      <th>2</th>\n",
       "      <td>2010</td>\n",
       "      <td>2012</td>\n",
       "      <td>104</td>\n",
       "      <td>195</td>\n",
       "      <td>1658.02</td>\n",
       "      <td>5271.87</td>\n",
       "      <td>172</td>\n",
       "    </tr>\n",
       "    <tr>\n",
       "      <th>3</th>\n",
       "      <td>2010</td>\n",
       "      <td>2013</td>\n",
       "      <td>91</td>\n",
       "      <td>164</td>\n",
       "      <td>1355.56</td>\n",
       "      <td>6627.43</td>\n",
       "      <td>172</td>\n",
       "    </tr>\n",
       "    <tr>\n",
       "      <th>4</th>\n",
       "      <td>2010</td>\n",
       "      <td>2014</td>\n",
       "      <td>103</td>\n",
       "      <td>163</td>\n",
       "      <td>1295.52</td>\n",
       "      <td>7922.95</td>\n",
       "      <td>172</td>\n",
       "    </tr>\n",
       "  </tbody>\n",
       "</table>\n",
       "</div>"
      ],
      "text/plain": [
       "   min_year  year  customers_unique  ...   amount  cumulative_amount  new_customers\n",
       "0      2010  2010               172  ...  2255.07            2255.07            172\n",
       "1      2010  2011                93  ...  1358.78            3613.85            172\n",
       "2      2010  2012               104  ...  1658.02            5271.87            172\n",
       "3      2010  2013                91  ...  1355.56            6627.43            172\n",
       "4      2010  2014               103  ...  1295.52            7922.95            172\n",
       "\n",
       "[5 rows x 7 columns]"
      ]
     },
     "execution_count": 18,
     "metadata": {
      "tags": []
     },
     "output_type": "execute_result"
    }
   ],
   "source": [
    "active_customers.reset_index().head()"
   ]
  },
  {
   "cell_type": "code",
   "execution_count": 0,
   "metadata": {
    "colab": {
     "base_uri": "https://localhost:8080/",
     "height": 206
    },
    "colab_type": "code",
    "executionInfo": {
     "elapsed": 4750,
     "status": "ok",
     "timestamp": 1583731220108,
     "user": {
      "displayName": "Mahmoud K. Shoush",
      "photoUrl": "https://lh3.googleusercontent.com/a-/AOh14Gg9UiBaJaGnafDynGv5Ght5Z18MwCGvDUW8ttd2=s64",
      "userId": "05621694697917066197"
     },
     "user_tz": -120
    },
    "id": "tPenB1s4QF1X",
    "outputId": "b09930d6-810d-49f8-a636-f99d6623e778"
   },
   "outputs": [
    {
     "data": {
      "text/html": [
       "<div>\n",
       "<style scoped>\n",
       "    .dataframe tbody tr th:only-of-type {\n",
       "        vertical-align: middle;\n",
       "    }\n",
       "\n",
       "    .dataframe tbody tr th {\n",
       "        vertical-align: top;\n",
       "    }\n",
       "\n",
       "    .dataframe thead th {\n",
       "        text-align: right;\n",
       "    }\n",
       "</style>\n",
       "<table border=\"1\" class=\"dataframe\">\n",
       "  <thead>\n",
       "    <tr style=\"text-align: right;\">\n",
       "      <th></th>\n",
       "      <th>min_year</th>\n",
       "      <th>year</th>\n",
       "      <th>customers_unique</th>\n",
       "      <th>retention</th>\n",
       "      <th>trans_per_customer</th>\n",
       "      <th>amount_per_trans</th>\n",
       "      <th>historicCLV</th>\n",
       "    </tr>\n",
       "  </thead>\n",
       "  <tbody>\n",
       "    <tr>\n",
       "      <th>0</th>\n",
       "      <td>2010</td>\n",
       "      <td>2010</td>\n",
       "      <td>172</td>\n",
       "      <td>1.000000</td>\n",
       "      <td>1.511628</td>\n",
       "      <td>8.673346</td>\n",
       "      <td>13.110872</td>\n",
       "    </tr>\n",
       "    <tr>\n",
       "      <th>1</th>\n",
       "      <td>2010</td>\n",
       "      <td>2011</td>\n",
       "      <td>93</td>\n",
       "      <td>0.540698</td>\n",
       "      <td>1.903226</td>\n",
       "      <td>7.676723</td>\n",
       "      <td>21.010756</td>\n",
       "    </tr>\n",
       "    <tr>\n",
       "      <th>2</th>\n",
       "      <td>2010</td>\n",
       "      <td>2012</td>\n",
       "      <td>104</td>\n",
       "      <td>0.604651</td>\n",
       "      <td>1.875000</td>\n",
       "      <td>8.502667</td>\n",
       "      <td>30.650407</td>\n",
       "    </tr>\n",
       "    <tr>\n",
       "      <th>3</th>\n",
       "      <td>2010</td>\n",
       "      <td>2013</td>\n",
       "      <td>91</td>\n",
       "      <td>0.529070</td>\n",
       "      <td>1.802198</td>\n",
       "      <td>8.265610</td>\n",
       "      <td>38.531570</td>\n",
       "    </tr>\n",
       "    <tr>\n",
       "      <th>4</th>\n",
       "      <td>2010</td>\n",
       "      <td>2014</td>\n",
       "      <td>103</td>\n",
       "      <td>0.598837</td>\n",
       "      <td>1.582524</td>\n",
       "      <td>7.947975</td>\n",
       "      <td>46.063663</td>\n",
       "    </tr>\n",
       "  </tbody>\n",
       "</table>\n",
       "</div>"
      ],
      "text/plain": [
       "   min_year  year  ...  amount_per_trans  historicCLV\n",
       "0      2010  2010  ...          8.673346    13.110872\n",
       "1      2010  2011  ...          7.676723    21.010756\n",
       "2      2010  2012  ...          8.502667    30.650407\n",
       "3      2010  2013  ...          8.265610    38.531570\n",
       "4      2010  2014  ...          7.947975    46.063663\n",
       "\n",
       "[5 rows x 7 columns]"
      ]
     },
     "execution_count": 19,
     "metadata": {
      "tags": []
     },
     "output_type": "execute_result"
    }
   ],
   "source": [
    "# temp = active customers\n",
    "temp = active_customers.reset_index()\n",
    "\n",
    "# update active_customers_stat with historicCLV\n",
    "active_customers_stat['historicCLV'] = temp['cumulative_amount'] / temp['new_customers']\n",
    "active_customers_stat.head()"
   ]
  },
  {
   "cell_type": "code",
   "execution_count": 0,
   "metadata": {
    "colab": {
     "base_uri": "https://localhost:8080/",
     "height": 364
    },
    "colab_type": "code",
    "executionInfo": {
     "elapsed": 4738,
     "status": "ok",
     "timestamp": 1583731220111,
     "user": {
      "displayName": "Mahmoud K. Shoush",
      "photoUrl": "https://lh3.googleusercontent.com/a-/AOh14Gg9UiBaJaGnafDynGv5Ght5Z18MwCGvDUW8ttd2=s64",
      "userId": "05621694697917066197"
     },
     "user_tz": -120
    },
    "id": "bUpITkMqQF1a",
    "outputId": "6c02d389-7f16-428e-91f5-bf183f5698a0"
   },
   "outputs": [
    {
     "data": {
      "image/png": "[encoded data removed]",
      "text/plain": [
       "<Figure size 576x360 with 1 Axes>"
      ]
     },
     "metadata": {
      "tags": []
     },
     "output_type": "display_data"
    }
   ],
   "source": [
    "# pivoot\n",
    "# plot\n",
    "\n",
    "\n",
    "active_customers_stat.reset_index().pivot(index='year', \n",
    "    columns='min_year', values='historicCLV').plot(figsize=(8,5), grid=True, style=\"*-\")\n",
    "\n",
    "#\n",
    "# set titles for figure, x, y\n",
    "plt.title('historical CLV per year',fontsize=20)\n",
    "plt.xlabel('Year', fontsize=20)\n",
    "plt.ylabel('HistoricCLV',fontsize=20)\n",
    "\n",
    "\n",
    "plt.xticks(fontsize = 10) \n",
    "plt.yticks(fontsize = 10) \n",
    "plt.grid(True)\n",
    "plt.show()\n",
    "\n",
    "plt.show()"
   ]
  },
  {
   "cell_type": "markdown",
   "metadata": {
    "colab_type": "text",
    "id": "dcCHvwI7QF1g"
   },
   "source": [
    "<font size=\"2\">If we want to know just the age of customers in months (e.g we want customers who are 12 months old considered the same instead of separate cohorts), we need to bring it to common scale:"
   ]
  },
  {
   "cell_type": "markdown",
   "metadata": {
    "colab_type": "text",
    "id": "0v9TTJ6pyAp2"
   },
   "source": [
    "## EX 2: \n",
    "\n",
    "1. Calculate the number of active months for each customer,and add a new column to `active_customers_stat` and name it as `months_active` "
   ]
  },
  {
   "cell_type": "code",
   "execution_count": 0,
   "metadata": {
    "colab": {
     "base_uri": "https://localhost:8080/",
     "height": 206
    },
    "colab_type": "code",
    "executionInfo": {
     "elapsed": 4728,
     "status": "ok",
     "timestamp": 1583731220114,
     "user": {
      "displayName": "Mahmoud K. Shoush",
      "photoUrl": "https://lh3.googleusercontent.com/a-/AOh14Gg9UiBaJaGnafDynGv5Ght5Z18MwCGvDUW8ttd2=s64",
      "userId": "05621694697917066197"
     },
     "user_tz": -120
    },
    "id": "Zv0_0Qr7QF1i",
    "outputId": "d6d844c9-6a6c-4c8f-fddb-8c5e26d92af1"
   },
   "outputs": [
    {
     "data": {
      "text/html": [
       "<div>\n",
       "<style scoped>\n",
       "    .dataframe tbody tr th:only-of-type {\n",
       "        vertical-align: middle;\n",
       "    }\n",
       "\n",
       "    .dataframe tbody tr th {\n",
       "        vertical-align: top;\n",
       "    }\n",
       "\n",
       "    .dataframe thead th {\n",
       "        text-align: right;\n",
       "    }\n",
       "</style>\n",
       "<table border=\"1\" class=\"dataframe\">\n",
       "  <thead>\n",
       "    <tr style=\"text-align: right;\">\n",
       "      <th></th>\n",
       "      <th>min_year</th>\n",
       "      <th>year</th>\n",
       "      <th>customers_unique</th>\n",
       "      <th>retention</th>\n",
       "      <th>trans_per_customer</th>\n",
       "      <th>amount_per_trans</th>\n",
       "      <th>historicCLV</th>\n",
       "      <th>months_active</th>\n",
       "    </tr>\n",
       "  </thead>\n",
       "  <tbody>\n",
       "    <tr>\n",
       "      <th>0</th>\n",
       "      <td>2010</td>\n",
       "      <td>2010</td>\n",
       "      <td>172</td>\n",
       "      <td>1.000000</td>\n",
       "      <td>1.511628</td>\n",
       "      <td>8.673346</td>\n",
       "      <td>13.110872</td>\n",
       "      <td>12</td>\n",
       "    </tr>\n",
       "    <tr>\n",
       "      <th>1</th>\n",
       "      <td>2010</td>\n",
       "      <td>2011</td>\n",
       "      <td>93</td>\n",
       "      <td>0.540698</td>\n",
       "      <td>1.903226</td>\n",
       "      <td>7.676723</td>\n",
       "      <td>21.010756</td>\n",
       "      <td>24</td>\n",
       "    </tr>\n",
       "    <tr>\n",
       "      <th>2</th>\n",
       "      <td>2010</td>\n",
       "      <td>2012</td>\n",
       "      <td>104</td>\n",
       "      <td>0.604651</td>\n",
       "      <td>1.875000</td>\n",
       "      <td>8.502667</td>\n",
       "      <td>30.650407</td>\n",
       "      <td>36</td>\n",
       "    </tr>\n",
       "    <tr>\n",
       "      <th>3</th>\n",
       "      <td>2010</td>\n",
       "      <td>2013</td>\n",
       "      <td>91</td>\n",
       "      <td>0.529070</td>\n",
       "      <td>1.802198</td>\n",
       "      <td>8.265610</td>\n",
       "      <td>38.531570</td>\n",
       "      <td>48</td>\n",
       "    </tr>\n",
       "    <tr>\n",
       "      <th>4</th>\n",
       "      <td>2010</td>\n",
       "      <td>2014</td>\n",
       "      <td>103</td>\n",
       "      <td>0.598837</td>\n",
       "      <td>1.582524</td>\n",
       "      <td>7.947975</td>\n",
       "      <td>46.063663</td>\n",
       "      <td>60</td>\n",
       "    </tr>\n",
       "  </tbody>\n",
       "</table>\n",
       "</div>"
      ],
      "text/plain": [
       "   min_year  year  ...  historicCLV  months_active\n",
       "0      2010  2010  ...    13.110872             12\n",
       "1      2010  2011  ...    21.010756             24\n",
       "2      2010  2012  ...    30.650407             36\n",
       "3      2010  2013  ...    38.531570             48\n",
       "4      2010  2014  ...    46.063663             60\n",
       "\n",
       "[5 rows x 8 columns]"
      ]
     },
     "execution_count": 21,
     "metadata": {
      "tags": []
     },
     "output_type": "execute_result"
    }
   ],
   "source": [
    "# add month active\n",
    "# TODO:\n",
    "#active_customers_stat['months_active'] = ?\n",
    "\n",
    "active_customers_stat.head()"
   ]
  },
  {
   "cell_type": "code",
   "execution_count": 0,
   "metadata": {
    "colab": {
     "base_uri": "https://localhost:8080/",
     "height": 364
    },
    "colab_type": "code",
    "executionInfo": {
     "elapsed": 4727,
     "status": "ok",
     "timestamp": 1583731220125,
     "user": {
      "displayName": "Mahmoud K. Shoush",
      "photoUrl": "https://lh3.googleusercontent.com/a-/AOh14Gg9UiBaJaGnafDynGv5Ght5Z18MwCGvDUW8ttd2=s64",
      "userId": "05621694697917066197"
     },
     "user_tz": -120
    },
    "id": "g9rTPqC4QF1n",
    "outputId": "2ed16b54-4081-42cc-856a-3a12b503441f"
   },
   "outputs": [
    {
     "data": {
      "image/png": "[encoded data removed]",
      "text/plain": [
       "<Figure size 576x360 with 1 Axes>"
      ]
     },
     "metadata": {
      "tags": []
     },
     "output_type": "display_data"
    }
   ],
   "source": [
    "# pivot, plot\n",
    "active_customers_stat.reset_index().pivot(index='months_active', \n",
    "    columns='min_year', values='historicCLV').plot(figsize=(8,5), grid=True, style=\"-o\")\n",
    "\n",
    "\n",
    "# set titles for figure, x, y\n",
    "plt.title('historical CLV',fontsize=20)\n",
    "plt.xlabel('Months active', fontsize=20)\n",
    "plt.ylabel('HistoricCLV',fontsize=20)\n",
    "\n",
    "\n",
    "plt.xticks(fontsize = 10) \n",
    "plt.yticks(fontsize = 10) \n",
    "plt.grid(True)\n",
    "plt.show()\n",
    "\n",
    "plt.show()"
   ]
  },
  {
   "cell_type": "code",
   "execution_count": 0,
   "metadata": {
    "colab": {
     "base_uri": "https://localhost:8080/",
     "height": 364
    },
    "colab_type": "code",
    "executionInfo": {
     "elapsed": 5457,
     "status": "ok",
     "timestamp": 1583731220869,
     "user": {
      "displayName": "Mahmoud K. Shoush",
      "photoUrl": "https://lh3.googleusercontent.com/a-/AOh14Gg9UiBaJaGnafDynGv5Ght5Z18MwCGvDUW8ttd2=s64",
      "userId": "05621694697917066197"
     },
     "user_tz": -120
    },
    "id": "jDGg8c41QF12",
    "outputId": "6e53ca03-15d4-4383-824e-ef9541b024c3"
   },
   "outputs": [
    {
     "data": {
      "image/png": "[encoded data removed]",
      "text/plain": [
       "<Figure size 576x360 with 1 Axes>"
      ]
     },
     "metadata": {
      "tags": []
     },
     "output_type": "display_data"
    }
   ],
   "source": [
    "# pivot, plot\n",
    "active_customers_stat.reset_index().pivot(index='months_active', \n",
    "    columns='min_year', values='historicCLV').plot(figsize=(8,5), grid=True, style=\"o\")\n",
    "\n",
    "\n",
    "# set titles for figure, x, y\n",
    "plt.title('historical CLV',fontsize=20)\n",
    "plt.xlabel('Months active', fontsize=20)\n",
    "plt.ylabel('HistoricCLV',fontsize=20)\n",
    "\n",
    "\n",
    "plt.xticks(fontsize = 10) \n",
    "plt.yticks(fontsize = 10) \n",
    "plt.grid(True)\n",
    "plt.show()\n",
    "\n",
    "plt.show()"
   ]
  },
  {
   "cell_type": "code",
   "execution_count": 0,
   "metadata": {
    "colab": {},
    "colab_type": "code",
    "id": "LNlLLDGaQF16"
   },
   "outputs": [],
   "source": [
    "# comment below till the simple linear regression"
   ]
  },
  {
   "cell_type": "markdown",
   "metadata": {
    "colab_type": "text",
    "id": "QwktJm5DQF19"
   },
   "source": [
    "<font size=\"2\">The baseline CLV for the oldest customers (5 years of activity) is **~50 euros**. \n",
    "    \n",
    "We can also calculate weighted averages, where each cohort is weighted by the number of customers:"
   ]
  },
  {
   "cell_type": "code",
   "execution_count": 0,
   "metadata": {
    "colab": {
     "base_uri": "https://localhost:8080/",
     "height": 364
    },
    "colab_type": "code",
    "executionInfo": {
     "elapsed": 5439,
     "status": "ok",
     "timestamp": 1583731220873,
     "user": {
      "displayName": "Mahmoud K. Shoush",
      "photoUrl": "https://lh3.googleusercontent.com/a-/AOh14Gg9UiBaJaGnafDynGv5Ght5Z18MwCGvDUW8ttd2=s64",
      "userId": "05621694697917066197"
     },
     "user_tz": -120
    },
    "id": "H4dMfv_6QF1_",
    "outputId": "0ff7fbf2-1819-4a92-b447-0e772a318e03"
   },
   "outputs": [
    {
     "data": {
      "image/png": "[encoded data removed]",
      "text/plain": [
       "<Figure size 576x360 with 1 Axes>"
      ]
     },
     "metadata": {
      "tags": []
     },
     "output_type": "display_data"
    }
   ],
   "source": [
    "active_customers_stat['vol'] = active_customers_stat['historicCLV']*active_customers_stat['customers_unique']\n",
    "weighted_historic_CLV = active_customers_stat.groupby('months_active')\n",
    "\n",
    "\n",
    "weighted_clv = weighted_historic_CLV['vol'].sum() / weighted_historic_CLV['customers_unique'].sum()\n",
    "\n",
    "active_customers_stat.reset_index().pivot(index='months_active', \n",
    "    columns='min_year', values='historicCLV').plot(figsize=(8,5), grid=True, style=\"o\")\n",
    "\n",
    "weighted_clv.plot(figsize=(8,5), grid=True, style=\"*-\")\n",
    "\n",
    "# set titles for figure, x, y\n",
    "plt.title('estimated averages of historical CLV',fontsize=20)\n",
    "plt.xlabel('Months active', fontsize=20)\n",
    "plt.ylabel('HistoricCLV',fontsize=20)\n",
    "plt.ylim(ymin=10)\n",
    "plt.xlim(xmin=10)\n",
    "plt.legend()\n",
    "\n",
    "\n",
    "plt.xticks(fontsize = 10) \n",
    "plt.yticks(fontsize = 10) \n",
    "plt.grid(True)\n",
    "plt.show()\n",
    "\n",
    "plt.show()"
   ]
  },
  {
   "cell_type": "markdown",
   "metadata": {
    "colab_type": "text",
    "id": "VKwcIkmqQF2E"
   },
   "source": [
    "### 2. Apply second amethod to calculate the CLV using machine learning method."
   ]
  },
  {
   "cell_type": "markdown",
   "metadata": {
    "colab_type": "text",
    "id": "cTApE2GIQF2F"
   },
   "source": [
    "<font size=\"2\">**Simple Linear regression** Simple or single-variate linear regression is the simplest case of linear regression with a single independent variable, 𝐱 = 𝑥.\n",
    "    \n",
    "    \n",
    "\n",
    "<font size=\"2\"> The idea is we need to train our  model using historical data to predict future data. To predict the **current values (to fit the model)**, and use this model for future values?\n",
    "\n"
   ]
  },
  {
   "cell_type": "markdown",
   "metadata": {
    "colab_type": "text",
    "id": "C6JXRZDj2z1I"
   },
   "source": [
    "* Now we need to predict the **CLV** based on only one feature which is the number of active months."
   ]
  },
  {
   "cell_type": "code",
   "execution_count": 0,
   "metadata": {
    "colab": {
     "base_uri": "https://localhost:8080/",
     "height": 237
    },
    "colab_type": "code",
    "executionInfo": {
     "elapsed": 1279,
     "status": "ok",
     "timestamp": 1583733531754,
     "user": {
      "displayName": "Mahmoud K. Shoush",
      "photoUrl": "https://lh3.googleusercontent.com/a-/AOh14Gg9UiBaJaGnafDynGv5Ght5Z18MwCGvDUW8ttd2=s64",
      "userId": "05621694697917066197"
     },
     "user_tz": -120
    },
    "id": "V9OTG6NV2_jp",
    "outputId": "a32ec4c8-d22d-4c06-f7cb-e56e33c7c1c1"
   },
   "outputs": [
    {
     "data": {
      "text/html": [
       "<div>\n",
       "<style scoped>\n",
       "    .dataframe tbody tr th:only-of-type {\n",
       "        vertical-align: middle;\n",
       "    }\n",
       "\n",
       "    .dataframe tbody tr th {\n",
       "        vertical-align: top;\n",
       "    }\n",
       "\n",
       "    .dataframe thead th {\n",
       "        text-align: right;\n",
       "    }\n",
       "</style>\n",
       "<table border=\"1\" class=\"dataframe\">\n",
       "  <thead>\n",
       "    <tr style=\"text-align: right;\">\n",
       "      <th></th>\n",
       "      <th>months_active</th>\n",
       "      <th>historical_CLV</th>\n",
       "    </tr>\n",
       "  </thead>\n",
       "  <tbody>\n",
       "    <tr>\n",
       "      <th>0</th>\n",
       "      <td>12</td>\n",
       "      <td>12.604520</td>\n",
       "    </tr>\n",
       "    <tr>\n",
       "      <th>1</th>\n",
       "      <td>24</td>\n",
       "      <td>21.648106</td>\n",
       "    </tr>\n",
       "    <tr>\n",
       "      <th>2</th>\n",
       "      <td>36</td>\n",
       "      <td>30.962415</td>\n",
       "    </tr>\n",
       "    <tr>\n",
       "      <th>3</th>\n",
       "      <td>48</td>\n",
       "      <td>39.285518</td>\n",
       "    </tr>\n",
       "    <tr>\n",
       "      <th>4</th>\n",
       "      <td>60</td>\n",
       "      <td>46.147536</td>\n",
       "    </tr>\n",
       "    <tr>\n",
       "      <th>5</th>\n",
       "      <td>72</td>\n",
       "      <td>52.072965</td>\n",
       "    </tr>\n",
       "  </tbody>\n",
       "</table>\n",
       "</div>"
      ],
      "text/plain": [
       "   months_active  historical_CLV\n",
       "0             12       12.604520\n",
       "1             24       21.648106\n",
       "2             36       30.962415\n",
       "3             48       39.285518\n",
       "4             60       46.147536\n",
       "5             72       52.072965"
      ]
     },
     "execution_count": 80,
     "metadata": {
      "tags": []
     },
     "output_type": "execute_result"
    }
   ],
   "source": [
    "pd.DataFrame(weighted_clv ,columns=['historical_CLV']).reset_index(level=0)"
   ]
  },
  {
   "cell_type": "code",
   "execution_count": 0,
   "metadata": {
    "colab": {},
    "colab_type": "code",
    "id": "6WdrioMGQF2G"
   },
   "outputs": [],
   "source": [
    "#reshape(): LinearRegression() expects X to be 2D\n",
    "x = weighted_clv.reset_index().months_active.values.reshape(-1, 1) # single feature\n",
    "y = weighted_clv.values.reshape(-1, 1) # target/label\n"
   ]
  },
  {
   "cell_type": "code",
   "execution_count": 0,
   "metadata": {
    "colab": {
     "base_uri": "https://localhost:8080/",
     "height": 173
    },
    "colab_type": "code",
    "executionInfo": {
     "elapsed": 5424,
     "status": "ok",
     "timestamp": 1583731220876,
     "user": {
      "displayName": "Mahmoud K. Shoush",
      "photoUrl": "https://lh3.googleusercontent.com/a-/AOh14Gg9UiBaJaGnafDynGv5Ght5Z18MwCGvDUW8ttd2=s64",
      "userId": "05621694697917066197"
     },
     "user_tz": -120
    },
    "id": "YgLB96FgQF2K",
    "outputId": "ebe263e2-f765-4667-bcb8-3111aed7ec20"
   },
   "outputs": [
    {
     "name": "stdout",
     "output_type": "stream",
     "text": [
      "predicted response:\n",
      "[[13.84658471]\n",
      " [21.82268815]\n",
      " [29.79879158]\n",
      " [37.77489502]\n",
      " [45.75099845]\n",
      " [53.72710189]]\n",
      "Model coefficient:  [[0.66467529]]\n",
      "Model intercept [5.87048128]\n"
     ]
    }
   ],
   "source": [
    "# sklearn package to apply simple machine learning methods\n",
    "from sklearn.linear_model import LinearRegression\n",
    "\n",
    "# fit x feature (months active) to y value (CLV)\n",
    "x = weighted_clv.reset_index().months_active.values.reshape(-1, 1) # features\n",
    "y = weighted_clv.values.reshape(-1, 1) # target/lebel/outcome\n",
    "\n",
    "# get instance from the LinearRegression class\n",
    "model = LinearRegression()\n",
    "\n",
    "# teach the LinearRegression algorithm \"fitting the data\"\n",
    "model.fit(x, y) \n",
    "\n",
    "# prediction\n",
    "y_pred = model.predict(x)\n",
    "\n",
    "print('predicted response:', y_pred, sep='\\n')\n",
    "\n",
    "print('\\nModel coefficient: ', model.coef_)\n",
    "print('Model intercept', model.intercept_)\n",
    "\n"
   ]
  },
  {
   "cell_type": "markdown",
   "metadata": {
    "colab_type": "text",
    "id": "i6KZGCmAQF2N"
   },
   "source": [
    "<font size=\"2\">That is, model for calculating historical **CLV** using months of activity is:\n",
    "\n",
    "<font size=\"2\">$CLV = 0.66 * months\\_active + 5.87 $"
   ]
  },
  {
   "cell_type": "markdown",
   "metadata": {
    "colab_type": "text",
    "id": "vM-kEv08QF2P"
   },
   "source": [
    "<font size=\"2\">Let's check the model predictions:\n"
   ]
  },
  {
   "cell_type": "code",
   "execution_count": 0,
   "metadata": {
    "colab": {
     "base_uri": "https://localhost:8080/",
     "height": 364
    },
    "colab_type": "code",
    "executionInfo": {
     "elapsed": 6107,
     "status": "ok",
     "timestamp": 1583731221568,
     "user": {
      "displayName": "Mahmoud K. Shoush",
      "photoUrl": "https://lh3.googleusercontent.com/a-/AOh14Gg9UiBaJaGnafDynGv5Ght5Z18MwCGvDUW8ttd2=s64",
      "userId": "05621694697917066197"
     },
     "user_tz": -120
    },
    "id": "GoKC7mtPQF2Q",
    "outputId": "479e4312-3b3c-4ac6-faf9-5f8c724bdc0b"
   },
   "outputs": [
    {
     "data": {
      "image/png": "[encoded data removed]",
      "text/plain": [
       "<Figure size 576x360 with 1 Axes>"
      ]
     },
     "metadata": {
      "tags": []
     },
     "output_type": "display_data"
    }
   ],
   "source": [
    "# sample for our single feature months active x\n",
    "x = pd.Series(range(11, 14, 125)) # new  unseen data \n",
    "\n",
    "# predict new data or unseen data\n",
    "predictions = model.predict(x.values.reshape(-1, 1))\n",
    "\n",
    "\n",
    "predicted_clv = pd.DataFrame({'months_active': x, \n",
    "                              'predictions': predictions.reshape(-1)})\n",
    "\n",
    "predicted_clv.join(\n",
    "    pd.DataFrame({'historicCLV': weighted_clv}), on='months_active'\n",
    ").set_index('months_active').plot(figsize=(8,5), grid=True, style=\"-o\")\n",
    "\n",
    "# set titles for figure, x, y\n",
    "plt.title('Historical VS predicted CLV',fontsize=20)\n",
    "plt.xlabel('Month active', fontsize=20)\n",
    "plt.ylabel('CLV',fontsize=20)\n",
    "plt.ylim(ymin=10)\n",
    "plt.xlim(xmin=10)\n",
    "plt.legend()\n",
    "\n",
    "\n",
    "plt.xticks(fontsize = 10) \n",
    "plt.yticks(fontsize = 10) \n",
    "plt.grid(True)\n",
    "plt.show()\n",
    "\n",
    "plt.show()"
   ]
  },
  {
   "cell_type": "markdown",
   "metadata": {
    "colab_type": "text",
    "id": "XZX0f2_HQF2U"
   },
   "source": [
    "<font size=\"2\">**Multiple linear regression**"
   ]
  },
  {
   "cell_type": "markdown",
   "metadata": {
    "colab_type": "text",
    "id": "vN3dw3UPQF2W"
   },
   "source": [
    "<font size=\"2\">Now, what if we are more ambitious? Our desire is not just to fit general function, but to **predict amount spent for each customer**. Can we do that? Depends on the data. Assume that we performed a questionnaire upon the registration, collected some clicks on our website and also have information about proposed discounts for some of the customers:"
   ]
  },
  {
   "cell_type": "code",
   "execution_count": 0,
   "metadata": {
    "colab": {
     "base_uri": "https://localhost:8080/",
     "height": 206
    },
    "colab_type": "code",
    "executionInfo": {
     "elapsed": 1437,
     "status": "ok",
     "timestamp": 1583734385376,
     "user": {
      "displayName": "Mahmoud K. Shoush",
      "photoUrl": "https://lh3.googleusercontent.com/a-/AOh14Gg9UiBaJaGnafDynGv5Ght5Z18MwCGvDUW8ttd2=s64",
      "userId": "05621694697917066197"
     },
     "user_tz": -120
    },
    "id": "xjz_XXNUQF2X",
    "outputId": "6015bd9e-05f6-44e2-b332-e8356091f453",
    "scrolled": true
   },
   "outputs": [
    {
     "data": {
      "text/html": [
       "<div>\n",
       "<style scoped>\n",
       "    .dataframe tbody tr th:only-of-type {\n",
       "        vertical-align: middle;\n",
       "    }\n",
       "\n",
       "    .dataframe tbody tr th {\n",
       "        vertical-align: top;\n",
       "    }\n",
       "\n",
       "    .dataframe thead th {\n",
       "        text-align: right;\n",
       "    }\n",
       "</style>\n",
       "<table border=\"1\" class=\"dataframe\">\n",
       "  <thead>\n",
       "    <tr style=\"text-align: right;\">\n",
       "      <th></th>\n",
       "      <th>customer_id</th>\n",
       "      <th>gender</th>\n",
       "      <th>age</th>\n",
       "      <th>discount_proposed</th>\n",
       "      <th>clicks_in_eshop</th>\n",
       "    </tr>\n",
       "  </thead>\n",
       "  <tbody>\n",
       "    <tr>\n",
       "      <th>0</th>\n",
       "      <td>1</td>\n",
       "      <td>1</td>\n",
       "      <td>71</td>\n",
       "      <td>0</td>\n",
       "      <td>1</td>\n",
       "    </tr>\n",
       "    <tr>\n",
       "      <th>1</th>\n",
       "      <td>2</td>\n",
       "      <td>1</td>\n",
       "      <td>42</td>\n",
       "      <td>1</td>\n",
       "      <td>3</td>\n",
       "    </tr>\n",
       "    <tr>\n",
       "      <th>2</th>\n",
       "      <td>3</td>\n",
       "      <td>1</td>\n",
       "      <td>49</td>\n",
       "      <td>1</td>\n",
       "      <td>3</td>\n",
       "    </tr>\n",
       "    <tr>\n",
       "      <th>3</th>\n",
       "      <td>4</td>\n",
       "      <td>1</td>\n",
       "      <td>71</td>\n",
       "      <td>0</td>\n",
       "      <td>1</td>\n",
       "    </tr>\n",
       "    <tr>\n",
       "      <th>4</th>\n",
       "      <td>5</td>\n",
       "      <td>1</td>\n",
       "      <td>71</td>\n",
       "      <td>0</td>\n",
       "      <td>1</td>\n",
       "    </tr>\n",
       "  </tbody>\n",
       "</table>\n",
       "</div>"
      ],
      "text/plain": [
       "   customer_id  gender  age  discount_proposed  clicks_in_eshop\n",
       "0            1       1   71                  0                1\n",
       "1            2       1   42                  1                3\n",
       "2            3       1   49                  1                3\n",
       "3            4       1   71                  0                1\n",
       "4            5       1   71                  0                1"
      ]
     },
     "execution_count": 81,
     "metadata": {
      "tags": []
     },
     "output_type": "execute_result"
    }
   ],
   "source": [
    "# read survey dataset, will use it later\n",
    "survey = pd.read_csv('lab_04_customer_transact_survey.csv')\n",
    "survey.head()\n"
   ]
  },
  {
   "cell_type": "markdown",
   "metadata": {
    "colab_type": "text",
    "id": "N7F5byNUQF2a"
   },
   "source": [
    "<font size=\"2\">Next step is to think, how to plan our experiment. What we want to predict? We decided to predict for all customers who made transactions in their first year $(t_0)$, what would be the amount of money spent next year $(t_1)$ **(our target varible)**$. For that reason we will discard:\n",
    "    \n",
    "   1. all customers who do not have the information about $t_1$\n",
    "   2. all the information about future years $t_k$, where $k>1$"
   ]
  },
  {
   "cell_type": "code",
   "execution_count": 0,
   "metadata": {
    "colab": {
     "base_uri": "https://localhost:8080/",
     "height": 394
    },
    "colab_type": "code",
    "executionInfo": {
     "elapsed": 1295,
     "status": "ok",
     "timestamp": 1583734390678,
     "user": {
      "displayName": "Mahmoud K. Shoush",
      "photoUrl": "https://lh3.googleusercontent.com/a-/AOh14Gg9UiBaJaGnafDynGv5Ght5Z18MwCGvDUW8ttd2=s64",
      "userId": "05621694697917066197"
     },
     "user_tz": -120
    },
    "id": "13r3dPAfQF2b",
    "outputId": "8b1de77d-b818-474d-ec9c-23984f9acb58"
   },
   "outputs": [
    {
     "data": {
      "text/html": [
       "<div>\n",
       "<style scoped>\n",
       "    .dataframe tbody tr th:only-of-type {\n",
       "        vertical-align: middle;\n",
       "    }\n",
       "\n",
       "    .dataframe tbody tr th {\n",
       "        vertical-align: top;\n",
       "    }\n",
       "\n",
       "    .dataframe thead th {\n",
       "        text-align: right;\n",
       "    }\n",
       "</style>\n",
       "<table border=\"1\" class=\"dataframe\">\n",
       "  <thead>\n",
       "    <tr style=\"text-align: right;\">\n",
       "      <th></th>\n",
       "      <th></th>\n",
       "      <th>transaction_per_customer</th>\n",
       "      <th>amount_per_customer</th>\n",
       "      <th>amount_per_transaction</th>\n",
       "      <th>min_year</th>\n",
       "      <th>years_active</th>\n",
       "    </tr>\n",
       "    <tr>\n",
       "      <th>customer_id</th>\n",
       "      <th>year</th>\n",
       "      <th></th>\n",
       "      <th></th>\n",
       "      <th></th>\n",
       "      <th></th>\n",
       "      <th></th>\n",
       "    </tr>\n",
       "  </thead>\n",
       "  <tbody>\n",
       "    <tr>\n",
       "      <th>1</th>\n",
       "      <th>2012</th>\n",
       "      <td>1</td>\n",
       "      <td>20.96</td>\n",
       "      <td>20.9600</td>\n",
       "      <td>2012</td>\n",
       "      <td>1</td>\n",
       "    </tr>\n",
       "    <tr>\n",
       "      <th rowspan=\"3\" valign=\"top\">2</th>\n",
       "      <th>2012</th>\n",
       "      <td>2</td>\n",
       "      <td>14.81</td>\n",
       "      <td>7.4050</td>\n",
       "      <td>2012</td>\n",
       "      <td>3</td>\n",
       "    </tr>\n",
       "    <tr>\n",
       "      <th>2013</th>\n",
       "      <td>2</td>\n",
       "      <td>15.12</td>\n",
       "      <td>7.5600</td>\n",
       "      <td>2012</td>\n",
       "      <td>3</td>\n",
       "    </tr>\n",
       "    <tr>\n",
       "      <th>2014</th>\n",
       "      <td>4</td>\n",
       "      <td>17.79</td>\n",
       "      <td>4.4475</td>\n",
       "      <td>2012</td>\n",
       "      <td>3</td>\n",
       "    </tr>\n",
       "    <tr>\n",
       "      <th rowspan=\"4\" valign=\"top\">3</th>\n",
       "      <th>2012</th>\n",
       "      <td>1</td>\n",
       "      <td>21.58</td>\n",
       "      <td>21.5800</td>\n",
       "      <td>2012</td>\n",
       "      <td>4</td>\n",
       "    </tr>\n",
       "    <tr>\n",
       "      <th>2013</th>\n",
       "      <td>2</td>\n",
       "      <td>25.35</td>\n",
       "      <td>12.6750</td>\n",
       "      <td>2012</td>\n",
       "      <td>4</td>\n",
       "    </tr>\n",
       "    <tr>\n",
       "      <th>2014</th>\n",
       "      <td>2</td>\n",
       "      <td>7.68</td>\n",
       "      <td>3.8400</td>\n",
       "      <td>2012</td>\n",
       "      <td>4</td>\n",
       "    </tr>\n",
       "    <tr>\n",
       "      <th>2015</th>\n",
       "      <td>2</td>\n",
       "      <td>7.83</td>\n",
       "      <td>3.9150</td>\n",
       "      <td>2012</td>\n",
       "      <td>4</td>\n",
       "    </tr>\n",
       "    <tr>\n",
       "      <th>4</th>\n",
       "      <th>2015</th>\n",
       "      <td>1</td>\n",
       "      <td>0.54</td>\n",
       "      <td>0.5400</td>\n",
       "      <td>2015</td>\n",
       "      <td>1</td>\n",
       "    </tr>\n",
       "    <tr>\n",
       "      <th>5</th>\n",
       "      <th>2015</th>\n",
       "      <td>2</td>\n",
       "      <td>21.44</td>\n",
       "      <td>10.7200</td>\n",
       "      <td>2015</td>\n",
       "      <td>1</td>\n",
       "    </tr>\n",
       "  </tbody>\n",
       "</table>\n",
       "</div>"
      ],
      "text/plain": [
       "                  transaction_per_customer  ...  years_active\n",
       "customer_id year                            ...              \n",
       "1           2012                         1  ...             1\n",
       "2           2012                         2  ...             3\n",
       "            2013                         2  ...             3\n",
       "            2014                         4  ...             3\n",
       "3           2012                         1  ...             4\n",
       "            2013                         2  ...             4\n",
       "            2014                         2  ...             4\n",
       "            2015                         2  ...             4\n",
       "4           2015                         1  ...             1\n",
       "5           2015                         2  ...             1\n",
       "\n",
       "[10 rows x 5 columns]"
      ]
     },
     "execution_count": 82,
     "metadata": {
      "tags": []
     },
     "output_type": "execute_result"
    }
   ],
   "source": [
    "# read our original transzction dataset\n",
    "df = pd.read_csv(\"lab_04_clv_transactions.csv\")\n",
    "\n",
    "# copy the original df\n",
    "df_year = df \n",
    "\n",
    "\n",
    "# we take only year\n",
    "df_year['year'] = df_year.transaction_date.apply(lambda x: pd.to_datetime(x).date().year) \n",
    "df = df_year \n",
    "\n",
    "\n",
    "group = df.groupby('customer_id')\n",
    "df['min_year'] = group['year'].transform('min')\n",
    "df['max_year'] = group['year'].transform('max')\n",
    "df['years_active'] = df['max_year'] - df['min_year'] +1\n",
    "\n",
    "active_customers = pd.DataFrame()\n",
    "group = df.groupby(['customer_id', 'year'])\n",
    "\n",
    "\n",
    "active_customers['transaction_per_customer'] = group['customer_id'].apply(lambda x: x.size)\n",
    "active_customers['amount_per_customer'] =group['amount'].sum()\n",
    "active_customers['amount_per_transaction'] = active_customers['amount_per_customer'] / active_customers['transaction_per_customer']\n",
    "active_customers['min_year'] = group['min_year'].first()\n",
    "active_customers['years_active'] = group['years_active'].first()\n",
    "\n",
    "active_customers.head(10)\n",
    "\n",
    "\n"
   ]
  },
  {
   "cell_type": "code",
   "execution_count": 0,
   "metadata": {
    "colab": {
     "base_uri": "https://localhost:8080/",
     "height": 363
    },
    "colab_type": "code",
    "executionInfo": {
     "elapsed": 904,
     "status": "ok",
     "timestamp": 1583734394509,
     "user": {
      "displayName": "Mahmoud K. Shoush",
      "photoUrl": "https://lh3.googleusercontent.com/a-/AOh14Gg9UiBaJaGnafDynGv5Ght5Z18MwCGvDUW8ttd2=s64",
      "userId": "05621694697917066197"
     },
     "user_tz": -120
    },
    "id": "Tla7NxpwQF2f",
    "outputId": "9e0030a1-536a-42ba-8235-d7113956ee02"
   },
   "outputs": [
    {
     "data": {
      "text/html": [
       "<div>\n",
       "<style scoped>\n",
       "    .dataframe tbody tr th:only-of-type {\n",
       "        vertical-align: middle;\n",
       "    }\n",
       "\n",
       "    .dataframe tbody tr th {\n",
       "        vertical-align: top;\n",
       "    }\n",
       "\n",
       "    .dataframe thead th {\n",
       "        text-align: right;\n",
       "    }\n",
       "</style>\n",
       "<table border=\"1\" class=\"dataframe\">\n",
       "  <thead>\n",
       "    <tr style=\"text-align: right;\">\n",
       "      <th></th>\n",
       "      <th>customer_id</th>\n",
       "      <th>transaction_per_customer_1</th>\n",
       "      <th>amount_per_customer_1</th>\n",
       "      <th>amount_per_transaction_1</th>\n",
       "      <th>amount_per_customer_2</th>\n",
       "    </tr>\n",
       "  </thead>\n",
       "  <tbody>\n",
       "    <tr>\n",
       "      <th>0</th>\n",
       "      <td>2</td>\n",
       "      <td>2</td>\n",
       "      <td>14.81</td>\n",
       "      <td>7.405000</td>\n",
       "      <td>15.12</td>\n",
       "    </tr>\n",
       "    <tr>\n",
       "      <th>1</th>\n",
       "      <td>3</td>\n",
       "      <td>1</td>\n",
       "      <td>21.58</td>\n",
       "      <td>21.580000</td>\n",
       "      <td>25.35</td>\n",
       "    </tr>\n",
       "    <tr>\n",
       "      <th>2</th>\n",
       "      <td>7</td>\n",
       "      <td>2</td>\n",
       "      <td>26.46</td>\n",
       "      <td>13.230000</td>\n",
       "      <td>8.08</td>\n",
       "    </tr>\n",
       "    <tr>\n",
       "      <th>3</th>\n",
       "      <td>8</td>\n",
       "      <td>1</td>\n",
       "      <td>6.21</td>\n",
       "      <td>6.210000</td>\n",
       "      <td>2.35</td>\n",
       "    </tr>\n",
       "    <tr>\n",
       "      <th>4</th>\n",
       "      <td>9</td>\n",
       "      <td>3</td>\n",
       "      <td>19.21</td>\n",
       "      <td>6.403333</td>\n",
       "      <td>11.46</td>\n",
       "    </tr>\n",
       "    <tr>\n",
       "      <th>5</th>\n",
       "      <td>10</td>\n",
       "      <td>1</td>\n",
       "      <td>12.37</td>\n",
       "      <td>12.370000</td>\n",
       "      <td>5.99</td>\n",
       "    </tr>\n",
       "    <tr>\n",
       "      <th>6</th>\n",
       "      <td>12</td>\n",
       "      <td>3</td>\n",
       "      <td>47.09</td>\n",
       "      <td>15.696667</td>\n",
       "      <td>4.78</td>\n",
       "    </tr>\n",
       "    <tr>\n",
       "      <th>7</th>\n",
       "      <td>13</td>\n",
       "      <td>2</td>\n",
       "      <td>10.17</td>\n",
       "      <td>5.085000</td>\n",
       "      <td>59.67</td>\n",
       "    </tr>\n",
       "    <tr>\n",
       "      <th>8</th>\n",
       "      <td>14</td>\n",
       "      <td>1</td>\n",
       "      <td>28.72</td>\n",
       "      <td>28.720000</td>\n",
       "      <td>10.08</td>\n",
       "    </tr>\n",
       "    <tr>\n",
       "      <th>9</th>\n",
       "      <td>15</td>\n",
       "      <td>2</td>\n",
       "      <td>24.47</td>\n",
       "      <td>12.235000</td>\n",
       "      <td>5.14</td>\n",
       "    </tr>\n",
       "  </tbody>\n",
       "</table>\n",
       "</div>"
      ],
      "text/plain": [
       "   customer_id  ...  amount_per_customer_2\n",
       "0            2  ...                  15.12\n",
       "1            3  ...                  25.35\n",
       "2            7  ...                   8.08\n",
       "3            8  ...                   2.35\n",
       "4            9  ...                  11.46\n",
       "5           10  ...                   5.99\n",
       "6           12  ...                   4.78\n",
       "7           13  ...                  59.67\n",
       "8           14  ...                  10.08\n",
       "9           15  ...                   5.14\n",
       "\n",
       "[10 rows x 5 columns]"
      ]
     },
     "execution_count": 83,
     "metadata": {
      "tags": []
     },
     "output_type": "execute_result"
    }
   ],
   "source": [
    "dff = active_customers.rename_axis(['customer_id', 'year']).reset_index()\n",
    "\n",
    "# more than one year active\n",
    "dff =  dff.loc[dff['years_active'] >1]\n",
    "\n",
    "grouped = dff.groupby('customer_id')\n",
    "\n",
    "\n",
    "\n",
    "# new dataframe for new features.\n",
    "newdf = pd.DataFrame()\n",
    "\n",
    "newdf['transaction_per_customer_1'] = grouped['transaction_per_customer'].first() # getting the firs element from each group\n",
    "newdf['amount_per_customer_1'] = grouped['amount_per_customer'].first() # first year\n",
    "newdf['amount_per_transaction_1'] = grouped['amount_per_transaction'].first()\n",
    "newdf['amount_per_customer_2'] = grouped['amount_per_customer'].apply(lambda x: x.values[1]) # second yaer\n",
    "newdf = newdf.rename_axis(['customer_id']).reset_index()\n",
    "newdf.head(10)"
   ]
  },
  {
   "cell_type": "code",
   "execution_count": 0,
   "metadata": {
    "colab": {
     "base_uri": "https://localhost:8080/",
     "height": 226
    },
    "colab_type": "code",
    "executionInfo": {
     "elapsed": 850,
     "status": "ok",
     "timestamp": 1583734404062,
     "user": {
      "displayName": "Mahmoud K. Shoush",
      "photoUrl": "https://lh3.googleusercontent.com/a-/AOh14Gg9UiBaJaGnafDynGv5Ght5Z18MwCGvDUW8ttd2=s64",
      "userId": "05621694697917066197"
     },
     "user_tz": -120
    },
    "id": "94uxo2LrQF2k",
    "outputId": "727517f8-000a-4b60-b7d5-e065f985c4ae"
   },
   "outputs": [
    {
     "data": {
      "text/html": [
       "<div>\n",
       "<style scoped>\n",
       "    .dataframe tbody tr th:only-of-type {\n",
       "        vertical-align: middle;\n",
       "    }\n",
       "\n",
       "    .dataframe tbody tr th {\n",
       "        vertical-align: top;\n",
       "    }\n",
       "\n",
       "    .dataframe thead th {\n",
       "        text-align: right;\n",
       "    }\n",
       "</style>\n",
       "<table border=\"1\" class=\"dataframe\">\n",
       "  <thead>\n",
       "    <tr style=\"text-align: right;\">\n",
       "      <th></th>\n",
       "      <th>customer_id</th>\n",
       "      <th>transaction_per_customer_1</th>\n",
       "      <th>amount_per_customer_1</th>\n",
       "      <th>amount_per_transaction_1</th>\n",
       "      <th>amount_per_customer_2</th>\n",
       "      <th>gender</th>\n",
       "      <th>age</th>\n",
       "      <th>discount_proposed</th>\n",
       "      <th>clicks_in_eshop</th>\n",
       "    </tr>\n",
       "  </thead>\n",
       "  <tbody>\n",
       "    <tr>\n",
       "      <th>0</th>\n",
       "      <td>2</td>\n",
       "      <td>2</td>\n",
       "      <td>14.81</td>\n",
       "      <td>7.405000</td>\n",
       "      <td>15.12</td>\n",
       "      <td>1</td>\n",
       "      <td>42</td>\n",
       "      <td>1</td>\n",
       "      <td>3</td>\n",
       "    </tr>\n",
       "    <tr>\n",
       "      <th>1</th>\n",
       "      <td>3</td>\n",
       "      <td>1</td>\n",
       "      <td>21.58</td>\n",
       "      <td>21.580000</td>\n",
       "      <td>25.35</td>\n",
       "      <td>1</td>\n",
       "      <td>49</td>\n",
       "      <td>1</td>\n",
       "      <td>3</td>\n",
       "    </tr>\n",
       "    <tr>\n",
       "      <th>2</th>\n",
       "      <td>7</td>\n",
       "      <td>2</td>\n",
       "      <td>26.46</td>\n",
       "      <td>13.230000</td>\n",
       "      <td>8.08</td>\n",
       "      <td>0</td>\n",
       "      <td>42</td>\n",
       "      <td>0</td>\n",
       "      <td>1</td>\n",
       "    </tr>\n",
       "    <tr>\n",
       "      <th>3</th>\n",
       "      <td>8</td>\n",
       "      <td>1</td>\n",
       "      <td>6.21</td>\n",
       "      <td>6.210000</td>\n",
       "      <td>2.35</td>\n",
       "      <td>0</td>\n",
       "      <td>28</td>\n",
       "      <td>0</td>\n",
       "      <td>1</td>\n",
       "    </tr>\n",
       "    <tr>\n",
       "      <th>4</th>\n",
       "      <td>9</td>\n",
       "      <td>3</td>\n",
       "      <td>19.21</td>\n",
       "      <td>6.403333</td>\n",
       "      <td>11.46</td>\n",
       "      <td>1</td>\n",
       "      <td>42</td>\n",
       "      <td>0</td>\n",
       "      <td>1</td>\n",
       "    </tr>\n",
       "  </tbody>\n",
       "</table>\n",
       "</div>"
      ],
      "text/plain": [
       "   customer_id  transaction_per_customer_1  ...  discount_proposed  clicks_in_eshop\n",
       "0            2                           2  ...                  1                3\n",
       "1            3                           1  ...                  1                3\n",
       "2            7                           2  ...                  0                1\n",
       "3            8                           1  ...                  0                1\n",
       "4            9                           3  ...                  0                1\n",
       "\n",
       "[5 rows x 9 columns]"
      ]
     },
     "execution_count": 85,
     "metadata": {
      "tags": []
     },
     "output_type": "execute_result"
    }
   ],
   "source": [
    "# Keep every row in the left dataframe. Where there are missing values of the “on” variable in the right dataframe, \n",
    "# add empty / NaN values in the result.\n",
    "model_data = newdf.merge(survey, on='customer_id', how='left')\n",
    "model_data['gender'] = model_data.gender.astype('category')\n",
    "model_data['discount_proposed'] = model_data.discount_proposed.astype('category')\n",
    "model_data.head()\n"
   ]
  },
  {
   "cell_type": "code",
   "execution_count": 0,
   "metadata": {
    "colab": {},
    "colab_type": "code",
    "id": "3M6AvoVdQF2o"
   },
   "outputs": [],
   "source": [
    "#model_data"
   ]
  },
  {
   "cell_type": "code",
   "execution_count": 0,
   "metadata": {
    "colab": {},
    "colab_type": "code",
    "id": "O9gvtJcCQF2u"
   },
   "outputs": [],
   "source": [
    "# model_data = newdf.merge(survey, on='customer_id', how='left')\n",
    "# model_data['gender'] = model_data.gender.astype('category')\n",
    "# model_data['discount_proposed'] = model_data.discount_proposed.astype('category')\n",
    "\n",
    "# model_data.info()\n",
    "# model_data = model_data.drop('customer_id', axis=1)\n",
    "# model_data.head()\n",
    "# # X = model_data.loc[:, model_data.columns != 'amount_per_customer_2']\n",
    "# # y = model_data[['amount_per_customer_2']]\n",
    "# # x"
   ]
  },
  {
   "cell_type": "code",
   "execution_count": 0,
   "metadata": {
    "colab": {
     "base_uri": "https://localhost:8080/",
     "height": 443
    },
    "colab_type": "code",
    "executionInfo": {
     "elapsed": 6677,
     "status": "ok",
     "timestamp": 1583731222190,
     "user": {
      "displayName": "Mahmoud K. Shoush",
      "photoUrl": "https://lh3.googleusercontent.com/a-/AOh14Gg9UiBaJaGnafDynGv5Ght5Z18MwCGvDUW8ttd2=s64",
      "userId": "05621694697917066197"
     },
     "user_tz": -120
    },
    "id": "E2IcayHVQF2x",
    "outputId": "f9844d2a-8743-4ca2-af59-1fa5df8a90d1"
   },
   "outputs": [
    {
     "data": {
      "text/html": [
       "<div>\n",
       "<style scoped>\n",
       "    .dataframe tbody tr th:only-of-type {\n",
       "        vertical-align: middle;\n",
       "    }\n",
       "\n",
       "    .dataframe tbody tr th {\n",
       "        vertical-align: top;\n",
       "    }\n",
       "\n",
       "    .dataframe thead th {\n",
       "        text-align: right;\n",
       "    }\n",
       "</style>\n",
       "<table border=\"1\" class=\"dataframe\">\n",
       "  <thead>\n",
       "    <tr style=\"text-align: right;\">\n",
       "      <th></th>\n",
       "      <th>customer_id</th>\n",
       "      <th>transaction_per_customer_1</th>\n",
       "      <th>amount_per_customer_1</th>\n",
       "      <th>amount_per_transaction_1</th>\n",
       "      <th>gender</th>\n",
       "      <th>age</th>\n",
       "      <th>discount_proposed</th>\n",
       "      <th>clicks_in_eshop</th>\n",
       "    </tr>\n",
       "  </thead>\n",
       "  <tbody>\n",
       "    <tr>\n",
       "      <th>0</th>\n",
       "      <td>2</td>\n",
       "      <td>2</td>\n",
       "      <td>14.81</td>\n",
       "      <td>7.405000</td>\n",
       "      <td>1</td>\n",
       "      <td>42</td>\n",
       "      <td>1</td>\n",
       "      <td>3</td>\n",
       "    </tr>\n",
       "    <tr>\n",
       "      <th>1</th>\n",
       "      <td>3</td>\n",
       "      <td>1</td>\n",
       "      <td>21.58</td>\n",
       "      <td>21.580000</td>\n",
       "      <td>1</td>\n",
       "      <td>49</td>\n",
       "      <td>1</td>\n",
       "      <td>3</td>\n",
       "    </tr>\n",
       "    <tr>\n",
       "      <th>2</th>\n",
       "      <td>7</td>\n",
       "      <td>2</td>\n",
       "      <td>26.46</td>\n",
       "      <td>13.230000</td>\n",
       "      <td>0</td>\n",
       "      <td>42</td>\n",
       "      <td>0</td>\n",
       "      <td>1</td>\n",
       "    </tr>\n",
       "    <tr>\n",
       "      <th>3</th>\n",
       "      <td>8</td>\n",
       "      <td>1</td>\n",
       "      <td>6.21</td>\n",
       "      <td>6.210000</td>\n",
       "      <td>0</td>\n",
       "      <td>28</td>\n",
       "      <td>0</td>\n",
       "      <td>1</td>\n",
       "    </tr>\n",
       "    <tr>\n",
       "      <th>4</th>\n",
       "      <td>9</td>\n",
       "      <td>3</td>\n",
       "      <td>19.21</td>\n",
       "      <td>6.403333</td>\n",
       "      <td>1</td>\n",
       "      <td>42</td>\n",
       "      <td>0</td>\n",
       "      <td>1</td>\n",
       "    </tr>\n",
       "    <tr>\n",
       "      <th>...</th>\n",
       "      <td>...</td>\n",
       "      <td>...</td>\n",
       "      <td>...</td>\n",
       "      <td>...</td>\n",
       "      <td>...</td>\n",
       "      <td>...</td>\n",
       "      <td>...</td>\n",
       "      <td>...</td>\n",
       "    </tr>\n",
       "    <tr>\n",
       "      <th>652</th>\n",
       "      <td>994</td>\n",
       "      <td>1</td>\n",
       "      <td>2.45</td>\n",
       "      <td>2.450000</td>\n",
       "      <td>1</td>\n",
       "      <td>18</td>\n",
       "      <td>0</td>\n",
       "      <td>1</td>\n",
       "    </tr>\n",
       "    <tr>\n",
       "      <th>653</th>\n",
       "      <td>997</td>\n",
       "      <td>1</td>\n",
       "      <td>7.93</td>\n",
       "      <td>7.930000</td>\n",
       "      <td>0</td>\n",
       "      <td>42</td>\n",
       "      <td>0</td>\n",
       "      <td>1</td>\n",
       "    </tr>\n",
       "    <tr>\n",
       "      <th>654</th>\n",
       "      <td>998</td>\n",
       "      <td>1</td>\n",
       "      <td>16.14</td>\n",
       "      <td>16.140000</td>\n",
       "      <td>0</td>\n",
       "      <td>24</td>\n",
       "      <td>1</td>\n",
       "      <td>4</td>\n",
       "    </tr>\n",
       "    <tr>\n",
       "      <th>655</th>\n",
       "      <td>999</td>\n",
       "      <td>2</td>\n",
       "      <td>2.05</td>\n",
       "      <td>1.025000</td>\n",
       "      <td>0</td>\n",
       "      <td>42</td>\n",
       "      <td>1</td>\n",
       "      <td>3</td>\n",
       "    </tr>\n",
       "    <tr>\n",
       "      <th>656</th>\n",
       "      <td>1000</td>\n",
       "      <td>3</td>\n",
       "      <td>24.75</td>\n",
       "      <td>8.250000</td>\n",
       "      <td>1</td>\n",
       "      <td>42</td>\n",
       "      <td>1</td>\n",
       "      <td>3</td>\n",
       "    </tr>\n",
       "  </tbody>\n",
       "</table>\n",
       "<p>657 rows × 8 columns</p>\n",
       "</div>"
      ],
      "text/plain": [
       "     customer_id  transaction_per_customer_1  ...  discount_proposed  clicks_in_eshop\n",
       "0              2                           2  ...                  1                3\n",
       "1              3                           1  ...                  1                3\n",
       "2              7                           2  ...                  0                1\n",
       "3              8                           1  ...                  0                1\n",
       "4              9                           3  ...                  0                1\n",
       "..           ...                         ...  ...                ...              ...\n",
       "652          994                           1  ...                  0                1\n",
       "653          997                           1  ...                  0                1\n",
       "654          998                           1  ...                  1                4\n",
       "655          999                           2  ...                  1                3\n",
       "656         1000                           3  ...                  1                3\n",
       "\n",
       "[657 rows x 8 columns]"
      ]
     },
     "execution_count": 35,
     "metadata": {
      "tags": []
     },
     "output_type": "execute_result"
    }
   ],
   "source": [
    "# features\n",
    "x = model_data.loc[:, model_data.columns != 'amount_per_customer_2'] # drop our target variable \n",
    "x"
   ]
  },
  {
   "cell_type": "code",
   "execution_count": 0,
   "metadata": {
    "colab": {
     "base_uri": "https://localhost:8080/",
     "height": 423
    },
    "colab_type": "code",
    "executionInfo": {
     "elapsed": 6666,
     "status": "ok",
     "timestamp": 1583731222190,
     "user": {
      "displayName": "Mahmoud K. Shoush",
      "photoUrl": "https://lh3.googleusercontent.com/a-/AOh14Gg9UiBaJaGnafDynGv5Ght5Z18MwCGvDUW8ttd2=s64",
      "userId": "05621694697917066197"
     },
     "user_tz": -120
    },
    "id": "1n5bn0HaQF21",
    "outputId": "b1ab0467-9f08-40e2-d17e-3e4d8228f1ae"
   },
   "outputs": [
    {
     "data": {
      "text/html": [
       "<div>\n",
       "<style scoped>\n",
       "    .dataframe tbody tr th:only-of-type {\n",
       "        vertical-align: middle;\n",
       "    }\n",
       "\n",
       "    .dataframe tbody tr th {\n",
       "        vertical-align: top;\n",
       "    }\n",
       "\n",
       "    .dataframe thead th {\n",
       "        text-align: right;\n",
       "    }\n",
       "</style>\n",
       "<table border=\"1\" class=\"dataframe\">\n",
       "  <thead>\n",
       "    <tr style=\"text-align: right;\">\n",
       "      <th></th>\n",
       "      <th>amount_per_customer_2</th>\n",
       "    </tr>\n",
       "  </thead>\n",
       "  <tbody>\n",
       "    <tr>\n",
       "      <th>0</th>\n",
       "      <td>15.12</td>\n",
       "    </tr>\n",
       "    <tr>\n",
       "      <th>1</th>\n",
       "      <td>25.35</td>\n",
       "    </tr>\n",
       "    <tr>\n",
       "      <th>2</th>\n",
       "      <td>8.08</td>\n",
       "    </tr>\n",
       "    <tr>\n",
       "      <th>3</th>\n",
       "      <td>2.35</td>\n",
       "    </tr>\n",
       "    <tr>\n",
       "      <th>4</th>\n",
       "      <td>11.46</td>\n",
       "    </tr>\n",
       "    <tr>\n",
       "      <th>...</th>\n",
       "      <td>...</td>\n",
       "    </tr>\n",
       "    <tr>\n",
       "      <th>652</th>\n",
       "      <td>5.45</td>\n",
       "    </tr>\n",
       "    <tr>\n",
       "      <th>653</th>\n",
       "      <td>11.88</td>\n",
       "    </tr>\n",
       "    <tr>\n",
       "      <th>654</th>\n",
       "      <td>59.48</td>\n",
       "    </tr>\n",
       "    <tr>\n",
       "      <th>655</th>\n",
       "      <td>13.61</td>\n",
       "    </tr>\n",
       "    <tr>\n",
       "      <th>656</th>\n",
       "      <td>13.60</td>\n",
       "    </tr>\n",
       "  </tbody>\n",
       "</table>\n",
       "<p>657 rows × 1 columns</p>\n",
       "</div>"
      ],
      "text/plain": [
       "     amount_per_customer_2\n",
       "0                    15.12\n",
       "1                    25.35\n",
       "2                     8.08\n",
       "3                     2.35\n",
       "4                    11.46\n",
       "..                     ...\n",
       "652                   5.45\n",
       "653                  11.88\n",
       "654                  59.48\n",
       "655                  13.61\n",
       "656                  13.60\n",
       "\n",
       "[657 rows x 1 columns]"
      ]
     },
     "execution_count": 36,
     "metadata": {
      "tags": []
     },
     "output_type": "execute_result"
    }
   ],
   "source": [
    "# target\n",
    "\n",
    "y = model_data[['amount_per_customer_2']] # target varable that we need to predict\n",
    "y\n"
   ]
  },
  {
   "cell_type": "code",
   "execution_count": 0,
   "metadata": {
    "colab": {
     "base_uri": "https://localhost:8080/",
     "height": 831
    },
    "colab_type": "code",
    "executionInfo": {
     "elapsed": 1196,
     "status": "ok",
     "timestamp": 1583734745187,
     "user": {
      "displayName": "Mahmoud K. Shoush",
      "photoUrl": "https://lh3.googleusercontent.com/a-/AOh14Gg9UiBaJaGnafDynGv5Ght5Z18MwCGvDUW8ttd2=s64",
      "userId": "05621694697917066197"
     },
     "user_tz": -120
    },
    "id": "ub4zYBb38MqL",
    "outputId": "9bf71c2c-6b2a-465d-f4ed-84538b6b8f1f"
   },
   "outputs": [
    {
     "data": {
      "image/png": "[encoded data removed]",
      "text/plain": [
       "<IPython.core.display.Image object>"
      ]
     },
     "execution_count": 87,
     "metadata": {
      "tags": []
     },
     "output_type": "execute_result"
    }
   ],
   "source": [
    "from IPython.display import Image\n",
    "Image(filename='ml2.png') "
   ]
  },
  {
   "cell_type": "code",
   "execution_count": 0,
   "metadata": {
    "colab": {
     "base_uri": "https://localhost:8080/",
     "height": 244
    },
    "colab_type": "code",
    "executionInfo": {
     "elapsed": 763,
     "status": "ok",
     "timestamp": 1583734991932,
     "user": {
      "displayName": "Mahmoud K. Shoush",
      "photoUrl": "https://lh3.googleusercontent.com/a-/AOh14Gg9UiBaJaGnafDynGv5Ght5Z18MwCGvDUW8ttd2=s64",
      "userId": "05621694697917066197"
     },
     "user_tz": -120
    },
    "id": "JFMK4UDBQF24",
    "outputId": "26a289f6-cef6-47b0-b0f0-6ecf1400d945"
   },
   "outputs": [
    {
     "name": "stdout",
     "output_type": "stream",
     "text": [
      "mean squared error is:  25.85661354806587\n",
      "root mean squared error is:  5.084939876543858\n",
      "mean absolute error is:  2.760787031493546\n",
      "rscore:  0.8504003133874143\n"
     ]
    },
    {
     "data": {
      "text/html": [
       "<div>\n",
       "<style scoped>\n",
       "    .dataframe tbody tr th:only-of-type {\n",
       "        vertical-align: middle;\n",
       "    }\n",
       "\n",
       "    .dataframe tbody tr th {\n",
       "        vertical-align: top;\n",
       "    }\n",
       "\n",
       "    .dataframe thead th {\n",
       "        text-align: right;\n",
       "    }\n",
       "</style>\n",
       "<table border=\"1\" class=\"dataframe\">\n",
       "  <thead>\n",
       "    <tr style=\"text-align: right;\">\n",
       "      <th></th>\n",
       "      <th>Model_evaluation</th>\n",
       "    </tr>\n",
       "  </thead>\n",
       "  <tbody>\n",
       "    <tr>\n",
       "      <th>MSE</th>\n",
       "      <td>25.856614</td>\n",
       "    </tr>\n",
       "    <tr>\n",
       "      <th>RMSE</th>\n",
       "      <td>5.084940</td>\n",
       "    </tr>\n",
       "    <tr>\n",
       "      <th>MAE</th>\n",
       "      <td>2.760787</td>\n",
       "    </tr>\n",
       "    <tr>\n",
       "      <th>R2</th>\n",
       "      <td>0.850400</td>\n",
       "    </tr>\n",
       "  </tbody>\n",
       "</table>\n",
       "</div>"
      ],
      "text/plain": [
       "      Model_evaluation\n",
       "MSE          25.856614\n",
       "RMSE          5.084940\n",
       "MAE           2.760787\n",
       "R2            0.850400"
      ]
     },
     "execution_count": 94,
     "metadata": {
      "tags": []
     },
     "output_type": "execute_result"
    }
   ],
   "source": [
    "from sklearn.model_selection import train_test_split # for data splitting\n",
    "from sklearn.metrics import mean_squared_error # for model evaluation\n",
    "from sklearn.metrics import r2_score # model evaluation\n",
    "from sklearn.metrics import median_absolute_error # model evaluation\n",
    "\n",
    "\n",
    "\n",
    "X = x\n",
    "y = y\n",
    "\n",
    "# split the data to train and test\n",
    "X_train, X_test, y_train, y_test = train_test_split(X, y, test_size = 0.2, random_state=9)\n",
    "\n",
    "# make an instance from the lr model\n",
    "lin_reg_mod = LinearRegression()\n",
    "\n",
    "# train the model - teach the model\n",
    "lin_reg_mod.fit(X_train, y_train)\n",
    "\n",
    "# predict unseen data (test dat)\n",
    "pred = lin_reg_mod.predict(X_test)\n",
    "\n",
    "\n",
    "# Evaluate the lr model\n",
    "\n",
    "# MAE\n",
    "test_set_mae = median_absolute_error(y_test, pred)\n",
    "# RMSE\n",
    "test_set_rmse = (np.sqrt(mean_squared_error(y_test, pred)))\n",
    "#R^2\n",
    "test_set_r2 = r2_score(y_test, pred)\n",
    "#MSE\n",
    "test_set_mse = (mean_squared_error(y_test, pred))\n",
    "\n",
    "metric_values = [test_set_mse, test_set_rmse, test_set_mae,test_set_r2 ]\n",
    "idx = ['MSE', 'RMSE', 'MAE', 'R2']\n",
    "#pd.DataFrame(metric_values, index=idx)\n",
    "\n",
    "\n",
    "print(\"mean squared error is: \", test_set_mse)\n",
    "print(\"root mean squared error is: \", test_set_rmse)\n",
    "print(\"mean absolute error is: \", test_set_mae)\n",
    "print(\"rscore: \", test_set_r2)\n",
    "\n",
    "pd.DataFrame(metric_values, columns=['Model_evaluation'],index=idx)\n"
   ]
  },
  {
   "cell_type": "code",
   "execution_count": 0,
   "metadata": {
    "colab": {
     "base_uri": "https://localhost:8080/",
     "height": 86
    },
    "colab_type": "code",
    "executionInfo": {
     "elapsed": 6650,
     "status": "ok",
     "timestamp": 1583731222192,
     "user": {
      "displayName": "Mahmoud K. Shoush",
      "photoUrl": "https://lh3.googleusercontent.com/a-/AOh14Gg9UiBaJaGnafDynGv5Ght5Z18MwCGvDUW8ttd2=s64",
      "userId": "05621694697917066197"
     },
     "user_tz": -120
    },
    "id": "KFfy6EwHQF27",
    "outputId": "e8c72094-ef17-42ca-e07e-ec0ed8aaf454"
   },
   "outputs": [
    {
     "name": "stdout",
     "output_type": "stream",
     "text": [
      "coef:  [[-1.41464813e-04  2.50016299e-01 -2.37115657e-04 -2.38937762e-02\n",
      "  -2.89772698e-01  2.24908103e-01 -3.66101256e+01  2.38878044e+01]]\n",
      "\n",
      "intercept:  [-25.43919346]\n"
     ]
    }
   ],
   "source": [
    "print('coef: ', lin_reg_mod.coef_)\n",
    "print('\\nintercept: ', lin_reg_mod.intercept_)"
   ]
  },
  {
   "cell_type": "markdown",
   "metadata": {
    "colab_type": "text",
    "id": "5UeUEUzrQF2_"
   },
   "source": [
    "# Principal Component Analysis (PCA)"
   ]
  },
  {
   "cell_type": "markdown",
   "metadata": {
    "colab_type": "text",
    "id": "XSjo3HKDQF3B"
   },
   "source": [
    "1. Imagin that you have many features (variables - columns) in your data set, you might ask the question, **Can we use only a subset from these features (feature space)? and How to chose them?**. In technical terms, you want to `reduce the dimension of your feature space.` By reducing the dimension of your feature space. \n",
    "\n",
    "\n",
    "2. Reducing the dimension of the `feature space` is called `dimensionality reduction.` There are many ways to achieve dimensionality reduction, but most of these techniques fall into one of two classes:\n",
    "\n",
    "    * **Feature Elimination:** is what it sounds like we reduce the feature space by eliminating features.\n",
    "        * `Advantages of feature elimination` methods include simplicity and maintaining interpretability of your variables.\n",
    "        * `As a disadvantage,` though, you gain no information from those variables you’ve dropped.\n",
    "    * **Feature Extraction:** Let's say we have ten `independent variables.` In **feature extraction,** we create `ten “new” independent variables,` where each “new” independent variable is a combination of each of the ten “old” independent variables. However, we create these new independent variables in a specific way and `order these new variables by how well they predict our dependent variable.`\n",
    "    \n",
    "  \n",
    "3. You might say, “Where does the dimensionality reduction come into play?” Well, we keep as many of the new independent variables as we want, but we drop the “least important ones.” Because we ordered the new variables by how well they predict our dependent variable, we know which variable is the most important and least important. But — and here’s the kicker — because these new independent variables are combinations of our old ones, we’re still keeping the most valuable parts of our old variables, even when we drop one or more of these “new” variables!\n",
    "\n",
    "\n",
    "4. **Principal component analysis** is a technique for `feature extraction` — so it combines our input variables in a specific way, then we can drop the “least important” variables while still retaining the most valuable parts of all of the variables!\n",
    "\n",
    "## PCA: is a very technical method relying on in-depth linear algebra algorithms, that brings together:\n",
    "\n",
    "   1. A measure of how each variable is associated with one another. `(Covariance matrix.)`\n",
    "   2. The directions in which our data are dispersed. `(Eigenvectors.)`\n",
    "   3. The relative importance of these different directions. `(Eigenvalues)`\n",
    "\n",
    "\n",
    "## When should I use PCA?\n",
    "\n",
    "   1. Do you want to reduce the number of variables, but aren’t able to identify variables to completely remove from consideration?\n",
    "   2. Do you want to ensure your variables are independent of one another?\n",
    "   3. Are you comfortable making your independent variables less interpretable?\n",
    "\n",
    "\n",
    "* If you answered `“yes”` to all three questions, then PCA is a good method to use. If you answered “no” to question 3, you should not use PCA."
   ]
  },
  {
   "cell_type": "code",
   "execution_count": 0,
   "metadata": {
    "colab": {
     "base_uri": "https://localhost:8080/",
     "height": 210
    },
    "colab_type": "code",
    "executionInfo": {
     "elapsed": 6644,
     "status": "ok",
     "timestamp": 1583731222192,
     "user": {
      "displayName": "Mahmoud K. Shoush",
      "photoUrl": "https://lh3.googleusercontent.com/a-/AOh14Gg9UiBaJaGnafDynGv5Ght5Z18MwCGvDUW8ttd2=s64",
      "userId": "05621694697917066197"
     },
     "user_tz": -120
    },
    "id": "K_s8BlmLQF3B",
    "outputId": "2ec43867-0d4b-430e-fe35-232a2cd05241"
   },
   "outputs": [
    {
     "data": {
      "text/html": [
       "<style  type=\"text/css\" >\n",
       "    #T_4e7d1b1e_61c6_11ea_929b_0242ac1c0002row0_col0 {\n",
       "            background-color:  #08306b;\n",
       "            color:  #f1f1f1;\n",
       "        }    #T_4e7d1b1e_61c6_11ea_929b_0242ac1c0002row0_col1 {\n",
       "            background-color:  #f7fbff;\n",
       "            color:  #000000;\n",
       "        }    #T_4e7d1b1e_61c6_11ea_929b_0242ac1c0002row0_col2 {\n",
       "            background-color:  #f7fbff;\n",
       "            color:  #000000;\n",
       "        }    #T_4e7d1b1e_61c6_11ea_929b_0242ac1c0002row0_col3 {\n",
       "            background-color:  #f7fbff;\n",
       "            color:  #000000;\n",
       "        }    #T_4e7d1b1e_61c6_11ea_929b_0242ac1c0002row0_col4 {\n",
       "            background-color:  #f7fbff;\n",
       "            color:  #000000;\n",
       "        }    #T_4e7d1b1e_61c6_11ea_929b_0242ac1c0002row0_col5 {\n",
       "            background-color:  #f7fbff;\n",
       "            color:  #000000;\n",
       "        }    #T_4e7d1b1e_61c6_11ea_929b_0242ac1c0002row0_col6 {\n",
       "            background-color:  #f7fbff;\n",
       "            color:  #000000;\n",
       "        }    #T_4e7d1b1e_61c6_11ea_929b_0242ac1c0002row1_col0 {\n",
       "            background-color:  #e5eff9;\n",
       "            color:  #000000;\n",
       "        }    #T_4e7d1b1e_61c6_11ea_929b_0242ac1c0002row1_col1 {\n",
       "            background-color:  #08306b;\n",
       "            color:  #f1f1f1;\n",
       "        }    #T_4e7d1b1e_61c6_11ea_929b_0242ac1c0002row1_col2 {\n",
       "            background-color:  #2777b8;\n",
       "            color:  #000000;\n",
       "        }    #T_4e7d1b1e_61c6_11ea_929b_0242ac1c0002row1_col3 {\n",
       "            background-color:  #eaf2fb;\n",
       "            color:  #000000;\n",
       "        }    #T_4e7d1b1e_61c6_11ea_929b_0242ac1c0002row1_col4 {\n",
       "            background-color:  #c7dbef;\n",
       "            color:  #000000;\n",
       "        }    #T_4e7d1b1e_61c6_11ea_929b_0242ac1c0002row1_col5 {\n",
       "            background-color:  #dceaf6;\n",
       "            color:  #000000;\n",
       "        }    #T_4e7d1b1e_61c6_11ea_929b_0242ac1c0002row1_col6 {\n",
       "            background-color:  #d1e2f3;\n",
       "            color:  #000000;\n",
       "        }    #T_4e7d1b1e_61c6_11ea_929b_0242ac1c0002row2_col0 {\n",
       "            background-color:  #edf4fc;\n",
       "            color:  #000000;\n",
       "        }    #T_4e7d1b1e_61c6_11ea_929b_0242ac1c0002row2_col1 {\n",
       "            background-color:  #2b7bba;\n",
       "            color:  #000000;\n",
       "        }    #T_4e7d1b1e_61c6_11ea_929b_0242ac1c0002row2_col2 {\n",
       "            background-color:  #08306b;\n",
       "            color:  #f1f1f1;\n",
       "        }    #T_4e7d1b1e_61c6_11ea_929b_0242ac1c0002row2_col3 {\n",
       "            background-color:  #3b8bc2;\n",
       "            color:  #000000;\n",
       "        }    #T_4e7d1b1e_61c6_11ea_929b_0242ac1c0002row2_col4 {\n",
       "            background-color:  #cfe1f2;\n",
       "            color:  #000000;\n",
       "        }    #T_4e7d1b1e_61c6_11ea_929b_0242ac1c0002row2_col5 {\n",
       "            background-color:  #deebf7;\n",
       "            color:  #000000;\n",
       "        }    #T_4e7d1b1e_61c6_11ea_929b_0242ac1c0002row2_col6 {\n",
       "            background-color:  #dae8f6;\n",
       "            color:  #000000;\n",
       "        }    #T_4e7d1b1e_61c6_11ea_929b_0242ac1c0002row3_col0 {\n",
       "            background-color:  #f2f8fd;\n",
       "            color:  #000000;\n",
       "        }    #T_4e7d1b1e_61c6_11ea_929b_0242ac1c0002row3_col1 {\n",
       "            background-color:  #f7fbff;\n",
       "            color:  #000000;\n",
       "        }    #T_4e7d1b1e_61c6_11ea_929b_0242ac1c0002row3_col2 {\n",
       "            background-color:  #3d8dc4;\n",
       "            color:  #000000;\n",
       "        }    #T_4e7d1b1e_61c6_11ea_929b_0242ac1c0002row3_col3 {\n",
       "            background-color:  #08306b;\n",
       "            color:  #f1f1f1;\n",
       "        }    #T_4e7d1b1e_61c6_11ea_929b_0242ac1c0002row3_col4 {\n",
       "            background-color:  #ecf4fb;\n",
       "            color:  #000000;\n",
       "        }    #T_4e7d1b1e_61c6_11ea_929b_0242ac1c0002row3_col5 {\n",
       "            background-color:  #eff6fc;\n",
       "            color:  #000000;\n",
       "        }    #T_4e7d1b1e_61c6_11ea_929b_0242ac1c0002row3_col6 {\n",
       "            background-color:  #f5f9fe;\n",
       "            color:  #000000;\n",
       "        }    #T_4e7d1b1e_61c6_11ea_929b_0242ac1c0002row4_col0 {\n",
       "            background-color:  #f7fbff;\n",
       "            color:  #000000;\n",
       "        }    #T_4e7d1b1e_61c6_11ea_929b_0242ac1c0002row4_col1 {\n",
       "            background-color:  #d5e5f4;\n",
       "            color:  #000000;\n",
       "        }    #T_4e7d1b1e_61c6_11ea_929b_0242ac1c0002row4_col2 {\n",
       "            background-color:  #d7e6f5;\n",
       "            color:  #000000;\n",
       "        }    #T_4e7d1b1e_61c6_11ea_929b_0242ac1c0002row4_col3 {\n",
       "            background-color:  #f2f7fd;\n",
       "            color:  #000000;\n",
       "        }    #T_4e7d1b1e_61c6_11ea_929b_0242ac1c0002row4_col4 {\n",
       "            background-color:  #08306b;\n",
       "            color:  #f1f1f1;\n",
       "        }    #T_4e7d1b1e_61c6_11ea_929b_0242ac1c0002row4_col5 {\n",
       "            background-color:  #5ca4d0;\n",
       "            color:  #000000;\n",
       "        }    #T_4e7d1b1e_61c6_11ea_929b_0242ac1c0002row4_col6 {\n",
       "            background-color:  #0e59a2;\n",
       "            color:  #f1f1f1;\n",
       "        }    #T_4e7d1b1e_61c6_11ea_929b_0242ac1c0002row5_col0 {\n",
       "            background-color:  #f5f9fe;\n",
       "            color:  #000000;\n",
       "        }    #T_4e7d1b1e_61c6_11ea_929b_0242ac1c0002row5_col1 {\n",
       "            background-color:  #ebf3fb;\n",
       "            color:  #000000;\n",
       "        }    #T_4e7d1b1e_61c6_11ea_929b_0242ac1c0002row5_col2 {\n",
       "            background-color:  #e5eff9;\n",
       "            color:  #000000;\n",
       "        }    #T_4e7d1b1e_61c6_11ea_929b_0242ac1c0002row5_col3 {\n",
       "            background-color:  #f2f7fd;\n",
       "            color:  #000000;\n",
       "        }    #T_4e7d1b1e_61c6_11ea_929b_0242ac1c0002row5_col4 {\n",
       "            background-color:  #5aa2cf;\n",
       "            color:  #000000;\n",
       "        }    #T_4e7d1b1e_61c6_11ea_929b_0242ac1c0002row5_col5 {\n",
       "            background-color:  #08306b;\n",
       "            color:  #f1f1f1;\n",
       "        }    #T_4e7d1b1e_61c6_11ea_929b_0242ac1c0002row5_col6 {\n",
       "            background-color:  #5ca4d0;\n",
       "            color:  #000000;\n",
       "        }    #T_4e7d1b1e_61c6_11ea_929b_0242ac1c0002row6_col0 {\n",
       "            background-color:  #f1f7fd;\n",
       "            color:  #000000;\n",
       "        }    #T_4e7d1b1e_61c6_11ea_929b_0242ac1c0002row6_col1 {\n",
       "            background-color:  #dce9f6;\n",
       "            color:  #000000;\n",
       "        }    #T_4e7d1b1e_61c6_11ea_929b_0242ac1c0002row6_col2 {\n",
       "            background-color:  #deebf7;\n",
       "            color:  #000000;\n",
       "        }    #T_4e7d1b1e_61c6_11ea_929b_0242ac1c0002row6_col3 {\n",
       "            background-color:  #f3f8fe;\n",
       "            color:  #000000;\n",
       "        }    #T_4e7d1b1e_61c6_11ea_929b_0242ac1c0002row6_col4 {\n",
       "            background-color:  #0d57a1;\n",
       "            color:  #f1f1f1;\n",
       "        }    #T_4e7d1b1e_61c6_11ea_929b_0242ac1c0002row6_col5 {\n",
       "            background-color:  #5aa2cf;\n",
       "            color:  #000000;\n",
       "        }    #T_4e7d1b1e_61c6_11ea_929b_0242ac1c0002row6_col6 {\n",
       "            background-color:  #08306b;\n",
       "            color:  #f1f1f1;\n",
       "        }</style><table id=\"T_4e7d1b1e_61c6_11ea_929b_0242ac1c0002\" ><thead>    <tr>        <th class=\"blank level0\" ></th>        <th class=\"col_heading level0 col0\" >customer_id</th>        <th class=\"col_heading level0 col1\" >transaction_per_customer_1</th>        <th class=\"col_heading level0 col2\" >amount_per_customer_1</th>        <th class=\"col_heading level0 col3\" >amount_per_transaction_1</th>        <th class=\"col_heading level0 col4\" >amount_per_customer_2</th>        <th class=\"col_heading level0 col5\" >age</th>        <th class=\"col_heading level0 col6\" >clicks_in_eshop</th>    </tr></thead><tbody>\n",
       "                <tr>\n",
       "                        <th id=\"T_4e7d1b1e_61c6_11ea_929b_0242ac1c0002level0_row0\" class=\"row_heading level0 row0\" >customer_id</th>\n",
       "                        <td id=\"T_4e7d1b1e_61c6_11ea_929b_0242ac1c0002row0_col0\" class=\"data row0 col0\" >1</td>\n",
       "                        <td id=\"T_4e7d1b1e_61c6_11ea_929b_0242ac1c0002row0_col1\" class=\"data row0 col1\" >0.0464732</td>\n",
       "                        <td id=\"T_4e7d1b1e_61c6_11ea_929b_0242ac1c0002row0_col2\" class=\"data row0 col2\" >0.00474392</td>\n",
       "                        <td id=\"T_4e7d1b1e_61c6_11ea_929b_0242ac1c0002row0_col3\" class=\"data row0 col3\" >-0.0218862</td>\n",
       "                        <td id=\"T_4e7d1b1e_61c6_11ea_929b_0242ac1c0002row0_col4\" class=\"data row0 col4\" >-0.0496258</td>\n",
       "                        <td id=\"T_4e7d1b1e_61c6_11ea_929b_0242ac1c0002row0_col5\" class=\"data row0 col5\" >-0.035197</td>\n",
       "                        <td id=\"T_4e7d1b1e_61c6_11ea_929b_0242ac1c0002row0_col6\" class=\"data row0 col6\" >-0.0165777</td>\n",
       "            </tr>\n",
       "            <tr>\n",
       "                        <th id=\"T_4e7d1b1e_61c6_11ea_929b_0242ac1c0002level0_row1\" class=\"row_heading level0 row1\" >transaction_per_customer_1</th>\n",
       "                        <td id=\"T_4e7d1b1e_61c6_11ea_929b_0242ac1c0002row1_col0\" class=\"data row1 col0\" >0.0464732</td>\n",
       "                        <td id=\"T_4e7d1b1e_61c6_11ea_929b_0242ac1c0002row1_col1\" class=\"data row1 col1\" >1</td>\n",
       "                        <td id=\"T_4e7d1b1e_61c6_11ea_929b_0242ac1c0002row1_col2\" class=\"data row1 col2\" >0.725746</td>\n",
       "                        <td id=\"T_4e7d1b1e_61c6_11ea_929b_0242ac1c0002row1_col3\" class=\"data row1 col3\" >0.046075</td>\n",
       "                        <td id=\"T_4e7d1b1e_61c6_11ea_929b_0242ac1c0002row1_col4\" class=\"data row1 col4\" >0.211662</td>\n",
       "                        <td id=\"T_4e7d1b1e_61c6_11ea_929b_0242ac1c0002row1_col5\" class=\"data row1 col5\" >0.103308</td>\n",
       "                        <td id=\"T_4e7d1b1e_61c6_11ea_929b_0242ac1c0002row1_col6\" class=\"data row1 col6\" >0.178232</td>\n",
       "            </tr>\n",
       "            <tr>\n",
       "                        <th id=\"T_4e7d1b1e_61c6_11ea_929b_0242ac1c0002level0_row2\" class=\"row_heading level0 row2\" >amount_per_customer_1</th>\n",
       "                        <td id=\"T_4e7d1b1e_61c6_11ea_929b_0242ac1c0002row2_col0\" class=\"data row2 col0\" >0.00474392</td>\n",
       "                        <td id=\"T_4e7d1b1e_61c6_11ea_929b_0242ac1c0002row2_col1\" class=\"data row2 col1\" >0.725746</td>\n",
       "                        <td id=\"T_4e7d1b1e_61c6_11ea_929b_0242ac1c0002row2_col2\" class=\"data row2 col2\" >1</td>\n",
       "                        <td id=\"T_4e7d1b1e_61c6_11ea_929b_0242ac1c0002row2_col3\" class=\"data row2 col3\" >0.643132</td>\n",
       "                        <td id=\"T_4e7d1b1e_61c6_11ea_929b_0242ac1c0002row2_col4\" class=\"data row2 col4\" >0.164329</td>\n",
       "                        <td id=\"T_4e7d1b1e_61c6_11ea_929b_0242ac1c0002row2_col5\" class=\"data row2 col5\" >0.0959282</td>\n",
       "                        <td id=\"T_4e7d1b1e_61c6_11ea_929b_0242ac1c0002row2_col6\" class=\"data row2 col6\" >0.130854</td>\n",
       "            </tr>\n",
       "            <tr>\n",
       "                        <th id=\"T_4e7d1b1e_61c6_11ea_929b_0242ac1c0002level0_row3\" class=\"row_heading level0 row3\" >amount_per_transaction_1</th>\n",
       "                        <td id=\"T_4e7d1b1e_61c6_11ea_929b_0242ac1c0002row3_col0\" class=\"data row3 col0\" >-0.0218862</td>\n",
       "                        <td id=\"T_4e7d1b1e_61c6_11ea_929b_0242ac1c0002row3_col1\" class=\"data row3 col1\" >0.046075</td>\n",
       "                        <td id=\"T_4e7d1b1e_61c6_11ea_929b_0242ac1c0002row3_col2\" class=\"data row3 col2\" >0.643132</td>\n",
       "                        <td id=\"T_4e7d1b1e_61c6_11ea_929b_0242ac1c0002row3_col3\" class=\"data row3 col3\" >1</td>\n",
       "                        <td id=\"T_4e7d1b1e_61c6_11ea_929b_0242ac1c0002row3_col4\" class=\"data row3 col4\" >0.00811911</td>\n",
       "                        <td id=\"T_4e7d1b1e_61c6_11ea_929b_0242ac1c0002row3_col5\" class=\"data row3 col5\" >0.00906553</td>\n",
       "                        <td id=\"T_4e7d1b1e_61c6_11ea_929b_0242ac1c0002row3_col6\" class=\"data row3 col6\" >-0.00142809</td>\n",
       "            </tr>\n",
       "            <tr>\n",
       "                        <th id=\"T_4e7d1b1e_61c6_11ea_929b_0242ac1c0002level0_row4\" class=\"row_heading level0 row4\" >amount_per_customer_2</th>\n",
       "                        <td id=\"T_4e7d1b1e_61c6_11ea_929b_0242ac1c0002row4_col0\" class=\"data row4 col0\" >-0.0496258</td>\n",
       "                        <td id=\"T_4e7d1b1e_61c6_11ea_929b_0242ac1c0002row4_col1\" class=\"data row4 col1\" >0.211662</td>\n",
       "                        <td id=\"T_4e7d1b1e_61c6_11ea_929b_0242ac1c0002row4_col2\" class=\"data row4 col2\" >0.164329</td>\n",
       "                        <td id=\"T_4e7d1b1e_61c6_11ea_929b_0242ac1c0002row4_col3\" class=\"data row4 col3\" >0.00811911</td>\n",
       "                        <td id=\"T_4e7d1b1e_61c6_11ea_929b_0242ac1c0002row4_col4\" class=\"data row4 col4\" >1</td>\n",
       "                        <td id=\"T_4e7d1b1e_61c6_11ea_929b_0242ac1c0002row4_col5\" class=\"data row4 col5\" >0.530529</td>\n",
       "                        <td id=\"T_4e7d1b1e_61c6_11ea_929b_0242ac1c0002row4_col6\" class=\"data row4 col6\" >0.840909</td>\n",
       "            </tr>\n",
       "            <tr>\n",
       "                        <th id=\"T_4e7d1b1e_61c6_11ea_929b_0242ac1c0002level0_row5\" class=\"row_heading level0 row5\" >age</th>\n",
       "                        <td id=\"T_4e7d1b1e_61c6_11ea_929b_0242ac1c0002row5_col0\" class=\"data row5 col0\" >-0.035197</td>\n",
       "                        <td id=\"T_4e7d1b1e_61c6_11ea_929b_0242ac1c0002row5_col1\" class=\"data row5 col1\" >0.103308</td>\n",
       "                        <td id=\"T_4e7d1b1e_61c6_11ea_929b_0242ac1c0002row5_col2\" class=\"data row5 col2\" >0.0959282</td>\n",
       "                        <td id=\"T_4e7d1b1e_61c6_11ea_929b_0242ac1c0002row5_col3\" class=\"data row5 col3\" >0.00906553</td>\n",
       "                        <td id=\"T_4e7d1b1e_61c6_11ea_929b_0242ac1c0002row5_col4\" class=\"data row5 col4\" >0.530529</td>\n",
       "                        <td id=\"T_4e7d1b1e_61c6_11ea_929b_0242ac1c0002row5_col5\" class=\"data row5 col5\" >1</td>\n",
       "                        <td id=\"T_4e7d1b1e_61c6_11ea_929b_0242ac1c0002row5_col6\" class=\"data row5 col6\" >0.536013</td>\n",
       "            </tr>\n",
       "            <tr>\n",
       "                        <th id=\"T_4e7d1b1e_61c6_11ea_929b_0242ac1c0002level0_row6\" class=\"row_heading level0 row6\" >clicks_in_eshop</th>\n",
       "                        <td id=\"T_4e7d1b1e_61c6_11ea_929b_0242ac1c0002row6_col0\" class=\"data row6 col0\" >-0.0165777</td>\n",
       "                        <td id=\"T_4e7d1b1e_61c6_11ea_929b_0242ac1c0002row6_col1\" class=\"data row6 col1\" >0.178232</td>\n",
       "                        <td id=\"T_4e7d1b1e_61c6_11ea_929b_0242ac1c0002row6_col2\" class=\"data row6 col2\" >0.130854</td>\n",
       "                        <td id=\"T_4e7d1b1e_61c6_11ea_929b_0242ac1c0002row6_col3\" class=\"data row6 col3\" >-0.00142809</td>\n",
       "                        <td id=\"T_4e7d1b1e_61c6_11ea_929b_0242ac1c0002row6_col4\" class=\"data row6 col4\" >0.840909</td>\n",
       "                        <td id=\"T_4e7d1b1e_61c6_11ea_929b_0242ac1c0002row6_col5\" class=\"data row6 col5\" >0.536013</td>\n",
       "                        <td id=\"T_4e7d1b1e_61c6_11ea_929b_0242ac1c0002row6_col6\" class=\"data row6 col6\" >1</td>\n",
       "            </tr>\n",
       "    </tbody></table>"
      ],
      "text/plain": [
       "<pandas.io.formats.style.Styler at 0x7fe2e78b7dd8>"
      ]
     },
     "execution_count": 39,
     "metadata": {
      "tags": []
     },
     "output_type": "execute_result"
    }
   ],
   "source": [
    "corr = model_data.corr()\n",
    "corr.style.background_gradient(cmap='Blues')"
   ]
  },
  {
   "cell_type": "code",
   "execution_count": 0,
   "metadata": {
    "colab": {
     "base_uri": "https://localhost:8080/",
     "height": 226
    },
    "colab_type": "code",
    "executionInfo": {
     "elapsed": 6636,
     "status": "ok",
     "timestamp": 1583731222193,
     "user": {
      "displayName": "Mahmoud K. Shoush",
      "photoUrl": "https://lh3.googleusercontent.com/a-/AOh14Gg9UiBaJaGnafDynGv5Ght5Z18MwCGvDUW8ttd2=s64",
      "userId": "05621694697917066197"
     },
     "user_tz": -120
    },
    "id": "49z--LREQF3F",
    "outputId": "03cded9a-30d6-4e91-8c71-f340e2736833"
   },
   "outputs": [
    {
     "data": {
      "text/html": [
       "<div>\n",
       "<style scoped>\n",
       "    .dataframe tbody tr th:only-of-type {\n",
       "        vertical-align: middle;\n",
       "    }\n",
       "\n",
       "    .dataframe tbody tr th {\n",
       "        vertical-align: top;\n",
       "    }\n",
       "\n",
       "    .dataframe thead th {\n",
       "        text-align: right;\n",
       "    }\n",
       "</style>\n",
       "<table border=\"1\" class=\"dataframe\">\n",
       "  <thead>\n",
       "    <tr style=\"text-align: right;\">\n",
       "      <th></th>\n",
       "      <th>customer_id</th>\n",
       "      <th>transaction_per_customer_1</th>\n",
       "      <th>amount_per_customer_1</th>\n",
       "      <th>amount_per_transaction_1</th>\n",
       "      <th>amount_per_customer_2</th>\n",
       "      <th>gender</th>\n",
       "      <th>age</th>\n",
       "      <th>discount_proposed</th>\n",
       "      <th>clicks_in_eshop</th>\n",
       "    </tr>\n",
       "  </thead>\n",
       "  <tbody>\n",
       "    <tr>\n",
       "      <th>0</th>\n",
       "      <td>2</td>\n",
       "      <td>2</td>\n",
       "      <td>14.81</td>\n",
       "      <td>7.405000</td>\n",
       "      <td>15.12</td>\n",
       "      <td>1</td>\n",
       "      <td>42</td>\n",
       "      <td>1</td>\n",
       "      <td>3</td>\n",
       "    </tr>\n",
       "    <tr>\n",
       "      <th>1</th>\n",
       "      <td>3</td>\n",
       "      <td>1</td>\n",
       "      <td>21.58</td>\n",
       "      <td>21.580000</td>\n",
       "      <td>25.35</td>\n",
       "      <td>1</td>\n",
       "      <td>49</td>\n",
       "      <td>1</td>\n",
       "      <td>3</td>\n",
       "    </tr>\n",
       "    <tr>\n",
       "      <th>2</th>\n",
       "      <td>7</td>\n",
       "      <td>2</td>\n",
       "      <td>26.46</td>\n",
       "      <td>13.230000</td>\n",
       "      <td>8.08</td>\n",
       "      <td>0</td>\n",
       "      <td>42</td>\n",
       "      <td>0</td>\n",
       "      <td>1</td>\n",
       "    </tr>\n",
       "    <tr>\n",
       "      <th>3</th>\n",
       "      <td>8</td>\n",
       "      <td>1</td>\n",
       "      <td>6.21</td>\n",
       "      <td>6.210000</td>\n",
       "      <td>2.35</td>\n",
       "      <td>0</td>\n",
       "      <td>28</td>\n",
       "      <td>0</td>\n",
       "      <td>1</td>\n",
       "    </tr>\n",
       "    <tr>\n",
       "      <th>4</th>\n",
       "      <td>9</td>\n",
       "      <td>3</td>\n",
       "      <td>19.21</td>\n",
       "      <td>6.403333</td>\n",
       "      <td>11.46</td>\n",
       "      <td>1</td>\n",
       "      <td>42</td>\n",
       "      <td>0</td>\n",
       "      <td>1</td>\n",
       "    </tr>\n",
       "  </tbody>\n",
       "</table>\n",
       "</div>"
      ],
      "text/plain": [
       "   customer_id  transaction_per_customer_1  ...  discount_proposed  clicks_in_eshop\n",
       "0            2                           2  ...                  1                3\n",
       "1            3                           1  ...                  1                3\n",
       "2            7                           2  ...                  0                1\n",
       "3            8                           1  ...                  0                1\n",
       "4            9                           3  ...                  0                1\n",
       "\n",
       "[5 rows x 9 columns]"
      ]
     },
     "execution_count": 40,
     "metadata": {
      "tags": []
     },
     "output_type": "execute_result"
    }
   ],
   "source": [
    "model_data.head()"
   ]
  },
  {
   "cell_type": "code",
   "execution_count": 0,
   "metadata": {
    "colab": {},
    "colab_type": "code",
    "id": "_fx1SiqEQF3I"
   },
   "outputs": [],
   "source": [
    "x = model_data.loc[:, model_data.columns != 'amount_per_customer_2'] # features \n",
    "y = model_data[['amount_per_customer_2']] # target / label"
   ]
  },
  {
   "cell_type": "code",
   "execution_count": 0,
   "metadata": {
    "colab": {
     "base_uri": "https://localhost:8080/",
     "height": 34
    },
    "colab_type": "code",
    "executionInfo": {
     "elapsed": 6626,
     "status": "ok",
     "timestamp": 1583731222195,
     "user": {
      "displayName": "Mahmoud K. Shoush",
      "photoUrl": "https://lh3.googleusercontent.com/a-/AOh14Gg9UiBaJaGnafDynGv5Ght5Z18MwCGvDUW8ttd2=s64",
      "userId": "05621694697917066197"
     },
     "user_tz": -120
    },
    "id": "3UVoyPpoQF3L",
    "outputId": "a81a379b-e7b5-45ed-8b4d-9443c05abb6d"
   },
   "outputs": [
    {
     "data": {
      "text/plain": [
       "(657, 8)"
      ]
     },
     "execution_count": 42,
     "metadata": {
      "tags": []
     },
     "output_type": "execute_result"
    }
   ],
   "source": [
    "x.shape"
   ]
  },
  {
   "cell_type": "code",
   "execution_count": 0,
   "metadata": {
    "colab": {
     "base_uri": "https://localhost:8080/",
     "height": 34
    },
    "colab_type": "code",
    "executionInfo": {
     "elapsed": 6617,
     "status": "ok",
     "timestamp": 1583731222195,
     "user": {
      "displayName": "Mahmoud K. Shoush",
      "photoUrl": "https://lh3.googleusercontent.com/a-/AOh14Gg9UiBaJaGnafDynGv5Ght5Z18MwCGvDUW8ttd2=s64",
      "userId": "05621694697917066197"
     },
     "user_tz": -120
    },
    "id": "1lXr8HmzQF3O",
    "outputId": "30e5fba2-156f-4c17-9504-8e16ee7e01fc"
   },
   "outputs": [
    {
     "data": {
      "text/plain": [
       "(657, 1)"
      ]
     },
     "execution_count": 43,
     "metadata": {
      "tags": []
     },
     "output_type": "execute_result"
    }
   ],
   "source": [
    "y.shape"
   ]
  },
  {
   "cell_type": "markdown",
   "metadata": {
    "colab_type": "text",
    "id": "BIN0ks1VQF3R"
   },
   "source": [
    "### PCA in Python:"
   ]
  },
  {
   "cell_type": "code",
   "execution_count": 0,
   "metadata": {
    "colab": {},
    "colab_type": "code",
    "id": "jY2S5dhlQF3S"
   },
   "outputs": [],
   "source": [
    "from sklearn.decomposition import PCA\n",
    "from sklearn.model_selection import KFold\n",
    "from sklearn import linear_model\n",
    "from sklearn.metrics import make_scorer\n",
    "from sklearn.metrics import r2_score\n",
    "from sklearn.model_selection import cross_val_score\n",
    "from sklearn.model_selection import GridSearchCV\n",
    "import matplotlib.pyplot as plt\n",
    "import seaborn\n",
    "import warnings\n",
    "warnings.filterwarnings('ignore');\n"
   ]
  },
  {
   "cell_type": "code",
   "execution_count": 0,
   "metadata": {
    "colab": {},
    "colab_type": "code",
    "id": "AuYqnGoRQF3V"
   },
   "outputs": [],
   "source": [
    "# features and target\n",
    "X = x\n",
    "y = y\n",
    "\n",
    "# convert features to numpy array\n",
    "X = X.to_numpy()\n",
    "\n",
    "# n_components: Number of components (features) to keep.\n",
    "\n",
    "# whiten: When True (False by default) the components_ vectors are multiplied by the square root of n_samples\n",
    "# and then divided by the singular values to ensure uncorrelated outputs with unit component-wise variances.\n",
    "\n",
    "# svd (Singular Value Decomposition): project data to a lower dimensional space.\n",
    "\n",
    "# get an instance from PCA\n",
    "pca = PCA(n_components=8,whiten=True,svd_solver='randomized')\n",
    "\n",
    "# fitting or teaching PCA \n",
    "pca = pca.fit(X)\n",
    "\n",
    "# generate new features based on PCA technique by using transform()\n",
    "dataPCA = pca.transform(X)"
   ]
  },
  {
   "cell_type": "code",
   "execution_count": 0,
   "metadata": {
    "colab": {
     "base_uri": "https://localhost:8080/",
     "height": 423
    },
    "colab_type": "code",
    "executionInfo": {
     "elapsed": 878,
     "status": "ok",
     "timestamp": 1583737723974,
     "user": {
      "displayName": "Mahmoud K. Shoush",
      "photoUrl": "https://lh3.googleusercontent.com/a-/AOh14Gg9UiBaJaGnafDynGv5Ght5Z18MwCGvDUW8ttd2=s64",
      "userId": "05621694697917066197"
     },
     "user_tz": -120
    },
    "id": "AiHW37jRHgHK",
    "outputId": "1ab25ac3-1532-47f4-9926-4e1f419f0dd6"
   },
   "outputs": [
    {
     "data": {
      "text/html": [
       "<div>\n",
       "<style scoped>\n",
       "    .dataframe tbody tr th:only-of-type {\n",
       "        vertical-align: middle;\n",
       "    }\n",
       "\n",
       "    .dataframe tbody tr th {\n",
       "        vertical-align: top;\n",
       "    }\n",
       "\n",
       "    .dataframe thead th {\n",
       "        text-align: right;\n",
       "    }\n",
       "</style>\n",
       "<table border=\"1\" class=\"dataframe\">\n",
       "  <thead>\n",
       "    <tr style=\"text-align: right;\">\n",
       "      <th></th>\n",
       "      <th>amount_per_customer_2</th>\n",
       "    </tr>\n",
       "  </thead>\n",
       "  <tbody>\n",
       "    <tr>\n",
       "      <th>0</th>\n",
       "      <td>15.12</td>\n",
       "    </tr>\n",
       "    <tr>\n",
       "      <th>1</th>\n",
       "      <td>25.35</td>\n",
       "    </tr>\n",
       "    <tr>\n",
       "      <th>2</th>\n",
       "      <td>8.08</td>\n",
       "    </tr>\n",
       "    <tr>\n",
       "      <th>3</th>\n",
       "      <td>2.35</td>\n",
       "    </tr>\n",
       "    <tr>\n",
       "      <th>4</th>\n",
       "      <td>11.46</td>\n",
       "    </tr>\n",
       "    <tr>\n",
       "      <th>...</th>\n",
       "      <td>...</td>\n",
       "    </tr>\n",
       "    <tr>\n",
       "      <th>495</th>\n",
       "      <td>32.44</td>\n",
       "    </tr>\n",
       "    <tr>\n",
       "      <th>496</th>\n",
       "      <td>12.51</td>\n",
       "    </tr>\n",
       "    <tr>\n",
       "      <th>497</th>\n",
       "      <td>3.49</td>\n",
       "    </tr>\n",
       "    <tr>\n",
       "      <th>498</th>\n",
       "      <td>7.95</td>\n",
       "    </tr>\n",
       "    <tr>\n",
       "      <th>499</th>\n",
       "      <td>20.54</td>\n",
       "    </tr>\n",
       "  </tbody>\n",
       "</table>\n",
       "<p>500 rows × 1 columns</p>\n",
       "</div>"
      ],
      "text/plain": [
       "     amount_per_customer_2\n",
       "0                    15.12\n",
       "1                    25.35\n",
       "2                     8.08\n",
       "3                     2.35\n",
       "4                    11.46\n",
       "..                     ...\n",
       "495                  32.44\n",
       "496                  12.51\n",
       "497                   3.49\n",
       "498                   7.95\n",
       "499                  20.54\n",
       "\n",
       "[500 rows x 1 columns]"
      ]
     },
     "execution_count": 108,
     "metadata": {
      "tags": []
     },
     "output_type": "execute_result"
    }
   ],
   "source": [
    "y[:500]"
   ]
  },
  {
   "cell_type": "code",
   "execution_count": 0,
   "metadata": {
    "colab": {},
    "colab_type": "code",
    "id": "THAYLrYaQF3X"
   },
   "outputs": [],
   "source": [
    "# manual method to split data (original data)\n",
    "train_original = X[:500]\n",
    "test_original = X[500:]\n",
    "\n",
    "train_y_orig = y[:500]\n",
    "test_y_orig = y[500:]\n",
    "\n",
    "\n",
    "# Split traing and test\n",
    "train_pca = dataPCA[:500]\n",
    "test_pca = dataPCA[500:]"
   ]
  },
  {
   "cell_type": "code",
   "execution_count": 0,
   "metadata": {
    "colab": {
     "base_uri": "https://localhost:8080/",
     "height": 650
    },
    "colab_type": "code",
    "executionInfo": {
     "elapsed": 832,
     "status": "ok",
     "timestamp": 1583737952136,
     "user": {
      "displayName": "Mahmoud K. Shoush",
      "photoUrl": "https://lh3.googleusercontent.com/a-/AOh14Gg9UiBaJaGnafDynGv5Ght5Z18MwCGvDUW8ttd2=s64",
      "userId": "05621694697917066197"
     },
     "user_tz": -120
    },
    "id": "Unlk4CJyQF3e",
    "outputId": "f28d29c4-3111-4ccf-cb53-721b1cfe42c4"
   },
   "outputs": [
    {
     "data": {
      "text/html": [
       "<div>\n",
       "<style scoped>\n",
       "    .dataframe tbody tr th:only-of-type {\n",
       "        vertical-align: middle;\n",
       "    }\n",
       "\n",
       "    .dataframe tbody tr th {\n",
       "        vertical-align: top;\n",
       "    }\n",
       "\n",
       "    .dataframe thead th {\n",
       "        text-align: right;\n",
       "    }\n",
       "</style>\n",
       "<table border=\"1\" class=\"dataframe\">\n",
       "  <thead>\n",
       "    <tr style=\"text-align: right;\">\n",
       "      <th></th>\n",
       "      <th>R Square Score</th>\n",
       "    </tr>\n",
       "  </thead>\n",
       "  <tbody>\n",
       "    <tr>\n",
       "      <th>Linear</th>\n",
       "      <td>0.818799</td>\n",
       "    </tr>\n",
       "  </tbody>\n",
       "</table>\n",
       "</div>"
      ],
      "text/plain": [
       "        R Square Score\n",
       "Linear        0.818799"
      ]
     },
     "execution_count": 117,
     "metadata": {
      "tags": []
     },
     "output_type": "execute_result"
    },
    {
     "data": {
      "image/png": "[encoded data removed]",
      "text/plain": [
       "<Figure size 432x288 with 1 Axes>"
      ]
     },
     "metadata": {
      "tags": []
     },
     "output_type": "display_data"
    },
    {
     "data": {
      "image/png": "[encoded data removed]",
      "text/plain": [
       "<Figure size 432x288 with 1 Axes>"
      ]
     },
     "metadata": {
      "tags": []
     },
     "output_type": "display_data"
    }
   ],
   "source": [
    "# R2 Score\n",
    "from sklearn.metrics import r2_score\n",
    "#y_true = [3, -0.5, 2, 7]\n",
    "#> y_pred = [2.5, 0.0, 2, 8]\n",
    "#r2_score(y_true, y_pred)\n",
    "\n",
    "def lets_try(x_train, y_train, x_test,y_test):\n",
    "    results={}\n",
    "    def test_model(clf):  \n",
    "        # train the model - teach the model\n",
    "        clf.fit(x_train, y_train)\n",
    "\n",
    "        # predict unseen data (test dat)\n",
    "        pred = clf.predict(x_test)\n",
    "\n",
    "        # R2\n",
    "        r2_val_score = r2_score(y_test, pred)\n",
    "\n",
    "        scores=[r2_val_score.mean()]\n",
    "        return scores\n",
    "\n",
    "    clf = linear_model.LinearRegression()\n",
    "    results[\"Linear\"]=test_model(clf)\n",
    "\n",
    "    \n",
    "    results = pd.DataFrame.from_dict(results,orient='index')\n",
    "    results.columns=[\"R Square Score\"] \n",
    "    results.plot(kind=\"bar\",title=\"Model Scores\")\n",
    "    axes = plt.gca()\n",
    "    axes.set_ylim([0.5,1])\n",
    "    return results\n",
    "\n"
   ]
  },
  {
   "cell_type": "code",
   "execution_count": 0,
   "metadata": {
    "colab": {
     "base_uri": "https://localhost:8080/",
     "height": 365
    },
    "colab_type": "code",
    "executionInfo": {
     "elapsed": 940,
     "status": "ok",
     "timestamp": 1583738014334,
     "user": {
      "displayName": "Mahmoud K. Shoush",
      "photoUrl": "https://lh3.googleusercontent.com/a-/AOh14Gg9UiBaJaGnafDynGv5Ght5Z18MwCGvDUW8ttd2=s64",
      "userId": "05621694697917066197"
     },
     "user_tz": -120
    },
    "id": "764XOlBOJBx-",
    "outputId": "daef9478-c63e-42fb-934e-55cb48cea138"
   },
   "outputs": [
    {
     "data": {
      "text/html": [
       "<div>\n",
       "<style scoped>\n",
       "    .dataframe tbody tr th:only-of-type {\n",
       "        vertical-align: middle;\n",
       "    }\n",
       "\n",
       "    .dataframe tbody tr th {\n",
       "        vertical-align: top;\n",
       "    }\n",
       "\n",
       "    .dataframe thead th {\n",
       "        text-align: right;\n",
       "    }\n",
       "</style>\n",
       "<table border=\"1\" class=\"dataframe\">\n",
       "  <thead>\n",
       "    <tr style=\"text-align: right;\">\n",
       "      <th></th>\n",
       "      <th>R Square Score</th>\n",
       "    </tr>\n",
       "  </thead>\n",
       "  <tbody>\n",
       "    <tr>\n",
       "      <th>Linear</th>\n",
       "      <td>0.818799</td>\n",
       "    </tr>\n",
       "  </tbody>\n",
       "</table>\n",
       "</div>"
      ],
      "text/plain": [
       "        R Square Score\n",
       "Linear        0.818799"
      ]
     },
     "execution_count": 118,
     "metadata": {
      "tags": []
     },
     "output_type": "execute_result"
    },
    {
     "data": {
      "image/png": "[encoded data removed]",
      "text/plain": [
       "<Figure size 432x288 with 1 Axes>"
      ]
     },
     "metadata": {
      "tags": []
     },
     "output_type": "display_data"
    }
   ],
   "source": [
    "# orig model\n",
    "lets_try(train_original,train_y_orig, test_original,test_y_orig)\n"
   ]
  },
  {
   "cell_type": "code",
   "execution_count": 0,
   "metadata": {
    "colab": {
     "base_uri": "https://localhost:8080/",
     "height": 365
    },
    "colab_type": "code",
    "executionInfo": {
     "elapsed": 906,
     "status": "ok",
     "timestamp": 1583738017933,
     "user": {
      "displayName": "Mahmoud K. Shoush",
      "photoUrl": "https://lh3.googleusercontent.com/a-/AOh14Gg9UiBaJaGnafDynGv5Ght5Z18MwCGvDUW8ttd2=s64",
      "userId": "05621694697917066197"
     },
     "user_tz": -120
    },
    "id": "bNeXDhEzJCYF",
    "outputId": "f9d004ab-371c-4543-8270-d43f9e94ea49"
   },
   "outputs": [
    {
     "data": {
      "text/html": [
       "<div>\n",
       "<style scoped>\n",
       "    .dataframe tbody tr th:only-of-type {\n",
       "        vertical-align: middle;\n",
       "    }\n",
       "\n",
       "    .dataframe tbody tr th {\n",
       "        vertical-align: top;\n",
       "    }\n",
       "\n",
       "    .dataframe thead th {\n",
       "        text-align: right;\n",
       "    }\n",
       "</style>\n",
       "<table border=\"1\" class=\"dataframe\">\n",
       "  <thead>\n",
       "    <tr style=\"text-align: right;\">\n",
       "      <th></th>\n",
       "      <th>R Square Score</th>\n",
       "    </tr>\n",
       "  </thead>\n",
       "  <tbody>\n",
       "    <tr>\n",
       "      <th>Linear</th>\n",
       "      <td>0.818799</td>\n",
       "    </tr>\n",
       "  </tbody>\n",
       "</table>\n",
       "</div>"
      ],
      "text/plain": [
       "        R Square Score\n",
       "Linear        0.818799"
      ]
     },
     "execution_count": 119,
     "metadata": {
      "tags": []
     },
     "output_type": "execute_result"
    },
    {
     "data": {
      "image/png": "[encoded data removed]",
      "text/plain": [
       "<Figure size 432x288 with 1 Axes>"
      ]
     },
     "metadata": {
      "tags": []
     },
     "output_type": "display_data"
    }
   ],
   "source": [
    "# PCA model\n",
    "lets_try(train_pca, train_y_orig, test_pca,test_y_orig)"
   ]
  }
 ],
 "metadata": {
  "colab": {
   "collapsed_sections": [],
   "name": "lab_04.ipynb",
   "provenance": []
  },
  "kernelspec": {
   "display_name": "Python 3",
   "language": "python",
   "name": "python3"
  },
  "language_info": {
   "codemirror_mode": {
    "name": "ipython",
    "version": 3
   },
   "file_extension": ".py",
   "mimetype": "text/x-python",
   "name": "python",
   "nbconvert_exporter": "python",
   "pygments_lexer": "ipython3",
   "version": "3.7.4"
  }
 },
 "nbformat": 4,
 "nbformat_minor": 1
}
