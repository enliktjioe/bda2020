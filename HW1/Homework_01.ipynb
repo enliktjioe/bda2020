{
 "cells": [
  {
   "cell_type": "markdown",
   "metadata": {
    "colab_type": "text",
    "id": "BNTGaSNI0Utk"
   },
   "source": [
    "<div class=\"alert alert-block alert-info\"><b></b>\n",
    "<h1><center> <font color='black'> Homework 01  </font></center></h1>\n",
    "<h2><center> <font color='black'> Introduction and first look at the data </font></center></h2>    \n",
    "<h2><center> <font color='black'> BDA - University of Tartu - Spring 2020</font></center></h3>\n",
    "</div>"
   ]
  },
  {
   "cell_type": "markdown",
   "metadata": {
    "colab_type": "text",
    "id": "mI7Xj1b-0Utr"
   },
   "source": [
    "# 1. Python and Pandas (4.5 points)"
   ]
  },
  {
   "cell_type": "markdown",
   "metadata": {
    "colab_type": "text",
    "id": "1mveojMY0Uty"
   },
   "source": [
    "* In this course we are going to use Python, and mainly Pandas data structures and data analysis tool. please make sure that you have went through the practise session carefully. After that please answer the following questions below about the abalone dataset."
   ]
  },
  {
   "cell_type": "markdown",
   "metadata": {
    "colab_type": "text",
    "id": "lvWqPseh0Ut5"
   },
   "source": [
    "First, let's import pandas package as pd and read data from the CSV file into a pandas DataFrame."
   ]
  },
  {
   "cell_type": "code",
   "execution_count": 1,
   "metadata": {
    "colab": {},
    "colab_type": "code",
    "id": "8QipDbjq0UuH"
   },
   "outputs": [
    {
     "data": {
      "text/html": [
       "<div>\n",
       "<style scoped>\n",
       "    .dataframe tbody tr th:only-of-type {\n",
       "        vertical-align: middle;\n",
       "    }\n",
       "\n",
       "    .dataframe tbody tr th {\n",
       "        vertical-align: top;\n",
       "    }\n",
       "\n",
       "    .dataframe thead th {\n",
       "        text-align: right;\n",
       "    }\n",
       "</style>\n",
       "<table border=\"1\" class=\"dataframe\">\n",
       "  <thead>\n",
       "    <tr style=\"text-align: right;\">\n",
       "      <th></th>\n",
       "      <th>Gender</th>\n",
       "      <th>Length</th>\n",
       "      <th>Diameter</th>\n",
       "      <th>Height</th>\n",
       "      <th>Weight</th>\n",
       "      <th>Rings</th>\n",
       "    </tr>\n",
       "  </thead>\n",
       "  <tbody>\n",
       "    <tr>\n",
       "      <th>0</th>\n",
       "      <td>F</td>\n",
       "      <td>0.505</td>\n",
       "      <td>0.385</td>\n",
       "      <td>0.135</td>\n",
       "      <td>0.6185</td>\n",
       "      <td>12</td>\n",
       "    </tr>\n",
       "    <tr>\n",
       "      <th>1</th>\n",
       "      <td>F</td>\n",
       "      <td>0.650</td>\n",
       "      <td>0.475</td>\n",
       "      <td>0.165</td>\n",
       "      <td>1.3875</td>\n",
       "      <td>9</td>\n",
       "    </tr>\n",
       "    <tr>\n",
       "      <th>2</th>\n",
       "      <td>I</td>\n",
       "      <td>0.520</td>\n",
       "      <td>0.380</td>\n",
       "      <td>0.135</td>\n",
       "      <td>0.5395</td>\n",
       "      <td>8</td>\n",
       "    </tr>\n",
       "    <tr>\n",
       "      <th>3</th>\n",
       "      <td>F</td>\n",
       "      <td>0.550</td>\n",
       "      <td>0.425</td>\n",
       "      <td>0.140</td>\n",
       "      <td>0.9520</td>\n",
       "      <td>7</td>\n",
       "    </tr>\n",
       "    <tr>\n",
       "      <th>4</th>\n",
       "      <td>M</td>\n",
       "      <td>0.640</td>\n",
       "      <td>0.525</td>\n",
       "      <td>0.180</td>\n",
       "      <td>1.3135</td>\n",
       "      <td>10</td>\n",
       "    </tr>\n",
       "    <tr>\n",
       "      <th>...</th>\n",
       "      <td>...</td>\n",
       "      <td>...</td>\n",
       "      <td>...</td>\n",
       "      <td>...</td>\n",
       "      <td>...</td>\n",
       "      <td>...</td>\n",
       "    </tr>\n",
       "    <tr>\n",
       "      <th>995</th>\n",
       "      <td>I</td>\n",
       "      <td>0.550</td>\n",
       "      <td>0.415</td>\n",
       "      <td>0.135</td>\n",
       "      <td>0.8095</td>\n",
       "      <td>12</td>\n",
       "    </tr>\n",
       "    <tr>\n",
       "      <th>996</th>\n",
       "      <td>I</td>\n",
       "      <td>0.455</td>\n",
       "      <td>0.435</td>\n",
       "      <td>0.110</td>\n",
       "      <td>0.4265</td>\n",
       "      <td>8</td>\n",
       "    </tr>\n",
       "    <tr>\n",
       "      <th>997</th>\n",
       "      <td>M</td>\n",
       "      <td>0.660</td>\n",
       "      <td>0.500</td>\n",
       "      <td>0.165</td>\n",
       "      <td>1.3195</td>\n",
       "      <td>9</td>\n",
       "    </tr>\n",
       "    <tr>\n",
       "      <th>998</th>\n",
       "      <td>I</td>\n",
       "      <td>0.525</td>\n",
       "      <td>0.400</td>\n",
       "      <td>0.130</td>\n",
       "      <td>0.6455</td>\n",
       "      <td>8</td>\n",
       "    </tr>\n",
       "    <tr>\n",
       "      <th>999</th>\n",
       "      <td>M</td>\n",
       "      <td>0.515</td>\n",
       "      <td>0.395</td>\n",
       "      <td>0.135</td>\n",
       "      <td>1.0070</td>\n",
       "      <td>8</td>\n",
       "    </tr>\n",
       "  </tbody>\n",
       "</table>\n",
       "<p>1000 rows × 6 columns</p>\n",
       "</div>"
      ],
      "text/plain": [
       "    Gender  Length  Diameter  Height  Weight  Rings\n",
       "0        F   0.505     0.385   0.135  0.6185     12\n",
       "1        F   0.650     0.475   0.165  1.3875      9\n",
       "2        I   0.520     0.380   0.135  0.5395      8\n",
       "3        F   0.550     0.425   0.140  0.9520      7\n",
       "4        M   0.640     0.525   0.180  1.3135     10\n",
       "..     ...     ...       ...     ...     ...    ...\n",
       "995      I   0.550     0.415   0.135  0.8095     12\n",
       "996      I   0.455     0.435   0.110  0.4265      8\n",
       "997      M   0.660     0.500   0.165  1.3195      9\n",
       "998      I   0.525     0.400   0.130  0.6455      8\n",
       "999      M   0.515     0.395   0.135  1.0070      8\n",
       "\n",
       "[1000 rows x 6 columns]"
      ]
     },
     "execution_count": 1,
     "metadata": {},
     "output_type": "execute_result"
    }
   ],
   "source": [
    "import pandas as pd\n",
    "data = pd.read_csv(\"abalone.csv\")\n",
    "data"
   ]
  },
  {
   "cell_type": "markdown",
   "metadata": {
    "colab_type": "text",
    "id": "3x5mOQja0Uuc"
   },
   "source": [
    "`Question 0` is an example of how you should answer the following questions. First, in the `#TODO` cell you have to write the code representing your solution. And in the answer cell write the answer with your own words. It does not have to be a full sentence."
   ]
  },
  {
   "cell_type": "markdown",
   "metadata": {
    "colab_type": "text",
    "id": "m3XuQzRR0Uuh"
   },
   "source": [
    " **1.0. What is overall memory consumption of the data?** (EXAMPLE)"
   ]
  },
  {
   "cell_type": "code",
   "execution_count": 2,
   "metadata": {
    "colab": {},
    "colab_type": "code",
    "id": "KSJd7GeQ0Uuk"
   },
   "outputs": [
    {
     "data": {
      "text/plain": [
       "106128"
      ]
     },
     "execution_count": 2,
     "metadata": {},
     "output_type": "execute_result"
    }
   ],
   "source": [
    "# TODO - here you have to write the code how did you find the answer.\n",
    "data.memory_usage(deep=True).sum()"
   ]
  },
  {
   "cell_type": "markdown",
   "metadata": {
    "colab_type": "text",
    "id": "jEMIvy1G0Uux"
   },
   "source": [
    "**<font color='red'>Answer:</font>** The total memory usage is 102080 bytes (102,08 kb)."
   ]
  },
  {
   "cell_type": "markdown",
   "metadata": {
    "colab_type": "text",
    "id": "RulJRLTy0Uu1"
   },
   "source": [
    " **1.1. What are the column names of the dataset?** **(0.25 point)**"
   ]
  },
  {
   "cell_type": "code",
   "execution_count": 3,
   "metadata": {
    "colab": {},
    "colab_type": "code",
    "id": "IOQtMgvS0Uu6"
   },
   "outputs": [
    {
     "data": {
      "text/plain": [
       "Index(['Gender', 'Length', 'Diameter', 'Height', 'Weight', 'Rings'], dtype='object')"
      ]
     },
     "execution_count": 3,
     "metadata": {},
     "output_type": "execute_result"
    }
   ],
   "source": [
    "# TODO\n",
    "data.columns"
   ]
  },
  {
   "cell_type": "markdown",
   "metadata": {
    "colab_type": "text",
    "id": "o8mRdBoh0UvH"
   },
   "source": [
    "**<font color='red'>Answer:</font>** 'Gender', 'Length', 'Diameter', 'Height', 'Weight', 'Rings'"
   ]
  },
  {
   "cell_type": "markdown",
   "metadata": {
    "colab_type": "text",
    "id": "oKj-kl910UvK"
   },
   "source": [
    "**1.2. How many observations (i.e. rows) are in this data frame?** **(0.25 point)**"
   ]
  },
  {
   "cell_type": "code",
   "execution_count": 4,
   "metadata": {
    "colab": {},
    "colab_type": "code",
    "id": "vTB7I4WA0UvN"
   },
   "outputs": [
    {
     "data": {
      "text/plain": [
       "RangeIndex(start=0, stop=1000, step=1)"
      ]
     },
     "execution_count": 4,
     "metadata": {},
     "output_type": "execute_result"
    }
   ],
   "source": [
    "# TODO\n",
    "data.index"
   ]
  },
  {
   "cell_type": "markdown",
   "metadata": {
    "colab_type": "text",
    "id": "d-iHDK7G0UvW"
   },
   "source": [
    "**<font color='red'>Answer:</font>** 1000"
   ]
  },
  {
   "cell_type": "markdown",
   "metadata": {
    "colab_type": "text",
    "id": "ME9SPIVu0Uva"
   },
   "source": [
    "**1.3. Print the first 5 lines from the dataset. What are the values of feature \"Rings\" of the printed observations?** **(0.25 point)**"
   ]
  },
  {
   "cell_type": "code",
   "execution_count": 5,
   "metadata": {
    "colab": {},
    "colab_type": "code",
    "id": "CjstX0bg0Uvf"
   },
   "outputs": [
    {
     "data": {
      "text/html": [
       "<div>\n",
       "<style scoped>\n",
       "    .dataframe tbody tr th:only-of-type {\n",
       "        vertical-align: middle;\n",
       "    }\n",
       "\n",
       "    .dataframe tbody tr th {\n",
       "        vertical-align: top;\n",
       "    }\n",
       "\n",
       "    .dataframe thead th {\n",
       "        text-align: right;\n",
       "    }\n",
       "</style>\n",
       "<table border=\"1\" class=\"dataframe\">\n",
       "  <thead>\n",
       "    <tr style=\"text-align: right;\">\n",
       "      <th></th>\n",
       "      <th>Gender</th>\n",
       "      <th>Length</th>\n",
       "      <th>Diameter</th>\n",
       "      <th>Height</th>\n",
       "      <th>Weight</th>\n",
       "      <th>Rings</th>\n",
       "    </tr>\n",
       "  </thead>\n",
       "  <tbody>\n",
       "    <tr>\n",
       "      <th>0</th>\n",
       "      <td>F</td>\n",
       "      <td>0.505</td>\n",
       "      <td>0.385</td>\n",
       "      <td>0.135</td>\n",
       "      <td>0.6185</td>\n",
       "      <td>12</td>\n",
       "    </tr>\n",
       "    <tr>\n",
       "      <th>1</th>\n",
       "      <td>F</td>\n",
       "      <td>0.650</td>\n",
       "      <td>0.475</td>\n",
       "      <td>0.165</td>\n",
       "      <td>1.3875</td>\n",
       "      <td>9</td>\n",
       "    </tr>\n",
       "    <tr>\n",
       "      <th>2</th>\n",
       "      <td>I</td>\n",
       "      <td>0.520</td>\n",
       "      <td>0.380</td>\n",
       "      <td>0.135</td>\n",
       "      <td>0.5395</td>\n",
       "      <td>8</td>\n",
       "    </tr>\n",
       "    <tr>\n",
       "      <th>3</th>\n",
       "      <td>F</td>\n",
       "      <td>0.550</td>\n",
       "      <td>0.425</td>\n",
       "      <td>0.140</td>\n",
       "      <td>0.9520</td>\n",
       "      <td>7</td>\n",
       "    </tr>\n",
       "    <tr>\n",
       "      <th>4</th>\n",
       "      <td>M</td>\n",
       "      <td>0.640</td>\n",
       "      <td>0.525</td>\n",
       "      <td>0.180</td>\n",
       "      <td>1.3135</td>\n",
       "      <td>10</td>\n",
       "    </tr>\n",
       "  </tbody>\n",
       "</table>\n",
       "</div>"
      ],
      "text/plain": [
       "  Gender  Length  Diameter  Height  Weight  Rings\n",
       "0      F   0.505     0.385   0.135  0.6185     12\n",
       "1      F   0.650     0.475   0.165  1.3875      9\n",
       "2      I   0.520     0.380   0.135  0.5395      8\n",
       "3      F   0.550     0.425   0.140  0.9520      7\n",
       "4      M   0.640     0.525   0.180  1.3135     10"
      ]
     },
     "execution_count": 5,
     "metadata": {},
     "output_type": "execute_result"
    }
   ],
   "source": [
    "# TODO\n",
    "data.head()"
   ]
  },
  {
   "cell_type": "markdown",
   "metadata": {
    "colab_type": "text",
    "id": "DT6sLAx50Uvs"
   },
   "source": [
    "**<font color='red'>Answer:</font>** 12, 9, 8, 7, 10"
   ]
  },
  {
   "cell_type": "markdown",
   "metadata": {
    "colab_type": "text",
    "id": "WzjclXRa0Uvv"
   },
   "source": [
    "**1.4. Extract the last 3 rows of the data frame. What is the \"Weight\" of these abalones?** **(0.25 point)**"
   ]
  },
  {
   "cell_type": "code",
   "execution_count": 6,
   "metadata": {
    "colab": {},
    "colab_type": "code",
    "id": "Xf_Sy6Rn0Uvy"
   },
   "outputs": [
    {
     "data": {
      "text/plain": [
       "997    1.3195\n",
       "998    0.6455\n",
       "999    1.0070\n",
       "Name: Weight, dtype: float64"
      ]
     },
     "execution_count": 6,
     "metadata": {},
     "output_type": "execute_result"
    }
   ],
   "source": [
    "# TODO\n",
    "data['Weight'].tail(3)"
   ]
  },
  {
   "cell_type": "markdown",
   "metadata": {
    "colab_type": "text",
    "id": "yOOYkKBP0Uv9"
   },
   "source": [
    "**<font color='red'>Answer:</font>** 1.3195, 0.6455, 1.0070"
   ]
  },
  {
   "cell_type": "markdown",
   "metadata": {
    "colab_type": "text",
    "id": "QyGoekDH0Uv_"
   },
   "source": [
    "**1.5. What is the value of diameter in the row 577?** **(1 point)**"
   ]
  },
  {
   "cell_type": "code",
   "execution_count": 7,
   "metadata": {
    "colab": {},
    "colab_type": "code",
    "id": "e-tfHreW0UwD"
   },
   "outputs": [
    {
     "data": {
      "text/plain": [
       "0.51"
      ]
     },
     "execution_count": 7,
     "metadata": {},
     "output_type": "execute_result"
    }
   ],
   "source": [
    "# TODO\n",
    "data.loc[576]['Diameter']"
   ]
  },
  {
   "cell_type": "markdown",
   "metadata": {
    "colab_type": "text",
    "id": "y090oUdQ0UwN"
   },
   "source": [
    "**<font color='red'>Answer:</font>** 0.51"
   ]
  },
  {
   "cell_type": "markdown",
   "metadata": {
    "colab_type": "text",
    "id": "6INmZoAE0UwQ"
   },
   "source": [
    "**1.6. What is the mean of the height column?** **(0.5 point)** <br>\n",
    "Hint 1: Use pandas describe() method"
   ]
  },
  {
   "cell_type": "code",
   "execution_count": 8,
   "metadata": {
    "colab": {},
    "colab_type": "code",
    "id": "C_s3ltX30UwS"
   },
   "outputs": [
    {
     "data": {
      "text/plain": [
       "count    1000.000000\n",
       "mean        0.141100\n",
       "std         0.057064\n",
       "min         0.000000\n",
       "25%         0.115000\n",
       "50%         0.145000\n",
       "75%         0.165000\n",
       "max         1.130000\n",
       "Name: Height, dtype: float64"
      ]
     },
     "execution_count": 8,
     "metadata": {},
     "output_type": "execute_result"
    }
   ],
   "source": [
    "# TODO\n",
    "data['Height'].describe()"
   ]
  },
  {
   "cell_type": "markdown",
   "metadata": {
    "colab_type": "text",
    "id": "28XWbTDS0Uwa"
   },
   "source": [
    "**<font color='red'>Answer:</font>** 0.141100"
   ]
  },
  {
   "cell_type": "markdown",
   "metadata": {
    "colab_type": "text",
    "id": "XKiipOWn0Uwd"
   },
   "source": [
    "**1.7. Extract the subset of rows of the data frame where gender is M and weight values are below 0.75. What is the mean of diameter in this subset?** **(1 point)**"
   ]
  },
  {
   "cell_type": "code",
   "execution_count": 9,
   "metadata": {
    "colab": {},
    "colab_type": "code",
    "id": "ntFIFukf0Uwg"
   },
   "outputs": [
    {
     "data": {
      "text/html": [
       "<div>\n",
       "<style scoped>\n",
       "    .dataframe tbody tr th:only-of-type {\n",
       "        vertical-align: middle;\n",
       "    }\n",
       "\n",
       "    .dataframe tbody tr th {\n",
       "        vertical-align: top;\n",
       "    }\n",
       "\n",
       "    .dataframe thead th {\n",
       "        text-align: right;\n",
       "    }\n",
       "</style>\n",
       "<table border=\"1\" class=\"dataframe\">\n",
       "  <thead>\n",
       "    <tr style=\"text-align: right;\">\n",
       "      <th></th>\n",
       "      <th>Length</th>\n",
       "      <th>Diameter</th>\n",
       "      <th>Height</th>\n",
       "      <th>Weight</th>\n",
       "      <th>Rings</th>\n",
       "    </tr>\n",
       "  </thead>\n",
       "  <tbody>\n",
       "    <tr>\n",
       "      <th>count</th>\n",
       "      <td>119.000000</td>\n",
       "      <td>119.000000</td>\n",
       "      <td>119.000000</td>\n",
       "      <td>119.000000</td>\n",
       "      <td>119.000000</td>\n",
       "    </tr>\n",
       "    <tr>\n",
       "      <th>mean</th>\n",
       "      <td>0.444118</td>\n",
       "      <td>0.342647</td>\n",
       "      <td>0.115504</td>\n",
       "      <td>0.467366</td>\n",
       "      <td>8.865546</td>\n",
       "    </tr>\n",
       "    <tr>\n",
       "      <th>std</th>\n",
       "      <td>0.075819</td>\n",
       "      <td>0.063027</td>\n",
       "      <td>0.022193</td>\n",
       "      <td>0.196004</td>\n",
       "      <td>1.986925</td>\n",
       "    </tr>\n",
       "    <tr>\n",
       "      <th>min</th>\n",
       "      <td>0.235000</td>\n",
       "      <td>0.160000</td>\n",
       "      <td>0.055000</td>\n",
       "      <td>0.051500</td>\n",
       "      <td>4.000000</td>\n",
       "    </tr>\n",
       "    <tr>\n",
       "      <th>25%</th>\n",
       "      <td>0.385000</td>\n",
       "      <td>0.295000</td>\n",
       "      <td>0.100000</td>\n",
       "      <td>0.291500</td>\n",
       "      <td>7.500000</td>\n",
       "    </tr>\n",
       "    <tr>\n",
       "      <th>50%</th>\n",
       "      <td>0.465000</td>\n",
       "      <td>0.360000</td>\n",
       "      <td>0.115000</td>\n",
       "      <td>0.495500</td>\n",
       "      <td>9.000000</td>\n",
       "    </tr>\n",
       "    <tr>\n",
       "      <th>75%</th>\n",
       "      <td>0.500000</td>\n",
       "      <td>0.385000</td>\n",
       "      <td>0.130000</td>\n",
       "      <td>0.643250</td>\n",
       "      <td>10.000000</td>\n",
       "    </tr>\n",
       "    <tr>\n",
       "      <th>max</th>\n",
       "      <td>0.575000</td>\n",
       "      <td>0.455000</td>\n",
       "      <td>0.190000</td>\n",
       "      <td>0.749500</td>\n",
       "      <td>14.000000</td>\n",
       "    </tr>\n",
       "  </tbody>\n",
       "</table>\n",
       "</div>"
      ],
      "text/plain": [
       "           Length    Diameter      Height      Weight       Rings\n",
       "count  119.000000  119.000000  119.000000  119.000000  119.000000\n",
       "mean     0.444118    0.342647    0.115504    0.467366    8.865546\n",
       "std      0.075819    0.063027    0.022193    0.196004    1.986925\n",
       "min      0.235000    0.160000    0.055000    0.051500    4.000000\n",
       "25%      0.385000    0.295000    0.100000    0.291500    7.500000\n",
       "50%      0.465000    0.360000    0.115000    0.495500    9.000000\n",
       "75%      0.500000    0.385000    0.130000    0.643250   10.000000\n",
       "max      0.575000    0.455000    0.190000    0.749500   14.000000"
      ]
     },
     "execution_count": 9,
     "metadata": {},
     "output_type": "execute_result"
    }
   ],
   "source": [
    "# TODO\n",
    "data[(data['Gender'] == \"M\") & (data['Weight'] < 0.75)].describe()"
   ]
  },
  {
   "cell_type": "markdown",
   "metadata": {
    "colab_type": "text",
    "id": "KJkuvSbm0Uwq"
   },
   "source": [
    "**<font color='red'>Answer:</font>** 0.342647"
   ]
  },
  {
   "cell_type": "markdown",
   "metadata": {
    "colab_type": "text",
    "id": "113DxSDH0Uwu"
   },
   "source": [
    "**1.8. What is the minimum of length when rings is equal to 18?** **(1 point)**"
   ]
  },
  {
   "cell_type": "code",
   "execution_count": 10,
   "metadata": {
    "colab": {},
    "colab_type": "code",
    "id": "-qTt8kt40Uww"
   },
   "outputs": [
    {
     "data": {
      "text/html": [
       "<div>\n",
       "<style scoped>\n",
       "    .dataframe tbody tr th:only-of-type {\n",
       "        vertical-align: middle;\n",
       "    }\n",
       "\n",
       "    .dataframe tbody tr th {\n",
       "        vertical-align: top;\n",
       "    }\n",
       "\n",
       "    .dataframe thead th {\n",
       "        text-align: right;\n",
       "    }\n",
       "</style>\n",
       "<table border=\"1\" class=\"dataframe\">\n",
       "  <thead>\n",
       "    <tr style=\"text-align: right;\">\n",
       "      <th></th>\n",
       "      <th>Length</th>\n",
       "      <th>Diameter</th>\n",
       "      <th>Height</th>\n",
       "      <th>Weight</th>\n",
       "      <th>Rings</th>\n",
       "    </tr>\n",
       "  </thead>\n",
       "  <tbody>\n",
       "    <tr>\n",
       "      <th>count</th>\n",
       "      <td>12.000000</td>\n",
       "      <td>12.000000</td>\n",
       "      <td>12.000000</td>\n",
       "      <td>12.000000</td>\n",
       "      <td>12.0</td>\n",
       "    </tr>\n",
       "    <tr>\n",
       "      <th>mean</th>\n",
       "      <td>0.570417</td>\n",
       "      <td>0.451250</td>\n",
       "      <td>0.172917</td>\n",
       "      <td>1.076625</td>\n",
       "      <td>18.0</td>\n",
       "    </tr>\n",
       "    <tr>\n",
       "      <th>std</th>\n",
       "      <td>0.074084</td>\n",
       "      <td>0.058742</td>\n",
       "      <td>0.028956</td>\n",
       "      <td>0.414502</td>\n",
       "      <td>0.0</td>\n",
       "    </tr>\n",
       "    <tr>\n",
       "      <th>min</th>\n",
       "      <td>0.465000</td>\n",
       "      <td>0.350000</td>\n",
       "      <td>0.120000</td>\n",
       "      <td>0.494000</td>\n",
       "      <td>18.0</td>\n",
       "    </tr>\n",
       "    <tr>\n",
       "      <th>25%</th>\n",
       "      <td>0.523750</td>\n",
       "      <td>0.408750</td>\n",
       "      <td>0.162500</td>\n",
       "      <td>0.872125</td>\n",
       "      <td>18.0</td>\n",
       "    </tr>\n",
       "    <tr>\n",
       "      <th>50%</th>\n",
       "      <td>0.557500</td>\n",
       "      <td>0.442500</td>\n",
       "      <td>0.177500</td>\n",
       "      <td>1.004750</td>\n",
       "      <td>18.0</td>\n",
       "    </tr>\n",
       "    <tr>\n",
       "      <th>75%</th>\n",
       "      <td>0.608750</td>\n",
       "      <td>0.481250</td>\n",
       "      <td>0.195000</td>\n",
       "      <td>1.199500</td>\n",
       "      <td>18.0</td>\n",
       "    </tr>\n",
       "    <tr>\n",
       "      <th>max</th>\n",
       "      <td>0.725000</td>\n",
       "      <td>0.560000</td>\n",
       "      <td>0.210000</td>\n",
       "      <td>2.141000</td>\n",
       "      <td>18.0</td>\n",
       "    </tr>\n",
       "  </tbody>\n",
       "</table>\n",
       "</div>"
      ],
      "text/plain": [
       "          Length   Diameter     Height     Weight  Rings\n",
       "count  12.000000  12.000000  12.000000  12.000000   12.0\n",
       "mean    0.570417   0.451250   0.172917   1.076625   18.0\n",
       "std     0.074084   0.058742   0.028956   0.414502    0.0\n",
       "min     0.465000   0.350000   0.120000   0.494000   18.0\n",
       "25%     0.523750   0.408750   0.162500   0.872125   18.0\n",
       "50%     0.557500   0.442500   0.177500   1.004750   18.0\n",
       "75%     0.608750   0.481250   0.195000   1.199500   18.0\n",
       "max     0.725000   0.560000   0.210000   2.141000   18.0"
      ]
     },
     "execution_count": 10,
     "metadata": {},
     "output_type": "execute_result"
    }
   ],
   "source": [
    "# TODO\n",
    "data[data['Rings'] == 18].describe()"
   ]
  },
  {
   "cell_type": "markdown",
   "metadata": {
    "colab_type": "text",
    "id": "3cP8DNkT0Uw4"
   },
   "source": [
    "**<font color='red'>Answer:</font>** 0.465000"
   ]
  },
  {
   "cell_type": "markdown",
   "metadata": {
    "colab_type": "text",
    "id": "X08k7xHU0Uw7"
   },
   "source": [
    "# 2.  Data understanding (2.5 point)"
   ]
  },
  {
   "cell_type": "markdown",
   "metadata": {
    "colab_type": "text",
    "id": "pmxLUXrr0Uw-"
   },
   "source": [
    "Collecting, describing, exploring and verifying data quality are <b>very important</b> steps in any data science task. In this exercise the main goal is to understand the attributes in the 'adult' dataset.<br>"
   ]
  },
  {
   "cell_type": "markdown",
   "metadata": {
    "colab_type": "text",
    "id": "xNm0wFx00Uw_"
   },
   "source": [
    "**2.0. Load data from the  `adult.csv` file.** <br>\n",
    "Hint 1: The extension of the filename may not always reflect the structure of data precisely. Are the values comma-separated (csv) or not? "
   ]
  },
  {
   "cell_type": "code",
   "execution_count": 126,
   "metadata": {
    "colab": {},
    "colab_type": "code",
    "id": "2eeX_j4l0UxC",
    "scrolled": false
   },
   "outputs": [
    {
     "data": {
      "text/html": [
       "<div>\n",
       "<style scoped>\n",
       "    .dataframe tbody tr th:only-of-type {\n",
       "        vertical-align: middle;\n",
       "    }\n",
       "\n",
       "    .dataframe tbody tr th {\n",
       "        vertical-align: top;\n",
       "    }\n",
       "\n",
       "    .dataframe thead th {\n",
       "        text-align: right;\n",
       "    }\n",
       "</style>\n",
       "<table border=\"1\" class=\"dataframe\">\n",
       "  <thead>\n",
       "    <tr style=\"text-align: right;\">\n",
       "      <th></th>\n",
       "      <th>age</th>\n",
       "      <th>workclass</th>\n",
       "      <th>education</th>\n",
       "      <th>occupation</th>\n",
       "      <th>capital.gain</th>\n",
       "      <th>capital.loss</th>\n",
       "      <th>native.country</th>\n",
       "      <th>salaries</th>\n",
       "      <th>jobsatisfaction</th>\n",
       "      <th>male</th>\n",
       "      <th>female</th>\n",
       "    </tr>\n",
       "    <tr>\n",
       "      <th>X</th>\n",
       "      <th></th>\n",
       "      <th></th>\n",
       "      <th></th>\n",
       "      <th></th>\n",
       "      <th></th>\n",
       "      <th></th>\n",
       "      <th></th>\n",
       "      <th></th>\n",
       "      <th></th>\n",
       "      <th></th>\n",
       "      <th></th>\n",
       "    </tr>\n",
       "  </thead>\n",
       "  <tbody>\n",
       "    <tr>\n",
       "      <th>0</th>\n",
       "      <td>39</td>\n",
       "      <td>State-gov</td>\n",
       "      <td>Bachelors</td>\n",
       "      <td>Adm-clerical</td>\n",
       "      <td>2174</td>\n",
       "      <td>0</td>\n",
       "      <td>United-States</td>\n",
       "      <td>43136.0</td>\n",
       "      <td>0</td>\n",
       "      <td>1.0</td>\n",
       "      <td>NaN</td>\n",
       "    </tr>\n",
       "    <tr>\n",
       "      <th>1</th>\n",
       "      <td>50</td>\n",
       "      <td>Self-emp-not-inc</td>\n",
       "      <td>Bachelors</td>\n",
       "      <td>Exec-managerial</td>\n",
       "      <td>0</td>\n",
       "      <td>0</td>\n",
       "      <td>UnitedStates</td>\n",
       "      <td>46209.0</td>\n",
       "      <td>7</td>\n",
       "      <td>1.0</td>\n",
       "      <td>NaN</td>\n",
       "    </tr>\n",
       "    <tr>\n",
       "      <th>2</th>\n",
       "      <td>38</td>\n",
       "      <td>privat</td>\n",
       "      <td>HS-grad</td>\n",
       "      <td>Handlers-cleaners</td>\n",
       "      <td>0</td>\n",
       "      <td>0</td>\n",
       "      <td>United-States</td>\n",
       "      <td>28937.0</td>\n",
       "      <td>6</td>\n",
       "      <td>1.0</td>\n",
       "      <td>NaN</td>\n",
       "    </tr>\n",
       "    <tr>\n",
       "      <th>3</th>\n",
       "      <td>53</td>\n",
       "      <td>privat</td>\n",
       "      <td>11th</td>\n",
       "      <td>Handlers-cleaners</td>\n",
       "      <td>0</td>\n",
       "      <td>0</td>\n",
       "      <td>United-States</td>\n",
       "      <td>33658.0</td>\n",
       "      <td>6</td>\n",
       "      <td>1.0</td>\n",
       "      <td>NaN</td>\n",
       "    </tr>\n",
       "    <tr>\n",
       "      <th>4</th>\n",
       "      <td>28</td>\n",
       "      <td>privat</td>\n",
       "      <td>Bachelors</td>\n",
       "      <td>Prof-specialty</td>\n",
       "      <td>0</td>\n",
       "      <td>0</td>\n",
       "      <td>Cuba</td>\n",
       "      <td>34372.0</td>\n",
       "      <td>12</td>\n",
       "      <td>NaN</td>\n",
       "      <td>1.0</td>\n",
       "    </tr>\n",
       "    <tr>\n",
       "      <th>...</th>\n",
       "      <td>...</td>\n",
       "      <td>...</td>\n",
       "      <td>...</td>\n",
       "      <td>...</td>\n",
       "      <td>...</td>\n",
       "      <td>...</td>\n",
       "      <td>...</td>\n",
       "      <td>...</td>\n",
       "      <td>...</td>\n",
       "      <td>...</td>\n",
       "      <td>...</td>\n",
       "    </tr>\n",
       "    <tr>\n",
       "      <th>32556</th>\n",
       "      <td>27</td>\n",
       "      <td>Private</td>\n",
       "      <td>Assoc-acdm</td>\n",
       "      <td>Tech-support</td>\n",
       "      <td>0</td>\n",
       "      <td>0</td>\n",
       "      <td>United-States</td>\n",
       "      <td>21393.0</td>\n",
       "      <td>14</td>\n",
       "      <td>NaN</td>\n",
       "      <td>1.0</td>\n",
       "    </tr>\n",
       "    <tr>\n",
       "      <th>32557</th>\n",
       "      <td>40</td>\n",
       "      <td>Private</td>\n",
       "      <td>HS-grad</td>\n",
       "      <td>Machine-op-inspct</td>\n",
       "      <td>0</td>\n",
       "      <td>0</td>\n",
       "      <td>United-States</td>\n",
       "      <td>75199.0</td>\n",
       "      <td>10</td>\n",
       "      <td>1.0</td>\n",
       "      <td>NaN</td>\n",
       "    </tr>\n",
       "    <tr>\n",
       "      <th>32558</th>\n",
       "      <td>58</td>\n",
       "      <td>Private</td>\n",
       "      <td>HS-grad</td>\n",
       "      <td>Adm-clerical</td>\n",
       "      <td>0</td>\n",
       "      <td>0</td>\n",
       "      <td>United-States</td>\n",
       "      <td>25603.0</td>\n",
       "      <td>1</td>\n",
       "      <td>NaN</td>\n",
       "      <td>1.0</td>\n",
       "    </tr>\n",
       "    <tr>\n",
       "      <th>32559</th>\n",
       "      <td>22</td>\n",
       "      <td>Private</td>\n",
       "      <td>HS-grad</td>\n",
       "      <td>Adm-clerical</td>\n",
       "      <td>0</td>\n",
       "      <td>0</td>\n",
       "      <td>United-States</td>\n",
       "      <td>42138.0</td>\n",
       "      <td>3</td>\n",
       "      <td>1.0</td>\n",
       "      <td>NaN</td>\n",
       "    </tr>\n",
       "    <tr>\n",
       "      <th>32560</th>\n",
       "      <td>52</td>\n",
       "      <td>Self-emp-inc</td>\n",
       "      <td>HS-grad</td>\n",
       "      <td>Exec-managerial</td>\n",
       "      <td>15024</td>\n",
       "      <td>0</td>\n",
       "      <td>United-States</td>\n",
       "      <td>71709.0</td>\n",
       "      <td>9</td>\n",
       "      <td>NaN</td>\n",
       "      <td>1.0</td>\n",
       "    </tr>\n",
       "  </tbody>\n",
       "</table>\n",
       "<p>32561 rows × 11 columns</p>\n",
       "</div>"
      ],
      "text/plain": [
       "      age          workclass    education          occupation  capital.gain  \\\n",
       "X                                                                             \n",
       "0      39          State-gov    Bachelors        Adm-clerical          2174   \n",
       "1      50   Self-emp-not-inc    Bachelors     Exec-managerial             0   \n",
       "2      38             privat      HS-grad   Handlers-cleaners             0   \n",
       "3      53             privat         11th   Handlers-cleaners             0   \n",
       "4      28             privat    Bachelors      Prof-specialty             0   \n",
       "...    ..                ...          ...                 ...           ...   \n",
       "32556  27            Private   Assoc-acdm        Tech-support             0   \n",
       "32557  40            Private      HS-grad   Machine-op-inspct             0   \n",
       "32558  58            Private      HS-grad        Adm-clerical             0   \n",
       "32559  22            Private      HS-grad        Adm-clerical             0   \n",
       "32560  52       Self-emp-inc      HS-grad     Exec-managerial         15024   \n",
       "\n",
       "       capital.loss  native.country  salaries jobsatisfaction  male  female  \n",
       "X                                                                            \n",
       "0                 0   United-States   43136.0               0   1.0     NaN  \n",
       "1                 0    UnitedStates   46209.0               7   1.0     NaN  \n",
       "2                 0   United-States   28937.0               6   1.0     NaN  \n",
       "3                 0   United-States   33658.0               6   1.0     NaN  \n",
       "4                 0            Cuba   34372.0              12   NaN     1.0  \n",
       "...             ...             ...       ...             ...   ...     ...  \n",
       "32556             0   United-States   21393.0              14   NaN     1.0  \n",
       "32557             0   United-States   75199.0              10   1.0     NaN  \n",
       "32558             0   United-States   25603.0               1   NaN     1.0  \n",
       "32559             0   United-States   42138.0               3   1.0     NaN  \n",
       "32560             0   United-States   71709.0               9   NaN     1.0  \n",
       "\n",
       "[32561 rows x 11 columns]"
      ]
     },
     "execution_count": 126,
     "metadata": {},
     "output_type": "execute_result"
    }
   ],
   "source": [
    "import numpy as np\n",
    "import pandas as pd\n",
    "\n",
    "# TODO\n",
    "data = pd.read_table('adult.csv', index_col='X')\n",
    "data"
   ]
  },
  {
   "cell_type": "markdown",
   "metadata": {
    "colab_type": "text",
    "id": "nZJaZYaJ0UxJ"
   },
   "source": [
    "**2.1. Name all the columns in this dataset and describe the meaning of each column with one sentence.** <br>"
   ]
  },
  {
   "cell_type": "code",
   "execution_count": 12,
   "metadata": {
    "colab": {},
    "colab_type": "code",
    "id": "B5gP11sO0UxM"
   },
   "outputs": [
    {
     "data": {
      "text/plain": [
       "Index(['age', 'workclass', 'education', 'occupation', 'capital.gain',\n",
       "       'capital.loss', 'native.country', 'salaries', 'jobsatisfaction', 'male',\n",
       "       'female'],\n",
       "      dtype='object')"
      ]
     },
     "execution_count": 12,
     "metadata": {},
     "output_type": "execute_result"
    }
   ],
   "source": [
    "# TODO\n",
    "data.columns"
   ]
  },
  {
   "cell_type": "markdown",
   "metadata": {
    "colab_type": "text",
    "id": "DcYUgvsA0UxW"
   },
   "source": [
    "**<font color='red'>Answer:</font>**\n",
    "- age = the current age of the adult person\n",
    "- workclass = the type of work including: private, self-emp-inc, state-gov\n",
    "- education = the latest education level\n",
    "- occupation = the name of the job\n",
    "- capital.gain = a rise in the value of a capital asset (investment or real estate) that gives it a higher worth than the purchase price [(reference)](https://www.investopedia.com/terms/c/capitalgain.asp)\n",
    "- capital.loss = the loss incurred when a capital asset, such as an investment or real estate, decreases in value [(reference)](https://www.investopedia.com/terms/c/capitalloss.asp)\n",
    "- native.country = the country someone is born in or native to\n",
    "- salaries = the annual salary of person in USD\n",
    "- jobsatisfication = a measure of workers' contentedness with their job, whether or not they like the job or individual aspects or facets of jobs, such as nature of work or supervision. [(reference)](https://en.wikipedia.org/wiki/Job_satisfaction)\n",
    "- male = describe the gender is male or not \n",
    "- female = describe the gender is female or not"
   ]
  },
  {
   "cell_type": "markdown",
   "metadata": {
    "colab_type": "text",
    "id": "b5jIoGlH0UxX"
   },
   "source": [
    "####  2.1.1. In the following subtasks, you will have to visualise the distribution of the values for different features using appropriate diagrams. Visualisation is one of the easiest ways to get a good overview of the data and to notice any oddities, outliers etc."
   ]
  },
  {
   "cell_type": "code",
   "execution_count": 13,
   "metadata": {
    "colab": {},
    "colab_type": "code",
    "id": "q2OY2IUB0UxZ"
   },
   "outputs": [],
   "source": [
    "# Matplotlib is a Python 2D plotting library which produces publication quality figures in a variety of hardcopy formats \n",
    "# and interactive environments across platforms. Matplotlib can be used in Python scripts, the Python and IPython shells, \n",
    "# the Jupyter notebook, web application servers, and four graphical user interface toolkits.\n",
    "import matplotlib.pyplot as plt\n",
    "\n",
    "# allows to output plots in the notebook\n",
    "%matplotlib inline \n",
    "\n",
    "# Set the default style\n",
    "plt.style.use(\"ggplot\") "
   ]
  },
  {
   "cell_type": "markdown",
   "metadata": {
    "colab_type": "text",
    "id": "w7Gfw7VR0Uxe"
   },
   "source": [
    "As an example, here is the age frequency histogram, where age is an attribute of type **numeric**:"
   ]
  },
  {
   "cell_type": "code",
   "execution_count": 14,
   "metadata": {
    "colab": {},
    "colab_type": "code",
    "id": "-dYL1OM50Uxh"
   },
   "outputs": [
    {
     "data": {
      "image/png": "[encoded data removed]",
      "text/plain": [
       "<Figure size 432x288 with 1 Axes>"
      ]
     },
     "metadata": {
      "needs_background": "light"
     },
     "output_type": "display_data"
    }
   ],
   "source": [
    "# Columns may contain non-numeric values, errors or missing values. Therefore, non-numeric values must be dealt with.\n",
    "if data is not ...:\n",
    "    pd.to_numeric(data['age'], errors='coerce').hist(bins=30) # ‘coerce’ -> invalid parsing will be set as NaN\n",
    "else:\n",
    "    print('Please define `data` in earlier subtasks')"
   ]
  },
  {
   "cell_type": "markdown",
   "metadata": {
    "colab_type": "text",
    "id": "zZaGE63s0Uxn"
   },
   "source": [
    "**2.2. Attribute `Workclass`. First, specify the type of the attribute (nominal / ordinal / numeric) and second, choose an appropriate chart type and visualise the distribution in the relative frequency scale.**"
   ]
  },
  {
   "cell_type": "markdown",
   "metadata": {
    "colab_type": "text",
    "id": "9SBcD0dY0Uxp"
   },
   "source": [
    "**<font color='red'>Attribute type :</font>** Nominal"
   ]
  },
  {
   "cell_type": "code",
   "execution_count": 15,
   "metadata": {
    "colab": {},
    "colab_type": "code",
    "id": "pZ_Z6hxr0Uxq"
   },
   "outputs": [
    {
     "data": {
      "image/png": "[encoded data removed]",
      "text/plain": [
       "<Figure size 1152x576 with 1 Axes>"
      ]
     },
     "metadata": {
      "needs_background": "light"
     },
     "output_type": "display_data"
    }
   ],
   "source": [
    "# TODO\n",
    "# data.workclass.value_counts().plot(kind=\"bar\")\n",
    "fig = plt.figure(figsize=[16, 8])\n",
    "\n",
    "ax = plt.subplot(111)\n",
    "ax.hist(data['workclass'], \n",
    "         width = 0.5,\n",
    "         weights = np.ones(len(data['workclass'])) / len(data['workclass']) \n",
    "        )\n",
    "ax.set_title('Workclass - Distribution in Relative Frequency')\n",
    "plt.text\n",
    "plt.xticks(rotation=90)\n",
    "plt.show()"
   ]
  },
  {
   "cell_type": "markdown",
   "metadata": {
    "colab_type": "text",
    "id": "CZCIFftL0Uxx"
   },
   "source": [
    "**2.3. Attribute `Education`. First, specify the type of the attribute (nominal / ordinal / numeric) and second, choose an appropriate chart type and visualise the distribution in the relative frequency scale.**"
   ]
  },
  {
   "cell_type": "markdown",
   "metadata": {
    "colab_type": "text",
    "id": "aCry_WEv0Uxz"
   },
   "source": [
    "**<font color='red'>Attribute type :</font>** Ordinal"
   ]
  },
  {
   "cell_type": "code",
   "execution_count": 16,
   "metadata": {
    "colab": {},
    "colab_type": "code",
    "id": "owfabVWZ0Ux2"
   },
   "outputs": [
    {
     "data": {
      "image/png": "[encoded data removed]",
      "text/plain": [
       "<Figure size 1152x576 with 1 Axes>"
      ]
     },
     "metadata": {
      "needs_background": "light"
     },
     "output_type": "display_data"
    }
   ],
   "source": [
    "# TODO\n",
    "fig = plt.figure(figsize=[16, 8])\n",
    "\n",
    "ax2 = plt.subplot(111)\n",
    "ax2.hist(data['education'], \n",
    "         width = 0.5,\n",
    "         weights = np.ones(len(data['education'])) / len(data['education']) \n",
    "        )\n",
    "ax2.set_title('Education - Distribution in Relative Frequency')\n",
    "plt.xticks(rotation=90)\n",
    "plt.show()"
   ]
  },
  {
   "cell_type": "markdown",
   "metadata": {
    "colab_type": "text",
    "id": "Rj0Y4oYr0Ux8"
   },
   "source": [
    "**2.4. Attribute `Occupation`. First, specify the type of the attribute (nominal / ordinal / numeric) and second, choose an appropriate chart type and visualise the distribution in the relative frequency scale.**"
   ]
  },
  {
   "cell_type": "markdown",
   "metadata": {
    "colab_type": "text",
    "id": "cMXujHqL0Ux9"
   },
   "source": [
    "**<font color='red'>Attribute type :</font>** Nominal"
   ]
  },
  {
   "cell_type": "code",
   "execution_count": 17,
   "metadata": {
    "colab": {},
    "colab_type": "code",
    "id": "_bBkULAf0UyB",
    "scrolled": false
   },
   "outputs": [
    {
     "data": {
      "image/png": "[encoded data removed]",
      "text/plain": [
       "<Figure size 1152x576 with 1 Axes>"
      ]
     },
     "metadata": {
      "needs_background": "light"
     },
     "output_type": "display_data"
    }
   ],
   "source": [
    "# TODO\n",
    "fig = plt.figure(figsize=[16, 8])\n",
    "\n",
    "ax3 = plt.subplot(111)\n",
    "ax3.hist(data['occupation'], \n",
    "         width = 0.5,\n",
    "         weights = np.ones(len(data['occupation'])) / len(data['occupation']) \n",
    "        )\n",
    "ax3.set_title('Occupation - Distribution in Relative Frequency')\n",
    "plt.xticks(rotation=90)\n",
    "plt.show()"
   ]
  },
  {
   "cell_type": "markdown",
   "metadata": {
    "colab_type": "text",
    "id": "INUrcW9y0UyJ"
   },
   "source": [
    "**2.5. Attribute `Native Country`. First, specify the type of the attribute (nominal / ordinal / numeric) and second, choose an appropriate chart type and visualise the distribution in the relative frequency scale.**"
   ]
  },
  {
   "cell_type": "markdown",
   "metadata": {
    "colab_type": "text",
    "id": "O7eykVeA0UyK"
   },
   "source": [
    "**<font color='red'>Attribute type :</font>** Nominal"
   ]
  },
  {
   "cell_type": "code",
   "execution_count": 18,
   "metadata": {
    "colab": {},
    "colab_type": "code",
    "id": "l0y4ewng0UyM",
    "scrolled": false
   },
   "outputs": [
    {
     "data": {
      "image/png": "[encoded data removed]",
      "text/plain": [
       "<Figure size 1152x576 with 1 Axes>"
      ]
     },
     "metadata": {
      "needs_background": "light"
     },
     "output_type": "display_data"
    }
   ],
   "source": [
    "# TODO\n",
    "fig = plt.figure(figsize=[16, 8])\n",
    "\n",
    "ax4 = plt.subplot(111)\n",
    "ax4.hist(data['native.country'], \n",
    "         width = 1,\n",
    "         weights = np.ones(len(data['native.country'])) / len(data['native.country']) \n",
    "        )\n",
    "ax4.set_title('Native Country - Distribution in Relative Frequency')\n",
    "plt.xticks(rotation=90)\n",
    "plt.show()"
   ]
  },
  {
   "cell_type": "markdown",
   "metadata": {
    "colab_type": "text",
    "id": "usTcRIQy0UyS"
   },
   "source": [
    "**2.6. Attribute `Salaries`. First, specify the type of the attribute (nominal / ordinal / numeric) and second, choose an appropriate chart type and visualise the distribution in the density scale.**"
   ]
  },
  {
   "cell_type": "markdown",
   "metadata": {
    "colab_type": "text",
    "id": "CwXJfmUr0UyU"
   },
   "source": [
    "**<font color='red'>Attribute type :</font>** numeric"
   ]
  },
  {
   "cell_type": "code",
   "execution_count": 19,
   "metadata": {
    "colab": {},
    "colab_type": "code",
    "id": "nSHCAVfB0UyV",
    "scrolled": false
   },
   "outputs": [
    {
     "data": {
      "text/plain": [
       "<matplotlib.axes._subplots.AxesSubplot at 0x120e27f10>"
      ]
     },
     "execution_count": 19,
     "metadata": {},
     "output_type": "execute_result"
    },
    {
     "data": {
      "image/png": "[encoded data removed]",
      "text/plain": [
       "<Figure size 432x288 with 1 Axes>"
      ]
     },
     "metadata": {
      "needs_background": "light"
     },
     "output_type": "display_data"
    }
   ],
   "source": [
    "# TODO \n",
    "import seaborn as sns\n",
    "\n",
    "sns.distplot(data['salaries'], hist=True, kde=True, \n",
    "             bins=20, color = 'darkblue', \n",
    "             hist_kws={'edgecolor':'black'},\n",
    "             kde_kws={'linewidth': 2})\n",
    "\n"
   ]
  },
  {
   "cell_type": "markdown",
   "metadata": {
    "colab_type": "text",
    "id": "ZtsVByl-0Uyb"
   },
   "source": [
    "**2.7. Attributes `Male` and `Female`. First, specify the types of these attributes (nominal / ordinal / numeric) and second, choose an appropriate chart type and visualise the relative frequency of positive values in attribute `Male` and positive values in attribute `Female` (relative frequency of males and females).**"
   ]
  },
  {
   "cell_type": "markdown",
   "metadata": {
    "colab_type": "text",
    "id": "CHaKgvGX0Uyd"
   },
   "source": [
    "**<font color='red'>Attribute type :</font>** Nominal"
   ]
  },
  {
   "cell_type": "code",
   "execution_count": 20,
   "metadata": {
    "colab": {},
    "colab_type": "code",
    "id": "UPU6hB6f0Uye",
    "scrolled": false
   },
   "outputs": [
    {
     "data": {
      "image/png": "[encoded data removed]",
      "text/plain": [
       "<Figure size 576x576 with 1 Axes>"
      ]
     },
     "metadata": {
      "needs_background": "light"
     },
     "output_type": "display_data"
    },
    {
     "data": {
      "text/html": [
       "<div>\n",
       "<style scoped>\n",
       "    .dataframe tbody tr th:only-of-type {\n",
       "        vertical-align: middle;\n",
       "    }\n",
       "\n",
       "    .dataframe tbody tr th {\n",
       "        vertical-align: top;\n",
       "    }\n",
       "\n",
       "    .dataframe thead th {\n",
       "        text-align: right;\n",
       "    }\n",
       "</style>\n",
       "<table border=\"1\" class=\"dataframe\">\n",
       "  <thead>\n",
       "    <tr style=\"text-align: right;\">\n",
       "      <th></th>\n",
       "      <th>age</th>\n",
       "      <th>workclass</th>\n",
       "      <th>education</th>\n",
       "      <th>occupation</th>\n",
       "      <th>capital.gain</th>\n",
       "      <th>capital.loss</th>\n",
       "      <th>native.country</th>\n",
       "      <th>salaries</th>\n",
       "      <th>jobsatisfaction</th>\n",
       "      <th>male</th>\n",
       "      <th>female</th>\n",
       "      <th>gender</th>\n",
       "    </tr>\n",
       "    <tr>\n",
       "      <th>X</th>\n",
       "      <th></th>\n",
       "      <th></th>\n",
       "      <th></th>\n",
       "      <th></th>\n",
       "      <th></th>\n",
       "      <th></th>\n",
       "      <th></th>\n",
       "      <th></th>\n",
       "      <th></th>\n",
       "      <th></th>\n",
       "      <th></th>\n",
       "      <th></th>\n",
       "    </tr>\n",
       "  </thead>\n",
       "  <tbody>\n",
       "    <tr>\n",
       "      <th>0</th>\n",
       "      <td>39</td>\n",
       "      <td>State-gov</td>\n",
       "      <td>Bachelors</td>\n",
       "      <td>Adm-clerical</td>\n",
       "      <td>2174</td>\n",
       "      <td>0</td>\n",
       "      <td>United-States</td>\n",
       "      <td>43136.0</td>\n",
       "      <td>0</td>\n",
       "      <td>1.0</td>\n",
       "      <td>NaN</td>\n",
       "      <td>Male</td>\n",
       "    </tr>\n",
       "    <tr>\n",
       "      <th>1</th>\n",
       "      <td>50</td>\n",
       "      <td>Self-emp-not-inc</td>\n",
       "      <td>Bachelors</td>\n",
       "      <td>Exec-managerial</td>\n",
       "      <td>0</td>\n",
       "      <td>0</td>\n",
       "      <td>UnitedStates</td>\n",
       "      <td>46209.0</td>\n",
       "      <td>7</td>\n",
       "      <td>1.0</td>\n",
       "      <td>NaN</td>\n",
       "      <td>Male</td>\n",
       "    </tr>\n",
       "    <tr>\n",
       "      <th>2</th>\n",
       "      <td>38</td>\n",
       "      <td>privat</td>\n",
       "      <td>HS-grad</td>\n",
       "      <td>Handlers-cleaners</td>\n",
       "      <td>0</td>\n",
       "      <td>0</td>\n",
       "      <td>United-States</td>\n",
       "      <td>28937.0</td>\n",
       "      <td>6</td>\n",
       "      <td>1.0</td>\n",
       "      <td>NaN</td>\n",
       "      <td>Male</td>\n",
       "    </tr>\n",
       "    <tr>\n",
       "      <th>3</th>\n",
       "      <td>53</td>\n",
       "      <td>privat</td>\n",
       "      <td>11th</td>\n",
       "      <td>Handlers-cleaners</td>\n",
       "      <td>0</td>\n",
       "      <td>0</td>\n",
       "      <td>United-States</td>\n",
       "      <td>33658.0</td>\n",
       "      <td>6</td>\n",
       "      <td>1.0</td>\n",
       "      <td>NaN</td>\n",
       "      <td>Male</td>\n",
       "    </tr>\n",
       "    <tr>\n",
       "      <th>4</th>\n",
       "      <td>28</td>\n",
       "      <td>privat</td>\n",
       "      <td>Bachelors</td>\n",
       "      <td>Prof-specialty</td>\n",
       "      <td>0</td>\n",
       "      <td>0</td>\n",
       "      <td>Cuba</td>\n",
       "      <td>34372.0</td>\n",
       "      <td>12</td>\n",
       "      <td>NaN</td>\n",
       "      <td>1.0</td>\n",
       "      <td>Female</td>\n",
       "    </tr>\n",
       "    <tr>\n",
       "      <th>...</th>\n",
       "      <td>...</td>\n",
       "      <td>...</td>\n",
       "      <td>...</td>\n",
       "      <td>...</td>\n",
       "      <td>...</td>\n",
       "      <td>...</td>\n",
       "      <td>...</td>\n",
       "      <td>...</td>\n",
       "      <td>...</td>\n",
       "      <td>...</td>\n",
       "      <td>...</td>\n",
       "      <td>...</td>\n",
       "    </tr>\n",
       "    <tr>\n",
       "      <th>32556</th>\n",
       "      <td>27</td>\n",
       "      <td>Private</td>\n",
       "      <td>Assoc-acdm</td>\n",
       "      <td>Tech-support</td>\n",
       "      <td>0</td>\n",
       "      <td>0</td>\n",
       "      <td>United-States</td>\n",
       "      <td>21393.0</td>\n",
       "      <td>14</td>\n",
       "      <td>NaN</td>\n",
       "      <td>1.0</td>\n",
       "      <td>Female</td>\n",
       "    </tr>\n",
       "    <tr>\n",
       "      <th>32557</th>\n",
       "      <td>40</td>\n",
       "      <td>Private</td>\n",
       "      <td>HS-grad</td>\n",
       "      <td>Machine-op-inspct</td>\n",
       "      <td>0</td>\n",
       "      <td>0</td>\n",
       "      <td>United-States</td>\n",
       "      <td>75199.0</td>\n",
       "      <td>10</td>\n",
       "      <td>1.0</td>\n",
       "      <td>NaN</td>\n",
       "      <td>Male</td>\n",
       "    </tr>\n",
       "    <tr>\n",
       "      <th>32558</th>\n",
       "      <td>58</td>\n",
       "      <td>Private</td>\n",
       "      <td>HS-grad</td>\n",
       "      <td>Adm-clerical</td>\n",
       "      <td>0</td>\n",
       "      <td>0</td>\n",
       "      <td>United-States</td>\n",
       "      <td>25603.0</td>\n",
       "      <td>1</td>\n",
       "      <td>NaN</td>\n",
       "      <td>1.0</td>\n",
       "      <td>Female</td>\n",
       "    </tr>\n",
       "    <tr>\n",
       "      <th>32559</th>\n",
       "      <td>22</td>\n",
       "      <td>Private</td>\n",
       "      <td>HS-grad</td>\n",
       "      <td>Adm-clerical</td>\n",
       "      <td>0</td>\n",
       "      <td>0</td>\n",
       "      <td>United-States</td>\n",
       "      <td>42138.0</td>\n",
       "      <td>3</td>\n",
       "      <td>1.0</td>\n",
       "      <td>NaN</td>\n",
       "      <td>Male</td>\n",
       "    </tr>\n",
       "    <tr>\n",
       "      <th>32560</th>\n",
       "      <td>52</td>\n",
       "      <td>Self-emp-inc</td>\n",
       "      <td>HS-grad</td>\n",
       "      <td>Exec-managerial</td>\n",
       "      <td>15024</td>\n",
       "      <td>0</td>\n",
       "      <td>United-States</td>\n",
       "      <td>71709.0</td>\n",
       "      <td>9</td>\n",
       "      <td>NaN</td>\n",
       "      <td>1.0</td>\n",
       "      <td>Female</td>\n",
       "    </tr>\n",
       "  </tbody>\n",
       "</table>\n",
       "<p>32561 rows × 12 columns</p>\n",
       "</div>"
      ],
      "text/plain": [
       "      age          workclass    education          occupation  capital.gain  \\\n",
       "X                                                                             \n",
       "0      39          State-gov    Bachelors        Adm-clerical          2174   \n",
       "1      50   Self-emp-not-inc    Bachelors     Exec-managerial             0   \n",
       "2      38             privat      HS-grad   Handlers-cleaners             0   \n",
       "3      53             privat         11th   Handlers-cleaners             0   \n",
       "4      28             privat    Bachelors      Prof-specialty             0   \n",
       "...    ..                ...          ...                 ...           ...   \n",
       "32556  27            Private   Assoc-acdm        Tech-support             0   \n",
       "32557  40            Private      HS-grad   Machine-op-inspct             0   \n",
       "32558  58            Private      HS-grad        Adm-clerical             0   \n",
       "32559  22            Private      HS-grad        Adm-clerical             0   \n",
       "32560  52       Self-emp-inc      HS-grad     Exec-managerial         15024   \n",
       "\n",
       "       capital.loss  native.country  salaries jobsatisfaction  male  female  \\\n",
       "X                                                                             \n",
       "0                 0   United-States   43136.0               0   1.0     NaN   \n",
       "1                 0    UnitedStates   46209.0               7   1.0     NaN   \n",
       "2                 0   United-States   28937.0               6   1.0     NaN   \n",
       "3                 0   United-States   33658.0               6   1.0     NaN   \n",
       "4                 0            Cuba   34372.0              12   NaN     1.0   \n",
       "...             ...             ...       ...             ...   ...     ...   \n",
       "32556             0   United-States   21393.0              14   NaN     1.0   \n",
       "32557             0   United-States   75199.0              10   1.0     NaN   \n",
       "32558             0   United-States   25603.0               1   NaN     1.0   \n",
       "32559             0   United-States   42138.0               3   1.0     NaN   \n",
       "32560             0   United-States   71709.0               9   NaN     1.0   \n",
       "\n",
       "       gender  \n",
       "X              \n",
       "0        Male  \n",
       "1        Male  \n",
       "2        Male  \n",
       "3        Male  \n",
       "4      Female  \n",
       "...       ...  \n",
       "32556  Female  \n",
       "32557    Male  \n",
       "32558  Female  \n",
       "32559    Male  \n",
       "32560  Female  \n",
       "\n",
       "[32561 rows x 12 columns]"
      ]
     },
     "execution_count": 20,
     "metadata": {},
     "output_type": "execute_result"
    }
   ],
   "source": [
    "# TODO - Put Male and Female attributes on the same plot for comparison\n",
    "data['gender'] = data['male'].apply(lambda x: 'Male' if x == 1.0 else 'Female')\n",
    "\n",
    "# TODO\n",
    "fig = plt.figure(figsize=[8, 8])\n",
    "\n",
    "ax4 = plt.subplot(111)\n",
    "ax4.hist(data['gender'], \n",
    "         width = 0.5,\n",
    "         weights = np.ones(len(data['gender'])) / len(data['gender']) \n",
    "        )\n",
    "ax4.set_title('Gender - Distribution in Relative Frequency')\n",
    "plt.xticks(rotation=90)\n",
    "plt.show()\n",
    "data"
   ]
  },
  {
   "cell_type": "markdown",
   "metadata": {
    "colab_type": "text",
    "id": "bUNkersp0Uyk"
   },
   "source": [
    "**2.8. Count the number of missing values in each attribute in the dataset and also report the percentage of missing values out of all rows (the original file uses '?' for missing values)**"
   ]
  },
  {
   "cell_type": "code",
   "execution_count": 61,
   "metadata": {
    "colab": {},
    "colab_type": "code",
    "id": "qI3j7Uvz0Uyl",
    "scrolled": true
   },
   "outputs": [
    {
     "name": "stdout",
     "output_type": "stream",
     "text": [
      "      age          workclass    education          occupation  capital.gain  \\\n",
      "X                                                                             \n",
      "0      39          State-gov    Bachelors        Adm-clerical          2174   \n",
      "1      50   Self-emp-not-inc    Bachelors     Exec-managerial             0   \n",
      "2      38             privat      HS-grad   Handlers-cleaners             0   \n",
      "3      53             privat         11th   Handlers-cleaners             0   \n",
      "4      28             privat    Bachelors      Prof-specialty             0   \n",
      "...    ..                ...          ...                 ...           ...   \n",
      "32556  27            Private   Assoc-acdm        Tech-support             0   \n",
      "32557  40            Private      HS-grad   Machine-op-inspct             0   \n",
      "32558  58            Private      HS-grad        Adm-clerical             0   \n",
      "32559  22            Private      HS-grad        Adm-clerical             0   \n",
      "32560  52       Self-emp-inc      HS-grad     Exec-managerial         15024   \n",
      "\n",
      "       capital.loss  native.country  salaries jobsatisfaction  male  female  \n",
      "X                                                                            \n",
      "0                 0   United-States   43136.0               0   1.0     NaN  \n",
      "1                 0    UnitedStates   46209.0               7   1.0     NaN  \n",
      "2                 0   United-States   28937.0               6   1.0     NaN  \n",
      "3                 0   United-States   33658.0               6   1.0     NaN  \n",
      "4                 0            Cuba   34372.0              12   NaN     1.0  \n",
      "...             ...             ...       ...             ...   ...     ...  \n",
      "32556             0   United-States   21393.0              14   NaN     1.0  \n",
      "32557             0   United-States   75199.0              10   1.0     NaN  \n",
      "32558             0   United-States   25603.0               1   NaN     1.0  \n",
      "32559             0   United-States   42138.0               3   1.0     NaN  \n",
      "32560             0   United-States   71709.0               9   NaN     1.0  \n",
      "\n",
      "[32561 rows x 11 columns]\n"
     ]
    }
   ],
   "source": [
    "#TODO\n",
    "import numpy as np\n",
    "import pandas as pd\n",
    "\n",
    "# TODO\n",
    "# data = pd.read_table('adult.csv', index_col='X')\n",
    "# data.isna().sum()\n",
    "\n",
    "# data = data.replace('?', 'test', inplace = True)\n",
    "# data.isnull().sum()\n",
    "\n",
    "print(data)\n",
    "# total_rows = len(data.index)\n",
    "# total_missing = 0\n",
    "# if data is not data.empty:\n",
    "#     for column in data.columns:\n",
    "#         total_missing = \n",
    "#         if total_missing > 0:\n",
    "#             print (f\"Percentage of missing values in column {column} = {total_missing} %\")\n",
    "# else:\n",
    "#     print('Please define `data` in earlier subtasks')"
   ]
  },
  {
   "cell_type": "code",
   "execution_count": 31,
   "metadata": {},
   "outputs": [
    {
     "data": {
      "text/html": [
       "<div>\n",
       "<style scoped>\n",
       "    .dataframe tbody tr th:only-of-type {\n",
       "        vertical-align: middle;\n",
       "    }\n",
       "\n",
       "    .dataframe tbody tr th {\n",
       "        vertical-align: top;\n",
       "    }\n",
       "\n",
       "    .dataframe thead th {\n",
       "        text-align: right;\n",
       "    }\n",
       "</style>\n",
       "<table border=\"1\" class=\"dataframe\">\n",
       "  <thead>\n",
       "    <tr style=\"text-align: right;\">\n",
       "      <th></th>\n",
       "      <th>0</th>\n",
       "    </tr>\n",
       "  </thead>\n",
       "  <tbody>\n",
       "    <tr>\n",
       "      <th>0</th>\n",
       "      <td>-</td>\n",
       "    </tr>\n",
       "    <tr>\n",
       "      <th>1</th>\n",
       "      <td>tigas</td>\n",
       "    </tr>\n",
       "    <tr>\n",
       "      <th>2</th>\n",
       "      <td>2</td>\n",
       "    </tr>\n",
       "    <tr>\n",
       "      <th>3</th>\n",
       "      <td>5</td>\n",
       "    </tr>\n",
       "    <tr>\n",
       "      <th>4</th>\n",
       "      <td>1</td>\n",
       "    </tr>\n",
       "    <tr>\n",
       "      <th>5</th>\n",
       "      <td>-5</td>\n",
       "    </tr>\n",
       "    <tr>\n",
       "      <th>6</th>\n",
       "      <td>-1</td>\n",
       "    </tr>\n",
       "    <tr>\n",
       "      <th>7</th>\n",
       "      <td>-</td>\n",
       "    </tr>\n",
       "    <tr>\n",
       "      <th>8</th>\n",
       "      <td>9</td>\n",
       "    </tr>\n",
       "  </tbody>\n",
       "</table>\n",
       "</div>"
      ],
      "text/plain": [
       "       0\n",
       "0      -\n",
       "1  tigas\n",
       "2      2\n",
       "3      5\n",
       "4      1\n",
       "5     -5\n",
       "6     -1\n",
       "7      -\n",
       "8      9"
      ]
     },
     "execution_count": 31,
     "metadata": {},
     "output_type": "execute_result"
    }
   ],
   "source": [
    "# data[data == '?'] = np.nan\n",
    "# data['female'].isnull().sum()\n",
    "\n",
    "# data = data.replace('?', np.nan)\n",
    "# data.loc[27]\n",
    "# data.isnull().sum()\n",
    "\n",
    "df2 = pd.DataFrame(['-',3,2,5,1,-5,-1,'-',9])\n",
    "# df.replace('-', np.nan)\n",
    "df2 = df2.replace(3, 'tigas')\n",
    "df2\n",
    "\n",
    "# raw_data = {'first_name': ['Jason', 'Molly', 'Tina', 'Jake', 'Amy'], \n",
    "#         'last_name': ['Miller', 'Jacobson', 'Ali', 'Milner', 'Cooze'], \n",
    "#         'age': [42, 52, 36, 24, 73], \n",
    "#         'preTestScore': [-999, -999, -999, 2, 1],\n",
    "#         'postTestScore': [2, 2, -999, 2, -999]}\n",
    "# df = pd.DataFrame(raw_data, columns = ['first_name', 'last_name', 'age', 'preTestScore', 'postTestScore'])\n",
    "# df = df.replace(-999, np.nan)\n",
    "# df"
   ]
  },
  {
   "cell_type": "markdown",
   "metadata": {
    "colab_type": "text",
    "id": "SdCBdISe0Uys"
   },
   "source": [
    "# 3.  Data preparation (1.5 points)"
   ]
  },
  {
   "cell_type": "markdown",
   "metadata": {
    "colab_type": "text",
    "id": "p2-jtcJk0Uyu"
   },
   "source": [
    "Preparing the data for analysis is the most crucial phase in data analysis. In this exercise, the main goal is to clean up the dataset 'adult'. The dataset has been made unclean on purpose so that you can practice cleaning it up. Most of the introduced uncleanliness is of the same kinds as described in slides of Lecture 02. Additionally, some values have been introduced which are non-sensical due to the meaning of the attribute.<br>"
   ]
  },
  {
   "cell_type": "markdown",
   "metadata": {
    "colab_type": "text",
    "id": "tdM8ojKH0Uyw"
   },
   "source": [
    "First, let's make a deep copy of the original DataFrame. Later we will compare it to the cleaned/modified DataFrame."
   ]
  },
  {
   "cell_type": "code",
   "execution_count": 127,
   "metadata": {
    "colab": {},
    "colab_type": "code",
    "id": "c2Pj1d-S0Uyy",
    "scrolled": false
   },
   "outputs": [],
   "source": [
    "if data is not data.empty:\n",
    "    original_data = data.copy(deep=True) # Make a deep copy, including a copy of the data and the indices"
   ]
  },
  {
   "cell_type": "markdown",
   "metadata": {
    "colab_type": "text",
    "id": "RJXfvIJ50Uy3"
   },
   "source": [
    "**3.1. Sometimes values include leading and/or trailing spaces. Remove leading and trailing whitespace from strings. Count how many rows were changed in the dataset.** <br>"
   ]
  },
  {
   "cell_type": "code",
   "execution_count": 128,
   "metadata": {
    "colab": {},
    "colab_type": "code",
    "id": "6iRINqch0Uy5"
   },
   "outputs": [
    {
     "name": "stdout",
     "output_type": "stream",
     "text": [
      "column capital.gain is not string\n",
      "column capital.loss is not string\n",
      "column salaries is not string\n",
      "column male is not string\n",
      "column female is not string\n"
     ]
    },
    {
     "data": {
      "text/html": [
       "<div>\n",
       "<style scoped>\n",
       "    .dataframe tbody tr th:only-of-type {\n",
       "        vertical-align: middle;\n",
       "    }\n",
       "\n",
       "    .dataframe tbody tr th {\n",
       "        vertical-align: top;\n",
       "    }\n",
       "\n",
       "    .dataframe thead th {\n",
       "        text-align: right;\n",
       "    }\n",
       "</style>\n",
       "<table border=\"1\" class=\"dataframe\">\n",
       "  <thead>\n",
       "    <tr style=\"text-align: right;\">\n",
       "      <th></th>\n",
       "      <th>age</th>\n",
       "      <th>workclass</th>\n",
       "      <th>education</th>\n",
       "      <th>occupation</th>\n",
       "      <th>capital.gain</th>\n",
       "      <th>capital.loss</th>\n",
       "      <th>native.country</th>\n",
       "      <th>salaries</th>\n",
       "      <th>jobsatisfaction</th>\n",
       "      <th>male</th>\n",
       "      <th>female</th>\n",
       "    </tr>\n",
       "    <tr>\n",
       "      <th>X</th>\n",
       "      <th></th>\n",
       "      <th></th>\n",
       "      <th></th>\n",
       "      <th></th>\n",
       "      <th></th>\n",
       "      <th></th>\n",
       "      <th></th>\n",
       "      <th></th>\n",
       "      <th></th>\n",
       "      <th></th>\n",
       "      <th></th>\n",
       "    </tr>\n",
       "  </thead>\n",
       "  <tbody>\n",
       "    <tr>\n",
       "      <th>0</th>\n",
       "      <td>39</td>\n",
       "      <td>State-gov</td>\n",
       "      <td>Bachelors</td>\n",
       "      <td>Adm-clerical</td>\n",
       "      <td>2174</td>\n",
       "      <td>0</td>\n",
       "      <td>United-States</td>\n",
       "      <td>43136.0</td>\n",
       "      <td>0</td>\n",
       "      <td>1.0</td>\n",
       "      <td>NaN</td>\n",
       "    </tr>\n",
       "    <tr>\n",
       "      <th>1</th>\n",
       "      <td>50</td>\n",
       "      <td>Self-emp-not-inc</td>\n",
       "      <td>Bachelors</td>\n",
       "      <td>Exec-managerial</td>\n",
       "      <td>0</td>\n",
       "      <td>0</td>\n",
       "      <td>UnitedStates</td>\n",
       "      <td>46209.0</td>\n",
       "      <td>7</td>\n",
       "      <td>1.0</td>\n",
       "      <td>NaN</td>\n",
       "    </tr>\n",
       "    <tr>\n",
       "      <th>2</th>\n",
       "      <td>38</td>\n",
       "      <td>privat</td>\n",
       "      <td>HS-grad</td>\n",
       "      <td>Handlers-cleaners</td>\n",
       "      <td>0</td>\n",
       "      <td>0</td>\n",
       "      <td>United-States</td>\n",
       "      <td>28937.0</td>\n",
       "      <td>6</td>\n",
       "      <td>1.0</td>\n",
       "      <td>NaN</td>\n",
       "    </tr>\n",
       "    <tr>\n",
       "      <th>3</th>\n",
       "      <td>53</td>\n",
       "      <td>privat</td>\n",
       "      <td>11th</td>\n",
       "      <td>Handlers-cleaners</td>\n",
       "      <td>0</td>\n",
       "      <td>0</td>\n",
       "      <td>United-States</td>\n",
       "      <td>33658.0</td>\n",
       "      <td>6</td>\n",
       "      <td>1.0</td>\n",
       "      <td>NaN</td>\n",
       "    </tr>\n",
       "    <tr>\n",
       "      <th>4</th>\n",
       "      <td>28</td>\n",
       "      <td>privat</td>\n",
       "      <td>Bachelors</td>\n",
       "      <td>Prof-specialty</td>\n",
       "      <td>0</td>\n",
       "      <td>0</td>\n",
       "      <td>Cuba</td>\n",
       "      <td>34372.0</td>\n",
       "      <td>12</td>\n",
       "      <td>NaN</td>\n",
       "      <td>1.0</td>\n",
       "    </tr>\n",
       "  </tbody>\n",
       "</table>\n",
       "</div>"
      ],
      "text/plain": [
       "  age         workclass  education         occupation  capital.gain  \\\n",
       "X                                                                     \n",
       "0  39         State-gov  Bachelors       Adm-clerical          2174   \n",
       "1  50  Self-emp-not-inc  Bachelors    Exec-managerial             0   \n",
       "2  38            privat    HS-grad  Handlers-cleaners             0   \n",
       "3  53            privat       11th  Handlers-cleaners             0   \n",
       "4  28            privat  Bachelors     Prof-specialty             0   \n",
       "\n",
       "   capital.loss native.country  salaries jobsatisfaction  male  female  \n",
       "X                                                                       \n",
       "0             0  United-States   43136.0               0   1.0     NaN  \n",
       "1             0   UnitedStates   46209.0               7   1.0     NaN  \n",
       "2             0  United-States   28937.0               6   1.0     NaN  \n",
       "3             0  United-States   33658.0               6   1.0     NaN  \n",
       "4             0           Cuba   34372.0              12   NaN     1.0  "
      ]
     },
     "execution_count": 128,
     "metadata": {},
     "output_type": "execute_result"
    }
   ],
   "source": [
    "# # TODO\n",
    "for column in data.columns:\n",
    "    if data[column].dtype == 'O' : #dtype == 'O' stands for Python object\n",
    "        data[column] = data[column].str.strip()\n",
    "#         print(data)\n",
    "    else:\n",
    "        print(f\"column {column} is not string\")\n",
    "\n",
    "data.head()\n",
    "# data['age'].dtype"
   ]
  },
  {
   "cell_type": "markdown",
   "metadata": {
    "colab_type": "text",
    "id": "q-EsCS8u0Uy9"
   },
   "source": [
    "Use code below to count how many rows were affected."
   ]
  },
  {
   "cell_type": "code",
   "execution_count": 129,
   "metadata": {
    "colab": {},
    "colab_type": "code",
    "id": "Q1raNOfO0Uy-"
   },
   "outputs": [
    {
     "name": "stdout",
     "output_type": "stream",
     "text": [
      "Difference: 32561\n"
     ]
    }
   ],
   "source": [
    "# Count differences\n",
    "if data is not data.empty:\n",
    "    data_all = pd.concat([original_data, data]).drop_duplicates()\n",
    "    diff = data_all.shape[0] - data.shape[0]\n",
    "    print ('Difference: ' + str(diff))"
   ]
  },
  {
   "cell_type": "markdown",
   "metadata": {
    "colab_type": "text",
    "id": "yYdt_7B60UzG"
   },
   "source": [
    "**<font color='red'>Answer:</font>** 32561"
   ]
  },
  {
   "cell_type": "markdown",
   "metadata": {
    "colab_type": "text",
    "id": "ObwH6OwM0UzH"
   },
   "source": [
    "**3.2. Replace all non-sensical values in `data` with np.nan from numpy package to denote missing values (Original file uses '?' for missing values). Fix the typos in the dataset. Justify all the changes that you do, explaining why you are sure that this is a correct change and what you think the cause for such error could be.**  <br>"
   ]
  },
  {
   "cell_type": "code",
   "execution_count": 133,
   "metadata": {
    "colab": {},
    "colab_type": "code",
    "id": "8y-mjYFg0UzJ"
   },
   "outputs": [
    {
     "data": {
      "text/plain": [
       "Int64Index([    0,     1,     2,     3,     4,     5,     6,     7,     8,\n",
       "                9,\n",
       "            ...\n",
       "            32551, 32552, 32553, 32554, 32555, 32556, 32557, 32558, 32559,\n",
       "            32560],\n",
       "           dtype='int64', name='X', length=32561)"
      ]
     },
     "execution_count": 133,
     "metadata": {},
     "output_type": "execute_result"
    }
   ],
   "source": [
    "# TODO\n",
    "data_clean = data.replace(['?','privat','UnitedStates', 'Unitedstates', 'Hong'], [np.nan,'Private','United-States', 'United-States', 'Hong-Kong'])\n",
    "data_clean.head(10)\n",
    "\n",
    "# To find unique value for every column in our dataframe\n",
    "# for column in data.columns:\n",
    "#     print(data[column].unique())"
   ]
  },
  {
   "cell_type": "markdown",
   "metadata": {
    "colab_type": "text",
    "id": "V22WfXNT0UzR"
   },
   "source": [
    "**<font color='red'>Answer:</font>** Beside replace `?` with `NaN` value, we also replace this string `['privat','UnitedStates', 'Unitedstates', 'Hong']` into `['Private','United-States', 'United-States', 'Hong-Kong']` to fix the typo and reduce the redudancy of the same value (for example: United-States and UnitedStates is the same value in `native.country`."
   ]
  },
  {
   "cell_type": "markdown",
   "metadata": {
    "colab_type": "text",
    "id": "WiM4nw-X0UzR"
   },
   "source": [
    "**3.3. Count the rows which were changed in the subtask b** <br>"
   ]
  },
  {
   "cell_type": "code",
   "execution_count": 125,
   "metadata": {
    "colab": {},
    "colab_type": "code",
    "id": "Dwb1vI6r0UzT",
    "scrolled": true
   },
   "outputs": [
    {
     "name": "stdout",
     "output_type": "stream",
     "text": [
      "Difference: 32561\n"
     ]
    }
   ],
   "source": [
    "# TODO\n",
    "total_row_changed = 0\n",
    "for c"
   ]
  },
  {
   "cell_type": "markdown",
   "metadata": {
    "colab_type": "text",
    "id": "8vFt0qsE0UzZ"
   },
   "source": [
    "**<font color='red'>Answer:</font>** Answer goes here."
   ]
  },
  {
   "cell_type": "markdown",
   "metadata": {
    "colab_type": "text",
    "id": "qsqF56VG0Uzb"
   },
   "source": [
    "**3.4. Report values that look suspicious whereas you are not sure whether they are definitely wrong** <br> "
   ]
  },
  {
   "cell_type": "markdown",
   "metadata": {
    "colab_type": "text",
    "id": "9MpofgEO0Uzc"
   },
   "source": [
    "**<font color='red'>Answer:</font>** \n",
    "- value `Hong` in column `native.country`, we're not sure is it truly the name of the country `Hong Kong` or another meaning\n",
    "- value in `capital.gain` and `capital.loss` which are containing too many `0` value\n",
    "- value `Assoc-acdm` in `education` column"
   ]
  },
  {
   "cell_type": "markdown",
   "metadata": {
    "colab_type": "text",
    "id": "Oxipw22S0Uzd"
   },
   "source": [
    "# 4.  Gathering interesting facts about the adult dataset (1.5 points)"
   ]
  },
  {
   "cell_type": "markdown",
   "metadata": {
    "colab_type": "text",
    "id": "UiBo7A7W0Uzg"
   },
   "source": [
    "Useful information about the data can be acquired through visualization even before modeling."
   ]
  },
  {
   "cell_type": "markdown",
   "metadata": {
    "colab_type": "text",
    "id": "-vJh7DDq0Uzi"
   },
   "source": [
    "**4.1. Convert the attribute `Education` into type `category` and introduce the order for this attribute based on the educational level (e.g. Masters is higher education than Bachelors; use your best guess in ordering those levels for which the order is not obvious). Create a bar chart visualising the relative frequencies of values.**"
   ]
  },
  {
   "cell_type": "code",
   "execution_count": 174,
   "metadata": {
    "colab": {},
    "colab_type": "code",
    "id": "Ulwd_h8k0Uzj"
   },
   "outputs": [
    {
     "data": {
      "text/plain": [
       "<matplotlib.axes._subplots.AxesSubplot at 0x12bb1d410>"
      ]
     },
     "execution_count": 174,
     "metadata": {},
     "output_type": "execute_result"
    },
    {
     "data": {
      "image/png": "[encoded data removed]",
      "text/plain": [
       "<Figure size 432x288 with 1 Axes>"
      ]
     },
     "metadata": {
      "needs_background": "light"
     },
     "output_type": "display_data"
    }
   ],
   "source": [
    "# TODO\n",
    "data['education'] = data['education'].astype('category')\n",
    "# data['education'] = data['education'].cat.reorder_categories(['Doctorate', 'Masters', \n",
    "#                                           'Bachelors', 'Some-college', 'Prof-school', 'Assoc-voc', 'Assoc-acdm',\n",
    "#                                           'HS-grad', '12th',\n",
    "#                                           '11th', '10th',\n",
    "#                                           '9th', '7th-8th',\n",
    "#                                           '5th-6th', '1st-4th',\n",
    "#                                           'Preschool'\n",
    "#                                          ], ordered = True)\n",
    "\n",
    "# data['education'].unique().sum()\n",
    "# data['education'].describe()\n",
    "\n",
    "data['education'].value_counts(normalize = True).reindex(['Doctorate', 'Masters', \n",
    "                                          'Bachelors', 'Some-college', 'Prof-school', 'Assoc-voc', 'Assoc-acdm',\n",
    "                                          'HS-grad', '12th',\n",
    "                                          '11th', '10th',\n",
    "                                          '9th', '7th-8th',\n",
    "                                          '5th-6th', '1st-4th',\n",
    "                                          'Preschool'\n",
    "                                         ]).plot(kind=\"bar\")"
   ]
  },
  {
   "cell_type": "markdown",
   "metadata": {
    "colab_type": "text",
    "id": "BGMCBxDv0Uzq"
   },
   "source": [
    "**4.2.  Create and print a Pandas data frame where each row stands for an occupation, each column stands for a level of education, and the cells in the table contain the average salary of people with the corresponding occupation and education level.** <br> \n",
    "Hint 1: You can use crosstab, see also aggfunc from the pandas documentation."
   ]
  },
  {
   "cell_type": "code",
   "execution_count": 199,
   "metadata": {
    "colab": {},
    "colab_type": "code",
    "id": "_m7xV1Y70Uzs",
    "scrolled": false
   },
   "outputs": [
    {
     "data": {
      "text/html": [
       "<div>\n",
       "<style scoped>\n",
       "    .dataframe tbody tr th:only-of-type {\n",
       "        vertical-align: middle;\n",
       "    }\n",
       "\n",
       "    .dataframe tbody tr th {\n",
       "        vertical-align: top;\n",
       "    }\n",
       "\n",
       "    .dataframe thead th {\n",
       "        text-align: right;\n",
       "    }\n",
       "</style>\n",
       "<table border=\"1\" class=\"dataframe\">\n",
       "  <thead>\n",
       "    <tr style=\"text-align: right;\">\n",
       "      <th>education</th>\n",
       "      <th>Doctorate</th>\n",
       "      <th>Masters</th>\n",
       "      <th>Bachelors</th>\n",
       "      <th>Some-college</th>\n",
       "      <th>Prof-school</th>\n",
       "      <th>Assoc-voc</th>\n",
       "      <th>Assoc-acdm</th>\n",
       "      <th>HS-grad</th>\n",
       "      <th>12th</th>\n",
       "      <th>11th</th>\n",
       "      <th>10th</th>\n",
       "      <th>9th</th>\n",
       "      <th>7th-8th</th>\n",
       "      <th>5th-6th</th>\n",
       "      <th>1st-4th</th>\n",
       "      <th>Preschool</th>\n",
       "    </tr>\n",
       "    <tr>\n",
       "      <th>occupation</th>\n",
       "      <th></th>\n",
       "      <th></th>\n",
       "      <th></th>\n",
       "      <th></th>\n",
       "      <th></th>\n",
       "      <th></th>\n",
       "      <th></th>\n",
       "      <th></th>\n",
       "      <th></th>\n",
       "      <th></th>\n",
       "      <th></th>\n",
       "      <th></th>\n",
       "      <th></th>\n",
       "      <th></th>\n",
       "      <th></th>\n",
       "      <th></th>\n",
       "    </tr>\n",
       "  </thead>\n",
       "  <tbody>\n",
       "    <tr>\n",
       "      <th>?</th>\n",
       "      <td>57649.47</td>\n",
       "      <td>43630.42</td>\n",
       "      <td>40028.50</td>\n",
       "      <td>32974.99</td>\n",
       "      <td>46083.56</td>\n",
       "      <td>36020.44</td>\n",
       "      <td>34653.87</td>\n",
       "      <td>33286.82</td>\n",
       "      <td>31123.75</td>\n",
       "      <td>29582.05</td>\n",
       "      <td>31292.25</td>\n",
       "      <td>31683.63</td>\n",
       "      <td>32282.27</td>\n",
       "      <td>31864.57</td>\n",
       "      <td>30193.58</td>\n",
       "      <td>24989.20</td>\n",
       "    </tr>\n",
       "    <tr>\n",
       "      <th>Adm-clerical</th>\n",
       "      <td>43041.60</td>\n",
       "      <td>42550.85</td>\n",
       "      <td>38987.47</td>\n",
       "      <td>34387.94</td>\n",
       "      <td>44568.11</td>\n",
       "      <td>33989.10</td>\n",
       "      <td>34836.39</td>\n",
       "      <td>34729.64</td>\n",
       "      <td>29722.61</td>\n",
       "      <td>29976.85</td>\n",
       "      <td>29957.97</td>\n",
       "      <td>32473.00</td>\n",
       "      <td>35226.91</td>\n",
       "      <td>26075.00</td>\n",
       "      <td>NaN</td>\n",
       "      <td>31927.50</td>\n",
       "    </tr>\n",
       "    <tr>\n",
       "      <th>Armed-Forces</th>\n",
       "      <td>NaN</td>\n",
       "      <td>67993.00</td>\n",
       "      <td>15014.00</td>\n",
       "      <td>19421.00</td>\n",
       "      <td>NaN</td>\n",
       "      <td>NaN</td>\n",
       "      <td>NaN</td>\n",
       "      <td>35544.00</td>\n",
       "      <td>48635.00</td>\n",
       "      <td>NaN</td>\n",
       "      <td>NaN</td>\n",
       "      <td>NaN</td>\n",
       "      <td>NaN</td>\n",
       "      <td>NaN</td>\n",
       "      <td>NaN</td>\n",
       "      <td>NaN</td>\n",
       "    </tr>\n",
       "    <tr>\n",
       "      <th>Craft-repair</th>\n",
       "      <td>54458.50</td>\n",
       "      <td>46957.59</td>\n",
       "      <td>45141.61</td>\n",
       "      <td>41353.64</td>\n",
       "      <td>52143.71</td>\n",
       "      <td>42391.51</td>\n",
       "      <td>41023.08</td>\n",
       "      <td>38615.12</td>\n",
       "      <td>35800.19</td>\n",
       "      <td>36050.30</td>\n",
       "      <td>35271.21</td>\n",
       "      <td>35322.85</td>\n",
       "      <td>33048.06</td>\n",
       "      <td>33559.63</td>\n",
       "      <td>32884.09</td>\n",
       "      <td>33937.50</td>\n",
       "    </tr>\n",
       "    <tr>\n",
       "      <th>Exec-managerial</th>\n",
       "      <td>63967.98</td>\n",
       "      <td>57455.88</td>\n",
       "      <td>50908.82</td>\n",
       "      <td>43447.34</td>\n",
       "      <td>58638.12</td>\n",
       "      <td>45784.69</td>\n",
       "      <td>46605.03</td>\n",
       "      <td>42182.16</td>\n",
       "      <td>36365.31</td>\n",
       "      <td>36805.44</td>\n",
       "      <td>38655.33</td>\n",
       "      <td>38819.62</td>\n",
       "      <td>42949.74</td>\n",
       "      <td>71742.00</td>\n",
       "      <td>50014.50</td>\n",
       "      <td>NaN</td>\n",
       "    </tr>\n",
       "    <tr>\n",
       "      <th>Farming-fishing</th>\n",
       "      <td>70039.00</td>\n",
       "      <td>40793.10</td>\n",
       "      <td>39866.14</td>\n",
       "      <td>33912.57</td>\n",
       "      <td>43915.50</td>\n",
       "      <td>38431.48</td>\n",
       "      <td>32939.19</td>\n",
       "      <td>35043.57</td>\n",
       "      <td>33999.88</td>\n",
       "      <td>34774.05</td>\n",
       "      <td>32535.09</td>\n",
       "      <td>31886.18</td>\n",
       "      <td>33664.48</td>\n",
       "      <td>30814.36</td>\n",
       "      <td>31450.00</td>\n",
       "      <td>32559.33</td>\n",
       "    </tr>\n",
       "    <tr>\n",
       "      <th>Handlers-cleaners</th>\n",
       "      <td>NaN</td>\n",
       "      <td>29983.00</td>\n",
       "      <td>37371.94</td>\n",
       "      <td>32719.36</td>\n",
       "      <td>NaN</td>\n",
       "      <td>34322.86</td>\n",
       "      <td>33321.33</td>\n",
       "      <td>32552.26</td>\n",
       "      <td>32224.45</td>\n",
       "      <td>30906.23</td>\n",
       "      <td>32047.00</td>\n",
       "      <td>34131.20</td>\n",
       "      <td>30780.35</td>\n",
       "      <td>32748.48</td>\n",
       "      <td>31633.06</td>\n",
       "      <td>30799.00</td>\n",
       "    </tr>\n",
       "    <tr>\n",
       "      <th>Machine-op-inspct</th>\n",
       "      <td>70502.00</td>\n",
       "      <td>31144.50</td>\n",
       "      <td>38791.84</td>\n",
       "      <td>36279.22</td>\n",
       "      <td>38026.00</td>\n",
       "      <td>39073.59</td>\n",
       "      <td>43272.30</td>\n",
       "      <td>35660.08</td>\n",
       "      <td>28159.49</td>\n",
       "      <td>31165.66</td>\n",
       "      <td>32183.33</td>\n",
       "      <td>32178.88</td>\n",
       "      <td>33776.59</td>\n",
       "      <td>33421.93</td>\n",
       "      <td>32227.96</td>\n",
       "      <td>32628.82</td>\n",
       "    </tr>\n",
       "    <tr>\n",
       "      <th>Other-service</th>\n",
       "      <td>71626.00</td>\n",
       "      <td>32017.68</td>\n",
       "      <td>35861.41</td>\n",
       "      <td>31471.02</td>\n",
       "      <td>37343.75</td>\n",
       "      <td>33618.78</td>\n",
       "      <td>33145.14</td>\n",
       "      <td>32137.30</td>\n",
       "      <td>31881.76</td>\n",
       "      <td>31202.76</td>\n",
       "      <td>30484.64</td>\n",
       "      <td>31044.70</td>\n",
       "      <td>31001.63</td>\n",
       "      <td>31433.08</td>\n",
       "      <td>29770.65</td>\n",
       "      <td>32498.47</td>\n",
       "    </tr>\n",
       "    <tr>\n",
       "      <th>Priv-house-serv</th>\n",
       "      <td>NaN</td>\n",
       "      <td>28568.00</td>\n",
       "      <td>37750.43</td>\n",
       "      <td>31587.56</td>\n",
       "      <td>NaN</td>\n",
       "      <td>34781.25</td>\n",
       "      <td>16753.50</td>\n",
       "      <td>31240.14</td>\n",
       "      <td>34069.25</td>\n",
       "      <td>27458.43</td>\n",
       "      <td>33172.00</td>\n",
       "      <td>33230.20</td>\n",
       "      <td>28921.25</td>\n",
       "      <td>26133.07</td>\n",
       "      <td>25066.36</td>\n",
       "      <td>26577.00</td>\n",
       "    </tr>\n",
       "    <tr>\n",
       "      <th>Prof-specialty</th>\n",
       "      <td>56764.62</td>\n",
       "      <td>48030.88</td>\n",
       "      <td>44600.97</td>\n",
       "      <td>40584.20</td>\n",
       "      <td>58333.60</td>\n",
       "      <td>42809.15</td>\n",
       "      <td>40030.98</td>\n",
       "      <td>40999.92</td>\n",
       "      <td>37524.00</td>\n",
       "      <td>30745.05</td>\n",
       "      <td>45071.67</td>\n",
       "      <td>35095.00</td>\n",
       "      <td>28300.22</td>\n",
       "      <td>39091.00</td>\n",
       "      <td>23128.50</td>\n",
       "      <td>34861.00</td>\n",
       "    </tr>\n",
       "    <tr>\n",
       "      <th>Protective-serv</th>\n",
       "      <td>NaN</td>\n",
       "      <td>48472.13</td>\n",
       "      <td>50673.92</td>\n",
       "      <td>43383.00</td>\n",
       "      <td>64038.00</td>\n",
       "      <td>41284.54</td>\n",
       "      <td>42760.50</td>\n",
       "      <td>39481.47</td>\n",
       "      <td>30582.83</td>\n",
       "      <td>38363.14</td>\n",
       "      <td>26930.17</td>\n",
       "      <td>33974.00</td>\n",
       "      <td>30010.33</td>\n",
       "      <td>19378.00</td>\n",
       "      <td>41685.00</td>\n",
       "      <td>NaN</td>\n",
       "    </tr>\n",
       "    <tr>\n",
       "      <th>Sales</th>\n",
       "      <td>53759.50</td>\n",
       "      <td>52718.71</td>\n",
       "      <td>47796.29</td>\n",
       "      <td>38450.69</td>\n",
       "      <td>52483.89</td>\n",
       "      <td>38573.94</td>\n",
       "      <td>40032.57</td>\n",
       "      <td>37536.60</td>\n",
       "      <td>35273.38</td>\n",
       "      <td>31411.95</td>\n",
       "      <td>33370.27</td>\n",
       "      <td>33974.47</td>\n",
       "      <td>37247.90</td>\n",
       "      <td>39858.67</td>\n",
       "      <td>31324.25</td>\n",
       "      <td>NaN</td>\n",
       "    </tr>\n",
       "    <tr>\n",
       "      <th>Tech-support</th>\n",
       "      <td>58249.00</td>\n",
       "      <td>48925.41</td>\n",
       "      <td>43159.54</td>\n",
       "      <td>40650.14</td>\n",
       "      <td>42851.86</td>\n",
       "      <td>42085.61</td>\n",
       "      <td>40934.41</td>\n",
       "      <td>40867.11</td>\n",
       "      <td>43313.00</td>\n",
       "      <td>32796.67</td>\n",
       "      <td>44464.67</td>\n",
       "      <td>32152.50</td>\n",
       "      <td>32947.20</td>\n",
       "      <td>39695.00</td>\n",
       "      <td>NaN</td>\n",
       "      <td>NaN</td>\n",
       "    </tr>\n",
       "    <tr>\n",
       "      <th>Transport-moving</th>\n",
       "      <td>18726.00</td>\n",
       "      <td>43370.40</td>\n",
       "      <td>40176.13</td>\n",
       "      <td>39624.40</td>\n",
       "      <td>67293.33</td>\n",
       "      <td>41845.22</td>\n",
       "      <td>32465.22</td>\n",
       "      <td>38235.36</td>\n",
       "      <td>39585.77</td>\n",
       "      <td>32254.36</td>\n",
       "      <td>38104.95</td>\n",
       "      <td>33625.57</td>\n",
       "      <td>35341.45</td>\n",
       "      <td>31557.00</td>\n",
       "      <td>33409.88</td>\n",
       "      <td>NaN</td>\n",
       "    </tr>\n",
       "  </tbody>\n",
       "</table>\n",
       "</div>"
      ],
      "text/plain": [
       "education          Doctorate   Masters  Bachelors  Some-college  Prof-school  \\\n",
       "occupation                                                                     \n",
       "?                   57649.47  43630.42   40028.50      32974.99     46083.56   \n",
       "Adm-clerical        43041.60  42550.85   38987.47      34387.94     44568.11   \n",
       "Armed-Forces             NaN  67993.00   15014.00      19421.00          NaN   \n",
       "Craft-repair        54458.50  46957.59   45141.61      41353.64     52143.71   \n",
       "Exec-managerial     63967.98  57455.88   50908.82      43447.34     58638.12   \n",
       "Farming-fishing     70039.00  40793.10   39866.14      33912.57     43915.50   \n",
       "Handlers-cleaners        NaN  29983.00   37371.94      32719.36          NaN   \n",
       "Machine-op-inspct   70502.00  31144.50   38791.84      36279.22     38026.00   \n",
       "Other-service       71626.00  32017.68   35861.41      31471.02     37343.75   \n",
       "Priv-house-serv          NaN  28568.00   37750.43      31587.56          NaN   \n",
       "Prof-specialty      56764.62  48030.88   44600.97      40584.20     58333.60   \n",
       "Protective-serv          NaN  48472.13   50673.92      43383.00     64038.00   \n",
       "Sales               53759.50  52718.71   47796.29      38450.69     52483.89   \n",
       "Tech-support        58249.00  48925.41   43159.54      40650.14     42851.86   \n",
       "Transport-moving    18726.00  43370.40   40176.13      39624.40     67293.33   \n",
       "\n",
       "education          Assoc-voc  Assoc-acdm   HS-grad      12th      11th  \\\n",
       "occupation                                                               \n",
       "?                   36020.44    34653.87  33286.82  31123.75  29582.05   \n",
       "Adm-clerical        33989.10    34836.39  34729.64  29722.61  29976.85   \n",
       "Armed-Forces             NaN         NaN  35544.00  48635.00       NaN   \n",
       "Craft-repair        42391.51    41023.08  38615.12  35800.19  36050.30   \n",
       "Exec-managerial     45784.69    46605.03  42182.16  36365.31  36805.44   \n",
       "Farming-fishing     38431.48    32939.19  35043.57  33999.88  34774.05   \n",
       "Handlers-cleaners   34322.86    33321.33  32552.26  32224.45  30906.23   \n",
       "Machine-op-inspct   39073.59    43272.30  35660.08  28159.49  31165.66   \n",
       "Other-service       33618.78    33145.14  32137.30  31881.76  31202.76   \n",
       "Priv-house-serv     34781.25    16753.50  31240.14  34069.25  27458.43   \n",
       "Prof-specialty      42809.15    40030.98  40999.92  37524.00  30745.05   \n",
       "Protective-serv     41284.54    42760.50  39481.47  30582.83  38363.14   \n",
       "Sales               38573.94    40032.57  37536.60  35273.38  31411.95   \n",
       "Tech-support        42085.61    40934.41  40867.11  43313.00  32796.67   \n",
       "Transport-moving    41845.22    32465.22  38235.36  39585.77  32254.36   \n",
       "\n",
       "education              10th       9th   7th-8th   5th-6th   1st-4th  Preschool  \n",
       "occupation                                                                      \n",
       "?                  31292.25  31683.63  32282.27  31864.57  30193.58   24989.20  \n",
       "Adm-clerical       29957.97  32473.00  35226.91  26075.00       NaN   31927.50  \n",
       "Armed-Forces            NaN       NaN       NaN       NaN       NaN        NaN  \n",
       "Craft-repair       35271.21  35322.85  33048.06  33559.63  32884.09   33937.50  \n",
       "Exec-managerial    38655.33  38819.62  42949.74  71742.00  50014.50        NaN  \n",
       "Farming-fishing    32535.09  31886.18  33664.48  30814.36  31450.00   32559.33  \n",
       "Handlers-cleaners  32047.00  34131.20  30780.35  32748.48  31633.06   30799.00  \n",
       "Machine-op-inspct  32183.33  32178.88  33776.59  33421.93  32227.96   32628.82  \n",
       "Other-service      30484.64  31044.70  31001.63  31433.08  29770.65   32498.47  \n",
       "Priv-house-serv    33172.00  33230.20  28921.25  26133.07  25066.36   26577.00  \n",
       "Prof-specialty     45071.67  35095.00  28300.22  39091.00  23128.50   34861.00  \n",
       "Protective-serv    26930.17  33974.00  30010.33  19378.00  41685.00        NaN  \n",
       "Sales              33370.27  33974.47  37247.90  39858.67  31324.25        NaN  \n",
       "Tech-support       44464.67  32152.50  32947.20  39695.00       NaN        NaN  \n",
       "Transport-moving   38104.95  33625.57  35341.45  31557.00  33409.88        NaN  "
      ]
     },
     "execution_count": 199,
     "metadata": {},
     "output_type": "execute_result"
    }
   ],
   "source": [
    "# TODO\n",
    "crosstab_df = pd.crosstab(data.occupation, data.education, values = data.salaries, aggfunc=np.mean).round(2)\n",
    "crosstab_df"
   ]
  },
  {
   "cell_type": "markdown",
   "metadata": {
    "colab_type": "text",
    "id": "Vecl1-UQ0Uzy"
   },
   "source": [
    "**4.3. Make a separate plot for each row (occupation) of the table created in subtask b. Choose the type of the plot to convey the information as well as you can.** <br>"
   ]
  },
  {
   "cell_type": "code",
   "execution_count": 211,
   "metadata": {
    "colab": {},
    "colab_type": "code",
    "id": "ZTABdFoI0Uzz",
    "scrolled": false
   },
   "outputs": [
    {
     "name": "stdout",
     "output_type": "stream",
     "text": [
      "?\n"
     ]
    },
    {
     "data": {
      "image/png": "[encoded data removed]",
      "text/plain": [
       "<Figure size 432x288 with 1 Axes>"
      ]
     },
     "metadata": {
      "needs_background": "light"
     },
     "output_type": "display_data"
    },
    {
     "name": "stdout",
     "output_type": "stream",
     "text": [
      "Adm-clerical\n"
     ]
    },
    {
     "data": {
      "image/png": "[encoded data removed]",
      "text/plain": [
       "<Figure size 432x288 with 1 Axes>"
      ]
     },
     "metadata": {
      "needs_background": "light"
     },
     "output_type": "display_data"
    },
    {
     "name": "stdout",
     "output_type": "stream",
     "text": [
      "Armed-Forces\n"
     ]
    },
    {
     "data": {
      "image/png": "[encoded data removed]",
      "text/plain": [
       "<Figure size 432x288 with 1 Axes>"
      ]
     },
     "metadata": {
      "needs_background": "light"
     },
     "output_type": "display_data"
    },
    {
     "name": "stdout",
     "output_type": "stream",
     "text": [
      "Craft-repair\n"
     ]
    },
    {
     "data": {
      "image/png": "[encoded data removed]",
      "text/plain": [
       "<Figure size 432x288 with 1 Axes>"
      ]
     },
     "metadata": {
      "needs_background": "light"
     },
     "output_type": "display_data"
    },
    {
     "name": "stdout",
     "output_type": "stream",
     "text": [
      "Exec-managerial\n"
     ]
    },
    {
     "data": {
      "image/png": "[encoded data removed]",
      "text/plain": [
       "<Figure size 432x288 with 1 Axes>"
      ]
     },
     "metadata": {
      "needs_background": "light"
     },
     "output_type": "display_data"
    },
    {
     "name": "stdout",
     "output_type": "stream",
     "text": [
      "Farming-fishing\n"
     ]
    },
    {
     "data": {
      "image/png": "[encoded data removed]",
      "text/plain": [
       "<Figure size 432x288 with 1 Axes>"
      ]
     },
     "metadata": {
      "needs_background": "light"
     },
     "output_type": "display_data"
    },
    {
     "name": "stdout",
     "output_type": "stream",
     "text": [
      "Handlers-cleaners\n"
     ]
    },
    {
     "data": {
      "image/png": "[encoded data removed]",
      "text/plain": [
       "<Figure size 432x288 with 1 Axes>"
      ]
     },
     "metadata": {
      "needs_background": "light"
     },
     "output_type": "display_data"
    },
    {
     "name": "stdout",
     "output_type": "stream",
     "text": [
      "Machine-op-inspct\n"
     ]
    },
    {
     "data": {
      "image/png": "[encoded data removed]",
      "text/plain": [
       "<Figure size 432x288 with 1 Axes>"
      ]
     },
     "metadata": {
      "needs_background": "light"
     },
     "output_type": "display_data"
    },
    {
     "name": "stdout",
     "output_type": "stream",
     "text": [
      "Other-service\n"
     ]
    },
    {
     "data": {
      "image/png": "[encoded data removed]",
      "text/plain": [
       "<Figure size 432x288 with 1 Axes>"
      ]
     },
     "metadata": {
      "needs_background": "light"
     },
     "output_type": "display_data"
    },
    {
     "name": "stdout",
     "output_type": "stream",
     "text": [
      "Priv-house-serv\n"
     ]
    },
    {
     "data": {
      "image/png": "[encoded data removed]",
      "text/plain": [
       "<Figure size 432x288 with 1 Axes>"
      ]
     },
     "metadata": {
      "needs_background": "light"
     },
     "output_type": "display_data"
    },
    {
     "name": "stdout",
     "output_type": "stream",
     "text": [
      "Prof-specialty\n"
     ]
    },
    {
     "data": {
      "image/png": "[encoded data removed]",
      "text/plain": [
       "<Figure size 432x288 with 1 Axes>"
      ]
     },
     "metadata": {
      "needs_background": "light"
     },
     "output_type": "display_data"
    },
    {
     "name": "stdout",
     "output_type": "stream",
     "text": [
      "Protective-serv\n"
     ]
    },
    {
     "data": {
      "image/png": "[encoded data removed]",
      "text/plain": [
       "<Figure size 432x288 with 1 Axes>"
      ]
     },
     "metadata": {
      "needs_background": "light"
     },
     "output_type": "display_data"
    },
    {
     "name": "stdout",
     "output_type": "stream",
     "text": [
      "Sales\n"
     ]
    },
    {
     "data": {
      "image/png": "[encoded data removed]",
      "text/plain": [
       "<Figure size 432x288 with 1 Axes>"
      ]
     },
     "metadata": {
      "needs_background": "light"
     },
     "output_type": "display_data"
    },
    {
     "name": "stdout",
     "output_type": "stream",
     "text": [
      "Tech-support\n"
     ]
    },
    {
     "data": {
      "image/png": "[encoded data removed]",
      "text/plain": [
       "<Figure size 432x288 with 1 Axes>"
      ]
     },
     "metadata": {
      "needs_background": "light"
     },
     "output_type": "display_data"
    },
    {
     "name": "stdout",
     "output_type": "stream",
     "text": [
      "Transport-moving\n"
     ]
    },
    {
     "data": {
      "image/png": "[encoded data removed]",
      "text/plain": [
       "<Figure size 432x288 with 1 Axes>"
      ]
     },
     "metadata": {
      "needs_background": "light"
     },
     "output_type": "display_data"
    }
   ],
   "source": [
    "if crosstab_df is not crosstab_df.empty:\n",
    "    for index, row in crosstab_df.iterrows():\n",
    "        row.plot(kind = 'bar') # TODO \n",
    "        print(index)\n",
    "        plt.show()"
   ]
  },
  {
   "cell_type": "markdown",
   "metadata": {
    "colab_type": "text",
    "id": "_S8NjP2m0Uz4"
   },
   "source": [
    "**4.4. List 3 interesting facts that you can read out of these plots from subtask c.** <br>"
   ]
  },
  {
   "cell_type": "markdown",
   "metadata": {
    "colab_type": "text",
    "id": "GzTzei_x0Uz4"
   },
   "source": [
    "**<font color='red'>Fact 1:</font>** For occupation `armed-forces` it shows that for people who have education `12th` grade have higher salaries than people with `bachelors`, `some-college`. and `HS-grade` background."
   ]
  },
  {
   "cell_type": "markdown",
   "metadata": {
    "colab_type": "text",
    "id": "GH8xzwS_0Uz6"
   },
   "source": [
    "**<font color='red'>Fact 2:</font>** For occupation `exec-managerial` it shows that for people with education `5th-6th` grade have the highest salaries compare to others.\n"
   ]
  },
  {
   "cell_type": "markdown",
   "metadata": {
    "colab_type": "text",
    "id": "hKMBYFms0Uz8"
   },
   "source": [
    "**<font color='red'>Fact 3:</font>** For occupation `farming-fishing` the highest salaries is owned by people with 'Doctorate' education"
   ]
  },
  {
   "cell_type": "markdown",
   "metadata": {
    "colab_type": "text",
    "id": "TERy-rkP0Uz_"
   },
   "source": [
    "## How long did it take you to solve the homework?\n",
    "\n",
    "* Please answer as precisely as you can. It does not affect your points or grade in any way. It is okey, if it took 0.5 hours or 24 hours. The collected information will be used to improve future homeworks.\n",
    "\n",
    "<font color='red'> **Answer:**</font>\n",
    "\n",
    "**<font color='red'>(please change X in the next cell into your estimate)</font>**\n",
    "\n",
    "6-7 hours\n",
    "\n",
    "## How much the homework is difficult?\n",
    "you can put only number between $0:10$ ($0:$ easy, $10:$ difficult)\n",
    "\n",
    "<font color='red'> **Answer: 8**</font>\n",
    "\n",
    "\n"
   ]
  }
 ],
 "metadata": {
  "colab": {
   "name": "Homework 01.ipynb",
   "provenance": []
  },
  "kernelspec": {
   "display_name": "Python 3",
   "language": "python",
   "name": "python3"
  },
  "language_info": {
   "codemirror_mode": {
    "name": "ipython",
    "version": 3
   },
   "file_extension": ".py",
   "mimetype": "text/x-python",
   "name": "python",
   "nbconvert_exporter": "python",
   "pygments_lexer": "ipython3",
   "version": "3.7.4"
  }
 },
 "nbformat": 4,
 "nbformat_minor": 1
}
