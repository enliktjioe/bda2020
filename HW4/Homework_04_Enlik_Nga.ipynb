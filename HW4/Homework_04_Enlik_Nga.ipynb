{
 "cells": [
  {
   "cell_type": "markdown",
   "metadata": {
    "colab_type": "text",
    "id": "cedtXySEYb28"
   },
   "source": [
    "<div class=\"alert alert-block alert-info\"><b></b>\n",
    "<h1><center> <font color='black'> Homework 04  </font></center></h1>\n",
    "<h2><center> <font color='black'> Cross-sell / Up-sell using Recommendations </font></center></h2>\n",
    "<h2><center> <font color='black'> Due date : 26 April 23:59 </font></center></h2>    \n",
    "<h2><center> <font color='black'> BDA - University of Tartu - Spring 2020</font></center></h3>\n",
    "</div>"
   ]
  },
  {
   "cell_type": "markdown",
   "metadata": {
    "colab_type": "text",
    "id": "dHyOkasBYb3D"
   },
   "source": [
    "# Homework instructions \n"
   ]
  },
  {
   "cell_type": "markdown",
   "metadata": {
    "colab_type": "text",
    "id": "B-pvZUeIYb3G"
   },
   "source": [
    "- Insert your team member names and student IDs in the field \"Team mates\" below. If you are not working in a team please insert only your name, surname and student ID \n",
    "\n",
    "- The accepted submission formats are Colab links or .ipynb files. If you are submitting Colab links please make sure that the privacy settings for the file is public so we can access your code. \n",
    "\n",
    "- The submission will automatically close at 12:00 am, so please make sure you have enough time to submit the homework. \n",
    "\n",
    "- Only one of the teammates should submit the homework. We will grade and give points to both of you! \n",
    "\n",
    "- You do not necessarily need to work on Colab. Especially as the size and the complexity of datasets will increase through the course, you can install jupyter notebooks locally and work from there.\n",
    "\n",
    "- If you do not understand what a question is asking for, please ask in Moodle. \n"
   ]
  },
  {
   "cell_type": "markdown",
   "metadata": {
    "colab_type": "text",
    "id": "9OWlFadiYb3I"
   },
   "source": [
    "**<h2><font color='red'>Team mates:</font></h2>**\n",
    "\n",
    "\n",
    "<font color='red'>Name Surname: Enlik -</font>&emsp;   <font color='red'>Student ID: B96323</font>\n",
    "\n",
    "\n",
    "<font color='red'>Name Surname: Thi Thuy Nga Vu</font>&emsp;   <font color='red'>Student ID: B88416</font>"
   ]
  },
  {
   "cell_type": "markdown",
   "metadata": {
    "colab_type": "text",
    "id": "boFT1CkoYb3K"
   },
   "source": [
    "# 1.  Market Basket Analysis (2 points)"
   ]
  },
  {
   "cell_type": "markdown",
   "metadata": {
    "colab_type": "text",
    "id": "a3hBebgbYb3M"
   },
   "source": [
    "**1.1 Consider the following businesses and think about one case of cross selling and one case of up selling techniques they could use. This question is not restricted to only traditional, standard examples. If you wish you can provide something that you would like these businesses to do. (1 points)**"
   ]
  },
  {
   "cell_type": "markdown",
   "metadata": {
    "colab_type": "text",
    "id": "HxMUA01DYb3P"
   },
   "source": [
    "a. An OnlineTravel Agency like Booking.com or AirBnB"
   ]
  },
  {
   "cell_type": "markdown",
   "metadata": {
    "colab_type": "text",
    "id": "RODzp7BPYb3T"
   },
   "source": [
    "<font color='red'> **Cross selling:**</font>\n",
    "\n",
    "<font color='red'> **Up selling:**</font>\n"
   ]
  },
  {
   "cell_type": "markdown",
   "metadata": {
    "colab_type": "text",
    "id": "Qbw_w9p1Yb3U"
   },
   "source": [
    "b. A software company which produces products related to cyber security like Norton, Kaspersky, Avast and similar ones. "
   ]
  },
  {
   "cell_type": "markdown",
   "metadata": {
    "colab_type": "text",
    "id": "j0SyXnB6Yb3W"
   },
   "source": [
    "<font color='red'> **Cross selling:**</font>\n",
    "\n",
    "<font color='red'> **Up selling:**</font>"
   ]
  },
  {
   "cell_type": "markdown",
   "metadata": {
    "colab_type": "text",
    "id": "7EUCv8TtYb3X"
   },
   "source": [
    "c. A company that sells cell phones "
   ]
  },
  {
   "cell_type": "markdown",
   "metadata": {
    "colab_type": "text",
    "id": "NFHO-dI6Yb3Y"
   },
   "source": [
    "<font color='red'> **Cross selling:**</font>\n",
    "\n",
    "<font color='red'> **Up selling:**</font>"
   ]
  },
  {
   "cell_type": "markdown",
   "metadata": {
    "colab_type": "text",
    "id": "_wnH4-lrYb3a"
   },
   "source": [
    "d. A supermarket like Konsum, Rimi, Maxima etc. "
   ]
  },
  {
   "cell_type": "markdown",
   "metadata": {
    "colab_type": "text",
    "id": "I4CNtNYBYb3b"
   },
   "source": [
    "<font color='red'> **Cross selling:**</font>\n",
    "\n",
    "<font color='red'> **Up selling:**</font>"
   ]
  },
  {
   "cell_type": "markdown",
   "metadata": {
    "colab_type": "text",
    "id": "DLp7o0cdYb3c"
   },
   "source": [
    "**1.2 One of the techniques which we discussed in the theory lecture for recommendater systems is Market Basket Analysis. The aim is to study the products bought frequently together and to recommend product in bunndles. Let's suppose that our client is a retail company that has an online shop. They have given to us the OnlineRetail.csv dataset (we have previously used this dataset in our practice sessions 03). It contains data about the online sales of several products. The client or  wants to know which product bundles to promote. Let us find the 5 association rules with the highest lift.**"
   ]
  },
  {
   "cell_type": "code",
   "execution_count": 1,
   "metadata": {
    "colab": {},
    "colab_type": "code",
    "id": "b7HLlQ30Yb3e"
   },
   "outputs": [],
   "source": [
    "import pandas as pd\n",
    "\n",
    "df = pd.read_csv('OnlineRetailPurchase.csv', header=0 )"
   ]
  },
  {
   "cell_type": "code",
   "execution_count": 2,
   "metadata": {
    "colab": {},
    "colab_type": "code",
    "id": "VWBRFwuUYb3l",
    "outputId": "56e2ce1f-6d98-4ed1-aa07-2c6c9c268b11"
   },
   "outputs": [
    {
     "data": {
      "text/html": [
       "<div>\n",
       "<style scoped>\n",
       "    .dataframe tbody tr th:only-of-type {\n",
       "        vertical-align: middle;\n",
       "    }\n",
       "\n",
       "    .dataframe tbody tr th {\n",
       "        vertical-align: top;\n",
       "    }\n",
       "\n",
       "    .dataframe thead th {\n",
       "        text-align: right;\n",
       "    }\n",
       "</style>\n",
       "<table border=\"1\" class=\"dataframe\">\n",
       "  <thead>\n",
       "    <tr style=\"text-align: right;\">\n",
       "      <th></th>\n",
       "      <th>InvoiceNo</th>\n",
       "      <th>StockCode</th>\n",
       "      <th>Description</th>\n",
       "      <th>Quantity</th>\n",
       "      <th>InvoiceDate</th>\n",
       "      <th>UnitPrice</th>\n",
       "      <th>CustomerID</th>\n",
       "      <th>Country</th>\n",
       "    </tr>\n",
       "  </thead>\n",
       "  <tbody>\n",
       "    <tr>\n",
       "      <th>0</th>\n",
       "      <td>536365</td>\n",
       "      <td>85123A</td>\n",
       "      <td>WHITE HANGING HEART T-LIGHT HOLDER</td>\n",
       "      <td>6</td>\n",
       "      <td>12/1/2010 8:26</td>\n",
       "      <td>2.55</td>\n",
       "      <td>17850.0</td>\n",
       "      <td>United Kingdom</td>\n",
       "    </tr>\n",
       "    <tr>\n",
       "      <th>1</th>\n",
       "      <td>536365</td>\n",
       "      <td>71053</td>\n",
       "      <td>WHITE METAL LANTERN</td>\n",
       "      <td>6</td>\n",
       "      <td>12/1/2010 8:26</td>\n",
       "      <td>3.39</td>\n",
       "      <td>17850.0</td>\n",
       "      <td>United Kingdom</td>\n",
       "    </tr>\n",
       "    <tr>\n",
       "      <th>2</th>\n",
       "      <td>536365</td>\n",
       "      <td>84406B</td>\n",
       "      <td>CREAM CUPID HEARTS COAT HANGER</td>\n",
       "      <td>8</td>\n",
       "      <td>12/1/2010 8:26</td>\n",
       "      <td>2.75</td>\n",
       "      <td>17850.0</td>\n",
       "      <td>United Kingdom</td>\n",
       "    </tr>\n",
       "    <tr>\n",
       "      <th>3</th>\n",
       "      <td>536365</td>\n",
       "      <td>84029G</td>\n",
       "      <td>KNITTED UNION FLAG HOT WATER BOTTLE</td>\n",
       "      <td>6</td>\n",
       "      <td>12/1/2010 8:26</td>\n",
       "      <td>3.39</td>\n",
       "      <td>17850.0</td>\n",
       "      <td>United Kingdom</td>\n",
       "    </tr>\n",
       "    <tr>\n",
       "      <th>4</th>\n",
       "      <td>536365</td>\n",
       "      <td>84029E</td>\n",
       "      <td>RED WOOLLY HOTTIE WHITE HEART.</td>\n",
       "      <td>6</td>\n",
       "      <td>12/1/2010 8:26</td>\n",
       "      <td>3.39</td>\n",
       "      <td>17850.0</td>\n",
       "      <td>United Kingdom</td>\n",
       "    </tr>\n",
       "  </tbody>\n",
       "</table>\n",
       "</div>"
      ],
      "text/plain": [
       "  InvoiceNo StockCode                          Description  Quantity  \\\n",
       "0    536365    85123A   WHITE HANGING HEART T-LIGHT HOLDER         6   \n",
       "1    536365     71053                  WHITE METAL LANTERN         6   \n",
       "2    536365    84406B       CREAM CUPID HEARTS COAT HANGER         8   \n",
       "3    536365    84029G  KNITTED UNION FLAG HOT WATER BOTTLE         6   \n",
       "4    536365    84029E       RED WOOLLY HOTTIE WHITE HEART.         6   \n",
       "\n",
       "      InvoiceDate  UnitPrice  CustomerID         Country  \n",
       "0  12/1/2010 8:26       2.55     17850.0  United Kingdom  \n",
       "1  12/1/2010 8:26       3.39     17850.0  United Kingdom  \n",
       "2  12/1/2010 8:26       2.75     17850.0  United Kingdom  \n",
       "3  12/1/2010 8:26       3.39     17850.0  United Kingdom  \n",
       "4  12/1/2010 8:26       3.39     17850.0  United Kingdom  "
      ]
     },
     "execution_count": 2,
     "metadata": {},
     "output_type": "execute_result"
    }
   ],
   "source": [
    "df.head()"
   ]
  },
  {
   "cell_type": "markdown",
   "metadata": {
    "colab_type": "text",
    "id": "kcjIimkHYb35"
   },
   "source": [
    "**1.2 Use describe function from pandas to get statistical information about the values in the dataframe. Do you notice something which might not be correct? If so please perform the necessary operations. (Hint: Remember what we did in the practice session 03)(0.25 points)**"
   ]
  },
  {
   "cell_type": "code",
   "execution_count": 3,
   "metadata": {
    "colab": {},
    "colab_type": "code",
    "id": "RakInjZBY4Wu"
   },
   "outputs": [
    {
     "data": {
      "text/html": [
       "<div>\n",
       "<style scoped>\n",
       "    .dataframe tbody tr th:only-of-type {\n",
       "        vertical-align: middle;\n",
       "    }\n",
       "\n",
       "    .dataframe tbody tr th {\n",
       "        vertical-align: top;\n",
       "    }\n",
       "\n",
       "    .dataframe thead th {\n",
       "        text-align: right;\n",
       "    }\n",
       "</style>\n",
       "<table border=\"1\" class=\"dataframe\">\n",
       "  <thead>\n",
       "    <tr style=\"text-align: right;\">\n",
       "      <th></th>\n",
       "      <th>Quantity</th>\n",
       "      <th>UnitPrice</th>\n",
       "      <th>CustomerID</th>\n",
       "    </tr>\n",
       "  </thead>\n",
       "  <tbody>\n",
       "    <tr>\n",
       "      <th>count</th>\n",
       "      <td>10000.000000</td>\n",
       "      <td>10000.000000</td>\n",
       "      <td>7709.000000</td>\n",
       "    </tr>\n",
       "    <tr>\n",
       "      <th>mean</th>\n",
       "      <td>7.828600</td>\n",
       "      <td>3.837412</td>\n",
       "      <td>15615.462576</td>\n",
       "    </tr>\n",
       "    <tr>\n",
       "      <th>std</th>\n",
       "      <td>104.322417</td>\n",
       "      <td>14.310148</td>\n",
       "      <td>1756.540802</td>\n",
       "    </tr>\n",
       "    <tr>\n",
       "      <th>min</th>\n",
       "      <td>-9360.000000</td>\n",
       "      <td>0.000000</td>\n",
       "      <td>12395.000000</td>\n",
       "    </tr>\n",
       "    <tr>\n",
       "      <th>25%</th>\n",
       "      <td>1.000000</td>\n",
       "      <td>1.250000</td>\n",
       "      <td>14388.000000</td>\n",
       "    </tr>\n",
       "    <tr>\n",
       "      <th>50%</th>\n",
       "      <td>2.000000</td>\n",
       "      <td>2.510000</td>\n",
       "      <td>15605.000000</td>\n",
       "    </tr>\n",
       "    <tr>\n",
       "      <th>75%</th>\n",
       "      <td>8.000000</td>\n",
       "      <td>4.210000</td>\n",
       "      <td>17228.000000</td>\n",
       "    </tr>\n",
       "    <tr>\n",
       "      <th>max</th>\n",
       "      <td>2880.000000</td>\n",
       "      <td>887.520000</td>\n",
       "      <td>18239.000000</td>\n",
       "    </tr>\n",
       "  </tbody>\n",
       "</table>\n",
       "</div>"
      ],
      "text/plain": [
       "           Quantity     UnitPrice    CustomerID\n",
       "count  10000.000000  10000.000000   7709.000000\n",
       "mean       7.828600      3.837412  15615.462576\n",
       "std      104.322417     14.310148   1756.540802\n",
       "min    -9360.000000      0.000000  12395.000000\n",
       "25%        1.000000      1.250000  14388.000000\n",
       "50%        2.000000      2.510000  15605.000000\n",
       "75%        8.000000      4.210000  17228.000000\n",
       "max     2880.000000    887.520000  18239.000000"
      ]
     },
     "execution_count": 3,
     "metadata": {},
     "output_type": "execute_result"
    }
   ],
   "source": [
    "df.describe()"
   ]
  },
  {
   "cell_type": "code",
   "execution_count": 4,
   "metadata": {},
   "outputs": [
    {
     "name": "stdout",
     "output_type": "stream",
     "text": [
      "130\n"
     ]
    }
   ],
   "source": [
    "print(sum(df['Quantity'] < 0))"
   ]
  },
  {
   "cell_type": "code",
   "execution_count": 5,
   "metadata": {},
   "outputs": [
    {
     "data": {
      "text/html": [
       "<div>\n",
       "<style scoped>\n",
       "    .dataframe tbody tr th:only-of-type {\n",
       "        vertical-align: middle;\n",
       "    }\n",
       "\n",
       "    .dataframe tbody tr th {\n",
       "        vertical-align: top;\n",
       "    }\n",
       "\n",
       "    .dataframe thead th {\n",
       "        text-align: right;\n",
       "    }\n",
       "</style>\n",
       "<table border=\"1\" class=\"dataframe\">\n",
       "  <thead>\n",
       "    <tr style=\"text-align: right;\">\n",
       "      <th></th>\n",
       "      <th>Quantity</th>\n",
       "      <th>UnitPrice</th>\n",
       "      <th>CustomerID</th>\n",
       "    </tr>\n",
       "  </thead>\n",
       "  <tbody>\n",
       "    <tr>\n",
       "      <th>count</th>\n",
       "      <td>9870.000000</td>\n",
       "      <td>9870.000000</td>\n",
       "      <td>7609.000000</td>\n",
       "    </tr>\n",
       "    <tr>\n",
       "      <th>mean</th>\n",
       "      <td>9.169301</td>\n",
       "      <td>3.837023</td>\n",
       "      <td>15620.763832</td>\n",
       "    </tr>\n",
       "    <tr>\n",
       "      <th>std</th>\n",
       "      <td>45.747927</td>\n",
       "      <td>14.391451</td>\n",
       "      <td>1755.451331</td>\n",
       "    </tr>\n",
       "    <tr>\n",
       "      <th>min</th>\n",
       "      <td>1.000000</td>\n",
       "      <td>0.000000</td>\n",
       "      <td>12395.000000</td>\n",
       "    </tr>\n",
       "    <tr>\n",
       "      <th>25%</th>\n",
       "      <td>1.000000</td>\n",
       "      <td>1.250000</td>\n",
       "      <td>14388.000000</td>\n",
       "    </tr>\n",
       "    <tr>\n",
       "      <th>50%</th>\n",
       "      <td>3.000000</td>\n",
       "      <td>2.510000</td>\n",
       "      <td>15640.000000</td>\n",
       "    </tr>\n",
       "    <tr>\n",
       "      <th>75%</th>\n",
       "      <td>8.000000</td>\n",
       "      <td>4.210000</td>\n",
       "      <td>17228.000000</td>\n",
       "    </tr>\n",
       "    <tr>\n",
       "      <th>max</th>\n",
       "      <td>2880.000000</td>\n",
       "      <td>887.520000</td>\n",
       "      <td>18239.000000</td>\n",
       "    </tr>\n",
       "  </tbody>\n",
       "</table>\n",
       "</div>"
      ],
      "text/plain": [
       "          Quantity    UnitPrice    CustomerID\n",
       "count  9870.000000  9870.000000   7609.000000\n",
       "mean      9.169301     3.837023  15620.763832\n",
       "std      45.747927    14.391451   1755.451331\n",
       "min       1.000000     0.000000  12395.000000\n",
       "25%       1.000000     1.250000  14388.000000\n",
       "50%       3.000000     2.510000  15640.000000\n",
       "75%       8.000000     4.210000  17228.000000\n",
       "max    2880.000000   887.520000  18239.000000"
      ]
     },
     "execution_count": 5,
     "metadata": {},
     "output_type": "execute_result"
    }
   ],
   "source": [
    "# Remove all rows with quantity less than zero\n",
    "df = df[df['Quantity'] >= 0]\n",
    "df.describe()"
   ]
  },
  {
   "cell_type": "markdown",
   "metadata": {
    "colab_type": "text",
    "id": "J5a0X9dtYb4K"
   },
   "source": [
    "**1.3 Create a dataframe name as \"Basket\", where each row has an distintive value of InvoiceNo and each column has a distinctive Description. The cells in the table contain the count of each item (Description) mentioned in one invoice. For example basket.loc['536365','WHITE HANGING HEART T-LIGHT HOLDER'] has a value of 1 because the product with WHITE HANGING HEART T-LIGHT HOLDER was entered  only once in the invoice 536365. Hint: Remember the function you used in Homework 1 for a similar task or in practice session no.07 (0.25 points)**"
   ]
  },
  {
   "cell_type": "code",
   "execution_count": 6,
   "metadata": {
    "colab": {},
    "colab_type": "code",
    "id": "D4lUPlKAYb4L"
   },
   "outputs": [
    {
     "data": {
      "text/html": [
       "<div>\n",
       "<style scoped>\n",
       "    .dataframe tbody tr th:only-of-type {\n",
       "        vertical-align: middle;\n",
       "    }\n",
       "\n",
       "    .dataframe tbody tr th {\n",
       "        vertical-align: top;\n",
       "    }\n",
       "\n",
       "    .dataframe thead th {\n",
       "        text-align: right;\n",
       "    }\n",
       "</style>\n",
       "<table border=\"1\" class=\"dataframe\">\n",
       "  <thead>\n",
       "    <tr style=\"text-align: right;\">\n",
       "      <th></th>\n",
       "      <th></th>\n",
       "      <th>Count</th>\n",
       "    </tr>\n",
       "    <tr>\n",
       "      <th>InvoiceNo</th>\n",
       "      <th>Description</th>\n",
       "      <th></th>\n",
       "    </tr>\n",
       "  </thead>\n",
       "  <tbody>\n",
       "    <tr>\n",
       "      <th rowspan=\"5\" valign=\"top\">536365</th>\n",
       "      <th>CREAM CUPID HEARTS COAT HANGER</th>\n",
       "      <td>1</td>\n",
       "    </tr>\n",
       "    <tr>\n",
       "      <th>GLASS STAR FROSTED T-LIGHT HOLDER</th>\n",
       "      <td>1</td>\n",
       "    </tr>\n",
       "    <tr>\n",
       "      <th>KNITTED UNION FLAG HOT WATER BOTTLE</th>\n",
       "      <td>1</td>\n",
       "    </tr>\n",
       "    <tr>\n",
       "      <th>RED WOOLLY HOTTIE WHITE HEART.</th>\n",
       "      <td>1</td>\n",
       "    </tr>\n",
       "    <tr>\n",
       "      <th>SET 7 BABUSHKA NESTING BOXES</th>\n",
       "      <td>1</td>\n",
       "    </tr>\n",
       "    <tr>\n",
       "      <th>...</th>\n",
       "      <th>...</th>\n",
       "      <td>...</td>\n",
       "    </tr>\n",
       "    <tr>\n",
       "      <th rowspan=\"5\" valign=\"top\">537224</th>\n",
       "      <th>WASHROOM METAL SIGN</th>\n",
       "      <td>1</td>\n",
       "    </tr>\n",
       "    <tr>\n",
       "      <th>WAY OUT METAL SIGN</th>\n",
       "      <td>1</td>\n",
       "    </tr>\n",
       "    <tr>\n",
       "      <th>WHITE BELL HONEYCOMB PAPER</th>\n",
       "      <td>2</td>\n",
       "    </tr>\n",
       "    <tr>\n",
       "      <th>WHITE BELL HONEYCOMB PAPER GARLAND</th>\n",
       "      <td>2</td>\n",
       "    </tr>\n",
       "    <tr>\n",
       "      <th>WOODEN BOX OF DOMINOES</th>\n",
       "      <td>1</td>\n",
       "    </tr>\n",
       "  </tbody>\n",
       "</table>\n",
       "<p>9506 rows × 1 columns</p>\n",
       "</div>"
      ],
      "text/plain": [
       "                                               Count\n",
       "InvoiceNo Description                               \n",
       "536365    CREAM CUPID HEARTS COAT HANGER           1\n",
       "          GLASS STAR FROSTED T-LIGHT HOLDER        1\n",
       "          KNITTED UNION FLAG HOT WATER BOTTLE      1\n",
       "          RED WOOLLY HOTTIE WHITE HEART.           1\n",
       "          SET 7 BABUSHKA NESTING BOXES             1\n",
       "...                                              ...\n",
       "537224    WASHROOM METAL SIGN                      1\n",
       "          WAY OUT METAL SIGN                       1\n",
       "          WHITE BELL HONEYCOMB PAPER               2\n",
       "          WHITE BELL HONEYCOMB PAPER GARLAND       2\n",
       "          WOODEN BOX OF DOMINOES                   1\n",
       "\n",
       "[9506 rows x 1 columns]"
      ]
     },
     "execution_count": 6,
     "metadata": {},
     "output_type": "execute_result"
    }
   ],
   "source": [
    "# //TODO \n",
    "# Reference from Lab 07 - Reommendations System\n",
    "## get number of ratings given by every user\n",
    "# df_users_cnt = pd.DataFrame(df_ratings_drop_movies.groupby('userId').size(), columns=['count'])\n",
    "# df_users_cnt.head()\n",
    "\n",
    "basket = pd.DataFrame(df.groupby(['InvoiceNo', 'Description']).size(), columns=['Count'])\n",
    "# basket = pd.DataFrame(df.groupby(['InvoiceNo', 'Description']).sum().unstack().reset_index().set_index('InvoiceNo'))\n",
    "# basket.rename_axis(None, inplace=True)\n",
    "basket"
   ]
  },
  {
   "cell_type": "code",
   "execution_count": 7,
   "metadata": {},
   "outputs": [
    {
     "data": {
      "text/plain": [
       "Count    1\n",
       "Name: (536365, WHITE HANGING HEART T-LIGHT HOLDER), dtype: int64"
      ]
     },
     "execution_count": 7,
     "metadata": {},
     "output_type": "execute_result"
    }
   ],
   "source": [
    "basket.loc['536365','WHITE HANGING HEART T-LIGHT HOLDER']"
   ]
  },
  {
   "cell_type": "code",
   "execution_count": 8,
   "metadata": {},
   "outputs": [
    {
     "data": {
      "text/plain": [
       "Count    2\n",
       "Name: (537224, WHITE BELL HONEYCOMB PAPER ), dtype: int64"
      ]
     },
     "execution_count": 8,
     "metadata": {},
     "output_type": "execute_result"
    }
   ],
   "source": [
    "basket.loc['537224','WHITE BELL HONEYCOMB PAPER ']"
   ]
  },
  {
   "cell_type": "code",
   "execution_count": 9,
   "metadata": {},
   "outputs": [
    {
     "data": {
      "text/plain": [
       "Count    5\n",
       "Name: (536412, 12 DAISY PEGS IN WOOD BOX), dtype: int64"
      ]
     },
     "execution_count": 9,
     "metadata": {},
     "output_type": "execute_result"
    }
   ],
   "source": [
    "basket.loc['536412','12 DAISY PEGS IN WOOD BOX']"
   ]
  },
  {
   "cell_type": "markdown",
   "metadata": {
    "colab_type": "text",
    "id": "3rwKSVg3Yb4d"
   },
   "source": [
    "**1.4 Some products are mentioned more than once in one invoice. You can check the maximum number for each column to \n",
    "verify. Modify your dataframe such that every cell which has a value higher than one will be replaced with 1. If the cell has the value 0 it will remain the same. (0.25 points)**"
   ]
  },
  {
   "cell_type": "code",
   "execution_count": 10,
   "metadata": {
    "colab": {},
    "colab_type": "code",
    "id": "9BO17Wy1Yb4e"
   },
   "outputs": [
    {
     "data": {
      "text/html": [
       "<div>\n",
       "<style scoped>\n",
       "    .dataframe tbody tr th:only-of-type {\n",
       "        vertical-align: middle;\n",
       "    }\n",
       "\n",
       "    .dataframe tbody tr th {\n",
       "        vertical-align: top;\n",
       "    }\n",
       "\n",
       "    .dataframe thead th {\n",
       "        text-align: right;\n",
       "    }\n",
       "</style>\n",
       "<table border=\"1\" class=\"dataframe\">\n",
       "  <thead>\n",
       "    <tr style=\"text-align: right;\">\n",
       "      <th></th>\n",
       "      <th>Count</th>\n",
       "    </tr>\n",
       "  </thead>\n",
       "  <tbody>\n",
       "    <tr>\n",
       "      <th>count</th>\n",
       "      <td>9506.0</td>\n",
       "    </tr>\n",
       "    <tr>\n",
       "      <th>mean</th>\n",
       "      <td>1.0</td>\n",
       "    </tr>\n",
       "    <tr>\n",
       "      <th>std</th>\n",
       "      <td>0.0</td>\n",
       "    </tr>\n",
       "    <tr>\n",
       "      <th>min</th>\n",
       "      <td>1.0</td>\n",
       "    </tr>\n",
       "    <tr>\n",
       "      <th>25%</th>\n",
       "      <td>1.0</td>\n",
       "    </tr>\n",
       "    <tr>\n",
       "      <th>50%</th>\n",
       "      <td>1.0</td>\n",
       "    </tr>\n",
       "    <tr>\n",
       "      <th>75%</th>\n",
       "      <td>1.0</td>\n",
       "    </tr>\n",
       "    <tr>\n",
       "      <th>max</th>\n",
       "      <td>1.0</td>\n",
       "    </tr>\n",
       "  </tbody>\n",
       "</table>\n",
       "</div>"
      ],
      "text/plain": [
       "        Count\n",
       "count  9506.0\n",
       "mean      1.0\n",
       "std       0.0\n",
       "min       1.0\n",
       "25%       1.0\n",
       "50%       1.0\n",
       "75%       1.0\n",
       "max       1.0"
      ]
     },
     "execution_count": 10,
     "metadata": {},
     "output_type": "execute_result"
    }
   ],
   "source": [
    "# Reference\n",
    "# https://kite.com/python/answers/how-to-change-values-in-a-pandas-dataframe-column-based-on-a-condition-in-python\n",
    "basket_sets = basket.copy()\n",
    "basket_sets.loc[basket_sets.Count > 1, \"Count\"] = 1\n",
    "basket_sets.describe()"
   ]
  },
  {
   "cell_type": "markdown",
   "metadata": {
    "colab_type": "text",
    "id": "KfWgocGTYb4k"
   },
   "source": [
    "**1.5 We do not need to spend time on calculating the association rules by ourselves as there already exists a package for python to do so, called mlxtend. We are going to use the mlxtend package to find frequent items bought together and then create some rules on what to recomend to a user based on what he/she/they have bought. We have given you the first part of the code which calculates the frequent items bought together.**"
   ]
  },
  {
   "cell_type": "code",
   "execution_count": 11,
   "metadata": {
    "colab": {},
    "colab_type": "code",
    "id": "rCw4ii7tYb4l"
   },
   "outputs": [],
   "source": [
    "#!pip install mlxtend\n",
    "from mlxtend.frequent_patterns import apriori\n",
    "from mlxtend.frequent_patterns import association_rules\n",
    "import mlxtend as ml\n",
    "import math"
   ]
  },
  {
   "cell_type": "code",
   "execution_count": 12,
   "metadata": {
    "colab": {},
    "colab_type": "code",
    "id": "nQBjILk5Yb4p"
   },
   "outputs": [],
   "source": [
    "# Mlxtend has implemented Apriori, a popular algorithm for extracting frequent itemsets \n",
    "# We can change the value of minimum support but it will \n",
    "# But as well we get less useful results for the next step. \n",
    "# Setting use_colnames=True to convert the returned integer indices into item names\n",
    "\n",
    "# TODO\n",
    "# frequent_itemsets = apriori(basket_sets, min_support=0.03, use_colnames=True)\n",
    "# frequent_itemsets"
   ]
  },
  {
   "cell_type": "markdown",
   "metadata": {
    "colab_type": "text",
    "id": "GcF5RyYRYb4y"
   },
   "source": [
    "**Please read the documentation of the associaton rules function in mlextend [here](http://rasbt.github.io/mlxtend/user_guide/frequent_patterns/association_rules/) and then complete the code so we get the 5 rules with the highest lift. Print those rules.  In the output antecedents represent if .... clause and consequents represent else... clause. For example if user bought product basket A then  the algorithm recommends product basket B. (0.25 points)**"
   ]
  },
  {
   "cell_type": "code",
   "execution_count": 13,
   "metadata": {
    "colab": {},
    "colab_type": "code",
    "id": "FLpV1FkKYb41"
   },
   "outputs": [],
   "source": [
    "#TODO\n",
    "\n",
    "# rules = association_rules(..., metric=...)\n"
   ]
  },
  {
   "cell_type": "markdown",
   "metadata": {
    "colab_type": "text",
    "id": "kRqo0ek4Yb47"
   },
   "source": [
    "# 2. Collaborative filtering (3.5 points )"
   ]
  },
  {
   "cell_type": "markdown",
   "metadata": {
    "colab_type": "text",
    "id": "_U1OvsCJYb48"
   },
   "source": [
    "We are going to use Books.csv dataset which contains  ratings from Amazon website and the data has the following features:\n",
    "\n",
    "UserID: The ID of the users who read the books\n",
    "\n",
    "BookTitle: The title of the book\n",
    "\n",
    "Book-Rating: A rating given to the book in a scale from 0 to 10\n",
    "\n",
    "Below we are going to perform the same steps we did with movies dataset in the practice session"
   ]
  },
  {
   "cell_type": "markdown",
   "metadata": {
    "colab_type": "text",
    "id": "_-wOm7yLYb49"
   },
   "source": [
    "**2.0 Load the dataset and take a look at the books titles. Please pick one of them which you like (or think that you would like) the most.(0.1 points)**"
   ]
  },
  {
   "cell_type": "code",
   "execution_count": 14,
   "metadata": {
    "colab": {},
    "colab_type": "code",
    "id": "Z_2CgjU6Yb4-"
   },
   "outputs": [
    {
     "data": {
      "text/html": [
       "<div>\n",
       "<style scoped>\n",
       "    .dataframe tbody tr th:only-of-type {\n",
       "        vertical-align: middle;\n",
       "    }\n",
       "\n",
       "    .dataframe tbody tr th {\n",
       "        vertical-align: top;\n",
       "    }\n",
       "\n",
       "    .dataframe thead th {\n",
       "        text-align: right;\n",
       "    }\n",
       "</style>\n",
       "<table border=\"1\" class=\"dataframe\">\n",
       "  <thead>\n",
       "    <tr style=\"text-align: right;\">\n",
       "      <th></th>\n",
       "      <th>UserID</th>\n",
       "      <th>Book-Rating</th>\n",
       "      <th>BookTitle</th>\n",
       "    </tr>\n",
       "  </thead>\n",
       "  <tbody>\n",
       "    <tr>\n",
       "      <th>0</th>\n",
       "      <td>6181</td>\n",
       "      <td>0</td>\n",
       "      <td>Flesh Tones: A Novel</td>\n",
       "    </tr>\n",
       "    <tr>\n",
       "      <th>1</th>\n",
       "      <td>62</td>\n",
       "      <td>5</td>\n",
       "      <td>Flesh Tones: A Novel</td>\n",
       "    </tr>\n",
       "    <tr>\n",
       "      <th>2</th>\n",
       "      <td>163</td>\n",
       "      <td>0</td>\n",
       "      <td>Flesh Tones: A Novel</td>\n",
       "    </tr>\n",
       "    <tr>\n",
       "      <th>3</th>\n",
       "      <td>212</td>\n",
       "      <td>5</td>\n",
       "      <td>Flesh Tones: A Novel</td>\n",
       "    </tr>\n",
       "    <tr>\n",
       "      <th>4</th>\n",
       "      <td>250</td>\n",
       "      <td>9</td>\n",
       "      <td>Flesh Tones: A Novel</td>\n",
       "    </tr>\n",
       "  </tbody>\n",
       "</table>\n",
       "</div>"
      ],
      "text/plain": [
       "   UserID  Book-Rating             BookTitle\n",
       "0    6181            0  Flesh Tones: A Novel\n",
       "1      62            5  Flesh Tones: A Novel\n",
       "2     163            0  Flesh Tones: A Novel\n",
       "3     212            5  Flesh Tones: A Novel\n",
       "4     250            9  Flesh Tones: A Novel"
      ]
     },
     "execution_count": 14,
     "metadata": {},
     "output_type": "execute_result"
    }
   ],
   "source": [
    "books = pd.read_csv(\"Books.csv\", header=0)\n",
    "books.head()"
   ]
  },
  {
   "cell_type": "code",
   "execution_count": 15,
   "metadata": {},
   "outputs": [
    {
     "data": {
      "text/html": [
       "<div>\n",
       "<style scoped>\n",
       "    .dataframe tbody tr th:only-of-type {\n",
       "        vertical-align: middle;\n",
       "    }\n",
       "\n",
       "    .dataframe tbody tr th {\n",
       "        vertical-align: top;\n",
       "    }\n",
       "\n",
       "    .dataframe thead th {\n",
       "        text-align: right;\n",
       "    }\n",
       "</style>\n",
       "<table border=\"1\" class=\"dataframe\">\n",
       "  <thead>\n",
       "    <tr style=\"text-align: right;\">\n",
       "      <th></th>\n",
       "      <th>UserID</th>\n",
       "      <th>Book-Rating</th>\n",
       "      <th>BookTitle</th>\n",
       "    </tr>\n",
       "  </thead>\n",
       "  <tbody>\n",
       "    <tr>\n",
       "      <th>1818</th>\n",
       "      <td>6198</td>\n",
       "      <td>7</td>\n",
       "      <td>Harry Potter and the Order of the Phoenix (Boo...</td>\n",
       "    </tr>\n",
       "    <tr>\n",
       "      <th>1819</th>\n",
       "      <td>6283</td>\n",
       "      <td>10</td>\n",
       "      <td>Harry Potter and the Order of the Phoenix (Boo...</td>\n",
       "    </tr>\n",
       "    <tr>\n",
       "      <th>1820</th>\n",
       "      <td>7</td>\n",
       "      <td>0</td>\n",
       "      <td>Harry Potter and the Order of the Phoenix (Boo...</td>\n",
       "    </tr>\n",
       "    <tr>\n",
       "      <th>1821</th>\n",
       "      <td>56</td>\n",
       "      <td>9</td>\n",
       "      <td>Harry Potter and the Order of the Phoenix (Boo...</td>\n",
       "    </tr>\n",
       "    <tr>\n",
       "      <th>1822</th>\n",
       "      <td>117</td>\n",
       "      <td>0</td>\n",
       "      <td>Harry Potter and the Order of the Phoenix (Boo...</td>\n",
       "    </tr>\n",
       "  </tbody>\n",
       "</table>\n",
       "</div>"
      ],
      "text/plain": [
       "      UserID  Book-Rating                                          BookTitle\n",
       "1818    6198            7  Harry Potter and the Order of the Phoenix (Boo...\n",
       "1819    6283           10  Harry Potter and the Order of the Phoenix (Boo...\n",
       "1820       7            0  Harry Potter and the Order of the Phoenix (Boo...\n",
       "1821      56            9  Harry Potter and the Order of the Phoenix (Boo...\n",
       "1822     117            0  Harry Potter and the Order of the Phoenix (Boo..."
      ]
     },
     "execution_count": 15,
     "metadata": {},
     "output_type": "execute_result"
    }
   ],
   "source": [
    "# pick my favorite book = 'Harry Potter and the Order of the Phoenix (Book 5)'\n",
    "books[books['BookTitle'] == 'Harry Potter and the Order of the Phoenix (Book 5)'].head()"
   ]
  },
  {
   "cell_type": "code",
   "execution_count": 16,
   "metadata": {},
   "outputs": [
    {
     "data": {
      "text/html": [
       "<div>\n",
       "<style scoped>\n",
       "    .dataframe tbody tr th:only-of-type {\n",
       "        vertical-align: middle;\n",
       "    }\n",
       "\n",
       "    .dataframe tbody tr th {\n",
       "        vertical-align: top;\n",
       "    }\n",
       "\n",
       "    .dataframe thead th {\n",
       "        text-align: right;\n",
       "    }\n",
       "</style>\n",
       "<table border=\"1\" class=\"dataframe\">\n",
       "  <thead>\n",
       "    <tr style=\"text-align: right;\">\n",
       "      <th></th>\n",
       "      <th>UserID</th>\n",
       "      <th>Book-Rating</th>\n",
       "      <th>BookTitle</th>\n",
       "    </tr>\n",
       "  </thead>\n",
       "  <tbody>\n",
       "    <tr>\n",
       "      <th>1818</th>\n",
       "      <td>6198</td>\n",
       "      <td>7</td>\n",
       "      <td>Harry Potter and the Order of the Phoenix (Boo...</td>\n",
       "    </tr>\n",
       "  </tbody>\n",
       "</table>\n",
       "</div>"
      ],
      "text/plain": [
       "      UserID  Book-Rating                                          BookTitle\n",
       "1818    6198            7  Harry Potter and the Order of the Phoenix (Boo..."
      ]
     },
     "execution_count": 16,
     "metadata": {},
     "output_type": "execute_result"
    }
   ],
   "source": [
    "books.iloc[[1818]]"
   ]
  },
  {
   "cell_type": "markdown",
   "metadata": {
    "colab_type": "text",
    "id": "Q_f2ywpLYb5J"
   },
   "source": [
    "**2.1 Our next step will be to perform user based collaborative filtering using KNN algorithm. As KNN algorithm does not accept strings, use a Label Encoder for BookTitle column.After that reshape the books matrix using pivot so every column will be a UserID and every row a BookTitle. (0.45 points)**"
   ]
  },
  {
   "cell_type": "code",
   "execution_count": 17,
   "metadata": {
    "colab": {},
    "colab_type": "code",
    "id": "-Gs_CAGKYb5K"
   },
   "outputs": [
    {
     "data": {
      "text/html": [
       "<div>\n",
       "<style scoped>\n",
       "    .dataframe tbody tr th:only-of-type {\n",
       "        vertical-align: middle;\n",
       "    }\n",
       "\n",
       "    .dataframe tbody tr th {\n",
       "        vertical-align: top;\n",
       "    }\n",
       "\n",
       "    .dataframe thead th {\n",
       "        text-align: right;\n",
       "    }\n",
       "</style>\n",
       "<table border=\"1\" class=\"dataframe\">\n",
       "  <thead>\n",
       "    <tr style=\"text-align: right;\">\n",
       "      <th></th>\n",
       "      <th>UserID</th>\n",
       "      <th>Book-Rating</th>\n",
       "      <th>BookID_Encoded</th>\n",
       "    </tr>\n",
       "  </thead>\n",
       "  <tbody>\n",
       "    <tr>\n",
       "      <th>0</th>\n",
       "      <td>6181</td>\n",
       "      <td>0</td>\n",
       "      <td>124</td>\n",
       "    </tr>\n",
       "    <tr>\n",
       "      <th>1</th>\n",
       "      <td>62</td>\n",
       "      <td>5</td>\n",
       "      <td>124</td>\n",
       "    </tr>\n",
       "    <tr>\n",
       "      <th>2</th>\n",
       "      <td>163</td>\n",
       "      <td>0</td>\n",
       "      <td>124</td>\n",
       "    </tr>\n",
       "    <tr>\n",
       "      <th>3</th>\n",
       "      <td>212</td>\n",
       "      <td>5</td>\n",
       "      <td>124</td>\n",
       "    </tr>\n",
       "    <tr>\n",
       "      <th>4</th>\n",
       "      <td>250</td>\n",
       "      <td>9</td>\n",
       "      <td>124</td>\n",
       "    </tr>\n",
       "    <tr>\n",
       "      <th>...</th>\n",
       "      <td>...</td>\n",
       "      <td>...</td>\n",
       "      <td>...</td>\n",
       "    </tr>\n",
       "    <tr>\n",
       "      <th>9995</th>\n",
       "      <td>3663</td>\n",
       "      <td>0</td>\n",
       "      <td>333</td>\n",
       "    </tr>\n",
       "    <tr>\n",
       "      <th>9996</th>\n",
       "      <td>3665</td>\n",
       "      <td>0</td>\n",
       "      <td>333</td>\n",
       "    </tr>\n",
       "    <tr>\n",
       "      <th>9997</th>\n",
       "      <td>3666</td>\n",
       "      <td>3</td>\n",
       "      <td>333</td>\n",
       "    </tr>\n",
       "    <tr>\n",
       "      <th>9998</th>\n",
       "      <td>3668</td>\n",
       "      <td>9</td>\n",
       "      <td>333</td>\n",
       "    </tr>\n",
       "    <tr>\n",
       "      <th>9999</th>\n",
       "      <td>3670</td>\n",
       "      <td>0</td>\n",
       "      <td>333</td>\n",
       "    </tr>\n",
       "  </tbody>\n",
       "</table>\n",
       "<p>10000 rows × 3 columns</p>\n",
       "</div>"
      ],
      "text/plain": [
       "      UserID  Book-Rating  BookID_Encoded\n",
       "0       6181            0             124\n",
       "1         62            5             124\n",
       "2        163            0             124\n",
       "3        212            5             124\n",
       "4        250            9             124\n",
       "...      ...          ...             ...\n",
       "9995    3663            0             333\n",
       "9996    3665            0             333\n",
       "9997    3666            3             333\n",
       "9998    3668            9             333\n",
       "9999    3670            0             333\n",
       "\n",
       "[10000 rows x 3 columns]"
      ]
     },
     "execution_count": 17,
     "metadata": {},
     "output_type": "execute_result"
    }
   ],
   "source": [
    "# Reference\n",
    "# https://stackoverflow.com/questions/24458645/label-encoding-across-multiple-columns-in-scikit-learn\n",
    "from sklearn.preprocessing import LabelEncoder\n",
    "books_encoded = books.apply(LabelEncoder().fit_transform)\n",
    "books_encoded = books_encoded.rename(columns={\"BookTitle\": \"BookID_Encoded\"})\n",
    "books_encoded"
   ]
  },
  {
   "cell_type": "code",
   "execution_count": 18,
   "metadata": {},
   "outputs": [
    {
     "data": {
      "text/html": [
       "<div>\n",
       "<style scoped>\n",
       "    .dataframe tbody tr th:only-of-type {\n",
       "        vertical-align: middle;\n",
       "    }\n",
       "\n",
       "    .dataframe tbody tr th {\n",
       "        vertical-align: top;\n",
       "    }\n",
       "\n",
       "    .dataframe thead th {\n",
       "        text-align: right;\n",
       "    }\n",
       "</style>\n",
       "<table border=\"1\" class=\"dataframe\">\n",
       "  <thead>\n",
       "    <tr style=\"text-align: right;\">\n",
       "      <th></th>\n",
       "      <th>UserID</th>\n",
       "      <th>Book-Rating</th>\n",
       "      <th>BookID_Encoded</th>\n",
       "    </tr>\n",
       "  </thead>\n",
       "  <tbody>\n",
       "    <tr>\n",
       "      <th>0</th>\n",
       "      <td>6181</td>\n",
       "      <td>0</td>\n",
       "      <td>124</td>\n",
       "    </tr>\n",
       "    <tr>\n",
       "      <th>1</th>\n",
       "      <td>62</td>\n",
       "      <td>5</td>\n",
       "      <td>124</td>\n",
       "    </tr>\n",
       "    <tr>\n",
       "      <th>2</th>\n",
       "      <td>163</td>\n",
       "      <td>0</td>\n",
       "      <td>124</td>\n",
       "    </tr>\n",
       "    <tr>\n",
       "      <th>3</th>\n",
       "      <td>212</td>\n",
       "      <td>5</td>\n",
       "      <td>124</td>\n",
       "    </tr>\n",
       "    <tr>\n",
       "      <th>4</th>\n",
       "      <td>250</td>\n",
       "      <td>9</td>\n",
       "      <td>124</td>\n",
       "    </tr>\n",
       "    <tr>\n",
       "      <th>...</th>\n",
       "      <td>...</td>\n",
       "      <td>...</td>\n",
       "      <td>...</td>\n",
       "    </tr>\n",
       "    <tr>\n",
       "      <th>9995</th>\n",
       "      <td>3663</td>\n",
       "      <td>0</td>\n",
       "      <td>333</td>\n",
       "    </tr>\n",
       "    <tr>\n",
       "      <th>9996</th>\n",
       "      <td>3665</td>\n",
       "      <td>0</td>\n",
       "      <td>333</td>\n",
       "    </tr>\n",
       "    <tr>\n",
       "      <th>9997</th>\n",
       "      <td>3666</td>\n",
       "      <td>3</td>\n",
       "      <td>333</td>\n",
       "    </tr>\n",
       "    <tr>\n",
       "      <th>9998</th>\n",
       "      <td>3668</td>\n",
       "      <td>9</td>\n",
       "      <td>333</td>\n",
       "    </tr>\n",
       "    <tr>\n",
       "      <th>9999</th>\n",
       "      <td>3670</td>\n",
       "      <td>0</td>\n",
       "      <td>333</td>\n",
       "    </tr>\n",
       "  </tbody>\n",
       "</table>\n",
       "<p>9998 rows × 3 columns</p>\n",
       "</div>"
      ],
      "text/plain": [
       "      UserID  Book-Rating  BookID_Encoded\n",
       "0       6181            0             124\n",
       "1         62            5             124\n",
       "2        163            0             124\n",
       "3        212            5             124\n",
       "4        250            9             124\n",
       "...      ...          ...             ...\n",
       "9995    3663            0             333\n",
       "9996    3665            0             333\n",
       "9997    3666            3             333\n",
       "9998    3668            9             333\n",
       "9999    3670            0             333\n",
       "\n",
       "[9998 rows x 3 columns]"
      ]
     },
     "execution_count": 18,
     "metadata": {},
     "output_type": "execute_result"
    }
   ],
   "source": [
    "books_encoded_no_dup = books_encoded.drop_duplicates(['UserID', 'BookID_Encoded'])\n",
    "books_encoded_no_dup"
   ]
  },
  {
   "cell_type": "code",
   "execution_count": 19,
   "metadata": {},
   "outputs": [
    {
     "name": "stdout",
     "output_type": "stream",
     "text": [
      "(336, 6292)\n"
     ]
    },
    {
     "data": {
      "text/html": [
       "<div>\n",
       "<style scoped>\n",
       "    .dataframe tbody tr th:only-of-type {\n",
       "        vertical-align: middle;\n",
       "    }\n",
       "\n",
       "    .dataframe tbody tr th {\n",
       "        vertical-align: top;\n",
       "    }\n",
       "\n",
       "    .dataframe thead th {\n",
       "        text-align: right;\n",
       "    }\n",
       "</style>\n",
       "<table border=\"1\" class=\"dataframe\">\n",
       "  <thead>\n",
       "    <tr style=\"text-align: right;\">\n",
       "      <th>UserID</th>\n",
       "      <th>0</th>\n",
       "      <th>1</th>\n",
       "      <th>2</th>\n",
       "      <th>3</th>\n",
       "      <th>4</th>\n",
       "      <th>5</th>\n",
       "      <th>6</th>\n",
       "      <th>7</th>\n",
       "      <th>8</th>\n",
       "      <th>9</th>\n",
       "      <th>...</th>\n",
       "      <th>6282</th>\n",
       "      <th>6283</th>\n",
       "      <th>6284</th>\n",
       "      <th>6285</th>\n",
       "      <th>6286</th>\n",
       "      <th>6287</th>\n",
       "      <th>6288</th>\n",
       "      <th>6289</th>\n",
       "      <th>6290</th>\n",
       "      <th>6291</th>\n",
       "    </tr>\n",
       "    <tr>\n",
       "      <th>BookID_Encoded</th>\n",
       "      <th></th>\n",
       "      <th></th>\n",
       "      <th></th>\n",
       "      <th></th>\n",
       "      <th></th>\n",
       "      <th></th>\n",
       "      <th></th>\n",
       "      <th></th>\n",
       "      <th></th>\n",
       "      <th></th>\n",
       "      <th></th>\n",
       "      <th></th>\n",
       "      <th></th>\n",
       "      <th></th>\n",
       "      <th></th>\n",
       "      <th></th>\n",
       "      <th></th>\n",
       "      <th></th>\n",
       "      <th></th>\n",
       "      <th></th>\n",
       "      <th></th>\n",
       "    </tr>\n",
       "  </thead>\n",
       "  <tbody>\n",
       "    <tr>\n",
       "      <th>0</th>\n",
       "      <td>0.0</td>\n",
       "      <td>0.0</td>\n",
       "      <td>0.0</td>\n",
       "      <td>0.0</td>\n",
       "      <td>0.0</td>\n",
       "      <td>0.0</td>\n",
       "      <td>0.0</td>\n",
       "      <td>0.0</td>\n",
       "      <td>0.0</td>\n",
       "      <td>0.0</td>\n",
       "      <td>...</td>\n",
       "      <td>0.0</td>\n",
       "      <td>0.0</td>\n",
       "      <td>0.0</td>\n",
       "      <td>0.0</td>\n",
       "      <td>0.0</td>\n",
       "      <td>0.0</td>\n",
       "      <td>0.0</td>\n",
       "      <td>0.0</td>\n",
       "      <td>0.0</td>\n",
       "      <td>0.0</td>\n",
       "    </tr>\n",
       "    <tr>\n",
       "      <th>1</th>\n",
       "      <td>0.0</td>\n",
       "      <td>0.0</td>\n",
       "      <td>0.0</td>\n",
       "      <td>0.0</td>\n",
       "      <td>0.0</td>\n",
       "      <td>0.0</td>\n",
       "      <td>0.0</td>\n",
       "      <td>0.0</td>\n",
       "      <td>0.0</td>\n",
       "      <td>0.0</td>\n",
       "      <td>...</td>\n",
       "      <td>0.0</td>\n",
       "      <td>0.0</td>\n",
       "      <td>0.0</td>\n",
       "      <td>0.0</td>\n",
       "      <td>0.0</td>\n",
       "      <td>0.0</td>\n",
       "      <td>0.0</td>\n",
       "      <td>0.0</td>\n",
       "      <td>0.0</td>\n",
       "      <td>0.0</td>\n",
       "    </tr>\n",
       "    <tr>\n",
       "      <th>2</th>\n",
       "      <td>0.0</td>\n",
       "      <td>0.0</td>\n",
       "      <td>0.0</td>\n",
       "      <td>0.0</td>\n",
       "      <td>0.0</td>\n",
       "      <td>0.0</td>\n",
       "      <td>0.0</td>\n",
       "      <td>0.0</td>\n",
       "      <td>0.0</td>\n",
       "      <td>0.0</td>\n",
       "      <td>...</td>\n",
       "      <td>0.0</td>\n",
       "      <td>0.0</td>\n",
       "      <td>0.0</td>\n",
       "      <td>0.0</td>\n",
       "      <td>0.0</td>\n",
       "      <td>0.0</td>\n",
       "      <td>0.0</td>\n",
       "      <td>0.0</td>\n",
       "      <td>0.0</td>\n",
       "      <td>0.0</td>\n",
       "    </tr>\n",
       "    <tr>\n",
       "      <th>3</th>\n",
       "      <td>0.0</td>\n",
       "      <td>0.0</td>\n",
       "      <td>0.0</td>\n",
       "      <td>0.0</td>\n",
       "      <td>0.0</td>\n",
       "      <td>0.0</td>\n",
       "      <td>0.0</td>\n",
       "      <td>0.0</td>\n",
       "      <td>0.0</td>\n",
       "      <td>0.0</td>\n",
       "      <td>...</td>\n",
       "      <td>0.0</td>\n",
       "      <td>0.0</td>\n",
       "      <td>0.0</td>\n",
       "      <td>0.0</td>\n",
       "      <td>0.0</td>\n",
       "      <td>0.0</td>\n",
       "      <td>0.0</td>\n",
       "      <td>0.0</td>\n",
       "      <td>0.0</td>\n",
       "      <td>0.0</td>\n",
       "    </tr>\n",
       "    <tr>\n",
       "      <th>4</th>\n",
       "      <td>0.0</td>\n",
       "      <td>0.0</td>\n",
       "      <td>0.0</td>\n",
       "      <td>0.0</td>\n",
       "      <td>0.0</td>\n",
       "      <td>0.0</td>\n",
       "      <td>0.0</td>\n",
       "      <td>0.0</td>\n",
       "      <td>0.0</td>\n",
       "      <td>0.0</td>\n",
       "      <td>...</td>\n",
       "      <td>0.0</td>\n",
       "      <td>0.0</td>\n",
       "      <td>0.0</td>\n",
       "      <td>0.0</td>\n",
       "      <td>0.0</td>\n",
       "      <td>0.0</td>\n",
       "      <td>0.0</td>\n",
       "      <td>0.0</td>\n",
       "      <td>0.0</td>\n",
       "      <td>0.0</td>\n",
       "    </tr>\n",
       "  </tbody>\n",
       "</table>\n",
       "<p>5 rows × 6292 columns</p>\n",
       "</div>"
      ],
      "text/plain": [
       "UserID          0     1     2     3     4     5     6     7     8     9     \\\n",
       "BookID_Encoded                                                               \n",
       "0                0.0   0.0   0.0   0.0   0.0   0.0   0.0   0.0   0.0   0.0   \n",
       "1                0.0   0.0   0.0   0.0   0.0   0.0   0.0   0.0   0.0   0.0   \n",
       "2                0.0   0.0   0.0   0.0   0.0   0.0   0.0   0.0   0.0   0.0   \n",
       "3                0.0   0.0   0.0   0.0   0.0   0.0   0.0   0.0   0.0   0.0   \n",
       "4                0.0   0.0   0.0   0.0   0.0   0.0   0.0   0.0   0.0   0.0   \n",
       "\n",
       "UserID          ...  6282  6283  6284  6285  6286  6287  6288  6289  6290  \\\n",
       "BookID_Encoded  ...                                                         \n",
       "0               ...   0.0   0.0   0.0   0.0   0.0   0.0   0.0   0.0   0.0   \n",
       "1               ...   0.0   0.0   0.0   0.0   0.0   0.0   0.0   0.0   0.0   \n",
       "2               ...   0.0   0.0   0.0   0.0   0.0   0.0   0.0   0.0   0.0   \n",
       "3               ...   0.0   0.0   0.0   0.0   0.0   0.0   0.0   0.0   0.0   \n",
       "4               ...   0.0   0.0   0.0   0.0   0.0   0.0   0.0   0.0   0.0   \n",
       "\n",
       "UserID          6291  \n",
       "BookID_Encoded        \n",
       "0                0.0  \n",
       "1                0.0  \n",
       "2                0.0  \n",
       "3                0.0  \n",
       "4                0.0  \n",
       "\n",
       "[5 rows x 6292 columns]"
      ]
     },
     "execution_count": 19,
     "metadata": {},
     "output_type": "execute_result"
    }
   ],
   "source": [
    "# Reference\n",
    "# https://datascienceplus.com/building-a-book-recommender-system-the-basics-knn-and-matrix-factorization/\n",
    "# Practice Lab 07\n",
    "\n",
    "books_matrix = books_encoded_no_dup.pivot(index = 'BookID_Encoded', columns = 'UserID', values = 'Book-Rating').fillna(0)\n",
    "print(books_matrix.shape)\n",
    "books_matrix.head()"
   ]
  },
  {
   "cell_type": "markdown",
   "metadata": {
    "colab_type": "text",
    "id": "4RwLx90KYb5R"
   },
   "source": [
    "**2.2 Build a sparse matrix for books data and show it. (0.45 points)**"
   ]
  },
  {
   "cell_type": "code",
   "execution_count": 20,
   "metadata": {
    "colab": {},
    "colab_type": "code",
    "id": "uwVtesasYb5U"
   },
   "outputs": [
    {
     "name": "stdout",
     "output_type": "stream",
     "text": [
      "Sparse matrix:\n",
      "  (1, 6228)\t5.0\n",
      "  (2, 365)\t7.0\n",
      "  (2, 5110)\t9.0\n",
      "  (2, 5226)\t10.0\n",
      "  (2, 6209)\t10.0\n",
      "  (3, 91)\t7.0\n",
      "  (3, 135)\t8.0\n",
      "  (3, 139)\t10.0\n",
      "  (3, 258)\t9.0\n",
      "  (3, 429)\t6.0\n",
      "  (3, 760)\t5.0\n",
      "  (3, 821)\t6.0\n",
      "  (3, 869)\t9.0\n",
      "  (3, 984)\t10.0\n",
      "  (3, 1328)\t5.0\n",
      "  (3, 1425)\t10.0\n",
      "  (3, 1781)\t2.0\n",
      "  (3, 1815)\t9.0\n",
      "  (3, 1820)\t9.0\n",
      "  (3, 1951)\t8.0\n",
      "  (3, 2360)\t8.0\n",
      "  (3, 2384)\t8.0\n",
      "  (3, 2449)\t9.0\n",
      "  (3, 2468)\t7.0\n",
      "  (3, 2956)\t5.0\n",
      "  :\t:\n",
      "  (333, 3411)\t4.0\n",
      "  (333, 3416)\t1.0\n",
      "  (333, 3433)\t8.0\n",
      "  (333, 3445)\t5.0\n",
      "  (333, 3450)\t2.0\n",
      "  (333, 3456)\t4.0\n",
      "  (333, 3461)\t8.0\n",
      "  (333, 3491)\t2.0\n",
      "  (333, 3497)\t1.0\n",
      "  (333, 3501)\t4.0\n",
      "  (333, 3518)\t8.0\n",
      "  (333, 3519)\t3.0\n",
      "  (333, 3527)\t7.0\n",
      "  (333, 3543)\t7.0\n",
      "  (333, 3546)\t9.0\n",
      "  (333, 3547)\t7.0\n",
      "  (333, 3573)\t5.0\n",
      "  (333, 3575)\t1.0\n",
      "  (333, 3581)\t7.0\n",
      "  (333, 3597)\t3.0\n",
      "  (333, 3602)\t6.0\n",
      "  (333, 3666)\t3.0\n",
      "  (333, 3668)\t9.0\n",
      "  (333, 6250)\t2.0\n",
      "  (333, 6277)\t9.0\n"
     ]
    }
   ],
   "source": [
    "# Reference - Practice Lab 07\n",
    "# transform matrix to scipy sparse matrix\n",
    "from scipy.sparse import csr_matrix\n",
    "\n",
    "books_matrix_sparse = csr_matrix(books_matrix.values)\n",
    "print(f\"Sparse matrix:\\n{books_matrix_sparse}\")"
   ]
  },
  {
   "cell_type": "markdown",
   "metadata": {
    "colab_type": "text",
    "id": "PrKKbiRJYb5g"
   },
   "source": [
    "**2.3 Build and train two different KNN models (use cosine metric for similarity for both) but with different n_neighbours, that is 2 and 10. Recommend top 5 books based on your favourite one from 2.0 in both cases (1 points)**"
   ]
  },
  {
   "cell_type": "code",
   "execution_count": 21,
   "metadata": {
    "colab": {},
    "colab_type": "code",
    "id": "bHN1hcjOYb5h"
   },
   "outputs": [],
   "source": [
    "from sklearn.neighbors import NearestNeighbors\n",
    "\n",
    "model_knn_1 = NearestNeighbors(metric = 'cosine', algorithm = 'brute', n_neighbors=2)\n",
    "model_knn_2 = NearestNeighbors(metric = 'cosine', algorithm = 'brute', n_neighbors=10)"
   ]
  },
  {
   "cell_type": "code",
   "execution_count": 22,
   "metadata": {},
   "outputs": [
    {
     "data": {
      "text/plain": [
       "NearestNeighbors(algorithm='brute', leaf_size=30, metric='cosine',\n",
       "                 metric_params=None, n_jobs=None, n_neighbors=2, p=2,\n",
       "                 radius=1.0)"
      ]
     },
     "execution_count": 22,
     "metadata": {},
     "output_type": "execute_result"
    }
   ],
   "source": [
    "model_knn_1.fit(books_matrix_sparse)"
   ]
  },
  {
   "cell_type": "code",
   "execution_count": 23,
   "metadata": {},
   "outputs": [
    {
     "data": {
      "text/plain": [
       "NearestNeighbors(algorithm='brute', leaf_size=30, metric='cosine',\n",
       "                 metric_params=None, n_jobs=None, n_neighbors=10, p=2,\n",
       "                 radius=1.0)"
      ]
     },
     "execution_count": 23,
     "metadata": {},
     "output_type": "execute_result"
    }
   ],
   "source": [
    "model_knn_2.fit(books_matrix_sparse)"
   ]
  },
  {
   "cell_type": "code",
   "execution_count": 24,
   "metadata": {},
   "outputs": [
    {
     "data": {
      "text/html": [
       "<div>\n",
       "<style scoped>\n",
       "    .dataframe tbody tr th:only-of-type {\n",
       "        vertical-align: middle;\n",
       "    }\n",
       "\n",
       "    .dataframe tbody tr th {\n",
       "        vertical-align: top;\n",
       "    }\n",
       "\n",
       "    .dataframe thead th {\n",
       "        text-align: right;\n",
       "    }\n",
       "</style>\n",
       "<table border=\"1\" class=\"dataframe\">\n",
       "  <thead>\n",
       "    <tr style=\"text-align: right;\">\n",
       "      <th></th>\n",
       "      <th>BookID_Encoded</th>\n",
       "      <th>BookTitle</th>\n",
       "    </tr>\n",
       "  </thead>\n",
       "  <tbody>\n",
       "    <tr>\n",
       "      <th>0</th>\n",
       "      <td>124</td>\n",
       "      <td>Flesh Tones: A Novel</td>\n",
       "    </tr>\n",
       "    <tr>\n",
       "      <th>1</th>\n",
       "      <td>252</td>\n",
       "      <td>Rites of Passage</td>\n",
       "    </tr>\n",
       "    <tr>\n",
       "      <th>2</th>\n",
       "      <td>295</td>\n",
       "      <td>The Notebook</td>\n",
       "    </tr>\n",
       "    <tr>\n",
       "      <th>3</th>\n",
       "      <td>150</td>\n",
       "      <td>Help!: Level 1</td>\n",
       "    </tr>\n",
       "    <tr>\n",
       "      <th>4</th>\n",
       "      <td>271</td>\n",
       "      <td>The Amsterdam Connection : Level 4 (Cambridge ...</td>\n",
       "    </tr>\n",
       "  </tbody>\n",
       "</table>\n",
       "</div>"
      ],
      "text/plain": [
       "   BookID_Encoded                                          BookTitle\n",
       "0             124                               Flesh Tones: A Novel\n",
       "1             252                                   Rites of Passage\n",
       "2             295                                       The Notebook\n",
       "3             150                                     Help!: Level 1\n",
       "4             271  The Amsterdam Connection : Level 4 (Cambridge ..."
      ]
     },
     "execution_count": 24,
     "metadata": {},
     "output_type": "execute_result"
    }
   ],
   "source": [
    "# Create new dataframe for\n",
    "# Reference\n",
    "# https://pandas.pydata.org/pandas-docs/stable/reference/api/pandas.concat.html\n",
    "# https://pandas.pydata.org/pandas-docs/stable/reference/api/pandas.DataFrame.drop.html\n",
    "books_encoded_title = pd.concat([books_encoded, books], join=\"outer\", axis = 1)\n",
    "books_encoded_title = books_encoded_title[['BookID_Encoded', 'BookTitle']]\n",
    "books_encoded_title = books_encoded_title.drop_duplicates()\n",
    "books_encoded_title = books_encoded_title.reset_index()\n",
    "books_encoded_title = books_encoded_title.drop(columns = ['index'])\n",
    "books_encoded_title.head()"
   ]
  },
  {
   "cell_type": "code",
   "execution_count": 25,
   "metadata": {},
   "outputs": [
    {
     "data": {
      "text/plain": [
       "{'007 El Mundo Nunca Es Suficiente': 0,\n",
       " '4000 Vornamen aus aller Welt. Von Alexander bis Zoe.': 1,\n",
       " \"A Kid's Guide to How to Save the Planet (Camelot world)\": 2,\n",
       " 'A Kiss of Shadows (Meredith Gentry Novels (Paperback))': 3,\n",
       " 'A Painted House': 4,\n",
       " 'A String in the Harp': 5,\n",
       " 'A Wrinkle In Time': 6,\n",
       " 'Adressat unbekannt.': 7,\n",
       " 'Advanced Photography, Sixth Edition': 8,\n",
       " 'Alaska': 9,\n",
       " \"Alice's Adventures in Wonderland and Through the Looking Glass\": 10,\n",
       " 'Alone with the Dead (Joe Keough Mysteries (Paperback))': 11,\n",
       " 'Along Came a Spider (Alex Cross Novels)': 12,\n",
       " 'Alte Freunde, neue Feinde. Ein Fall f�?¼r Bernhard Gunther.': 13,\n",
       " 'Anna Karenina': 14,\n",
       " 'Apricots on the Nile: A Memoir with Recipes': 15,\n",
       " 'Artemis Fowl (Artemis Fowl, Book 1)': 16,\n",
       " 'Artemis Fowl.': 17,\n",
       " 'Asche zu Asche.': 18,\n",
       " 'At the Edge': 19,\n",
       " 'Attack Of The Deranged Mutant Killer Snow Goons': 20,\n",
       " 'Auf Ehre und Gewissen. Roman.': 21,\n",
       " 'Auf der Suche nach dem verlorenen Gl�?¼ck.': 22,\n",
       " 'Auf d�?¼nnem Eis.': 23,\n",
       " \"BD Pirate : Cupidon, tome 2 : Philtre d'amour\": 24,\n",
       " 'BD Pirate : Cupidon, tome 3 : Baiser de feu': 25,\n",
       " \"Back When We Were Grownups : A Novel (Ballantine Reader's Circle)\": 26,\n",
       " 'Battle Angel Alita - Fallen Angel (Battle Angel Alita , No.8)': 27,\n",
       " 'Beim Naechsten Mann Wird Alles (Frau in Der Gesellschaft)': 28,\n",
       " 'Benedict Canyon': 29,\n",
       " 'Besiegt vom Sturm der Leidenschaft.': 30,\n",
       " \"Big Girls Don't Cry\": 31,\n",
       " 'Birdsong: A Novel of Love and War': 32,\n",
       " 'Black Box (Vintage International)': 33,\n",
       " 'Blackwood Farm (Rice, Anne, Vampire Chronicles.)': 34,\n",
       " 'Blooded (Buffy the Vampire Slayer, Book 5)': 35,\n",
       " 'Bloomability': 36,\n",
       " \"Bridget Jones's Diary\": 37,\n",
       " \"Bridget Jones's Diary: Music from the Motion Picture\": 38,\n",
       " 'Bridget Jones:Sobreviviré': 39,\n",
       " 'Briefe der Liebe.': 40,\n",
       " 'Buzon De Tiempo': 41,\n",
       " 'CLOUT': 42,\n",
       " 'Calvin and Hobbes': 43,\n",
       " 'Canone inverso: Romanzo (Scrittori italiani)': 44,\n",
       " 'Change Your Job, Change Your Life: High Impact Strategies for Finding Great Jobs in the Decade Ahead (Change Your Job Change Your Life, 7th ed)': 45,\n",
       " \"Childhood's End\": 46,\n",
       " 'Cinco Semanas En Globo (Espasa Bolsillo)': 47,\n",
       " 'Close to the Bone': 48,\n",
       " 'Close to the Knives': 49,\n",
       " 'Codice: Racconto (Varianti)': 50,\n",
       " \"Comp Murphy's Law\": 51,\n",
       " \"Contes De Ma Mere L'Oye\": 52,\n",
       " 'Crows': 53,\n",
       " 'Cuentos Inconclusos': 54,\n",
       " 'C�?¤sar und Kleopatra. Die letzten Tage der R�?¶mischen Republik.': 55,\n",
       " 'Dark Angel (Casteel)': 56,\n",
       " 'Dark Paradise': 57,\n",
       " 'Das Haus auf den Klippen.': 58,\n",
       " 'Das Lacheln der Fortuna: Historischer Roman': 59,\n",
       " 'Das Schwarze Auge. Aus dunkler Tiefe.': 60,\n",
       " 'Das Superwieb': 61,\n",
       " 'Das bizarre Sexualleben der Tiere. Ein popul�?¤res Lexikon von Aal bis Zebra.': 62,\n",
       " 'Das geheime ABC der Toten.': 63,\n",
       " 'Dear Children of the Earth: A Letter from Home': 64,\n",
       " 'Demon in My View (Laurel-Leaf Books)': 65,\n",
       " 'Denn keiner ist ohne Schuld.': 66,\n",
       " 'Denn sie betr�?¼gt man nicht.': 67,\n",
       " 'Der Bronzeh�?¤ndler.': 68,\n",
       " 'Der Englishche Patient': 69,\n",
       " 'Der Geschichtenverk�?¤ufer.': 70,\n",
       " 'Der Goldene Kompass / The Golden Compass': 71,\n",
       " 'Der Herr der Ringe. Anh�?¤nge und Register.': 72,\n",
       " 'Der Kleine Hobbit': 73,\n",
       " 'Der Regenmacher.': 74,\n",
       " 'Der Spion und die Zauberin.': 75,\n",
       " 'Der Stein der Kelten.': 76,\n",
       " 'Der Sterne Tennisb�?¤lle.': 77,\n",
       " 'Der Tag X.': 78,\n",
       " 'Der Unsichtbare. ( Ab 13 J.).': 79,\n",
       " 'Der Unterh�?¤ndler.': 80,\n",
       " 'Des bateaux dans la nuit': 81,\n",
       " 'Desert Flower : The Extraordinary Journey Of A Desert Nomad': 82,\n",
       " 'Deux Grands Ducs Dans La Famille (Collection Des Deux Solitudes: Jeunesse)': 83,\n",
       " 'Die Benachteiligung erfolgt durch die Post. Stilbl�?¼ten aus Inseraten und Pressenotizen.': 84,\n",
       " 'Die Chirurgin.': 85,\n",
       " 'Die Dinge des Lebens.': 86,\n",
       " 'Die Firma. Roman.': 87,\n",
       " 'Die Gefahrten I': 88,\n",
       " 'Die Hirnk�?¶nigin.': 89,\n",
       " 'Die H�?¤upter meiner Lieben.': 90,\n",
       " 'Die Jury. Roman.': 91,\n",
       " 'Die Krone der Welt.': 92,\n",
       " 'Die Kunst des Verschwindens.': 93,\n",
       " 'Die M�?¤dchen mit den dunklen Augen.': 94,\n",
       " 'Die Scheibenwelt. Zwei Romane in einem Band. Das Licht der Phantasie / Das Erbe des Zauberers.': 95,\n",
       " 'Die St�?¶renfrieds. Geschichten von Leo und Paulina.': 96,\n",
       " 'Die Teufelin. Roman.': 97,\n",
       " 'Die Tochter der W�?¤lder.': 98,\n",
       " 'Die Weiss Lowin / Contemporary German Lit': 99,\n",
       " 'Die Welle': 100,\n",
       " 'Die Wiederkehr Des Konigs III': 101,\n",
       " 'Die Wolfsfrau. Die Kraft der weiblichen Urinstinkte.': 102,\n",
       " 'Die Zauberfrau.': 103,\n",
       " 'Die Zauberin von Ruwenda.': 104,\n",
       " 'Die Zwei Turme II': 105,\n",
       " 'Die rote Antilope.': 106,\n",
       " 'Die siebte Gei�?�?el.': 107,\n",
       " 'Die zweite Haut.': 108,\n",
       " 'Durch Teebaum�?¶l gesund und sch�?¶n.': 109,\n",
       " 'East, West': 110,\n",
       " 'Ein Fall f�?¼r Kay Scarpetta / Ein Mord f�?¼r Kay Scarpetta. Zwei Romane in einem Band.': 111,\n",
       " 'Ein Liebhaber zuviel ist noch zu wenig.': 112,\n",
       " 'Ein Mann f�?¼r jede Tonart. Roman. ( Die Frau in der Gesellschaft).': 113,\n",
       " 'El Diaro De Bridget Jones': 114,\n",
       " 'El Elogio de La Sombra': 115,\n",
       " 'El Perfume: Historia De UN Asesino/Perfume : The Story of a Murderer': 116,\n",
       " 'El Principito': 117,\n",
       " \"Ender's Game (Ender Wiggins Saga (Paperback))\": 118,\n",
       " 'Endlich Nichtraucher.': 119,\n",
       " 'Escarabajos Vuelan Al Atardecer, Los': 120,\n",
       " 'Estação Carandiru': 121,\n",
       " 'False Memory': 122,\n",
       " 'Field of Dishonor (Honor Harrington Series, Book 4)': 123,\n",
       " 'Flesh Tones: A Novel': 124,\n",
       " 'Flight of Eagles': 125,\n",
       " 'Forbidden Forest: The Story of Little John and Robin Hood': 126,\n",
       " 'Frankenstein (Dover Thrift Editions)': 127,\n",
       " 'French Cuisine for All': 128,\n",
       " 'Garzanti - Gli Elefanti: Altre Inquisizioni': 129,\n",
       " 'Gates of Paradise (Casteel)': 130,\n",
       " 'Gevatter Tod. Roman. ( Fantasy).': 131,\n",
       " 'Girl Coming in for a Landing': 132,\n",
       " 'Go Ask Alice (Avon/Flare Book)': 133,\n",
       " 'God Game': 134,\n",
       " \"Going Inside: A Couple's Journey of Renewal into the North\": 135,\n",
       " 'Goldmann: Feuer in Berlin': 136,\n",
       " 'Gratsch.': 137,\n",
       " 'Great British Ghosts (Longman Structural Readers: Background)': 138,\n",
       " 'Growing Wings': 139,\n",
       " 'Harold and the Purple Crayon 50th Anniversary Edition (Purple Crayon Books)': 140,\n",
       " 'Harry Potter Schoolbooks: Quidditch Through the Ages and Fantastic Beasts and Where to Find Them': 141,\n",
       " 'Harry Potter Und Der Feuerkelch': 142,\n",
       " 'Harry Potter and the Order of the Phoenix (Book 5)': 143,\n",
       " 'Harry Potter and the Prisoner of Azkaban': 144,\n",
       " \"Harry Potter and the Sorcerer's Stone Movie Poster Book\": 145,\n",
       " 'Harry Potter und der Gefangene von Azkaban': 146,\n",
       " 'Harry Potter und der Stein der Weisen': 147,\n",
       " 'Harry Potter und die Kammer des Schreckens': 148,\n",
       " 'Hasenherz. Roman.': 149,\n",
       " 'Help!: Level 1': 150,\n",
       " 'Henry der Held.': 151,\n",
       " 'High Stakes': 152,\n",
       " 'Hitlers Kinder.': 153,\n",
       " 'Hoot (Newbery Honor Book)': 154,\n",
       " 'House of the Sun (Shadowrun)': 155,\n",
       " 'How Stella Got Her Groove Back': 156,\n",
       " 'How To Win Friends And Influence People': 157,\n",
       " 'How to Deal With Difficult People': 158,\n",
       " 'How to Deal With Your Parents: When They Still Treat You Like a Child': 159,\n",
       " 'Ice Blade: Snow Country (Ice Blade)': 160,\n",
       " 'Ich liebe Dich!: Ein Eisenbahnroman mit 66 Intermezzos': 161,\n",
       " 'Ich, Prinzessin aus dem Hause Al Saud. Ein Leben hinter tausend Schleiern.': 162,\n",
       " 'Il birraio di Preston (La memoria)': 163,\n",
       " 'Im Angesicht des Feindes.': 164,\n",
       " 'Im Eishaus.': 165,\n",
       " 'Im Fr�?¼hling singt zum letztenmal die Lerche.': 166,\n",
       " 'Im Keller.': 167,\n",
       " 'Im Netz der Spinnen. Videokill.': 168,\n",
       " 'Im Schatten der Lilie. Die Erinnerungen der Eleonore von Aquitanien.': 169,\n",
       " 'In Cold Blood (Vintage International)': 170,\n",
       " 'Inspektor Jury bricht das Eis. Roman.': 171,\n",
       " 'Inspektor Jury k�?¼�?�?t die Muse. Roman.': 172,\n",
       " 'Invitacion a la Etica': 173,\n",
       " 'Isabelle Eberhardt': 174,\n",
       " \"Iznogoud, tome 2 : Les complots d'Iznogoud\": 175,\n",
       " 'Jane Eyre (Dover Thrift Editions)': 176,\n",
       " 'Jean-Edern Hallier': 177,\n",
       " 'Journey Through Nature (Journey Through Series)': 178,\n",
       " 'Kaltgestellt.': 179,\n",
       " 'Katie.com': 180,\n",
       " 'Keiner werfe den ersten Stein. Roman.': 181,\n",
       " 'Kim (Puffin Classics-the Essential Collection)': 182,\n",
       " \"King Solomon's Mines (Tor Classics)\": 183,\n",
       " \"L'Appel de la for�?ªt\": 184,\n",
       " \"L'Orage\": 185,\n",
       " 'La Citadelle Du Vertige': 186,\n",
       " 'La Fiesta De Ralph': 187,\n",
       " 'La Testa Fra Le Nuvole': 188,\n",
       " 'La casa de los espíritus': 189,\n",
       " 'La hija del Caníbal': 190,\n",
       " 'La petite �?©cuy�?¨re a caft�?©': 191,\n",
       " 'Le Grand Meaulnes (Classiques De Poche)': 192,\n",
       " \"Le Parfum : Histoire d'un meurtrier\": 193,\n",
       " 'Le Petit Prince. (Franz�?¶sische Ausgabe). (Lernmaterialien)': 194,\n",
       " 'Le chateau des carpathes': 195,\n",
       " 'Les Confessions: Livres I �?\\xa0 IV': 196,\n",
       " 'Les Particules Elementaires': 197,\n",
       " 'Les Six Compagnons �?\\xa0 Scotland Yard': 198,\n",
       " \"Les Tuniques bleues, tome 1 : un chariot dans l'ouest\": 199,\n",
       " 'Les derniers g�?©ants': 200,\n",
       " \"Les derniers po�?¨mes d'amour\": 201,\n",
       " 'Lieber Sport als Mord.': 202,\n",
       " 'Lightning': 203,\n",
       " 'Little Altars Everywhere': 204,\n",
       " 'Live aus Bagdad. Das Tagebuch einer Kriegs-Reporterin.': 205,\n",
       " 'Los Calusari/the Calusari (Coleccion \\\\\"Expediente X\\\\\"/the X Files Series)': 206,\n",
       " 'Los Trapos Sucios - Manolito Gafotas': 207,\n",
       " 'Love Story': 208,\n",
       " \"Love in the Time of Cholera (Everyman's Library (Cloth))\": 209,\n",
       " 'L�?©onard, tome 1 : L�?©onard est un g�?©nie': 210,\n",
       " 'Make Them Cry': 211,\n",
       " 'Manhattan Hunt Club': 212,\n",
       " 'Matilda': 213,\n",
       " 'Maudit Manege': 214,\n",
       " 'Mit dem K�?¼hlschrank durch Irland.': 215,\n",
       " 'Moby Dick (Coleccion)': 216,\n",
       " 'Moby Dick. ( Ab 12 J.).': 217,\n",
       " 'Mon bel oranger': 218,\n",
       " 'Moon Handbooks: Hawaii': 219,\n",
       " 'Move to Strike': 220,\n",
       " 'Murder at the Margin': 221,\n",
       " 'My \\\\\"Star Trek\\\\\" Memories': 222,\n",
       " 'Mycroft Holmes Contra La Hermandad': 223,\n",
       " 'Nachtschicht.': 224,\n",
       " 'Nadie Es Perfecto (Narrativa Actual)': 225,\n",
       " 'Night Sins': 226,\n",
       " 'Nomadentochter.': 227,\n",
       " 'Nordermoor': 228,\n",
       " 'Nur der Tod ist ohne Makel.': 229,\n",
       " 'O Pioneers! (Bantam Classic)': 230,\n",
       " 'Oceano Mare': 231,\n",
       " 'Of Mice and Men. Text and Study Aids. (Lernmaterialien)': 232,\n",
       " 'One': 233,\n",
       " \"One Flew over the Cuckoo's Nest (Penguin Classics)\": 234,\n",
       " 'One Thousand Chestnut Trees': 235,\n",
       " 'Overnight (Fear Street) : Overnight (Fear Street Series)': 236,\n",
       " 'PERFUME : PERFUME': 237,\n",
       " 'Pay Dirt (Mrs. Murphy Mysteries (Paperback))': 238,\n",
       " \"Percevan, tome 1 : Les Trois Etoiles d'Ingaar\": 239,\n",
       " 'Piccoli Equivoci Senza Importanza: Piccoli Equivoci Senza Importanza': 240,\n",
       " 'Politically Correct Bedtime Stories: Modern Tales for Our Life and Times': 241,\n",
       " 'Por los pelos': 242,\n",
       " 'Prinz der Kelche.': 243,\n",
       " 'Q': 244,\n",
       " 'Quidditch Through the Ages': 245,\n",
       " 'Rabbit in Ruhe.': 246,\n",
       " 'Rand.': 247,\n",
       " 'Random Acts of Kindness': 248,\n",
       " 'Reif f�?¼r die Insel. England f�?¼r Anf�?¤nger und Fortgeschrittene.': 249,\n",
       " 'Reise nach Ixtlan. Die Lehre des Don Juan.': 250,\n",
       " 'Richard Brautigan : A Confederate General from Big Sur, Dreaming of Babylon, and the Hawkline Monster (Three Books in the Manner of Their Original ed)': 251,\n",
       " 'Rites of Passage': 252,\n",
       " 'Roan (Blake, Jennifer, Louisiana Gentlemen Series.)': 253,\n",
       " 'Round about Midnight: A Portrait of Miles Davis': 254,\n",
       " 'Saemtliche Erzaehlungen': 255,\n",
       " 'Saving Private Ryan': 256,\n",
       " 'Schlafes Bruder': 257,\n",
       " 'See Jane Run': 258,\n",
       " 'Shadowland': 259,\n",
       " 'Siddharta Romanzo Versione Di M Mila': 260,\n",
       " 'Skin and Other Stories (Now in Speak!)': 261,\n",
       " 'Soul Survivor': 262,\n",
       " 'Southampton Row (Charlotte &amp': 263,\n",
       " 'Speaking in Tongues': 264,\n",
       " 'Storm Surge: A Quin St. James and Mike McCleary Mystery': 265,\n",
       " 'Stupeur Et Tremblements': 266,\n",
       " 'Sturm der Liebe.': 267,\n",
       " 'Surviving Sam': 268,\n",
       " 'Sushi for Beginners : A Novel (Keyes, Marian)': 269,\n",
       " 'Tales of the Greek Heroes: Retold from the Ancient Authors (Puffin Classics)': 270,\n",
       " 'The Amsterdam Connection : Level 4 (Cambridge English Readers)': 271,\n",
       " \"The Best of Bombeck: At Wit's End, Just Wait Until You Have Children of Your Own, I Lost Everything in the Post-Natal Depression\": 272,\n",
       " 'The Boy Next Door': 273,\n",
       " 'The Circle And The Cross 1: Playing Of': 274,\n",
       " \"The Complete Idiot's Guide to the Microsoft Network\": 275,\n",
       " 'The Complete Idiots Guide to Getting the Job You Want (W/2 Discs)': 276,\n",
       " 'The Contest': 277,\n",
       " 'The Coral Island (Puffin Classics)': 278,\n",
       " 'The Da Vinci Code': 279,\n",
       " 'The Dark Half': 280,\n",
       " 'The Girl Who Loved Tom Gordon : A Novel': 281,\n",
       " 'The Golden Rule of Schmoozing': 282,\n",
       " 'The Holiday Present': 283,\n",
       " 'The Jester': 284,\n",
       " 'The Joy Luck Club': 285,\n",
       " 'The Keys to the Street': 286,\n",
       " 'The King of Torts': 287,\n",
       " 'The Last Book in the Universe': 288,\n",
       " 'The Last Time They Met : A Novel': 289,\n",
       " 'The Law of Love': 290,\n",
       " 'The Lovely Bones: A Novel': 291,\n",
       " 'The MouseDriver Chronicles': 292,\n",
       " 'The Music of Chance': 293,\n",
       " 'The Name of the Rose': 294,\n",
       " 'The Notebook': 295,\n",
       " 'The Number Devil: A Mathematical Adventure': 296,\n",
       " 'The Picture of Dorian Gray': 297,\n",
       " 'The Pillars of the Earth': 298,\n",
       " 'The Power to Harm: Mind, Medicine, and Murder on Trial': 299,\n",
       " 'The Rebel Angels': 300,\n",
       " \"The Restaurant at the End of the Universe (Hitchhiker's Trilogy (Paperback))\": 301,\n",
       " 'The Riddle of Scheherazade: And Other Amazing Puzzles': 302,\n",
       " 'The Sandy Bottom Orchestra': 303,\n",
       " 'The Second Summer of the Sisterhood': 304,\n",
       " \"The Strange Case of Dr. Jekyll and Mr. Hyde and Weir of Hermiston: And, Weir of Hermiston (Oxford World's Classics)\": 305,\n",
       " 'The Tower at Stony Wood': 306,\n",
       " 'The Watsons Go to Birmingham - 1963 (Yearling Newbery)': 307,\n",
       " 'The Wonderful Story of Henry Sugar and Six More': 308,\n",
       " 'The X-Files: Goblins': 309,\n",
       " 'The X-Files: Ground Zero': 310,\n",
       " 'The Year of Sharing (Oxford Bookworms)': 311,\n",
       " 'Tod im wei�?�?en H�?¤ubchen.': 312,\n",
       " \"Tom Clancy's Op- Center. Spiegelbild.\": 313,\n",
       " 'Toxin': 314,\n",
       " 'Ubu Roi*': 315,\n",
       " \"Un Amore Dell'altro Mondo\": 316,\n",
       " 'Un Bon Petit Diable': 317,\n",
       " \"Un Giorno Dopo L'altro\": 318,\n",
       " 'Undank ist der V�?¤ter Lohn.': 319,\n",
       " 'Ungarn.': 320,\n",
       " 'Uther (Camulod Chronicles)': 321,\n",
       " 'Vater Himmel, Mutter Erde.': 322,\n",
       " 'Verraten und verkauft. Roman.': 323,\n",
       " 'Vieja Nueva York': 324,\n",
       " 'Waiting for Godot': 325,\n",
       " 'Waiting to Exhale': 326,\n",
       " 'Walk Two Moons': 327,\n",
       " 'Was Mir Wichtig War: Letzte Aufzeichnungen Und Gesprache': 328,\n",
       " 'Wasted : A Memoir of Anorexia and Bulimia': 329,\n",
       " \"What's That Pig Outdoors: A Memoir of Deafness\": 330,\n",
       " 'Whirlwind (The X-Files)': 331,\n",
       " 'Whispers': 332,\n",
       " 'Wild Animus': 333,\n",
       " 'Wilt: Tom Sharpe': 334,\n",
       " '¡No bajes al sótano! (Escalofríos No. 2)': 335}"
      ]
     },
     "execution_count": 25,
     "metadata": {},
     "output_type": "execute_result"
    }
   ],
   "source": [
    "# create mapper from book title to index\n",
    "# book: index\n",
    "book_to_idx = {\n",
    "    book: i for i, book in enumerate(list(books_encoded_title.set_index('BookID_Encoded').loc[books_matrix.index].BookTitle))\n",
    "}\n",
    "book_to_idx\n"
   ]
  },
  {
   "cell_type": "code",
   "execution_count": 26,
   "metadata": {},
   "outputs": [],
   "source": [
    "# utils import\n",
    "from fuzzywuzzy import fuzz\n",
    "\n",
    "def fuzzy_matching(mapper, fav_book, verbose=True):\n",
    "    \"\"\"\n",
    "    return the closest match via fuzzy ratio. If no match found, return None\n",
    "    \n",
    "    Parameters\n",
    "    ----------    \n",
    "    mapper: dict, map book title name to index of the book in data\n",
    "\n",
    "    fav_book: str, name of user input book\n",
    "    \n",
    "    verbose: bool, print log if True\n",
    "\n",
    "    Return\n",
    "    ------\n",
    "    index of the closest match\n",
    "    \"\"\"\n",
    "    match_tuple = []\n",
    "    # get match\n",
    "    for title, idx in mapper.items():\n",
    "        ratio = fuzz.ratio(title.lower(), fav_book.lower())\n",
    "        if ratio >= 60:\n",
    "            match_tuple.append((title, idx, ratio))\n",
    "            \n",
    "    # sort\n",
    "    match_tuple = sorted(match_tuple, key=lambda x: x[2])[::-1]\n",
    "    if not match_tuple:\n",
    "        print('Oops! No match is found')\n",
    "        return\n",
    "    if verbose:\n",
    "        print('Found possible matches in our database: {0}\\n'.format([x[0] for x in match_tuple]))\n",
    "    return match_tuple[0][1]\n",
    "\n",
    "\n",
    "\n",
    "def make_recommendation(model_knn, data, mapper, fav_book, n_recommendations):\n",
    "    \"\"\"\n",
    "    return top n similar book recommendations based on user's input book\n",
    "\n",
    "\n",
    "    Parameters\n",
    "    ----------\n",
    "    model_knn: sklearn model, knn model\n",
    "\n",
    "    data: book-user matrix\n",
    "\n",
    "    mapper: dict, map book title name to index of the book in data\n",
    "\n",
    "    fav_book: str, name of user input book\n",
    "\n",
    "    n_recommendations: int, top n recommendations\n",
    "\n",
    "    Return\n",
    "    ------\n",
    "    list of top n similar book recommendations\n",
    "    \"\"\"\n",
    "    # fit\n",
    "    model_knn.fit(data)\n",
    "    \n",
    "    # get input book index\n",
    "    print('You have input book:', fav_book)\n",
    "    idx = fuzzy_matching(mapper, fav_book, verbose=True)\n",
    "    \n",
    "    # inference\n",
    "    print('Recommendation system start to make inference')\n",
    "    print('......\\n')\n",
    "    distances, indices = model_knn.kneighbors(data[idx], n_neighbors=n_recommendations+1)\n",
    "    # get list of raw idx of recommendations\n",
    "    raw_recommends = \\\n",
    "        sorted(list(zip(indices.squeeze().tolist(), distances.squeeze().tolist())), key=lambda x: x[1])[:0:-1]\n",
    "    # get reverse mapper\n",
    "    reverse_mapper = {v: k for k, v in mapper.items()}\n",
    "    # print recommendations\n",
    "    print('Recommendations for {}:'.format(fav_book))\n",
    "    for i, (idx, dist) in reversed(list(enumerate(raw_recommends))):\n",
    "        #j =i\n",
    "        print('{0}: {1}, with distance of {2}'.format(n_recommendations-i, reverse_mapper[idx], dist))\n",
    "        "
   ]
  },
  {
   "cell_type": "code",
   "execution_count": 27,
   "metadata": {},
   "outputs": [],
   "source": [
    "my_favorite = 'Harry Potter and the Order of the Phoenix (Book 5)'\n",
    "# my_favorite = 'Harry Potter and the Prisoner of Azkaban'\n",
    "# my_favorite = 'How To Win Friends And Influence People'\n",
    "# my_favorite = 'Sushi for Beginners : A Novel (Keyes, Marian)'"
   ]
  },
  {
   "cell_type": "code",
   "execution_count": 28,
   "metadata": {},
   "outputs": [
    {
     "name": "stdout",
     "output_type": "stream",
     "text": [
      "You have input book: Harry Potter and the Order of the Phoenix (Book 5)\n",
      "Found possible matches in our database: ['Harry Potter and the Order of the Phoenix (Book 5)', \"Harry Potter and the Sorcerer's Stone Movie Poster Book\", 'Harry Potter and the Prisoner of Azkaban', 'Harry Potter und der Stein der Weisen']\n",
      "\n",
      "Recommendation system start to make inference\n",
      "......\n",
      "\n",
      "Recommendations for Harry Potter and the Order of the Phoenix (Book 5):\n",
      "1: Moon Handbooks: Hawaii, with distance of 0.9281630286084136\n",
      "2: A Wrinkle In Time, with distance of 0.9367295186553608\n",
      "3: The Second Summer of the Sisterhood, with distance of 0.9397670038835066\n",
      "4: The Da Vinci Code, with distance of 0.9401336850106279\n",
      "5: Quidditch Through the Ages, with distance of 0.9412078850185526\n"
     ]
    }
   ],
   "source": [
    "#TODO - check why the result with different model is exactly same\n",
    "\n",
    "# Recommendation based on KNN model 1\n",
    "make_recommendation(\n",
    "    model_knn=model_knn_1, # trained model (model)\n",
    "    data=books_matrix_sparse, # sparse matrix (data)\n",
    "    fav_book=my_favorite, # fav_book\n",
    "    mapper=book_to_idx, # {book: index} (mapper)\n",
    "    n_recommendations=5) "
   ]
  },
  {
   "cell_type": "code",
   "execution_count": 29,
   "metadata": {},
   "outputs": [
    {
     "name": "stdout",
     "output_type": "stream",
     "text": [
      "You have input book: Harry Potter and the Order of the Phoenix (Book 5)\n",
      "Found possible matches in our database: ['Harry Potter and the Order of the Phoenix (Book 5)', \"Harry Potter and the Sorcerer's Stone Movie Poster Book\", 'Harry Potter and the Prisoner of Azkaban', 'Harry Potter und der Stein der Weisen']\n",
      "\n",
      "Recommendation system start to make inference\n",
      "......\n",
      "\n",
      "Recommendations for Harry Potter and the Order of the Phoenix (Book 5):\n",
      "1: Moon Handbooks: Hawaii, with distance of 0.9281630286084136\n",
      "2: A Wrinkle In Time, with distance of 0.9367295186553608\n",
      "3: The Second Summer of the Sisterhood, with distance of 0.9397670038835066\n",
      "4: The Da Vinci Code, with distance of 0.9401336850106279\n",
      "5: Quidditch Through the Ages, with distance of 0.9412078850185526\n"
     ]
    }
   ],
   "source": [
    "# Recommendation based on KNN model 2\n",
    "make_recommendation(\n",
    "    model_knn=model_knn_2, # trained model (model)\n",
    "    data=books_matrix_sparse, # sparse matrix (data)\n",
    "    fav_book=my_favorite, # fav_book\n",
    "    mapper=book_to_idx, # {book: index} (mapper)\n",
    "    n_recommendations=5)"
   ]
  },
  {
   "cell_type": "markdown",
   "metadata": {
    "colab_type": "text",
    "id": "WCJz_Do9Yb5q"
   },
   "source": [
    "**2.4 Discuss the results you received in both cases. Would you like to read some of the recommended books? Out of 2 or 10 neighbors, which one worked better? (There is no right or wrong answer in this question) (0.25 points)**"
   ]
  },
  {
   "cell_type": "markdown",
   "metadata": {
    "colab_type": "text",
    "id": "2CdPc75QYb5r"
   },
   "source": [
    "<font color='red'> **Answer:**</font>\n",
    "\n",
    "- I would like to read The Da Vinci Code and Quidditch Through the Ages, but not the other books\n",
    "- It give the exact same result with same distance value, so both of models works in same way"
   ]
  },
  {
   "cell_type": "markdown",
   "metadata": {
    "colab_type": "text",
    "id": "G6T3K3VFYb5s"
   },
   "source": [
    "**2.5 Add a new user (with user “UserID” = 6293) in your data. Using the two trained models in task 2.3 suggest which books should this user read if his ratings are:**\n",
    "\n",
    "French Cuisine for All: 4\n",
    "\n",
    "\n",
    "Harry Potter and the Sorcerer's Stone Movie Poster Book: 5\n",
    "\n",
    "\n",
    "El Perfume: Historia De UN Asesino/Perfume : The Story of a Murderer: 1\n",
    "\n",
    "**(1. 25 points)**\n",
    "\n"
   ]
  },
  {
   "cell_type": "code",
   "execution_count": 30,
   "metadata": {
    "colab": {},
    "colab_type": "code",
    "id": "o-EJOEy1Yb5t"
   },
   "outputs": [
    {
     "data": {
      "text/html": [
       "<div>\n",
       "<style scoped>\n",
       "    .dataframe tbody tr th:only-of-type {\n",
       "        vertical-align: middle;\n",
       "    }\n",
       "\n",
       "    .dataframe tbody tr th {\n",
       "        vertical-align: top;\n",
       "    }\n",
       "\n",
       "    .dataframe thead th {\n",
       "        text-align: right;\n",
       "    }\n",
       "</style>\n",
       "<table border=\"1\" class=\"dataframe\">\n",
       "  <thead>\n",
       "    <tr style=\"text-align: right;\">\n",
       "      <th></th>\n",
       "      <th>BookID_Encoded</th>\n",
       "      <th>BookTitle</th>\n",
       "    </tr>\n",
       "  </thead>\n",
       "  <tbody>\n",
       "    <tr>\n",
       "      <th>214</th>\n",
       "      <td>128</td>\n",
       "      <td>French Cuisine for All</td>\n",
       "    </tr>\n",
       "  </tbody>\n",
       "</table>\n",
       "</div>"
      ],
      "text/plain": [
       "     BookID_Encoded               BookTitle\n",
       "214             128  French Cuisine for All"
      ]
     },
     "execution_count": 30,
     "metadata": {},
     "output_type": "execute_result"
    }
   ],
   "source": [
    "books_encoded_title[books_encoded_title['BookTitle'] == 'French Cuisine for All']"
   ]
  },
  {
   "cell_type": "code",
   "execution_count": 31,
   "metadata": {},
   "outputs": [
    {
     "data": {
      "text/html": [
       "<div>\n",
       "<style scoped>\n",
       "    .dataframe tbody tr th:only-of-type {\n",
       "        vertical-align: middle;\n",
       "    }\n",
       "\n",
       "    .dataframe tbody tr th {\n",
       "        vertical-align: top;\n",
       "    }\n",
       "\n",
       "    .dataframe thead th {\n",
       "        text-align: right;\n",
       "    }\n",
       "</style>\n",
       "<table border=\"1\" class=\"dataframe\">\n",
       "  <thead>\n",
       "    <tr style=\"text-align: right;\">\n",
       "      <th></th>\n",
       "      <th>BookID_Encoded</th>\n",
       "      <th>BookTitle</th>\n",
       "    </tr>\n",
       "  </thead>\n",
       "  <tbody>\n",
       "    <tr>\n",
       "      <th>311</th>\n",
       "      <td>145</td>\n",
       "      <td>Harry Potter and the Sorcerer's Stone Movie Po...</td>\n",
       "    </tr>\n",
       "  </tbody>\n",
       "</table>\n",
       "</div>"
      ],
      "text/plain": [
       "     BookID_Encoded                                          BookTitle\n",
       "311             145  Harry Potter and the Sorcerer's Stone Movie Po..."
      ]
     },
     "execution_count": 31,
     "metadata": {},
     "output_type": "execute_result"
    }
   ],
   "source": [
    "books_encoded_title[books_encoded_title['BookTitle'] == \"Harry Potter and the Sorcerer's Stone Movie Poster Book\"]"
   ]
  },
  {
   "cell_type": "code",
   "execution_count": 32,
   "metadata": {},
   "outputs": [
    {
     "data": {
      "text/html": [
       "<div>\n",
       "<style scoped>\n",
       "    .dataframe tbody tr th:only-of-type {\n",
       "        vertical-align: middle;\n",
       "    }\n",
       "\n",
       "    .dataframe tbody tr th {\n",
       "        vertical-align: top;\n",
       "    }\n",
       "\n",
       "    .dataframe thead th {\n",
       "        text-align: right;\n",
       "    }\n",
       "</style>\n",
       "<table border=\"1\" class=\"dataframe\">\n",
       "  <thead>\n",
       "    <tr style=\"text-align: right;\">\n",
       "      <th></th>\n",
       "      <th>BookID_Encoded</th>\n",
       "      <th>BookTitle</th>\n",
       "    </tr>\n",
       "  </thead>\n",
       "  <tbody>\n",
       "    <tr>\n",
       "      <th>289</th>\n",
       "      <td>116</td>\n",
       "      <td>El Perfume: Historia De UN Asesino/Perfume : T...</td>\n",
       "    </tr>\n",
       "  </tbody>\n",
       "</table>\n",
       "</div>"
      ],
      "text/plain": [
       "     BookID_Encoded                                          BookTitle\n",
       "289             116  El Perfume: Historia De UN Asesino/Perfume : T..."
      ]
     },
     "execution_count": 32,
     "metadata": {},
     "output_type": "execute_result"
    }
   ],
   "source": [
    "books_encoded_title[books_encoded_title['BookTitle'] == \"El Perfume: Historia De UN Asesino/Perfume : The Story of a Murderer\"]"
   ]
  },
  {
   "cell_type": "code",
   "execution_count": 33,
   "metadata": {},
   "outputs": [
    {
     "data": {
      "text/html": [
       "<div>\n",
       "<style scoped>\n",
       "    .dataframe tbody tr th:only-of-type {\n",
       "        vertical-align: middle;\n",
       "    }\n",
       "\n",
       "    .dataframe tbody tr th {\n",
       "        vertical-align: top;\n",
       "    }\n",
       "\n",
       "    .dataframe thead th {\n",
       "        text-align: right;\n",
       "    }\n",
       "</style>\n",
       "<table border=\"1\" class=\"dataframe\">\n",
       "  <thead>\n",
       "    <tr style=\"text-align: right;\">\n",
       "      <th></th>\n",
       "      <th>UserID</th>\n",
       "      <th>Book-Rating</th>\n",
       "      <th>BookID_Encoded</th>\n",
       "    </tr>\n",
       "  </thead>\n",
       "  <tbody>\n",
       "    <tr>\n",
       "      <th>0</th>\n",
       "      <td>6293</td>\n",
       "      <td>4</td>\n",
       "      <td>128</td>\n",
       "    </tr>\n",
       "    <tr>\n",
       "      <th>1</th>\n",
       "      <td>6293</td>\n",
       "      <td>5</td>\n",
       "      <td>145</td>\n",
       "    </tr>\n",
       "    <tr>\n",
       "      <th>2</th>\n",
       "      <td>6293</td>\n",
       "      <td>1</td>\n",
       "      <td>116</td>\n",
       "    </tr>\n",
       "  </tbody>\n",
       "</table>\n",
       "</div>"
      ],
      "text/plain": [
       "   UserID  Book-Rating  BookID_Encoded\n",
       "0    6293            4             128\n",
       "1    6293            5             145\n",
       "2    6293            1             116"
      ]
     },
     "execution_count": 33,
     "metadata": {},
     "output_type": "execute_result"
    }
   ],
   "source": [
    "new_df = pd.DataFrame({\"UserID\":[6293, 6293, 6293], \n",
    "                       \"Book-Rating\":[4, 5, 1], \n",
    "                       \"BookID_Encoded\":[128, 145, 116]})\n",
    "new_df"
   ]
  },
  {
   "cell_type": "code",
   "execution_count": 34,
   "metadata": {},
   "outputs": [
    {
     "data": {
      "text/html": [
       "<div>\n",
       "<style scoped>\n",
       "    .dataframe tbody tr th:only-of-type {\n",
       "        vertical-align: middle;\n",
       "    }\n",
       "\n",
       "    .dataframe tbody tr th {\n",
       "        vertical-align: top;\n",
       "    }\n",
       "\n",
       "    .dataframe thead th {\n",
       "        text-align: right;\n",
       "    }\n",
       "</style>\n",
       "<table border=\"1\" class=\"dataframe\">\n",
       "  <thead>\n",
       "    <tr style=\"text-align: right;\">\n",
       "      <th></th>\n",
       "      <th>UserID</th>\n",
       "      <th>Book-Rating</th>\n",
       "      <th>BookID_Encoded</th>\n",
       "    </tr>\n",
       "  </thead>\n",
       "  <tbody>\n",
       "    <tr>\n",
       "      <th>9996</th>\n",
       "      <td>3668</td>\n",
       "      <td>9</td>\n",
       "      <td>333</td>\n",
       "    </tr>\n",
       "    <tr>\n",
       "      <th>9997</th>\n",
       "      <td>3670</td>\n",
       "      <td>0</td>\n",
       "      <td>333</td>\n",
       "    </tr>\n",
       "    <tr>\n",
       "      <th>9998</th>\n",
       "      <td>6293</td>\n",
       "      <td>4</td>\n",
       "      <td>128</td>\n",
       "    </tr>\n",
       "    <tr>\n",
       "      <th>9999</th>\n",
       "      <td>6293</td>\n",
       "      <td>5</td>\n",
       "      <td>145</td>\n",
       "    </tr>\n",
       "    <tr>\n",
       "      <th>10000</th>\n",
       "      <td>6293</td>\n",
       "      <td>1</td>\n",
       "      <td>116</td>\n",
       "    </tr>\n",
       "  </tbody>\n",
       "</table>\n",
       "</div>"
      ],
      "text/plain": [
       "       UserID  Book-Rating  BookID_Encoded\n",
       "9996     3668            9             333\n",
       "9997     3670            0             333\n",
       "9998     6293            4             128\n",
       "9999     6293            5             145\n",
       "10000    6293            1             116"
      ]
     },
     "execution_count": 34,
     "metadata": {},
     "output_type": "execute_result"
    }
   ],
   "source": [
    "books_encoded_no_dup_new = books_encoded_no_dup.append(new_df)\n",
    "books_encoded_no_dup_new = books_encoded_no_dup_new.reset_index()\n",
    "books_encoded_no_dup_new = books_encoded_no_dup_new.drop(columns = ['index'])\n",
    "books_encoded_no_dup_new.tail()"
   ]
  },
  {
   "cell_type": "code",
   "execution_count": 35,
   "metadata": {},
   "outputs": [],
   "source": [
    "books_matrix_new = books_encoded_no_dup_new.pivot(index = 'BookID_Encoded', columns = 'UserID', values = 'Book-Rating').fillna(0)\n",
    "books_matrix_sparse_new = csr_matrix(books_matrix_new.values)\n",
    "# print(f\"Sparse matrix:\\n{books_matrix_sparse_new}\")"
   ]
  },
  {
   "cell_type": "code",
   "execution_count": 36,
   "metadata": {},
   "outputs": [],
   "source": [
    "my_favorite = \"Harry Potter and the Sorcerer's Stone Movie Poster Book\""
   ]
  },
  {
   "cell_type": "code",
   "execution_count": 37,
   "metadata": {},
   "outputs": [
    {
     "name": "stdout",
     "output_type": "stream",
     "text": [
      "You have input book: Harry Potter and the Sorcerer's Stone Movie Poster Book\n",
      "Found possible matches in our database: [\"Harry Potter and the Sorcerer's Stone Movie Poster Book\", 'Harry Potter and the Order of the Phoenix (Book 5)', 'Harry Potter and the Prisoner of Azkaban']\n",
      "\n",
      "Recommendation system start to make inference\n",
      "......\n",
      "\n",
      "Recommendations for Harry Potter and the Sorcerer's Stone Movie Poster Book:\n",
      "1: Nadie Es Perfecto (Narrativa Actual), with distance of 1.0\n",
      "2: Nomadentochter., with distance of 1.0\n",
      "3: Nachtschicht., with distance of 1.0\n",
      "4: My \\\"Star Trek\\\" Memories, with distance of 1.0\n",
      "5: Night Sins, with distance of 1.0\n"
     ]
    }
   ],
   "source": [
    "# Recommendation based on KNN model 1\n",
    "make_recommendation(\n",
    "    model_knn=model_knn_1, # trained model (model)\n",
    "    data=books_matrix_sparse, # sparse matrix (data)\n",
    "    fav_book=my_favorite, # fav_book\n",
    "    mapper=book_to_idx, # {book: index} (mapper)\n",
    "    n_recommendations=5)"
   ]
  },
  {
   "cell_type": "code",
   "execution_count": 38,
   "metadata": {},
   "outputs": [
    {
     "name": "stdout",
     "output_type": "stream",
     "text": [
      "You have input book: Harry Potter and the Sorcerer's Stone Movie Poster Book\n",
      "Found possible matches in our database: [\"Harry Potter and the Sorcerer's Stone Movie Poster Book\", 'Harry Potter and the Order of the Phoenix (Book 5)', 'Harry Potter and the Prisoner of Azkaban']\n",
      "\n",
      "Recommendation system start to make inference\n",
      "......\n",
      "\n",
      "Recommendations for Harry Potter and the Sorcerer's Stone Movie Poster Book:\n",
      "1: French Cuisine for All, with distance of 0.7974521265832667\n",
      "2: El Perfume: Historia De UN Asesino/Perfume : The Story of a Murderer, with distance of 0.97756064455674\n",
      "3: Matilda, with distance of 1.0\n",
      "4: Night Sins, with distance of 1.0\n",
      "5: Nadie Es Perfecto (Narrativa Actual), with distance of 1.0\n"
     ]
    }
   ],
   "source": [
    "# Recommendation based on KNN model 2\n",
    "make_recommendation(\n",
    "    model_knn=model_knn_2, # trained model (model)\n",
    "    data=books_matrix_sparse_new, # sparse matrix (data)\n",
    "    fav_book=my_favorite, # fav_book\n",
    "    mapper=book_to_idx, # {book: index} (mapper)\n",
    "    n_recommendations=5)"
   ]
  },
  {
   "cell_type": "markdown",
   "metadata": {},
   "source": [
    "Book suggestion for **UserID” = 6293** are:\n",
    "\n",
    "1. Nadie Es Perfecto (Narrativa Actual), with distance of 1.0\n",
    "2. Nomadentochter., with distance of 1.0\n",
    "3. Nachtschicht., with distance of 1.0\n",
    "4. My \\\"Star Trek\\\" Memories, with distance of 1.0\n",
    "5. Night Sins, with distance of 1.0\n"
   ]
  },
  {
   "cell_type": "markdown",
   "metadata": {
    "colab_type": "text",
    "id": "VMyW4UlbYb5x"
   },
   "source": [
    "# 3. Recommender systems evaluation (1.5 points)"
   ]
  },
  {
   "cell_type": "markdown",
   "metadata": {
    "colab_type": "text",
    "id": "EINSDAbXYb5y"
   },
   "source": [
    "We are going to compare different methods of recommender systems by their RMSE score. One useful package that has several recommender algorithms for Python is [Surprise](https://surprise.readthedocs.io/en/stable/getting_started.html). Below we have split the books dataset into training and test and used the KNNBasic algorithm to predict the ratings for the test set using surprise. "
   ]
  },
  {
   "cell_type": "code",
   "execution_count": 39,
   "metadata": {
    "colab": {},
    "colab_type": "code",
    "id": "OoLm-EC1Yb5z"
   },
   "outputs": [
    {
     "name": "stdout",
     "output_type": "stream",
     "text": [
      "Computing the msd similarity matrix...\n",
      "Done computing similarity matrix.\n",
      "RMSE: 4.1033\n",
      "KNN RMSE 4.10333158257073\n"
     ]
    }
   ],
   "source": [
    "from surprise import accuracy\n",
    "from surprise.model_selection import train_test_split\n",
    "from surprise import Reader\n",
    "from surprise import Dataset\n",
    "from surprise import SVD\n",
    "from surprise import NormalPredictor\n",
    "from surprise import KNNBasic\n",
    "\n",
    "# The reader is necessary for surprise to interpret the ratings\n",
    "reader = Reader(rating_scale=(0, 10))\n",
    "\n",
    "# This function loads data from a pandas dataframe into surprise dataset structure\n",
    "# The columns should always be ordered like this\n",
    "# data = Dataset.load_from_df(df[['UserID', 'BookTitle', 'Book-Rating']], reader)\n",
    "data = Dataset.load_from_df(books[['UserID', 'BookTitle', 'Book-Rating']], reader)\n",
    "\n",
    "# Split in trainset and testset\n",
    "# No need to define the label y because for surprise the last column is always the rating\n",
    "trainset, testset = train_test_split(data, test_size=.25, random_state=0 )\n",
    "\n",
    "knn = KNNBasic()\n",
    "knn.fit(trainset)\n",
    "predictions = knn.test(testset)\n",
    "print('KNN RMSE', accuracy.rmse(predictions))"
   ]
  },
  {
   "cell_type": "markdown",
   "metadata": {
    "colab_type": "text",
    "id": "sdIaAghiYb53"
   },
   "source": [
    "**3.1 After taking a look at surprise documentation and the code above, follow the same steps as with KNN, and predict the ratings in test set using the NormalPredictor which predicts a random rating based on the distribution of the training set. Do the same for SVD which  is a matrix factorization technique. For both of them report RMSE. (We already have imported the functions for you)**"
   ]
  },
  {
   "cell_type": "code",
   "execution_count": 40,
   "metadata": {},
   "outputs": [],
   "source": [
    "from surprise.model_selection import cross_validate"
   ]
  },
  {
   "cell_type": "code",
   "execution_count": 41,
   "metadata": {
    "colab": {},
    "colab_type": "code",
    "id": "VWcalcl4Yb56"
   },
   "outputs": [
    {
     "name": "stdout",
     "output_type": "stream",
     "text": [
      "RMSE: 5.1163\n"
     ]
    },
    {
     "data": {
      "text/plain": [
       "5.116258158363693"
      ]
     },
     "execution_count": 41,
     "metadata": {},
     "output_type": "execute_result"
    }
   ],
   "source": [
    "# np_result = cross_validate(NormalPredictor(), data, measures=['RMSE'], cv=2, verbose=True)\n",
    "\n",
    "npred = NormalPredictor()\n",
    "npred.fit(trainset)\n",
    "pred_npred = npred.test(testset)\n",
    "accuracy.rmse(pred_npred)"
   ]
  },
  {
   "cell_type": "code",
   "execution_count": 42,
   "metadata": {},
   "outputs": [
    {
     "name": "stdout",
     "output_type": "stream",
     "text": [
      "RMSE: 3.8635\n"
     ]
    },
    {
     "data": {
      "text/plain": [
       "3.8635017173181803"
      ]
     },
     "execution_count": 42,
     "metadata": {},
     "output_type": "execute_result"
    }
   ],
   "source": [
    "svd = SVD()\n",
    "svd.fit(trainset)\n",
    "pred_SVD = svd.test(testset)\n",
    "accuracy.rmse(pred_SVD)"
   ]
  },
  {
   "cell_type": "code",
   "execution_count": 43,
   "metadata": {},
   "outputs": [
    {
     "name": "stdout",
     "output_type": "stream",
     "text": [
      "Computing the msd similarity matrix...\n",
      "Done computing similarity matrix.\n",
      "Computing the msd similarity matrix...\n",
      "Done computing similarity matrix.\n",
      "Computing the msd similarity matrix...\n",
      "Done computing similarity matrix.\n"
     ]
    },
    {
     "data": {
      "text/html": [
       "<div>\n",
       "<style scoped>\n",
       "    .dataframe tbody tr th:only-of-type {\n",
       "        vertical-align: middle;\n",
       "    }\n",
       "\n",
       "    .dataframe tbody tr th {\n",
       "        vertical-align: top;\n",
       "    }\n",
       "\n",
       "    .dataframe thead th {\n",
       "        text-align: right;\n",
       "    }\n",
       "</style>\n",
       "<table border=\"1\" class=\"dataframe\">\n",
       "  <thead>\n",
       "    <tr style=\"text-align: right;\">\n",
       "      <th></th>\n",
       "      <th>test_rmse</th>\n",
       "      <th>fit_time</th>\n",
       "      <th>test_time</th>\n",
       "    </tr>\n",
       "    <tr>\n",
       "      <th>Algorithm</th>\n",
       "      <th></th>\n",
       "      <th></th>\n",
       "      <th></th>\n",
       "    </tr>\n",
       "  </thead>\n",
       "  <tbody>\n",
       "    <tr>\n",
       "      <th>SVD</th>\n",
       "      <td>3.861349</td>\n",
       "      <td>0.651670</td>\n",
       "      <td>0.045196</td>\n",
       "    </tr>\n",
       "    <tr>\n",
       "      <th>KNNBasic</th>\n",
       "      <td>4.108172</td>\n",
       "      <td>1.302408</td>\n",
       "      <td>0.494330</td>\n",
       "    </tr>\n",
       "    <tr>\n",
       "      <th>NormalPredictor</th>\n",
       "      <td>5.161092</td>\n",
       "      <td>0.017022</td>\n",
       "      <td>0.060407</td>\n",
       "    </tr>\n",
       "  </tbody>\n",
       "</table>\n",
       "</div>"
      ],
      "text/plain": [
       "                 test_rmse  fit_time  test_time\n",
       "Algorithm                                      \n",
       "SVD               3.861349  0.651670   0.045196\n",
       "KNNBasic          4.108172  1.302408   0.494330\n",
       "NormalPredictor   5.161092  0.017022   0.060407"
      ]
     },
     "execution_count": 43,
     "metadata": {},
     "output_type": "execute_result"
    }
   ],
   "source": [
    "# Do benchmarking between KNNBasic, NormalPredictor, and SVD\n",
    "# Reference:\n",
    "# https://towardsdatascience.com/building-and-testing-recommender-systems-with-surprise-step-by-step-d4ba702ef80b\n",
    "\n",
    "benchmark = []\n",
    "# Iterate over all algorithms\n",
    "for algorithm in [KNNBasic(), NormalPredictor(), SVD(), ]:\n",
    "    # Perform cross validation\n",
    "    results = cross_validate(algorithm, data, measures=['RMSE'], cv=3, verbose=False)\n",
    "    \n",
    "    # Get results & append algorithm name\n",
    "    tmp = pd.DataFrame.from_dict(results).mean(axis=0)\n",
    "    tmp = tmp.append(pd.Series([str(algorithm).split(' ')[0].split('.')[-1]], index=['Algorithm']))\n",
    "    benchmark.append(tmp)\n",
    "    \n",
    "pd.DataFrame(benchmark).set_index('Algorithm').sort_values('test_rmse')    "
   ]
  },
  {
   "cell_type": "markdown",
   "metadata": {
    "colab_type": "text",
    "id": "OjJgAOSRYb6A"
   },
   "source": [
    "# 4. Neural Networks (3 Points)"
   ]
  },
  {
   "cell_type": "markdown",
   "metadata": {
    "colab_type": "text",
    "id": "h5TF1ePBYb6L"
   },
   "source": [
    "**4.1 We are now going to build a recommender system using Neural Networks. Being this dataset is really small in terms of features you might not see great improvements but it is a good starting point to learn. Please build  exactly the same neural network as we did in practice session part 3, which had the following layers:**\n",
    "- 2 Embedding\n",
    "- 2 Reshape\n",
    "- 1 Dense\n",
    "\n",
    "**Use the Neural Network you built to learn from the train data of part 3 of this homework.  The column UserID should be used as input to your NN for the user embedding layer. For the books embedding layer we will use BookTitle column. Lastly, the ratings will be your target variable. Regarding the evaluation metric for the training phase use RMSE. To make your training fast you can use a batch size of 200 or above. (1.75 points)**"
   ]
  },
  {
   "cell_type": "code",
   "execution_count": 44,
   "metadata": {
    "colab": {},
    "colab_type": "code",
    "id": "PbuvaC1eYb6Q"
   },
   "outputs": [
    {
     "name": "stderr",
     "output_type": "stream",
     "text": [
      "Using TensorFlow backend.\n"
     ]
    }
   ],
   "source": [
    "import numpy as np\n",
    "import pandas as pd\n",
    "import matplotlib.pyplot as plt\n",
    "import os\n",
    "import warnings\n",
    "\n",
    "from keras.layers import Input, Embedding, Flatten, Dot, Dense, Multiply, Concatenate, Dropout, Reshape\n",
    "from keras.models import Model, Sequential\n",
    "from sklearn.model_selection import train_test_split\n",
    "from keras.optimizers import Adam\n",
    "from keras.regularizers import l2\n"
   ]
  },
  {
   "cell_type": "code",
   "execution_count": 62,
   "metadata": {},
   "outputs": [
    {
     "name": "stdout",
     "output_type": "stream",
     "text": [
      "6293\n"
     ]
    }
   ],
   "source": [
    "print(books_encoded_no_dup_new['UserID'].nunique())"
   ]
  },
  {
   "cell_type": "code",
   "execution_count": 168,
   "metadata": {},
   "outputs": [
    {
     "data": {
      "text/plain": [
       "(6293, 336, 0.0, 10.0)"
      ]
     },
     "execution_count": 168,
     "metadata": {},
     "output_type": "execute_result"
    }
   ],
   "source": [
    "user_enc = LabelEncoder()\n",
    "books_encoded_no_dup_new['UserID'] = user_enc.fit_transform(books_encoded_no_dup_new['UserID'].values)\n",
    "n_users = books_encoded_no_dup_new['UserID'].nunique()\n",
    "\n",
    "item_enc = LabelEncoder()\n",
    "books_encoded_no_dup_new['BookID_Encoded'] = item_enc.fit_transform(books_encoded_no_dup_new['BookID_Encoded'].values)\n",
    "n_books = books_encoded_no_dup_new['BookID_Encoded'].nunique()\n",
    "\n",
    "books_encoded_no_dup_new['Book-Rating'] = books_encoded_no_dup_new['Book-Rating'].values.astype(np.float32)\n",
    "min_rating = min(books_encoded_no_dup_new['Book-Rating'])\n",
    "max_rating = max(books_encoded_no_dup_new['Book-Rating'])\n",
    "\n",
    "\n",
    "n_users, n_books, min_rating, max_rating\n",
    "\n",
    "# n_users = books_encoded_no_dup_new['UserID'].nunique()\n",
    "# n_books = books_encoded_no_dup_new['BookID_Encoded'].nunique()\n",
    "# min_rating = min(books_encoded_no_dup_new['Book-Rating'])\n",
    "# max_rating = max(books_encoded_no_dup_new['Book-Rating'])\n",
    "\n",
    "# n_users, n_books, min_rating, max_rating"
   ]
  },
  {
   "cell_type": "code",
   "execution_count": 136,
   "metadata": {},
   "outputs": [],
   "source": [
    "# books_encoded_no_dup_new = books_encoded_no_dup_new.reindex(columns=['UserID', 'BookID_Encoded', 'Book-Rating'])\n",
    "# books_encoded_no_dup_new"
   ]
  },
  {
   "cell_type": "code",
   "execution_count": 169,
   "metadata": {},
   "outputs": [
    {
     "data": {
      "text/plain": [
       "((7500, 2), (2501, 2), (7500,), (2501,))"
      ]
     },
     "execution_count": 169,
     "metadata": {},
     "output_type": "execute_result"
    }
   ],
   "source": [
    "X = books_encoded_no_dup_new[['UserID', 'BookID_Encoded']].values\n",
    "y = books_encoded_no_dup_new['Book-Rating'].values\n",
    "X_train, X_test, y_train, y_test = train_test_split(X, y, test_size=0.25, random_state=0)\n",
    "X_train.shape, X_test.shape, y_train.shape, y_test.shape\n",
    "\n",
    "# # The reader is necessary for surprise to interpret the ratings\n",
    "# reader = Reader(rating_scale=(0, 10))\n",
    "\n",
    "# # This function loads data from a pandas dataframe into surprise dataset structure\n",
    "# # The columns should always be ordered like this\n",
    "# # data = Dataset.load_from_df(df[['UserID', 'BookTitle', 'Book-Rating']], reader)\n",
    "# data = Dataset.load_from_df(books[['UserID', 'BookTitle', 'Book-Rating']], reader)\n",
    "\n",
    "# # Split in trainset and testset\n",
    "# # No need to define the label y because for surprise the last column is always the rating\n",
    "# X_train, X_test, y_train, y_test = train_test_split(data, test_size=.25, random_state=0 )"
   ]
  },
  {
   "cell_type": "code",
   "execution_count": 170,
   "metadata": {},
   "outputs": [],
   "source": [
    "n_factors = 5\n",
    "X_train_array = [X_train[:, 0], X_train[:, 1]]\n",
    "X_test_array = [X_test[:, 0], X_test[:, 1]]"
   ]
  },
  {
   "cell_type": "code",
   "execution_count": 171,
   "metadata": {},
   "outputs": [],
   "source": [
    "# using only embeddings, same as previous lab session\n",
    "def RecommenderV1(n_users, n_books, n_factors):\n",
    "    user = Input(shape=(1,))\n",
    "    \n",
    "    ## n_users should be added + 1 to resolve InvalidArgumentError: indices[x,x] = xxxx is not in [0, xxxx)\n",
    "    ## Reference: https://stackoverflow.com/questions/54880279/how-to-handle-invalid-argument-error-in-keras\n",
    "    u = Embedding(n_users+1, n_factors, embeddings_initializer='he_normal',\n",
    "                  embeddings_regularizer=l2(1e-6))(user)\n",
    "    u = Reshape((n_factors,))(u)\n",
    "    \n",
    "    book = Input(shape=(1,))\n",
    "    m = Embedding(n_books, n_factors, embeddings_initializer='he_normal',\n",
    "                  embeddings_regularizer=l2(1e-6))(book)\n",
    "    m = Reshape((n_factors,))(m)\n",
    "    \n",
    "    x = Dot(axes=1)([u, m])   \n",
    "    model = Model(inputs=[user, book], outputs=x)\n",
    "    opt = Adam(lr=0.001)\n",
    "    model.compile(loss='mean_squared_error', optimizer=opt)\n",
    "    return model"
   ]
  },
  {
   "cell_type": "code",
   "execution_count": 172,
   "metadata": {},
   "outputs": [],
   "source": [
    "def compile_fit_plot(model,num):\n",
    "    model.summary()\n",
    "\n",
    "\n",
    "    model.compile(loss='mse', optimizer='adam', metrics=['mse'])\n",
    "\n",
    "    # Set batch_size to 200 or more, to make training process faster\n",
    "    history = model.fit(x=X_train_array, y=y_train, batch_size=200, epochs=5,\n",
    "                        verbose=1, validation_data=(X_test_array, y_test))\n",
    "    \n",
    "    # Plot training & validation accuracy values\n",
    "    plt.plot(history.history['mse'])\n",
    "    plt.plot(history.history['val_mse'])\n",
    "    plt.title('Model MSE')\n",
    "    plt.ylabel('mean_squared_error')\n",
    "    plt.xlabel('Epoch')\n",
    "    plt.legend(['Train', 'Test'], loc='upper left')\n",
    "    plt.show()\n",
    "\n",
    "    # Plot training & validation loss values\n",
    "    plt.plot(history.history['loss'])\n",
    "    plt.plot(history.history['val_loss'])\n",
    "    plt.title('Model loss')\n",
    "    plt.ylabel('Loss')\n",
    "    plt.xlabel('Epoch')\n",
    "    plt.legend(['Train', 'Test'], loc='upper left')\n",
    "    plt.show()\n",
    "\n",
    "    import math\n",
    "    # Show the best validation RMSE\n",
    "    min_val_loss, idx = min((val, idx) for (idx, val) in enumerate(history.history['val_loss']))\n",
    "    print(f\"\\nModel: {num},\\nMinimum RMSE at epoch: {idx+1} = {math.sqrt(min_val_loss)}\")\n",
    "    #print ('\\nModel: {:d}\\n'.format(num),'Minimum RMSE at epoch', '{:d}'.format(idx+1), '=', '{:.4f}'.format(math.sqrt(min_val_loss)))\n",
    "    \n",
    "\n",
    "\n",
    "\n",
    "def predict_recommend(model,test_user ):\n",
    "    \n",
    "        # Function to predict the ratings given User ID and Book ID\n",
    "    def predict_rating1(user_id, item_id):\n",
    "        return model.predict([np.array([user_id-1]), np.array([item_id-1])])[0][0]\n",
    "    \n",
    "    # Function to predict the ratings given User ID and Book ID\n",
    "    def predict_rating2(user_id, item_id):        \n",
    "        if item_id<=336:\n",
    "            prediction = model.predict([np.array([user_id-1]), np.array([item_id])])[0][0]\n",
    "            return prediction\n",
    "        \n",
    "    TEST_USER = test_user\n",
    "\n",
    "\n",
    "    user_ratings = books_encoded_no_dup_new[books_encoded_no_dup_new['UserID'] == TEST_USER][['UserID', 'BookID_Encoded', 'Book-Rating']]\n",
    "\n",
    "    user_ratings['prediction'] = user_ratings.apply(lambda x: predict_rating1(TEST_USER, x['BookID_Encoded']), axis=1)\n",
    "    user_ratings.sort_values(by='Book-Rating', \n",
    "                             ascending=False).merge(books_encoded_title, \n",
    "                                                    on='BookID_Encoded', \n",
    "                                                    how='inner', \n",
    "                                                    suffixes=['_u', '_m']).head(20)\n",
    "    \n",
    "    recommendations = books_encoded_no_dup_new[books_encoded_no_dup_new['BookID_Encoded'].isin(user_ratings['BookID_Encoded']) == False][['BookID_Encoded']].drop_duplicates()\n",
    "    recommendations['prediction'] = recommendations.apply(lambda x: predict_rating2(TEST_USER, x['BookID_Encoded']), axis=1)\n",
    "    recommendations.sort_values(by='prediction',\n",
    "                              ascending=False).merge(books_encoded_title,\n",
    "                                                     on='BookID_Encoded',\n",
    "                                                     how='inner',\n",
    "                                                     suffixes=['_u', '_m']).head(20)\n",
    "    \n",
    "    return user_ratings, recommendations"
   ]
  },
  {
   "cell_type": "code",
   "execution_count": 173,
   "metadata": {},
   "outputs": [],
   "source": [
    "# Define constants\n",
    "#K_FACTORS = 100 # The number of dimensional embeddings for books and users\n",
    "# TEST_USER = 6293\n",
    "\n",
    "model1 = RecommenderV1(n_users, n_books, n_factors)\n",
    "# compile_fit_plot(model1, 1)\n",
    "\n",
    "# user_ratings_1, recommendations_1 = predict_recommend(model1,TEST_USER)"
   ]
  },
  {
   "cell_type": "markdown",
   "metadata": {
    "colab_type": "text",
    "id": "HsmPj7Wq1cyS"
   },
   "source": [
    "**4.2 Plot the RMSE values during the training phase, as well as the model loss. Report the best RMSE. Is it better than the RMSE from the models we built in Section 2 and 3 ? (0.75 points)**"
   ]
  },
  {
   "cell_type": "code",
   "execution_count": 174,
   "metadata": {
    "colab": {},
    "colab_type": "code",
    "id": "JCJFqfDm1-HA"
   },
   "outputs": [
    {
     "name": "stdout",
     "output_type": "stream",
     "text": [
      "Model: \"model_37\"\n",
      "__________________________________________________________________________________________________\n",
      "Layer (type)                    Output Shape         Param #     Connected to                     \n",
      "==================================================================================================\n",
      "input_73 (InputLayer)           (None, 1)            0                                            \n",
      "__________________________________________________________________________________________________\n",
      "input_74 (InputLayer)           (None, 1)            0                                            \n",
      "__________________________________________________________________________________________________\n",
      "embedding_73 (Embedding)        (None, 1, 5)         31470       input_73[0][0]                   \n",
      "__________________________________________________________________________________________________\n",
      "embedding_74 (Embedding)        (None, 1, 5)         1680        input_74[0][0]                   \n",
      "__________________________________________________________________________________________________\n",
      "reshape_73 (Reshape)            (None, 5)            0           embedding_73[0][0]               \n",
      "__________________________________________________________________________________________________\n",
      "reshape_74 (Reshape)            (None, 5)            0           embedding_74[0][0]               \n",
      "__________________________________________________________________________________________________\n",
      "dot_37 (Dot)                    (None, 1)            0           reshape_73[0][0]                 \n",
      "                                                                 reshape_74[0][0]                 \n",
      "==================================================================================================\n",
      "Total params: 33,150\n",
      "Trainable params: 33,150\n",
      "Non-trainable params: 0\n",
      "__________________________________________________________________________________________________\n"
     ]
    },
    {
     "name": "stderr",
     "output_type": "stream",
     "text": [
      "/Library/Frameworks/Python.framework/Versions/3.6/lib/python3.6/site-packages/tensorflow_core/python/framework/indexed_slices.py:433: UserWarning: Converting sparse IndexedSlices to a dense Tensor of unknown shape. This may consume a large amount of memory.\n",
      "  \"Converting sparse IndexedSlices to a dense Tensor of unknown shape. \"\n"
     ]
    },
    {
     "name": "stdout",
     "output_type": "stream",
     "text": [
      "Train on 7500 samples, validate on 2501 samples\n",
      "Epoch 1/5\n",
      "7500/7500 [==============================] - 0s 41us/step - loss: 27.5280 - mse: 27.5280 - val_loss: 27.9806 - val_mse: 27.9805\n",
      "Epoch 2/5\n",
      "7500/7500 [==============================] - 0s 16us/step - loss: 27.5165 - mse: 27.5165 - val_loss: 27.9805 - val_mse: 27.9805\n",
      "Epoch 3/5\n",
      "7500/7500 [==============================] - 0s 19us/step - loss: 27.4979 - mse: 27.4979 - val_loss: 27.9808 - val_mse: 27.9807\n",
      "Epoch 4/5\n",
      "7500/7500 [==============================] - 0s 19us/step - loss: 27.4641 - mse: 27.4641 - val_loss: 27.9813 - val_mse: 27.9813\n",
      "Epoch 5/5\n",
      "7500/7500 [==============================] - 0s 16us/step - loss: 27.4087 - mse: 27.4087 - val_loss: 27.9820 - val_mse: 27.9819\n"
     ]
    },
    {
     "data": {
      "image/png": "[encoded data removed]",
      "text/plain": [
       "<Figure size 432x288 with 1 Axes>"
      ]
     },
     "metadata": {
      "needs_background": "light"
     },
     "output_type": "display_data"
    },
    {
     "data": {
      "image/png": "[encoded data removed]",
      "text/plain": [
       "<Figure size 432x288 with 1 Axes>"
      ]
     },
     "metadata": {
      "needs_background": "light"
     },
     "output_type": "display_data"
    },
    {
     "name": "stdout",
     "output_type": "stream",
     "text": [
      "\n",
      "Model: 1,\n",
      "Minimum RMSE at epoch: 2 = 5.289663348925407\n"
     ]
    }
   ],
   "source": [
    "compile_fit_plot(model1, 1)"
   ]
  },
  {
   "cell_type": "markdown",
   "metadata": {
    "colab_type": "text",
    "id": "LVLaC5K11-fN"
   },
   "source": [
    "**4.3 Use your trained model to recommend books for user with ID 6293. (0.5 points)**"
   ]
  },
  {
   "cell_type": "code",
   "execution_count": 176,
   "metadata": {
    "colab": {},
    "colab_type": "code",
    "id": "NHQrNa35Jmjo"
   },
   "outputs": [
    {
     "ename": "ValueError",
     "evalue": "Wrong number of items passed 3, placement implies 1",
     "output_type": "error",
     "traceback": [
      "\u001b[0;31m---------------------------------------------------------------------------\u001b[0m",
      "\u001b[0;31mKeyError\u001b[0m                                  Traceback (most recent call last)",
      "\u001b[0;32m/Library/Frameworks/Python.framework/Versions/3.6/lib/python3.6/site-packages/pandas/core/indexes/base.py\u001b[0m in \u001b[0;36mget_loc\u001b[0;34m(self, key, method, tolerance)\u001b[0m\n\u001b[1;32m   2645\u001b[0m             \u001b[0;32mtry\u001b[0m\u001b[0;34m:\u001b[0m\u001b[0;34m\u001b[0m\u001b[0;34m\u001b[0m\u001b[0m\n\u001b[0;32m-> 2646\u001b[0;31m                 \u001b[0;32mreturn\u001b[0m \u001b[0mself\u001b[0m\u001b[0;34m.\u001b[0m\u001b[0m_engine\u001b[0m\u001b[0;34m.\u001b[0m\u001b[0mget_loc\u001b[0m\u001b[0;34m(\u001b[0m\u001b[0mkey\u001b[0m\u001b[0;34m)\u001b[0m\u001b[0;34m\u001b[0m\u001b[0;34m\u001b[0m\u001b[0m\n\u001b[0m\u001b[1;32m   2647\u001b[0m             \u001b[0;32mexcept\u001b[0m \u001b[0mKeyError\u001b[0m\u001b[0;34m:\u001b[0m\u001b[0;34m\u001b[0m\u001b[0;34m\u001b[0m\u001b[0m\n",
      "\u001b[0;32mpandas/_libs/index.pyx\u001b[0m in \u001b[0;36mpandas._libs.index.IndexEngine.get_loc\u001b[0;34m()\u001b[0m\n",
      "\u001b[0;32mpandas/_libs/index.pyx\u001b[0m in \u001b[0;36mpandas._libs.index.IndexEngine.get_loc\u001b[0;34m()\u001b[0m\n",
      "\u001b[0;32mpandas/_libs/hashtable_class_helper.pxi\u001b[0m in \u001b[0;36mpandas._libs.hashtable.PyObjectHashTable.get_item\u001b[0;34m()\u001b[0m\n",
      "\u001b[0;32mpandas/_libs/hashtable_class_helper.pxi\u001b[0m in \u001b[0;36mpandas._libs.hashtable.PyObjectHashTable.get_item\u001b[0;34m()\u001b[0m\n",
      "\u001b[0;31mKeyError\u001b[0m: 'prediction'",
      "\nDuring handling of the above exception, another exception occurred:\n",
      "\u001b[0;31mKeyError\u001b[0m                                  Traceback (most recent call last)",
      "\u001b[0;32m/Library/Frameworks/Python.framework/Versions/3.6/lib/python3.6/site-packages/pandas/core/internals/managers.py\u001b[0m in \u001b[0;36mset\u001b[0;34m(self, item, value)\u001b[0m\n\u001b[1;32m   1070\u001b[0m         \u001b[0;32mtry\u001b[0m\u001b[0;34m:\u001b[0m\u001b[0;34m\u001b[0m\u001b[0;34m\u001b[0m\u001b[0m\n\u001b[0;32m-> 1071\u001b[0;31m             \u001b[0mloc\u001b[0m \u001b[0;34m=\u001b[0m \u001b[0mself\u001b[0m\u001b[0;34m.\u001b[0m\u001b[0mitems\u001b[0m\u001b[0;34m.\u001b[0m\u001b[0mget_loc\u001b[0m\u001b[0;34m(\u001b[0m\u001b[0mitem\u001b[0m\u001b[0;34m)\u001b[0m\u001b[0;34m\u001b[0m\u001b[0;34m\u001b[0m\u001b[0m\n\u001b[0m\u001b[1;32m   1072\u001b[0m         \u001b[0;32mexcept\u001b[0m \u001b[0mKeyError\u001b[0m\u001b[0;34m:\u001b[0m\u001b[0;34m\u001b[0m\u001b[0;34m\u001b[0m\u001b[0m\n",
      "\u001b[0;32m/Library/Frameworks/Python.framework/Versions/3.6/lib/python3.6/site-packages/pandas/core/indexes/base.py\u001b[0m in \u001b[0;36mget_loc\u001b[0;34m(self, key, method, tolerance)\u001b[0m\n\u001b[1;32m   2647\u001b[0m             \u001b[0;32mexcept\u001b[0m \u001b[0mKeyError\u001b[0m\u001b[0;34m:\u001b[0m\u001b[0;34m\u001b[0m\u001b[0;34m\u001b[0m\u001b[0m\n\u001b[0;32m-> 2648\u001b[0;31m                 \u001b[0;32mreturn\u001b[0m \u001b[0mself\u001b[0m\u001b[0;34m.\u001b[0m\u001b[0m_engine\u001b[0m\u001b[0;34m.\u001b[0m\u001b[0mget_loc\u001b[0m\u001b[0;34m(\u001b[0m\u001b[0mself\u001b[0m\u001b[0;34m.\u001b[0m\u001b[0m_maybe_cast_indexer\u001b[0m\u001b[0;34m(\u001b[0m\u001b[0mkey\u001b[0m\u001b[0;34m)\u001b[0m\u001b[0;34m)\u001b[0m\u001b[0;34m\u001b[0m\u001b[0;34m\u001b[0m\u001b[0m\n\u001b[0m\u001b[1;32m   2649\u001b[0m         \u001b[0mindexer\u001b[0m \u001b[0;34m=\u001b[0m \u001b[0mself\u001b[0m\u001b[0;34m.\u001b[0m\u001b[0mget_indexer\u001b[0m\u001b[0;34m(\u001b[0m\u001b[0;34m[\u001b[0m\u001b[0mkey\u001b[0m\u001b[0;34m]\u001b[0m\u001b[0;34m,\u001b[0m \u001b[0mmethod\u001b[0m\u001b[0;34m=\u001b[0m\u001b[0mmethod\u001b[0m\u001b[0;34m,\u001b[0m \u001b[0mtolerance\u001b[0m\u001b[0;34m=\u001b[0m\u001b[0mtolerance\u001b[0m\u001b[0;34m)\u001b[0m\u001b[0;34m\u001b[0m\u001b[0;34m\u001b[0m\u001b[0m\n",
      "\u001b[0;32mpandas/_libs/index.pyx\u001b[0m in \u001b[0;36mpandas._libs.index.IndexEngine.get_loc\u001b[0;34m()\u001b[0m\n",
      "\u001b[0;32mpandas/_libs/index.pyx\u001b[0m in \u001b[0;36mpandas._libs.index.IndexEngine.get_loc\u001b[0;34m()\u001b[0m\n",
      "\u001b[0;32mpandas/_libs/hashtable_class_helper.pxi\u001b[0m in \u001b[0;36mpandas._libs.hashtable.PyObjectHashTable.get_item\u001b[0;34m()\u001b[0m\n",
      "\u001b[0;32mpandas/_libs/hashtable_class_helper.pxi\u001b[0m in \u001b[0;36mpandas._libs.hashtable.PyObjectHashTable.get_item\u001b[0;34m()\u001b[0m\n",
      "\u001b[0;31mKeyError\u001b[0m: 'prediction'",
      "\nDuring handling of the above exception, another exception occurred:\n",
      "\u001b[0;31mValueError\u001b[0m                                Traceback (most recent call last)",
      "\u001b[0;32m<ipython-input-176-3f4b76a4ab1d>\u001b[0m in \u001b[0;36m<module>\u001b[0;34m\u001b[0m\n\u001b[0;32m----> 1\u001b[0;31m \u001b[0muser_ratings_1\u001b[0m\u001b[0;34m,\u001b[0m \u001b[0mrecommendations_1\u001b[0m \u001b[0;34m=\u001b[0m \u001b[0mpredict_recommend\u001b[0m\u001b[0;34m(\u001b[0m\u001b[0mmodel1\u001b[0m\u001b[0;34m,\u001b[0m\u001b[0;36m6293\u001b[0m\u001b[0;34m)\u001b[0m\u001b[0;34m\u001b[0m\u001b[0;34m\u001b[0m\u001b[0m\n\u001b[0m",
      "\u001b[0;32m<ipython-input-172-4fc22576ec5b>\u001b[0m in \u001b[0;36mpredict_recommend\u001b[0;34m(model, test_user)\u001b[0m\n\u001b[1;32m     53\u001b[0m     \u001b[0muser_ratings\u001b[0m \u001b[0;34m=\u001b[0m \u001b[0mbooks_encoded_no_dup_new\u001b[0m\u001b[0;34m[\u001b[0m\u001b[0mbooks_encoded_no_dup_new\u001b[0m\u001b[0;34m[\u001b[0m\u001b[0;34m'UserID'\u001b[0m\u001b[0;34m]\u001b[0m \u001b[0;34m==\u001b[0m \u001b[0mTEST_USER\u001b[0m\u001b[0;34m]\u001b[0m\u001b[0;34m[\u001b[0m\u001b[0;34m[\u001b[0m\u001b[0;34m'UserID'\u001b[0m\u001b[0;34m,\u001b[0m \u001b[0;34m'BookID_Encoded'\u001b[0m\u001b[0;34m,\u001b[0m \u001b[0;34m'Book-Rating'\u001b[0m\u001b[0;34m]\u001b[0m\u001b[0;34m]\u001b[0m\u001b[0;34m\u001b[0m\u001b[0;34m\u001b[0m\u001b[0m\n\u001b[1;32m     54\u001b[0m \u001b[0;34m\u001b[0m\u001b[0m\n\u001b[0;32m---> 55\u001b[0;31m     \u001b[0muser_ratings\u001b[0m\u001b[0;34m[\u001b[0m\u001b[0;34m'prediction'\u001b[0m\u001b[0;34m]\u001b[0m \u001b[0;34m=\u001b[0m \u001b[0muser_ratings\u001b[0m\u001b[0;34m.\u001b[0m\u001b[0mapply\u001b[0m\u001b[0;34m(\u001b[0m\u001b[0;32mlambda\u001b[0m \u001b[0mx\u001b[0m\u001b[0;34m:\u001b[0m \u001b[0mpredict_rating1\u001b[0m\u001b[0;34m(\u001b[0m\u001b[0mTEST_USER\u001b[0m\u001b[0;34m,\u001b[0m \u001b[0mx\u001b[0m\u001b[0;34m[\u001b[0m\u001b[0;34m'BookID_Encoded'\u001b[0m\u001b[0;34m]\u001b[0m\u001b[0;34m)\u001b[0m\u001b[0;34m,\u001b[0m \u001b[0maxis\u001b[0m\u001b[0;34m=\u001b[0m\u001b[0;36m1\u001b[0m\u001b[0;34m)\u001b[0m\u001b[0;34m\u001b[0m\u001b[0;34m\u001b[0m\u001b[0m\n\u001b[0m\u001b[1;32m     56\u001b[0m     user_ratings.sort_values(by='Book-Rating', \n\u001b[1;32m     57\u001b[0m                              \u001b[0mascending\u001b[0m\u001b[0;34m=\u001b[0m\u001b[0;32mFalse\u001b[0m\u001b[0;34m)\u001b[0m\u001b[0;34m.\u001b[0m\u001b[0mmerge\u001b[0m\u001b[0;34m(\u001b[0m\u001b[0mbooks_encoded_title\u001b[0m\u001b[0;34m,\u001b[0m\u001b[0;34m\u001b[0m\u001b[0;34m\u001b[0m\u001b[0m\n",
      "\u001b[0;32m/Library/Frameworks/Python.framework/Versions/3.6/lib/python3.6/site-packages/pandas/core/frame.py\u001b[0m in \u001b[0;36m__setitem__\u001b[0;34m(self, key, value)\u001b[0m\n\u001b[1;32m   2936\u001b[0m         \u001b[0;32melse\u001b[0m\u001b[0;34m:\u001b[0m\u001b[0;34m\u001b[0m\u001b[0;34m\u001b[0m\u001b[0m\n\u001b[1;32m   2937\u001b[0m             \u001b[0;31m# set column\u001b[0m\u001b[0;34m\u001b[0m\u001b[0;34m\u001b[0m\u001b[0;34m\u001b[0m\u001b[0m\n\u001b[0;32m-> 2938\u001b[0;31m             \u001b[0mself\u001b[0m\u001b[0;34m.\u001b[0m\u001b[0m_set_item\u001b[0m\u001b[0;34m(\u001b[0m\u001b[0mkey\u001b[0m\u001b[0;34m,\u001b[0m \u001b[0mvalue\u001b[0m\u001b[0;34m)\u001b[0m\u001b[0;34m\u001b[0m\u001b[0;34m\u001b[0m\u001b[0m\n\u001b[0m\u001b[1;32m   2939\u001b[0m \u001b[0;34m\u001b[0m\u001b[0m\n\u001b[1;32m   2940\u001b[0m     \u001b[0;32mdef\u001b[0m \u001b[0m_setitem_slice\u001b[0m\u001b[0;34m(\u001b[0m\u001b[0mself\u001b[0m\u001b[0;34m,\u001b[0m \u001b[0mkey\u001b[0m\u001b[0;34m,\u001b[0m \u001b[0mvalue\u001b[0m\u001b[0;34m)\u001b[0m\u001b[0;34m:\u001b[0m\u001b[0;34m\u001b[0m\u001b[0;34m\u001b[0m\u001b[0m\n",
      "\u001b[0;32m/Library/Frameworks/Python.framework/Versions/3.6/lib/python3.6/site-packages/pandas/core/frame.py\u001b[0m in \u001b[0;36m_set_item\u001b[0;34m(self, key, value)\u001b[0m\n\u001b[1;32m   2999\u001b[0m         \u001b[0mself\u001b[0m\u001b[0;34m.\u001b[0m\u001b[0m_ensure_valid_index\u001b[0m\u001b[0;34m(\u001b[0m\u001b[0mvalue\u001b[0m\u001b[0;34m)\u001b[0m\u001b[0;34m\u001b[0m\u001b[0;34m\u001b[0m\u001b[0m\n\u001b[1;32m   3000\u001b[0m         \u001b[0mvalue\u001b[0m \u001b[0;34m=\u001b[0m \u001b[0mself\u001b[0m\u001b[0;34m.\u001b[0m\u001b[0m_sanitize_column\u001b[0m\u001b[0;34m(\u001b[0m\u001b[0mkey\u001b[0m\u001b[0;34m,\u001b[0m \u001b[0mvalue\u001b[0m\u001b[0;34m)\u001b[0m\u001b[0;34m\u001b[0m\u001b[0;34m\u001b[0m\u001b[0m\n\u001b[0;32m-> 3001\u001b[0;31m         \u001b[0mNDFrame\u001b[0m\u001b[0;34m.\u001b[0m\u001b[0m_set_item\u001b[0m\u001b[0;34m(\u001b[0m\u001b[0mself\u001b[0m\u001b[0;34m,\u001b[0m \u001b[0mkey\u001b[0m\u001b[0;34m,\u001b[0m \u001b[0mvalue\u001b[0m\u001b[0;34m)\u001b[0m\u001b[0;34m\u001b[0m\u001b[0;34m\u001b[0m\u001b[0m\n\u001b[0m\u001b[1;32m   3002\u001b[0m \u001b[0;34m\u001b[0m\u001b[0m\n\u001b[1;32m   3003\u001b[0m         \u001b[0;31m# check if we are modifying a copy\u001b[0m\u001b[0;34m\u001b[0m\u001b[0;34m\u001b[0m\u001b[0;34m\u001b[0m\u001b[0m\n",
      "\u001b[0;32m/Library/Frameworks/Python.framework/Versions/3.6/lib/python3.6/site-packages/pandas/core/generic.py\u001b[0m in \u001b[0;36m_set_item\u001b[0;34m(self, key, value)\u001b[0m\n\u001b[1;32m   3622\u001b[0m \u001b[0;34m\u001b[0m\u001b[0m\n\u001b[1;32m   3623\u001b[0m     \u001b[0;32mdef\u001b[0m \u001b[0m_set_item\u001b[0m\u001b[0;34m(\u001b[0m\u001b[0mself\u001b[0m\u001b[0;34m,\u001b[0m \u001b[0mkey\u001b[0m\u001b[0;34m,\u001b[0m \u001b[0mvalue\u001b[0m\u001b[0;34m)\u001b[0m \u001b[0;34m->\u001b[0m \u001b[0;32mNone\u001b[0m\u001b[0;34m:\u001b[0m\u001b[0;34m\u001b[0m\u001b[0;34m\u001b[0m\u001b[0m\n\u001b[0;32m-> 3624\u001b[0;31m         \u001b[0mself\u001b[0m\u001b[0;34m.\u001b[0m\u001b[0m_data\u001b[0m\u001b[0;34m.\u001b[0m\u001b[0mset\u001b[0m\u001b[0;34m(\u001b[0m\u001b[0mkey\u001b[0m\u001b[0;34m,\u001b[0m \u001b[0mvalue\u001b[0m\u001b[0;34m)\u001b[0m\u001b[0;34m\u001b[0m\u001b[0;34m\u001b[0m\u001b[0m\n\u001b[0m\u001b[1;32m   3625\u001b[0m         \u001b[0mself\u001b[0m\u001b[0;34m.\u001b[0m\u001b[0m_clear_item_cache\u001b[0m\u001b[0;34m(\u001b[0m\u001b[0;34m)\u001b[0m\u001b[0;34m\u001b[0m\u001b[0;34m\u001b[0m\u001b[0m\n\u001b[1;32m   3626\u001b[0m \u001b[0;34m\u001b[0m\u001b[0m\n",
      "\u001b[0;32m/Library/Frameworks/Python.framework/Versions/3.6/lib/python3.6/site-packages/pandas/core/internals/managers.py\u001b[0m in \u001b[0;36mset\u001b[0;34m(self, item, value)\u001b[0m\n\u001b[1;32m   1072\u001b[0m         \u001b[0;32mexcept\u001b[0m \u001b[0mKeyError\u001b[0m\u001b[0;34m:\u001b[0m\u001b[0;34m\u001b[0m\u001b[0;34m\u001b[0m\u001b[0m\n\u001b[1;32m   1073\u001b[0m             \u001b[0;31m# This item wasn't present, just insert at end\u001b[0m\u001b[0;34m\u001b[0m\u001b[0;34m\u001b[0m\u001b[0;34m\u001b[0m\u001b[0m\n\u001b[0;32m-> 1074\u001b[0;31m             \u001b[0mself\u001b[0m\u001b[0;34m.\u001b[0m\u001b[0minsert\u001b[0m\u001b[0;34m(\u001b[0m\u001b[0mlen\u001b[0m\u001b[0;34m(\u001b[0m\u001b[0mself\u001b[0m\u001b[0;34m.\u001b[0m\u001b[0mitems\u001b[0m\u001b[0;34m)\u001b[0m\u001b[0;34m,\u001b[0m \u001b[0mitem\u001b[0m\u001b[0;34m,\u001b[0m \u001b[0mvalue\u001b[0m\u001b[0;34m)\u001b[0m\u001b[0;34m\u001b[0m\u001b[0;34m\u001b[0m\u001b[0m\n\u001b[0m\u001b[1;32m   1075\u001b[0m             \u001b[0;32mreturn\u001b[0m\u001b[0;34m\u001b[0m\u001b[0;34m\u001b[0m\u001b[0m\n\u001b[1;32m   1076\u001b[0m \u001b[0;34m\u001b[0m\u001b[0m\n",
      "\u001b[0;32m/Library/Frameworks/Python.framework/Versions/3.6/lib/python3.6/site-packages/pandas/core/internals/managers.py\u001b[0m in \u001b[0;36minsert\u001b[0;34m(self, loc, item, value, allow_duplicates)\u001b[0m\n\u001b[1;32m   1179\u001b[0m         \u001b[0mnew_axis\u001b[0m \u001b[0;34m=\u001b[0m \u001b[0mself\u001b[0m\u001b[0;34m.\u001b[0m\u001b[0mitems\u001b[0m\u001b[0;34m.\u001b[0m\u001b[0minsert\u001b[0m\u001b[0;34m(\u001b[0m\u001b[0mloc\u001b[0m\u001b[0;34m,\u001b[0m \u001b[0mitem\u001b[0m\u001b[0;34m)\u001b[0m\u001b[0;34m\u001b[0m\u001b[0;34m\u001b[0m\u001b[0m\n\u001b[1;32m   1180\u001b[0m \u001b[0;34m\u001b[0m\u001b[0m\n\u001b[0;32m-> 1181\u001b[0;31m         \u001b[0mblock\u001b[0m \u001b[0;34m=\u001b[0m \u001b[0mmake_block\u001b[0m\u001b[0;34m(\u001b[0m\u001b[0mvalues\u001b[0m\u001b[0;34m=\u001b[0m\u001b[0mvalue\u001b[0m\u001b[0;34m,\u001b[0m \u001b[0mndim\u001b[0m\u001b[0;34m=\u001b[0m\u001b[0mself\u001b[0m\u001b[0;34m.\u001b[0m\u001b[0mndim\u001b[0m\u001b[0;34m,\u001b[0m \u001b[0mplacement\u001b[0m\u001b[0;34m=\u001b[0m\u001b[0mslice\u001b[0m\u001b[0;34m(\u001b[0m\u001b[0mloc\u001b[0m\u001b[0;34m,\u001b[0m \u001b[0mloc\u001b[0m \u001b[0;34m+\u001b[0m \u001b[0;36m1\u001b[0m\u001b[0;34m)\u001b[0m\u001b[0;34m)\u001b[0m\u001b[0;34m\u001b[0m\u001b[0;34m\u001b[0m\u001b[0m\n\u001b[0m\u001b[1;32m   1182\u001b[0m \u001b[0;34m\u001b[0m\u001b[0m\n\u001b[1;32m   1183\u001b[0m         \u001b[0;32mfor\u001b[0m \u001b[0mblkno\u001b[0m\u001b[0;34m,\u001b[0m \u001b[0mcount\u001b[0m \u001b[0;32min\u001b[0m \u001b[0m_fast_count_smallints\u001b[0m\u001b[0;34m(\u001b[0m\u001b[0mself\u001b[0m\u001b[0;34m.\u001b[0m\u001b[0m_blknos\u001b[0m\u001b[0;34m[\u001b[0m\u001b[0mloc\u001b[0m\u001b[0;34m:\u001b[0m\u001b[0;34m]\u001b[0m\u001b[0;34m)\u001b[0m\u001b[0;34m:\u001b[0m\u001b[0;34m\u001b[0m\u001b[0;34m\u001b[0m\u001b[0m\n",
      "\u001b[0;32m/Library/Frameworks/Python.framework/Versions/3.6/lib/python3.6/site-packages/pandas/core/internals/blocks.py\u001b[0m in \u001b[0;36mmake_block\u001b[0;34m(values, placement, klass, ndim, dtype)\u001b[0m\n\u001b[1;32m   3039\u001b[0m         \u001b[0mvalues\u001b[0m \u001b[0;34m=\u001b[0m \u001b[0mDatetimeArray\u001b[0m\u001b[0;34m.\u001b[0m\u001b[0m_simple_new\u001b[0m\u001b[0;34m(\u001b[0m\u001b[0mvalues\u001b[0m\u001b[0;34m,\u001b[0m \u001b[0mdtype\u001b[0m\u001b[0;34m=\u001b[0m\u001b[0mdtype\u001b[0m\u001b[0;34m)\u001b[0m\u001b[0;34m\u001b[0m\u001b[0;34m\u001b[0m\u001b[0m\n\u001b[1;32m   3040\u001b[0m \u001b[0;34m\u001b[0m\u001b[0m\n\u001b[0;32m-> 3041\u001b[0;31m     \u001b[0;32mreturn\u001b[0m \u001b[0mklass\u001b[0m\u001b[0;34m(\u001b[0m\u001b[0mvalues\u001b[0m\u001b[0;34m,\u001b[0m \u001b[0mndim\u001b[0m\u001b[0;34m=\u001b[0m\u001b[0mndim\u001b[0m\u001b[0;34m,\u001b[0m \u001b[0mplacement\u001b[0m\u001b[0;34m=\u001b[0m\u001b[0mplacement\u001b[0m\u001b[0;34m)\u001b[0m\u001b[0;34m\u001b[0m\u001b[0;34m\u001b[0m\u001b[0m\n\u001b[0m\u001b[1;32m   3042\u001b[0m \u001b[0;34m\u001b[0m\u001b[0m\n\u001b[1;32m   3043\u001b[0m \u001b[0;34m\u001b[0m\u001b[0m\n",
      "\u001b[0;32m/Library/Frameworks/Python.framework/Versions/3.6/lib/python3.6/site-packages/pandas/core/internals/blocks.py\u001b[0m in \u001b[0;36m__init__\u001b[0;34m(self, values, placement, ndim)\u001b[0m\n\u001b[1;32m    123\u001b[0m         \u001b[0;32mif\u001b[0m \u001b[0mself\u001b[0m\u001b[0;34m.\u001b[0m\u001b[0m_validate_ndim\u001b[0m \u001b[0;32mand\u001b[0m \u001b[0mself\u001b[0m\u001b[0;34m.\u001b[0m\u001b[0mndim\u001b[0m \u001b[0;32mand\u001b[0m \u001b[0mlen\u001b[0m\u001b[0;34m(\u001b[0m\u001b[0mself\u001b[0m\u001b[0;34m.\u001b[0m\u001b[0mmgr_locs\u001b[0m\u001b[0;34m)\u001b[0m \u001b[0;34m!=\u001b[0m \u001b[0mlen\u001b[0m\u001b[0;34m(\u001b[0m\u001b[0mself\u001b[0m\u001b[0;34m.\u001b[0m\u001b[0mvalues\u001b[0m\u001b[0;34m)\u001b[0m\u001b[0;34m:\u001b[0m\u001b[0;34m\u001b[0m\u001b[0;34m\u001b[0m\u001b[0m\n\u001b[1;32m    124\u001b[0m             raise ValueError(\n\u001b[0;32m--> 125\u001b[0;31m                 \u001b[0;34mf\"Wrong number of items passed {len(self.values)}, \"\u001b[0m\u001b[0;34m\u001b[0m\u001b[0;34m\u001b[0m\u001b[0m\n\u001b[0m\u001b[1;32m    126\u001b[0m                 \u001b[0;34mf\"placement implies {len(self.mgr_locs)}\"\u001b[0m\u001b[0;34m\u001b[0m\u001b[0;34m\u001b[0m\u001b[0m\n\u001b[1;32m    127\u001b[0m             )\n",
      "\u001b[0;31mValueError\u001b[0m: Wrong number of items passed 3, placement implies 1"
     ]
    }
   ],
   "source": [
    "user_ratings_1, recommendations_1 = predict_recommend(model1,6293)"
   ]
  },
  {
   "cell_type": "code",
   "execution_count": 144,
   "metadata": {},
   "outputs": [
    {
     "data": {
      "text/html": [
       "<div>\n",
       "<style scoped>\n",
       "    .dataframe tbody tr th:only-of-type {\n",
       "        vertical-align: middle;\n",
       "    }\n",
       "\n",
       "    .dataframe tbody tr th {\n",
       "        vertical-align: top;\n",
       "    }\n",
       "\n",
       "    .dataframe thead th {\n",
       "        text-align: right;\n",
       "    }\n",
       "</style>\n",
       "<table border=\"1\" class=\"dataframe\">\n",
       "  <thead>\n",
       "    <tr style=\"text-align: right;\">\n",
       "      <th></th>\n",
       "      <th>UserID</th>\n",
       "      <th>BookID_Encoded</th>\n",
       "      <th>Book-Rating</th>\n",
       "      <th>prediction</th>\n",
       "    </tr>\n",
       "  </thead>\n",
       "  <tbody>\n",
       "    <tr>\n",
       "      <th>9998</th>\n",
       "      <td>6293</td>\n",
       "      <td>128</td>\n",
       "      <td>4</td>\n",
       "      <td>1.061748e-08</td>\n",
       "    </tr>\n",
       "    <tr>\n",
       "      <th>9999</th>\n",
       "      <td>6293</td>\n",
       "      <td>145</td>\n",
       "      <td>5</td>\n",
       "      <td>3.778361e-09</td>\n",
       "    </tr>\n",
       "    <tr>\n",
       "      <th>10000</th>\n",
       "      <td>6293</td>\n",
       "      <td>116</td>\n",
       "      <td>1</td>\n",
       "      <td>-2.378029e-09</td>\n",
       "    </tr>\n",
       "  </tbody>\n",
       "</table>\n",
       "</div>"
      ],
      "text/plain": [
       "       UserID  BookID_Encoded  Book-Rating    prediction\n",
       "9998     6293             128            4  1.061748e-08\n",
       "9999     6293             145            5  3.778361e-09\n",
       "10000    6293             116            1 -2.378029e-09"
      ]
     },
     "execution_count": 144,
     "metadata": {},
     "output_type": "execute_result"
    }
   ],
   "source": [
    "user_ratings_1"
   ]
  },
  {
   "cell_type": "code",
   "execution_count": 177,
   "metadata": {},
   "outputs": [
    {
     "data": {
      "text/html": [
       "<div>\n",
       "<style scoped>\n",
       "    .dataframe tbody tr th:only-of-type {\n",
       "        vertical-align: middle;\n",
       "    }\n",
       "\n",
       "    .dataframe tbody tr th {\n",
       "        vertical-align: top;\n",
       "    }\n",
       "\n",
       "    .dataframe thead th {\n",
       "        text-align: right;\n",
       "    }\n",
       "</style>\n",
       "<table border=\"1\" class=\"dataframe\">\n",
       "  <thead>\n",
       "    <tr style=\"text-align: right;\">\n",
       "      <th></th>\n",
       "      <th>BookID_Encoded</th>\n",
       "      <th>prediction</th>\n",
       "    </tr>\n",
       "  </thead>\n",
       "  <tbody>\n",
       "    <tr>\n",
       "      <th>0</th>\n",
       "      <td>124</td>\n",
       "      <td>1.952632e-08</td>\n",
       "    </tr>\n",
       "    <tr>\n",
       "      <th>53</th>\n",
       "      <td>252</td>\n",
       "      <td>1.599168e-08</td>\n",
       "    </tr>\n",
       "    <tr>\n",
       "      <th>55</th>\n",
       "      <td>295</td>\n",
       "      <td>-2.656209e-08</td>\n",
       "    </tr>\n",
       "    <tr>\n",
       "      <th>159</th>\n",
       "      <td>150</td>\n",
       "      <td>-6.237372e-09</td>\n",
       "    </tr>\n",
       "    <tr>\n",
       "      <th>160</th>\n",
       "      <td>271</td>\n",
       "      <td>-5.035998e-09</td>\n",
       "    </tr>\n",
       "    <tr>\n",
       "      <th>...</th>\n",
       "      <td>...</td>\n",
       "      <td>...</td>\n",
       "    </tr>\n",
       "    <tr>\n",
       "      <th>8296</th>\n",
       "      <td>285</td>\n",
       "      <td>-2.985637e-08</td>\n",
       "    </tr>\n",
       "    <tr>\n",
       "      <th>8772</th>\n",
       "      <td>183</td>\n",
       "      <td>1.883236e-13</td>\n",
       "    </tr>\n",
       "    <tr>\n",
       "      <th>8773</th>\n",
       "      <td>51</td>\n",
       "      <td>-2.164238e-11</td>\n",
       "    </tr>\n",
       "    <tr>\n",
       "      <th>8774</th>\n",
       "      <td>334</td>\n",
       "      <td>-4.133194e-13</td>\n",
       "    </tr>\n",
       "    <tr>\n",
       "      <th>8777</th>\n",
       "      <td>333</td>\n",
       "      <td>-1.559869e-08</td>\n",
       "    </tr>\n",
       "  </tbody>\n",
       "</table>\n",
       "<p>333 rows × 2 columns</p>\n",
       "</div>"
      ],
      "text/plain": [
       "      BookID_Encoded    prediction\n",
       "0                124  1.952632e-08\n",
       "53               252  1.599168e-08\n",
       "55               295 -2.656209e-08\n",
       "159              150 -6.237372e-09\n",
       "160              271 -5.035998e-09\n",
       "...              ...           ...\n",
       "8296             285 -2.985637e-08\n",
       "8772             183  1.883236e-13\n",
       "8773              51 -2.164238e-11\n",
       "8774             334 -4.133194e-13\n",
       "8777             333 -1.559869e-08\n",
       "\n",
       "[333 rows x 2 columns]"
      ]
     },
     "execution_count": 177,
     "metadata": {},
     "output_type": "execute_result"
    }
   ],
   "source": [
    "recommendations_1"
   ]
  },
  {
   "cell_type": "markdown",
   "metadata": {
    "colab_type": "text",
    "id": "zwpOi51caTUp"
   },
   "source": [
    "## How long did it take you to solve the homework?\n",
    "\n",
    "* Please answer as precisely as you can. It does not affect your points or grade in any way. It is okay, if it took 0.5 hours or 24 hours. The collected information will be used to improve future homeworks.\n",
    "\n",
    "<font color='red'> **Answer:**</font>\n",
    "\n",
    "**<font color='red'>(please change X in the next cell into your estimate)</font>**\n",
    "\n",
    "10 hours\n",
    "\n",
    "## What is the level of difficulty for this homework?\n",
    "you can put only number between $0:10$ ($0:$ easy, $10:$ difficult)\n",
    "\n",
    "<font color='red'> **Answer:**</font>\n",
    "7"
   ]
  }
 ],
 "metadata": {
  "colab": {
   "name": "Homework_04.ipynb",
   "provenance": []
  },
  "kernelspec": {
   "display_name": "Python 3",
   "language": "python",
   "name": "python3"
  },
  "language_info": {
   "codemirror_mode": {
    "name": "ipython",
    "version": 3
   },
   "file_extension": ".py",
   "mimetype": "text/x-python",
   "name": "python",
   "nbconvert_exporter": "python",
   "pygments_lexer": "ipython3",
   "version": "3.6.7"
  }
 },
 "nbformat": 4,
 "nbformat_minor": 1
}
