{
 "cells": [
  {
   "cell_type": "markdown",
   "metadata": {
    "colab_type": "text",
    "id": "PKhkIe6LqP6j"
   },
   "source": [
    "<div class=\"alert alert-block alert-info\"><b></b>\n",
    "<h1><center> <font color='black'> Homework 06  </font></center></h1>\n",
    "<h2><center> <font color='black'> Knowledge graphs &  Fairness and Explainability </font></center></h2>\n",
    "<h2><center> <font color='black'> Due date : 24 May 23:59 </font></center></h2>    \n",
    "<h2><center> <font color='black'> BDA - University of Tartu - Spring 2020</font></center></h3>\n",
    "</div>"
   ]
  },
  {
   "cell_type": "markdown",
   "metadata": {
    "colab_type": "text",
    "id": "_eSWkN6YqP6o"
   },
   "source": [
    "# Homework Instructions"
   ]
  },
  {
   "cell_type": "markdown",
   "metadata": {
    "colab_type": "text",
    "id": "8iFA9QAWqP6s"
   },
   "source": [
    "- Insert your team member names and student IDs in the field \"Team mates\" below. If you are not working in a team please insert only your name, surname and student ID \n",
    "\n",
    "- The accepted submission formats are Colab links or .ipynb files. If you are submitting Colab links please make sure that the privacy settings for the file is public so we can access your code. \n",
    "\n",
    "- The submission will automatically close at 12:00 am, so please make sure you have enough time to submit the homework. \n",
    "\n",
    "- Only one of the teammates should submit the homework. We will grade and give points to both of you! \n",
    "\n",
    "- You do not necessarily need to work on Colab. Especially as the size and the complexity of datasets will increase through the course, you can install jupyter notebooks locally and work from there.\n",
    "\n",
    "- If you do not understand what a question is asking for, please ask in Moodle. "
   ]
  },
  {
   "cell_type": "markdown",
   "metadata": {
    "colab_type": "text",
    "id": "ZSPSsMy0qP6v"
   },
   "source": [
    "**<h2><font color='red'>Team mates:</font></h2>**\n",
    "\n",
    "\n",
    "<font color='red'>Name Surname: XXXXX</font>&emsp;   <font color='red'>Student ID: YYYY</font>\n",
    "\n",
    "\n",
    "<font color='red'>Name Surname: XXXXX</font>&emsp;   <font color='red'>Student ID: YYYY</font>"
   ]
  },
  {
   "cell_type": "markdown",
   "metadata": {
    "colab_type": "text",
    "id": "L_27zGUHqP6z"
   },
   "source": [
    "# 1. Knowledge graphs (7 points)"
   ]
  },
  {
   "cell_type": "markdown",
   "metadata": {
    "colab_type": "text",
    "id": "D-Bs_JjQqP61"
   },
   "source": [
    "## 1.1 Insurance fraud (2.5 points)"
   ]
  },
  {
   "cell_type": "markdown",
   "metadata": {
    "colab_type": "text",
    "id": "p8w4r_N9qP67"
   },
   "source": [
    "In this exercise you will try to depict car insurance fraudsters using knowledge graphs. Firstly, go through this [page](http://www.ibc.ca/on/auto/insurance-crime/staged-collisions) to learn more about the staged collisions. You can use additional sources if you want to get a more detailed information."
   ]
  },
  {
   "cell_type": "markdown",
   "metadata": {
    "colab_type": "text",
    "id": "ytFqgVStqP7B"
   },
   "source": [
    "Load the datasets people.csv and accidents.csv. This is synthetic data and none of the records are related to actual events or people. The file people.csv contains information about 8 people who involved in four different accidents. The file accidents.csv contains data related to this four accidents.\n",
    "The fields included are:\n",
    "\n",
    "**Accident_ID:** Self-descriptive\n",
    "\n",
    "**Location:** The location where the accident happened\n",
    "\n",
    "**CarID_1:** The ID of the first car involved in the accident\n",
    "\n",
    "**CarID_2:** The ID of the second car involved in the accident\n",
    "\n",
    "**DriverID_1:** The ID of the user who was driving the car in CarID_1\n",
    "\n",
    "**DriverID_2:** The ID of the user who was driving the car in CarID_2"
   ]
  },
  {
   "cell_type": "markdown",
   "metadata": {
    "colab_type": "text",
    "id": "Lo64-Z7HqP7G"
   },
   "source": [
    "**Take a look at the data in both dataframes. At least 3 out of 8 people are suspected to be fraudsters. Can you tell just by looking at the dataframes who might they be ?** (This is just a warm up for the exercise. No grades will be given for your answer. However we would be really interested to know if somebody has excellent observation skills)"
   ]
  },
  {
   "cell_type": "code",
   "execution_count": 1,
   "metadata": {
    "colab": {},
    "colab_type": "code",
    "id": "bsEGfArnqP7I"
   },
   "outputs": [
    {
     "name": "stdout",
     "output_type": "stream",
     "text": [
      "   User_ID First Name Last Name  Age           Address  Accident_ID     ROLE\n",
      "0        1    Chester    Murphy   25  Narva 108, Tartu            1   Driver\n",
      "1        2     Walter    Turner   26   Tilgi 49, Tartu            2   Driver\n",
      "2        3      Daryl    Fowler   25    Piik 67, Tartu            1   Driver\n",
      "3        4        Ted    Nelson   45   Herne 20, Tartu            3   Driver\n",
      "4        5     Olivia  Crawford   38  Kalevi 25, Tartu            2   Driver\n",
      "5        1    Chester    Murphy   25  Narva 108, Tartu            2  Witness\n",
      "6        6        Amy    Miller   27   Riia 408, Tartu            3   Driver\n",
      "7        7        Tes     Smith   25  Narva 108, Tartu            4   Driver\n",
      "8        8       Josh     Blake   36  Parnu 37, Tallin            4   Driver\n",
      "9        3      Daryl    Fowler   25    Piik 67, Tartu            4  Witness\n",
      "   Accident_ID Location  CarID_1  CarID_2  DriverID_1  DriverID_2\n",
      "0            1    Tartu     1000     1001           1           3\n",
      "1            2   Tallin     1002     1003           2           5\n",
      "2            3    Tartu     1004     1005           4           6\n",
      "3            4   Tallin     1006     1007           7           8\n"
     ]
    }
   ],
   "source": [
    "import pandas as pd\n",
    "\n",
    "people = pd.read_csv('people.csv')\n",
    "accidents = pd.read_csv('accidents.csv')\n",
    "\n",
    "print(people)\n",
    "print(accidents)"
   ]
  },
  {
   "cell_type": "code",
   "execution_count": null,
   "metadata": {},
   "outputs": [],
   "source": []
  },
  {
   "cell_type": "markdown",
   "metadata": {
    "colab_type": "text",
    "id": "opKq5-h7qP7W"
   },
   "source": [
    "<font color='red'> **Answer:** </font>\n",
    "    \n",
    "3 suscpected people as fraudsters:\n",
    "- user_id 1\n",
    "- user_id 3\n",
    "- user_id 2"
   ]
  },
  {
   "cell_type": "markdown",
   "metadata": {
    "colab_type": "text",
    "id": "UJ-VA8azqP7Y"
   },
   "source": [
    "**1.1.1 Knowledge graphs might help to recognize the fraudsters. In order to build knowledge graphs you have first to build the triples: source --> target --> edge. Store these triples in a new dataframe. The dataframe should cover all the relations in the table below:  (1.5 points)**\n",
    "\n",
    "|      Source      |    Target   |     Edge    |\n",
    "|:----------------:|:-----------:|:-----------:|\n",
    "| User_ID(or Name) |    Car_ID   |    Drives   |\n",
    "| User_ID(or Name) | Accident_ID |   Witness   |\n",
    "|      Car_ID      | Accident_ID | Involved in |\n",
    "|    Accident_ID   |   Location  | Happened in |\n",
    "| User_ID(or Name) | Address     | Lives in    |"
   ]
  },
  {
   "cell_type": "code",
   "execution_count": 16,
   "metadata": {},
   "outputs": [],
   "source": [
    "%%capture\n",
    "# !pip install ampligraph\n",
    "\n",
    "import numpy as np\n",
    "import pandas as pd\n",
    "import ampligraph\n",
    "\n",
    "ampligraph.__version__"
   ]
  },
  {
   "cell_type": "code",
   "execution_count": 32,
   "metadata": {},
   "outputs": [
    {
     "data": {
      "text/html": [
       "<div>\n",
       "<style scoped>\n",
       "    .dataframe tbody tr th:only-of-type {\n",
       "        vertical-align: middle;\n",
       "    }\n",
       "\n",
       "    .dataframe tbody tr th {\n",
       "        vertical-align: top;\n",
       "    }\n",
       "\n",
       "    .dataframe thead th {\n",
       "        text-align: right;\n",
       "    }\n",
       "</style>\n",
       "<table border=\"1\" class=\"dataframe\">\n",
       "  <thead>\n",
       "    <tr style=\"text-align: right;\">\n",
       "      <th></th>\n",
       "      <th>User_ID</th>\n",
       "      <th>User_ID_Name</th>\n",
       "      <th>Address</th>\n",
       "      <th>Accident_ID</th>\n",
       "      <th>ROLE</th>\n",
       "    </tr>\n",
       "  </thead>\n",
       "  <tbody>\n",
       "    <tr>\n",
       "      <th>0</th>\n",
       "      <td>1</td>\n",
       "      <td>1_ChesterMurphy</td>\n",
       "      <td>Narva 108, Tartu</td>\n",
       "      <td>1</td>\n",
       "      <td>Driver</td>\n",
       "    </tr>\n",
       "    <tr>\n",
       "      <th>1</th>\n",
       "      <td>2</td>\n",
       "      <td>2_WalterTurner</td>\n",
       "      <td>Tilgi 49, Tartu</td>\n",
       "      <td>2</td>\n",
       "      <td>Driver</td>\n",
       "    </tr>\n",
       "    <tr>\n",
       "      <th>2</th>\n",
       "      <td>3</td>\n",
       "      <td>3_DarylFowler</td>\n",
       "      <td>Piik 67, Tartu</td>\n",
       "      <td>1</td>\n",
       "      <td>Driver</td>\n",
       "    </tr>\n",
       "    <tr>\n",
       "      <th>3</th>\n",
       "      <td>4</td>\n",
       "      <td>4_TedNelson</td>\n",
       "      <td>Herne 20, Tartu</td>\n",
       "      <td>3</td>\n",
       "      <td>Driver</td>\n",
       "    </tr>\n",
       "    <tr>\n",
       "      <th>4</th>\n",
       "      <td>5</td>\n",
       "      <td>5_OliviaCrawford</td>\n",
       "      <td>Kalevi 25, Tartu</td>\n",
       "      <td>2</td>\n",
       "      <td>Driver</td>\n",
       "    </tr>\n",
       "    <tr>\n",
       "      <th>5</th>\n",
       "      <td>1</td>\n",
       "      <td>1_ChesterMurphy</td>\n",
       "      <td>Narva 108, Tartu</td>\n",
       "      <td>2</td>\n",
       "      <td>Witness</td>\n",
       "    </tr>\n",
       "    <tr>\n",
       "      <th>6</th>\n",
       "      <td>6</td>\n",
       "      <td>6_AmyMiller</td>\n",
       "      <td>Riia 408, Tartu</td>\n",
       "      <td>3</td>\n",
       "      <td>Driver</td>\n",
       "    </tr>\n",
       "    <tr>\n",
       "      <th>7</th>\n",
       "      <td>7</td>\n",
       "      <td>7_TesSmith</td>\n",
       "      <td>Narva 108, Tartu</td>\n",
       "      <td>4</td>\n",
       "      <td>Driver</td>\n",
       "    </tr>\n",
       "    <tr>\n",
       "      <th>8</th>\n",
       "      <td>8</td>\n",
       "      <td>8_JoshBlake</td>\n",
       "      <td>Parnu 37, Tallin</td>\n",
       "      <td>4</td>\n",
       "      <td>Driver</td>\n",
       "    </tr>\n",
       "    <tr>\n",
       "      <th>9</th>\n",
       "      <td>3</td>\n",
       "      <td>3_DarylFowler</td>\n",
       "      <td>Piik 67, Tartu</td>\n",
       "      <td>4</td>\n",
       "      <td>Witness</td>\n",
       "    </tr>\n",
       "  </tbody>\n",
       "</table>\n",
       "</div>"
      ],
      "text/plain": [
       "   User_ID      User_ID_Name           Address  Accident_ID     ROLE\n",
       "0        1   1_ChesterMurphy  Narva 108, Tartu            1   Driver\n",
       "1        2    2_WalterTurner   Tilgi 49, Tartu            2   Driver\n",
       "2        3     3_DarylFowler    Piik 67, Tartu            1   Driver\n",
       "3        4       4_TedNelson   Herne 20, Tartu            3   Driver\n",
       "4        5  5_OliviaCrawford  Kalevi 25, Tartu            2   Driver\n",
       "5        1   1_ChesterMurphy  Narva 108, Tartu            2  Witness\n",
       "6        6       6_AmyMiller   Riia 408, Tartu            3   Driver\n",
       "7        7        7_TesSmith  Narva 108, Tartu            4   Driver\n",
       "8        8       8_JoshBlake  Parnu 37, Tallin            4   Driver\n",
       "9        3     3_DarylFowler    Piik 67, Tartu            4  Witness"
      ]
     },
     "execution_count": 32,
     "metadata": {},
     "output_type": "execute_result"
    }
   ],
   "source": [
    "# people\n",
    "df1 = people.drop(columns=['Age', 'First Name', 'Last Name'])\n",
    "df1['User_ID_Name'] = people['User_ID'].astype(str) + \"_\" + people['First Name'] + people['Last Name']\n",
    "df1 = df1.reindex(columns=['User_ID', 'User_ID_Name', 'Address', 'Accident_ID', 'ROLE'])\n",
    "df1"
   ]
  },
  {
   "cell_type": "code",
   "execution_count": 33,
   "metadata": {},
   "outputs": [
    {
     "data": {
      "text/html": [
       "<div>\n",
       "<style scoped>\n",
       "    .dataframe tbody tr th:only-of-type {\n",
       "        vertical-align: middle;\n",
       "    }\n",
       "\n",
       "    .dataframe tbody tr th {\n",
       "        vertical-align: top;\n",
       "    }\n",
       "\n",
       "    .dataframe thead th {\n",
       "        text-align: right;\n",
       "    }\n",
       "</style>\n",
       "<table border=\"1\" class=\"dataframe\">\n",
       "  <thead>\n",
       "    <tr style=\"text-align: right;\">\n",
       "      <th></th>\n",
       "      <th>Accident_ID</th>\n",
       "      <th>Location</th>\n",
       "      <th>CarID_1</th>\n",
       "      <th>CarID_2</th>\n",
       "      <th>DriverID_1</th>\n",
       "      <th>DriverID_2</th>\n",
       "    </tr>\n",
       "  </thead>\n",
       "  <tbody>\n",
       "    <tr>\n",
       "      <th>0</th>\n",
       "      <td>1</td>\n",
       "      <td>Tartu</td>\n",
       "      <td>1000</td>\n",
       "      <td>1001</td>\n",
       "      <td>1</td>\n",
       "      <td>3</td>\n",
       "    </tr>\n",
       "    <tr>\n",
       "      <th>1</th>\n",
       "      <td>2</td>\n",
       "      <td>Tallin</td>\n",
       "      <td>1002</td>\n",
       "      <td>1003</td>\n",
       "      <td>2</td>\n",
       "      <td>5</td>\n",
       "    </tr>\n",
       "    <tr>\n",
       "      <th>2</th>\n",
       "      <td>3</td>\n",
       "      <td>Tartu</td>\n",
       "      <td>1004</td>\n",
       "      <td>1005</td>\n",
       "      <td>4</td>\n",
       "      <td>6</td>\n",
       "    </tr>\n",
       "    <tr>\n",
       "      <th>3</th>\n",
       "      <td>4</td>\n",
       "      <td>Tallin</td>\n",
       "      <td>1006</td>\n",
       "      <td>1007</td>\n",
       "      <td>7</td>\n",
       "      <td>8</td>\n",
       "    </tr>\n",
       "  </tbody>\n",
       "</table>\n",
       "</div>"
      ],
      "text/plain": [
       "   Accident_ID Location  CarID_1  CarID_2  DriverID_1  DriverID_2\n",
       "0            1    Tartu     1000     1001           1           3\n",
       "1            2   Tallin     1002     1003           2           5\n",
       "2            3    Tartu     1004     1005           4           6\n",
       "3            4   Tallin     1006     1007           7           8"
      ]
     },
     "execution_count": 33,
     "metadata": {},
     "output_type": "execute_result"
    }
   ],
   "source": [
    "df2 = accidents\n",
    "df2"
   ]
  },
  {
   "cell_type": "code",
   "execution_count": 65,
   "metadata": {},
   "outputs": [],
   "source": [
    "# row1\n",
    "triples = [('1_ChesterMurphy', '1000', 'Drives'),\n",
    "            ('2_WalterTurner', '1001', 'Drives'),\n",
    "            ('3_DarylFowler', '1002', 'Drives'),\n",
    "            ('4_TedNelson', '1003', 'Drives'),\n",
    "            ('5_OliviaCrawford', '1004', 'Drives'),\n",
    "            ('6_AmyMiller', '1005', 'Drives'),\n",
    "            ('7_TesSmith', '1006', 'Drives'),\n",
    "            ('8_JoshBlake', '1007', 'Drives'),\n",
    "          ]"
   ]
  },
  {
   "cell_type": "code",
   "execution_count": 66,
   "metadata": {},
   "outputs": [],
   "source": [
    "# row2\n",
    "triples.extend([('1_ChesterMurphy', '1', 'Witness'), \n",
    "                ('3_DarylFowler', '1', 'Witness')])"
   ]
  },
  {
   "cell_type": "code",
   "execution_count": 67,
   "metadata": {},
   "outputs": [],
   "source": [
    "# row3\n",
    "triples.extend([('1000', '1', 'Involved in'), \n",
    "                ('1001', '1', 'Involved in'), \n",
    "                ('1002', '2', 'Involved in'), \n",
    "                ('1003', '2', 'Involved in'), \n",
    "                ('1004', '3', 'Involved in'), \n",
    "                ('1005', '3', 'Involved in'), \n",
    "                ('1006', '4', 'Involved in'), \n",
    "                ('1007', '4', 'Involved in')])"
   ]
  },
  {
   "cell_type": "code",
   "execution_count": 68,
   "metadata": {},
   "outputs": [],
   "source": [
    "# row4\n",
    "triples.extend([('1', 'Tartu', 'Happened In'),\n",
    "                ('2', 'Tallin', 'Happened In'),\n",
    "                ('3', 'Tartu', 'Happened In'),\n",
    "                ('4', 'Tallin', 'Happened In')])"
   ]
  },
  {
   "cell_type": "code",
   "execution_count": 69,
   "metadata": {},
   "outputs": [],
   "source": [
    "# row5\n",
    "triples.extend([('1_ChesterMurphy', 'Narva 108, Tartu', 'Lives In'),\n",
    "                ('2_WalterTurner', 'Tilgi 49, Tartu', 'Lives In'),\n",
    "                ('3_DarylFowler', 'Piik 67, Tartu', 'Lives In'),\n",
    "                ('4_TedNelson', 'Herne 20, Tartu', 'Lives In'),\n",
    "                ('5_OliviaCrawford', 'Kalevi 25, Tartu', 'Lives In'),\n",
    "                ('6_AmyMiller', 'Riia 408, Tartu', 'Lives In'),\n",
    "                ('7_TesSmith', 'Narva 108, Tartu', 'Lives In'),\n",
    "                ('8_JoshBlake', 'Parnu 37, Tallin', 'Lives In')])"
   ]
  },
  {
   "cell_type": "code",
   "execution_count": 70,
   "metadata": {},
   "outputs": [
    {
     "data": {
      "text/html": [
       "<div>\n",
       "<style scoped>\n",
       "    .dataframe tbody tr th:only-of-type {\n",
       "        vertical-align: middle;\n",
       "    }\n",
       "\n",
       "    .dataframe tbody tr th {\n",
       "        vertical-align: top;\n",
       "    }\n",
       "\n",
       "    .dataframe thead th {\n",
       "        text-align: right;\n",
       "    }\n",
       "</style>\n",
       "<table border=\"1\" class=\"dataframe\">\n",
       "  <thead>\n",
       "    <tr style=\"text-align: right;\">\n",
       "      <th></th>\n",
       "      <th>source</th>\n",
       "      <th>target</th>\n",
       "      <th>edge</th>\n",
       "    </tr>\n",
       "  </thead>\n",
       "  <tbody>\n",
       "    <tr>\n",
       "      <th>0</th>\n",
       "      <td>1_ChesterMurphy</td>\n",
       "      <td>1000</td>\n",
       "      <td>Drives</td>\n",
       "    </tr>\n",
       "    <tr>\n",
       "      <th>1</th>\n",
       "      <td>2_WalterTurner</td>\n",
       "      <td>1001</td>\n",
       "      <td>Drives</td>\n",
       "    </tr>\n",
       "    <tr>\n",
       "      <th>2</th>\n",
       "      <td>3_DarylFowler</td>\n",
       "      <td>1002</td>\n",
       "      <td>Drives</td>\n",
       "    </tr>\n",
       "    <tr>\n",
       "      <th>3</th>\n",
       "      <td>4_TedNelson</td>\n",
       "      <td>1003</td>\n",
       "      <td>Drives</td>\n",
       "    </tr>\n",
       "    <tr>\n",
       "      <th>4</th>\n",
       "      <td>5_OliviaCrawford</td>\n",
       "      <td>1004</td>\n",
       "      <td>Drives</td>\n",
       "    </tr>\n",
       "    <tr>\n",
       "      <th>5</th>\n",
       "      <td>6_AmyMiller</td>\n",
       "      <td>1005</td>\n",
       "      <td>Drives</td>\n",
       "    </tr>\n",
       "    <tr>\n",
       "      <th>6</th>\n",
       "      <td>7_TesSmith</td>\n",
       "      <td>1006</td>\n",
       "      <td>Drives</td>\n",
       "    </tr>\n",
       "    <tr>\n",
       "      <th>7</th>\n",
       "      <td>8_JoshBlake</td>\n",
       "      <td>1007</td>\n",
       "      <td>Drives</td>\n",
       "    </tr>\n",
       "    <tr>\n",
       "      <th>8</th>\n",
       "      <td>1_ChesterMurphy</td>\n",
       "      <td>1</td>\n",
       "      <td>Witness</td>\n",
       "    </tr>\n",
       "    <tr>\n",
       "      <th>9</th>\n",
       "      <td>3_DarylFowler</td>\n",
       "      <td>1</td>\n",
       "      <td>Witness</td>\n",
       "    </tr>\n",
       "    <tr>\n",
       "      <th>10</th>\n",
       "      <td>1000</td>\n",
       "      <td>1</td>\n",
       "      <td>Involved in</td>\n",
       "    </tr>\n",
       "    <tr>\n",
       "      <th>11</th>\n",
       "      <td>1001</td>\n",
       "      <td>1</td>\n",
       "      <td>Involved in</td>\n",
       "    </tr>\n",
       "    <tr>\n",
       "      <th>12</th>\n",
       "      <td>1002</td>\n",
       "      <td>2</td>\n",
       "      <td>Involved in</td>\n",
       "    </tr>\n",
       "    <tr>\n",
       "      <th>13</th>\n",
       "      <td>1003</td>\n",
       "      <td>2</td>\n",
       "      <td>Involved in</td>\n",
       "    </tr>\n",
       "    <tr>\n",
       "      <th>14</th>\n",
       "      <td>1004</td>\n",
       "      <td>3</td>\n",
       "      <td>Involved in</td>\n",
       "    </tr>\n",
       "    <tr>\n",
       "      <th>15</th>\n",
       "      <td>1005</td>\n",
       "      <td>3</td>\n",
       "      <td>Involved in</td>\n",
       "    </tr>\n",
       "    <tr>\n",
       "      <th>16</th>\n",
       "      <td>1006</td>\n",
       "      <td>4</td>\n",
       "      <td>Involved in</td>\n",
       "    </tr>\n",
       "    <tr>\n",
       "      <th>17</th>\n",
       "      <td>1007</td>\n",
       "      <td>4</td>\n",
       "      <td>Involved in</td>\n",
       "    </tr>\n",
       "    <tr>\n",
       "      <th>18</th>\n",
       "      <td>1</td>\n",
       "      <td>Tartu</td>\n",
       "      <td>Happened In</td>\n",
       "    </tr>\n",
       "    <tr>\n",
       "      <th>19</th>\n",
       "      <td>2</td>\n",
       "      <td>Tallin</td>\n",
       "      <td>Happened In</td>\n",
       "    </tr>\n",
       "    <tr>\n",
       "      <th>20</th>\n",
       "      <td>3</td>\n",
       "      <td>Tartu</td>\n",
       "      <td>Happened In</td>\n",
       "    </tr>\n",
       "    <tr>\n",
       "      <th>21</th>\n",
       "      <td>4</td>\n",
       "      <td>Tallin</td>\n",
       "      <td>Happened In</td>\n",
       "    </tr>\n",
       "    <tr>\n",
       "      <th>22</th>\n",
       "      <td>1_ChesterMurphy</td>\n",
       "      <td>Narva 108, Tartu</td>\n",
       "      <td>Lives In</td>\n",
       "    </tr>\n",
       "    <tr>\n",
       "      <th>23</th>\n",
       "      <td>2_WalterTurner</td>\n",
       "      <td>Tilgi 49, Tartu</td>\n",
       "      <td>Lives In</td>\n",
       "    </tr>\n",
       "    <tr>\n",
       "      <th>24</th>\n",
       "      <td>3_DarylFowler</td>\n",
       "      <td>Piik 67, Tartu</td>\n",
       "      <td>Lives In</td>\n",
       "    </tr>\n",
       "    <tr>\n",
       "      <th>25</th>\n",
       "      <td>4_TedNelson</td>\n",
       "      <td>Herne 20, Tartu</td>\n",
       "      <td>Lives In</td>\n",
       "    </tr>\n",
       "    <tr>\n",
       "      <th>26</th>\n",
       "      <td>5_OliviaCrawford</td>\n",
       "      <td>Kalevi 25, Tartu</td>\n",
       "      <td>Lives In</td>\n",
       "    </tr>\n",
       "    <tr>\n",
       "      <th>27</th>\n",
       "      <td>6_AmyMiller</td>\n",
       "      <td>Riia 408, Tartu</td>\n",
       "      <td>Lives In</td>\n",
       "    </tr>\n",
       "    <tr>\n",
       "      <th>28</th>\n",
       "      <td>7_TesSmith</td>\n",
       "      <td>Narva 108, Tartu</td>\n",
       "      <td>Lives In</td>\n",
       "    </tr>\n",
       "    <tr>\n",
       "      <th>29</th>\n",
       "      <td>8_JoshBlake</td>\n",
       "      <td>Parnu 37, Tallin</td>\n",
       "      <td>Lives In</td>\n",
       "    </tr>\n",
       "  </tbody>\n",
       "</table>\n",
       "</div>"
      ],
      "text/plain": [
       "              source            target         edge\n",
       "0    1_ChesterMurphy              1000       Drives\n",
       "1     2_WalterTurner              1001       Drives\n",
       "2      3_DarylFowler              1002       Drives\n",
       "3        4_TedNelson              1003       Drives\n",
       "4   5_OliviaCrawford              1004       Drives\n",
       "5        6_AmyMiller              1005       Drives\n",
       "6         7_TesSmith              1006       Drives\n",
       "7        8_JoshBlake              1007       Drives\n",
       "8    1_ChesterMurphy                 1      Witness\n",
       "9      3_DarylFowler                 1      Witness\n",
       "10              1000                 1  Involved in\n",
       "11              1001                 1  Involved in\n",
       "12              1002                 2  Involved in\n",
       "13              1003                 2  Involved in\n",
       "14              1004                 3  Involved in\n",
       "15              1005                 3  Involved in\n",
       "16              1006                 4  Involved in\n",
       "17              1007                 4  Involved in\n",
       "18                 1             Tartu  Happened In\n",
       "19                 2            Tallin  Happened In\n",
       "20                 3             Tartu  Happened In\n",
       "21                 4            Tallin  Happened In\n",
       "22   1_ChesterMurphy  Narva 108, Tartu     Lives In\n",
       "23    2_WalterTurner   Tilgi 49, Tartu     Lives In\n",
       "24     3_DarylFowler    Piik 67, Tartu     Lives In\n",
       "25       4_TedNelson   Herne 20, Tartu     Lives In\n",
       "26  5_OliviaCrawford  Kalevi 25, Tartu     Lives In\n",
       "27       6_AmyMiller   Riia 408, Tartu     Lives In\n",
       "28        7_TesSmith  Narva 108, Tartu     Lives In\n",
       "29       8_JoshBlake  Parnu 37, Tallin     Lives In"
      ]
     },
     "execution_count": 70,
     "metadata": {},
     "output_type": "execute_result"
    }
   ],
   "source": [
    "triples_df = pd.DataFrame(triples, columns=[\"source\", \"target\", \"edge\"])\n",
    "triples_df"
   ]
  },
  {
   "cell_type": "markdown",
   "metadata": {
    "colab_type": "text",
    "id": "_9vYVpENqP7s"
   },
   "source": [
    "**1.1.2 Use the dataframe which contains your triples to build a knowledge graph. You can use a paper drawing or any other drawing software. Hint: Try to keep an hierarchy while you draw i.e the accidents at the top at same level, the cars one level below etc. By doing so your graph will be more clear and you can easily get some clues. Insert the picture of your graph in the cell below.** <font color='red'> **Do not forget to send it in your submission as well** **(0.5 points)**"
   ]
  },
  {
   "cell_type": "code",
   "execution_count": 74,
   "metadata": {
    "colab": {},
    "colab_type": "code",
    "id": "FtE-mqg6qP7v"
   },
   "outputs": [
    {
     "data": {
      "image/png": "[encoded data removed]",
      "text/plain": [
       "<Figure size 864x864 with 1 Axes>"
      ]
     },
     "metadata": {},
     "output_type": "display_data"
    }
   ],
   "source": [
    "# create a directed-graph from a dataframe\n",
    "G=nx.from_pandas_edgelist(triples_df, \"source\", \"edge\", \n",
    "                          edge_attr=True, create_using=nx.MultiDiGraph())\n",
    "\n",
    "plt.figure(figsize=(12,12))\n",
    "\n",
    "pos = nx.spring_layout(G)\n",
    "nx.draw(G, with_labels=True, node_color='skyblue', edge_cmap=plt.cm.Blues, pos = pos)\n",
    "plt.show()"
   ]
  },
  {
   "cell_type": "markdown",
   "metadata": {
    "colab_type": "text",
    "id": "lZugiL4tqP78"
   },
   "source": [
    "**1.1.3 Mention at least the names of 3 people that you think are commiting insurance fraud by looking at the knowledge graph. Describe the factors why did you choose those 3. The description should include at least 3 key points. Please elaborate as much as possible. (0.5 points)**"
   ]
  },
  {
   "cell_type": "markdown",
   "metadata": {
    "colab_type": "text",
    "id": "0AQf1ycfqP7_"
   },
   "source": [
    "<font color='red'> **Answer:**\n"
   ]
  },
  {
   "cell_type": "markdown",
   "metadata": {
    "colab_type": "text",
    "id": "XCCCyo1cqP8C"
   },
   "source": [
    "## 1.2 Knowledge graph for clustering and classification (4.5 points)"
   ]
  },
  {
   "cell_type": "markdown",
   "metadata": {
    "colab_type": "text",
    "id": "-OTtGsY3qP8E"
   },
   "source": [
    "In this exercise you are going to use the dataset from [kaggle](https://www.kaggle.com/jaykay12/odi-cricket-matches-19712017#ContinousDataset.csv) that contains all the ODI Cricket Matches in the interval 1971-2017. Cricket is a popular game  played in South Asian countries and Australia,\n",
    "which was originally introduced by British colonization. If you would like more information, [Lagaan](https://www.youtube.com/watch?v=oSIGQ0YkFxs) is an intersting Oscar candidate movie that explains the relation between colonial taxes and popularity of cricket.\n",
    "\n",
    "In this dataset the field \"Ground\" refers to the location where the match was held. "
   ]
  },
  {
   "cell_type": "markdown",
   "metadata": {
    "colab_type": "text",
    "id": "E_MJKFesqP8G"
   },
   "source": [
    "**1.2.1 Load the dataset cricket_data.csv. Create the entities match_id, ground_id,country_id,home_team_id,away_team_id and neutral that are going to be part of our knowledge graph. (0.5 points)**"
   ]
  },
  {
   "cell_type": "code",
   "execution_count": 0,
   "metadata": {
    "colab": {},
    "colab_type": "code",
    "id": "dC7V8V-gqP8I"
   },
   "outputs": [],
   "source": []
  },
  {
   "cell_type": "markdown",
   "metadata": {
    "colab_type": "text",
    "id": "Uyux1AcXqP8c"
   },
   "source": [
    "**1.2.2 Select manually 80%  as train set of the data and create the triples ['subject', 'predicate', 'object'] using the entities from 1.2.1. (1 points)** Hint: If there are some errors generated while building the triples check if match_id was formed correctly in 1.2.1"
   ]
  },
  {
   "cell_type": "code",
   "execution_count": 0,
   "metadata": {
    "colab": {},
    "colab_type": "code",
    "id": "r2KV1KetqP8f"
   },
   "outputs": [],
   "source": []
  },
  {
   "cell_type": "markdown",
   "metadata": {
    "colab_type": "text",
    "id": "iN_zcqaEqP8q"
   },
   "source": [
    "**1.2.3 Select only one match_id and visualize its knowledge graph using networkx (0.25 points)**"
   ]
  },
  {
   "cell_type": "code",
   "execution_count": 0,
   "metadata": {
    "colab": {},
    "colab_type": "code",
    "id": "q4NOoXvuqP8u"
   },
   "outputs": [],
   "source": []
  },
  {
   "cell_type": "markdown",
   "metadata": {
    "colab_type": "text",
    "id": "Nsnskn-mqP89"
   },
   "source": [
    "**1.2.4 Split the triples into train and validation set. Set the test size equal to 20% of the records in the dataset. Train the ComplexEx model for knowledge graphs embeddings and evaluate its performance using mr_score, mrr_score, hits_at_n_score. (0.75 points)**"
   ]
  },
  {
   "cell_type": "code",
   "execution_count": 0,
   "metadata": {
    "colab": {},
    "colab_type": "code",
    "id": "Co5UbjYCqP8-"
   },
   "outputs": [],
   "source": []
  },
  {
   "cell_type": "markdown",
   "metadata": {
    "colab_type": "text",
    "id": "v1UxS_sZqP9K"
   },
   "source": [
    "**1.2.5 Create a dictionary with the embeddings of all teams and use PCA to project embeddings to 2D space. Cluster the team embeddings in 6 clusters and plot them in a 2D graph. (0.75 points)**"
   ]
  },
  {
   "cell_type": "code",
   "execution_count": 0,
   "metadata": {
    "colab": {},
    "colab_type": "code",
    "id": "F2doV4jiqP9P"
   },
   "outputs": [],
   "source": []
  },
  {
   "cell_type": "markdown",
   "metadata": {
    "colab_type": "text",
    "id": "XyNedQb4qP9c"
   },
   "source": [
    "**1.2.6 In order to predict if the home team is going to win or lose we need to define a target variable. Create a new column called \"result\" in the dataframe that takes the value 'home_team_wins' if the home team is the winner and 'home_team_loses' if the home team has not won the match. (0.25 points)**"
   ]
  },
  {
   "cell_type": "code",
   "execution_count": 0,
   "metadata": {
    "colab": {},
    "colab_type": "code",
    "id": "NCIwCJc9qP9f"
   },
   "outputs": [],
   "source": []
  },
  {
   "cell_type": "markdown",
   "metadata": {
    "colab_type": "text",
    "id": "aBz2Bp3nqP9p"
   },
   "source": [
    "**1.2.7 Create a function that extracts the features (knowledge embeddings for home and away teams) and the target for a particular subset of the dataset (You can use the function from practice session). Run the function to get the variables for X_train, y_train, X_test and y_test. Remember that the train set indices are the same as in 1.2.2 (0.5 points)**\n"
   ]
  },
  {
   "cell_type": "code",
   "execution_count": 0,
   "metadata": {
    "colab": {},
    "colab_type": "code",
    "id": "B8zcXgSGqP9r"
   },
   "outputs": [],
   "source": []
  },
  {
   "cell_type": "markdown",
   "metadata": {
    "colab_type": "text",
    "id": "2SrNPzDDqP93"
   },
   "source": [
    "**1.2.8 Create an instance of XGBClassifier and fit the training samples. Evaluate the accuracy of the model in test set. (0.5 points)**"
   ]
  },
  {
   "cell_type": "code",
   "execution_count": 0,
   "metadata": {
    "colab": {},
    "colab_type": "code",
    "id": "Rs-xamm_qP97"
   },
   "outputs": [],
   "source": []
  },
  {
   "cell_type": "markdown",
   "metadata": {
    "colab_type": "text",
    "id": "vXO3KzzRqP-P"
   },
   "source": [
    "# 2. Fairness & Interpretability ( 5 points)"
   ]
  },
  {
   "cell_type": "markdown",
   "metadata": {
    "colab_type": "text",
    "id": "CD13zq7dqP-T"
   },
   "source": [
    "In this section you are going to use the standard German Credit dataset used to bechmark many model interpretability techniques. The daset contains 1000 records of loan applications associatid with a risk score: Good or Bad."
   ]
  },
  {
   "cell_type": "markdown",
   "metadata": {
    "colab_type": "text",
    "id": "JtbM9PjSqP-Y"
   },
   "source": [
    "**2.1 Load the dataset german_credit_data.csv. The dataset has some empty values. Choose one imputation method for each columnd and fill in the empty cells. (0.5 points)**"
   ]
  },
  {
   "cell_type": "code",
   "execution_count": 0,
   "metadata": {
    "colab": {},
    "colab_type": "code",
    "id": "1IQCdkK1qP-b"
   },
   "outputs": [],
   "source": []
  },
  {
   "cell_type": "markdown",
   "metadata": {
    "colab_type": "text",
    "id": "W-oNAEq0qP-y"
   },
   "source": [
    "**2.2 Plot the values of the column Age against the Risk column. Do you think there exist  bias in this dataset ? (0.5 points)**"
   ]
  },
  {
   "cell_type": "code",
   "execution_count": 0,
   "metadata": {
    "colab": {},
    "colab_type": "code",
    "id": "yqf04FLVqP-z"
   },
   "outputs": [],
   "source": []
  },
  {
   "cell_type": "markdown",
   "metadata": {
    "colab_type": "text",
    "id": "gAHod7xQqP-9"
   },
   "source": [
    "<font color='red'> **Answer:**\n"
   ]
  },
  {
   "cell_type": "markdown",
   "metadata": {
    "colab_type": "text",
    "id": "KP-ztVrIqP-_"
   },
   "source": [
    "**2.3 Calculate the percentage of the applications by gender Female that got a Bad credit score and a Good credit score. Do the same for Male gender. Do you believe there is enough data to think there is a bias in the dataset ? (0.5 points)**"
   ]
  },
  {
   "cell_type": "code",
   "execution_count": 0,
   "metadata": {
    "colab": {},
    "colab_type": "code",
    "id": "VXmT2050qP_B"
   },
   "outputs": [],
   "source": []
  },
  {
   "cell_type": "markdown",
   "metadata": {
    "colab_type": "text",
    "id": "ITyCgp3uqP_T"
   },
   "source": [
    "<font color='red'> **Answer:**\n"
   ]
  },
  {
   "cell_type": "markdown",
   "metadata": {
    "colab_type": "text",
    "id": "Fk7vkSttqP_U"
   },
   "source": [
    "**2.4 Copy the data in a new dataframe and perform label encoding. Split the dataset in 80% train and 70% test set while keeping the random state equal to 99. Train the XGBoost classifier below and predict the results in test set. Report the accuracy and F1-score. Plot the classifcation report as well. (0.5 points)**"
   ]
  },
  {
   "cell_type": "code",
   "execution_count": 0,
   "metadata": {
    "colab": {},
    "colab_type": "code",
    "id": "A5MHWOG_qP_V"
   },
   "outputs": [],
   "source": [
    "import xgboost as xgb\n",
    "xgc = xgb.XGBClassifier(n_estimators=500, max_depth=5, base_score=0.5,\n",
    "                        objective='binary:logistic', random_state=99)"
   ]
  },
  {
   "cell_type": "code",
   "execution_count": 0,
   "metadata": {
    "colab": {},
    "colab_type": "code",
    "id": "kNysE8aRqP_e"
   },
   "outputs": [],
   "source": []
  },
  {
   "cell_type": "markdown",
   "metadata": {
    "colab_type": "text",
    "id": "nKJ_FTDfqP_r"
   },
   "source": [
    "**2.5 Plot 3 types of  feature importance given by XGBoost and interpret the results. (0.5 points)**"
   ]
  },
  {
   "cell_type": "code",
   "execution_count": 0,
   "metadata": {
    "colab": {},
    "colab_type": "code",
    "id": "iktnVZ7iqP_s"
   },
   "outputs": [],
   "source": []
  },
  {
   "cell_type": "markdown",
   "metadata": {
    "colab_type": "text",
    "id": "dMHWoH3mqP_-"
   },
   "source": [
    "<font color='red'> **Answer:**\n"
   ]
  },
  {
   "cell_type": "markdown",
   "metadata": {
    "colab_type": "text",
    "id": "2eHQv7TAqQAA"
   },
   "source": [
    "**2.6 Use eli5 to analyze the most important features of a sample where the credit score is equal to Bad and another sample when the credit score is equal to Good. Explain briefly the results (0.5 points)**"
   ]
  },
  {
   "cell_type": "code",
   "execution_count": 0,
   "metadata": {
    "colab": {},
    "colab_type": "code",
    "id": "ivA3IkjaqQAC"
   },
   "outputs": [],
   "source": []
  },
  {
   "cell_type": "markdown",
   "metadata": {
    "colab_type": "text",
    "id": "xDrSeExbqQAW"
   },
   "source": [
    "<font color='red'> **Answer:**\n"
   ]
  },
  {
   "cell_type": "markdown",
   "metadata": {
    "colab_type": "text",
    "id": "QRn01tqLqQAY"
   },
   "source": [
    "**2.7 Use SHAP to explain the prediction of the model for a sample where the credit score is equal to Bad and another sample when the credit score is equal to Good. Explain briefly the results.(0.5 points)**"
   ]
  },
  {
   "cell_type": "code",
   "execution_count": 0,
   "metadata": {
    "colab": {},
    "colab_type": "code",
    "id": "PwbnwPsNqQAa"
   },
   "outputs": [],
   "source": []
  },
  {
   "cell_type": "markdown",
   "metadata": {
    "colab_type": "text",
    "id": "adgX29y6qQAk"
   },
   "source": [
    "<font color='red'> **Answer:**\n"
   ]
  },
  {
   "cell_type": "markdown",
   "metadata": {
    "colab_type": "text",
    "id": "OvkC298cqQAm"
   },
   "source": [
    "**2.8 Use SHAP to explain the prediction of the model for  the first 250 samples. Based on the similar patterns explain briefly the results(0.75 points)**"
   ]
  },
  {
   "cell_type": "code",
   "execution_count": 0,
   "metadata": {
    "colab": {},
    "colab_type": "code",
    "id": "KxYusrBqqQAp"
   },
   "outputs": [],
   "source": []
  },
  {
   "cell_type": "markdown",
   "metadata": {
    "colab_type": "text",
    "id": "GWkDRnS2qQAy"
   },
   "source": [
    "<font color='red'> **Answer:**\n"
   ]
  },
  {
   "cell_type": "markdown",
   "metadata": {
    "colab_type": "text",
    "id": "8dZWQAGoqQAz"
   },
   "source": [
    "**2.9 Plot as a bar chart the feature importances received from SHAP. Finally compare these results  with the result from 2.5 and 2.8. (0.75 points)**"
   ]
  },
  {
   "cell_type": "code",
   "execution_count": 0,
   "metadata": {
    "colab": {},
    "colab_type": "code",
    "id": "ZogFdG2gqQA1"
   },
   "outputs": [],
   "source": []
  },
  {
   "cell_type": "markdown",
   "metadata": {
    "colab_type": "text",
    "id": "6l44otjAqQBD"
   },
   "source": [
    "<font color='red'> **Answer:**\n"
   ]
  },
  {
   "cell_type": "markdown",
   "metadata": {
    "colab_type": "text",
    "id": "LW3lVqBXqQBE"
   },
   "source": [
    "## How long did it take you to solve the homework?\n",
    "\n",
    "* Please answer as precisely as you can. It does not affect your points or grade in any way. It is okay, if it took 0.5 hours or 24 hours. The collected information will be used to improve future homeworks.\n",
    "\n",
    "<font color='red'> **Answer:**</font>\n",
    "\n",
    "**<font color='red'>(please change X in the next cell into your estimate)</font>**\n",
    "\n",
    "X hours\n",
    "\n",
    "## What is the level of difficulty for this homework?\n",
    "you can put only number between $0:10$ ($0:$ easy, $10:$ difficult)\n",
    "\n",
    "<font color='red'> **Answer:**</font>"
   ]
  },
  {
   "cell_type": "code",
   "execution_count": 0,
   "metadata": {
    "colab": {},
    "colab_type": "code",
    "id": "UUd-gbd-qQBF"
   },
   "outputs": [],
   "source": []
  }
 ],
 "metadata": {
  "colab": {
   "name": "Homework_06.ipynb",
   "provenance": []
  },
  "kernelspec": {
   "display_name": "Python 3",
   "language": "python",
   "name": "python3"
  },
  "language_info": {
   "codemirror_mode": {
    "name": "ipython",
    "version": 3
   },
   "file_extension": ".py",
   "mimetype": "text/x-python",
   "name": "python",
   "nbconvert_exporter": "python",
   "pygments_lexer": "ipython3",
   "version": "3.6.7"
  }
 },
 "nbformat": 4,
 "nbformat_minor": 1
}
