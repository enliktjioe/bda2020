{
 "cells": [
  {
   "cell_type": "markdown",
   "metadata": {
    "colab_type": "text",
    "id": "PKhkIe6LqP6j"
   },
   "source": [
    "<div class=\"alert alert-block alert-info\"><b></b>\n",
    "<h1><center> <font color='black'> Homework 06  </font></center></h1>\n",
    "<h2><center> <font color='black'> Knowledge graphs &  Fairness and Explainability </font></center></h2>\n",
    "<h2><center> <font color='black'> Due date : 24 May 23:59 </font></center></h2>    \n",
    "<h2><center> <font color='black'> BDA - University of Tartu - Spring 2020</font></center></h3>\n",
    "</div>"
   ]
  },
  {
   "cell_type": "markdown",
   "metadata": {
    "colab_type": "text",
    "id": "_eSWkN6YqP6o"
   },
   "source": [
    "# Homework Instructions"
   ]
  },
  {
   "cell_type": "markdown",
   "metadata": {
    "colab_type": "text",
    "id": "8iFA9QAWqP6s"
   },
   "source": [
    "- Insert your team member names and student IDs in the field \"Team mates\" below. If you are not working in a team please insert only your name, surname and student ID \n",
    "\n",
    "- The accepted submission formats are Colab links or .ipynb files. If you are submitting Colab links please make sure that the privacy settings for the file is public so we can access your code. \n",
    "\n",
    "- The submission will automatically close at 12:00 am, so please make sure you have enough time to submit the homework. \n",
    "\n",
    "- Only one of the teammates should submit the homework. We will grade and give points to both of you! \n",
    "\n",
    "- You do not necessarily need to work on Colab. Especially as the size and the complexity of datasets will increase through the course, you can install jupyter notebooks locally and work from there.\n",
    "\n",
    "- If you do not understand what a question is asking for, please ask in Moodle. "
   ]
  },
  {
   "cell_type": "markdown",
   "metadata": {
    "colab_type": "text",
    "id": "ZSPSsMy0qP6v"
   },
   "source": [
    "**<h2><font color='red'>Team mates:</font></h2>**\n",
    "\n",
    "\n",
    "<font color='red'>Name Surname: XXXXX</font>&emsp;   <font color='red'>Student ID: YYYY</font>\n",
    "\n",
    "\n",
    "<font color='red'>Name Surname: XXXXX</font>&emsp;   <font color='red'>Student ID: YYYY</font>"
   ]
  },
  {
   "cell_type": "markdown",
   "metadata": {
    "colab_type": "text",
    "id": "L_27zGUHqP6z"
   },
   "source": [
    "# 1. Knowledge graphs (7 points)"
   ]
  },
  {
   "cell_type": "markdown",
   "metadata": {
    "colab_type": "text",
    "id": "D-Bs_JjQqP61"
   },
   "source": [
    "## 1.1 Insurance fraud (2.5 points)"
   ]
  },
  {
   "cell_type": "markdown",
   "metadata": {
    "colab_type": "text",
    "id": "p8w4r_N9qP67"
   },
   "source": [
    "In this exercise you will try to depict car insurance fraudsters using knowledge graphs. Firstly, go through this [page](http://www.ibc.ca/on/auto/insurance-crime/staged-collisions) to learn more about the staged collisions. You can use additional sources if you want to get a more detailed information."
   ]
  },
  {
   "cell_type": "markdown",
   "metadata": {
    "colab_type": "text",
    "id": "ytFqgVStqP7B"
   },
   "source": [
    "Load the datasets people.csv and accidents.csv. This is synthetic data and none of the records are related to actual events or people. The file people.csv contains information about 8 people who involved in four different accidents. The file accidents.csv contains data related to this four accidents.\n",
    "The fields included are:\n",
    "\n",
    "**Accident_ID:** Self-descriptive\n",
    "\n",
    "**Location:** The location where the accident happened\n",
    "\n",
    "**CarID_1:** The ID of the first car involved in the accident\n",
    "\n",
    "**CarID_2:** The ID of the second car involved in the accident\n",
    "\n",
    "**DriverID_1:** The ID of the user who was driving the car in CarID_1\n",
    "\n",
    "**DriverID_2:** The ID of the user who was driving the car in CarID_2"
   ]
  },
  {
   "cell_type": "markdown",
   "metadata": {
    "colab_type": "text",
    "id": "Lo64-Z7HqP7G"
   },
   "source": [
    "**Take a look at the data in both dataframes. At least 3 out of 8 people are suspected to be fraudsters. Can you tell just by looking at the dataframes who might they be ?** (This is just a warm up for the exercise. No grades will be given for your answer. However we would be really interested to know if somebody has excellent observation skills)"
   ]
  },
  {
   "cell_type": "code",
   "execution_count": 1,
   "metadata": {
    "colab": {},
    "colab_type": "code",
    "id": "bsEGfArnqP7I"
   },
   "outputs": [
    {
     "name": "stdout",
     "output_type": "stream",
     "text": [
      "   User_ID First Name Last Name  Age           Address  Accident_ID     ROLE\n",
      "0        1    Chester    Murphy   25  Narva 108, Tartu            1   Driver\n",
      "1        2     Walter    Turner   26   Tilgi 49, Tartu            2   Driver\n",
      "2        3      Daryl    Fowler   25    Piik 67, Tartu            1   Driver\n",
      "3        4        Ted    Nelson   45   Herne 20, Tartu            3   Driver\n",
      "4        5     Olivia  Crawford   38  Kalevi 25, Tartu            2   Driver\n",
      "5        1    Chester    Murphy   25  Narva 108, Tartu            2  Witness\n",
      "6        6        Amy    Miller   27   Riia 408, Tartu            3   Driver\n",
      "7        7        Tes     Smith   25  Narva 108, Tartu            4   Driver\n",
      "8        8       Josh     Blake   36  Parnu 37, Tallin            4   Driver\n",
      "9        3      Daryl    Fowler   25    Piik 67, Tartu            4  Witness\n",
      "   Accident_ID Location  CarID_1  CarID_2  DriverID_1  DriverID_2\n",
      "0            1    Tartu     1000     1001           1           3\n",
      "1            2   Tallin     1002     1003           2           5\n",
      "2            3    Tartu     1004     1005           4           6\n",
      "3            4   Tallin     1006     1007           7           8\n"
     ]
    }
   ],
   "source": [
    "import pandas as pd\n",
    "\n",
    "people = pd.read_csv('people.csv')\n",
    "accidents = pd.read_csv('accidents.csv')\n",
    "\n",
    "print(people)\n",
    "print(accidents)"
   ]
  },
  {
   "cell_type": "code",
   "execution_count": null,
   "metadata": {},
   "outputs": [],
   "source": []
  },
  {
   "cell_type": "markdown",
   "metadata": {
    "colab_type": "text",
    "id": "opKq5-h7qP7W"
   },
   "source": [
    "<font color='red'> **Answer:** </font>\n",
    "    \n",
    "3 suscpected people as fraudsters:\n",
    "- user_id 1\n",
    "- user_id 3\n",
    "- user_id 2"
   ]
  },
  {
   "cell_type": "markdown",
   "metadata": {
    "colab_type": "text",
    "id": "UJ-VA8azqP7Y"
   },
   "source": [
    "**1.1.1 Knowledge graphs might help to recognize the fraudsters. In order to build knowledge graphs you have first to build the triples: source --> target --> edge. Store these triples in a new dataframe. The dataframe should cover all the relations in the table below:  (1.5 points)**\n",
    "\n",
    "|      Source      |    Target   |     Edge    |\n",
    "|:----------------:|:-----------:|:-----------:|\n",
    "| User_ID(or Name) |    Car_ID   |    Drives   |\n",
    "| User_ID(or Name) | Accident_ID |   Witness   |\n",
    "|      Car_ID      | Accident_ID | Involved in |\n",
    "|    Accident_ID   |   Location  | Happened in |\n",
    "| User_ID(or Name) | Address     | Lives in    |"
   ]
  },
  {
   "cell_type": "code",
   "execution_count": 2,
   "metadata": {},
   "outputs": [],
   "source": [
    "%%capture\n",
    "# !pip install ampligraph\n",
    "\n",
    "import numpy as np\n",
    "import pandas as pd\n",
    "import ampligraph\n",
    "\n",
    "ampligraph.__version__"
   ]
  },
  {
   "cell_type": "code",
   "execution_count": 3,
   "metadata": {},
   "outputs": [
    {
     "data": {
      "text/html": [
       "<div>\n",
       "<style scoped>\n",
       "    .dataframe tbody tr th:only-of-type {\n",
       "        vertical-align: middle;\n",
       "    }\n",
       "\n",
       "    .dataframe tbody tr th {\n",
       "        vertical-align: top;\n",
       "    }\n",
       "\n",
       "    .dataframe thead th {\n",
       "        text-align: right;\n",
       "    }\n",
       "</style>\n",
       "<table border=\"1\" class=\"dataframe\">\n",
       "  <thead>\n",
       "    <tr style=\"text-align: right;\">\n",
       "      <th></th>\n",
       "      <th>User_ID</th>\n",
       "      <th>User_ID_Name</th>\n",
       "      <th>Address</th>\n",
       "      <th>Accident_ID</th>\n",
       "      <th>ROLE</th>\n",
       "    </tr>\n",
       "  </thead>\n",
       "  <tbody>\n",
       "    <tr>\n",
       "      <th>0</th>\n",
       "      <td>1</td>\n",
       "      <td>1_ChesterMurphy</td>\n",
       "      <td>Narva 108, Tartu</td>\n",
       "      <td>1</td>\n",
       "      <td>Driver</td>\n",
       "    </tr>\n",
       "    <tr>\n",
       "      <th>1</th>\n",
       "      <td>2</td>\n",
       "      <td>2_WalterTurner</td>\n",
       "      <td>Tilgi 49, Tartu</td>\n",
       "      <td>2</td>\n",
       "      <td>Driver</td>\n",
       "    </tr>\n",
       "    <tr>\n",
       "      <th>2</th>\n",
       "      <td>3</td>\n",
       "      <td>3_DarylFowler</td>\n",
       "      <td>Piik 67, Tartu</td>\n",
       "      <td>1</td>\n",
       "      <td>Driver</td>\n",
       "    </tr>\n",
       "    <tr>\n",
       "      <th>3</th>\n",
       "      <td>4</td>\n",
       "      <td>4_TedNelson</td>\n",
       "      <td>Herne 20, Tartu</td>\n",
       "      <td>3</td>\n",
       "      <td>Driver</td>\n",
       "    </tr>\n",
       "    <tr>\n",
       "      <th>4</th>\n",
       "      <td>5</td>\n",
       "      <td>5_OliviaCrawford</td>\n",
       "      <td>Kalevi 25, Tartu</td>\n",
       "      <td>2</td>\n",
       "      <td>Driver</td>\n",
       "    </tr>\n",
       "    <tr>\n",
       "      <th>5</th>\n",
       "      <td>1</td>\n",
       "      <td>1_ChesterMurphy</td>\n",
       "      <td>Narva 108, Tartu</td>\n",
       "      <td>2</td>\n",
       "      <td>Witness</td>\n",
       "    </tr>\n",
       "    <tr>\n",
       "      <th>6</th>\n",
       "      <td>6</td>\n",
       "      <td>6_AmyMiller</td>\n",
       "      <td>Riia 408, Tartu</td>\n",
       "      <td>3</td>\n",
       "      <td>Driver</td>\n",
       "    </tr>\n",
       "    <tr>\n",
       "      <th>7</th>\n",
       "      <td>7</td>\n",
       "      <td>7_TesSmith</td>\n",
       "      <td>Narva 108, Tartu</td>\n",
       "      <td>4</td>\n",
       "      <td>Driver</td>\n",
       "    </tr>\n",
       "    <tr>\n",
       "      <th>8</th>\n",
       "      <td>8</td>\n",
       "      <td>8_JoshBlake</td>\n",
       "      <td>Parnu 37, Tallin</td>\n",
       "      <td>4</td>\n",
       "      <td>Driver</td>\n",
       "    </tr>\n",
       "    <tr>\n",
       "      <th>9</th>\n",
       "      <td>3</td>\n",
       "      <td>3_DarylFowler</td>\n",
       "      <td>Piik 67, Tartu</td>\n",
       "      <td>4</td>\n",
       "      <td>Witness</td>\n",
       "    </tr>\n",
       "  </tbody>\n",
       "</table>\n",
       "</div>"
      ],
      "text/plain": [
       "   User_ID      User_ID_Name           Address  Accident_ID     ROLE\n",
       "0        1   1_ChesterMurphy  Narva 108, Tartu            1   Driver\n",
       "1        2    2_WalterTurner   Tilgi 49, Tartu            2   Driver\n",
       "2        3     3_DarylFowler    Piik 67, Tartu            1   Driver\n",
       "3        4       4_TedNelson   Herne 20, Tartu            3   Driver\n",
       "4        5  5_OliviaCrawford  Kalevi 25, Tartu            2   Driver\n",
       "5        1   1_ChesterMurphy  Narva 108, Tartu            2  Witness\n",
       "6        6       6_AmyMiller   Riia 408, Tartu            3   Driver\n",
       "7        7        7_TesSmith  Narva 108, Tartu            4   Driver\n",
       "8        8       8_JoshBlake  Parnu 37, Tallin            4   Driver\n",
       "9        3     3_DarylFowler    Piik 67, Tartu            4  Witness"
      ]
     },
     "execution_count": 3,
     "metadata": {},
     "output_type": "execute_result"
    }
   ],
   "source": [
    "# people\n",
    "df1 = people.drop(columns=['Age', 'First Name', 'Last Name'])\n",
    "df1['User_ID_Name'] = people['User_ID'].astype(str) + \"_\" + people['First Name'] + people['Last Name']\n",
    "df1 = df1.reindex(columns=['User_ID', 'User_ID_Name', 'Address', 'Accident_ID', 'ROLE'])\n",
    "df1"
   ]
  },
  {
   "cell_type": "code",
   "execution_count": 4,
   "metadata": {},
   "outputs": [
    {
     "data": {
      "text/html": [
       "<div>\n",
       "<style scoped>\n",
       "    .dataframe tbody tr th:only-of-type {\n",
       "        vertical-align: middle;\n",
       "    }\n",
       "\n",
       "    .dataframe tbody tr th {\n",
       "        vertical-align: top;\n",
       "    }\n",
       "\n",
       "    .dataframe thead th {\n",
       "        text-align: right;\n",
       "    }\n",
       "</style>\n",
       "<table border=\"1\" class=\"dataframe\">\n",
       "  <thead>\n",
       "    <tr style=\"text-align: right;\">\n",
       "      <th></th>\n",
       "      <th>Accident_ID</th>\n",
       "      <th>Location</th>\n",
       "      <th>CarID_1</th>\n",
       "      <th>CarID_2</th>\n",
       "      <th>DriverID_1</th>\n",
       "      <th>DriverID_2</th>\n",
       "    </tr>\n",
       "  </thead>\n",
       "  <tbody>\n",
       "    <tr>\n",
       "      <th>0</th>\n",
       "      <td>1</td>\n",
       "      <td>Tartu</td>\n",
       "      <td>1000</td>\n",
       "      <td>1001</td>\n",
       "      <td>1</td>\n",
       "      <td>3</td>\n",
       "    </tr>\n",
       "    <tr>\n",
       "      <th>1</th>\n",
       "      <td>2</td>\n",
       "      <td>Tallin</td>\n",
       "      <td>1002</td>\n",
       "      <td>1003</td>\n",
       "      <td>2</td>\n",
       "      <td>5</td>\n",
       "    </tr>\n",
       "    <tr>\n",
       "      <th>2</th>\n",
       "      <td>3</td>\n",
       "      <td>Tartu</td>\n",
       "      <td>1004</td>\n",
       "      <td>1005</td>\n",
       "      <td>4</td>\n",
       "      <td>6</td>\n",
       "    </tr>\n",
       "    <tr>\n",
       "      <th>3</th>\n",
       "      <td>4</td>\n",
       "      <td>Tallin</td>\n",
       "      <td>1006</td>\n",
       "      <td>1007</td>\n",
       "      <td>7</td>\n",
       "      <td>8</td>\n",
       "    </tr>\n",
       "  </tbody>\n",
       "</table>\n",
       "</div>"
      ],
      "text/plain": [
       "   Accident_ID Location  CarID_1  CarID_2  DriverID_1  DriverID_2\n",
       "0            1    Tartu     1000     1001           1           3\n",
       "1            2   Tallin     1002     1003           2           5\n",
       "2            3    Tartu     1004     1005           4           6\n",
       "3            4   Tallin     1006     1007           7           8"
      ]
     },
     "execution_count": 4,
     "metadata": {},
     "output_type": "execute_result"
    }
   ],
   "source": [
    "df2 = accidents\n",
    "df2"
   ]
  },
  {
   "cell_type": "code",
   "execution_count": 5,
   "metadata": {},
   "outputs": [],
   "source": [
    "# row1\n",
    "triples = [('1_ChesterMurphy', '1000', 'Drives'),\n",
    "            ('2_WalterTurner', '1001', 'Drives'),\n",
    "            ('3_DarylFowler', '1002', 'Drives'),\n",
    "            ('4_TedNelson', '1003', 'Drives'),\n",
    "            ('5_OliviaCrawford', '1004', 'Drives'),\n",
    "            ('6_AmyMiller', '1005', 'Drives'),\n",
    "            ('7_TesSmith', '1006', 'Drives'),\n",
    "            ('8_JoshBlake', '1007', 'Drives'),\n",
    "          ]"
   ]
  },
  {
   "cell_type": "code",
   "execution_count": 6,
   "metadata": {},
   "outputs": [],
   "source": [
    "# row2\n",
    "triples.extend([('1_ChesterMurphy', '1', 'Witness'), \n",
    "                ('3_DarylFowler', '1', 'Witness')])"
   ]
  },
  {
   "cell_type": "code",
   "execution_count": 7,
   "metadata": {},
   "outputs": [],
   "source": [
    "# row3\n",
    "triples.extend([('1000', '1', 'Involved in'), \n",
    "                ('1001', '1', 'Involved in'), \n",
    "                ('1002', '2', 'Involved in'), \n",
    "                ('1003', '2', 'Involved in'), \n",
    "                ('1004', '3', 'Involved in'), \n",
    "                ('1005', '3', 'Involved in'), \n",
    "                ('1006', '4', 'Involved in'), \n",
    "                ('1007', '4', 'Involved in')])"
   ]
  },
  {
   "cell_type": "code",
   "execution_count": 8,
   "metadata": {},
   "outputs": [],
   "source": [
    "# row4\n",
    "triples.extend([('1', 'Tartu', 'Happened In'),\n",
    "                ('2', 'Tallin', 'Happened In'),\n",
    "                ('3', 'Tartu', 'Happened In'),\n",
    "                ('4', 'Tallin', 'Happened In')])"
   ]
  },
  {
   "cell_type": "code",
   "execution_count": 9,
   "metadata": {},
   "outputs": [],
   "source": [
    "# row5\n",
    "triples.extend([('1_ChesterMurphy', 'Narva 108, Tartu', 'Lives In'),\n",
    "                ('2_WalterTurner', 'Tilgi 49, Tartu', 'Lives In'),\n",
    "                ('3_DarylFowler', 'Piik 67, Tartu', 'Lives In'),\n",
    "                ('4_TedNelson', 'Herne 20, Tartu', 'Lives In'),\n",
    "                ('5_OliviaCrawford', 'Kalevi 25, Tartu', 'Lives In'),\n",
    "                ('6_AmyMiller', 'Riia 408, Tartu', 'Lives In'),\n",
    "                ('7_TesSmith', 'Narva 108, Tartu', 'Lives In'),\n",
    "                ('8_JoshBlake', 'Parnu 37, Tallin', 'Lives In')])"
   ]
  },
  {
   "cell_type": "code",
   "execution_count": 10,
   "metadata": {},
   "outputs": [
    {
     "data": {
      "text/html": [
       "<div>\n",
       "<style scoped>\n",
       "    .dataframe tbody tr th:only-of-type {\n",
       "        vertical-align: middle;\n",
       "    }\n",
       "\n",
       "    .dataframe tbody tr th {\n",
       "        vertical-align: top;\n",
       "    }\n",
       "\n",
       "    .dataframe thead th {\n",
       "        text-align: right;\n",
       "    }\n",
       "</style>\n",
       "<table border=\"1\" class=\"dataframe\">\n",
       "  <thead>\n",
       "    <tr style=\"text-align: right;\">\n",
       "      <th></th>\n",
       "      <th>source</th>\n",
       "      <th>target</th>\n",
       "      <th>edge</th>\n",
       "    </tr>\n",
       "  </thead>\n",
       "  <tbody>\n",
       "    <tr>\n",
       "      <th>0</th>\n",
       "      <td>1_ChesterMurphy</td>\n",
       "      <td>1000</td>\n",
       "      <td>Drives</td>\n",
       "    </tr>\n",
       "    <tr>\n",
       "      <th>1</th>\n",
       "      <td>2_WalterTurner</td>\n",
       "      <td>1001</td>\n",
       "      <td>Drives</td>\n",
       "    </tr>\n",
       "    <tr>\n",
       "      <th>2</th>\n",
       "      <td>3_DarylFowler</td>\n",
       "      <td>1002</td>\n",
       "      <td>Drives</td>\n",
       "    </tr>\n",
       "    <tr>\n",
       "      <th>3</th>\n",
       "      <td>4_TedNelson</td>\n",
       "      <td>1003</td>\n",
       "      <td>Drives</td>\n",
       "    </tr>\n",
       "    <tr>\n",
       "      <th>4</th>\n",
       "      <td>5_OliviaCrawford</td>\n",
       "      <td>1004</td>\n",
       "      <td>Drives</td>\n",
       "    </tr>\n",
       "    <tr>\n",
       "      <th>5</th>\n",
       "      <td>6_AmyMiller</td>\n",
       "      <td>1005</td>\n",
       "      <td>Drives</td>\n",
       "    </tr>\n",
       "    <tr>\n",
       "      <th>6</th>\n",
       "      <td>7_TesSmith</td>\n",
       "      <td>1006</td>\n",
       "      <td>Drives</td>\n",
       "    </tr>\n",
       "    <tr>\n",
       "      <th>7</th>\n",
       "      <td>8_JoshBlake</td>\n",
       "      <td>1007</td>\n",
       "      <td>Drives</td>\n",
       "    </tr>\n",
       "    <tr>\n",
       "      <th>8</th>\n",
       "      <td>1_ChesterMurphy</td>\n",
       "      <td>1</td>\n",
       "      <td>Witness</td>\n",
       "    </tr>\n",
       "    <tr>\n",
       "      <th>9</th>\n",
       "      <td>3_DarylFowler</td>\n",
       "      <td>1</td>\n",
       "      <td>Witness</td>\n",
       "    </tr>\n",
       "    <tr>\n",
       "      <th>10</th>\n",
       "      <td>1000</td>\n",
       "      <td>1</td>\n",
       "      <td>Involved in</td>\n",
       "    </tr>\n",
       "    <tr>\n",
       "      <th>11</th>\n",
       "      <td>1001</td>\n",
       "      <td>1</td>\n",
       "      <td>Involved in</td>\n",
       "    </tr>\n",
       "    <tr>\n",
       "      <th>12</th>\n",
       "      <td>1002</td>\n",
       "      <td>2</td>\n",
       "      <td>Involved in</td>\n",
       "    </tr>\n",
       "    <tr>\n",
       "      <th>13</th>\n",
       "      <td>1003</td>\n",
       "      <td>2</td>\n",
       "      <td>Involved in</td>\n",
       "    </tr>\n",
       "    <tr>\n",
       "      <th>14</th>\n",
       "      <td>1004</td>\n",
       "      <td>3</td>\n",
       "      <td>Involved in</td>\n",
       "    </tr>\n",
       "    <tr>\n",
       "      <th>15</th>\n",
       "      <td>1005</td>\n",
       "      <td>3</td>\n",
       "      <td>Involved in</td>\n",
       "    </tr>\n",
       "    <tr>\n",
       "      <th>16</th>\n",
       "      <td>1006</td>\n",
       "      <td>4</td>\n",
       "      <td>Involved in</td>\n",
       "    </tr>\n",
       "    <tr>\n",
       "      <th>17</th>\n",
       "      <td>1007</td>\n",
       "      <td>4</td>\n",
       "      <td>Involved in</td>\n",
       "    </tr>\n",
       "    <tr>\n",
       "      <th>18</th>\n",
       "      <td>1</td>\n",
       "      <td>Tartu</td>\n",
       "      <td>Happened In</td>\n",
       "    </tr>\n",
       "    <tr>\n",
       "      <th>19</th>\n",
       "      <td>2</td>\n",
       "      <td>Tallin</td>\n",
       "      <td>Happened In</td>\n",
       "    </tr>\n",
       "    <tr>\n",
       "      <th>20</th>\n",
       "      <td>3</td>\n",
       "      <td>Tartu</td>\n",
       "      <td>Happened In</td>\n",
       "    </tr>\n",
       "    <tr>\n",
       "      <th>21</th>\n",
       "      <td>4</td>\n",
       "      <td>Tallin</td>\n",
       "      <td>Happened In</td>\n",
       "    </tr>\n",
       "    <tr>\n",
       "      <th>22</th>\n",
       "      <td>1_ChesterMurphy</td>\n",
       "      <td>Narva 108, Tartu</td>\n",
       "      <td>Lives In</td>\n",
       "    </tr>\n",
       "    <tr>\n",
       "      <th>23</th>\n",
       "      <td>2_WalterTurner</td>\n",
       "      <td>Tilgi 49, Tartu</td>\n",
       "      <td>Lives In</td>\n",
       "    </tr>\n",
       "    <tr>\n",
       "      <th>24</th>\n",
       "      <td>3_DarylFowler</td>\n",
       "      <td>Piik 67, Tartu</td>\n",
       "      <td>Lives In</td>\n",
       "    </tr>\n",
       "    <tr>\n",
       "      <th>25</th>\n",
       "      <td>4_TedNelson</td>\n",
       "      <td>Herne 20, Tartu</td>\n",
       "      <td>Lives In</td>\n",
       "    </tr>\n",
       "    <tr>\n",
       "      <th>26</th>\n",
       "      <td>5_OliviaCrawford</td>\n",
       "      <td>Kalevi 25, Tartu</td>\n",
       "      <td>Lives In</td>\n",
       "    </tr>\n",
       "    <tr>\n",
       "      <th>27</th>\n",
       "      <td>6_AmyMiller</td>\n",
       "      <td>Riia 408, Tartu</td>\n",
       "      <td>Lives In</td>\n",
       "    </tr>\n",
       "    <tr>\n",
       "      <th>28</th>\n",
       "      <td>7_TesSmith</td>\n",
       "      <td>Narva 108, Tartu</td>\n",
       "      <td>Lives In</td>\n",
       "    </tr>\n",
       "    <tr>\n",
       "      <th>29</th>\n",
       "      <td>8_JoshBlake</td>\n",
       "      <td>Parnu 37, Tallin</td>\n",
       "      <td>Lives In</td>\n",
       "    </tr>\n",
       "  </tbody>\n",
       "</table>\n",
       "</div>"
      ],
      "text/plain": [
       "              source            target         edge\n",
       "0    1_ChesterMurphy              1000       Drives\n",
       "1     2_WalterTurner              1001       Drives\n",
       "2      3_DarylFowler              1002       Drives\n",
       "3        4_TedNelson              1003       Drives\n",
       "4   5_OliviaCrawford              1004       Drives\n",
       "5        6_AmyMiller              1005       Drives\n",
       "6         7_TesSmith              1006       Drives\n",
       "7        8_JoshBlake              1007       Drives\n",
       "8    1_ChesterMurphy                 1      Witness\n",
       "9      3_DarylFowler                 1      Witness\n",
       "10              1000                 1  Involved in\n",
       "11              1001                 1  Involved in\n",
       "12              1002                 2  Involved in\n",
       "13              1003                 2  Involved in\n",
       "14              1004                 3  Involved in\n",
       "15              1005                 3  Involved in\n",
       "16              1006                 4  Involved in\n",
       "17              1007                 4  Involved in\n",
       "18                 1             Tartu  Happened In\n",
       "19                 2            Tallin  Happened In\n",
       "20                 3             Tartu  Happened In\n",
       "21                 4            Tallin  Happened In\n",
       "22   1_ChesterMurphy  Narva 108, Tartu     Lives In\n",
       "23    2_WalterTurner   Tilgi 49, Tartu     Lives In\n",
       "24     3_DarylFowler    Piik 67, Tartu     Lives In\n",
       "25       4_TedNelson   Herne 20, Tartu     Lives In\n",
       "26  5_OliviaCrawford  Kalevi 25, Tartu     Lives In\n",
       "27       6_AmyMiller   Riia 408, Tartu     Lives In\n",
       "28        7_TesSmith  Narva 108, Tartu     Lives In\n",
       "29       8_JoshBlake  Parnu 37, Tallin     Lives In"
      ]
     },
     "execution_count": 10,
     "metadata": {},
     "output_type": "execute_result"
    }
   ],
   "source": [
    "triples_df = pd.DataFrame(triples, columns=[\"source\", \"target\", \"edge\"])\n",
    "triples_df"
   ]
  },
  {
   "cell_type": "markdown",
   "metadata": {
    "colab_type": "text",
    "id": "_9vYVpENqP7s"
   },
   "source": [
    "**1.1.2 Use the dataframe which contains your triples to build a knowledge graph. You can use a paper drawing or any other drawing software. Hint: Try to keep an hierarchy while you draw i.e the accidents at the top at same level, the cars one level below etc. By doing so your graph will be more clear and you can easily get some clues. Insert the picture of your graph in the cell below.** <font color='red'> **Do not forget to send it in your submission as well** **(0.5 points)**"
   ]
  },
  {
   "cell_type": "code",
   "execution_count": 11,
   "metadata": {
    "colab": {},
    "colab_type": "code",
    "id": "FtE-mqg6qP7v"
   },
   "outputs": [
    {
     "ename": "NameError",
     "evalue": "name 'nx' is not defined",
     "output_type": "error",
     "traceback": [
      "\u001b[0;31m---------------------------------------------------------------------------\u001b[0m",
      "\u001b[0;31mNameError\u001b[0m                                 Traceback (most recent call last)",
      "\u001b[0;32m<ipython-input-11-6c3cede5089f>\u001b[0m in \u001b[0;36m<module>\u001b[0;34m\u001b[0m\n\u001b[1;32m      1\u001b[0m \u001b[0;31m# create a directed-graph from a dataframe\u001b[0m\u001b[0;34m\u001b[0m\u001b[0;34m\u001b[0m\u001b[0;34m\u001b[0m\u001b[0m\n\u001b[0;32m----> 2\u001b[0;31m G=nx.from_pandas_edgelist(triples_df, \"source\", \"edge\", \n\u001b[0m\u001b[1;32m      3\u001b[0m                           edge_attr=True, create_using=nx.MultiDiGraph())\n\u001b[1;32m      4\u001b[0m \u001b[0;34m\u001b[0m\u001b[0m\n\u001b[1;32m      5\u001b[0m \u001b[0mplt\u001b[0m\u001b[0;34m.\u001b[0m\u001b[0mfigure\u001b[0m\u001b[0;34m(\u001b[0m\u001b[0mfigsize\u001b[0m\u001b[0;34m=\u001b[0m\u001b[0;34m(\u001b[0m\u001b[0;36m12\u001b[0m\u001b[0;34m,\u001b[0m\u001b[0;36m12\u001b[0m\u001b[0;34m)\u001b[0m\u001b[0;34m)\u001b[0m\u001b[0;34m\u001b[0m\u001b[0;34m\u001b[0m\u001b[0m\n",
      "\u001b[0;31mNameError\u001b[0m: name 'nx' is not defined"
     ]
    }
   ],
   "source": [
    "# create a directed-graph from a dataframe\n",
    "G=nx.from_pandas_edgelist(triples_df, \"source\", \"edge\", \n",
    "                          edge_attr=True, create_using=nx.MultiDiGraph())\n",
    "\n",
    "plt.figure(figsize=(12,12))\n",
    "\n",
    "pos = nx.spring_layout(G)\n",
    "nx.draw(G, with_labels=True, node_color='skyblue', edge_cmap=plt.cm.Blues, pos = pos)\n",
    "plt.show()"
   ]
  },
  {
   "cell_type": "markdown",
   "metadata": {
    "colab_type": "text",
    "id": "lZugiL4tqP78"
   },
   "source": [
    "**1.1.3 Mention at least the names of 3 people that you think are commiting insurance fraud by looking at the knowledge graph. Describe the factors why did you choose those 3. The description should include at least 3 key points. Please elaborate as much as possible. (0.5 points)**"
   ]
  },
  {
   "cell_type": "markdown",
   "metadata": {
    "colab_type": "text",
    "id": "0AQf1ycfqP7_"
   },
   "source": [
    "<font color='red'> **Answer:** </font>\n",
    "\n",
    "//TODO\n"
   ]
  },
  {
   "cell_type": "markdown",
   "metadata": {
    "colab_type": "text",
    "id": "XCCCyo1cqP8C"
   },
   "source": [
    "## 1.2 Knowledge graph for clustering and classification (4.5 points)"
   ]
  },
  {
   "cell_type": "markdown",
   "metadata": {
    "colab_type": "text",
    "id": "-OTtGsY3qP8E"
   },
   "source": [
    "In this exercise you are going to use the dataset from [kaggle](https://www.kaggle.com/jaykay12/odi-cricket-matches-19712017#ContinousDataset.csv) that contains all the ODI Cricket Matches in the interval 1971-2017. Cricket is a popular game  played in South Asian countries and Australia,\n",
    "which was originally introduced by British colonization. If you would like more information, [Lagaan](https://www.youtube.com/watch?v=oSIGQ0YkFxs) is an intersting Oscar candidate movie that explains the relation between colonial taxes and popularity of cricket.\n",
    "\n",
    "In this dataset the field \"Ground\" refers to the location where the match was held. "
   ]
  },
  {
   "cell_type": "markdown",
   "metadata": {
    "colab_type": "text",
    "id": "E_MJKFesqP8G"
   },
   "source": [
    "**1.2.1 Load the dataset cricket_data.csv. Create the entities match_id, ground_id,country_id,home_team_id,away_team_id and neutral that are going to be part of our knowledge graph. (0.5 points)**"
   ]
  },
  {
   "cell_type": "code",
   "execution_count": 66,
   "metadata": {
    "colab": {},
    "colab_type": "code",
    "id": "dC7V8V-gqP8I"
   },
   "outputs": [
    {
     "data": {
      "text/html": [
       "<div>\n",
       "<style scoped>\n",
       "    .dataframe tbody tr th:only-of-type {\n",
       "        vertical-align: middle;\n",
       "    }\n",
       "\n",
       "    .dataframe tbody tr th {\n",
       "        vertical-align: top;\n",
       "    }\n",
       "\n",
       "    .dataframe thead th {\n",
       "        text-align: right;\n",
       "    }\n",
       "</style>\n",
       "<table border=\"1\" class=\"dataframe\">\n",
       "  <thead>\n",
       "    <tr style=\"text-align: right;\">\n",
       "      <th></th>\n",
       "      <th>ground</th>\n",
       "      <th>date</th>\n",
       "      <th>winner</th>\n",
       "      <th>host_country</th>\n",
       "      <th>home_team</th>\n",
       "      <th>away_team</th>\n",
       "      <th>neutral</th>\n",
       "    </tr>\n",
       "  </thead>\n",
       "  <tbody>\n",
       "    <tr>\n",
       "      <th>0</th>\n",
       "      <td>Melbourne</td>\n",
       "      <td>Jan 5, 1971</td>\n",
       "      <td>Australia</td>\n",
       "      <td>Australia</td>\n",
       "      <td>Australia</td>\n",
       "      <td>England</td>\n",
       "      <td>False</td>\n",
       "    </tr>\n",
       "    <tr>\n",
       "      <th>1</th>\n",
       "      <td>Manchester</td>\n",
       "      <td>Aug 24, 1972</td>\n",
       "      <td>England</td>\n",
       "      <td>England</td>\n",
       "      <td>England</td>\n",
       "      <td>Australia</td>\n",
       "      <td>False</td>\n",
       "    </tr>\n",
       "    <tr>\n",
       "      <th>2</th>\n",
       "      <td>Lord's</td>\n",
       "      <td>Aug 26, 1972</td>\n",
       "      <td>Australia</td>\n",
       "      <td>England</td>\n",
       "      <td>England</td>\n",
       "      <td>Australia</td>\n",
       "      <td>False</td>\n",
       "    </tr>\n",
       "    <tr>\n",
       "      <th>3</th>\n",
       "      <td>Birmingham</td>\n",
       "      <td>Aug 28, 1972</td>\n",
       "      <td>England</td>\n",
       "      <td>England</td>\n",
       "      <td>England</td>\n",
       "      <td>Australia</td>\n",
       "      <td>False</td>\n",
       "    </tr>\n",
       "    <tr>\n",
       "      <th>4</th>\n",
       "      <td>Christchurch</td>\n",
       "      <td>Feb 11, 1973</td>\n",
       "      <td>New Zealand</td>\n",
       "      <td>New Zealand</td>\n",
       "      <td>New Zealand</td>\n",
       "      <td>Pakistan</td>\n",
       "      <td>False</td>\n",
       "    </tr>\n",
       "  </tbody>\n",
       "</table>\n",
       "</div>"
      ],
      "text/plain": [
       "         ground          date       winner host_country    home_team  \\\n",
       "0     Melbourne   Jan 5, 1971    Australia    Australia    Australia   \n",
       "1    Manchester  Aug 24, 1972      England      England      England   \n",
       "2        Lord's  Aug 26, 1972    Australia      England      England   \n",
       "3    Birmingham  Aug 28, 1972      England      England      England   \n",
       "4  Christchurch  Feb 11, 1973  New Zealand  New Zealand  New Zealand   \n",
       "\n",
       "   away_team  neutral  \n",
       "0    England    False  \n",
       "1  Australia    False  \n",
       "2  Australia    False  \n",
       "3  Australia    False  \n",
       "4   Pakistan    False  "
      ]
     },
     "execution_count": 66,
     "metadata": {},
     "output_type": "execute_result"
    }
   ],
   "source": [
    "df = pd.read_csv('cricket_data.csv')\n",
    "df.head()"
   ]
  },
  {
   "cell_type": "code",
   "execution_count": 67,
   "metadata": {},
   "outputs": [
    {
     "data": {
      "text/plain": [
       "ground          0\n",
       "date            0\n",
       "winner          0\n",
       "host_country    0\n",
       "home_team       0\n",
       "away_team       0\n",
       "neutral         0\n",
       "dtype: int64"
      ]
     },
     "execution_count": 67,
     "metadata": {},
     "output_type": "execute_result"
    }
   ],
   "source": [
    "df.isna().sum()"
   ]
  },
  {
   "cell_type": "code",
   "execution_count": 68,
   "metadata": {},
   "outputs": [],
   "source": [
    "# Entities naming\n",
    "df[\"match_id\"] = df.index.values.astype(str)\n",
    "df[\"match_id\"] =  \"Match\" + df.match_id\n",
    "df[\"ground_id\"] = \"Ground\" + df.ground.str.title().str.replace(\" \", \"\")\n",
    "df[\"country_id\"] = \"Country\" + df.host_country.str.title().str.replace(\" \", \"\")\n",
    "df[\"home_team_id\"] = \"Team\" + df.home_team.str.title().str.replace(\" \", \"\")\n",
    "df[\"away_team_id\"] = \"Team\" + df.away_team.str.title().str.replace(\" \", \"\")\n",
    "df[\"neutral\"] = df.neutral.astype(str)"
   ]
  },
  {
   "cell_type": "code",
   "execution_count": 69,
   "metadata": {},
   "outputs": [
    {
     "data": {
      "text/html": [
       "<div>\n",
       "<style scoped>\n",
       "    .dataframe tbody tr th:only-of-type {\n",
       "        vertical-align: middle;\n",
       "    }\n",
       "\n",
       "    .dataframe tbody tr th {\n",
       "        vertical-align: top;\n",
       "    }\n",
       "\n",
       "    .dataframe thead th {\n",
       "        text-align: right;\n",
       "    }\n",
       "</style>\n",
       "<table border=\"1\" class=\"dataframe\">\n",
       "  <thead>\n",
       "    <tr style=\"text-align: right;\">\n",
       "      <th></th>\n",
       "      <th>ground</th>\n",
       "      <th>date</th>\n",
       "      <th>winner</th>\n",
       "      <th>host_country</th>\n",
       "      <th>home_team</th>\n",
       "      <th>away_team</th>\n",
       "      <th>neutral</th>\n",
       "      <th>match_id</th>\n",
       "      <th>ground_id</th>\n",
       "      <th>country_id</th>\n",
       "      <th>home_team_id</th>\n",
       "      <th>away_team_id</th>\n",
       "    </tr>\n",
       "  </thead>\n",
       "  <tbody>\n",
       "    <tr>\n",
       "      <th>0</th>\n",
       "      <td>Melbourne</td>\n",
       "      <td>Jan 5, 1971</td>\n",
       "      <td>Australia</td>\n",
       "      <td>Australia</td>\n",
       "      <td>Australia</td>\n",
       "      <td>England</td>\n",
       "      <td>False</td>\n",
       "      <td>Match0</td>\n",
       "      <td>GroundMelbourne</td>\n",
       "      <td>CountryAustralia</td>\n",
       "      <td>TeamAustralia</td>\n",
       "      <td>TeamEngland</td>\n",
       "    </tr>\n",
       "    <tr>\n",
       "      <th>1</th>\n",
       "      <td>Manchester</td>\n",
       "      <td>Aug 24, 1972</td>\n",
       "      <td>England</td>\n",
       "      <td>England</td>\n",
       "      <td>England</td>\n",
       "      <td>Australia</td>\n",
       "      <td>False</td>\n",
       "      <td>Match1</td>\n",
       "      <td>GroundManchester</td>\n",
       "      <td>CountryEngland</td>\n",
       "      <td>TeamEngland</td>\n",
       "      <td>TeamAustralia</td>\n",
       "    </tr>\n",
       "    <tr>\n",
       "      <th>2</th>\n",
       "      <td>Lord's</td>\n",
       "      <td>Aug 26, 1972</td>\n",
       "      <td>Australia</td>\n",
       "      <td>England</td>\n",
       "      <td>England</td>\n",
       "      <td>Australia</td>\n",
       "      <td>False</td>\n",
       "      <td>Match2</td>\n",
       "      <td>GroundLord'S</td>\n",
       "      <td>CountryEngland</td>\n",
       "      <td>TeamEngland</td>\n",
       "      <td>TeamAustralia</td>\n",
       "    </tr>\n",
       "    <tr>\n",
       "      <th>3</th>\n",
       "      <td>Birmingham</td>\n",
       "      <td>Aug 28, 1972</td>\n",
       "      <td>England</td>\n",
       "      <td>England</td>\n",
       "      <td>England</td>\n",
       "      <td>Australia</td>\n",
       "      <td>False</td>\n",
       "      <td>Match3</td>\n",
       "      <td>GroundBirmingham</td>\n",
       "      <td>CountryEngland</td>\n",
       "      <td>TeamEngland</td>\n",
       "      <td>TeamAustralia</td>\n",
       "    </tr>\n",
       "    <tr>\n",
       "      <th>4</th>\n",
       "      <td>Christchurch</td>\n",
       "      <td>Feb 11, 1973</td>\n",
       "      <td>New Zealand</td>\n",
       "      <td>New Zealand</td>\n",
       "      <td>New Zealand</td>\n",
       "      <td>Pakistan</td>\n",
       "      <td>False</td>\n",
       "      <td>Match4</td>\n",
       "      <td>GroundChristchurch</td>\n",
       "      <td>CountryNewZealand</td>\n",
       "      <td>TeamNewZealand</td>\n",
       "      <td>TeamPakistan</td>\n",
       "    </tr>\n",
       "  </tbody>\n",
       "</table>\n",
       "</div>"
      ],
      "text/plain": [
       "         ground          date       winner host_country    home_team  \\\n",
       "0     Melbourne   Jan 5, 1971    Australia    Australia    Australia   \n",
       "1    Manchester  Aug 24, 1972      England      England      England   \n",
       "2        Lord's  Aug 26, 1972    Australia      England      England   \n",
       "3    Birmingham  Aug 28, 1972      England      England      England   \n",
       "4  Christchurch  Feb 11, 1973  New Zealand  New Zealand  New Zealand   \n",
       "\n",
       "   away_team neutral match_id           ground_id         country_id  \\\n",
       "0    England   False   Match0     GroundMelbourne   CountryAustralia   \n",
       "1  Australia   False   Match1    GroundManchester     CountryEngland   \n",
       "2  Australia   False   Match2        GroundLord'S     CountryEngland   \n",
       "3  Australia   False   Match3    GroundBirmingham     CountryEngland   \n",
       "4   Pakistan   False   Match4  GroundChristchurch  CountryNewZealand   \n",
       "\n",
       "     home_team_id   away_team_id  \n",
       "0   TeamAustralia    TeamEngland  \n",
       "1     TeamEngland  TeamAustralia  \n",
       "2     TeamEngland  TeamAustralia  \n",
       "3     TeamEngland  TeamAustralia  \n",
       "4  TeamNewZealand   TeamPakistan  "
      ]
     },
     "execution_count": 69,
     "metadata": {},
     "output_type": "execute_result"
    }
   ],
   "source": [
    "df.head()"
   ]
  },
  {
   "cell_type": "code",
   "execution_count": null,
   "metadata": {},
   "outputs": [],
   "source": []
  },
  {
   "cell_type": "markdown",
   "metadata": {
    "colab_type": "text",
    "id": "Uyux1AcXqP8c"
   },
   "source": [
    "**1.2.2 Select manually 80%  as train set of the data and create the triples ['subject', 'predicate', 'object'] using the entities from 1.2.1. (1 points)** Hint: If there are some errors generated while building the triples check if match_id was formed correctly in 1.2.1"
   ]
  },
  {
   "cell_type": "code",
   "execution_count": 70,
   "metadata": {},
   "outputs": [
    {
     "data": {
      "text/plain": [
       "5891"
      ]
     },
     "execution_count": 70,
     "metadata": {},
     "output_type": "execute_result"
    }
   ],
   "source": [
    "num_train = int(np.round(0.8 * len(df), 0)) # 80% of dataset\n",
    "num_train"
   ]
  },
  {
   "cell_type": "code",
   "execution_count": 81,
   "metadata": {},
   "outputs": [],
   "source": [
    "df[\"train\"] = df.index < num_train"
   ]
  },
  {
   "cell_type": "code",
   "execution_count": 84,
   "metadata": {},
   "outputs": [
    {
     "data": {
      "text/plain": [
       "True     5891\n",
       "False    1473\n",
       "Name: train, dtype: int64"
      ]
     },
     "execution_count": 84,
     "metadata": {},
     "output_type": "execute_result"
    }
   ],
   "source": [
    "df[\"train\"].value_counts()"
   ]
  },
  {
   "cell_type": "code",
   "execution_count": 88,
   "metadata": {},
   "outputs": [],
   "source": [
    "triples = []\n",
    "for _, row in df[df[\"train\"]].iterrows():\n",
    "    # Home and away information\n",
    "    home_team = (row[\"home_team_id\"], \"isHomeTeamIn\", row[\"match_id\"])\n",
    "    away_team = (row[\"away_team_id\"], \"isAwayTeamIn\", row[\"match_id\"])\n",
    "    \n",
    "    # Match results\n",
    "    if row[\"winner\"] == row[\"home_team\"]:\n",
    "        score_home = (row[\"home_team_id\"], \"winnerOf\", row[\"match_id\"])\n",
    "        score_away = (row[\"away_team_id\"], \"loserOf\", row[\"match_id\"])\n",
    "    else:\n",
    "        score_home = (row[\"away_team_id\"], \"winnerOf\", row[\"match_id\"])\n",
    "        score_away = (row[\"home_team_id\"], \"loserOf\", row[\"match_id\"])\n",
    "    \n",
    "    # Match characteristics\n",
    "    ground = (row[\"match_id\"], \"inGround\", row[\"ground_id\"])\n",
    "    country = (row[\"match_id\"], \"inCountry\", row[\"country_id\"])\n",
    "    neutral = (row[\"match_id\"], \"isNeutral\", row[\"neutral\"])\n",
    "    year = (row[\"match_id\"], \"atYear\", row[\"date\"][-4:])\n",
    "    \n",
    "    triples.extend((home_team, away_team, score_home, score_away, \n",
    "                    ground, country, neutral, year))"
   ]
  },
  {
   "cell_type": "code",
   "execution_count": 89,
   "metadata": {},
   "outputs": [
    {
     "data": {
      "text/plain": [
       "list"
      ]
     },
     "execution_count": 89,
     "metadata": {},
     "output_type": "execute_result"
    }
   ],
   "source": [
    "type(triples)"
   ]
  },
  {
   "cell_type": "code",
   "execution_count": 91,
   "metadata": {},
   "outputs": [
    {
     "data": {
      "text/plain": [
       "[('TeamAustralia', 'isHomeTeamIn', 'Match0'),\n",
       " ('TeamEngland', 'isAwayTeamIn', 'Match0'),\n",
       " ('TeamAustralia', 'winnerOf', 'Match0'),\n",
       " ('TeamEngland', 'loserOf', 'Match0'),\n",
       " ('Match0', 'inGround', 'GroundMelbourne'),\n",
       " ('Match0', 'inCountry', 'CountryAustralia'),\n",
       " ('Match0', 'isNeutral', 'False'),\n",
       " ('Match0', 'atYear', '1971'),\n",
       " ('TeamEngland', 'isHomeTeamIn', 'Match1'),\n",
       " ('TeamAustralia', 'isAwayTeamIn', 'Match1'),\n",
       " ('TeamEngland', 'winnerOf', 'Match1'),\n",
       " ('TeamAustralia', 'loserOf', 'Match1'),\n",
       " ('Match1', 'inGround', 'GroundManchester'),\n",
       " ('Match1', 'inCountry', 'CountryEngland'),\n",
       " ('Match1', 'isNeutral', 'False'),\n",
       " ('Match1', 'atYear', '1972'),\n",
       " ('TeamEngland', 'isHomeTeamIn', 'Match2'),\n",
       " ('TeamAustralia', 'isAwayTeamIn', 'Match2'),\n",
       " ('TeamAustralia', 'winnerOf', 'Match2'),\n",
       " ('TeamEngland', 'loserOf', 'Match2'),\n",
       " ('Match2', 'inGround', \"GroundLord'S\"),\n",
       " ('Match2', 'inCountry', 'CountryEngland'),\n",
       " ('Match2', 'isNeutral', 'False'),\n",
       " ('Match2', 'atYear', '1972'),\n",
       " ('TeamEngland', 'isHomeTeamIn', 'Match3'),\n",
       " ('TeamAustralia', 'isAwayTeamIn', 'Match3'),\n",
       " ('TeamEngland', 'winnerOf', 'Match3'),\n",
       " ('TeamAustralia', 'loserOf', 'Match3'),\n",
       " ('Match3', 'inGround', 'GroundBirmingham'),\n",
       " ('Match3', 'inCountry', 'CountryEngland'),\n",
       " ('Match3', 'isNeutral', 'False'),\n",
       " ('Match3', 'atYear', '1972'),\n",
       " ('TeamNewZealand', 'isHomeTeamIn', 'Match4'),\n",
       " ('TeamPakistan', 'isAwayTeamIn', 'Match4'),\n",
       " ('TeamNewZealand', 'winnerOf', 'Match4'),\n",
       " ('TeamPakistan', 'loserOf', 'Match4'),\n",
       " ('Match4', 'inGround', 'GroundChristchurch'),\n",
       " ('Match4', 'inCountry', 'CountryNewZealand'),\n",
       " ('Match4', 'isNeutral', 'False'),\n",
       " ('Match4', 'atYear', '1973'),\n",
       " ('TeamEngland', 'isHomeTeamIn', 'Match5'),\n",
       " ('TeamNewZealand', 'isAwayTeamIn', 'Match5'),\n",
       " ('TeamEngland', 'winnerOf', 'Match5'),\n",
       " ('TeamNewZealand', 'loserOf', 'Match5'),\n",
       " ('Match5', 'inGround', 'GroundSwansea'),\n",
       " ('Match5', 'inCountry', 'CountryEngland'),\n",
       " ('Match5', 'isNeutral', 'False'),\n",
       " ('Match5', 'atYear', '1973'),\n",
       " ('TeamEngland', 'isHomeTeamIn', 'Match6'),\n",
       " ('TeamWestIndies', 'isAwayTeamIn', 'Match6'),\n",
       " ('TeamEngland', 'winnerOf', 'Match6'),\n",
       " ('TeamWestIndies', 'loserOf', 'Match6'),\n",
       " ('Match6', 'inGround', 'GroundLeeds'),\n",
       " ('Match6', 'inCountry', 'CountryEngland'),\n",
       " ('Match6', 'isNeutral', 'False'),\n",
       " ('Match6', 'atYear', '1973'),\n",
       " ('TeamEngland', 'isHomeTeamIn', 'Match7'),\n",
       " ('TeamWestIndies', 'isAwayTeamIn', 'Match7'),\n",
       " ('TeamWestIndies', 'winnerOf', 'Match7'),\n",
       " ('TeamEngland', 'loserOf', 'Match7'),\n",
       " ('Match7', 'inGround', 'GroundTheOval'),\n",
       " ('Match7', 'inCountry', 'CountryEngland'),\n",
       " ('Match7', 'isNeutral', 'False'),\n",
       " ('Match7', 'atYear', '1973'),\n",
       " ('TeamNewZealand', 'isHomeTeamIn', 'Match8'),\n",
       " ('TeamAustralia', 'isAwayTeamIn', 'Match8'),\n",
       " ('TeamAustralia', 'winnerOf', 'Match8'),\n",
       " ('TeamNewZealand', 'loserOf', 'Match8'),\n",
       " ('Match8', 'inGround', 'GroundDunedin'),\n",
       " ('Match8', 'inCountry', 'CountryNewZealand'),\n",
       " ('Match8', 'isNeutral', 'False'),\n",
       " ('Match8', 'atYear', '1974'),\n",
       " ('TeamNewZealand', 'isHomeTeamIn', 'Match9'),\n",
       " ('TeamAustralia', 'isAwayTeamIn', 'Match9'),\n",
       " ('TeamAustralia', 'winnerOf', 'Match9'),\n",
       " ('TeamNewZealand', 'loserOf', 'Match9'),\n",
       " ('Match9', 'inGround', 'GroundChristchurch'),\n",
       " ('Match9', 'inCountry', 'CountryNewZealand'),\n",
       " ('Match9', 'isNeutral', 'False'),\n",
       " ('Match9', 'atYear', '1974'),\n",
       " ('TeamEngland', 'isHomeTeamIn', 'Match10'),\n",
       " ('TeamIndia', 'isAwayTeamIn', 'Match10'),\n",
       " ('TeamEngland', 'winnerOf', 'Match10'),\n",
       " ('TeamIndia', 'loserOf', 'Match10'),\n",
       " ('Match10', 'inGround', 'GroundLeeds'),\n",
       " ('Match10', 'inCountry', 'CountryEngland'),\n",
       " ('Match10', 'isNeutral', 'False'),\n",
       " ('Match10', 'atYear', '1974'),\n",
       " ('TeamEngland', 'isHomeTeamIn', 'Match11'),\n",
       " ('TeamIndia', 'isAwayTeamIn', 'Match11'),\n",
       " ('TeamEngland', 'winnerOf', 'Match11'),\n",
       " ('TeamIndia', 'loserOf', 'Match11'),\n",
       " ('Match11', 'inGround', 'GroundTheOval'),\n",
       " ('Match11', 'inCountry', 'CountryEngland'),\n",
       " ('Match11', 'isNeutral', 'False'),\n",
       " ('Match11', 'atYear', '1974'),\n",
       " ('TeamEngland', 'isHomeTeamIn', 'Match12'),\n",
       " ('TeamPakistan', 'isAwayTeamIn', 'Match12'),\n",
       " ('TeamPakistan', 'winnerOf', 'Match12'),\n",
       " ('TeamEngland', 'loserOf', 'Match12'),\n",
       " ('Match12', 'inGround', 'GroundNottingham'),\n",
       " ('Match12', 'inCountry', 'CountryEngland'),\n",
       " ('Match12', 'isNeutral', 'False'),\n",
       " ('Match12', 'atYear', '1974'),\n",
       " ('TeamEngland', 'isHomeTeamIn', 'Match13'),\n",
       " ('TeamPakistan', 'isAwayTeamIn', 'Match13'),\n",
       " ('TeamPakistan', 'winnerOf', 'Match13'),\n",
       " ('TeamEngland', 'loserOf', 'Match13'),\n",
       " ('Match13', 'inGround', 'GroundBirmingham'),\n",
       " ('Match13', 'inCountry', 'CountryEngland'),\n",
       " ('Match13', 'isNeutral', 'False'),\n",
       " ('Match13', 'atYear', '1974'),\n",
       " ('TeamAustralia', 'isHomeTeamIn', 'Match14'),\n",
       " ('TeamEngland', 'isAwayTeamIn', 'Match14'),\n",
       " ('TeamEngland', 'winnerOf', 'Match14'),\n",
       " ('TeamAustralia', 'loserOf', 'Match14'),\n",
       " ('Match14', 'inGround', 'GroundMelbourne'),\n",
       " ('Match14', 'inCountry', 'CountryAustralia'),\n",
       " ('Match14', 'isNeutral', 'False'),\n",
       " ('Match14', 'atYear', '1975'),\n",
       " ('TeamEngland', 'isHomeTeamIn', 'Match15'),\n",
       " ('TeamIndia', 'isAwayTeamIn', 'Match15'),\n",
       " ('TeamEngland', 'winnerOf', 'Match15'),\n",
       " ('TeamIndia', 'loserOf', 'Match15'),\n",
       " ('Match15', 'inGround', \"GroundLord'S\"),\n",
       " ('Match15', 'inCountry', 'CountryEngland'),\n",
       " ('Match15', 'isNeutral', 'False'),\n",
       " ('Match15', 'atYear', '1975'),\n",
       " ('TeamEastAfrica', 'isHomeTeamIn', 'Match16'),\n",
       " ('TeamNewZealand', 'isAwayTeamIn', 'Match16'),\n",
       " ('TeamNewZealand', 'winnerOf', 'Match16'),\n",
       " ('TeamEastAfrica', 'loserOf', 'Match16'),\n",
       " ('Match16', 'inGround', 'GroundBirmingham'),\n",
       " ('Match16', 'inCountry', 'CountryEngland'),\n",
       " ('Match16', 'isNeutral', 'True'),\n",
       " ('Match16', 'atYear', '1975'),\n",
       " ('TeamAustralia', 'isHomeTeamIn', 'Match17'),\n",
       " ('TeamPakistan', 'isAwayTeamIn', 'Match17'),\n",
       " ('TeamAustralia', 'winnerOf', 'Match17'),\n",
       " ('TeamPakistan', 'loserOf', 'Match17'),\n",
       " ('Match17', 'inGround', 'GroundLeeds'),\n",
       " ('Match17', 'inCountry', 'CountryEngland'),\n",
       " ('Match17', 'isNeutral', 'True'),\n",
       " ('Match17', 'atYear', '1975'),\n",
       " ('TeamSriLanka', 'isHomeTeamIn', 'Match18'),\n",
       " ('TeamWestIndies', 'isAwayTeamIn', 'Match18'),\n",
       " ('TeamWestIndies', 'winnerOf', 'Match18'),\n",
       " ('TeamSriLanka', 'loserOf', 'Match18'),\n",
       " ('Match18', 'inGround', 'GroundManchester'),\n",
       " ('Match18', 'inCountry', 'CountryEngland'),\n",
       " ('Match18', 'isNeutral', 'True'),\n",
       " ('Match18', 'atYear', '1975'),\n",
       " ('TeamEngland', 'isHomeTeamIn', 'Match19'),\n",
       " ('TeamNewZealand', 'isAwayTeamIn', 'Match19'),\n",
       " ('TeamEngland', 'winnerOf', 'Match19'),\n",
       " ('TeamNewZealand', 'loserOf', 'Match19'),\n",
       " ('Match19', 'inGround', 'GroundNottingham'),\n",
       " ('Match19', 'inCountry', 'CountryEngland'),\n",
       " ('Match19', 'isNeutral', 'False'),\n",
       " ('Match19', 'atYear', '1975'),\n",
       " ('TeamEastAfrica', 'isHomeTeamIn', 'Match20'),\n",
       " ('TeamIndia', 'isAwayTeamIn', 'Match20'),\n",
       " ('TeamIndia', 'winnerOf', 'Match20'),\n",
       " ('TeamEastAfrica', 'loserOf', 'Match20'),\n",
       " ('Match20', 'inGround', 'GroundLeeds'),\n",
       " ('Match20', 'inCountry', 'CountryEngland'),\n",
       " ('Match20', 'isNeutral', 'True'),\n",
       " ('Match20', 'atYear', '1975'),\n",
       " ('TeamAustralia', 'isHomeTeamIn', 'Match21'),\n",
       " ('TeamSriLanka', 'isAwayTeamIn', 'Match21'),\n",
       " ('TeamAustralia', 'winnerOf', 'Match21'),\n",
       " ('TeamSriLanka', 'loserOf', 'Match21'),\n",
       " ('Match21', 'inGround', 'GroundTheOval'),\n",
       " ('Match21', 'inCountry', 'CountryEngland'),\n",
       " ('Match21', 'isNeutral', 'True'),\n",
       " ('Match21', 'atYear', '1975'),\n",
       " ('TeamPakistan', 'isHomeTeamIn', 'Match22'),\n",
       " ('TeamWestIndies', 'isAwayTeamIn', 'Match22'),\n",
       " ('TeamWestIndies', 'winnerOf', 'Match22'),\n",
       " ('TeamPakistan', 'loserOf', 'Match22'),\n",
       " ('Match22', 'inGround', 'GroundBirmingham'),\n",
       " ('Match22', 'inCountry', 'CountryEngland'),\n",
       " ('Match22', 'isNeutral', 'True'),\n",
       " ('Match22', 'atYear', '1975'),\n",
       " ('TeamEngland', 'isHomeTeamIn', 'Match23'),\n",
       " ('TeamEastAfrica', 'isAwayTeamIn', 'Match23'),\n",
       " ('TeamEngland', 'winnerOf', 'Match23'),\n",
       " ('TeamEastAfrica', 'loserOf', 'Match23'),\n",
       " ('Match23', 'inGround', 'GroundBirmingham'),\n",
       " ('Match23', 'inCountry', 'CountryEngland'),\n",
       " ('Match23', 'isNeutral', 'False'),\n",
       " ('Match23', 'atYear', '1975'),\n",
       " ('TeamIndia', 'isHomeTeamIn', 'Match24'),\n",
       " ('TeamNewZealand', 'isAwayTeamIn', 'Match24'),\n",
       " ('TeamNewZealand', 'winnerOf', 'Match24'),\n",
       " ('TeamIndia', 'loserOf', 'Match24'),\n",
       " ('Match24', 'inGround', 'GroundManchester'),\n",
       " ('Match24', 'inCountry', 'CountryEngland'),\n",
       " ('Match24', 'isNeutral', 'True'),\n",
       " ('Match24', 'atYear', '1975'),\n",
       " ('TeamAustralia', 'isHomeTeamIn', 'Match25'),\n",
       " ('TeamWestIndies', 'isAwayTeamIn', 'Match25'),\n",
       " ('TeamWestIndies', 'winnerOf', 'Match25'),\n",
       " ('TeamAustralia', 'loserOf', 'Match25'),\n",
       " ('Match25', 'inGround', 'GroundTheOval'),\n",
       " ('Match25', 'inCountry', 'CountryEngland'),\n",
       " ('Match25', 'isNeutral', 'True'),\n",
       " ('Match25', 'atYear', '1975'),\n",
       " ('TeamPakistan', 'isHomeTeamIn', 'Match26'),\n",
       " ('TeamSriLanka', 'isAwayTeamIn', 'Match26'),\n",
       " ('TeamPakistan', 'winnerOf', 'Match26'),\n",
       " ('TeamSriLanka', 'loserOf', 'Match26'),\n",
       " ('Match26', 'inGround', 'GroundNottingham'),\n",
       " ('Match26', 'inCountry', 'CountryEngland'),\n",
       " ('Match26', 'isNeutral', 'True'),\n",
       " ('Match26', 'atYear', '1975'),\n",
       " ('TeamEngland', 'isHomeTeamIn', 'Match27'),\n",
       " ('TeamAustralia', 'isAwayTeamIn', 'Match27'),\n",
       " ('TeamAustralia', 'winnerOf', 'Match27'),\n",
       " ('TeamEngland', 'loserOf', 'Match27'),\n",
       " ('Match27', 'inGround', 'GroundLeeds'),\n",
       " ('Match27', 'inCountry', 'CountryEngland'),\n",
       " ('Match27', 'isNeutral', 'False'),\n",
       " ('Match27', 'atYear', '1975'),\n",
       " ('TeamNewZealand', 'isHomeTeamIn', 'Match28'),\n",
       " ('TeamWestIndies', 'isAwayTeamIn', 'Match28'),\n",
       " ('TeamWestIndies', 'winnerOf', 'Match28'),\n",
       " ('TeamNewZealand', 'loserOf', 'Match28'),\n",
       " ('Match28', 'inGround', 'GroundTheOval'),\n",
       " ('Match28', 'inCountry', 'CountryEngland'),\n",
       " ('Match28', 'isNeutral', 'True'),\n",
       " ('Match28', 'atYear', '1975'),\n",
       " ('TeamAustralia', 'isHomeTeamIn', 'Match29'),\n",
       " ('TeamWestIndies', 'isAwayTeamIn', 'Match29'),\n",
       " ('TeamWestIndies', 'winnerOf', 'Match29'),\n",
       " ('TeamAustralia', 'loserOf', 'Match29'),\n",
       " ('Match29', 'inGround', \"GroundLord'S\"),\n",
       " ('Match29', 'inCountry', 'CountryEngland'),\n",
       " ('Match29', 'isNeutral', 'True'),\n",
       " ('Match29', 'atYear', '1975'),\n",
       " ('TeamAustralia', 'isHomeTeamIn', 'Match30'),\n",
       " ('TeamWestIndies', 'isAwayTeamIn', 'Match30'),\n",
       " ('TeamAustralia', 'winnerOf', 'Match30'),\n",
       " ('TeamWestIndies', 'loserOf', 'Match30'),\n",
       " ('Match30', 'inGround', 'GroundAdelaide'),\n",
       " ('Match30', 'inCountry', 'CountryAustralia'),\n",
       " ('Match30', 'isNeutral', 'False'),\n",
       " ('Match30', 'atYear', '1975'),\n",
       " ('TeamNewZealand', 'isHomeTeamIn', 'Match31'),\n",
       " ('TeamIndia', 'isAwayTeamIn', 'Match31'),\n",
       " ('TeamNewZealand', 'winnerOf', 'Match31'),\n",
       " ('TeamIndia', 'loserOf', 'Match31'),\n",
       " ('Match31', 'inGround', 'GroundChristchurch'),\n",
       " ('Match31', 'inCountry', 'CountryNewZealand'),\n",
       " ('Match31', 'isNeutral', 'False'),\n",
       " ('Match31', 'atYear', '1976'),\n",
       " ('TeamNewZealand', 'isHomeTeamIn', 'Match32'),\n",
       " ('TeamIndia', 'isAwayTeamIn', 'Match32'),\n",
       " ('TeamNewZealand', 'winnerOf', 'Match32'),\n",
       " ('TeamIndia', 'loserOf', 'Match32'),\n",
       " ('Match32', 'inGround', 'GroundAuckland'),\n",
       " ('Match32', 'inCountry', 'CountryNewZealand'),\n",
       " ('Match32', 'isNeutral', 'False'),\n",
       " ('Match32', 'atYear', '1976'),\n",
       " ('TeamEngland', 'isHomeTeamIn', 'Match33'),\n",
       " ('TeamWestIndies', 'isAwayTeamIn', 'Match33'),\n",
       " ('TeamWestIndies', 'winnerOf', 'Match33'),\n",
       " ('TeamEngland', 'loserOf', 'Match33'),\n",
       " ('Match33', 'inGround', 'GroundScarborough'),\n",
       " ('Match33', 'inCountry', 'CountryEngland'),\n",
       " ('Match33', 'isNeutral', 'False'),\n",
       " ('Match33', 'atYear', '1976'),\n",
       " ('TeamEngland', 'isHomeTeamIn', 'Match34'),\n",
       " ('TeamWestIndies', 'isAwayTeamIn', 'Match34'),\n",
       " ('TeamWestIndies', 'winnerOf', 'Match34'),\n",
       " ('TeamEngland', 'loserOf', 'Match34'),\n",
       " ('Match34', 'inGround', \"GroundLord'S\"),\n",
       " ('Match34', 'inCountry', 'CountryEngland'),\n",
       " ('Match34', 'isNeutral', 'False'),\n",
       " ('Match34', 'atYear', '1976'),\n",
       " ('TeamEngland', 'isHomeTeamIn', 'Match35'),\n",
       " ('TeamWestIndies', 'isAwayTeamIn', 'Match35'),\n",
       " ('TeamWestIndies', 'winnerOf', 'Match35'),\n",
       " ('TeamEngland', 'loserOf', 'Match35'),\n",
       " ('Match35', 'inGround', 'GroundBirmingham'),\n",
       " ('Match35', 'inCountry', 'CountryEngland'),\n",
       " ('Match35', 'isNeutral', 'False'),\n",
       " ('Match35', 'atYear', '1976'),\n",
       " ('TeamPakistan', 'isHomeTeamIn', 'Match36'),\n",
       " ('TeamNewZealand', 'isAwayTeamIn', 'Match36'),\n",
       " ('TeamNewZealand', 'winnerOf', 'Match36'),\n",
       " ('TeamPakistan', 'loserOf', 'Match36'),\n",
       " ('Match36', 'inGround', 'GroundSialkot'),\n",
       " ('Match36', 'inCountry', 'CountryPakistan'),\n",
       " ('Match36', 'isNeutral', 'False'),\n",
       " ('Match36', 'atYear', '1976'),\n",
       " ('TeamWestIndies', 'isHomeTeamIn', 'Match37'),\n",
       " ('TeamPakistan', 'isAwayTeamIn', 'Match37'),\n",
       " ('TeamWestIndies', 'winnerOf', 'Match37'),\n",
       " ('TeamPakistan', 'loserOf', 'Match37'),\n",
       " ('Match37', 'inGround', 'GroundAlbion'),\n",
       " ('Match37', 'inCountry', 'CountryWestIndies'),\n",
       " ('Match37', 'isNeutral', 'False'),\n",
       " ('Match37', 'atYear', '1977'),\n",
       " ('TeamEngland', 'isHomeTeamIn', 'Match38'),\n",
       " ('TeamAustralia', 'isAwayTeamIn', 'Match38'),\n",
       " ('TeamEngland', 'winnerOf', 'Match38'),\n",
       " ('TeamAustralia', 'loserOf', 'Match38'),\n",
       " ('Match38', 'inGround', 'GroundManchester'),\n",
       " ('Match38', 'inCountry', 'CountryEngland'),\n",
       " ('Match38', 'isNeutral', 'False'),\n",
       " ('Match38', 'atYear', '1977'),\n",
       " ('TeamEngland', 'isHomeTeamIn', 'Match39'),\n",
       " ('TeamAustralia', 'isAwayTeamIn', 'Match39'),\n",
       " ('TeamEngland', 'winnerOf', 'Match39'),\n",
       " ('TeamAustralia', 'loserOf', 'Match39'),\n",
       " ('Match39', 'inGround', 'GroundBirmingham'),\n",
       " ('Match39', 'inCountry', 'CountryEngland'),\n",
       " ('Match39', 'isNeutral', 'False'),\n",
       " ('Match39', 'atYear', '1977'),\n",
       " ('TeamEngland', 'isHomeTeamIn', 'Match40'),\n",
       " ('TeamAustralia', 'isAwayTeamIn', 'Match40'),\n",
       " ('TeamAustralia', 'winnerOf', 'Match40'),\n",
       " ('TeamEngland', 'loserOf', 'Match40'),\n",
       " ('Match40', 'inGround', 'GroundTheOval'),\n",
       " ('Match40', 'inCountry', 'CountryEngland'),\n",
       " ('Match40', 'isNeutral', 'False'),\n",
       " ('Match40', 'atYear', '1977'),\n",
       " ('TeamPakistan', 'isHomeTeamIn', 'Match41'),\n",
       " ('TeamEngland', 'isAwayTeamIn', 'Match41'),\n",
       " ('TeamEngland', 'winnerOf', 'Match41'),\n",
       " ('TeamPakistan', 'loserOf', 'Match41'),\n",
       " ('Match41', 'inGround', 'GroundSahiwal'),\n",
       " ('Match41', 'inCountry', 'CountryPakistan'),\n",
       " ('Match41', 'isNeutral', 'False'),\n",
       " ('Match41', 'atYear', '1977'),\n",
       " ('TeamPakistan', 'isHomeTeamIn', 'Match42'),\n",
       " ('TeamEngland', 'isAwayTeamIn', 'Match42'),\n",
       " ('TeamEngland', 'winnerOf', 'Match42'),\n",
       " ('TeamPakistan', 'loserOf', 'Match42'),\n",
       " ('Match42', 'inGround', 'GroundSialkot'),\n",
       " ('Match42', 'inCountry', 'CountryPakistan'),\n",
       " ('Match42', 'isNeutral', 'False'),\n",
       " ('Match42', 'atYear', '1977'),\n",
       " ('TeamPakistan', 'isHomeTeamIn', 'Match43'),\n",
       " ('TeamEngland', 'isAwayTeamIn', 'Match43'),\n",
       " ('TeamPakistan', 'winnerOf', 'Match43'),\n",
       " ('TeamEngland', 'loserOf', 'Match43'),\n",
       " ('Match43', 'inGround', 'GroundLahore'),\n",
       " ('Match43', 'inCountry', 'CountryPakistan'),\n",
       " ('Match43', 'isNeutral', 'False'),\n",
       " ('Match43', 'atYear', '1978'),\n",
       " ('TeamWestIndies', 'isHomeTeamIn', 'Match44'),\n",
       " ('TeamAustralia', 'isAwayTeamIn', 'Match44'),\n",
       " ('TeamWestIndies', 'winnerOf', 'Match44'),\n",
       " ('TeamAustralia', 'loserOf', 'Match44'),\n",
       " ('Match44', 'inGround', \"GroundStJohn'S\"),\n",
       " ('Match44', 'inCountry', 'CountryWestIndies'),\n",
       " ('Match44', 'isNeutral', 'False'),\n",
       " ('Match44', 'atYear', '1978'),\n",
       " ('TeamWestIndies', 'isHomeTeamIn', 'Match45'),\n",
       " ('TeamAustralia', 'isAwayTeamIn', 'Match45'),\n",
       " ('TeamAustralia', 'winnerOf', 'Match45'),\n",
       " ('TeamWestIndies', 'loserOf', 'Match45'),\n",
       " ('Match45', 'inGround', 'GroundCastries'),\n",
       " ('Match45', 'inCountry', 'CountryWestIndies'),\n",
       " ('Match45', 'isNeutral', 'False'),\n",
       " ('Match45', 'atYear', '1978'),\n",
       " ('TeamEngland', 'isHomeTeamIn', 'Match46'),\n",
       " ('TeamPakistan', 'isAwayTeamIn', 'Match46'),\n",
       " ('TeamEngland', 'winnerOf', 'Match46'),\n",
       " ('TeamPakistan', 'loserOf', 'Match46'),\n",
       " ('Match46', 'inGround', 'GroundManchester'),\n",
       " ('Match46', 'inCountry', 'CountryEngland'),\n",
       " ('Match46', 'isNeutral', 'False'),\n",
       " ('Match46', 'atYear', '1978'),\n",
       " ('TeamEngland', 'isHomeTeamIn', 'Match47'),\n",
       " ('TeamPakistan', 'isAwayTeamIn', 'Match47'),\n",
       " ('TeamEngland', 'winnerOf', 'Match47'),\n",
       " ('TeamPakistan', 'loserOf', 'Match47'),\n",
       " ('Match47', 'inGround', 'GroundTheOval'),\n",
       " ('Match47', 'inCountry', 'CountryEngland'),\n",
       " ('Match47', 'isNeutral', 'False'),\n",
       " ('Match47', 'atYear', '1978'),\n",
       " ('TeamEngland', 'isHomeTeamIn', 'Match48'),\n",
       " ('TeamNewZealand', 'isAwayTeamIn', 'Match48'),\n",
       " ('TeamEngland', 'winnerOf', 'Match48'),\n",
       " ('TeamNewZealand', 'loserOf', 'Match48'),\n",
       " ('Match48', 'inGround', 'GroundScarborough'),\n",
       " ('Match48', 'inCountry', 'CountryEngland'),\n",
       " ('Match48', 'isNeutral', 'False'),\n",
       " ('Match48', 'atYear', '1978'),\n",
       " ('TeamEngland', 'isHomeTeamIn', 'Match49'),\n",
       " ('TeamNewZealand', 'isAwayTeamIn', 'Match49'),\n",
       " ('TeamEngland', 'winnerOf', 'Match49'),\n",
       " ('TeamNewZealand', 'loserOf', 'Match49'),\n",
       " ('Match49', 'inGround', 'GroundManchester'),\n",
       " ('Match49', 'inCountry', 'CountryEngland'),\n",
       " ('Match49', 'isNeutral', 'False'),\n",
       " ('Match49', 'atYear', '1978'),\n",
       " ('TeamPakistan', 'isHomeTeamIn', 'Match50'),\n",
       " ('TeamIndia', 'isAwayTeamIn', 'Match50'),\n",
       " ('TeamIndia', 'winnerOf', 'Match50'),\n",
       " ('TeamPakistan', 'loserOf', 'Match50'),\n",
       " ('Match50', 'inGround', 'GroundQuetta'),\n",
       " ('Match50', 'inCountry', 'CountryPakistan'),\n",
       " ('Match50', 'isNeutral', 'False'),\n",
       " ('Match50', 'atYear', '1978'),\n",
       " ('TeamPakistan', 'isHomeTeamIn', 'Match51'),\n",
       " ('TeamIndia', 'isAwayTeamIn', 'Match51'),\n",
       " ('TeamPakistan', 'winnerOf', 'Match51'),\n",
       " ('TeamIndia', 'loserOf', 'Match51'),\n",
       " ('Match51', 'inGround', 'GroundSialkot'),\n",
       " ('Match51', 'inCountry', 'CountryPakistan'),\n",
       " ('Match51', 'isNeutral', 'False'),\n",
       " ('Match51', 'atYear', '1978'),\n",
       " ('TeamAustralia', 'isHomeTeamIn', 'Match52'),\n",
       " ('TeamEngland', 'isAwayTeamIn', 'Match52'),\n",
       " ('TeamEngland', 'winnerOf', 'Match52'),\n",
       " ('TeamAustralia', 'loserOf', 'Match52'),\n",
       " ('Match52', 'inGround', 'GroundMelbourne'),\n",
       " ('Match52', 'inCountry', 'CountryAustralia'),\n",
       " ('Match52', 'isNeutral', 'False'),\n",
       " ('Match52', 'atYear', '1979'),\n",
       " ('TeamAustralia', 'isHomeTeamIn', 'Match53'),\n",
       " ('TeamEngland', 'isAwayTeamIn', 'Match53'),\n",
       " ('TeamAustralia', 'winnerOf', 'Match53'),\n",
       " ('TeamEngland', 'loserOf', 'Match53'),\n",
       " ('Match53', 'inGround', 'GroundMelbourne'),\n",
       " ('Match53', 'inCountry', 'CountryAustralia'),\n",
       " ('Match53', 'isNeutral', 'False'),\n",
       " ('Match53', 'atYear', '1979'),\n",
       " ('TeamAustralia', 'isHomeTeamIn', 'Match54'),\n",
       " ('TeamEngland', 'isAwayTeamIn', 'Match54'),\n",
       " ('TeamAustralia', 'winnerOf', 'Match54'),\n",
       " ('TeamEngland', 'loserOf', 'Match54'),\n",
       " ('Match54', 'inGround', 'GroundMelbourne'),\n",
       " ('Match54', 'inCountry', 'CountryAustralia'),\n",
       " ('Match54', 'isNeutral', 'False'),\n",
       " ('Match54', 'atYear', '1979'),\n",
       " ('TeamIndia', 'isHomeTeamIn', 'Match55'),\n",
       " ('TeamWestIndies', 'isAwayTeamIn', 'Match55'),\n",
       " ('TeamWestIndies', 'winnerOf', 'Match55'),\n",
       " ('TeamIndia', 'loserOf', 'Match55'),\n",
       " ('Match55', 'inGround', 'GroundBirmingham'),\n",
       " ('Match55', 'inCountry', 'CountryEngland'),\n",
       " ('Match55', 'isNeutral', 'True'),\n",
       " ('Match55', 'atYear', '1979'),\n",
       " ('TeamNewZealand', 'isHomeTeamIn', 'Match56'),\n",
       " ('TeamSriLanka', 'isAwayTeamIn', 'Match56'),\n",
       " ('TeamNewZealand', 'winnerOf', 'Match56'),\n",
       " ('TeamSriLanka', 'loserOf', 'Match56'),\n",
       " ('Match56', 'inGround', 'GroundNottingham'),\n",
       " ('Match56', 'inCountry', 'CountryEngland'),\n",
       " ('Match56', 'isNeutral', 'True'),\n",
       " ('Match56', 'atYear', '1979'),\n",
       " ('TeamEngland', 'isHomeTeamIn', 'Match57'),\n",
       " ('TeamAustralia', 'isAwayTeamIn', 'Match57'),\n",
       " ('TeamEngland', 'winnerOf', 'Match57'),\n",
       " ('TeamAustralia', 'loserOf', 'Match57'),\n",
       " ('Match57', 'inGround', \"GroundLord'S\"),\n",
       " ('Match57', 'inCountry', 'CountryEngland'),\n",
       " ('Match57', 'isNeutral', 'False'),\n",
       " ('Match57', 'atYear', '1979'),\n",
       " ('TeamCanada', 'isHomeTeamIn', 'Match58'),\n",
       " ('TeamPakistan', 'isAwayTeamIn', 'Match58'),\n",
       " ('TeamPakistan', 'winnerOf', 'Match58'),\n",
       " ('TeamCanada', 'loserOf', 'Match58'),\n",
       " ('Match58', 'inGround', 'GroundLeeds'),\n",
       " ('Match58', 'inCountry', 'CountryEngland'),\n",
       " ('Match58', 'isNeutral', 'True'),\n",
       " ('Match58', 'atYear', '1979'),\n",
       " ('TeamIndia', 'isHomeTeamIn', 'Match59'),\n",
       " ('TeamNewZealand', 'isAwayTeamIn', 'Match59'),\n",
       " ('TeamNewZealand', 'winnerOf', 'Match59'),\n",
       " ('TeamIndia', 'loserOf', 'Match59'),\n",
       " ('Match59', 'inGround', 'GroundLeeds'),\n",
       " ('Match59', 'inCountry', 'CountryEngland'),\n",
       " ('Match59', 'isNeutral', 'True'),\n",
       " ('Match59', 'atYear', '1979'),\n",
       " ('TeamAustralia', 'isHomeTeamIn', 'Match60'),\n",
       " ('TeamPakistan', 'isAwayTeamIn', 'Match60'),\n",
       " ('TeamPakistan', 'winnerOf', 'Match60'),\n",
       " ('TeamAustralia', 'loserOf', 'Match60'),\n",
       " ('Match60', 'inGround', 'GroundNottingham'),\n",
       " ('Match60', 'inCountry', 'CountryEngland'),\n",
       " ('Match60', 'isNeutral', 'True'),\n",
       " ('Match60', 'atYear', '1979'),\n",
       " ('TeamEngland', 'isHomeTeamIn', 'Match61'),\n",
       " ('TeamCanada', 'isAwayTeamIn', 'Match61'),\n",
       " ('TeamEngland', 'winnerOf', 'Match61'),\n",
       " ('TeamCanada', 'loserOf', 'Match61'),\n",
       " ('Match61', 'inGround', 'GroundManchester'),\n",
       " ('Match61', 'inCountry', 'CountryEngland'),\n",
       " ('Match61', 'isNeutral', 'False'),\n",
       " ('Match61', 'atYear', '1979'),\n",
       " ('TeamIndia', 'isHomeTeamIn', 'Match62'),\n",
       " ('TeamSriLanka', 'isAwayTeamIn', 'Match62'),\n",
       " ('TeamSriLanka', 'winnerOf', 'Match62'),\n",
       " ('TeamIndia', 'loserOf', 'Match62'),\n",
       " ('Match62', 'inGround', 'GroundManchester'),\n",
       " ('Match62', 'inCountry', 'CountryEngland'),\n",
       " ('Match62', 'isNeutral', 'True'),\n",
       " ('Match62', 'atYear', '1979'),\n",
       " ('TeamNewZealand', 'isHomeTeamIn', 'Match63'),\n",
       " ('TeamWestIndies', 'isAwayTeamIn', 'Match63'),\n",
       " ('TeamWestIndies', 'winnerOf', 'Match63'),\n",
       " ('TeamNewZealand', 'loserOf', 'Match63'),\n",
       " ('Match63', 'inGround', 'GroundNottingham'),\n",
       " ('Match63', 'inCountry', 'CountryEngland'),\n",
       " ('Match63', 'isNeutral', 'True'),\n",
       " ('Match63', 'atYear', '1979'),\n",
       " ('TeamAustralia', 'isHomeTeamIn', 'Match64'),\n",
       " ('TeamCanada', 'isAwayTeamIn', 'Match64'),\n",
       " ('TeamAustralia', 'winnerOf', 'Match64'),\n",
       " ('TeamCanada', 'loserOf', 'Match64'),\n",
       " ('Match64', 'inGround', 'GroundBirmingham'),\n",
       " ('Match64', 'inCountry', 'CountryEngland'),\n",
       " ('Match64', 'isNeutral', 'True'),\n",
       " ('Match64', 'atYear', '1979'),\n",
       " ('TeamEngland', 'isHomeTeamIn', 'Match65'),\n",
       " ('TeamPakistan', 'isAwayTeamIn', 'Match65'),\n",
       " ('TeamEngland', 'winnerOf', 'Match65'),\n",
       " ('TeamPakistan', 'loserOf', 'Match65'),\n",
       " ('Match65', 'inGround', 'GroundLeeds'),\n",
       " ('Match65', 'inCountry', 'CountryEngland'),\n",
       " ('Match65', 'isNeutral', 'False'),\n",
       " ('Match65', 'atYear', '1979'),\n",
       " ('TeamEngland', 'isHomeTeamIn', 'Match66'),\n",
       " ('TeamNewZealand', 'isAwayTeamIn', 'Match66'),\n",
       " ('TeamEngland', 'winnerOf', 'Match66'),\n",
       " ('TeamNewZealand', 'loserOf', 'Match66'),\n",
       " ('Match66', 'inGround', 'GroundManchester'),\n",
       " ('Match66', 'inCountry', 'CountryEngland'),\n",
       " ('Match66', 'isNeutral', 'False'),\n",
       " ('Match66', 'atYear', '1979'),\n",
       " ('TeamPakistan', 'isHomeTeamIn', 'Match67'),\n",
       " ('TeamWestIndies', 'isAwayTeamIn', 'Match67'),\n",
       " ('TeamWestIndies', 'winnerOf', 'Match67'),\n",
       " ('TeamPakistan', 'loserOf', 'Match67'),\n",
       " ('Match67', 'inGround', 'GroundTheOval'),\n",
       " ('Match67', 'inCountry', 'CountryEngland'),\n",
       " ('Match67', 'isNeutral', 'True'),\n",
       " ('Match67', 'atYear', '1979'),\n",
       " ('TeamEngland', 'isHomeTeamIn', 'Match68'),\n",
       " ('TeamWestIndies', 'isAwayTeamIn', 'Match68'),\n",
       " ('TeamWestIndies', 'winnerOf', 'Match68'),\n",
       " ('TeamEngland', 'loserOf', 'Match68'),\n",
       " ('Match68', 'inGround', \"GroundLord'S\"),\n",
       " ('Match68', 'inCountry', 'CountryEngland'),\n",
       " ('Match68', 'isNeutral', 'False'),\n",
       " ('Match68', 'atYear', '1979'),\n",
       " ('TeamAustralia', 'isHomeTeamIn', 'Match69'),\n",
       " ('TeamWestIndies', 'isAwayTeamIn', 'Match69'),\n",
       " ('TeamAustralia', 'winnerOf', 'Match69'),\n",
       " ('TeamWestIndies', 'loserOf', 'Match69'),\n",
       " ('Match69', 'inGround', 'GroundSydney'),\n",
       " ('Match69', 'inCountry', 'CountryAustralia'),\n",
       " ('Match69', 'isNeutral', 'False'),\n",
       " ('Match69', 'atYear', '1979'),\n",
       " ('TeamEngland', 'isHomeTeamIn', 'Match70'),\n",
       " ('TeamWestIndies', 'isAwayTeamIn', 'Match70'),\n",
       " ('TeamEngland', 'winnerOf', 'Match70'),\n",
       " ('TeamWestIndies', 'loserOf', 'Match70'),\n",
       " ('Match70', 'inGround', 'GroundSydney'),\n",
       " ('Match70', 'inCountry', 'CountryAustralia'),\n",
       " ('Match70', 'isNeutral', 'True'),\n",
       " ('Match70', 'atYear', '1979'),\n",
       " ('TeamAustralia', 'isHomeTeamIn', 'Match71'),\n",
       " ('TeamEngland', 'isAwayTeamIn', 'Match71'),\n",
       " ('TeamEngland', 'winnerOf', 'Match71'),\n",
       " ('TeamAustralia', 'loserOf', 'Match71'),\n",
       " ('Match71', 'inGround', 'GroundMelbourne'),\n",
       " ('Match71', 'inCountry', 'CountryAustralia'),\n",
       " ('Match71', 'isNeutral', 'False'),\n",
       " ('Match71', 'atYear', '1979'),\n",
       " ('TeamAustralia', 'isHomeTeamIn', 'Match72'),\n",
       " ('TeamWestIndies', 'isAwayTeamIn', 'Match72'),\n",
       " ('TeamWestIndies', 'winnerOf', 'Match72'),\n",
       " ('TeamAustralia', 'loserOf', 'Match72'),\n",
       " ('Match72', 'inGround', 'GroundMelbourne'),\n",
       " ('Match72', 'inCountry', 'CountryAustralia'),\n",
       " ('Match72', 'isNeutral', 'False'),\n",
       " ('Match72', 'atYear', '1979'),\n",
       " ('TeamAustralia', 'isHomeTeamIn', 'Match73'),\n",
       " ('TeamEngland', 'isAwayTeamIn', 'Match73'),\n",
       " ('TeamEngland', 'winnerOf', 'Match73'),\n",
       " ('TeamAustralia', 'loserOf', 'Match73'),\n",
       " ('Match73', 'inGround', 'GroundSydney'),\n",
       " ('Match73', 'inCountry', 'CountryAustralia'),\n",
       " ('Match73', 'isNeutral', 'False'),\n",
       " ('Match73', 'atYear', '1979'),\n",
       " ('TeamAustralia', 'isHomeTeamIn', 'Match74'),\n",
       " ('TeamWestIndies', 'isAwayTeamIn', 'Match74'),\n",
       " ('TeamAustralia', 'winnerOf', 'Match74'),\n",
       " ('TeamWestIndies', 'loserOf', 'Match74'),\n",
       " ('Match74', 'inGround', 'GroundSydney'),\n",
       " ('Match74', 'inCountry', 'CountryAustralia'),\n",
       " ('Match74', 'isNeutral', 'False'),\n",
       " ('Match74', 'atYear', '1979'),\n",
       " ('TeamEngland', 'isHomeTeamIn', 'Match75'),\n",
       " ('TeamWestIndies', 'isAwayTeamIn', 'Match75'),\n",
       " ('TeamWestIndies', 'winnerOf', 'Match75'),\n",
       " ('TeamEngland', 'loserOf', 'Match75'),\n",
       " ('Match75', 'inGround', 'GroundBrisbane'),\n",
       " ('Match75', 'inCountry', 'CountryAustralia'),\n",
       " ('Match75', 'isNeutral', 'True'),\n",
       " ('Match75', 'atYear', '1979'),\n",
       " ('TeamAustralia', 'isHomeTeamIn', 'Match76'),\n",
       " ('TeamEngland', 'isAwayTeamIn', 'Match76'),\n",
       " ('TeamEngland', 'winnerOf', 'Match76'),\n",
       " ('TeamAustralia', 'loserOf', 'Match76'),\n",
       " ('Match76', 'inGround', 'GroundSydney'),\n",
       " ('Match76', 'inCountry', 'CountryAustralia'),\n",
       " ('Match76', 'isNeutral', 'False'),\n",
       " ('Match76', 'atYear', '1979'),\n",
       " ('TeamAustralia', 'isHomeTeamIn', 'Match77'),\n",
       " ('TeamEngland', 'isAwayTeamIn', 'Match77'),\n",
       " ('TeamEngland', 'winnerOf', 'Match77'),\n",
       " ('TeamAustralia', 'loserOf', 'Match77'),\n",
       " ('Match77', 'inGround', 'GroundSydney'),\n",
       " ('Match77', 'inCountry', 'CountryAustralia'),\n",
       " ('Match77', 'isNeutral', 'False'),\n",
       " ('Match77', 'atYear', '1980'),\n",
       " ('TeamEngland', 'isHomeTeamIn', 'Match78'),\n",
       " ('TeamWestIndies', 'isAwayTeamIn', 'Match78'),\n",
       " ('TeamWestIndies', 'winnerOf', 'Match78'),\n",
       " ('TeamEngland', 'loserOf', 'Match78'),\n",
       " ('Match78', 'inGround', 'GroundAdelaide'),\n",
       " ('Match78', 'inCountry', 'CountryAustralia'),\n",
       " ('Match78', 'isNeutral', 'True'),\n",
       " ('Match78', 'atYear', '1980'),\n",
       " ('TeamAustralia', 'isHomeTeamIn', 'Match79'),\n",
       " ('TeamWestIndies', 'isAwayTeamIn', 'Match79'),\n",
       " ('TeamAustralia', 'winnerOf', 'Match79'),\n",
       " ('TeamWestIndies', 'loserOf', 'Match79'),\n",
       " ('Match79', 'inGround', 'GroundSydney'),\n",
       " ('Match79', 'inCountry', 'CountryAustralia'),\n",
       " ('Match79', 'isNeutral', 'False'),\n",
       " ('Match79', 'atYear', '1980'),\n",
       " ('TeamEngland', 'isHomeTeamIn', 'Match80'),\n",
       " ('TeamWestIndies', 'isAwayTeamIn', 'Match80'),\n",
       " ('TeamWestIndies', 'winnerOf', 'Match80'),\n",
       " ('TeamEngland', 'loserOf', 'Match80'),\n",
       " ('Match80', 'inGround', 'GroundMelbourne'),\n",
       " ('Match80', 'inCountry', 'CountryAustralia'),\n",
       " ('Match80', 'isNeutral', 'True'),\n",
       " ('Match80', 'atYear', '1980'),\n",
       " ('TeamEngland', 'isHomeTeamIn', 'Match81'),\n",
       " ('TeamWestIndies', 'isAwayTeamIn', 'Match81'),\n",
       " ('TeamWestIndies', 'winnerOf', 'Match81'),\n",
       " ('TeamEngland', 'loserOf', 'Match81'),\n",
       " ('Match81', 'inGround', 'GroundSydney'),\n",
       " ('Match81', 'inCountry', 'CountryAustralia'),\n",
       " ('Match81', 'isNeutral', 'True'),\n",
       " ('Match81', 'atYear', '1980'),\n",
       " ('TeamNewZealand', 'isHomeTeamIn', 'Match82'),\n",
       " ('TeamWestIndies', 'isAwayTeamIn', 'Match82'),\n",
       " ('TeamNewZealand', 'winnerOf', 'Match82'),\n",
       " ('TeamWestIndies', 'loserOf', 'Match82'),\n",
       " ('Match82', 'inGround', 'GroundChristchurch'),\n",
       " ('Match82', 'inCountry', 'CountryNewZealand'),\n",
       " ('Match82', 'isNeutral', 'False'),\n",
       " ('Match82', 'atYear', '1980'),\n",
       " ('TeamEngland', 'isHomeTeamIn', 'Match83'),\n",
       " ('TeamWestIndies', 'isAwayTeamIn', 'Match83'),\n",
       " ('TeamWestIndies', 'winnerOf', 'Match83'),\n",
       " ('TeamEngland', 'loserOf', 'Match83'),\n",
       " ('Match83', 'inGround', 'GroundLeeds'),\n",
       " ('Match83', 'inCountry', 'CountryEngland'),\n",
       " ('Match83', 'isNeutral', 'False'),\n",
       " ('Match83', 'atYear', '1980'),\n",
       " ('TeamEngland', 'isHomeTeamIn', 'Match84'),\n",
       " ('TeamWestIndies', 'isAwayTeamIn', 'Match84'),\n",
       " ('TeamEngland', 'winnerOf', 'Match84'),\n",
       " ('TeamWestIndies', 'loserOf', 'Match84'),\n",
       " ('Match84', 'inGround', \"GroundLord'S\"),\n",
       " ('Match84', 'inCountry', 'CountryEngland'),\n",
       " ('Match84', 'isNeutral', 'False'),\n",
       " ('Match84', 'atYear', '1980'),\n",
       " ('TeamEngland', 'isHomeTeamIn', 'Match85'),\n",
       " ('TeamAustralia', 'isAwayTeamIn', 'Match85'),\n",
       " ('TeamEngland', 'winnerOf', 'Match85'),\n",
       " ('TeamAustralia', 'loserOf', 'Match85'),\n",
       " ('Match85', 'inGround', 'GroundTheOval'),\n",
       " ('Match85', 'inCountry', 'CountryEngland'),\n",
       " ('Match85', 'isNeutral', 'False'),\n",
       " ('Match85', 'atYear', '1980'),\n",
       " ('TeamEngland', 'isHomeTeamIn', 'Match86'),\n",
       " ('TeamAustralia', 'isAwayTeamIn', 'Match86'),\n",
       " ('TeamEngland', 'winnerOf', 'Match86'),\n",
       " ('TeamAustralia', 'loserOf', 'Match86'),\n",
       " ('Match86', 'inGround', 'GroundBirmingham'),\n",
       " ('Match86', 'inCountry', 'CountryEngland'),\n",
       " ('Match86', 'isNeutral', 'False'),\n",
       " ('Match86', 'atYear', '1980'),\n",
       " ('TeamPakistan', 'isHomeTeamIn', 'Match87'),\n",
       " ('TeamWestIndies', 'isAwayTeamIn', 'Match87'),\n",
       " ('TeamWestIndies', 'winnerOf', 'Match87'),\n",
       " ('TeamPakistan', 'loserOf', 'Match87'),\n",
       " ('Match87', 'inGround', 'GroundKarachi'),\n",
       " ('Match87', 'inCountry', 'CountryPakistan'),\n",
       " ('Match87', 'isNeutral', 'False'),\n",
       " ('Match87', 'atYear', '1980'),\n",
       " ('TeamAustralia', 'isHomeTeamIn', 'Match88'),\n",
       " ('TeamNewZealand', 'isAwayTeamIn', 'Match88'),\n",
       " ('TeamNewZealand', 'winnerOf', 'Match88'),\n",
       " ('TeamAustralia', 'loserOf', 'Match88'),\n",
       " ('Match88', 'inGround', 'GroundAdelaide'),\n",
       " ('Match88', 'inCountry', 'CountryAustralia'),\n",
       " ('Match88', 'isNeutral', 'False'),\n",
       " ('Match88', 'atYear', '1980'),\n",
       " ('TeamAustralia', 'isHomeTeamIn', 'Match89'),\n",
       " ('TeamNewZealand', 'isAwayTeamIn', 'Match89'),\n",
       " ('TeamAustralia', 'winnerOf', 'Match89'),\n",
       " ('TeamNewZealand', 'loserOf', 'Match89'),\n",
       " ('Match89', 'inGround', 'GroundSydney'),\n",
       " ('Match89', 'inCountry', 'CountryAustralia'),\n",
       " ('Match89', 'isNeutral', 'False'),\n",
       " ('Match89', 'atYear', '1980'),\n",
       " ('TeamPakistan', 'isHomeTeamIn', 'Match90'),\n",
       " ('TeamWestIndies', 'isAwayTeamIn', 'Match90'),\n",
       " ('TeamWestIndies', 'winnerOf', 'Match90'),\n",
       " ('TeamPakistan', 'loserOf', 'Match90'),\n",
       " ('Match90', 'inGround', 'GroundSialkot'),\n",
       " ('Match90', 'inCountry', 'CountryPakistan'),\n",
       " ('Match90', 'isNeutral', 'False'),\n",
       " ('Match90', 'atYear', '1980'),\n",
       " ('TeamAustralia', 'isHomeTeamIn', 'Match91'),\n",
       " ('TeamIndia', 'isAwayTeamIn', 'Match91'),\n",
       " ('TeamIndia', 'winnerOf', 'Match91'),\n",
       " ('TeamAustralia', 'loserOf', 'Match91'),\n",
       " ('Match91', 'inGround', 'GroundMelbourne'),\n",
       " ('Match91', 'inCountry', 'CountryAustralia'),\n",
       " ('Match91', 'isNeutral', 'False'),\n",
       " ('Match91', 'atYear', '1980'),\n",
       " ('TeamAustralia', 'isHomeTeamIn', 'Match92'),\n",
       " ('TeamNewZealand', 'isAwayTeamIn', 'Match92'),\n",
       " ('TeamAustralia', 'winnerOf', 'Match92'),\n",
       " ('TeamNewZealand', 'loserOf', 'Match92'),\n",
       " ('Match92', 'inGround', 'GroundMelbourne'),\n",
       " ('Match92', 'inCountry', 'CountryAustralia'),\n",
       " ('Match92', 'isNeutral', 'False'),\n",
       " ('Match92', 'atYear', '1980'),\n",
       " ('TeamIndia', 'isHomeTeamIn', 'Match93'),\n",
       " ('TeamNewZealand', 'isAwayTeamIn', 'Match93'),\n",
       " ('TeamIndia', 'winnerOf', 'Match93'),\n",
       " ('TeamNewZealand', 'loserOf', 'Match93'),\n",
       " ('Match93', 'inGround', 'GroundPerth'),\n",
       " ('Match93', 'inCountry', 'CountryAustralia'),\n",
       " ('Match93', 'isNeutral', 'True'),\n",
       " ('Match93', 'atYear', '1980'),\n",
       " ('TeamAustralia', 'isHomeTeamIn', 'Match94'),\n",
       " ('TeamIndia', 'isAwayTeamIn', 'Match94'),\n",
       " ('TeamAustralia', 'winnerOf', 'Match94'),\n",
       " ('TeamIndia', 'loserOf', 'Match94'),\n",
       " ('Match94', 'inGround', 'GroundSydney'),\n",
       " ('Match94', 'inCountry', 'CountryAustralia'),\n",
       " ('Match94', 'isNeutral', 'False'),\n",
       " ('Match94', 'atYear', '1980'),\n",
       " ('TeamPakistan', 'isHomeTeamIn', 'Match95'),\n",
       " ('TeamWestIndies', 'isAwayTeamIn', 'Match95'),\n",
       " ('TeamWestIndies', 'winnerOf', 'Match95'),\n",
       " ('TeamPakistan', 'loserOf', 'Match95'),\n",
       " ('Match95', 'inGround', 'GroundLahore'),\n",
       " ('Match95', 'inCountry', 'CountryPakistan'),\n",
       " ('Match95', 'isNeutral', 'False'),\n",
       " ('Match95', 'atYear', '1980'),\n",
       " ('TeamIndia', 'isHomeTeamIn', 'Match96'),\n",
       " ('TeamNewZealand', 'isAwayTeamIn', 'Match96'),\n",
       " ('TeamNewZealand', 'winnerOf', 'Match96'),\n",
       " ('TeamIndia', 'loserOf', 'Match96'),\n",
       " ('Match96', 'inGround', 'GroundBrisbane'),\n",
       " ('Match96', 'inCountry', 'CountryAustralia'),\n",
       " ('Match96', 'isNeutral', 'True'),\n",
       " ('Match96', 'atYear', '1980'),\n",
       " ('TeamIndia', 'isHomeTeamIn', 'Match97'),\n",
       " ('TeamNewZealand', 'isAwayTeamIn', 'Match97'),\n",
       " ('TeamIndia', 'winnerOf', 'Match97'),\n",
       " ('TeamNewZealand', 'loserOf', 'Match97'),\n",
       " ('Match97', 'inGround', 'GroundAdelaide'),\n",
       " ('Match97', 'inCountry', 'CountryAustralia'),\n",
       " ('Match97', 'isNeutral', 'True'),\n",
       " ('Match97', 'atYear', '1980'),\n",
       " ('TeamAustralia', 'isHomeTeamIn', 'Match98'),\n",
       " ('TeamIndia', 'isAwayTeamIn', 'Match98'),\n",
       " ('TeamAustralia', 'winnerOf', 'Match98'),\n",
       " ('TeamIndia', 'loserOf', 'Match98'),\n",
       " ('Match98', 'inGround', 'GroundSydney'),\n",
       " ('Match98', 'inCountry', 'CountryAustralia'),\n",
       " ('Match98', 'isNeutral', 'False'),\n",
       " ('Match98', 'atYear', '1981'),\n",
       " ('TeamIndia', 'isHomeTeamIn', 'Match99'),\n",
       " ('TeamNewZealand', 'isAwayTeamIn', 'Match99'),\n",
       " ('TeamNewZealand', 'winnerOf', 'Match99'),\n",
       " ('TeamIndia', 'loserOf', 'Match99'),\n",
       " ('Match99', 'inGround', 'GroundMelbourne'),\n",
       " ('Match99', 'inCountry', 'CountryAustralia'),\n",
       " ('Match99', 'isNeutral', 'True'),\n",
       " ('Match99', 'atYear', '1981'),\n",
       " ('TeamAustralia', 'isHomeTeamIn', 'Match100'),\n",
       " ('TeamIndia', 'isAwayTeamIn', 'Match100'),\n",
       " ('TeamAustralia', 'winnerOf', 'Match100'),\n",
       " ('TeamIndia', 'loserOf', 'Match100'),\n",
       " ('Match100', 'inGround', 'GroundMelbourne'),\n",
       " ('Match100', 'inCountry', 'CountryAustralia'),\n",
       " ('Match100', 'isNeutral', 'False'),\n",
       " ('Match100', 'atYear', '1981'),\n",
       " ('TeamAustralia', 'isHomeTeamIn', 'Match101'),\n",
       " ('TeamNewZealand', 'isAwayTeamIn', 'Match101'),\n",
       " ('TeamNewZealand', 'winnerOf', 'Match101'),\n",
       " ('TeamAustralia', 'loserOf', 'Match101'),\n",
       " ('Match101', 'inGround', 'GroundSydney'),\n",
       " ('Match101', 'inCountry', 'CountryAustralia'),\n",
       " ('Match101', 'isNeutral', 'False'),\n",
       " ('Match101', 'atYear', '1981'),\n",
       " ('TeamAustralia', 'isHomeTeamIn', 'Match102'),\n",
       " ('TeamIndia', 'isAwayTeamIn', 'Match102'),\n",
       " ('TeamAustralia', 'winnerOf', 'Match102'),\n",
       " ('TeamIndia', 'loserOf', 'Match102'),\n",
       " ('Match102', 'inGround', 'GroundSydney'),\n",
       " ('Match102', 'inCountry', 'CountryAustralia'),\n",
       " ('Match102', 'isNeutral', 'False'),\n",
       " ('Match102', 'atYear', '1981'),\n",
       " ('TeamIndia', 'isHomeTeamIn', 'Match103'),\n",
       " ('TeamNewZealand', 'isAwayTeamIn', 'Match103'),\n",
       " ('TeamNewZealand', 'winnerOf', 'Match103'),\n",
       " ('TeamIndia', 'loserOf', 'Match103'),\n",
       " ('Match103', 'inGround', 'GroundBrisbane'),\n",
       " ('Match103', 'inCountry', 'CountryAustralia'),\n",
       " ('Match103', 'isNeutral', 'True'),\n",
       " ('Match103', 'atYear', '1981'),\n",
       " ('TeamAustralia', 'isHomeTeamIn', 'Match104'),\n",
       " ('TeamNewZealand', 'isAwayTeamIn', 'Match104'),\n",
       " ('TeamNewZealand', 'winnerOf', 'Match104'),\n",
       " ('TeamAustralia', 'loserOf', 'Match104'),\n",
       " ('Match104', 'inGround', 'GroundSydney'),\n",
       " ('Match104', 'inCountry', 'CountryAustralia'),\n",
       " ('Match104', 'isNeutral', 'False'),\n",
       " ('Match104', 'atYear', '1981'),\n",
       " ('TeamAustralia', 'isHomeTeamIn', 'Match105'),\n",
       " ('TeamNewZealand', 'isAwayTeamIn', 'Match105'),\n",
       " ('TeamAustralia', 'winnerOf', 'Match105'),\n",
       " ('TeamNewZealand', 'loserOf', 'Match105'),\n",
       " ('Match105', 'inGround', 'GroundMelbourne'),\n",
       " ('Match105', 'inCountry', 'CountryAustralia'),\n",
       " ('Match105', 'isNeutral', 'False'),\n",
       " ('Match105', 'atYear', '1981'),\n",
       " ('TeamAustralia', 'isHomeTeamIn', 'Match106'),\n",
       " ('TeamNewZealand', 'isAwayTeamIn', 'Match106'),\n",
       " ('TeamAustralia', 'winnerOf', 'Match106'),\n",
       " ('TeamNewZealand', 'loserOf', 'Match106'),\n",
       " ('Match106', 'inGround', 'GroundMelbourne'),\n",
       " ('Match106', 'inCountry', 'CountryAustralia'),\n",
       " ('Match106', 'isNeutral', 'False'),\n",
       " ('Match106', 'atYear', '1981'),\n",
       " ('TeamAustralia', 'isHomeTeamIn', 'Match107'),\n",
       " ('TeamNewZealand', 'isAwayTeamIn', 'Match107'),\n",
       " ('TeamAustralia', 'winnerOf', 'Match107'),\n",
       " ('TeamNewZealand', 'loserOf', 'Match107'),\n",
       " ('Match107', 'inGround', 'GroundSydney'),\n",
       " ('Match107', 'inCountry', 'CountryAustralia'),\n",
       " ('Match107', 'isNeutral', 'False'),\n",
       " ('Match107', 'atYear', '1981'),\n",
       " ('TeamWestIndies', 'isHomeTeamIn', 'Match108'),\n",
       " ('TeamEngland', 'isAwayTeamIn', 'Match108'),\n",
       " ('TeamWestIndies', 'winnerOf', 'Match108'),\n",
       " ('TeamEngland', 'loserOf', 'Match108'),\n",
       " ('Match108', 'inGround', 'GroundKingstown'),\n",
       " ('Match108', 'inCountry', 'CountryWestIndies'),\n",
       " ('Match108', 'isNeutral', 'False'),\n",
       " ('Match108', 'atYear', '1981'),\n",
       " ('TeamNewZealand', 'isHomeTeamIn', 'Match109'),\n",
       " ('TeamIndia', 'isAwayTeamIn', 'Match109'),\n",
       " ('TeamNewZealand', 'winnerOf', 'Match109'),\n",
       " ('TeamIndia', 'loserOf', 'Match109'),\n",
       " ('Match109', 'inGround', 'GroundAuckland'),\n",
       " ('Match109', 'inCountry', 'CountryNewZealand'),\n",
       " ('Match109', 'isNeutral', 'False'),\n",
       " ('Match109', 'atYear', '1981'),\n",
       " ('TeamNewZealand', 'isHomeTeamIn', 'Match110'),\n",
       " ('TeamIndia', 'isAwayTeamIn', 'Match110'),\n",
       " ('TeamNewZealand', 'winnerOf', 'Match110'),\n",
       " ('TeamIndia', 'loserOf', 'Match110'),\n",
       " ('Match110', 'inGround', 'GroundHamilton'),\n",
       " ('Match110', 'inCountry', 'CountryNewZealand'),\n",
       " ('Match110', 'isNeutral', 'False'),\n",
       " ('Match110', 'atYear', '1981'),\n",
       " ('TeamWestIndies', 'isHomeTeamIn', 'Match111'),\n",
       " ('TeamEngland', 'isAwayTeamIn', 'Match111'),\n",
       " ('TeamWestIndies', 'winnerOf', 'Match111'),\n",
       " ('TeamEngland', 'loserOf', 'Match111'),\n",
       " ('Match111', 'inGround', 'GroundAlbion'),\n",
       " ('Match111', 'inCountry', 'CountryWestIndies'),\n",
       " ('Match111', 'isNeutral', 'False'),\n",
       " ('Match111', 'atYear', '1981'),\n",
       " ('TeamEngland', 'isHomeTeamIn', 'Match112'),\n",
       " ('TeamAustralia', 'isAwayTeamIn', 'Match112'),\n",
       " ('TeamEngland', 'winnerOf', 'Match112'),\n",
       " ('TeamAustralia', 'loserOf', 'Match112'),\n",
       " ('Match112', 'inGround', \"GroundLord'S\"),\n",
       " ('Match112', 'inCountry', 'CountryEngland'),\n",
       " ('Match112', 'isNeutral', 'False'),\n",
       " ('Match112', 'atYear', '1981'),\n",
       " ('TeamEngland', 'isHomeTeamIn', 'Match113'),\n",
       " ('TeamAustralia', 'isAwayTeamIn', 'Match113'),\n",
       " ('TeamAustralia', 'winnerOf', 'Match113'),\n",
       " ('TeamEngland', 'loserOf', 'Match113'),\n",
       " ('Match113', 'inGround', 'GroundBirmingham'),\n",
       " ('Match113', 'inCountry', 'CountryEngland'),\n",
       " ('Match113', 'isNeutral', 'False'),\n",
       " ('Match113', 'atYear', '1981'),\n",
       " ('TeamEngland', 'isHomeTeamIn', 'Match114'),\n",
       " ('TeamAustralia', 'isAwayTeamIn', 'Match114'),\n",
       " ('TeamAustralia', 'winnerOf', 'Match114'),\n",
       " ('TeamEngland', 'loserOf', 'Match114'),\n",
       " ('Match114', 'inGround', 'GroundLeeds'),\n",
       " ('Match114', 'inCountry', 'CountryEngland'),\n",
       " ('Match114', 'isNeutral', 'False'),\n",
       " ('Match114', 'atYear', '1981'),\n",
       " ('TeamPakistan', 'isHomeTeamIn', 'Match115'),\n",
       " ('TeamWestIndies', 'isAwayTeamIn', 'Match115'),\n",
       " ('TeamWestIndies', 'winnerOf', 'Match115'),\n",
       " ('TeamPakistan', 'loserOf', 'Match115'),\n",
       " ('Match115', 'inGround', 'GroundMelbourne'),\n",
       " ('Match115', 'inCountry', 'CountryAustralia'),\n",
       " ('Match115', 'isNeutral', 'True'),\n",
       " ('Match115', 'atYear', '1981'),\n",
       " ('TeamAustralia', 'isHomeTeamIn', 'Match116'),\n",
       " ('TeamPakistan', 'isAwayTeamIn', 'Match116'),\n",
       " ('TeamPakistan', 'winnerOf', 'Match116'),\n",
       " ('TeamAustralia', 'loserOf', 'Match116'),\n",
       " ('Match116', 'inGround', 'GroundMelbourne'),\n",
       " ('Match116', 'inCountry', 'CountryAustralia'),\n",
       " ('Match116', 'isNeutral', 'False'),\n",
       " ('Match116', 'atYear', '1981'),\n",
       " ('TeamAustralia', 'isHomeTeamIn', 'Match117'),\n",
       " ('TeamWestIndies', 'isAwayTeamIn', 'Match117'),\n",
       " ('TeamAustralia', 'winnerOf', 'Match117'),\n",
       " ('TeamWestIndies', 'loserOf', 'Match117'),\n",
       " ('Match117', 'inGround', 'GroundSydney'),\n",
       " ('Match117', 'inCountry', 'CountryAustralia'),\n",
       " ('Match117', 'isNeutral', 'False'),\n",
       " ('Match117', 'atYear', '1981'),\n",
       " ('TeamIndia', 'isHomeTeamIn', 'Match118'),\n",
       " ('TeamEngland', 'isAwayTeamIn', 'Match118'),\n",
       " ('TeamEngland', 'winnerOf', 'Match118'),\n",
       " ('TeamIndia', 'loserOf', 'Match118'),\n",
       " ('Match118', 'inGround', 'GroundAhmedabad'),\n",
       " ('Match118', 'inCountry', 'CountryIndia'),\n",
       " ('Match118', 'isNeutral', 'False'),\n",
       " ('Match118', 'atYear', '1981'),\n",
       " ('TeamPakistan', 'isHomeTeamIn', 'Match119'),\n",
       " ('TeamWestIndies', 'isAwayTeamIn', 'Match119'),\n",
       " ('TeamPakistan', 'winnerOf', 'Match119'),\n",
       " ('TeamWestIndies', 'loserOf', 'Match119'),\n",
       " ('Match119', 'inGround', 'GroundAdelaide'),\n",
       " ('Match119', 'inCountry', 'CountryAustralia'),\n",
       " ('Match119', 'isNeutral', 'True'),\n",
       " ('Match119', 'atYear', '1981'),\n",
       " ('TeamAustralia', 'isHomeTeamIn', 'Match120'),\n",
       " ('TeamPakistan', 'isAwayTeamIn', 'Match120'),\n",
       " ('TeamAustralia', 'winnerOf', 'Match120'),\n",
       " ('TeamPakistan', 'loserOf', 'Match120'),\n",
       " ('Match120', 'inGround', 'GroundAdelaide'),\n",
       " ('Match120', 'inCountry', 'CountryAustralia'),\n",
       " ('Match120', 'isNeutral', 'False'),\n",
       " ('Match120', 'atYear', '1981'),\n",
       " ('TeamAustralia', 'isHomeTeamIn', 'Match121'),\n",
       " ('TeamPakistan', 'isAwayTeamIn', 'Match121'),\n",
       " ('TeamPakistan', 'winnerOf', 'Match121'),\n",
       " ('TeamAustralia', 'loserOf', 'Match121'),\n",
       " ('Match121', 'inGround', 'GroundSydney'),\n",
       " ('Match121', 'inCountry', 'CountryAustralia'),\n",
       " ('Match121', 'isNeutral', 'False'),\n",
       " ('Match121', 'atYear', '1981'),\n",
       " ('TeamPakistan', 'isHomeTeamIn', 'Match122'),\n",
       " ('TeamWestIndies', 'isAwayTeamIn', 'Match122'),\n",
       " ('TeamWestIndies', 'winnerOf', 'Match122'),\n",
       " ('TeamPakistan', 'loserOf', 'Match122'),\n",
       " ('Match122', 'inGround', 'GroundPerth'),\n",
       " ('Match122', 'inCountry', 'CountryAustralia'),\n",
       " ('Match122', 'isNeutral', 'True'),\n",
       " ('Match122', 'atYear', '1981'),\n",
       " ('TeamAustralia', 'isHomeTeamIn', 'Match123'),\n",
       " ('TeamWestIndies', 'isAwayTeamIn', 'Match123'),\n",
       " ('TeamWestIndies', 'winnerOf', 'Match123'),\n",
       " ('TeamAustralia', 'loserOf', 'Match123'),\n",
       " ('Match123', 'inGround', 'GroundPerth'),\n",
       " ('Match123', 'inCountry', 'CountryAustralia'),\n",
       " ('Match123', 'isNeutral', 'False'),\n",
       " ('Match123', 'atYear', '1981'),\n",
       " ('TeamIndia', 'isHomeTeamIn', 'Match124'),\n",
       " ('TeamEngland', 'isAwayTeamIn', 'Match124'),\n",
       " ('TeamIndia', 'winnerOf', 'Match124'),\n",
       " ('TeamEngland', 'loserOf', 'Match124'),\n",
       " ('Match124', 'inGround', 'GroundJalandhar'),\n",
       " ('Match124', 'inCountry', 'CountryIndia'),\n",
       " ('Match124', 'isNeutral', 'False'),\n",
       " ('Match124', 'atYear', '1981'),\n",
       " ...]"
      ]
     },
     "execution_count": 91,
     "metadata": {},
     "output_type": "execute_result"
    }
   ],
   "source": [
    "triples"
   ]
  },
  {
   "cell_type": "code",
   "execution_count": 94,
   "metadata": {},
   "outputs": [
    {
     "data": {
      "text/html": [
       "<div>\n",
       "<style scoped>\n",
       "    .dataframe tbody tr th:only-of-type {\n",
       "        vertical-align: middle;\n",
       "    }\n",
       "\n",
       "    .dataframe tbody tr th {\n",
       "        vertical-align: top;\n",
       "    }\n",
       "\n",
       "    .dataframe thead th {\n",
       "        text-align: right;\n",
       "    }\n",
       "</style>\n",
       "<table border=\"1\" class=\"dataframe\">\n",
       "  <thead>\n",
       "    <tr style=\"text-align: right;\">\n",
       "      <th></th>\n",
       "      <th>subject</th>\n",
       "      <th>predicate</th>\n",
       "      <th>object</th>\n",
       "    </tr>\n",
       "  </thead>\n",
       "  <tbody>\n",
       "    <tr>\n",
       "      <th>0</th>\n",
       "      <td>TeamAustralia</td>\n",
       "      <td>isHomeTeamIn</td>\n",
       "      <td>Match0</td>\n",
       "    </tr>\n",
       "    <tr>\n",
       "      <th>1</th>\n",
       "      <td>TeamEngland</td>\n",
       "      <td>isAwayTeamIn</td>\n",
       "      <td>Match0</td>\n",
       "    </tr>\n",
       "    <tr>\n",
       "      <th>2</th>\n",
       "      <td>TeamAustralia</td>\n",
       "      <td>winnerOf</td>\n",
       "      <td>Match0</td>\n",
       "    </tr>\n",
       "    <tr>\n",
       "      <th>3</th>\n",
       "      <td>TeamEngland</td>\n",
       "      <td>loserOf</td>\n",
       "      <td>Match0</td>\n",
       "    </tr>\n",
       "    <tr>\n",
       "      <th>4</th>\n",
       "      <td>Match0</td>\n",
       "      <td>inGround</td>\n",
       "      <td>GroundMelbourne</td>\n",
       "    </tr>\n",
       "  </tbody>\n",
       "</table>\n",
       "</div>"
      ],
      "text/plain": [
       "         subject     predicate           object\n",
       "0  TeamAustralia  isHomeTeamIn           Match0\n",
       "1    TeamEngland  isAwayTeamIn           Match0\n",
       "2  TeamAustralia      winnerOf           Match0\n",
       "3    TeamEngland       loserOf           Match0\n",
       "4         Match0      inGround  GroundMelbourne"
      ]
     },
     "execution_count": 94,
     "metadata": {},
     "output_type": "execute_result"
    }
   ],
   "source": [
    "triples_df = pd.DataFrame(triples, columns=[\"subject\", \"predicate\", \"object\"])\n",
    "triples_df.head()"
   ]
  },
  {
   "cell_type": "markdown",
   "metadata": {
    "colab_type": "text",
    "id": "iN_zcqaEqP8q"
   },
   "source": [
    "**1.2.3 Select only one match_id and visualize its knowledge graph using networkx (0.25 points)**"
   ]
  },
  {
   "cell_type": "code",
   "execution_count": 98,
   "metadata": {
    "colab": {},
    "colab_type": "code",
    "id": "q4NOoXvuqP8u"
   },
   "outputs": [
    {
     "data": {
      "text/html": [
       "<div>\n",
       "<style scoped>\n",
       "    .dataframe tbody tr th:only-of-type {\n",
       "        vertical-align: middle;\n",
       "    }\n",
       "\n",
       "    .dataframe tbody tr th {\n",
       "        vertical-align: top;\n",
       "    }\n",
       "\n",
       "    .dataframe thead th {\n",
       "        text-align: right;\n",
       "    }\n",
       "</style>\n",
       "<table border=\"1\" class=\"dataframe\">\n",
       "  <thead>\n",
       "    <tr style=\"text-align: right;\">\n",
       "      <th></th>\n",
       "      <th>subject</th>\n",
       "      <th>predicate</th>\n",
       "      <th>object</th>\n",
       "    </tr>\n",
       "  </thead>\n",
       "  <tbody>\n",
       "    <tr>\n",
       "      <th>4440</th>\n",
       "      <td>TeamIndia</td>\n",
       "      <td>isHomeTeamIn</td>\n",
       "      <td>Match555</td>\n",
       "    </tr>\n",
       "    <tr>\n",
       "      <th>4441</th>\n",
       "      <td>TeamSriLanka</td>\n",
       "      <td>isAwayTeamIn</td>\n",
       "      <td>Match555</td>\n",
       "    </tr>\n",
       "    <tr>\n",
       "      <th>4442</th>\n",
       "      <td>TeamIndia</td>\n",
       "      <td>winnerOf</td>\n",
       "      <td>Match555</td>\n",
       "    </tr>\n",
       "    <tr>\n",
       "      <th>4443</th>\n",
       "      <td>TeamSriLanka</td>\n",
       "      <td>loserOf</td>\n",
       "      <td>Match555</td>\n",
       "    </tr>\n",
       "    <tr>\n",
       "      <th>4444</th>\n",
       "      <td>Match555</td>\n",
       "      <td>inGround</td>\n",
       "      <td>GroundAhmedabad</td>\n",
       "    </tr>\n",
       "    <tr>\n",
       "      <th>4445</th>\n",
       "      <td>Match555</td>\n",
       "      <td>inCountry</td>\n",
       "      <td>CountryIndia</td>\n",
       "    </tr>\n",
       "    <tr>\n",
       "      <th>4446</th>\n",
       "      <td>Match555</td>\n",
       "      <td>isNeutral</td>\n",
       "      <td>False</td>\n",
       "    </tr>\n",
       "    <tr>\n",
       "      <th>4447</th>\n",
       "      <td>Match555</td>\n",
       "      <td>atYear</td>\n",
       "      <td>1989</td>\n",
       "    </tr>\n",
       "  </tbody>\n",
       "</table>\n",
       "</div>"
      ],
      "text/plain": [
       "           subject     predicate           object\n",
       "4440     TeamIndia  isHomeTeamIn         Match555\n",
       "4441  TeamSriLanka  isAwayTeamIn         Match555\n",
       "4442     TeamIndia      winnerOf         Match555\n",
       "4443  TeamSriLanka       loserOf         Match555\n",
       "4444      Match555      inGround  GroundAhmedabad\n",
       "4445      Match555     inCountry     CountryIndia\n",
       "4446      Match555     isNeutral            False\n",
       "4447      Match555        atYear             1989"
      ]
     },
     "execution_count": 98,
     "metadata": {},
     "output_type": "execute_result"
    }
   ],
   "source": [
    "triples_df[(triples_df.subject==\"Match555\") | (triples_df.object==\"Match555\")]"
   ]
  },
  {
   "cell_type": "code",
   "execution_count": 104,
   "metadata": {},
   "outputs": [],
   "source": [
    "import networkx as nx\n",
    "import matplotlib.pyplot as plt\n",
    "\n",
    "# create a directed-graph from a dataframe\n",
    "G=nx.from_pandas_edgelist(triples_df, \"subject\", \"object\", \n",
    "                          edge_attr=True, create_using=nx.MultiDiGraph())"
   ]
  },
  {
   "cell_type": "code",
   "execution_count": null,
   "metadata": {},
   "outputs": [],
   "source": [
    "plt.figure(figsize=(12,12))\n",
    "\n",
    "pos = nx.spring_layout(G)\n",
    "nx.draw(G, with_labels=True, node_color='skyblue', edge_cmap=plt.cm.Blues, pos = pos)\n",
    "plt.show()"
   ]
  },
  {
   "cell_type": "code",
   "execution_count": null,
   "metadata": {},
   "outputs": [],
   "source": [
    "G=nx.from_pandas_edgelist(triples_df[triples_df['predicate']==\"isHomeTeamIn\"], \"subject\", \"object\",  \n",
    "                          edge_attr=True, create_using=nx.MultiDiGraph())\n",
    "\n",
    "plt.figure(figsize=(12,12))\n",
    "pos = nx.spring_layout(G, k = 0.5) # k regulates the distance between nodes\n",
    "nx.draw(G, with_labels=True, node_color='skyblue', node_size=1500, edge_cmap=plt.cm.Blues, pos = pos)\n",
    "plt.show()"
   ]
  },
  {
   "cell_type": "code",
   "execution_count": null,
   "metadata": {},
   "outputs": [],
   "source": [
    "\n",
    "\n",
    "G=nx.from_pandas_edgelist(triples_df[triples_df['predicate']==\"atYear\"], \"subject\", \"object\",  \n",
    "                          edge_attr=True, create_using=nx.MultiDiGraph())\n",
    "\n",
    "plt.figure(figsize=(12,12))\n",
    "pos = nx.spring_layout(G, k = 0.5) # k regulates the distance between nodes\n",
    "nx.draw(G, with_labels=True, node_color='skyblue', node_size=1500, edge_cmap=plt.cm.Blues, pos = pos)\n",
    "plt.show()"
   ]
  },
  {
   "cell_type": "markdown",
   "metadata": {
    "colab_type": "text",
    "id": "Nsnskn-mqP89"
   },
   "source": [
    "**1.2.4 Split the triples into train and validation set. Set the test size equal to 20% of the records in the dataset. Train the ComplexEx model for knowledge graphs embeddings and evaluate its performance using mr_score, mrr_score, hits_at_n_score. (0.75 points)**"
   ]
  },
  {
   "cell_type": "code",
   "execution_count": null,
   "metadata": {
    "colab": {},
    "colab_type": "code",
    "id": "Co5UbjYCqP8-"
   },
   "outputs": [],
   "source": [
    "from ampligraph.evaluation import train_test_split_no_unseen \n",
    "\n",
    "X_train, X_valid = train_test_split_no_unseen(np.array(triples), test_size=10000)"
   ]
  },
  {
   "cell_type": "code",
   "execution_count": null,
   "metadata": {},
   "outputs": [],
   "source": [
    "triples"
   ]
  },
  {
   "cell_type": "code",
   "execution_count": null,
   "metadata": {},
   "outputs": [],
   "source": [
    "print('Train set size: ', X_train.shape)\n",
    "print('Test set size: ', X_valid.shape)"
   ]
  },
  {
   "cell_type": "code",
   "execution_count": null,
   "metadata": {},
   "outputs": [],
   "source": [
    "from ampligraph.latent_features import ComplEx\n",
    "\n",
    "model = ComplEx(batches_count=50,\n",
    "                epochs=300,\n",
    "                k=100,\n",
    "                eta=20,\n",
    "                optimizer='adam', \n",
    "                optimizer_params={'lr':1e-4},\n",
    "                loss='multiclass_nll',\n",
    "                regularizer='LP', \n",
    "                regularizer_params={'p':3, 'lambda':1e-5}, \n",
    "                seed=0, \n",
    "                verbose=True)"
   ]
  },
  {
   "cell_type": "code",
   "execution_count": null,
   "metadata": {},
   "outputs": [],
   "source": [
    "import tensorflow as tf\n",
    "tf.logging.set_verbosity(tf.logging.ERROR)\n",
    "\n",
    "model.fit(X_train)"
   ]
  },
  {
   "cell_type": "code",
   "execution_count": null,
   "metadata": {},
   "outputs": [],
   "source": [
    "filter_triples = np.concatenate((X_train, X_valid))"
   ]
  },
  {
   "cell_type": "code",
   "execution_count": null,
   "metadata": {},
   "outputs": [],
   "source": [
    "from ampligraph.evaluation import evaluate_performance\n",
    "\n",
    "ranks = evaluate_performance(X_valid,\n",
    "                             model=model, \n",
    "                             filter_triples=filter_triples,\n",
    "                             use_default_protocol=True,\n",
    "                             verbose=True)"
   ]
  },
  {
   "cell_type": "code",
   "execution_count": null,
   "metadata": {},
   "outputs": [],
   "source": [
    "from ampligraph.evaluation import mr_score, mrr_score, hits_at_n_score\n",
    "\n",
    "mr = mr_score(ranks)\n",
    "mrr = mrr_score(ranks)\n",
    "\n",
    "print(\"MRR: %.2f\" % (mrr))\n",
    "print(\"MR: %.2f\" % (mr))\n",
    "\n",
    "hits_10 = hits_at_n_score(ranks, n=10)\n",
    "print(\"Hits@10: %.2f\" % (hits_10))\n",
    "hits_3 = hits_at_n_score(ranks, n=3)\n",
    "print(\"Hits@3: %.2f\" % (hits_3))\n",
    "hits_1 = hits_at_n_score(ranks, n=1)\n",
    "print(\"Hits@1: %.2f\" % (hits_1))"
   ]
  },
  {
   "cell_type": "code",
   "execution_count": null,
   "metadata": {},
   "outputs": [],
   "source": []
  },
  {
   "cell_type": "code",
   "execution_count": null,
   "metadata": {},
   "outputs": [],
   "source": []
  },
  {
   "cell_type": "markdown",
   "metadata": {
    "colab_type": "text",
    "id": "v1UxS_sZqP9K"
   },
   "source": [
    "**1.2.5 Create a dictionary with the embeddings of all teams and use PCA to project embeddings to 2D space. Cluster the team embeddings in 6 clusters and plot them in a 2D graph. (0.75 points)**"
   ]
  },
  {
   "cell_type": "code",
   "execution_count": null,
   "metadata": {
    "colab": {},
    "colab_type": "code",
    "id": "F2doV4jiqP9P"
   },
   "outputs": [],
   "source": [
    "%%capture\n",
    "# !pip install seaborn adjustText\n",
    "# !git clone https://github.com/wyldebeast-wunderliebe/incf.countryutils.git\n",
    "# !pip install incf.countryutils/.\n",
    "\n",
    "from sklearn.decomposition import PCA\n",
    "import matplotlib.pyplot as plt\n",
    "import seaborn as sns\n",
    "from adjustText import adjust_text\n",
    "from incf.countryutils import transformations\n",
    "%matplotlib inline"
   ]
  },
  {
   "cell_type": "code",
   "execution_count": null,
   "metadata": {},
   "outputs": [],
   "source": [
    "id_to_name_map = {**dict(zip(df.home_team_id, df.home_team)), **dict(zip(df.away_team_id, df.away_team))}"
   ]
  },
  {
   "cell_type": "code",
   "execution_count": null,
   "metadata": {},
   "outputs": [],
   "source": [
    "teams = pd.concat((df.home_team_id[df[\"train\"]], df.away_team_id[df[\"train\"]])).unique()\n",
    "team_embeddings = dict(zip(teams, model.get_embeddings(teams)))"
   ]
  },
  {
   "cell_type": "code",
   "execution_count": null,
   "metadata": {},
   "outputs": [],
   "source": [
    "embeddings_2d = PCA(n_components=2).fit_transform(np.array([i for i in team_embeddings.values()]))"
   ]
  },
  {
   "cell_type": "code",
   "execution_count": null,
   "metadata": {},
   "outputs": [],
   "source": [
    "from ampligraph.discovery import find_clusters\n",
    "from sklearn.cluster import KMeans\n",
    "\n",
    "clustering_algorithm = KMeans(n_clusters=6, n_init=50, max_iter=500, random_state=0)\n",
    "clusters = find_clusters(teams, model, clustering_algorithm, mode='entity')"
   ]
  },
  {
   "cell_type": "code",
   "execution_count": null,
   "metadata": {},
   "outputs": [],
   "source": [
    "def cn_to_ctn(country):\n",
    "    try:\n",
    "        return transformations.cn_to_ctn(id_to_name_map[country])\n",
    "    except KeyError:\n",
    "        return \"unk\""
   ]
  },
  {
   "cell_type": "code",
   "execution_count": null,
   "metadata": {},
   "outputs": [],
   "source": [
    "plot_df = pd.DataFrame({\"teams\": teams, \n",
    "                        \"embedding1\": embeddings_2d[:, 0], \n",
    "                        \"embedding2\": embeddings_2d[:, 1],\n",
    "                        \"continent\": pd.Series(teams).apply(cn_to_ctn),\n",
    "                        \"cluster\": \"cluster\" + pd.Series(clusters).astype(str)})"
   ]
  },
  {
   "cell_type": "code",
   "execution_count": null,
   "metadata": {},
   "outputs": [],
   "source": [
    "## change the top20 team //TODO\n",
    "top20teams = [\"TeamBelgium\", \"TeamFrance\", \"TeamBrazil\", \"TeamEngland\", \"TeamPortugal\", \"TeamCroatia\", \"TeamSpain\", \n",
    "              \"TeamUruguay\", \"TeamSwitzerland\", \"TeamDenmark\", \"TeamArgentina\", \"TeamGermany\", \"TeamColombia\",\n",
    "              \"TeamItaly\", \"TeamNetherlands\", \"TeamChile\", \"TeamSweden\", \"TeamMexico\", \"TeamPoland\", \"TeamIran\"]\n",
    "\n",
    "def plot_clusters(hue):\n",
    "    np.random.seed(0)\n",
    "    plt.figure(figsize=(12, 12))\n",
    "    plt.title(\"{} embeddings\".format(hue).capitalize())\n",
    "    ax = sns.scatterplot(data=plot_df[plot_df.continent!=\"unk\"], x=\"embedding1\", y=\"embedding2\", hue=hue)\n",
    "    texts = []\n",
    "    for i, point in plot_df.iterrows():\n",
    "        if point[\"teams\"] in top20teams or np.random.random() < 0.1:\n",
    "            texts.append(plt.text(point['embedding1']+0.02, point['embedding2']+0.01, str(point[\"teams\"])))\n",
    "    adjust_text(texts)"
   ]
  },
  {
   "cell_type": "code",
   "execution_count": null,
   "metadata": {},
   "outputs": [],
   "source": [
    "plot_clusters(\"continent\")"
   ]
  },
  {
   "cell_type": "code",
   "execution_count": null,
   "metadata": {},
   "outputs": [],
   "source": [
    "plot_clusters(\"cluster\")"
   ]
  },
  {
   "cell_type": "markdown",
   "metadata": {
    "colab_type": "text",
    "id": "XyNedQb4qP9c"
   },
   "source": [
    "**1.2.6 In order to predict if the home team is going to win or lose we need to define a target variable. Create a new column called \"result\" in the dataframe that takes the value 'home_team_wins' if the home team is the winner and 'home_team_loses' if the home team has not won the match. (0.25 points)**"
   ]
  },
  {
   "cell_type": "code",
   "execution_count": null,
   "metadata": {
    "colab": {},
    "colab_type": "code",
    "id": "NCIwCJc9qP9f"
   },
   "outputs": [],
   "source": [
    "df[\"results\"] = (df.home_score > df.away_score).astype(int) + \\\n",
    "                (df.home_score == df.away_score).astype(int)*2 + \\\n",
    "                (df.home_score < df.away_score).astype(int)*3 - 1"
   ]
  },
  {
   "cell_type": "code",
   "execution_count": null,
   "metadata": {},
   "outputs": [],
   "source": [
    "df.results.value_counts(normalize=True)"
   ]
  },
  {
   "cell_type": "code",
   "execution_count": null,
   "metadata": {},
   "outputs": [],
   "source": []
  },
  {
   "cell_type": "markdown",
   "metadata": {
    "colab_type": "text",
    "id": "aBz2Bp3nqP9p"
   },
   "source": [
    "**1.2.7 Create a function that extracts the features (knowledge embeddings for home and away teams) and the target for a particular subset of the dataset (You can use the function from practice session). Run the function to get the variables for X_train, y_train, X_test and y_test. Remember that the train set indices are the same as in 1.2.2 (0.5 points)**\n"
   ]
  },
  {
   "cell_type": "code",
   "execution_count": null,
   "metadata": {
    "colab": {},
    "colab_type": "code",
    "id": "B8zcXgSGqP9r"
   },
   "outputs": [],
   "source": [
    "def get_features_target(mask):\n",
    "    \n",
    "    def get_embeddings(team):\n",
    "        return team_embeddings.get(team, np.full(200, np.nan))\n",
    "    \n",
    "    X = np.hstack((np.vstack(df[mask].home_team_id.apply(get_embeddings).values),\n",
    "                   np.vstack(df[mask].away_team_id.apply(get_embeddings).values)))\n",
    "    y = df[mask].results.values\n",
    "    return X, y"
   ]
  },
  {
   "cell_type": "code",
   "execution_count": null,
   "metadata": {},
   "outputs": [],
   "source": [
    "clf_X_train, y_train = get_features_target((df[\"train\"]))\n",
    "clf_X_test, y_test = get_features_target((~df[\"train\"]))"
   ]
  },
  {
   "cell_type": "code",
   "execution_count": null,
   "metadata": {},
   "outputs": [],
   "source": [
    "clf_X_train.shape, clf_X_test.shape"
   ]
  },
  {
   "cell_type": "code",
   "execution_count": null,
   "metadata": {},
   "outputs": [],
   "source": [
    "np.isnan(clf_X_test).sum()/clf_X_test.shape[1]"
   ]
  },
  {
   "cell_type": "markdown",
   "metadata": {},
   "source": [
    "**1.2.8 Create an instance of XGBClassifier and fit the training samples. Evaluate the accuracy of the model in test set. (0.5 points)**"
   ]
  },
  {
   "cell_type": "code",
   "execution_count": null,
   "metadata": {},
   "outputs": [],
   "source": [
    "#%%capture\n",
    "#!pip install xgboost\n",
    "from xgboost import XGBClassifier"
   ]
  },
  {
   "cell_type": "code",
   "execution_count": null,
   "metadata": {},
   "outputs": [],
   "source": [
    "clf_model = XGBClassifier(n_estimators=500, max_depth=5, objective=\"multi:softmax\")"
   ]
  },
  {
   "cell_type": "code",
   "execution_count": null,
   "metadata": {},
   "outputs": [],
   "source": [
    "clf_model.fit(clf_X_train, y_train)"
   ]
  },
  {
   "cell_type": "code",
   "execution_count": null,
   "metadata": {},
   "outputs": [],
   "source": [
    "df[~df[\"train\"]].results.value_counts(normalize=True)"
   ]
  },
  {
   "cell_type": "code",
   "execution_count": null,
   "metadata": {},
   "outputs": [],
   "source": [
    "metrics.accuracy_score(y_test, clf_model.predict(clf_X_test))"
   ]
  },
  {
   "cell_type": "markdown",
   "metadata": {
    "colab_type": "text",
    "id": "vXO3KzzRqP-P"
   },
   "source": [
    "# 2. Fairness & Interpretability ( 5 points)"
   ]
  },
  {
   "cell_type": "markdown",
   "metadata": {
    "colab_type": "text",
    "id": "CD13zq7dqP-T"
   },
   "source": [
    "In this section you are going to use the standard German Credit dataset used to bechmark many model interpretability techniques. The daset contains 1000 records of loan applications associatid with a risk score: Good or Bad."
   ]
  },
  {
   "cell_type": "markdown",
   "metadata": {
    "colab_type": "text",
    "id": "JtbM9PjSqP-Y"
   },
   "source": [
    "**2.1 Load the dataset german_credit_data.csv. The dataset has some empty values. Choose one imputation method for each columnd and fill in the empty cells. (0.5 points)**"
   ]
  },
  {
   "cell_type": "code",
   "execution_count": null,
   "metadata": {
    "colab": {},
    "colab_type": "code",
    "id": "1IQCdkK1qP-b"
   },
   "outputs": [],
   "source": []
  },
  {
   "cell_type": "markdown",
   "metadata": {
    "colab_type": "text",
    "id": "W-oNAEq0qP-y"
   },
   "source": [
    "**2.2 Plot the values of the column Age against the Risk column. Do you think there exist  bias in this dataset ? (0.5 points)**"
   ]
  },
  {
   "cell_type": "code",
   "execution_count": null,
   "metadata": {
    "colab": {},
    "colab_type": "code",
    "id": "yqf04FLVqP-z"
   },
   "outputs": [],
   "source": []
  },
  {
   "cell_type": "markdown",
   "metadata": {
    "colab_type": "text",
    "id": "gAHod7xQqP-9"
   },
   "source": [
    "<font color='red'> **Answer:**\n"
   ]
  },
  {
   "cell_type": "markdown",
   "metadata": {
    "colab_type": "text",
    "id": "KP-ztVrIqP-_"
   },
   "source": [
    "**2.3 Calculate the percentage of the applications by gender Female that got a Bad credit score and a Good credit score. Do the same for Male gender. Do you believe there is enough data to think there is a bias in the dataset ? (0.5 points)**"
   ]
  },
  {
   "cell_type": "code",
   "execution_count": null,
   "metadata": {
    "colab": {},
    "colab_type": "code",
    "id": "VXmT2050qP_B"
   },
   "outputs": [],
   "source": []
  },
  {
   "cell_type": "markdown",
   "metadata": {
    "colab_type": "text",
    "id": "ITyCgp3uqP_T"
   },
   "source": [
    "<font color='red'> **Answer:**\n"
   ]
  },
  {
   "cell_type": "markdown",
   "metadata": {
    "colab_type": "text",
    "id": "Fk7vkSttqP_U"
   },
   "source": [
    "**2.4 Copy the data in a new dataframe and perform label encoding. Split the dataset in 80% train and 70% test set while keeping the random state equal to 99. Train the XGBoost classifier below and predict the results in test set. Report the accuracy and F1-score. Plot the classifcation report as well. (0.5 points)**"
   ]
  },
  {
   "cell_type": "code",
   "execution_count": null,
   "metadata": {
    "colab": {},
    "colab_type": "code",
    "id": "A5MHWOG_qP_V"
   },
   "outputs": [],
   "source": [
    "import xgboost as xgb\n",
    "xgc = xgb.XGBClassifier(n_estimators=500, max_depth=5, base_score=0.5,\n",
    "                        objective='binary:logistic', random_state=99)"
   ]
  },
  {
   "cell_type": "code",
   "execution_count": null,
   "metadata": {
    "colab": {},
    "colab_type": "code",
    "id": "kNysE8aRqP_e"
   },
   "outputs": [],
   "source": []
  },
  {
   "cell_type": "markdown",
   "metadata": {
    "colab_type": "text",
    "id": "nKJ_FTDfqP_r"
   },
   "source": [
    "**2.5 Plot 3 types of  feature importance given by XGBoost and interpret the results. (0.5 points)**"
   ]
  },
  {
   "cell_type": "code",
   "execution_count": null,
   "metadata": {
    "colab": {},
    "colab_type": "code",
    "id": "iktnVZ7iqP_s"
   },
   "outputs": [],
   "source": []
  },
  {
   "cell_type": "markdown",
   "metadata": {
    "colab_type": "text",
    "id": "dMHWoH3mqP_-"
   },
   "source": [
    "<font color='red'> **Answer:**\n"
   ]
  },
  {
   "cell_type": "markdown",
   "metadata": {
    "colab_type": "text",
    "id": "2eHQv7TAqQAA"
   },
   "source": [
    "**2.6 Use eli5 to analyze the most important features of a sample where the credit score is equal to Bad and another sample when the credit score is equal to Good. Explain briefly the results (0.5 points)**"
   ]
  },
  {
   "cell_type": "code",
   "execution_count": null,
   "metadata": {
    "colab": {},
    "colab_type": "code",
    "id": "ivA3IkjaqQAC"
   },
   "outputs": [],
   "source": []
  },
  {
   "cell_type": "markdown",
   "metadata": {
    "colab_type": "text",
    "id": "xDrSeExbqQAW"
   },
   "source": [
    "<font color='red'> **Answer:**\n"
   ]
  },
  {
   "cell_type": "markdown",
   "metadata": {
    "colab_type": "text",
    "id": "QRn01tqLqQAY"
   },
   "source": [
    "**2.7 Use SHAP to explain the prediction of the model for a sample where the credit score is equal to Bad and another sample when the credit score is equal to Good. Explain briefly the results.(0.5 points)**"
   ]
  },
  {
   "cell_type": "code",
   "execution_count": null,
   "metadata": {
    "colab": {},
    "colab_type": "code",
    "id": "PwbnwPsNqQAa"
   },
   "outputs": [],
   "source": []
  },
  {
   "cell_type": "markdown",
   "metadata": {
    "colab_type": "text",
    "id": "adgX29y6qQAk"
   },
   "source": [
    "<font color='red'> **Answer:**\n"
   ]
  },
  {
   "cell_type": "markdown",
   "metadata": {
    "colab_type": "text",
    "id": "OvkC298cqQAm"
   },
   "source": [
    "**2.8 Use SHAP to explain the prediction of the model for  the first 250 samples. Based on the similar patterns explain briefly the results(0.75 points)**"
   ]
  },
  {
   "cell_type": "code",
   "execution_count": null,
   "metadata": {
    "colab": {},
    "colab_type": "code",
    "id": "KxYusrBqqQAp"
   },
   "outputs": [],
   "source": []
  },
  {
   "cell_type": "markdown",
   "metadata": {
    "colab_type": "text",
    "id": "GWkDRnS2qQAy"
   },
   "source": [
    "<font color='red'> **Answer:**\n"
   ]
  },
  {
   "cell_type": "markdown",
   "metadata": {
    "colab_type": "text",
    "id": "8dZWQAGoqQAz"
   },
   "source": [
    "**2.9 Plot as a bar chart the feature importances received from SHAP. Finally compare these results  with the result from 2.5 and 2.8. (0.75 points)**"
   ]
  },
  {
   "cell_type": "code",
   "execution_count": null,
   "metadata": {
    "colab": {},
    "colab_type": "code",
    "id": "ZogFdG2gqQA1"
   },
   "outputs": [],
   "source": []
  },
  {
   "cell_type": "markdown",
   "metadata": {
    "colab_type": "text",
    "id": "6l44otjAqQBD"
   },
   "source": [
    "<font color='red'> **Answer:**\n"
   ]
  },
  {
   "cell_type": "markdown",
   "metadata": {
    "colab_type": "text",
    "id": "LW3lVqBXqQBE"
   },
   "source": [
    "## How long did it take you to solve the homework?\n",
    "\n",
    "* Please answer as precisely as you can. It does not affect your points or grade in any way. It is okay, if it took 0.5 hours or 24 hours. The collected information will be used to improve future homeworks.\n",
    "\n",
    "<font color='red'> **Answer:**</font>\n",
    "\n",
    "**<font color='red'>(please change X in the next cell into your estimate)</font>**\n",
    "\n",
    "X hours\n",
    "\n",
    "## What is the level of difficulty for this homework?\n",
    "you can put only number between $0:10$ ($0:$ easy, $10:$ difficult)\n",
    "\n",
    "<font color='red'> **Answer:**</font>"
   ]
  },
  {
   "cell_type": "code",
   "execution_count": null,
   "metadata": {
    "colab": {},
    "colab_type": "code",
    "id": "UUd-gbd-qQBF"
   },
   "outputs": [],
   "source": []
  }
 ],
 "metadata": {
  "colab": {
   "name": "Homework_06.ipynb",
   "provenance": []
  },
  "kernelspec": {
   "display_name": "Python 3",
   "language": "python",
   "name": "python3"
  },
  "language_info": {
   "codemirror_mode": {
    "name": "ipython",
    "version": 3
   },
   "file_extension": ".py",
   "mimetype": "text/x-python",
   "name": "python",
   "nbconvert_exporter": "python",
   "pygments_lexer": "ipython3",
   "version": "3.6.7"
  }
 },
 "nbformat": 4,
 "nbformat_minor": 1
}
