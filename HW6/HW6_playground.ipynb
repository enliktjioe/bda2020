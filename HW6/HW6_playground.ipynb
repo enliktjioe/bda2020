{
 "cells": [
  {
   "cell_type": "code",
   "execution_count": 1,
   "metadata": {},
   "outputs": [
    {
     "data": {
      "text/html": [
       "<div>\n",
       "<style scoped>\n",
       "    .dataframe tbody tr th:only-of-type {\n",
       "        vertical-align: middle;\n",
       "    }\n",
       "\n",
       "    .dataframe tbody tr th {\n",
       "        vertical-align: top;\n",
       "    }\n",
       "\n",
       "    .dataframe thead th {\n",
       "        text-align: right;\n",
       "    }\n",
       "</style>\n",
       "<table border=\"1\" class=\"dataframe\">\n",
       "  <thead>\n",
       "    <tr style=\"text-align: right;\">\n",
       "      <th></th>\n",
       "      <th>ground</th>\n",
       "      <th>date</th>\n",
       "      <th>winner</th>\n",
       "      <th>host_country</th>\n",
       "      <th>home_team</th>\n",
       "      <th>away_team</th>\n",
       "      <th>neutral</th>\n",
       "    </tr>\n",
       "  </thead>\n",
       "  <tbody>\n",
       "    <tr>\n",
       "      <th>0</th>\n",
       "      <td>Melbourne</td>\n",
       "      <td>Jan 5, 1971</td>\n",
       "      <td>Australia</td>\n",
       "      <td>Australia</td>\n",
       "      <td>Australia</td>\n",
       "      <td>England</td>\n",
       "      <td>False</td>\n",
       "    </tr>\n",
       "    <tr>\n",
       "      <th>1</th>\n",
       "      <td>Manchester</td>\n",
       "      <td>Aug 24, 1972</td>\n",
       "      <td>England</td>\n",
       "      <td>England</td>\n",
       "      <td>England</td>\n",
       "      <td>Australia</td>\n",
       "      <td>False</td>\n",
       "    </tr>\n",
       "    <tr>\n",
       "      <th>2</th>\n",
       "      <td>Lord's</td>\n",
       "      <td>Aug 26, 1972</td>\n",
       "      <td>Australia</td>\n",
       "      <td>England</td>\n",
       "      <td>England</td>\n",
       "      <td>Australia</td>\n",
       "      <td>False</td>\n",
       "    </tr>\n",
       "    <tr>\n",
       "      <th>3</th>\n",
       "      <td>Birmingham</td>\n",
       "      <td>Aug 28, 1972</td>\n",
       "      <td>England</td>\n",
       "      <td>England</td>\n",
       "      <td>England</td>\n",
       "      <td>Australia</td>\n",
       "      <td>False</td>\n",
       "    </tr>\n",
       "    <tr>\n",
       "      <th>4</th>\n",
       "      <td>Christchurch</td>\n",
       "      <td>Feb 11, 1973</td>\n",
       "      <td>New Zealand</td>\n",
       "      <td>New Zealand</td>\n",
       "      <td>New Zealand</td>\n",
       "      <td>Pakistan</td>\n",
       "      <td>False</td>\n",
       "    </tr>\n",
       "  </tbody>\n",
       "</table>\n",
       "</div>"
      ],
      "text/plain": [
       "         ground          date       winner host_country    home_team  \\\n",
       "0     Melbourne   Jan 5, 1971    Australia    Australia    Australia   \n",
       "1    Manchester  Aug 24, 1972      England      England      England   \n",
       "2        Lord's  Aug 26, 1972    Australia      England      England   \n",
       "3    Birmingham  Aug 28, 1972      England      England      England   \n",
       "4  Christchurch  Feb 11, 1973  New Zealand  New Zealand  New Zealand   \n",
       "\n",
       "   away_team  neutral  \n",
       "0    England    False  \n",
       "1  Australia    False  \n",
       "2  Australia    False  \n",
       "3  Australia    False  \n",
       "4   Pakistan    False  "
      ]
     },
     "execution_count": 1,
     "metadata": {},
     "output_type": "execute_result"
    }
   ],
   "source": [
    "import pandas as pd\n",
    "import numpy as np\n",
    "df = pd.read_csv('cricket_data.csv')\n",
    "df.head()"
   ]
  },
  {
   "cell_type": "code",
   "execution_count": 2,
   "metadata": {},
   "outputs": [],
   "source": [
    "# Entities naming\n",
    "df[\"match_id\"] = df.index.values.astype(str)\n",
    "df[\"match_id\"] =  \"Match\" + df.match_id\n",
    "df[\"ground_id\"] = \"Ground\" + df.ground.str.title().str.replace(\" \", \"\")\n",
    "df[\"country_id\"] = \"Country\" + df.host_country.str.title().str.replace(\" \", \"\")\n",
    "df[\"home_team_id\"] = \"Team\" + df.home_team.str.title().str.replace(\" \", \"\")\n",
    "df[\"away_team_id\"] = \"Team\" + df.away_team.str.title().str.replace(\" \", \"\")\n",
    "df[\"neutral\"] = df.neutral.astype(str)"
   ]
  },
  {
   "cell_type": "code",
   "execution_count": 3,
   "metadata": {},
   "outputs": [
    {
     "data": {
      "text/plain": [
       "5891"
      ]
     },
     "execution_count": 3,
     "metadata": {},
     "output_type": "execute_result"
    }
   ],
   "source": [
    "num_train = int(np.round(0.8 * len(df), 0)) # 80% of dataset\n",
    "num_train"
   ]
  },
  {
   "cell_type": "code",
   "execution_count": 4,
   "metadata": {},
   "outputs": [],
   "source": [
    "df[\"train\"] = df.index < num_train"
   ]
  },
  {
   "cell_type": "code",
   "execution_count": 5,
   "metadata": {},
   "outputs": [
    {
     "data": {
      "text/plain": [
       "True     5891\n",
       "False    1473\n",
       "Name: train, dtype: int64"
      ]
     },
     "execution_count": 5,
     "metadata": {},
     "output_type": "execute_result"
    }
   ],
   "source": [
    "df[\"train\"].value_counts()"
   ]
  },
  {
   "cell_type": "code",
   "execution_count": 6,
   "metadata": {},
   "outputs": [],
   "source": [
    "triples = []\n",
    "for _, row in df[df[\"train\"]].iterrows():\n",
    "    # Home and away information\n",
    "    home_team = (row[\"home_team_id\"], \"isHomeTeamIn\", row[\"match_id\"])\n",
    "    away_team = (row[\"away_team_id\"], \"isAwayTeamIn\", row[\"match_id\"])\n",
    "    \n",
    "    # Match results\n",
    "    if row[\"winner\"] == row[\"home_team\"]:\n",
    "        score_home = (row[\"home_team_id\"], \"winnerOf\", row[\"match_id\"])\n",
    "        score_away = (row[\"away_team_id\"], \"loserOf\", row[\"match_id\"])\n",
    "    else:\n",
    "        score_home = (row[\"away_team_id\"], \"winnerOf\", row[\"match_id\"])\n",
    "        score_away = (row[\"home_team_id\"], \"loserOf\", row[\"match_id\"])\n",
    "    \n",
    "    # Match characteristics\n",
    "    ground = (row[\"match_id\"], \"inGround\", row[\"ground_id\"])\n",
    "    country = (row[\"match_id\"], \"inCountry\", row[\"country_id\"])\n",
    "    neutral = (row[\"match_id\"], \"isNeutral\", row[\"neutral\"])\n",
    "    year = (row[\"match_id\"], \"atYear\", row[\"date\"][-4:])\n",
    "    \n",
    "    triples.extend((home_team, away_team, score_home, score_away, \n",
    "                    ground, country, neutral, year))"
   ]
  },
  {
   "cell_type": "code",
   "execution_count": 7,
   "metadata": {},
   "outputs": [
    {
     "data": {
      "text/html": [
       "<div>\n",
       "<style scoped>\n",
       "    .dataframe tbody tr th:only-of-type {\n",
       "        vertical-align: middle;\n",
       "    }\n",
       "\n",
       "    .dataframe tbody tr th {\n",
       "        vertical-align: top;\n",
       "    }\n",
       "\n",
       "    .dataframe thead th {\n",
       "        text-align: right;\n",
       "    }\n",
       "</style>\n",
       "<table border=\"1\" class=\"dataframe\">\n",
       "  <thead>\n",
       "    <tr style=\"text-align: right;\">\n",
       "      <th></th>\n",
       "      <th>subject</th>\n",
       "      <th>predicate</th>\n",
       "      <th>object</th>\n",
       "    </tr>\n",
       "  </thead>\n",
       "  <tbody>\n",
       "    <tr>\n",
       "      <th>0</th>\n",
       "      <td>TeamAustralia</td>\n",
       "      <td>isHomeTeamIn</td>\n",
       "      <td>Match0</td>\n",
       "    </tr>\n",
       "    <tr>\n",
       "      <th>1</th>\n",
       "      <td>TeamEngland</td>\n",
       "      <td>isAwayTeamIn</td>\n",
       "      <td>Match0</td>\n",
       "    </tr>\n",
       "    <tr>\n",
       "      <th>2</th>\n",
       "      <td>TeamAustralia</td>\n",
       "      <td>winnerOf</td>\n",
       "      <td>Match0</td>\n",
       "    </tr>\n",
       "    <tr>\n",
       "      <th>3</th>\n",
       "      <td>TeamEngland</td>\n",
       "      <td>loserOf</td>\n",
       "      <td>Match0</td>\n",
       "    </tr>\n",
       "    <tr>\n",
       "      <th>4</th>\n",
       "      <td>Match0</td>\n",
       "      <td>inGround</td>\n",
       "      <td>GroundMelbourne</td>\n",
       "    </tr>\n",
       "  </tbody>\n",
       "</table>\n",
       "</div>"
      ],
      "text/plain": [
       "         subject     predicate           object\n",
       "0  TeamAustralia  isHomeTeamIn           Match0\n",
       "1    TeamEngland  isAwayTeamIn           Match0\n",
       "2  TeamAustralia      winnerOf           Match0\n",
       "3    TeamEngland       loserOf           Match0\n",
       "4         Match0      inGround  GroundMelbourne"
      ]
     },
     "execution_count": 7,
     "metadata": {},
     "output_type": "execute_result"
    }
   ],
   "source": [
    "triples_df = pd.DataFrame(triples, columns=[\"subject\", \"predicate\", \"object\"])\n",
    "triples_df.head()"
   ]
  },
  {
   "cell_type": "code",
   "execution_count": 8,
   "metadata": {},
   "outputs": [
    {
     "data": {
      "text/html": [
       "<div>\n",
       "<style scoped>\n",
       "    .dataframe tbody tr th:only-of-type {\n",
       "        vertical-align: middle;\n",
       "    }\n",
       "\n",
       "    .dataframe tbody tr th {\n",
       "        vertical-align: top;\n",
       "    }\n",
       "\n",
       "    .dataframe thead th {\n",
       "        text-align: right;\n",
       "    }\n",
       "</style>\n",
       "<table border=\"1\" class=\"dataframe\">\n",
       "  <thead>\n",
       "    <tr style=\"text-align: right;\">\n",
       "      <th></th>\n",
       "      <th>subject</th>\n",
       "      <th>predicate</th>\n",
       "      <th>object</th>\n",
       "    </tr>\n",
       "  </thead>\n",
       "  <tbody>\n",
       "    <tr>\n",
       "      <th>4440</th>\n",
       "      <td>TeamIndia</td>\n",
       "      <td>isHomeTeamIn</td>\n",
       "      <td>Match555</td>\n",
       "    </tr>\n",
       "    <tr>\n",
       "      <th>4441</th>\n",
       "      <td>TeamSriLanka</td>\n",
       "      <td>isAwayTeamIn</td>\n",
       "      <td>Match555</td>\n",
       "    </tr>\n",
       "    <tr>\n",
       "      <th>4442</th>\n",
       "      <td>TeamIndia</td>\n",
       "      <td>winnerOf</td>\n",
       "      <td>Match555</td>\n",
       "    </tr>\n",
       "    <tr>\n",
       "      <th>4443</th>\n",
       "      <td>TeamSriLanka</td>\n",
       "      <td>loserOf</td>\n",
       "      <td>Match555</td>\n",
       "    </tr>\n",
       "    <tr>\n",
       "      <th>4444</th>\n",
       "      <td>Match555</td>\n",
       "      <td>inGround</td>\n",
       "      <td>GroundAhmedabad</td>\n",
       "    </tr>\n",
       "    <tr>\n",
       "      <th>4445</th>\n",
       "      <td>Match555</td>\n",
       "      <td>inCountry</td>\n",
       "      <td>CountryIndia</td>\n",
       "    </tr>\n",
       "    <tr>\n",
       "      <th>4446</th>\n",
       "      <td>Match555</td>\n",
       "      <td>isNeutral</td>\n",
       "      <td>False</td>\n",
       "    </tr>\n",
       "    <tr>\n",
       "      <th>4447</th>\n",
       "      <td>Match555</td>\n",
       "      <td>atYear</td>\n",
       "      <td>1989</td>\n",
       "    </tr>\n",
       "  </tbody>\n",
       "</table>\n",
       "</div>"
      ],
      "text/plain": [
       "           subject     predicate           object\n",
       "4440     TeamIndia  isHomeTeamIn         Match555\n",
       "4441  TeamSriLanka  isAwayTeamIn         Match555\n",
       "4442     TeamIndia      winnerOf         Match555\n",
       "4443  TeamSriLanka       loserOf         Match555\n",
       "4444      Match555      inGround  GroundAhmedabad\n",
       "4445      Match555     inCountry     CountryIndia\n",
       "4446      Match555     isNeutral            False\n",
       "4447      Match555        atYear             1989"
      ]
     },
     "execution_count": 8,
     "metadata": {},
     "output_type": "execute_result"
    }
   ],
   "source": [
    "match555 = triples_df[(triples_df.subject==\"Match555\") | (triples_df.object==\"Match555\")]\n",
    "match555"
   ]
  },
  {
   "cell_type": "code",
   "execution_count": 9,
   "metadata": {},
   "outputs": [
    {
     "data": {
      "text/html": [
       "<div>\n",
       "<style scoped>\n",
       "    .dataframe tbody tr th:only-of-type {\n",
       "        vertical-align: middle;\n",
       "    }\n",
       "\n",
       "    .dataframe tbody tr th {\n",
       "        vertical-align: top;\n",
       "    }\n",
       "\n",
       "    .dataframe thead th {\n",
       "        text-align: right;\n",
       "    }\n",
       "</style>\n",
       "<table border=\"1\" class=\"dataframe\">\n",
       "  <thead>\n",
       "    <tr style=\"text-align: right;\">\n",
       "      <th></th>\n",
       "      <th>ground</th>\n",
       "      <th>date</th>\n",
       "      <th>winner</th>\n",
       "      <th>host_country</th>\n",
       "      <th>home_team</th>\n",
       "      <th>away_team</th>\n",
       "      <th>neutral</th>\n",
       "      <th>match_id</th>\n",
       "      <th>ground_id</th>\n",
       "      <th>country_id</th>\n",
       "      <th>home_team_id</th>\n",
       "      <th>away_team_id</th>\n",
       "      <th>train</th>\n",
       "    </tr>\n",
       "  </thead>\n",
       "  <tbody>\n",
       "    <tr>\n",
       "      <th>0</th>\n",
       "      <td>Melbourne</td>\n",
       "      <td>Jan 5, 1971</td>\n",
       "      <td>Australia</td>\n",
       "      <td>Australia</td>\n",
       "      <td>Australia</td>\n",
       "      <td>England</td>\n",
       "      <td>False</td>\n",
       "      <td>Match0</td>\n",
       "      <td>GroundMelbourne</td>\n",
       "      <td>CountryAustralia</td>\n",
       "      <td>TeamAustralia</td>\n",
       "      <td>TeamEngland</td>\n",
       "      <td>True</td>\n",
       "    </tr>\n",
       "    <tr>\n",
       "      <th>1</th>\n",
       "      <td>Manchester</td>\n",
       "      <td>Aug 24, 1972</td>\n",
       "      <td>England</td>\n",
       "      <td>England</td>\n",
       "      <td>England</td>\n",
       "      <td>Australia</td>\n",
       "      <td>False</td>\n",
       "      <td>Match1</td>\n",
       "      <td>GroundManchester</td>\n",
       "      <td>CountryEngland</td>\n",
       "      <td>TeamEngland</td>\n",
       "      <td>TeamAustralia</td>\n",
       "      <td>True</td>\n",
       "    </tr>\n",
       "    <tr>\n",
       "      <th>2</th>\n",
       "      <td>Lord's</td>\n",
       "      <td>Aug 26, 1972</td>\n",
       "      <td>Australia</td>\n",
       "      <td>England</td>\n",
       "      <td>England</td>\n",
       "      <td>Australia</td>\n",
       "      <td>False</td>\n",
       "      <td>Match2</td>\n",
       "      <td>GroundLord'S</td>\n",
       "      <td>CountryEngland</td>\n",
       "      <td>TeamEngland</td>\n",
       "      <td>TeamAustralia</td>\n",
       "      <td>True</td>\n",
       "    </tr>\n",
       "    <tr>\n",
       "      <th>3</th>\n",
       "      <td>Birmingham</td>\n",
       "      <td>Aug 28, 1972</td>\n",
       "      <td>England</td>\n",
       "      <td>England</td>\n",
       "      <td>England</td>\n",
       "      <td>Australia</td>\n",
       "      <td>False</td>\n",
       "      <td>Match3</td>\n",
       "      <td>GroundBirmingham</td>\n",
       "      <td>CountryEngland</td>\n",
       "      <td>TeamEngland</td>\n",
       "      <td>TeamAustralia</td>\n",
       "      <td>True</td>\n",
       "    </tr>\n",
       "    <tr>\n",
       "      <th>4</th>\n",
       "      <td>Christchurch</td>\n",
       "      <td>Feb 11, 1973</td>\n",
       "      <td>New Zealand</td>\n",
       "      <td>New Zealand</td>\n",
       "      <td>New Zealand</td>\n",
       "      <td>Pakistan</td>\n",
       "      <td>False</td>\n",
       "      <td>Match4</td>\n",
       "      <td>GroundChristchurch</td>\n",
       "      <td>CountryNewZealand</td>\n",
       "      <td>TeamNewZealand</td>\n",
       "      <td>TeamPakistan</td>\n",
       "      <td>True</td>\n",
       "    </tr>\n",
       "  </tbody>\n",
       "</table>\n",
       "</div>"
      ],
      "text/plain": [
       "         ground          date       winner host_country    home_team  \\\n",
       "0     Melbourne   Jan 5, 1971    Australia    Australia    Australia   \n",
       "1    Manchester  Aug 24, 1972      England      England      England   \n",
       "2        Lord's  Aug 26, 1972    Australia      England      England   \n",
       "3    Birmingham  Aug 28, 1972      England      England      England   \n",
       "4  Christchurch  Feb 11, 1973  New Zealand  New Zealand  New Zealand   \n",
       "\n",
       "   away_team neutral match_id           ground_id         country_id  \\\n",
       "0    England   False   Match0     GroundMelbourne   CountryAustralia   \n",
       "1  Australia   False   Match1    GroundManchester     CountryEngland   \n",
       "2  Australia   False   Match2        GroundLord'S     CountryEngland   \n",
       "3  Australia   False   Match3    GroundBirmingham     CountryEngland   \n",
       "4   Pakistan   False   Match4  GroundChristchurch  CountryNewZealand   \n",
       "\n",
       "     home_team_id   away_team_id  train  \n",
       "0   TeamAustralia    TeamEngland   True  \n",
       "1     TeamEngland  TeamAustralia   True  \n",
       "2     TeamEngland  TeamAustralia   True  \n",
       "3     TeamEngland  TeamAustralia   True  \n",
       "4  TeamNewZealand   TeamPakistan   True  "
      ]
     },
     "execution_count": 9,
     "metadata": {},
     "output_type": "execute_result"
    }
   ],
   "source": [
    "df.head()"
   ]
  },
  {
   "cell_type": "code",
   "execution_count": 10,
   "metadata": {},
   "outputs": [],
   "source": [
    "def helper(row):\n",
    "    if row['home_team'] == row['winner']:\n",
    "        val = \"home_team_wins\"\n",
    "    else:\n",
    "        val = \"home_team_loses\"\n",
    "    return val"
   ]
  },
  {
   "cell_type": "code",
   "execution_count": 11,
   "metadata": {},
   "outputs": [],
   "source": [
    "df['results'] = df.apply(helper, axis=1)"
   ]
  },
  {
   "cell_type": "code",
   "execution_count": 12,
   "metadata": {},
   "outputs": [
    {
     "data": {
      "text/plain": [
       "home_team_wins     0.556898\n",
       "home_team_loses    0.443102\n",
       "Name: results, dtype: float64"
      ]
     },
     "execution_count": 12,
     "metadata": {},
     "output_type": "execute_result"
    }
   ],
   "source": [
    "df.results.value_counts(normalize=True)"
   ]
  },
  {
   "cell_type": "code",
   "execution_count": 15,
   "metadata": {},
   "outputs": [
    {
     "data": {
      "text/plain": [
       "array(['TeamEngland', 'TeamAustralia', 'TeamPakistan', 'TeamNewZealand',\n",
       "       'TeamWestIndies', 'TeamIndia', 'TeamSriLanka', 'TeamEastAfrica',\n",
       "       'TeamCanada', 'TeamZimbabwe', 'TeamBangladesh', 'TeamSouthAfrica',\n",
       "       'TeamU.A.E.', 'TeamKenya', 'TeamNetherlands', 'TeamScotland',\n",
       "       'TeamNamibia', 'TeamHongKong', 'TeamU.S.A.', 'TeamIreland',\n",
       "       'TeamBermuda', 'TeamAfghanistan', 'TeamP.N.G.'], dtype=object)"
      ]
     },
     "execution_count": 15,
     "metadata": {},
     "output_type": "execute_result"
    }
   ],
   "source": [
    "df.away_team_id.unique()"
   ]
  },
  {
   "cell_type": "code",
   "execution_count": 13,
   "metadata": {},
   "outputs": [
    {
     "data": {
      "text/plain": [
       "TeamAustralia      964\n",
       "TeamIndia          855\n",
       "TeamNewZealand     712\n",
       "TeamPakistan       695\n",
       "TeamSriLanka       678\n",
       "TeamWestIndies     676\n",
       "TeamEngland        656\n",
       "TeamSouthAfrica    586\n",
       "TeamZimbabwe       497\n",
       "TeamBangladesh     373\n",
       "TeamKenya          161\n",
       "TeamIreland        123\n",
       "TeamScotland        99\n",
       "TeamCanada          77\n",
       "TeamNetherlands     74\n",
       "TeamU.A.E.          46\n",
       "TeamAfghanistan     38\n",
       "TeamBermuda         20\n",
       "TeamHongKong        17\n",
       "TeamNamibia          7\n",
       "TeamP.N.G.           4\n",
       "TeamU.S.A.           3\n",
       "TeamEastAfrica       3\n",
       "Name: home_team_id, dtype: int64"
      ]
     },
     "execution_count": 13,
     "metadata": {},
     "output_type": "execute_result"
    }
   ],
   "source": [
    "df.home_team_id.value_counts()"
   ]
  },
  {
   "cell_type": "code",
   "execution_count": 18,
   "metadata": {},
   "outputs": [
    {
     "data": {
      "text/plain": [
       "23"
      ]
     },
     "execution_count": 18,
     "metadata": {},
     "output_type": "execute_result"
    }
   ],
   "source": [
    "len(df.home_team_id.unique())\n",
    "len(df.away_team_id.unique())"
   ]
  },
  {
   "cell_type": "code",
   "execution_count": 26,
   "metadata": {},
   "outputs": [
    {
     "data": {
      "text/plain": [
       "['TeamAustralia',\n",
       " 'TeamEngland',\n",
       " 'TeamNewZealand',\n",
       " 'TeamEastAfrica',\n",
       " 'TeamSriLanka',\n",
       " 'TeamPakistan',\n",
       " 'TeamIndia',\n",
       " 'TeamWestIndies',\n",
       " 'TeamCanada',\n",
       " 'TeamBangladesh',\n",
       " 'TeamSouthAfrica',\n",
       " 'TeamZimbabwe',\n",
       " 'TeamU.A.E.',\n",
       " 'TeamNetherlands',\n",
       " 'TeamKenya',\n",
       " 'TeamScotland',\n",
       " 'TeamNamibia',\n",
       " 'TeamHongKong',\n",
       " 'TeamBermuda',\n",
       " 'TeamIreland',\n",
       " 'TeamAfghanistan',\n",
       " 'TeamP.N.G.',\n",
       " 'TeamU.S.A.']"
      ]
     },
     "execution_count": 26,
     "metadata": {},
     "output_type": "execute_result"
    }
   ],
   "source": [
    "top20teams = df.home_team_id.unique().tolist()\n",
    "top20teams"
   ]
  },
  {
   "cell_type": "code",
   "execution_count": 29,
   "metadata": {},
   "outputs": [
    {
     "data": {
      "text/plain": [
       "list"
      ]
     },
     "execution_count": 29,
     "metadata": {},
     "output_type": "execute_result"
    }
   ],
   "source": [
    "type(df.home_team_id.unique().tolist())"
   ]
  },
  {
   "cell_type": "code",
   "execution_count": 30,
   "metadata": {},
   "outputs": [],
   "source": [
    "top20teams = [\"TeamAustralia\", \"TeamEngland\", \"TeamIndia\", \"TeamPakistan\",  \"TeamSouthAfrica\",\n",
    "              \"TeamNewZealand\", \"TeamSriLanka\", \"TeamBangladesh\", \"TeamWestIndies\", \"TeamAfghanistan\",\n",
    "              \"TeamZimbabwe\", \"TeamIreland\", \"TeamU.A.E.\", \"TeamScotland\", \"TeamNepal\", \n",
    "              \"TeamP.N.G.\", \"TeamNetherlands\", \"TeamOman\", \"TeamNamibia\", \"TeamSingapore\"]"
   ]
  },
  {
   "cell_type": "code",
   "execution_count": 31,
   "metadata": {},
   "outputs": [
    {
     "data": {
      "text/plain": [
       "list"
      ]
     },
     "execution_count": 31,
     "metadata": {},
     "output_type": "execute_result"
    }
   ],
   "source": [
    "type(top20teams)"
   ]
  },
  {
   "cell_type": "code",
   "execution_count": null,
   "metadata": {},
   "outputs": [],
   "source": []
  }
 ],
 "metadata": {
  "kernelspec": {
   "display_name": "Python 3",
   "language": "python",
   "name": "python3"
  },
  "language_info": {
   "codemirror_mode": {
    "name": "ipython",
    "version": 3
   },
   "file_extension": ".py",
   "mimetype": "text/x-python",
   "name": "python",
   "nbconvert_exporter": "python",
   "pygments_lexer": "ipython3",
   "version": "3.6.7"
  }
 },
 "nbformat": 4,
 "nbformat_minor": 2
}
