{
 "cells": [
  {
   "cell_type": "markdown",
   "metadata": {
    "colab_type": "text",
    "id": "ldXGeaOBk3FH"
   },
   "source": [
    "<h1><center> <font color='black'> Business Data Analytics - Practice Session_06 </font></center></h1>\n",
    "<h2><center> <font color='black'> Model Evaluation - Classification</font></center></h3>\n",
    "<h2><center> <font color='black'> University of Tartu - Spring 2020</font></center></h3>"
   ]
  },
  {
   "cell_type": "markdown",
   "metadata": {
    "colab_type": "text",
    "id": "PVQ1qpr7k3FW"
   },
   "source": [
    "* In today’s lab session we will explore data about processed by travel agency claims. Based on this data we will try to predict either the claim will be accepted or rejected. We will use various metrics to `(evaluate)` measure the performance of our classification model.\n",
    "\n",
    "\n",
    "* Outline:\n",
    "    * Data preprocessing and understanding\n",
    "    * Building a classification model using XGBoost classifier\n",
    "    * Imbalanced data set\n",
    "    * Evaluation metrics (accuracy, confusion matrix, precision, recall, AUC, and logLoss)\n",
    "    * K-Fold Cross Validation\n",
    "\n"
   ]
  },
  {
   "cell_type": "markdown",
   "metadata": {
    "colab_type": "text",
    "id": "SeYFhXjKk3Fg"
   },
   "source": [
    "#### Load the required packages."
   ]
  },
  {
   "cell_type": "code",
   "execution_count": 6,
   "metadata": {
    "colab": {},
    "colab_type": "code",
    "id": "SabwSdglk3Fo"
   },
   "outputs": [],
   "source": [
    "import numpy as np # linear algebra\n",
    "import pandas as pd # data processing, CSV file I/O (e.g. pd.read_csv)\n",
    "import seaborn as sns # For creating plots\n",
    "import matplotlib.ticker as mtick # For specifying the axes tick format \n",
    "import matplotlib.pyplot as plt\n",
    "%matplotlib inline\n",
    "\n",
    "\n",
    "#Let's make this notebook reproducible, you can use any number ex = 42\n",
    "np.random.seed(42)\n",
    "\n",
    "\n",
    "# set plot style for all plots\n",
    "plt.style.use('ggplot')\n",
    "%matplotlib inline\n",
    "\n",
    "\n",
    "# https://www.webucator.com/blog/2015/03/python-color-constants-module/"
   ]
  },
  {
   "cell_type": "markdown",
   "metadata": {
    "colab_type": "text",
    "id": "i0hS6RdIk3GK"
   },
   "source": [
    "# Data preprocessing and understanding"
   ]
  },
  {
   "cell_type": "markdown",
   "metadata": {
    "colab_type": "text",
    "id": "SgCoer7wk3GS"
   },
   "source": [
    "#### Loading the data\n",
    "\n",
    "* Our dataset contains details about the claim, which we will use to predict their status (approved or not)."
   ]
  },
  {
   "cell_type": "code",
   "execution_count": 7,
   "metadata": {
    "colab": {
     "base_uri": "https://localhost:8080/",
     "height": 380
    },
    "colab_type": "code",
    "executionInfo": {
     "elapsed": 4874,
     "status": "ok",
     "timestamp": 1584954989071,
     "user": {
      "displayName": "Mahmoud K. Shoush",
      "photoUrl": "https://lh3.googleusercontent.com/a-/AOh14Gg9UiBaJaGnafDynGv5Ght5Z18MwCGvDUW8ttd2=s64",
      "userId": "05621694697917066197"
     },
     "user_tz": -120
    },
    "id": "WJPloW_Hk3GY",
    "outputId": "33a4692d-7b66-4912-82ad-da64d7f3f957"
   },
   "outputs": [
    {
     "data": {
      "text/html": [
       "<div>\n",
       "<style scoped>\n",
       "    .dataframe tbody tr th:only-of-type {\n",
       "        vertical-align: middle;\n",
       "    }\n",
       "\n",
       "    .dataframe tbody tr th {\n",
       "        vertical-align: top;\n",
       "    }\n",
       "\n",
       "    .dataframe thead th {\n",
       "        text-align: right;\n",
       "    }\n",
       "</style>\n",
       "<table border=\"1\" class=\"dataframe\">\n",
       "  <thead>\n",
       "    <tr style=\"text-align: right;\">\n",
       "      <th></th>\n",
       "      <th>Agency</th>\n",
       "      <th>Agency.Type</th>\n",
       "      <th>Distribution.Channel</th>\n",
       "      <th>Product.Name</th>\n",
       "      <th>Claim</th>\n",
       "      <th>Duration</th>\n",
       "      <th>Destination</th>\n",
       "      <th>Net.Sales</th>\n",
       "      <th>Commision..in.value.</th>\n",
       "      <th>Gender</th>\n",
       "      <th>Age</th>\n",
       "    </tr>\n",
       "  </thead>\n",
       "  <tbody>\n",
       "    <tr>\n",
       "      <th>0</th>\n",
       "      <td>CBH</td>\n",
       "      <td>Travel Agency</td>\n",
       "      <td>Offline</td>\n",
       "      <td>Comprehensive Plan</td>\n",
       "      <td>No</td>\n",
       "      <td>186</td>\n",
       "      <td>MALAYSIA</td>\n",
       "      <td>-29.0</td>\n",
       "      <td>9.57</td>\n",
       "      <td>F</td>\n",
       "      <td>71</td>\n",
       "    </tr>\n",
       "    <tr>\n",
       "      <th>1</th>\n",
       "      <td>CWT</td>\n",
       "      <td>Travel Agency</td>\n",
       "      <td>Online</td>\n",
       "      <td>Rental Vehicle Excess Insurance</td>\n",
       "      <td>No</td>\n",
       "      <td>-1</td>\n",
       "      <td>AUSTRALIA</td>\n",
       "      <td>-49.5</td>\n",
       "      <td>29.70</td>\n",
       "      <td>NaN</td>\n",
       "      <td>32</td>\n",
       "    </tr>\n",
       "    <tr>\n",
       "      <th>2</th>\n",
       "      <td>CWT</td>\n",
       "      <td>Travel Agency</td>\n",
       "      <td>Online</td>\n",
       "      <td>Rental Vehicle Excess Insurance</td>\n",
       "      <td>No</td>\n",
       "      <td>60</td>\n",
       "      <td>AUSTRALIA</td>\n",
       "      <td>-39.6</td>\n",
       "      <td>23.76</td>\n",
       "      <td>NaN</td>\n",
       "      <td>32</td>\n",
       "    </tr>\n",
       "    <tr>\n",
       "      <th>3</th>\n",
       "      <td>CWT</td>\n",
       "      <td>Travel Agency</td>\n",
       "      <td>Online</td>\n",
       "      <td>Rental Vehicle Excess Insurance</td>\n",
       "      <td>No</td>\n",
       "      <td>47</td>\n",
       "      <td>UNITED STATES</td>\n",
       "      <td>-39.6</td>\n",
       "      <td>23.76</td>\n",
       "      <td>NaN</td>\n",
       "      <td>32</td>\n",
       "    </tr>\n",
       "    <tr>\n",
       "      <th>4</th>\n",
       "      <td>JZI</td>\n",
       "      <td>Airlines</td>\n",
       "      <td>Online</td>\n",
       "      <td>Basic Plan</td>\n",
       "      <td>No</td>\n",
       "      <td>33</td>\n",
       "      <td>KOREA, DEMOCRATIC PEOPLE'S REPUBLIC OF</td>\n",
       "      <td>-26.0</td>\n",
       "      <td>9.10</td>\n",
       "      <td>NaN</td>\n",
       "      <td>118</td>\n",
       "    </tr>\n",
       "  </tbody>\n",
       "</table>\n",
       "</div>"
      ],
      "text/plain": [
       "  Agency    Agency.Type Distribution.Channel                     Product.Name  \\\n",
       "0    CBH  Travel Agency              Offline               Comprehensive Plan   \n",
       "1    CWT  Travel Agency               Online  Rental Vehicle Excess Insurance   \n",
       "2    CWT  Travel Agency               Online  Rental Vehicle Excess Insurance   \n",
       "3    CWT  Travel Agency               Online  Rental Vehicle Excess Insurance   \n",
       "4    JZI       Airlines               Online                       Basic Plan   \n",
       "\n",
       "  Claim  Duration                             Destination  Net.Sales  \\\n",
       "0    No       186                                MALAYSIA      -29.0   \n",
       "1    No        -1                               AUSTRALIA      -49.5   \n",
       "2    No        60                               AUSTRALIA      -39.6   \n",
       "3    No        47                           UNITED STATES      -39.6   \n",
       "4    No        33  KOREA, DEMOCRATIC PEOPLE'S REPUBLIC OF      -26.0   \n",
       "\n",
       "   Commision..in.value. Gender  Age  \n",
       "0                  9.57      F   71  \n",
       "1                 29.70    NaN   32  \n",
       "2                 23.76    NaN   32  \n",
       "3                 23.76    NaN   32  \n",
       "4                  9.10    NaN  118  "
      ]
     },
     "execution_count": 7,
     "metadata": {},
     "output_type": "execute_result"
    }
   ],
   "source": [
    "# read travel insurence df\n",
    "travel = pd.read_csv('travel_insurance.csv')\n",
    "travel.head()"
   ]
  },
  {
   "cell_type": "markdown",
   "metadata": {
    "colab_type": "text",
    "id": "M0ZSgLSek3Gt"
   },
   "source": [
    "* **Target:** Claim Status `(Claim)`\n",
    "* Name of agency `(Agency)`\n",
    "* Type of travel insurance agencies `(Agency.Type)`\n",
    "* Distribution channel of travel insurance agencies `(Distribution.Channel)`\n",
    "* Name of the travel insurance products `(Product.Name)`\n",
    "* Duration of travel `(Duration)`\n",
    "* Destination of travel `(Destination)`\n",
    "* Amount of sales of travel insurance policies `(Net.Sales)`\n",
    "* Commission received for travel insurance agency `(Commission)`\n",
    "* Gender of insured `(Gender)`\n",
    "* Age of insured `(Age)`\n"
   ]
  },
  {
   "cell_type": "code",
   "execution_count": 8,
   "metadata": {
    "colab": {
     "base_uri": "https://localhost:8080/",
     "height": 295
    },
    "colab_type": "code",
    "executionInfo": {
     "elapsed": 4840,
     "status": "ok",
     "timestamp": 1584954989074,
     "user": {
      "displayName": "Mahmoud K. Shoush",
      "photoUrl": "https://lh3.googleusercontent.com/a-/AOh14Gg9UiBaJaGnafDynGv5Ght5Z18MwCGvDUW8ttd2=s64",
      "userId": "05621694697917066197"
     },
     "user_tz": -120
    },
    "id": "iP0_jMHPk3Gy",
    "outputId": "9f710a93-fbd7-4c2d-9b76-b36da8ff5964"
   },
   "outputs": [
    {
     "name": "stdout",
     "output_type": "stream",
     "text": [
      "<class 'pandas.core.frame.DataFrame'>\n",
      "RangeIndex: 19659 entries, 0 to 19658\n",
      "Data columns (total 11 columns):\n",
      " #   Column                Non-Null Count  Dtype  \n",
      "---  ------                --------------  -----  \n",
      " 0   Agency                19659 non-null  object \n",
      " 1   Agency.Type           19659 non-null  object \n",
      " 2   Distribution.Channel  19659 non-null  object \n",
      " 3   Product.Name          19659 non-null  object \n",
      " 4   Claim                 19659 non-null  object \n",
      " 5   Duration              19659 non-null  int64  \n",
      " 6   Destination           19659 non-null  object \n",
      " 7   Net.Sales             19659 non-null  float64\n",
      " 8   Commision..in.value.  19659 non-null  float64\n",
      " 9   Gender                5958 non-null   object \n",
      " 10  Age                   19659 non-null  int64  \n",
      "dtypes: float64(2), int64(2), object(7)\n",
      "memory usage: 1.6+ MB\n"
     ]
    }
   ],
   "source": [
    "travel.info()"
   ]
  },
  {
   "cell_type": "markdown",
   "metadata": {
    "colab_type": "text",
    "id": "GgNYpDsTk3HE"
   },
   "source": [
    "* Looking at the above output we can see that `gender` has many missing values, let's deep into this column."
   ]
  },
  {
   "cell_type": "code",
   "execution_count": 9,
   "metadata": {
    "colab": {
     "base_uri": "https://localhost:8080/",
     "height": 121
    },
    "colab_type": "code",
    "executionInfo": {
     "elapsed": 4807,
     "status": "ok",
     "timestamp": 1584954989076,
     "user": {
      "displayName": "Mahmoud K. Shoush",
      "photoUrl": "https://lh3.googleusercontent.com/a-/AOh14Gg9UiBaJaGnafDynGv5Ght5Z18MwCGvDUW8ttd2=s64",
      "userId": "05621694697917066197"
     },
     "user_tz": -120
    },
    "id": "Xpx4c_xpk3HL",
    "outputId": "b328d00c-a7d3-4d9b-f9d2-28026208931b"
   },
   "outputs": [
    {
     "name": "stdout",
     "output_type": "stream",
     "text": [
      "Gender column (Male, or Female):\n",
      "M    3038\n",
      "F    2920\n",
      "Name: Gender, dtype: int64\n",
      "\n",
      "Gender column missing values: \"13701\"\n"
     ]
    }
   ],
   "source": [
    "# count values for gender column\n",
    "print(f\"Gender column (Male, or Female):\\n{travel['Gender'].value_counts()}\\n\")\n",
    "\n",
    "# count the missing values for gender column:\n",
    "print(f\"Gender column missing values: \\\"{travel['Gender'].isnull().sum()}\\\"\")"
   ]
  },
  {
   "cell_type": "code",
   "execution_count": 41,
   "metadata": {
    "colab": {
     "base_uri": "https://localhost:8080/",
     "height": 337
    },
    "colab_type": "code",
    "executionInfo": {
     "elapsed": 4785,
     "status": "ok",
     "timestamp": 1584954989077,
     "user": {
      "displayName": "Mahmoud K. Shoush",
      "photoUrl": "https://lh3.googleusercontent.com/a-/AOh14Gg9UiBaJaGnafDynGv5Ght5Z18MwCGvDUW8ttd2=s64",
      "userId": "05621694697917066197"
     },
     "user_tz": -120
    },
    "id": "OC-8rWLtk3Hd",
    "outputId": "28b6d79e-2000-462a-a01f-c28b6b1f208d"
   },
   "outputs": [
    {
     "ename": "KeyError",
     "evalue": "'Gender'",
     "output_type": "error",
     "traceback": [
      "\u001b[0;31m---------------------------------------------------------------------------\u001b[0m",
      "\u001b[0;31mKeyError\u001b[0m                                  Traceback (most recent call last)",
      "\u001b[0;32m/Library/Frameworks/Python.framework/Versions/3.6/lib/python3.6/site-packages/pandas/core/indexes/base.py\u001b[0m in \u001b[0;36mget_loc\u001b[0;34m(self, key, method, tolerance)\u001b[0m\n\u001b[1;32m   2645\u001b[0m             \u001b[0;32mtry\u001b[0m\u001b[0;34m:\u001b[0m\u001b[0;34m\u001b[0m\u001b[0;34m\u001b[0m\u001b[0m\n\u001b[0;32m-> 2646\u001b[0;31m                 \u001b[0;32mreturn\u001b[0m \u001b[0mself\u001b[0m\u001b[0;34m.\u001b[0m\u001b[0m_engine\u001b[0m\u001b[0;34m.\u001b[0m\u001b[0mget_loc\u001b[0m\u001b[0;34m(\u001b[0m\u001b[0mkey\u001b[0m\u001b[0;34m)\u001b[0m\u001b[0;34m\u001b[0m\u001b[0;34m\u001b[0m\u001b[0m\n\u001b[0m\u001b[1;32m   2647\u001b[0m             \u001b[0;32mexcept\u001b[0m \u001b[0mKeyError\u001b[0m\u001b[0;34m:\u001b[0m\u001b[0;34m\u001b[0m\u001b[0;34m\u001b[0m\u001b[0m\n",
      "\u001b[0;32mpandas/_libs/index.pyx\u001b[0m in \u001b[0;36mpandas._libs.index.IndexEngine.get_loc\u001b[0;34m()\u001b[0m\n",
      "\u001b[0;32mpandas/_libs/index.pyx\u001b[0m in \u001b[0;36mpandas._libs.index.IndexEngine.get_loc\u001b[0;34m()\u001b[0m\n",
      "\u001b[0;32mpandas/_libs/hashtable_class_helper.pxi\u001b[0m in \u001b[0;36mpandas._libs.hashtable.PyObjectHashTable.get_item\u001b[0;34m()\u001b[0m\n",
      "\u001b[0;32mpandas/_libs/hashtable_class_helper.pxi\u001b[0m in \u001b[0;36mpandas._libs.hashtable.PyObjectHashTable.get_item\u001b[0;34m()\u001b[0m\n",
      "\u001b[0;31mKeyError\u001b[0m: 'Gender'",
      "\nDuring handling of the above exception, another exception occurred:\n",
      "\u001b[0;31mKeyError\u001b[0m                                  Traceback (most recent call last)",
      "\u001b[0;32m<ipython-input-41-8190925c2241>\u001b[0m in \u001b[0;36m<module>\u001b[0;34m\u001b[0m\n\u001b[1;32m      1\u001b[0m \u001b[0mcolors\u001b[0m \u001b[0;34m=\u001b[0m \u001b[0;34m[\u001b[0m \u001b[0;34m'#66CDAA'\u001b[0m\u001b[0;34m,\u001b[0m\u001b[0;34m'#66CD00'\u001b[0m\u001b[0;34m,\u001b[0m  \u001b[0;34m'#6495ED'\u001b[0m\u001b[0;34m]\u001b[0m\u001b[0;34m\u001b[0m\u001b[0;34m\u001b[0m\u001b[0m\n\u001b[1;32m      2\u001b[0m \u001b[0;34m\u001b[0m\u001b[0m\n\u001b[0;32m----> 3\u001b[0;31m \u001b[0max\u001b[0m \u001b[0;34m=\u001b[0m \u001b[0mtravel\u001b[0m\u001b[0;34m[\u001b[0m\u001b[0;34m'Gender'\u001b[0m\u001b[0;34m]\u001b[0m\u001b[0;34m.\u001b[0m\u001b[0mvalue_counts\u001b[0m\u001b[0;34m(\u001b[0m\u001b[0;34m)\u001b[0m\u001b[0;34m.\u001b[0m\u001b[0mplot\u001b[0m\u001b[0;34m(\u001b[0m\u001b[0mkind\u001b[0m \u001b[0;34m=\u001b[0m \u001b[0;34m'bar'\u001b[0m\u001b[0;34m,\u001b[0m\u001b[0mrot\u001b[0m \u001b[0;34m=\u001b[0m \u001b[0;36m0\u001b[0m\u001b[0;34m,\u001b[0m \u001b[0mwidth\u001b[0m \u001b[0;34m=\u001b[0m \u001b[0;36m0.3\u001b[0m\u001b[0;34m,\u001b[0m \u001b[0mcolors\u001b[0m\u001b[0;34m=\u001b[0m\u001b[0mcolors\u001b[0m\u001b[0;34m)\u001b[0m\u001b[0;34m\u001b[0m\u001b[0;34m\u001b[0m\u001b[0m\n\u001b[0m\u001b[1;32m      4\u001b[0m \u001b[0max\u001b[0m\u001b[0;34m.\u001b[0m\u001b[0mset_ylabel\u001b[0m\u001b[0;34m(\u001b[0m\u001b[0;34m'# of type'\u001b[0m\u001b[0;34m)\u001b[0m\u001b[0;34m\u001b[0m\u001b[0;34m\u001b[0m\u001b[0m\n\u001b[1;32m      5\u001b[0m \u001b[0max\u001b[0m\u001b[0;34m.\u001b[0m\u001b[0mset_title\u001b[0m\u001b[0;34m(\u001b[0m\u001b[0;34m'# of Male/Female'\u001b[0m\u001b[0;34m)\u001b[0m\u001b[0;34m\u001b[0m\u001b[0;34m\u001b[0m\u001b[0m\n",
      "\u001b[0;32m/Library/Frameworks/Python.framework/Versions/3.6/lib/python3.6/site-packages/pandas/core/frame.py\u001b[0m in \u001b[0;36m__getitem__\u001b[0;34m(self, key)\u001b[0m\n\u001b[1;32m   2798\u001b[0m             \u001b[0;32mif\u001b[0m \u001b[0mself\u001b[0m\u001b[0;34m.\u001b[0m\u001b[0mcolumns\u001b[0m\u001b[0;34m.\u001b[0m\u001b[0mnlevels\u001b[0m \u001b[0;34m>\u001b[0m \u001b[0;36m1\u001b[0m\u001b[0;34m:\u001b[0m\u001b[0;34m\u001b[0m\u001b[0;34m\u001b[0m\u001b[0m\n\u001b[1;32m   2799\u001b[0m                 \u001b[0;32mreturn\u001b[0m \u001b[0mself\u001b[0m\u001b[0;34m.\u001b[0m\u001b[0m_getitem_multilevel\u001b[0m\u001b[0;34m(\u001b[0m\u001b[0mkey\u001b[0m\u001b[0;34m)\u001b[0m\u001b[0;34m\u001b[0m\u001b[0;34m\u001b[0m\u001b[0m\n\u001b[0;32m-> 2800\u001b[0;31m             \u001b[0mindexer\u001b[0m \u001b[0;34m=\u001b[0m \u001b[0mself\u001b[0m\u001b[0;34m.\u001b[0m\u001b[0mcolumns\u001b[0m\u001b[0;34m.\u001b[0m\u001b[0mget_loc\u001b[0m\u001b[0;34m(\u001b[0m\u001b[0mkey\u001b[0m\u001b[0;34m)\u001b[0m\u001b[0;34m\u001b[0m\u001b[0;34m\u001b[0m\u001b[0m\n\u001b[0m\u001b[1;32m   2801\u001b[0m             \u001b[0;32mif\u001b[0m \u001b[0mis_integer\u001b[0m\u001b[0;34m(\u001b[0m\u001b[0mindexer\u001b[0m\u001b[0;34m)\u001b[0m\u001b[0;34m:\u001b[0m\u001b[0;34m\u001b[0m\u001b[0;34m\u001b[0m\u001b[0m\n\u001b[1;32m   2802\u001b[0m                 \u001b[0mindexer\u001b[0m \u001b[0;34m=\u001b[0m \u001b[0;34m[\u001b[0m\u001b[0mindexer\u001b[0m\u001b[0;34m]\u001b[0m\u001b[0;34m\u001b[0m\u001b[0;34m\u001b[0m\u001b[0m\n",
      "\u001b[0;32m/Library/Frameworks/Python.framework/Versions/3.6/lib/python3.6/site-packages/pandas/core/indexes/base.py\u001b[0m in \u001b[0;36mget_loc\u001b[0;34m(self, key, method, tolerance)\u001b[0m\n\u001b[1;32m   2646\u001b[0m                 \u001b[0;32mreturn\u001b[0m \u001b[0mself\u001b[0m\u001b[0;34m.\u001b[0m\u001b[0m_engine\u001b[0m\u001b[0;34m.\u001b[0m\u001b[0mget_loc\u001b[0m\u001b[0;34m(\u001b[0m\u001b[0mkey\u001b[0m\u001b[0;34m)\u001b[0m\u001b[0;34m\u001b[0m\u001b[0;34m\u001b[0m\u001b[0m\n\u001b[1;32m   2647\u001b[0m             \u001b[0;32mexcept\u001b[0m \u001b[0mKeyError\u001b[0m\u001b[0;34m:\u001b[0m\u001b[0;34m\u001b[0m\u001b[0;34m\u001b[0m\u001b[0m\n\u001b[0;32m-> 2648\u001b[0;31m                 \u001b[0;32mreturn\u001b[0m \u001b[0mself\u001b[0m\u001b[0;34m.\u001b[0m\u001b[0m_engine\u001b[0m\u001b[0;34m.\u001b[0m\u001b[0mget_loc\u001b[0m\u001b[0;34m(\u001b[0m\u001b[0mself\u001b[0m\u001b[0;34m.\u001b[0m\u001b[0m_maybe_cast_indexer\u001b[0m\u001b[0;34m(\u001b[0m\u001b[0mkey\u001b[0m\u001b[0;34m)\u001b[0m\u001b[0;34m)\u001b[0m\u001b[0;34m\u001b[0m\u001b[0;34m\u001b[0m\u001b[0m\n\u001b[0m\u001b[1;32m   2649\u001b[0m         \u001b[0mindexer\u001b[0m \u001b[0;34m=\u001b[0m \u001b[0mself\u001b[0m\u001b[0;34m.\u001b[0m\u001b[0mget_indexer\u001b[0m\u001b[0;34m(\u001b[0m\u001b[0;34m[\u001b[0m\u001b[0mkey\u001b[0m\u001b[0;34m]\u001b[0m\u001b[0;34m,\u001b[0m \u001b[0mmethod\u001b[0m\u001b[0;34m=\u001b[0m\u001b[0mmethod\u001b[0m\u001b[0;34m,\u001b[0m \u001b[0mtolerance\u001b[0m\u001b[0;34m=\u001b[0m\u001b[0mtolerance\u001b[0m\u001b[0;34m)\u001b[0m\u001b[0;34m\u001b[0m\u001b[0;34m\u001b[0m\u001b[0m\n\u001b[1;32m   2650\u001b[0m         \u001b[0;32mif\u001b[0m \u001b[0mindexer\u001b[0m\u001b[0;34m.\u001b[0m\u001b[0mndim\u001b[0m \u001b[0;34m>\u001b[0m \u001b[0;36m1\u001b[0m \u001b[0;32mor\u001b[0m \u001b[0mindexer\u001b[0m\u001b[0;34m.\u001b[0m\u001b[0msize\u001b[0m \u001b[0;34m>\u001b[0m \u001b[0;36m1\u001b[0m\u001b[0;34m:\u001b[0m\u001b[0;34m\u001b[0m\u001b[0;34m\u001b[0m\u001b[0m\n",
      "\u001b[0;32mpandas/_libs/index.pyx\u001b[0m in \u001b[0;36mpandas._libs.index.IndexEngine.get_loc\u001b[0;34m()\u001b[0m\n",
      "\u001b[0;32mpandas/_libs/index.pyx\u001b[0m in \u001b[0;36mpandas._libs.index.IndexEngine.get_loc\u001b[0;34m()\u001b[0m\n",
      "\u001b[0;32mpandas/_libs/hashtable_class_helper.pxi\u001b[0m in \u001b[0;36mpandas._libs.hashtable.PyObjectHashTable.get_item\u001b[0;34m()\u001b[0m\n",
      "\u001b[0;32mpandas/_libs/hashtable_class_helper.pxi\u001b[0m in \u001b[0;36mpandas._libs.hashtable.PyObjectHashTable.get_item\u001b[0;34m()\u001b[0m\n",
      "\u001b[0;31mKeyError\u001b[0m: 'Gender'"
     ]
    }
   ],
   "source": [
    "colors = [ '#66CDAA','#66CD00',  '#6495ED']\n",
    "\n",
    "ax = travel['Gender'].value_counts().plot(kind = 'bar',rot = 0, width = 0.3, colors=colors)\n",
    "ax.set_ylabel('# of type')\n",
    "ax.set_title('# of Male/Female')\n",
    "\n",
    "# create a list to collect the plt.patches data\n",
    "# Code to add the data labels on the stacked bar chart\n",
    "for p in ax.patches:\n",
    "    width, height = p.get_width(), p.get_height()\n",
    "    x, y = p.get_xy() \n",
    "    ax.annotate('{:.0f}'.format((height)), (p.get_x()+.12*width, p.get_y()+.8*height),\n",
    "                color = 'white',\n",
    "               weight = 'bold',\n",
    "               size = 14)"
   ]
  },
  {
   "cell_type": "code",
   "execution_count": 11,
   "metadata": {
    "colab": {
     "base_uri": "https://localhost:8080/",
     "height": 34
    },
    "colab_type": "code",
    "executionInfo": {
     "elapsed": 4757,
     "status": "ok",
     "timestamp": 1584954989078,
     "user": {
      "displayName": "Mahmoud K. Shoush",
      "photoUrl": "https://lh3.googleusercontent.com/a-/AOh14Gg9UiBaJaGnafDynGv5Ght5Z18MwCGvDUW8ttd2=s64",
      "userId": "05621694697917066197"
     },
     "user_tz": -120
    },
    "id": "D6XhleY7k3Hr",
    "outputId": "e2325cbf-db1a-47e5-fa36-67a1617a475c"
   },
   "outputs": [
    {
     "name": "stdout",
     "output_type": "stream",
     "text": [
      "Gender column missing values percent: 69.69%\n"
     ]
    }
   ],
   "source": [
    "# get the percent of missing values\n",
    "print(f\"Gender column missing values percent: {travel['Gender'].isna().mean().round(4) * 100}%\")\n"
   ]
  },
  {
   "cell_type": "markdown",
   "metadata": {
    "colab_type": "text",
    "id": "ESDUPT4Fk3H7"
   },
   "source": [
    "* As you can see, we have ~30% of the data where gender is defined. This give us 2 possible ways of dealing with the problem:\n",
    "\n",
    "    1 - Remove all rows where Gender is NA (Leaves us ~30% of the current data);\n",
    "    \n",
    "    2 - Comeplitely exclude the feature from our model.\n",
    "    \n",
    "\n",
    "* In this case, we will pick the 2nd option."
   ]
  },
  {
   "cell_type": "code",
   "execution_count": 12,
   "metadata": {
    "colab": {},
    "colab_type": "code",
    "id": "WUC-4k5qk3H-"
   },
   "outputs": [],
   "source": [
    "del travel['Gender']"
   ]
  },
  {
   "cell_type": "code",
   "execution_count": 13,
   "metadata": {
    "colab": {
     "base_uri": "https://localhost:8080/",
     "height": 327
    },
    "colab_type": "code",
    "executionInfo": {
     "elapsed": 4720,
     "status": "ok",
     "timestamp": 1584954989081,
     "user": {
      "displayName": "Mahmoud K. Shoush",
      "photoUrl": "https://lh3.googleusercontent.com/a-/AOh14Gg9UiBaJaGnafDynGv5Ght5Z18MwCGvDUW8ttd2=s64",
      "userId": "05621694697917066197"
     },
     "user_tz": -120
    },
    "id": "MROEiTpCk3IL",
    "outputId": "58a59c01-853b-4d40-a97e-16f6cda89c71"
   },
   "outputs": [
    {
     "data": {
      "text/html": [
       "<div>\n",
       "<style scoped>\n",
       "    .dataframe tbody tr th:only-of-type {\n",
       "        vertical-align: middle;\n",
       "    }\n",
       "\n",
       "    .dataframe tbody tr th {\n",
       "        vertical-align: top;\n",
       "    }\n",
       "\n",
       "    .dataframe thead th {\n",
       "        text-align: right;\n",
       "    }\n",
       "</style>\n",
       "<table border=\"1\" class=\"dataframe\">\n",
       "  <thead>\n",
       "    <tr style=\"text-align: right;\">\n",
       "      <th></th>\n",
       "      <th>Agency</th>\n",
       "      <th>Agency.Type</th>\n",
       "      <th>Distribution.Channel</th>\n",
       "      <th>Product.Name</th>\n",
       "      <th>Claim</th>\n",
       "      <th>Duration</th>\n",
       "      <th>Destination</th>\n",
       "      <th>Net.Sales</th>\n",
       "      <th>Commision..in.value.</th>\n",
       "      <th>Age</th>\n",
       "    </tr>\n",
       "  </thead>\n",
       "  <tbody>\n",
       "    <tr>\n",
       "      <th>0</th>\n",
       "      <td>CBH</td>\n",
       "      <td>Travel Agency</td>\n",
       "      <td>Offline</td>\n",
       "      <td>Comprehensive Plan</td>\n",
       "      <td>No</td>\n",
       "      <td>186</td>\n",
       "      <td>MALAYSIA</td>\n",
       "      <td>-29.0</td>\n",
       "      <td>9.57</td>\n",
       "      <td>71</td>\n",
       "    </tr>\n",
       "    <tr>\n",
       "      <th>1</th>\n",
       "      <td>CWT</td>\n",
       "      <td>Travel Agency</td>\n",
       "      <td>Online</td>\n",
       "      <td>Rental Vehicle Excess Insurance</td>\n",
       "      <td>No</td>\n",
       "      <td>-1</td>\n",
       "      <td>AUSTRALIA</td>\n",
       "      <td>-49.5</td>\n",
       "      <td>29.70</td>\n",
       "      <td>32</td>\n",
       "    </tr>\n",
       "    <tr>\n",
       "      <th>2</th>\n",
       "      <td>CWT</td>\n",
       "      <td>Travel Agency</td>\n",
       "      <td>Online</td>\n",
       "      <td>Rental Vehicle Excess Insurance</td>\n",
       "      <td>No</td>\n",
       "      <td>60</td>\n",
       "      <td>AUSTRALIA</td>\n",
       "      <td>-39.6</td>\n",
       "      <td>23.76</td>\n",
       "      <td>32</td>\n",
       "    </tr>\n",
       "    <tr>\n",
       "      <th>3</th>\n",
       "      <td>CWT</td>\n",
       "      <td>Travel Agency</td>\n",
       "      <td>Online</td>\n",
       "      <td>Rental Vehicle Excess Insurance</td>\n",
       "      <td>No</td>\n",
       "      <td>47</td>\n",
       "      <td>UNITED STATES</td>\n",
       "      <td>-39.6</td>\n",
       "      <td>23.76</td>\n",
       "      <td>32</td>\n",
       "    </tr>\n",
       "    <tr>\n",
       "      <th>4</th>\n",
       "      <td>JZI</td>\n",
       "      <td>Airlines</td>\n",
       "      <td>Online</td>\n",
       "      <td>Basic Plan</td>\n",
       "      <td>No</td>\n",
       "      <td>33</td>\n",
       "      <td>KOREA, DEMOCRATIC PEOPLE'S REPUBLIC OF</td>\n",
       "      <td>-26.0</td>\n",
       "      <td>9.10</td>\n",
       "      <td>118</td>\n",
       "    </tr>\n",
       "  </tbody>\n",
       "</table>\n",
       "</div>"
      ],
      "text/plain": [
       "  Agency    Agency.Type Distribution.Channel                     Product.Name  \\\n",
       "0    CBH  Travel Agency              Offline               Comprehensive Plan   \n",
       "1    CWT  Travel Agency               Online  Rental Vehicle Excess Insurance   \n",
       "2    CWT  Travel Agency               Online  Rental Vehicle Excess Insurance   \n",
       "3    CWT  Travel Agency               Online  Rental Vehicle Excess Insurance   \n",
       "4    JZI       Airlines               Online                       Basic Plan   \n",
       "\n",
       "  Claim  Duration                             Destination  Net.Sales  \\\n",
       "0    No       186                                MALAYSIA      -29.0   \n",
       "1    No        -1                               AUSTRALIA      -49.5   \n",
       "2    No        60                               AUSTRALIA      -39.6   \n",
       "3    No        47                           UNITED STATES      -39.6   \n",
       "4    No        33  KOREA, DEMOCRATIC PEOPLE'S REPUBLIC OF      -26.0   \n",
       "\n",
       "   Commision..in.value.  Age  \n",
       "0                  9.57   71  \n",
       "1                 29.70   32  \n",
       "2                 23.76   32  \n",
       "3                 23.76   32  \n",
       "4                  9.10  118  "
      ]
     },
     "execution_count": 13,
     "metadata": {},
     "output_type": "execute_result"
    }
   ],
   "source": [
    "travel.head()"
   ]
  },
  {
   "cell_type": "code",
   "execution_count": 14,
   "metadata": {
    "colab": {
     "base_uri": "https://localhost:8080/",
     "height": 469
    },
    "colab_type": "code",
    "executionInfo": {
     "elapsed": 4698,
     "status": "ok",
     "timestamp": 1584954989083,
     "user": {
      "displayName": "Mahmoud K. Shoush",
      "photoUrl": "https://lh3.googleusercontent.com/a-/AOh14Gg9UiBaJaGnafDynGv5Ght5Z18MwCGvDUW8ttd2=s64",
      "userId": "05621694697917066197"
     },
     "user_tz": -120
    },
    "id": "QeULdsmfk3Ie",
    "outputId": "18951807-3c2a-463e-d730-0eee542887cd"
   },
   "outputs": [
    {
     "name": "stdout",
     "output_type": "stream",
     "text": [
      "<class 'pandas.core.frame.DataFrame'>\n",
      "RangeIndex: 19659 entries, 0 to 19658\n",
      "Data columns (total 10 columns):\n",
      " #   Column                Non-Null Count  Dtype  \n",
      "---  ------                --------------  -----  \n",
      " 0   Agency                19659 non-null  object \n",
      " 1   Agency.Type           19659 non-null  object \n",
      " 2   Distribution.Channel  19659 non-null  object \n",
      " 3   Product.Name          19659 non-null  object \n",
      " 4   Claim                 19659 non-null  object \n",
      " 5   Duration              19659 non-null  int64  \n",
      " 6   Destination           19659 non-null  object \n",
      " 7   Net.Sales             19659 non-null  float64\n",
      " 8   Commision..in.value.  19659 non-null  float64\n",
      " 9   Age                   19659 non-null  int64  \n",
      "dtypes: float64(2), int64(2), object(6)\n",
      "memory usage: 1.5+ MB\n"
     ]
    },
    {
     "data": {
      "text/plain": [
       "Agency                  0\n",
       "Agency.Type             0\n",
       "Distribution.Channel    0\n",
       "Product.Name            0\n",
       "Claim                   0\n",
       "Duration                0\n",
       "Destination             0\n",
       "Net.Sales               0\n",
       "Commision..in.value.    0\n",
       "Age                     0\n",
       "dtype: int64"
      ]
     },
     "execution_count": 14,
     "metadata": {},
     "output_type": "execute_result"
    }
   ],
   "source": [
    "travel.info()\n",
    "travel.isnull().sum()"
   ]
  },
  {
   "cell_type": "markdown",
   "metadata": {
    "colab_type": "text",
    "id": "poBMCh-8k3Iq"
   },
   "source": [
    "* descriptive analysis"
   ]
  },
  {
   "cell_type": "code",
   "execution_count": 15,
   "metadata": {
    "colab": {
     "base_uri": "https://localhost:8080/",
     "height": 300
    },
    "colab_type": "code",
    "executionInfo": {
     "elapsed": 4676,
     "status": "ok",
     "timestamp": 1584954989083,
     "user": {
      "displayName": "Mahmoud K. Shoush",
      "photoUrl": "https://lh3.googleusercontent.com/a-/AOh14Gg9UiBaJaGnafDynGv5Ght5Z18MwCGvDUW8ttd2=s64",
      "userId": "05621694697917066197"
     },
     "user_tz": -120
    },
    "id": "sAeJrNzpk3Iw",
    "outputId": "e89e3d6c-ac96-45cd-e8f4-e1e2323c112d"
   },
   "outputs": [
    {
     "data": {
      "text/html": [
       "<div>\n",
       "<style scoped>\n",
       "    .dataframe tbody tr th:only-of-type {\n",
       "        vertical-align: middle;\n",
       "    }\n",
       "\n",
       "    .dataframe tbody tr th {\n",
       "        vertical-align: top;\n",
       "    }\n",
       "\n",
       "    .dataframe thead th {\n",
       "        text-align: right;\n",
       "    }\n",
       "</style>\n",
       "<table border=\"1\" class=\"dataframe\">\n",
       "  <thead>\n",
       "    <tr style=\"text-align: right;\">\n",
       "      <th></th>\n",
       "      <th>Duration</th>\n",
       "      <th>Net.Sales</th>\n",
       "      <th>Commision..in.value.</th>\n",
       "      <th>Age</th>\n",
       "    </tr>\n",
       "  </thead>\n",
       "  <tbody>\n",
       "    <tr>\n",
       "      <th>count</th>\n",
       "      <td>19659.000000</td>\n",
       "      <td>19659.000000</td>\n",
       "      <td>19659.000000</td>\n",
       "      <td>19659.000000</td>\n",
       "    </tr>\n",
       "    <tr>\n",
       "      <th>mean</th>\n",
       "      <td>51.041406</td>\n",
       "      <td>42.618855</td>\n",
       "      <td>10.322429</td>\n",
       "      <td>39.868508</td>\n",
       "    </tr>\n",
       "    <tr>\n",
       "      <th>std</th>\n",
       "      <td>91.733459</td>\n",
       "      <td>52.443277</td>\n",
       "      <td>20.455509</td>\n",
       "      <td>13.883582</td>\n",
       "    </tr>\n",
       "    <tr>\n",
       "      <th>min</th>\n",
       "      <td>-1.000000</td>\n",
       "      <td>-291.750000</td>\n",
       "      <td>0.000000</td>\n",
       "      <td>0.000000</td>\n",
       "    </tr>\n",
       "    <tr>\n",
       "      <th>25%</th>\n",
       "      <td>10.000000</td>\n",
       "      <td>18.000000</td>\n",
       "      <td>0.000000</td>\n",
       "      <td>35.000000</td>\n",
       "    </tr>\n",
       "    <tr>\n",
       "      <th>50%</th>\n",
       "      <td>23.000000</td>\n",
       "      <td>27.000000</td>\n",
       "      <td>0.000000</td>\n",
       "      <td>36.000000</td>\n",
       "    </tr>\n",
       "    <tr>\n",
       "      <th>75%</th>\n",
       "      <td>54.000000</td>\n",
       "      <td>49.500000</td>\n",
       "      <td>11.880000</td>\n",
       "      <td>43.000000</td>\n",
       "    </tr>\n",
       "    <tr>\n",
       "      <th>max</th>\n",
       "      <td>4844.000000</td>\n",
       "      <td>682.000000</td>\n",
       "      <td>262.760000</td>\n",
       "      <td>118.000000</td>\n",
       "    </tr>\n",
       "  </tbody>\n",
       "</table>\n",
       "</div>"
      ],
      "text/plain": [
       "           Duration     Net.Sales  Commision..in.value.           Age\n",
       "count  19659.000000  19659.000000          19659.000000  19659.000000\n",
       "mean      51.041406     42.618855             10.322429     39.868508\n",
       "std       91.733459     52.443277             20.455509     13.883582\n",
       "min       -1.000000   -291.750000              0.000000      0.000000\n",
       "25%       10.000000     18.000000              0.000000     35.000000\n",
       "50%       23.000000     27.000000              0.000000     36.000000\n",
       "75%       54.000000     49.500000             11.880000     43.000000\n",
       "max     4844.000000    682.000000            262.760000    118.000000"
      ]
     },
     "execution_count": 15,
     "metadata": {},
     "output_type": "execute_result"
    }
   ],
   "source": [
    "travel.describe()"
   ]
  },
  {
   "cell_type": "markdown",
   "metadata": {
    "colab_type": "text",
    "id": "404SIIB7k3I-"
   },
   "source": [
    "* Looking at the above data we can see that `Duration` column has negative values and we should deal with this problem. \n",
    "\n",
    "* Looking at the above data we can see that `Net.Sales` column has negative values and we should deal with this problem.\n",
    "\n",
    "* Also `age` column has Max age of 118. A bit suspicios, since [current oldest living person is 114-year old](https://en.wikipedia.org/wiki/Oldest_people)"
   ]
  },
  {
   "cell_type": "code",
   "execution_count": 16,
   "metadata": {
    "colab": {
     "base_uri": "https://localhost:8080/",
     "height": 225
    },
    "colab_type": "code",
    "executionInfo": {
     "elapsed": 4648,
     "status": "ok",
     "timestamp": 1584954989084,
     "user": {
      "displayName": "Mahmoud K. Shoush",
      "photoUrl": "https://lh3.googleusercontent.com/a-/AOh14Gg9UiBaJaGnafDynGv5Ght5Z18MwCGvDUW8ttd2=s64",
      "userId": "05621694697917066197"
     },
     "user_tz": -120
    },
    "id": "2pJwHSRGk3JB",
    "outputId": "dce396aa-a7a5-418f-f021-3201c1234cca",
    "scrolled": true
   },
   "outputs": [
    {
     "data": {
      "text/plain": [
       "0        71\n",
       "1        32\n",
       "2        32\n",
       "3        32\n",
       "5        53\n",
       "         ..\n",
       "19654    48\n",
       "19655    44\n",
       "19656    25\n",
       "19657    51\n",
       "19658    57\n",
       "Name: Age, Length: 19367, dtype: int64"
      ]
     },
     "execution_count": 16,
     "metadata": {},
     "output_type": "execute_result"
    }
   ],
   "source": [
    "# Age: filter age \n",
    "travel = travel[travel.Age <=114]\n",
    "travel.Age"
   ]
  },
  {
   "cell_type": "code",
   "execution_count": 17,
   "metadata": {
    "colab": {
     "base_uri": "https://localhost:8080/",
     "height": 225
    },
    "colab_type": "code",
    "executionInfo": {
     "elapsed": 4619,
     "status": "ok",
     "timestamp": 1584954989086,
     "user": {
      "displayName": "Mahmoud K. Shoush",
      "photoUrl": "https://lh3.googleusercontent.com/a-/AOh14Gg9UiBaJaGnafDynGv5Ght5Z18MwCGvDUW8ttd2=s64",
      "userId": "05621694697917066197"
     },
     "user_tz": -120
    },
    "id": "knxLT9X1k3JQ",
    "outputId": "1ceafe48-b819-4838-eeab-436d8f7e0ace"
   },
   "outputs": [
    {
     "data": {
      "text/plain": [
       "0        186\n",
       "2         60\n",
       "3         47\n",
       "5          6\n",
       "6          3\n",
       "        ... \n",
       "19654     60\n",
       "19655     59\n",
       "19656     42\n",
       "19657     10\n",
       "19658      2\n",
       "Name: Duration, Length: 19358, dtype: int64"
      ]
     },
     "execution_count": 17,
     "metadata": {},
     "output_type": "execute_result"
    }
   ],
   "source": [
    "# Duration: filter negative values\n",
    "travel = travel[travel.Duration > 0]\n",
    "travel.Duration"
   ]
  },
  {
   "cell_type": "code",
   "execution_count": 18,
   "metadata": {
    "colab": {
     "base_uri": "https://localhost:8080/",
     "height": 225
    },
    "colab_type": "code",
    "executionInfo": {
     "elapsed": 4598,
     "status": "ok",
     "timestamp": 1584954989088,
     "user": {
      "displayName": "Mahmoud K. Shoush",
      "photoUrl": "https://lh3.googleusercontent.com/a-/AOh14Gg9UiBaJaGnafDynGv5Ght5Z18MwCGvDUW8ttd2=s64",
      "userId": "05621694697917066197"
     },
     "user_tz": -120
    },
    "id": "2ZvEekMPk3Jd",
    "outputId": "f0daac4c-8695-4455-bc9d-58bfc16efd19"
   },
   "outputs": [
    {
     "data": {
      "text/plain": [
       "7         94.00\n",
       "8        294.75\n",
       "9          9.90\n",
       "10         9.90\n",
       "11        69.30\n",
       "          ...  \n",
       "19654      2.64\n",
       "19655     22.00\n",
       "19656     22.00\n",
       "19657     35.00\n",
       "19658     18.00\n",
       "Name: Net.Sales, Length: 18581, dtype: float64"
      ]
     },
     "execution_count": 18,
     "metadata": {},
     "output_type": "execute_result"
    }
   ],
   "source": [
    "# Net.Sales: filter neg values\n",
    "travel = travel[travel['Net.Sales'] > 0]\n",
    "travel['Net.Sales']"
   ]
  },
  {
   "cell_type": "code",
   "execution_count": 19,
   "metadata": {
    "colab": {
     "base_uri": "https://localhost:8080/",
     "height": 258
    },
    "colab_type": "code",
    "executionInfo": {
     "elapsed": 4576,
     "status": "ok",
     "timestamp": 1584954989089,
     "user": {
      "displayName": "Mahmoud K. Shoush",
      "photoUrl": "https://lh3.googleusercontent.com/a-/AOh14Gg9UiBaJaGnafDynGv5Ght5Z18MwCGvDUW8ttd2=s64",
      "userId": "05621694697917066197"
     },
     "user_tz": -120
    },
    "id": "yiwyt2rSk3Jo",
    "outputId": "53a5430b-d6e8-4e4e-8f0c-566183b55504"
   },
   "outputs": [
    {
     "data": {
      "text/html": [
       "<div>\n",
       "<style scoped>\n",
       "    .dataframe tbody tr th:only-of-type {\n",
       "        vertical-align: middle;\n",
       "    }\n",
       "\n",
       "    .dataframe tbody tr th {\n",
       "        vertical-align: top;\n",
       "    }\n",
       "\n",
       "    .dataframe thead th {\n",
       "        text-align: right;\n",
       "    }\n",
       "</style>\n",
       "<table border=\"1\" class=\"dataframe\">\n",
       "  <thead>\n",
       "    <tr style=\"text-align: right;\">\n",
       "      <th></th>\n",
       "      <th>Agency</th>\n",
       "      <th>Agency.Type</th>\n",
       "      <th>Distribution.Channel</th>\n",
       "      <th>Product.Name</th>\n",
       "      <th>Claim</th>\n",
       "      <th>Duration</th>\n",
       "      <th>Destination</th>\n",
       "      <th>Net.Sales</th>\n",
       "      <th>Commision..in.value.</th>\n",
       "      <th>Age</th>\n",
       "    </tr>\n",
       "  </thead>\n",
       "  <tbody>\n",
       "    <tr>\n",
       "      <th>7</th>\n",
       "      <td>C2B</td>\n",
       "      <td>Airlines</td>\n",
       "      <td>Online</td>\n",
       "      <td>Bronze Plan</td>\n",
       "      <td>Yes</td>\n",
       "      <td>12</td>\n",
       "      <td>SINGAPORE</td>\n",
       "      <td>94.00</td>\n",
       "      <td>23.50</td>\n",
       "      <td>34</td>\n",
       "    </tr>\n",
       "    <tr>\n",
       "      <th>8</th>\n",
       "      <td>C2B</td>\n",
       "      <td>Airlines</td>\n",
       "      <td>Online</td>\n",
       "      <td>Silver Plan</td>\n",
       "      <td>No</td>\n",
       "      <td>190</td>\n",
       "      <td>SINGAPORE</td>\n",
       "      <td>294.75</td>\n",
       "      <td>73.69</td>\n",
       "      <td>26</td>\n",
       "    </tr>\n",
       "    <tr>\n",
       "      <th>9</th>\n",
       "      <td>CWT</td>\n",
       "      <td>Travel Agency</td>\n",
       "      <td>Online</td>\n",
       "      <td>Rental Vehicle Excess Insurance</td>\n",
       "      <td>No</td>\n",
       "      <td>29</td>\n",
       "      <td>UNITED STATES</td>\n",
       "      <td>9.90</td>\n",
       "      <td>5.94</td>\n",
       "      <td>33</td>\n",
       "    </tr>\n",
       "    <tr>\n",
       "      <th>10</th>\n",
       "      <td>CWT</td>\n",
       "      <td>Travel Agency</td>\n",
       "      <td>Online</td>\n",
       "      <td>Rental Vehicle Excess Insurance</td>\n",
       "      <td>No</td>\n",
       "      <td>28</td>\n",
       "      <td>UNITED STATES</td>\n",
       "      <td>9.90</td>\n",
       "      <td>5.94</td>\n",
       "      <td>33</td>\n",
       "    </tr>\n",
       "    <tr>\n",
       "      <th>11</th>\n",
       "      <td>CWT</td>\n",
       "      <td>Travel Agency</td>\n",
       "      <td>Online</td>\n",
       "      <td>Rental Vehicle Excess Insurance</td>\n",
       "      <td>No</td>\n",
       "      <td>153</td>\n",
       "      <td>JAPAN</td>\n",
       "      <td>69.30</td>\n",
       "      <td>41.58</td>\n",
       "      <td>35</td>\n",
       "    </tr>\n",
       "  </tbody>\n",
       "</table>\n",
       "</div>"
      ],
      "text/plain": [
       "   Agency    Agency.Type Distribution.Channel  \\\n",
       "7     C2B       Airlines               Online   \n",
       "8     C2B       Airlines               Online   \n",
       "9     CWT  Travel Agency               Online   \n",
       "10    CWT  Travel Agency               Online   \n",
       "11    CWT  Travel Agency               Online   \n",
       "\n",
       "                       Product.Name Claim  Duration    Destination  Net.Sales  \\\n",
       "7                       Bronze Plan   Yes        12      SINGAPORE      94.00   \n",
       "8                       Silver Plan    No       190      SINGAPORE     294.75   \n",
       "9   Rental Vehicle Excess Insurance    No        29  UNITED STATES       9.90   \n",
       "10  Rental Vehicle Excess Insurance    No        28  UNITED STATES       9.90   \n",
       "11  Rental Vehicle Excess Insurance    No       153          JAPAN      69.30   \n",
       "\n",
       "    Commision..in.value.  Age  \n",
       "7                  23.50   34  \n",
       "8                  73.69   26  \n",
       "9                   5.94   33  \n",
       "10                  5.94   33  \n",
       "11                 41.58   35  "
      ]
     },
     "execution_count": 19,
     "metadata": {},
     "output_type": "execute_result"
    }
   ],
   "source": [
    "travel.head()"
   ]
  },
  {
   "cell_type": "code",
   "execution_count": 20,
   "metadata": {
    "colab": {
     "base_uri": "https://localhost:8080/",
     "height": 278
    },
    "colab_type": "code",
    "executionInfo": {
     "elapsed": 4551,
     "status": "ok",
     "timestamp": 1584954989089,
     "user": {
      "displayName": "Mahmoud K. Shoush",
      "photoUrl": "https://lh3.googleusercontent.com/a-/AOh14Gg9UiBaJaGnafDynGv5Ght5Z18MwCGvDUW8ttd2=s64",
      "userId": "05621694697917066197"
     },
     "user_tz": -120
    },
    "id": "McoM1Rfak3J1",
    "outputId": "5459dfe5-820f-4a3b-8b4d-22ea8c711e3d"
   },
   "outputs": [
    {
     "name": "stdout",
     "output_type": "stream",
     "text": [
      "<class 'pandas.core.frame.DataFrame'>\n",
      "Int64Index: 18581 entries, 7 to 19658\n",
      "Data columns (total 10 columns):\n",
      " #   Column                Non-Null Count  Dtype  \n",
      "---  ------                --------------  -----  \n",
      " 0   Agency                18581 non-null  object \n",
      " 1   Agency.Type           18581 non-null  object \n",
      " 2   Distribution.Channel  18581 non-null  object \n",
      " 3   Product.Name          18581 non-null  object \n",
      " 4   Claim                 18581 non-null  object \n",
      " 5   Duration              18581 non-null  int64  \n",
      " 6   Destination           18581 non-null  object \n",
      " 7   Net.Sales             18581 non-null  float64\n",
      " 8   Commision..in.value.  18581 non-null  float64\n",
      " 9   Age                   18581 non-null  int64  \n",
      "dtypes: float64(2), int64(2), object(6)\n",
      "memory usage: 1.6+ MB\n"
     ]
    }
   ],
   "source": [
    "travel.info()"
   ]
  },
  {
   "cell_type": "code",
   "execution_count": 21,
   "metadata": {
    "colab": {
     "base_uri": "https://localhost:8080/",
     "height": 208
    },
    "colab_type": "code",
    "executionInfo": {
     "elapsed": 4525,
     "status": "ok",
     "timestamp": 1584954989091,
     "user": {
      "displayName": "Mahmoud K. Shoush",
      "photoUrl": "https://lh3.googleusercontent.com/a-/AOh14Gg9UiBaJaGnafDynGv5Ght5Z18MwCGvDUW8ttd2=s64",
      "userId": "05621694697917066197"
     },
     "user_tz": -120
    },
    "id": "pLTvbXqdk3J_",
    "outputId": "9402baa2-7988-409f-8e73-f1e0ee88549d"
   },
   "outputs": [
    {
     "data": {
      "text/plain": [
       "Agency                  0\n",
       "Agency.Type             0\n",
       "Distribution.Channel    0\n",
       "Product.Name            0\n",
       "Claim                   0\n",
       "Duration                0\n",
       "Destination             0\n",
       "Net.Sales               0\n",
       "Commision..in.value.    0\n",
       "Age                     0\n",
       "dtype: int64"
      ]
     },
     "execution_count": 21,
     "metadata": {},
     "output_type": "execute_result"
    }
   ],
   "source": [
    "travel.isnull().sum()"
   ]
  },
  {
   "cell_type": "markdown",
   "metadata": {
    "colab_type": "text",
    "id": "iLL1meXgk3KO"
   },
   "source": [
    "### More data exploration"
   ]
  },
  {
   "cell_type": "code",
   "execution_count": 22,
   "metadata": {
    "colab": {
     "base_uri": "https://localhost:8080/",
     "height": 69
    },
    "colab_type": "code",
    "executionInfo": {
     "elapsed": 4504,
     "status": "ok",
     "timestamp": 1584954989093,
     "user": {
      "displayName": "Mahmoud K. Shoush",
      "photoUrl": "https://lh3.googleusercontent.com/a-/AOh14Gg9UiBaJaGnafDynGv5Ght5Z18MwCGvDUW8ttd2=s64",
      "userId": "05621694697917066197"
     },
     "user_tz": -120
    },
    "id": "xn9zyvBpk3KT",
    "outputId": "97a1f540-cb0d-4fa1-899f-fe2778edeb7d"
   },
   "outputs": [
    {
     "data": {
      "text/plain": [
       "No     17667\n",
       "Yes      914\n",
       "Name: Claim, dtype: int64"
      ]
     },
     "execution_count": 22,
     "metadata": {},
     "output_type": "execute_result"
    }
   ],
   "source": [
    "## What about the number of claims approved, and/or what can we say about our target variable?\n",
    "travel['Claim'].value_counts()"
   ]
  },
  {
   "cell_type": "code",
   "execution_count": 23,
   "metadata": {
    "colab": {
     "base_uri": "https://localhost:8080/",
     "height": 409
    },
    "colab_type": "code",
    "executionInfo": {
     "elapsed": 4481,
     "status": "ok",
     "timestamp": 1584954989094,
     "user": {
      "displayName": "Mahmoud K. Shoush",
      "photoUrl": "https://lh3.googleusercontent.com/a-/AOh14Gg9UiBaJaGnafDynGv5Ght5Z18MwCGvDUW8ttd2=s64",
      "userId": "05621694697917066197"
     },
     "user_tz": -120
    },
    "id": "mnM4Hig9k3Ke",
    "outputId": "e027dc5a-c82c-4d28-d770-5659e83a8281"
   },
   "outputs": [
    {
     "data": {
      "image/png": "[encoded data removed]",
      "text/plain": [
       "<Figure size 576x432 with 1 Axes>"
      ]
     },
     "metadata": {
      "needs_background": "light"
     },
     "output_type": "display_data"
    }
   ],
   "source": [
    "colors = [ '#66CDAA',  '#6495ED']\n",
    "ax = (travel['Claim'].value_counts()*100.0 /len(travel)).plot(kind='bar',\n",
    "                                                                           stacked = True,\n",
    "                                                                          rot = 0,\n",
    "                                                                          color = colors,\n",
    "                                                                         figsize = (8,6))\n",
    "ax.yaxis.set_major_formatter(mtick.PercentFormatter())\n",
    "ax.set_ylabel('% Samples',size = 14)\n",
    "ax.set_xlabel('Claim',size = 14)\n",
    "ax.set_title('Claim Rate', size = 14)\n",
    "\n",
    "# create a list to collect the plt.patches data\n",
    "totals = []\n",
    "\n",
    "# find the values and append to list\n",
    "for i in ax.patches:\n",
    "    totals.append(i.get_width())\n",
    "\n",
    "# set individual bar lables using above list\n",
    "total = sum(totals)\n",
    "\n",
    "for i in ax.patches:\n",
    "    # get_width pulls left or right; get_y pushes up or down\n",
    "    ax.text(i.get_x()+.15, i.get_height()-4.0, \\\n",
    "            str(round((i.get_height()/total), 1))+'%',\n",
    "            fontsize=12,\n",
    "            color='white',\n",
    "           weight = 'bold',\n",
    "           size = 14)"
   ]
  },
  {
   "cell_type": "code",
   "execution_count": 24,
   "metadata": {
    "colab": {
     "base_uri": "https://localhost:8080/",
     "height": 258
    },
    "colab_type": "code",
    "executionInfo": {
     "elapsed": 4453,
     "status": "ok",
     "timestamp": 1584954989096,
     "user": {
      "displayName": "Mahmoud K. Shoush",
      "photoUrl": "https://lh3.googleusercontent.com/a-/AOh14Gg9UiBaJaGnafDynGv5Ght5Z18MwCGvDUW8ttd2=s64",
      "userId": "05621694697917066197"
     },
     "user_tz": -120
    },
    "id": "lCnRfPD8k3Kv",
    "outputId": "783a2d05-2c65-4a12-ab8e-5942177e444e"
   },
   "outputs": [
    {
     "data": {
      "text/html": [
       "<div>\n",
       "<style scoped>\n",
       "    .dataframe tbody tr th:only-of-type {\n",
       "        vertical-align: middle;\n",
       "    }\n",
       "\n",
       "    .dataframe tbody tr th {\n",
       "        vertical-align: top;\n",
       "    }\n",
       "\n",
       "    .dataframe thead th {\n",
       "        text-align: right;\n",
       "    }\n",
       "</style>\n",
       "<table border=\"1\" class=\"dataframe\">\n",
       "  <thead>\n",
       "    <tr style=\"text-align: right;\">\n",
       "      <th></th>\n",
       "      <th>Agency</th>\n",
       "      <th>Agency.Type</th>\n",
       "      <th>Distribution.Channel</th>\n",
       "      <th>Product.Name</th>\n",
       "      <th>Claim</th>\n",
       "      <th>Duration</th>\n",
       "      <th>Destination</th>\n",
       "      <th>Net.Sales</th>\n",
       "      <th>Commision..in.value.</th>\n",
       "      <th>Age</th>\n",
       "    </tr>\n",
       "  </thead>\n",
       "  <tbody>\n",
       "    <tr>\n",
       "      <th>7</th>\n",
       "      <td>C2B</td>\n",
       "      <td>Airlines</td>\n",
       "      <td>Online</td>\n",
       "      <td>Bronze Plan</td>\n",
       "      <td>Yes</td>\n",
       "      <td>12</td>\n",
       "      <td>SINGAPORE</td>\n",
       "      <td>94.00</td>\n",
       "      <td>23.50</td>\n",
       "      <td>34</td>\n",
       "    </tr>\n",
       "    <tr>\n",
       "      <th>8</th>\n",
       "      <td>C2B</td>\n",
       "      <td>Airlines</td>\n",
       "      <td>Online</td>\n",
       "      <td>Silver Plan</td>\n",
       "      <td>No</td>\n",
       "      <td>190</td>\n",
       "      <td>SINGAPORE</td>\n",
       "      <td>294.75</td>\n",
       "      <td>73.69</td>\n",
       "      <td>26</td>\n",
       "    </tr>\n",
       "    <tr>\n",
       "      <th>9</th>\n",
       "      <td>CWT</td>\n",
       "      <td>Travel Agency</td>\n",
       "      <td>Online</td>\n",
       "      <td>Rental Vehicle Excess Insurance</td>\n",
       "      <td>No</td>\n",
       "      <td>29</td>\n",
       "      <td>UNITED STATES</td>\n",
       "      <td>9.90</td>\n",
       "      <td>5.94</td>\n",
       "      <td>33</td>\n",
       "    </tr>\n",
       "    <tr>\n",
       "      <th>10</th>\n",
       "      <td>CWT</td>\n",
       "      <td>Travel Agency</td>\n",
       "      <td>Online</td>\n",
       "      <td>Rental Vehicle Excess Insurance</td>\n",
       "      <td>No</td>\n",
       "      <td>28</td>\n",
       "      <td>UNITED STATES</td>\n",
       "      <td>9.90</td>\n",
       "      <td>5.94</td>\n",
       "      <td>33</td>\n",
       "    </tr>\n",
       "    <tr>\n",
       "      <th>11</th>\n",
       "      <td>CWT</td>\n",
       "      <td>Travel Agency</td>\n",
       "      <td>Online</td>\n",
       "      <td>Rental Vehicle Excess Insurance</td>\n",
       "      <td>No</td>\n",
       "      <td>153</td>\n",
       "      <td>JAPAN</td>\n",
       "      <td>69.30</td>\n",
       "      <td>41.58</td>\n",
       "      <td>35</td>\n",
       "    </tr>\n",
       "  </tbody>\n",
       "</table>\n",
       "</div>"
      ],
      "text/plain": [
       "   Agency    Agency.Type Distribution.Channel  \\\n",
       "7     C2B       Airlines               Online   \n",
       "8     C2B       Airlines               Online   \n",
       "9     CWT  Travel Agency               Online   \n",
       "10    CWT  Travel Agency               Online   \n",
       "11    CWT  Travel Agency               Online   \n",
       "\n",
       "                       Product.Name Claim  Duration    Destination  Net.Sales  \\\n",
       "7                       Bronze Plan   Yes        12      SINGAPORE      94.00   \n",
       "8                       Silver Plan    No       190      SINGAPORE     294.75   \n",
       "9   Rental Vehicle Excess Insurance    No        29  UNITED STATES       9.90   \n",
       "10  Rental Vehicle Excess Insurance    No        28  UNITED STATES       9.90   \n",
       "11  Rental Vehicle Excess Insurance    No       153          JAPAN      69.30   \n",
       "\n",
       "    Commision..in.value.  Age  \n",
       "7                  23.50   34  \n",
       "8                  73.69   26  \n",
       "9                   5.94   33  \n",
       "10                  5.94   33  \n",
       "11                 41.58   35  "
      ]
     },
     "execution_count": 24,
     "metadata": {},
     "output_type": "execute_result"
    }
   ],
   "source": [
    "travel.head()"
   ]
  },
  {
   "cell_type": "code",
   "execution_count": 25,
   "metadata": {
    "colab": {
     "base_uri": "https://localhost:8080/",
     "height": 52
    },
    "colab_type": "code",
    "executionInfo": {
     "elapsed": 4424,
     "status": "ok",
     "timestamp": 1584954989098,
     "user": {
      "displayName": "Mahmoud K. Shoush",
      "photoUrl": "https://lh3.googleusercontent.com/a-/AOh14Gg9UiBaJaGnafDynGv5Ght5Z18MwCGvDUW8ttd2=s64",
      "userId": "05621694697917066197"
     },
     "user_tz": -120
    },
    "id": "qAFKc0tbk3K7",
    "outputId": "9c8c448a-c142-415e-bef4-e7a86a5a6de5"
   },
   "outputs": [
    {
     "name": "stdout",
     "output_type": "stream",
     "text": [
      "Class 0: 17667\n",
      "Class 1: 914\n"
     ]
    }
   ],
   "source": [
    "target_count = travel.Claim.value_counts()\n",
    "print('Class 0:', target_count[0])\n",
    "print('Class 1:', target_count[1])\n"
   ]
  },
  {
   "cell_type": "markdown",
   "metadata": {
    "colab_type": "text",
    "id": "SjEb5SaRk3LR"
   },
   "source": [
    "1. The metric trap\n",
    "\n",
    "    * One of the major issues that users fall into when dealing with unbalanced datasets relates to the metrics used to evaluate their model. Using simpler metrics like `accuracy_score` can be misleading. In a dataset with highly unbalanced classes, if the classifier always `predicts` the most common class without performing any analysis of the features, it will still have a high accuracy rate, obviously illusory.\n",
    "\n",
    "\n",
    "2. Let's do this experiment, using simple `cross-validation` and no feature engineering:\n"
   ]
  },
  {
   "cell_type": "markdown",
   "metadata": {
    "colab_type": "text",
    "id": "WTo1mej7k3LU"
   },
   "source": [
    "### prepare data for the model"
   ]
  },
  {
   "cell_type": "code",
   "execution_count": 26,
   "metadata": {
    "colab": {
     "base_uri": "https://localhost:8080/",
     "height": 258
    },
    "colab_type": "code",
    "executionInfo": {
     "elapsed": 4417,
     "status": "ok",
     "timestamp": 1584954989099,
     "user": {
      "displayName": "Mahmoud K. Shoush",
      "photoUrl": "https://lh3.googleusercontent.com/a-/AOh14Gg9UiBaJaGnafDynGv5Ght5Z18MwCGvDUW8ttd2=s64",
      "userId": "05621694697917066197"
     },
     "user_tz": -120
    },
    "id": "XJ7p_Tu7qLlt",
    "outputId": "cb409014-5061-44f7-a963-50c4c8d8eaa7"
   },
   "outputs": [
    {
     "data": {
      "text/html": [
       "<div>\n",
       "<style scoped>\n",
       "    .dataframe tbody tr th:only-of-type {\n",
       "        vertical-align: middle;\n",
       "    }\n",
       "\n",
       "    .dataframe tbody tr th {\n",
       "        vertical-align: top;\n",
       "    }\n",
       "\n",
       "    .dataframe thead th {\n",
       "        text-align: right;\n",
       "    }\n",
       "</style>\n",
       "<table border=\"1\" class=\"dataframe\">\n",
       "  <thead>\n",
       "    <tr style=\"text-align: right;\">\n",
       "      <th></th>\n",
       "      <th>Agency</th>\n",
       "      <th>Agency.Type</th>\n",
       "      <th>Distribution.Channel</th>\n",
       "      <th>Product.Name</th>\n",
       "      <th>Claim</th>\n",
       "      <th>Duration</th>\n",
       "      <th>Destination</th>\n",
       "      <th>Net.Sales</th>\n",
       "      <th>Commision..in.value.</th>\n",
       "      <th>Age</th>\n",
       "    </tr>\n",
       "  </thead>\n",
       "  <tbody>\n",
       "    <tr>\n",
       "      <th>7</th>\n",
       "      <td>C2B</td>\n",
       "      <td>Airlines</td>\n",
       "      <td>Online</td>\n",
       "      <td>Bronze Plan</td>\n",
       "      <td>Yes</td>\n",
       "      <td>12</td>\n",
       "      <td>SINGAPORE</td>\n",
       "      <td>94.00</td>\n",
       "      <td>23.50</td>\n",
       "      <td>34</td>\n",
       "    </tr>\n",
       "    <tr>\n",
       "      <th>8</th>\n",
       "      <td>C2B</td>\n",
       "      <td>Airlines</td>\n",
       "      <td>Online</td>\n",
       "      <td>Silver Plan</td>\n",
       "      <td>No</td>\n",
       "      <td>190</td>\n",
       "      <td>SINGAPORE</td>\n",
       "      <td>294.75</td>\n",
       "      <td>73.69</td>\n",
       "      <td>26</td>\n",
       "    </tr>\n",
       "    <tr>\n",
       "      <th>9</th>\n",
       "      <td>CWT</td>\n",
       "      <td>Travel Agency</td>\n",
       "      <td>Online</td>\n",
       "      <td>Rental Vehicle Excess Insurance</td>\n",
       "      <td>No</td>\n",
       "      <td>29</td>\n",
       "      <td>UNITED STATES</td>\n",
       "      <td>9.90</td>\n",
       "      <td>5.94</td>\n",
       "      <td>33</td>\n",
       "    </tr>\n",
       "    <tr>\n",
       "      <th>10</th>\n",
       "      <td>CWT</td>\n",
       "      <td>Travel Agency</td>\n",
       "      <td>Online</td>\n",
       "      <td>Rental Vehicle Excess Insurance</td>\n",
       "      <td>No</td>\n",
       "      <td>28</td>\n",
       "      <td>UNITED STATES</td>\n",
       "      <td>9.90</td>\n",
       "      <td>5.94</td>\n",
       "      <td>33</td>\n",
       "    </tr>\n",
       "    <tr>\n",
       "      <th>11</th>\n",
       "      <td>CWT</td>\n",
       "      <td>Travel Agency</td>\n",
       "      <td>Online</td>\n",
       "      <td>Rental Vehicle Excess Insurance</td>\n",
       "      <td>No</td>\n",
       "      <td>153</td>\n",
       "      <td>JAPAN</td>\n",
       "      <td>69.30</td>\n",
       "      <td>41.58</td>\n",
       "      <td>35</td>\n",
       "    </tr>\n",
       "  </tbody>\n",
       "</table>\n",
       "</div>"
      ],
      "text/plain": [
       "   Agency    Agency.Type Distribution.Channel  \\\n",
       "7     C2B       Airlines               Online   \n",
       "8     C2B       Airlines               Online   \n",
       "9     CWT  Travel Agency               Online   \n",
       "10    CWT  Travel Agency               Online   \n",
       "11    CWT  Travel Agency               Online   \n",
       "\n",
       "                       Product.Name Claim  Duration    Destination  Net.Sales  \\\n",
       "7                       Bronze Plan   Yes        12      SINGAPORE      94.00   \n",
       "8                       Silver Plan    No       190      SINGAPORE     294.75   \n",
       "9   Rental Vehicle Excess Insurance    No        29  UNITED STATES       9.90   \n",
       "10  Rental Vehicle Excess Insurance    No        28  UNITED STATES       9.90   \n",
       "11  Rental Vehicle Excess Insurance    No       153          JAPAN      69.30   \n",
       "\n",
       "    Commision..in.value.  Age  \n",
       "7                  23.50   34  \n",
       "8                  73.69   26  \n",
       "9                   5.94   33  \n",
       "10                  5.94   33  \n",
       "11                 41.58   35  "
      ]
     },
     "execution_count": 26,
     "metadata": {},
     "output_type": "execute_result"
    }
   ],
   "source": [
    "travel.head()"
   ]
  },
  {
   "cell_type": "code",
   "execution_count": 27,
   "metadata": {
    "colab": {},
    "colab_type": "code",
    "id": "0sBpAP7rk3LX"
   },
   "outputs": [],
   "source": [
    "#Convertin the predictor variable in a binary numeric variable\n",
    "travel['Claim'].replace(to_replace='Yes', value=1, inplace=True)\n",
    "travel['Claim'].replace(to_replace='No',  value=0, inplace=True)\n",
    "travel.head()\n",
    "\n",
    "# select random important features\n",
    "Feature = travel[['Duration', 'Distribution.Channel', 'Net.Sales',  'Age']]\n",
    "\n",
    "# get numeric data for categorical data\n",
    "Feature = pd.concat([Feature,pd.get_dummies(travel['Distribution.Channel'])], axis=1)\n",
    "\n",
    "# Features\n",
    "X = Feature[['Duration', 'Net.Sales', 'Age', 'Offline','Online']]\n",
    "\n",
    "\n",
    "# Target label, \n",
    "y = travel['Claim']\n",
    "\n",
    "\n"
   ]
  },
  {
   "cell_type": "markdown",
   "metadata": {
    "colab_type": "text",
    "id": "okmvnjj7k3Lg"
   },
   "source": [
    "# Building XGBoost model"
   ]
  },
  {
   "cell_type": "code",
   "execution_count": 31,
   "metadata": {},
   "outputs": [],
   "source": [
    "# !pip install xgboost"
   ]
  },
  {
   "cell_type": "code",
   "execution_count": 33,
   "metadata": {
    "colab": {
     "base_uri": "https://localhost:8080/",
     "height": 34
    },
    "colab_type": "code",
    "executionInfo": {
     "elapsed": 4391,
     "status": "ok",
     "timestamp": 1584954989103,
     "user": {
      "displayName": "Mahmoud K. Shoush",
      "photoUrl": "https://lh3.googleusercontent.com/a-/AOh14Gg9UiBaJaGnafDynGv5Ght5Z18MwCGvDUW8ttd2=s64",
      "userId": "05621694697917066197"
     },
     "user_tz": -120
    },
    "id": "3QAMvvSAk3Lj",
    "outputId": "0acc7e88-0261-4b62-d8c0-022d3f65841a"
   },
   "outputs": [
    {
     "name": "stdout",
     "output_type": "stream",
     "text": [
      "Accuracy: 94.60%\n"
     ]
    }
   ],
   "source": [
    "from xgboost import XGBClassifier\n",
    "from sklearn.model_selection import train_test_split\n",
    "from sklearn.metrics import accuracy_score\n",
    "\n",
    "# split data to train, test sets\n",
    "X_train, X_test, y_train, y_test = train_test_split(X, y, test_size=0.3, random_state=3)\n",
    "\n",
    "# get an instance from the clf\n",
    "model = XGBClassifier()\n",
    "\n",
    "# fit data\n",
    "model.fit(X_train, y_train)\n",
    "\n",
    "# predict unseen data\n",
    "y_pred = model.predict(X_test)\n",
    "\n",
    "# get accuracy\n",
    "accuracy = accuracy_score(y_test, y_pred)\n",
    "print(\"Accuracy: %.2f%%\" % (accuracy * 100.0))"
   ]
  },
  {
   "cell_type": "markdown",
   "metadata": {
    "colab_type": "text",
    "id": "mJP_OFVrk3Lr"
   },
   "source": [
    "Now let's run the same code, but using only one feature (which should drastically reduce the accuracy of the classifier):"
   ]
  },
  {
   "cell_type": "code",
   "execution_count": 80,
   "metadata": {
    "colab": {
     "base_uri": "https://localhost:8080/",
     "height": 423
    },
    "colab_type": "code",
    "executionInfo": {
     "elapsed": 4372,
     "status": "ok",
     "timestamp": 1584954989104,
     "user": {
      "displayName": "Mahmoud K. Shoush",
      "photoUrl": "https://lh3.googleusercontent.com/a-/AOh14Gg9UiBaJaGnafDynGv5Ght5Z18MwCGvDUW8ttd2=s64",
      "userId": "05621694697917066197"
     },
     "user_tz": -120
    },
    "id": "_OaBdmSgk3Lu",
    "outputId": "7734293c-d4a7-45a3-b51c-39ec49e3504a"
   },
   "outputs": [
    {
     "data": {
      "text/html": [
       "<div>\n",
       "<style scoped>\n",
       "    .dataframe tbody tr th:only-of-type {\n",
       "        vertical-align: middle;\n",
       "    }\n",
       "\n",
       "    .dataframe tbody tr th {\n",
       "        vertical-align: top;\n",
       "    }\n",
       "\n",
       "    .dataframe thead th {\n",
       "        text-align: right;\n",
       "    }\n",
       "</style>\n",
       "<table border=\"1\" class=\"dataframe\">\n",
       "  <thead>\n",
       "    <tr style=\"text-align: right;\">\n",
       "      <th></th>\n",
       "      <th>Duration</th>\n",
       "      <th>Net.Sales</th>\n",
       "      <th>Age</th>\n",
       "      <th>Offline</th>\n",
       "      <th>Online</th>\n",
       "    </tr>\n",
       "  </thead>\n",
       "  <tbody>\n",
       "    <tr>\n",
       "      <th>5339</th>\n",
       "      <td>6</td>\n",
       "      <td>20.0</td>\n",
       "      <td>35</td>\n",
       "      <td>0</td>\n",
       "      <td>1</td>\n",
       "    </tr>\n",
       "    <tr>\n",
       "      <th>14805</th>\n",
       "      <td>153</td>\n",
       "      <td>96.0</td>\n",
       "      <td>36</td>\n",
       "      <td>0</td>\n",
       "      <td>1</td>\n",
       "    </tr>\n",
       "    <tr>\n",
       "      <th>17410</th>\n",
       "      <td>28</td>\n",
       "      <td>20.0</td>\n",
       "      <td>36</td>\n",
       "      <td>0</td>\n",
       "      <td>1</td>\n",
       "    </tr>\n",
       "    <tr>\n",
       "      <th>9687</th>\n",
       "      <td>53</td>\n",
       "      <td>65.0</td>\n",
       "      <td>25</td>\n",
       "      <td>0</td>\n",
       "      <td>1</td>\n",
       "    </tr>\n",
       "    <tr>\n",
       "      <th>5778</th>\n",
       "      <td>89</td>\n",
       "      <td>42.0</td>\n",
       "      <td>31</td>\n",
       "      <td>0</td>\n",
       "      <td>1</td>\n",
       "    </tr>\n",
       "    <tr>\n",
       "      <th>...</th>\n",
       "      <td>...</td>\n",
       "      <td>...</td>\n",
       "      <td>...</td>\n",
       "      <td>...</td>\n",
       "      <td>...</td>\n",
       "    </tr>\n",
       "    <tr>\n",
       "      <th>6732</th>\n",
       "      <td>3</td>\n",
       "      <td>10.0</td>\n",
       "      <td>36</td>\n",
       "      <td>0</td>\n",
       "      <td>1</td>\n",
       "    </tr>\n",
       "    <tr>\n",
       "      <th>16192</th>\n",
       "      <td>66</td>\n",
       "      <td>72.0</td>\n",
       "      <td>34</td>\n",
       "      <td>0</td>\n",
       "      <td>1</td>\n",
       "    </tr>\n",
       "    <tr>\n",
       "      <th>12105</th>\n",
       "      <td>33</td>\n",
       "      <td>138.6</td>\n",
       "      <td>38</td>\n",
       "      <td>0</td>\n",
       "      <td>1</td>\n",
       "    </tr>\n",
       "    <tr>\n",
       "      <th>1794</th>\n",
       "      <td>17</td>\n",
       "      <td>32.0</td>\n",
       "      <td>22</td>\n",
       "      <td>0</td>\n",
       "      <td>1</td>\n",
       "    </tr>\n",
       "    <tr>\n",
       "      <th>6302</th>\n",
       "      <td>24</td>\n",
       "      <td>19.0</td>\n",
       "      <td>23</td>\n",
       "      <td>0</td>\n",
       "      <td>1</td>\n",
       "    </tr>\n",
       "  </tbody>\n",
       "</table>\n",
       "<p>13006 rows × 5 columns</p>\n",
       "</div>"
      ],
      "text/plain": [
       "       Duration  Net.Sales  Age  Offline  Online\n",
       "5339          6       20.0   35        0       1\n",
       "14805       153       96.0   36        0       1\n",
       "17410        28       20.0   36        0       1\n",
       "9687         53       65.0   25        0       1\n",
       "5778         89       42.0   31        0       1\n",
       "...         ...        ...  ...      ...     ...\n",
       "6732          3       10.0   36        0       1\n",
       "16192        66       72.0   34        0       1\n",
       "12105        33      138.6   38        0       1\n",
       "1794         17       32.0   22        0       1\n",
       "6302         24       19.0   23        0       1\n",
       "\n",
       "[13006 rows x 5 columns]"
      ]
     },
     "execution_count": 80,
     "metadata": {
      "tags": []
     },
     "output_type": "execute_result"
    }
   ],
   "source": [
    "X_train"
   ]
  },
  {
   "cell_type": "code",
   "execution_count": 81,
   "metadata": {
    "colab": {
     "base_uri": "https://localhost:8080/",
     "height": 34
    },
    "colab_type": "code",
    "executionInfo": {
     "elapsed": 4354,
     "status": "ok",
     "timestamp": 1584954989104,
     "user": {
      "displayName": "Mahmoud K. Shoush",
      "photoUrl": "https://lh3.googleusercontent.com/a-/AOh14Gg9UiBaJaGnafDynGv5Ght5Z18MwCGvDUW8ttd2=s64",
      "userId": "05621694697917066197"
     },
     "user_tz": -120
    },
    "id": "HqEh_6iek3L2",
    "outputId": "7c22643e-d2cc-4b6c-fcf3-d8ab976ccad4"
   },
   "outputs": [
    {
     "name": "stdout",
     "output_type": "stream",
     "text": [
      "Accuracy: 95.21%\n"
     ]
    }
   ],
   "source": [
    "model = XGBClassifier()\n",
    "\n",
    "# fir the model using only one feature\n",
    "model.fit(X_train[['Age']], y_train)\n",
    "y_pred = model.predict(X_test[['Age']])\n",
    "\n",
    "accuracy = accuracy_score(y_test, y_pred)\n",
    "print(\"Accuracy: %.2f%%\" % (accuracy * 100.0))\n"
   ]
  },
  {
   "cell_type": "markdown",
   "metadata": {
    "colab_type": "text",
    "id": "7xyXDt9ok3MG"
   },
   "source": [
    "* As we can see, the high accuracy rate was just an illusion. `In this way, the choice of the metric used in unbalanced datasets is extremely important`.\n"
   ]
  },
  {
   "cell_type": "markdown",
   "metadata": {
    "colab_type": "text",
    "id": "PsIBGcgQk3MK"
   },
   "source": [
    "# How to deal with unbalanced data set"
   ]
  },
  {
   "cell_type": "markdown",
   "metadata": {
    "colab_type": "text",
    "id": "XvqPec8Mk3MO"
   },
   "source": [
    "\n",
    "## Resampling\n",
    "\n",
    "A widely adopted technique for dealing with highly unbalanced datasets is called resampling. It consists of removing samples from the majority class (under-sampling) and / or adding more examples from the minority class (over-sampling).\n"
   ]
  },
  {
   "cell_type": "code",
   "execution_count": 82,
   "metadata": {
    "colab": {
     "base_uri": "https://localhost:8080/",
     "height": 494
    },
    "colab_type": "code",
    "executionInfo": {
     "elapsed": 4327,
     "status": "ok",
     "timestamp": 1584954989105,
     "user": {
      "displayName": "Mahmoud K. Shoush",
      "photoUrl": "https://lh3.googleusercontent.com/a-/AOh14Gg9UiBaJaGnafDynGv5Ght5Z18MwCGvDUW8ttd2=s64",
      "userId": "05621694697917066197"
     },
     "user_tz": -120
    },
    "id": "klPcV0dok3MQ",
    "outputId": "f88eee96-edf2-4bc3-d5f9-c8a93126b4f2"
   },
   "outputs": [
    {
     "data": {
      "image/png": "[encoded data removed]",
      "text/plain": [
       "<IPython.core.display.Image object>"
      ]
     },
     "execution_count": 82,
     "metadata": {
      "tags": []
     },
     "output_type": "execute_result"
    }
   ],
   "source": [
    "from IPython.display import Image\n",
    "Image(filename='resampling.png') \n",
    "\n",
    "# source: https://www.kaggle.com/rafjaa/resampling-strategies-for-imbalanced-datasets"
   ]
  },
  {
   "cell_type": "markdown",
   "metadata": {
    "colab_type": "text",
    "id": "x1U4k3UHk3Ma"
   },
   "source": [
    "* Despite the advantage of balancing classes, these techniques also have their weaknesses `(there is no free lunch).` The simplest implementation of **over-sampling** is to duplicate random records from the minority class, which can cause overfitting. In **under-sampling**, the simplest technique involves removing random records from the majority class, which can cause loss of information.\n",
    "\n"
   ]
  },
  {
   "cell_type": "code",
   "execution_count": 34,
   "metadata": {
    "colab": {},
    "colab_type": "code",
    "id": "uajyjVqMk3Mc"
   },
   "outputs": [],
   "source": [
    "# Classes count\n",
    "count_class_0, count_class_1 = travel.Claim.value_counts()\n",
    "\n",
    "# Divide by class\n",
    "df_class_0 = travel[travel['Claim'] == 0]\n",
    "df_class_1 = travel[travel['Claim'] == 1]\n",
    "\n"
   ]
  },
  {
   "cell_type": "markdown",
   "metadata": {
    "colab_type": "text",
    "id": "c4X4gzT0k3Ml"
   },
   "source": [
    "## Random under-sampling"
   ]
  },
  {
   "cell_type": "code",
   "execution_count": 36,
   "metadata": {},
   "outputs": [
    {
     "name": "stdout",
     "output_type": "stream",
     "text": [
      "Collecting Rectangle\n",
      "  Downloading rectangle-0.3.tar.gz (2.5 kB)\n",
      "Requirement already satisfied: numpy>=1.13 in /Library/Frameworks/Python.framework/Versions/3.6/lib/python3.6/site-packages (from Rectangle) (1.18.1)\n",
      "Installing collected packages: Rectangle\n",
      "    Running setup.py install for Rectangle ... \u001b[?25ldone\n",
      "\u001b[?25hSuccessfully installed Rectangle-0.3\n"
     ]
    }
   ],
   "source": [
    "# !pip install Rectangle"
   ]
  },
  {
   "cell_type": "code",
   "execution_count": 42,
   "metadata": {
    "colab": {
     "base_uri": "https://localhost:8080/",
     "height": 403
    },
    "colab_type": "code",
    "executionInfo": {
     "elapsed": 4295,
     "status": "ok",
     "timestamp": 1584954989107,
     "user": {
      "displayName": "Mahmoud K. Shoush",
      "photoUrl": "https://lh3.googleusercontent.com/a-/AOh14Gg9UiBaJaGnafDynGv5Ght5Z18MwCGvDUW8ttd2=s64",
      "userId": "05621694697917066197"
     },
     "user_tz": -120
    },
    "id": "D2E6-dFXk3Mp",
    "outputId": "89bc0c81-108c-4bef-cdda-fc0fca4a117b"
   },
   "outputs": [
    {
     "name": "stdout",
     "output_type": "stream",
     "text": [
      "Random under-sampling:\n",
      "1    914\n",
      "0    914\n",
      "Name: Claim, dtype: int64\n"
     ]
    },
    {
     "data": {
      "image/png": "[encoded data removed]",
      "text/plain": [
       "<Figure size 432x288 with 1 Axes>"
      ]
     },
     "metadata": {
      "needs_background": "light"
     },
     "output_type": "display_data"
    }
   ],
   "source": [
    "colors = [ '#66CDAA',  '#6495ED']\n",
    "\n",
    "\n",
    "df_class_0_under = df_class_0.sample(count_class_1)\n",
    "df_test_under = pd.concat([df_class_0_under, df_class_1], axis=0)\n",
    "\n",
    "print('Random under-sampling:')\n",
    "print(df_test_under.Claim.value_counts())\n",
    "\n",
    "df_test_under.Claim.value_counts().plot(kind='bar', title='Count (target)',color=colors);"
   ]
  },
  {
   "cell_type": "code",
   "execution_count": 43,
   "metadata": {
    "colab": {
     "base_uri": "https://localhost:8080/",
     "height": 293
    },
    "colab_type": "code",
    "executionInfo": {
     "elapsed": 4278,
     "status": "ok",
     "timestamp": 1584954989109,
     "user": {
      "displayName": "Mahmoud K. Shoush",
      "photoUrl": "https://lh3.googleusercontent.com/a-/AOh14Gg9UiBaJaGnafDynGv5Ght5Z18MwCGvDUW8ttd2=s64",
      "userId": "05621694697917066197"
     },
     "user_tz": -120
    },
    "id": "Yl6kIqKvk3Mw",
    "outputId": "c0c87d6b-99b3-4e06-98a8-da888bffbadd"
   },
   "outputs": [
    {
     "data": {
      "text/html": [
       "<div>\n",
       "<style scoped>\n",
       "    .dataframe tbody tr th:only-of-type {\n",
       "        vertical-align: middle;\n",
       "    }\n",
       "\n",
       "    .dataframe tbody tr th {\n",
       "        vertical-align: top;\n",
       "    }\n",
       "\n",
       "    .dataframe thead th {\n",
       "        text-align: right;\n",
       "    }\n",
       "</style>\n",
       "<table border=\"1\" class=\"dataframe\">\n",
       "  <thead>\n",
       "    <tr style=\"text-align: right;\">\n",
       "      <th></th>\n",
       "      <th>Agency</th>\n",
       "      <th>Agency.Type</th>\n",
       "      <th>Distribution.Channel</th>\n",
       "      <th>Product.Name</th>\n",
       "      <th>Claim</th>\n",
       "      <th>Duration</th>\n",
       "      <th>Destination</th>\n",
       "      <th>Net.Sales</th>\n",
       "      <th>Commision..in.value.</th>\n",
       "      <th>Age</th>\n",
       "    </tr>\n",
       "  </thead>\n",
       "  <tbody>\n",
       "    <tr>\n",
       "      <th>8706</th>\n",
       "      <td>EPX</td>\n",
       "      <td>Travel Agency</td>\n",
       "      <td>Online</td>\n",
       "      <td>Cancellation Plan</td>\n",
       "      <td>0</td>\n",
       "      <td>7</td>\n",
       "      <td>MYANMAR</td>\n",
       "      <td>15.0</td>\n",
       "      <td>0.00</td>\n",
       "      <td>36</td>\n",
       "    </tr>\n",
       "    <tr>\n",
       "      <th>8779</th>\n",
       "      <td>EPX</td>\n",
       "      <td>Travel Agency</td>\n",
       "      <td>Online</td>\n",
       "      <td>Cancellation Plan</td>\n",
       "      <td>0</td>\n",
       "      <td>32</td>\n",
       "      <td>MALAYSIA</td>\n",
       "      <td>10.0</td>\n",
       "      <td>0.00</td>\n",
       "      <td>36</td>\n",
       "    </tr>\n",
       "    <tr>\n",
       "      <th>15791</th>\n",
       "      <td>EPX</td>\n",
       "      <td>Travel Agency</td>\n",
       "      <td>Online</td>\n",
       "      <td>1 way Comprehensive Plan</td>\n",
       "      <td>0</td>\n",
       "      <td>2</td>\n",
       "      <td>CHINA</td>\n",
       "      <td>24.0</td>\n",
       "      <td>0.00</td>\n",
       "      <td>36</td>\n",
       "    </tr>\n",
       "    <tr>\n",
       "      <th>10498</th>\n",
       "      <td>C2B</td>\n",
       "      <td>Airlines</td>\n",
       "      <td>Online</td>\n",
       "      <td>Silver Plan</td>\n",
       "      <td>0</td>\n",
       "      <td>29</td>\n",
       "      <td>SINGAPORE</td>\n",
       "      <td>84.5</td>\n",
       "      <td>21.13</td>\n",
       "      <td>24</td>\n",
       "    </tr>\n",
       "    <tr>\n",
       "      <th>12858</th>\n",
       "      <td>EPX</td>\n",
       "      <td>Travel Agency</td>\n",
       "      <td>Online</td>\n",
       "      <td>Cancellation Plan</td>\n",
       "      <td>0</td>\n",
       "      <td>47</td>\n",
       "      <td>CHINA</td>\n",
       "      <td>22.0</td>\n",
       "      <td>0.00</td>\n",
       "      <td>36</td>\n",
       "    </tr>\n",
       "  </tbody>\n",
       "</table>\n",
       "</div>"
      ],
      "text/plain": [
       "      Agency    Agency.Type Distribution.Channel              Product.Name  \\\n",
       "8706     EPX  Travel Agency               Online         Cancellation Plan   \n",
       "8779     EPX  Travel Agency               Online         Cancellation Plan   \n",
       "15791    EPX  Travel Agency               Online  1 way Comprehensive Plan   \n",
       "10498    C2B       Airlines               Online               Silver Plan   \n",
       "12858    EPX  Travel Agency               Online         Cancellation Plan   \n",
       "\n",
       "       Claim  Duration Destination  Net.Sales  Commision..in.value.  Age  \n",
       "8706       0         7     MYANMAR       15.0                  0.00   36  \n",
       "8779       0        32    MALAYSIA       10.0                  0.00   36  \n",
       "15791      0         2       CHINA       24.0                  0.00   36  \n",
       "10498      0        29   SINGAPORE       84.5                 21.13   24  \n",
       "12858      0        47       CHINA       22.0                  0.00   36  "
      ]
     },
     "execution_count": 43,
     "metadata": {},
     "output_type": "execute_result"
    }
   ],
   "source": [
    "df_test_under.head()"
   ]
  },
  {
   "cell_type": "code",
   "execution_count": 44,
   "metadata": {
    "colab": {
     "base_uri": "https://localhost:8080/",
     "height": 225
    },
    "colab_type": "code",
    "executionInfo": {
     "elapsed": 4259,
     "status": "ok",
     "timestamp": 1584954989111,
     "user": {
      "displayName": "Mahmoud K. Shoush",
      "photoUrl": "https://lh3.googleusercontent.com/a-/AOh14Gg9UiBaJaGnafDynGv5Ght5Z18MwCGvDUW8ttd2=s64",
      "userId": "05621694697917066197"
     },
     "user_tz": -120
    },
    "id": "sdWBx2eGk3M5",
    "outputId": "d5c91aa1-4ab7-4158-ed20-c358ee382127"
   },
   "outputs": [
    {
     "data": {
      "text/plain": [
       "8706     0\n",
       "8779     0\n",
       "15791    0\n",
       "10498    0\n",
       "12858    0\n",
       "        ..\n",
       "19612    1\n",
       "19619    1\n",
       "19621    1\n",
       "19622    1\n",
       "19629    1\n",
       "Name: Claim, Length: 1828, dtype: int64"
      ]
     },
     "execution_count": 44,
     "metadata": {},
     "output_type": "execute_result"
    }
   ],
   "source": [
    "#Convertin the predictor variable in a binary numeric variable\n",
    "df_test_under['Claim'].replace(to_replace='Yes', value=1, inplace=True)\n",
    "df_test_under['Claim'].replace(to_replace='No',  value=0, inplace=True)\n",
    "df_test_under.head()\n",
    "\n",
    "Feature = df_test_under[['Duration', 'Distribution.Channel', 'Net.Sales',  'Age']]\n",
    "Feature = pd.concat([Feature,pd.get_dummies(df_test_under['Distribution.Channel'])], axis=1)\n",
    "X = Feature[['Duration', 'Net.Sales', 'Age', 'Offline','Online']]\n",
    "X\n",
    "\n",
    "from sklearn import preprocessing\n",
    "X = preprocessing.StandardScaler().fit(X).transform(X)\n",
    "X[0:5]\n",
    "\n",
    "# Target label, \n",
    "y = df_test_under['Claim']\n",
    "y\n"
   ]
  },
  {
   "cell_type": "code",
   "execution_count": 45,
   "metadata": {
    "colab": {
     "base_uri": "https://localhost:8080/",
     "height": 34
    },
    "colab_type": "code",
    "executionInfo": {
     "elapsed": 4236,
     "status": "ok",
     "timestamp": 1584954989114,
     "user": {
      "displayName": "Mahmoud K. Shoush",
      "photoUrl": "https://lh3.googleusercontent.com/a-/AOh14Gg9UiBaJaGnafDynGv5Ght5Z18MwCGvDUW8ttd2=s64",
      "userId": "05621694697917066197"
     },
     "user_tz": -120
    },
    "id": "nhT_SjuNk3NB",
    "outputId": "6c541f37-e3eb-44bc-d36a-518b552d4b51"
   },
   "outputs": [
    {
     "name": "stdout",
     "output_type": "stream",
     "text": [
      "Accuracy: 62.30%\n"
     ]
    }
   ],
   "source": [
    "from xgboost import XGBClassifier\n",
    "from sklearn.model_selection import train_test_split\n",
    "from sklearn.metrics import accuracy_score\n",
    "\n",
    "X_train, X_test, y_train, y_test = train_test_split(X, y, test_size=0.3, random_state=3)\n",
    "\n",
    "model = XGBClassifier()\n",
    "model.fit(X_train, y_train)\n",
    "y_pred = model.predict(X_test)\n",
    "\n",
    "accuracy = accuracy_score(y_test, y_pred)\n",
    "print(\"Accuracy: %.2f%%\" % (accuracy * 100.0))"
   ]
  },
  {
   "cell_type": "code",
   "execution_count": 46,
   "metadata": {
    "colab": {},
    "colab_type": "code",
    "id": "ZRYTRCXlk3NK"
   },
   "outputs": [],
   "source": [
    "# from sklearn.metrics import confusion_matrix\n",
    "# from matplotlib import pyplot as plt\n",
    "\n",
    "# conf_mat = confusion_matrix(y_true=y_test, y_pred=y_pred)\n",
    "# print('Confusion matrix:\\n', conf_mat)\n",
    "\n",
    "# labels = ['Class 0', 'Class 1']\n",
    "# fig = plt.figure()\n",
    "# ax = fig.add_subplot(111)\n",
    "# cax = ax.matshow(conf_mat, cmap=plt.cm.Blues)\n",
    "# fig.colorbar(cax)\n",
    "# ax.set_xticklabels([''] + labels)\n",
    "# ax.set_yticklabels([''] + labels)\n",
    "# plt.xlabel('Predicted')\n",
    "# plt.ylabel('Expected')\n",
    "# plt.show()"
   ]
  },
  {
   "cell_type": "markdown",
   "metadata": {
    "colab_type": "text",
    "id": "NZOEG0uDk3NR"
   },
   "source": [
    "\n",
    "## Random over-sampling\n"
   ]
  },
  {
   "cell_type": "code",
   "execution_count": 48,
   "metadata": {
    "colab": {
     "base_uri": "https://localhost:8080/",
     "height": 403
    },
    "colab_type": "code",
    "executionInfo": {
     "elapsed": 4209,
     "status": "ok",
     "timestamp": 1584954989118,
     "user": {
      "displayName": "Mahmoud K. Shoush",
      "photoUrl": "https://lh3.googleusercontent.com/a-/AOh14Gg9UiBaJaGnafDynGv5Ght5Z18MwCGvDUW8ttd2=s64",
      "userId": "05621694697917066197"
     },
     "user_tz": -120
    },
    "id": "SyosDUPCk3NW",
    "outputId": "fef44f3f-c9d5-4c97-bbe9-9145daa1f267"
   },
   "outputs": [
    {
     "name": "stdout",
     "output_type": "stream",
     "text": [
      "Random over-sampling:\n",
      "1    17667\n",
      "0    17667\n",
      "Name: Claim, dtype: int64\n"
     ]
    },
    {
     "ename": "AttributeError",
     "evalue": "'Rectangle' object has no property 'colors'",
     "output_type": "error",
     "traceback": [
      "\u001b[0;31m---------------------------------------------------------------------------\u001b[0m",
      "\u001b[0;31mAttributeError\u001b[0m                            Traceback (most recent call last)",
      "\u001b[0;32m<ipython-input-48-823a87b55cb6>\u001b[0m in \u001b[0;36m<module>\u001b[0;34m\u001b[0m\n\u001b[1;32m      8\u001b[0m \u001b[0mprint\u001b[0m\u001b[0;34m(\u001b[0m\u001b[0mdf_test_over\u001b[0m\u001b[0;34m.\u001b[0m\u001b[0mClaim\u001b[0m\u001b[0;34m.\u001b[0m\u001b[0mvalue_counts\u001b[0m\u001b[0;34m(\u001b[0m\u001b[0;34m)\u001b[0m\u001b[0;34m)\u001b[0m\u001b[0;34m\u001b[0m\u001b[0;34m\u001b[0m\u001b[0m\n\u001b[1;32m      9\u001b[0m \u001b[0;34m\u001b[0m\u001b[0m\n\u001b[0;32m---> 10\u001b[0;31m \u001b[0mdf_test_over\u001b[0m\u001b[0;34m.\u001b[0m\u001b[0mClaim\u001b[0m\u001b[0;34m.\u001b[0m\u001b[0mvalue_counts\u001b[0m\u001b[0;34m(\u001b[0m\u001b[0;34m)\u001b[0m\u001b[0;34m.\u001b[0m\u001b[0mplot\u001b[0m\u001b[0;34m(\u001b[0m\u001b[0mkind\u001b[0m\u001b[0;34m=\u001b[0m\u001b[0;34m'bar'\u001b[0m\u001b[0;34m,\u001b[0m \u001b[0mtitle\u001b[0m\u001b[0;34m=\u001b[0m\u001b[0;34m'Count (target)'\u001b[0m\u001b[0;34m,\u001b[0m\u001b[0mcolors\u001b[0m\u001b[0;34m=\u001b[0m\u001b[0mcolors\u001b[0m\u001b[0;34m)\u001b[0m\u001b[0;34m;\u001b[0m\u001b[0;34m\u001b[0m\u001b[0;34m\u001b[0m\u001b[0m\n\u001b[0m",
      "\u001b[0;32m/Library/Frameworks/Python.framework/Versions/3.6/lib/python3.6/site-packages/pandas/plotting/_core.py\u001b[0m in \u001b[0;36m__call__\u001b[0;34m(self, *args, **kwargs)\u001b[0m\n\u001b[1;32m    845\u001b[0m                     \u001b[0mdata\u001b[0m\u001b[0;34m.\u001b[0m\u001b[0mcolumns\u001b[0m \u001b[0;34m=\u001b[0m \u001b[0mlabel_name\u001b[0m\u001b[0;34m\u001b[0m\u001b[0;34m\u001b[0m\u001b[0m\n\u001b[1;32m    846\u001b[0m \u001b[0;34m\u001b[0m\u001b[0m\n\u001b[0;32m--> 847\u001b[0;31m         \u001b[0;32mreturn\u001b[0m \u001b[0mplot_backend\u001b[0m\u001b[0;34m.\u001b[0m\u001b[0mplot\u001b[0m\u001b[0;34m(\u001b[0m\u001b[0mdata\u001b[0m\u001b[0;34m,\u001b[0m \u001b[0mkind\u001b[0m\u001b[0;34m=\u001b[0m\u001b[0mkind\u001b[0m\u001b[0;34m,\u001b[0m \u001b[0;34m**\u001b[0m\u001b[0mkwargs\u001b[0m\u001b[0;34m)\u001b[0m\u001b[0;34m\u001b[0m\u001b[0;34m\u001b[0m\u001b[0m\n\u001b[0m\u001b[1;32m    848\u001b[0m \u001b[0;34m\u001b[0m\u001b[0m\n\u001b[1;32m    849\u001b[0m     \u001b[0m__call__\u001b[0m\u001b[0;34m.\u001b[0m\u001b[0m__doc__\u001b[0m \u001b[0;34m=\u001b[0m \u001b[0m__doc__\u001b[0m\u001b[0;34m\u001b[0m\u001b[0;34m\u001b[0m\u001b[0m\n",
      "\u001b[0;32m/Library/Frameworks/Python.framework/Versions/3.6/lib/python3.6/site-packages/pandas/plotting/_matplotlib/__init__.py\u001b[0m in \u001b[0;36mplot\u001b[0;34m(data, kind, **kwargs)\u001b[0m\n\u001b[1;32m     59\u001b[0m             \u001b[0mkwargs\u001b[0m\u001b[0;34m[\u001b[0m\u001b[0;34m\"ax\"\u001b[0m\u001b[0;34m]\u001b[0m \u001b[0;34m=\u001b[0m \u001b[0mgetattr\u001b[0m\u001b[0;34m(\u001b[0m\u001b[0max\u001b[0m\u001b[0;34m,\u001b[0m \u001b[0;34m\"left_ax\"\u001b[0m\u001b[0;34m,\u001b[0m \u001b[0max\u001b[0m\u001b[0;34m)\u001b[0m\u001b[0;34m\u001b[0m\u001b[0;34m\u001b[0m\u001b[0m\n\u001b[1;32m     60\u001b[0m     \u001b[0mplot_obj\u001b[0m \u001b[0;34m=\u001b[0m \u001b[0mPLOT_CLASSES\u001b[0m\u001b[0;34m[\u001b[0m\u001b[0mkind\u001b[0m\u001b[0;34m]\u001b[0m\u001b[0;34m(\u001b[0m\u001b[0mdata\u001b[0m\u001b[0;34m,\u001b[0m \u001b[0;34m**\u001b[0m\u001b[0mkwargs\u001b[0m\u001b[0;34m)\u001b[0m\u001b[0;34m\u001b[0m\u001b[0;34m\u001b[0m\u001b[0m\n\u001b[0;32m---> 61\u001b[0;31m     \u001b[0mplot_obj\u001b[0m\u001b[0;34m.\u001b[0m\u001b[0mgenerate\u001b[0m\u001b[0;34m(\u001b[0m\u001b[0;34m)\u001b[0m\u001b[0;34m\u001b[0m\u001b[0;34m\u001b[0m\u001b[0m\n\u001b[0m\u001b[1;32m     62\u001b[0m     \u001b[0mplot_obj\u001b[0m\u001b[0;34m.\u001b[0m\u001b[0mdraw\u001b[0m\u001b[0;34m(\u001b[0m\u001b[0;34m)\u001b[0m\u001b[0;34m\u001b[0m\u001b[0;34m\u001b[0m\u001b[0m\n\u001b[1;32m     63\u001b[0m     \u001b[0;32mreturn\u001b[0m \u001b[0mplot_obj\u001b[0m\u001b[0;34m.\u001b[0m\u001b[0mresult\u001b[0m\u001b[0;34m\u001b[0m\u001b[0;34m\u001b[0m\u001b[0m\n",
      "\u001b[0;32m/Library/Frameworks/Python.framework/Versions/3.6/lib/python3.6/site-packages/pandas/plotting/_matplotlib/core.py\u001b[0m in \u001b[0;36mgenerate\u001b[0;34m(self)\u001b[0m\n\u001b[1;32m    261\u001b[0m         \u001b[0mself\u001b[0m\u001b[0;34m.\u001b[0m\u001b[0m_compute_plot_data\u001b[0m\u001b[0;34m(\u001b[0m\u001b[0;34m)\u001b[0m\u001b[0;34m\u001b[0m\u001b[0;34m\u001b[0m\u001b[0m\n\u001b[1;32m    262\u001b[0m         \u001b[0mself\u001b[0m\u001b[0;34m.\u001b[0m\u001b[0m_setup_subplots\u001b[0m\u001b[0;34m(\u001b[0m\u001b[0;34m)\u001b[0m\u001b[0;34m\u001b[0m\u001b[0;34m\u001b[0m\u001b[0m\n\u001b[0;32m--> 263\u001b[0;31m         \u001b[0mself\u001b[0m\u001b[0;34m.\u001b[0m\u001b[0m_make_plot\u001b[0m\u001b[0;34m(\u001b[0m\u001b[0;34m)\u001b[0m\u001b[0;34m\u001b[0m\u001b[0;34m\u001b[0m\u001b[0m\n\u001b[0m\u001b[1;32m    264\u001b[0m         \u001b[0mself\u001b[0m\u001b[0;34m.\u001b[0m\u001b[0m_add_table\u001b[0m\u001b[0;34m(\u001b[0m\u001b[0;34m)\u001b[0m\u001b[0;34m\u001b[0m\u001b[0;34m\u001b[0m\u001b[0m\n\u001b[1;32m    265\u001b[0m         \u001b[0mself\u001b[0m\u001b[0;34m.\u001b[0m\u001b[0m_make_legend\u001b[0m\u001b[0;34m(\u001b[0m\u001b[0;34m)\u001b[0m\u001b[0;34m\u001b[0m\u001b[0;34m\u001b[0m\u001b[0m\n",
      "\u001b[0;32m/Library/Frameworks/Python.framework/Versions/3.6/lib/python3.6/site-packages/pandas/plotting/_matplotlib/core.py\u001b[0m in \u001b[0;36m_make_plot\u001b[0;34m(self)\u001b[0m\n\u001b[1;32m   1403\u001b[0m                     \u001b[0mlabel\u001b[0m\u001b[0;34m=\u001b[0m\u001b[0mlabel\u001b[0m\u001b[0;34m,\u001b[0m\u001b[0;34m\u001b[0m\u001b[0;34m\u001b[0m\u001b[0m\n\u001b[1;32m   1404\u001b[0m                     \u001b[0mlog\u001b[0m\u001b[0;34m=\u001b[0m\u001b[0mself\u001b[0m\u001b[0;34m.\u001b[0m\u001b[0mlog\u001b[0m\u001b[0;34m,\u001b[0m\u001b[0;34m\u001b[0m\u001b[0;34m\u001b[0m\u001b[0m\n\u001b[0;32m-> 1405\u001b[0;31m                     \u001b[0;34m**\u001b[0m\u001b[0mkwds\u001b[0m\u001b[0;34m,\u001b[0m\u001b[0;34m\u001b[0m\u001b[0;34m\u001b[0m\u001b[0m\n\u001b[0m\u001b[1;32m   1406\u001b[0m                 )\n\u001b[1;32m   1407\u001b[0m             \u001b[0mself\u001b[0m\u001b[0;34m.\u001b[0m\u001b[0m_add_legend_handle\u001b[0m\u001b[0;34m(\u001b[0m\u001b[0mrect\u001b[0m\u001b[0;34m,\u001b[0m \u001b[0mlabel\u001b[0m\u001b[0;34m,\u001b[0m \u001b[0mindex\u001b[0m\u001b[0;34m=\u001b[0m\u001b[0mi\u001b[0m\u001b[0;34m)\u001b[0m\u001b[0;34m\u001b[0m\u001b[0;34m\u001b[0m\u001b[0m\n",
      "\u001b[0;32m/Library/Frameworks/Python.framework/Versions/3.6/lib/python3.6/site-packages/pandas/plotting/_matplotlib/core.py\u001b[0m in \u001b[0;36m_plot\u001b[0;34m(cls, ax, x, y, w, start, log, **kwds)\u001b[0m\n\u001b[1;32m   1328\u001b[0m     \u001b[0;34m@\u001b[0m\u001b[0mclassmethod\u001b[0m\u001b[0;34m\u001b[0m\u001b[0;34m\u001b[0m\u001b[0m\n\u001b[1;32m   1329\u001b[0m     \u001b[0;32mdef\u001b[0m \u001b[0m_plot\u001b[0m\u001b[0;34m(\u001b[0m\u001b[0mcls\u001b[0m\u001b[0;34m,\u001b[0m \u001b[0max\u001b[0m\u001b[0;34m,\u001b[0m \u001b[0mx\u001b[0m\u001b[0;34m,\u001b[0m \u001b[0my\u001b[0m\u001b[0;34m,\u001b[0m \u001b[0mw\u001b[0m\u001b[0;34m,\u001b[0m \u001b[0mstart\u001b[0m\u001b[0;34m=\u001b[0m\u001b[0;36m0\u001b[0m\u001b[0;34m,\u001b[0m \u001b[0mlog\u001b[0m\u001b[0;34m=\u001b[0m\u001b[0;32mFalse\u001b[0m\u001b[0;34m,\u001b[0m \u001b[0;34m**\u001b[0m\u001b[0mkwds\u001b[0m\u001b[0;34m)\u001b[0m\u001b[0;34m:\u001b[0m\u001b[0;34m\u001b[0m\u001b[0;34m\u001b[0m\u001b[0m\n\u001b[0;32m-> 1330\u001b[0;31m         \u001b[0;32mreturn\u001b[0m \u001b[0max\u001b[0m\u001b[0;34m.\u001b[0m\u001b[0mbar\u001b[0m\u001b[0;34m(\u001b[0m\u001b[0mx\u001b[0m\u001b[0;34m,\u001b[0m \u001b[0my\u001b[0m\u001b[0;34m,\u001b[0m \u001b[0mw\u001b[0m\u001b[0;34m,\u001b[0m \u001b[0mbottom\u001b[0m\u001b[0;34m=\u001b[0m\u001b[0mstart\u001b[0m\u001b[0;34m,\u001b[0m \u001b[0mlog\u001b[0m\u001b[0;34m=\u001b[0m\u001b[0mlog\u001b[0m\u001b[0;34m,\u001b[0m \u001b[0;34m**\u001b[0m\u001b[0mkwds\u001b[0m\u001b[0;34m)\u001b[0m\u001b[0;34m\u001b[0m\u001b[0;34m\u001b[0m\u001b[0m\n\u001b[0m\u001b[1;32m   1331\u001b[0m \u001b[0;34m\u001b[0m\u001b[0m\n\u001b[1;32m   1332\u001b[0m     \u001b[0;34m@\u001b[0m\u001b[0mproperty\u001b[0m\u001b[0;34m\u001b[0m\u001b[0;34m\u001b[0m\u001b[0m\n",
      "\u001b[0;32m/Library/Frameworks/Python.framework/Versions/3.6/lib/python3.6/site-packages/matplotlib/__init__.py\u001b[0m in \u001b[0;36minner\u001b[0;34m(ax, data, *args, **kwargs)\u001b[0m\n\u001b[1;32m   1541\u001b[0m     \u001b[0;32mdef\u001b[0m \u001b[0minner\u001b[0m\u001b[0;34m(\u001b[0m\u001b[0max\u001b[0m\u001b[0;34m,\u001b[0m \u001b[0;34m*\u001b[0m\u001b[0margs\u001b[0m\u001b[0;34m,\u001b[0m \u001b[0mdata\u001b[0m\u001b[0;34m=\u001b[0m\u001b[0;32mNone\u001b[0m\u001b[0;34m,\u001b[0m \u001b[0;34m**\u001b[0m\u001b[0mkwargs\u001b[0m\u001b[0;34m)\u001b[0m\u001b[0;34m:\u001b[0m\u001b[0;34m\u001b[0m\u001b[0;34m\u001b[0m\u001b[0m\n\u001b[1;32m   1542\u001b[0m         \u001b[0;32mif\u001b[0m \u001b[0mdata\u001b[0m \u001b[0;32mis\u001b[0m \u001b[0;32mNone\u001b[0m\u001b[0;34m:\u001b[0m\u001b[0;34m\u001b[0m\u001b[0;34m\u001b[0m\u001b[0m\n\u001b[0;32m-> 1543\u001b[0;31m             \u001b[0;32mreturn\u001b[0m \u001b[0mfunc\u001b[0m\u001b[0;34m(\u001b[0m\u001b[0max\u001b[0m\u001b[0;34m,\u001b[0m \u001b[0;34m*\u001b[0m\u001b[0mmap\u001b[0m\u001b[0;34m(\u001b[0m\u001b[0msanitize_sequence\u001b[0m\u001b[0;34m,\u001b[0m \u001b[0margs\u001b[0m\u001b[0;34m)\u001b[0m\u001b[0;34m,\u001b[0m \u001b[0;34m**\u001b[0m\u001b[0mkwargs\u001b[0m\u001b[0;34m)\u001b[0m\u001b[0;34m\u001b[0m\u001b[0;34m\u001b[0m\u001b[0m\n\u001b[0m\u001b[1;32m   1544\u001b[0m \u001b[0;34m\u001b[0m\u001b[0m\n\u001b[1;32m   1545\u001b[0m         \u001b[0mbound\u001b[0m \u001b[0;34m=\u001b[0m \u001b[0mnew_sig\u001b[0m\u001b[0;34m.\u001b[0m\u001b[0mbind\u001b[0m\u001b[0;34m(\u001b[0m\u001b[0max\u001b[0m\u001b[0;34m,\u001b[0m \u001b[0;34m*\u001b[0m\u001b[0margs\u001b[0m\u001b[0;34m,\u001b[0m \u001b[0;34m**\u001b[0m\u001b[0mkwargs\u001b[0m\u001b[0;34m)\u001b[0m\u001b[0;34m\u001b[0m\u001b[0;34m\u001b[0m\u001b[0m\n",
      "\u001b[0;32m/Library/Frameworks/Python.framework/Versions/3.6/lib/python3.6/site-packages/matplotlib/axes/_axes.py\u001b[0m in \u001b[0;36mbar\u001b[0;34m(self, x, height, width, bottom, align, **kwargs)\u001b[0m\n\u001b[1;32m   2395\u001b[0m                 \u001b[0mlabel\u001b[0m\u001b[0;34m=\u001b[0m\u001b[0;34m'_nolegend_'\u001b[0m\u001b[0;34m,\u001b[0m\u001b[0;34m\u001b[0m\u001b[0;34m\u001b[0m\u001b[0m\n\u001b[1;32m   2396\u001b[0m                 )\n\u001b[0;32m-> 2397\u001b[0;31m             \u001b[0mr\u001b[0m\u001b[0;34m.\u001b[0m\u001b[0mupdate\u001b[0m\u001b[0;34m(\u001b[0m\u001b[0mkwargs\u001b[0m\u001b[0;34m)\u001b[0m\u001b[0;34m\u001b[0m\u001b[0;34m\u001b[0m\u001b[0m\n\u001b[0m\u001b[1;32m   2398\u001b[0m             \u001b[0mr\u001b[0m\u001b[0;34m.\u001b[0m\u001b[0mget_path\u001b[0m\u001b[0;34m(\u001b[0m\u001b[0;34m)\u001b[0m\u001b[0;34m.\u001b[0m\u001b[0m_interpolation_steps\u001b[0m \u001b[0;34m=\u001b[0m \u001b[0;36m100\u001b[0m\u001b[0;34m\u001b[0m\u001b[0;34m\u001b[0m\u001b[0m\n\u001b[1;32m   2399\u001b[0m             \u001b[0;32mif\u001b[0m \u001b[0morientation\u001b[0m \u001b[0;34m==\u001b[0m \u001b[0;34m'vertical'\u001b[0m\u001b[0;34m:\u001b[0m\u001b[0;34m\u001b[0m\u001b[0;34m\u001b[0m\u001b[0m\n",
      "\u001b[0;32m/Library/Frameworks/Python.framework/Versions/3.6/lib/python3.6/site-packages/matplotlib/artist.py\u001b[0m in \u001b[0;36mupdate\u001b[0;34m(self, props)\u001b[0m\n\u001b[1;32m   1004\u001b[0m \u001b[0;34m\u001b[0m\u001b[0m\n\u001b[1;32m   1005\u001b[0m         \u001b[0;32mwith\u001b[0m \u001b[0mcbook\u001b[0m\u001b[0;34m.\u001b[0m\u001b[0m_setattr_cm\u001b[0m\u001b[0;34m(\u001b[0m\u001b[0mself\u001b[0m\u001b[0;34m,\u001b[0m \u001b[0meventson\u001b[0m\u001b[0;34m=\u001b[0m\u001b[0;32mFalse\u001b[0m\u001b[0;34m)\u001b[0m\u001b[0;34m:\u001b[0m\u001b[0;34m\u001b[0m\u001b[0;34m\u001b[0m\u001b[0m\n\u001b[0;32m-> 1006\u001b[0;31m             \u001b[0mret\u001b[0m \u001b[0;34m=\u001b[0m \u001b[0;34m[\u001b[0m\u001b[0m_update_property\u001b[0m\u001b[0;34m(\u001b[0m\u001b[0mself\u001b[0m\u001b[0;34m,\u001b[0m \u001b[0mk\u001b[0m\u001b[0;34m,\u001b[0m \u001b[0mv\u001b[0m\u001b[0;34m)\u001b[0m \u001b[0;32mfor\u001b[0m \u001b[0mk\u001b[0m\u001b[0;34m,\u001b[0m \u001b[0mv\u001b[0m \u001b[0;32min\u001b[0m \u001b[0mprops\u001b[0m\u001b[0;34m.\u001b[0m\u001b[0mitems\u001b[0m\u001b[0;34m(\u001b[0m\u001b[0;34m)\u001b[0m\u001b[0;34m]\u001b[0m\u001b[0;34m\u001b[0m\u001b[0;34m\u001b[0m\u001b[0m\n\u001b[0m\u001b[1;32m   1007\u001b[0m \u001b[0;34m\u001b[0m\u001b[0m\n\u001b[1;32m   1008\u001b[0m         \u001b[0;32mif\u001b[0m \u001b[0mlen\u001b[0m\u001b[0;34m(\u001b[0m\u001b[0mret\u001b[0m\u001b[0;34m)\u001b[0m\u001b[0;34m:\u001b[0m\u001b[0;34m\u001b[0m\u001b[0;34m\u001b[0m\u001b[0m\n",
      "\u001b[0;32m/Library/Frameworks/Python.framework/Versions/3.6/lib/python3.6/site-packages/matplotlib/artist.py\u001b[0m in \u001b[0;36m<listcomp>\u001b[0;34m(.0)\u001b[0m\n\u001b[1;32m   1004\u001b[0m \u001b[0;34m\u001b[0m\u001b[0m\n\u001b[1;32m   1005\u001b[0m         \u001b[0;32mwith\u001b[0m \u001b[0mcbook\u001b[0m\u001b[0;34m.\u001b[0m\u001b[0m_setattr_cm\u001b[0m\u001b[0;34m(\u001b[0m\u001b[0mself\u001b[0m\u001b[0;34m,\u001b[0m \u001b[0meventson\u001b[0m\u001b[0;34m=\u001b[0m\u001b[0;32mFalse\u001b[0m\u001b[0;34m)\u001b[0m\u001b[0;34m:\u001b[0m\u001b[0;34m\u001b[0m\u001b[0;34m\u001b[0m\u001b[0m\n\u001b[0;32m-> 1006\u001b[0;31m             \u001b[0mret\u001b[0m \u001b[0;34m=\u001b[0m \u001b[0;34m[\u001b[0m\u001b[0m_update_property\u001b[0m\u001b[0;34m(\u001b[0m\u001b[0mself\u001b[0m\u001b[0;34m,\u001b[0m \u001b[0mk\u001b[0m\u001b[0;34m,\u001b[0m \u001b[0mv\u001b[0m\u001b[0;34m)\u001b[0m \u001b[0;32mfor\u001b[0m \u001b[0mk\u001b[0m\u001b[0;34m,\u001b[0m \u001b[0mv\u001b[0m \u001b[0;32min\u001b[0m \u001b[0mprops\u001b[0m\u001b[0;34m.\u001b[0m\u001b[0mitems\u001b[0m\u001b[0;34m(\u001b[0m\u001b[0;34m)\u001b[0m\u001b[0;34m]\u001b[0m\u001b[0;34m\u001b[0m\u001b[0;34m\u001b[0m\u001b[0m\n\u001b[0m\u001b[1;32m   1007\u001b[0m \u001b[0;34m\u001b[0m\u001b[0m\n\u001b[1;32m   1008\u001b[0m         \u001b[0;32mif\u001b[0m \u001b[0mlen\u001b[0m\u001b[0;34m(\u001b[0m\u001b[0mret\u001b[0m\u001b[0;34m)\u001b[0m\u001b[0;34m:\u001b[0m\u001b[0;34m\u001b[0m\u001b[0;34m\u001b[0m\u001b[0m\n",
      "\u001b[0;32m/Library/Frameworks/Python.framework/Versions/3.6/lib/python3.6/site-packages/matplotlib/artist.py\u001b[0m in \u001b[0;36m_update_property\u001b[0;34m(self, k, v)\u001b[0m\n\u001b[1;32m   1000\u001b[0m                 \u001b[0;32mif\u001b[0m \u001b[0;32mnot\u001b[0m \u001b[0mcallable\u001b[0m\u001b[0;34m(\u001b[0m\u001b[0mfunc\u001b[0m\u001b[0;34m)\u001b[0m\u001b[0;34m:\u001b[0m\u001b[0;34m\u001b[0m\u001b[0;34m\u001b[0m\u001b[0m\n\u001b[1;32m   1001\u001b[0m                     raise AttributeError('{!r} object has no property {!r}'\n\u001b[0;32m-> 1002\u001b[0;31m                                          .format(type(self).__name__, k))\n\u001b[0m\u001b[1;32m   1003\u001b[0m                 \u001b[0;32mreturn\u001b[0m \u001b[0mfunc\u001b[0m\u001b[0;34m(\u001b[0m\u001b[0mv\u001b[0m\u001b[0;34m)\u001b[0m\u001b[0;34m\u001b[0m\u001b[0;34m\u001b[0m\u001b[0m\n\u001b[1;32m   1004\u001b[0m \u001b[0;34m\u001b[0m\u001b[0m\n",
      "\u001b[0;31mAttributeError\u001b[0m: 'Rectangle' object has no property 'colors'"
     ]
    },
    {
     "data": {
      "image/png": "[encoded data removed]",
      "text/plain": [
       "<Figure size 432x288 with 1 Axes>"
      ]
     },
     "metadata": {
      "needs_background": "light"
     },
     "output_type": "display_data"
    }
   ],
   "source": [
    "colors = [ '#66CDAA',  '#6495ED']\n",
    "\n",
    "\n",
    "df_class_1_over = df_class_1.sample(count_class_0, replace=True)\n",
    "df_test_over = pd.concat([df_class_0, df_class_1_over], axis=0)\n",
    "\n",
    "print('Random over-sampling:')\n",
    "print(df_test_over.Claim.value_counts())\n",
    "\n",
    "df_test_over.Claim.value_counts().plot(kind='bar', title='Count (target)',colors=colors);"
   ]
  },
  {
   "cell_type": "code",
   "execution_count": 50,
   "metadata": {
    "colab": {
     "base_uri": "https://localhost:8080/",
     "height": 225
    },
    "colab_type": "code",
    "executionInfo": {
     "elapsed": 4866,
     "status": "ok",
     "timestamp": 1584954989796,
     "user": {
      "displayName": "Mahmoud K. Shoush",
      "photoUrl": "https://lh3.googleusercontent.com/a-/AOh14Gg9UiBaJaGnafDynGv5Ght5Z18MwCGvDUW8ttd2=s64",
      "userId": "05621694697917066197"
     },
     "user_tz": -120
    },
    "id": "p5Ur-J0Rk3Nk",
    "outputId": "ee375671-3d5b-407d-ad0c-b22be09ada17",
    "scrolled": true
   },
   "outputs": [
    {
     "data": {
      "text/plain": [
       "8        0\n",
       "9        0\n",
       "10       0\n",
       "11       0\n",
       "13       0\n",
       "        ..\n",
       "10090    1\n",
       "3099     1\n",
       "12167    1\n",
       "9428     1\n",
       "15052    1\n",
       "Name: Claim, Length: 35334, dtype: int64"
      ]
     },
     "execution_count": 50,
     "metadata": {},
     "output_type": "execute_result"
    }
   ],
   "source": [
    "#Convertin the predictor variable in a binary numeric variable\n",
    "df_test_over['Claim'].replace(to_replace='Yes', value=1, inplace=True)\n",
    "df_test_over['Claim'].replace(to_replace='No',  value=0, inplace=True)\n",
    "df_test_over.head()\n",
    "\n",
    "Feature = df_test_over[['Duration', 'Distribution.Channel', 'Net.Sales',  'Age']]\n",
    "Feature = pd.concat([Feature,pd.get_dummies(df_test_over['Distribution.Channel'])], axis=1)\n",
    "X = Feature[['Duration', 'Net.Sales', 'Age', 'Offline','Online']]\n",
    "X\n",
    "\n",
    "from sklearn import preprocessing\n",
    "X = preprocessing.StandardScaler().fit(X).transform(X)\n",
    "X[0:5]\n",
    "\n",
    "# Target label, \n",
    "y = df_test_over['Claim']\n",
    "y\n"
   ]
  },
  {
   "cell_type": "code",
   "execution_count": 51,
   "metadata": {
    "colab": {
     "base_uri": "https://localhost:8080/",
     "height": 34
    },
    "colab_type": "code",
    "executionInfo": {
     "elapsed": 4844,
     "status": "ok",
     "timestamp": 1584954989797,
     "user": {
      "displayName": "Mahmoud K. Shoush",
      "photoUrl": "https://lh3.googleusercontent.com/a-/AOh14Gg9UiBaJaGnafDynGv5Ght5Z18MwCGvDUW8ttd2=s64",
      "userId": "05621694697917066197"
     },
     "user_tz": -120
    },
    "id": "QgEgv8C1k3Nx",
    "outputId": "f68fe23a-820d-4a20-e622-86ffaf2b2b20"
   },
   "outputs": [
    {
     "name": "stdout",
     "output_type": "stream",
     "text": [
      "Accuracy: 89.88%\n"
     ]
    }
   ],
   "source": [
    "from xgboost import XGBClassifier\n",
    "from sklearn.model_selection import train_test_split\n",
    "from sklearn.metrics import accuracy_score\n",
    "\n",
    "X_train, X_test, y_train, y_test = train_test_split(X, y, test_size=0.3, random_state=3)\n",
    "\n",
    "model = XGBClassifier()\n",
    "model.fit(X_train, y_train)\n",
    "y_pred = model.predict(X_test)\n",
    "\n",
    "accuracy = accuracy_score(y_test, y_pred)\n",
    "print(\"Accuracy: %.2f%%\" % (accuracy * 100.0))\n"
   ]
  },
  {
   "cell_type": "code",
   "execution_count": 52,
   "metadata": {
    "colab": {},
    "colab_type": "code",
    "id": "8umCrNG8k3N-"
   },
   "outputs": [],
   "source": [
    "# from sklearn.metrics import confusion_matrix\n",
    "# from matplotlib import pyplot as plt\n",
    "\n",
    "# conf_mat = confusion_matrix(y_true=y_test, y_pred=y_pred)\n",
    "# print('Confusion matrix:\\n', conf_mat)\n",
    "\n",
    "# labels = ['Class 0', 'Class 1']\n",
    "# fig = plt.figure()\n",
    "# ax = fig.add_subplot(111)\n",
    "# cax = ax.matshow(conf_mat, cmap=plt.cm.Blues)\n",
    "# fig.colorbar(cax)\n",
    "# ax.set_xticklabels([''] + labels)\n",
    "# ax.set_yticklabels([''] + labels)\n",
    "# plt.xlabel('Predicted')\n",
    "# plt.ylabel('Expected')\n",
    "# plt.show()"
   ]
  },
  {
   "cell_type": "markdown",
   "metadata": {
    "colab_type": "text",
    "id": "cJBvazwMk3OR"
   },
   "source": [
    "Since we get better results with over sampling data set we will contiune this practice session using it."
   ]
  },
  {
   "cell_type": "markdown",
   "metadata": {
    "colab_type": "text",
    "id": "RcKGsMv_k3OT"
   },
   "source": [
    "Classification Metrics: \n",
    "1. Accuracy\n",
    "2. Confusion Matrix\n",
    "3. Precision / Recall\n",
    "4. F1 score\n",
    "5. AUC\n",
    "6. LogLoss\n",
    "7. KFold\n"
   ]
  },
  {
   "cell_type": "markdown",
   "metadata": {
    "colab_type": "text",
    "id": "tYz2pJIjk3OX"
   },
   "source": [
    "## 2. Confusion matrix:\n",
    "\n",
    "1. A **confusion matrix**, on the other hand, will make the distinction between the number of samples that were correctly classified as non terrorists and those that were correctly classified as terrorists. A confusion matrix is split into 4 quadrants.\n",
    "\n",
    "    * `True Positive:`\n",
    "        * Interpretation: You predicted positive and it’s true.\n",
    "        * You predicted that the person is a terrorist and they actually are.\n",
    "\n",
    "    * `True Negative:`\n",
    "        * Interpretation: You predicted negative and it’s true.\n",
    "        * You predicted that the person is not a terrorist and they’re actually are not.\n",
    "\n",
    "    * `False Positive: (Type 1 Error)`\n",
    "        * Interpretation: You predicted positive and it’s false.\n",
    "        * You predicted that the person is a terrorist but they actually are not.\n",
    "\n",
    "    * `False Negative: (Type 2 Error)`\n",
    "        * Interpretation: You predicted negative and it’s false.\n",
    "        * You predicted that the person is not a terrorist but they actually are."
   ]
  },
  {
   "cell_type": "code",
   "execution_count": 54,
   "metadata": {
    "colab": {
     "base_uri": "https://localhost:8080/",
     "height": 334
    },
    "colab_type": "code",
    "executionInfo": {
     "elapsed": 5622,
     "status": "ok",
     "timestamp": 1584954990609,
     "user": {
      "displayName": "Mahmoud K. Shoush",
      "photoUrl": "https://lh3.googleusercontent.com/a-/AOh14Gg9UiBaJaGnafDynGv5Ght5Z18MwCGvDUW8ttd2=s64",
      "userId": "05621694697917066197"
     },
     "user_tz": -120
    },
    "id": "3VOzkMIck3Oa",
    "outputId": "27eaa74a-0992-41ac-9433-bda4249f33f1"
   },
   "outputs": [
    {
     "name": "stdout",
     "output_type": "stream",
     "text": [
      "Confusion matrix:\n",
      " [[4596  746]\n",
      " [ 327 4932]]\n"
     ]
    },
    {
     "data": {
      "image/png": "[encoded data removed]",
      "text/plain": [
       "<Figure size 432x288 with 2 Axes>"
      ]
     },
     "metadata": {
      "needs_background": "light"
     },
     "output_type": "display_data"
    }
   ],
   "source": [
    "from sklearn.metrics import confusion_matrix\n",
    "from matplotlib import pyplot as plt\n",
    "\n",
    "conf_mat = confusion_matrix(y_true=y_test, y_pred=y_pred)\n",
    "print('Confusion matrix:\\n', conf_mat)\n",
    "\n",
    "labels = ['Class 0', 'Class 1']\n",
    "fig = plt.figure()\n",
    "ax = fig.add_subplot(111)\n",
    "cax = ax.matshow(conf_mat, cmap=plt.cm.Blues)\n",
    "fig.colorbar(cax)\n",
    "ax.set_xticklabels([''] + labels)\n",
    "ax.set_yticklabels([''] + labels)\n",
    "plt.xlabel('Predicted')\n",
    "plt.ylabel('Expected')\n",
    "plt.show()"
   ]
  },
  {
   "cell_type": "markdown",
   "metadata": {
    "colab_type": "text",
    "id": "ZmtGCkbfk3Op"
   },
   "source": [
    "## 3. Precision / Recall\n",
    "\n",
    "* Sometimes, it’s easier to evaluate a model’s performance using numbers rather than relying on a library to visualize a confusion matrix.\n",
    "\n",
    "\n",
    "* In the real world, you’ll encounter classification problems where the dividing line forces you to select between having a `high precision` or a `high recall`. \n",
    "\n",
    "\n",
    "* In certain circumstances, it’s better to have `a high precision`. For example, a diagnosis might be better off with `a few false positives` rather than let anyone with the actual disease slip through the cracks and avoid getting treated. \n",
    "\n",
    "* Other times, it’s better to have `a higher recall` as is the case in spam filters. It’s more acceptable to have a few spam emails in the user’s inbox than it is to classify important emails as junk. \n",
    "\n",
    "\n",
    "* We can represent the tradeoff between precision and recall graphically in order to form a better judgement."
   ]
  },
  {
   "cell_type": "code",
   "execution_count": 94,
   "metadata": {
    "colab": {
     "base_uri": "https://localhost:8080/",
     "height": 357
    },
    "colab_type": "code",
    "executionInfo": {
     "elapsed": 5602,
     "status": "ok",
     "timestamp": 1584954990610,
     "user": {
      "displayName": "Mahmoud K. Shoush",
      "photoUrl": "https://lh3.googleusercontent.com/a-/AOh14Gg9UiBaJaGnafDynGv5Ght5Z18MwCGvDUW8ttd2=s64",
      "userId": "05621694697917066197"
     },
     "user_tz": -120
    },
    "id": "58Ms-7rAk3Ou",
    "outputId": "954b821d-9dd9-40c8-efe3-d30dc3aa057d"
   },
   "outputs": [
    {
     "data": {
      "image/png": "[encoded data removed]",
      "text/plain": [
       "<IPython.core.display.Image object>"
      ]
     },
     "execution_count": 94,
     "metadata": {
      "tags": []
     },
     "output_type": "execute_result"
    }
   ],
   "source": [
    "from IPython.display import Image\n",
    "Image(filename='pre_rec.png') \n",
    "\n",
    "# source: https://www.kaggle.com/rafjaa/resampling-strategies-for-imbalanced-datasets"
   ]
  },
  {
   "cell_type": "code",
   "execution_count": 55,
   "metadata": {
    "colab": {
     "base_uri": "https://localhost:8080/",
     "height": 334
    },
    "colab_type": "code",
    "executionInfo": {
     "elapsed": 5578,
     "status": "ok",
     "timestamp": 1584954990613,
     "user": {
      "displayName": "Mahmoud K. Shoush",
      "photoUrl": "https://lh3.googleusercontent.com/a-/AOh14Gg9UiBaJaGnafDynGv5Ght5Z18MwCGvDUW8ttd2=s64",
      "userId": "05621694697917066197"
     },
     "user_tz": -120
    },
    "id": "N2HMGH8Gk3O8",
    "outputId": "1ead62c7-fd68-40fe-8cc1-4065e4cfc389"
   },
   "outputs": [
    {
     "name": "stdout",
     "output_type": "stream",
     "text": [
      "Average precision-recall score: 0.85\n"
     ]
    },
    {
     "data": {
      "text/plain": [
       "<matplotlib.legend.Legend at 0x11f366f60>"
      ]
     },
     "execution_count": 55,
     "metadata": {},
     "output_type": "execute_result"
    },
    {
     "data": {
      "image/png": "[encoded data removed]",
      "text/plain": [
       "<Figure size 432x288 with 1 Axes>"
      ]
     },
     "metadata": {
      "needs_background": "light"
     },
     "output_type": "display_data"
    }
   ],
   "source": [
    "from sklearn.metrics import precision_recall_curve\n",
    "from sklearn.metrics import plot_precision_recall_curve\n",
    "import matplotlib.pyplot as plt\n",
    "from sklearn.metrics import average_precision_score\n",
    "\n",
    "average_precision = average_precision_score(y_test, y_pred)\n",
    "\n",
    "print('Average precision-recall score: {0:0.2f}'.format(\n",
    "      average_precision))\n",
    "\n",
    "disp = plot_precision_recall_curve(model, X_test, y_test,label=\"AP= \"+str(average_precision))\n",
    "disp.ax_.set_title('2-class Precision-Recall curve: '\n",
    "                   'AP={0:0.2f}'.format(average_precision))\n",
    "plt.legend()"
   ]
  },
  {
   "cell_type": "markdown",
   "metadata": {
    "colab_type": "text",
    "id": "4asDtlfYk3PH"
   },
   "source": [
    "## 4. F1 Score\n",
    "\n",
    "* Going back to our example of the spam detector. If the precision is equal to 100% and the recall is equal to 0% then the `harmonic mean` is equal to 0%. We call this value the `F1 Score`."
   ]
  },
  {
   "cell_type": "markdown",
   "metadata": {
    "colab_type": "text",
    "id": "ztSamsBMk3PK"
   },
   "source": [
    "* Rather than measure recall and then precision every time, it would be easier if we could use a single score. At first, we might try taking the average of the two results.\n",
    "\n",
    "    * For example, say a spam detector had a precision of 80% and a recall of 37% then the average would be 58.5%. Now, say we built spam detector that didn’t treat any emails as spam (analogous to the terrorist example). In the event there are significantly more emails that aren’t spam than spam, our model will be interpreted as having an ok performance.\n",
    "    \n",
    "        * To elaborate, if 300,000 emails are ham (not spam) and 500 are spam then a model that classified all emails as ham would obtain `a precision of 100% since it correctly classified all ham` and a `recall of 0% since it incorrectly classified all spam`.\n",
    "        \n",
    "    * If we took the average, we’d still get 50% which is somewhat misleading since the entire purpose of the spam detector is to detect spam.\n",
    "\n",
    "\n",
    "* It’s for the preceding reason that we make use of the harmonic mean instead of the arithmetic mean to compute the average. The harmonic mean is always closer to the smaller number than the higher number."
   ]
  },
  {
   "cell_type": "code",
   "execution_count": 96,
   "metadata": {
    "colab": {
     "base_uri": "https://localhost:8080/",
     "height": 784
    },
    "colab_type": "code",
    "executionInfo": {
     "elapsed": 5546,
     "status": "ok",
     "timestamp": 1584954990616,
     "user": {
      "displayName": "Mahmoud K. Shoush",
      "photoUrl": "https://lh3.googleusercontent.com/a-/AOh14Gg9UiBaJaGnafDynGv5Ght5Z18MwCGvDUW8ttd2=s64",
      "userId": "05621694697917066197"
     },
     "user_tz": -120
    },
    "id": "LUq7cZf0k3PM",
    "outputId": "29500bcb-7680-4d4c-e152-6d64b4c4d91f"
   },
   "outputs": [
    {
     "data": {
      "image/png": "[encoded data removed]",
      "text/plain": [
       "<IPython.core.display.Image object>"
      ]
     },
     "execution_count": 96,
     "metadata": {
      "tags": []
     },
     "output_type": "execute_result"
    }
   ],
   "source": [
    "from IPython.display import Image\n",
    "Image(filename='fscore.png') \n",
    "\n",
    "# source: https://www.kaggle.com/rafjaa/resampling-strategies-for-imbalanced-datasets"
   ]
  },
  {
   "cell_type": "code",
   "execution_count": 56,
   "metadata": {
    "colab": {
     "base_uri": "https://localhost:8080/",
     "height": 104
    },
    "colab_type": "code",
    "executionInfo": {
     "elapsed": 5520,
     "status": "ok",
     "timestamp": 1584954990617,
     "user": {
      "displayName": "Mahmoud K. Shoush",
      "photoUrl": "https://lh3.googleusercontent.com/a-/AOh14Gg9UiBaJaGnafDynGv5Ght5Z18MwCGvDUW8ttd2=s64",
      "userId": "05621694697917066197"
     },
     "user_tz": -120
    },
    "id": "KSOoBFf_k3Pl",
    "outputId": "1e377288-3f25-4d5f-d4a3-cd67e95533f7"
   },
   "outputs": [
    {
     "name": "stdout",
     "output_type": "stream",
     "text": [
      "F1_score macro: 0.8986813508941816\n",
      "\n",
      "F1_score micro: 0.8987831336666352\n",
      "\n",
      "F1_score weighted: 0.8986562081259862\n"
     ]
    }
   ],
   "source": [
    "from sklearn.metrics import f1_score\n",
    "\n",
    "print(f\"F1_score macro: {f1_score(y_test, y_pred, average='macro')}\")\n",
    "print(f\"\\nF1_score micro: {f1_score(y_test, y_pred, average='micro')}\")\n",
    "print(f\"\\nF1_score weighted: {f1_score(y_test, y_pred, average='weighted')}\")\n"
   ]
  },
  {
   "cell_type": "markdown",
   "metadata": {
    "colab_type": "text",
    "id": "22Sb4fenk3Pw"
   },
   "source": [
    "## 5. ROC / AUC\n",
    "\n",
    "* Similarly to the precision/recall curve, the Receiver Operator Characteristic (ROC) graph provides an elegant way of presenting multiple confusion matrices produced at different thresholds. A ROC plots the relationship between the `true positive rate and the false positive rate.`"
   ]
  },
  {
   "cell_type": "markdown",
   "metadata": {
    "colab_type": "text",
    "id": "mg6g3a4gk3Pz"
   },
   "source": [
    "1. **True positive rate =** `Recall` = `Sensitivity` = true positive / (true positive + false negative)\n",
    "2. **False positive rate =** 1 – `specificity` = false positive / (false positive + true negative)"
   ]
  },
  {
   "cell_type": "code",
   "execution_count": 98,
   "metadata": {
    "colab": {
     "base_uri": "https://localhost:8080/",
     "height": 491
    },
    "colab_type": "code",
    "executionInfo": {
     "elapsed": 5498,
     "status": "ok",
     "timestamp": 1584954990618,
     "user": {
      "displayName": "Mahmoud K. Shoush",
      "photoUrl": "https://lh3.googleusercontent.com/a-/AOh14Gg9UiBaJaGnafDynGv5Ght5Z18MwCGvDUW8ttd2=s64",
      "userId": "05621694697917066197"
     },
     "user_tz": -120
    },
    "id": "ugUTx-eqk3P1",
    "outputId": "73e02eba-19a2-4d6e-b9a4-0ef6ef99c0a2"
   },
   "outputs": [
    {
     "data": {
      "image/png": "[encoded data removed]",
      "text/plain": [
       "<IPython.core.display.Image object>"
      ]
     },
     "execution_count": 98,
     "metadata": {
      "tags": []
     },
     "output_type": "execute_result"
    }
   ],
   "source": [
    "from IPython.display import Image\n",
    "Image(filename='auc.png') \n",
    "\n",
    "# source: https://www.kaggle.com/rafjaa/resampling-strategies-for-imbalanced-datasets"
   ]
  },
  {
   "cell_type": "markdown",
   "metadata": {
    "colab_type": "text",
    "id": "W8jfgdZ7k3P-"
   },
   "source": [
    "* It’s important to note that the false positive rate is 1 minus the specificity which means that the closer the false positive rate is to 0 the higher the `specificity (recall)`. Therefore, `to obtain the optimal values for specificity and sensitivity, we’ll want to select a point in the top left corner.`\n",
    "\n",
    "* On the other hand, the `Area Under the Curve (AUC)` makes it easy to compare one ROC curve to another. the model associated with the red curve achieves a higher sensitivity for the same amount of specificity."
   ]
  },
  {
   "cell_type": "code",
   "execution_count": 57,
   "metadata": {
    "colab": {
     "base_uri": "https://localhost:8080/",
     "height": 423
    },
    "colab_type": "code",
    "executionInfo": {
     "elapsed": 5470,
     "status": "ok",
     "timestamp": 1584954990621,
     "user": {
      "displayName": "Mahmoud K. Shoush",
      "photoUrl": "https://lh3.googleusercontent.com/a-/AOh14Gg9UiBaJaGnafDynGv5Ght5Z18MwCGvDUW8ttd2=s64",
      "userId": "05621694697917066197"
     },
     "user_tz": -120
    },
    "id": "ot3n-bIHk3QB",
    "outputId": "e0b16cba-b202-4d14-8948-01b9dfbaadfd"
   },
   "outputs": [
    {
     "data": {
      "text/html": [
       "<div>\n",
       "<style scoped>\n",
       "    .dataframe tbody tr th:only-of-type {\n",
       "        vertical-align: middle;\n",
       "    }\n",
       "\n",
       "    .dataframe tbody tr th {\n",
       "        vertical-align: top;\n",
       "    }\n",
       "\n",
       "    .dataframe thead th {\n",
       "        text-align: right;\n",
       "    }\n",
       "</style>\n",
       "<table border=\"1\" class=\"dataframe\">\n",
       "  <thead>\n",
       "    <tr style=\"text-align: right;\">\n",
       "      <th></th>\n",
       "      <th>0</th>\n",
       "      <th>1</th>\n",
       "    </tr>\n",
       "  </thead>\n",
       "  <tbody>\n",
       "    <tr>\n",
       "      <th>0</th>\n",
       "      <td>0.845302</td>\n",
       "      <td>0.154698</td>\n",
       "    </tr>\n",
       "    <tr>\n",
       "      <th>1</th>\n",
       "      <td>0.963624</td>\n",
       "      <td>0.036376</td>\n",
       "    </tr>\n",
       "    <tr>\n",
       "      <th>2</th>\n",
       "      <td>0.109360</td>\n",
       "      <td>0.890640</td>\n",
       "    </tr>\n",
       "    <tr>\n",
       "      <th>3</th>\n",
       "      <td>0.232874</td>\n",
       "      <td>0.767126</td>\n",
       "    </tr>\n",
       "    <tr>\n",
       "      <th>4</th>\n",
       "      <td>0.227918</td>\n",
       "      <td>0.772082</td>\n",
       "    </tr>\n",
       "    <tr>\n",
       "      <th>...</th>\n",
       "      <td>...</td>\n",
       "      <td>...</td>\n",
       "    </tr>\n",
       "    <tr>\n",
       "      <th>10596</th>\n",
       "      <td>0.801724</td>\n",
       "      <td>0.198276</td>\n",
       "    </tr>\n",
       "    <tr>\n",
       "      <th>10597</th>\n",
       "      <td>0.644010</td>\n",
       "      <td>0.355990</td>\n",
       "    </tr>\n",
       "    <tr>\n",
       "      <th>10598</th>\n",
       "      <td>0.646312</td>\n",
       "      <td>0.353688</td>\n",
       "    </tr>\n",
       "    <tr>\n",
       "      <th>10599</th>\n",
       "      <td>0.877687</td>\n",
       "      <td>0.122313</td>\n",
       "    </tr>\n",
       "    <tr>\n",
       "      <th>10600</th>\n",
       "      <td>0.974160</td>\n",
       "      <td>0.025840</td>\n",
       "    </tr>\n",
       "  </tbody>\n",
       "</table>\n",
       "<p>10601 rows × 2 columns</p>\n",
       "</div>"
      ],
      "text/plain": [
       "              0         1\n",
       "0      0.845302  0.154698\n",
       "1      0.963624  0.036376\n",
       "2      0.109360  0.890640\n",
       "3      0.232874  0.767126\n",
       "4      0.227918  0.772082\n",
       "...         ...       ...\n",
       "10596  0.801724  0.198276\n",
       "10597  0.644010  0.355990\n",
       "10598  0.646312  0.353688\n",
       "10599  0.877687  0.122313\n",
       "10600  0.974160  0.025840\n",
       "\n",
       "[10601 rows x 2 columns]"
      ]
     },
     "execution_count": 57,
     "metadata": {},
     "output_type": "execute_result"
    }
   ],
   "source": [
    "probs = model.predict_proba(X_test)\n",
    "pd.DataFrame(probs)"
   ]
  },
  {
   "cell_type": "markdown",
   "metadata": {
    "colab_type": "text",
    "id": "nTbe63Cgk3QL"
   },
   "source": [
    "The `roc_curve` method expects a single feature. Therefore, we take the predicted probabilities that a tumor is malignant."
   ]
  },
  {
   "cell_type": "code",
   "execution_count": 58,
   "metadata": {
    "colab": {},
    "colab_type": "code",
    "id": "pDUz5TUIk3QO"
   },
   "outputs": [],
   "source": [
    "import pandas as pd\n",
    "from matplotlib import pyplot as plt\n",
    "plt.style.use('ggplot')\n",
    "from sklearn.datasets import load_breast_cancer\n",
    "from sklearn.ensemble import RandomForestClassifier\n",
    "from sklearn.model_selection import train_test_split\n",
    "from sklearn.preprocessing import LabelEncoder\n",
    "from sklearn.metrics import roc_curve\n",
    "from sklearn.metrics import auc\n",
    "from sklearn.metrics import precision_recall_curve\n",
    "from sklearn.metrics import precision_score\n",
    "from sklearn.metrics import recall_score\n",
    "from sklearn.metrics import f1_score\n",
    "from sklearn.metrics import average_precision_score\n",
    "from inspect import signature"
   ]
  },
  {
   "cell_type": "code",
   "execution_count": 59,
   "metadata": {
    "colab": {},
    "colab_type": "code",
    "id": "G_aJatmvk3QW"
   },
   "outputs": [],
   "source": [
    "class_1_probs = probs[:,1]\n",
    "fpr, tpr, thresholds = roc_curve(y_test, class_1_probs)\n",
    "roc_auc = auc(fpr, tpr)"
   ]
  },
  {
   "cell_type": "code",
   "execution_count": 60,
   "metadata": {
    "colab": {
     "base_uri": "https://localhost:8080/",
     "height": 299
    },
    "colab_type": "code",
    "executionInfo": {
     "elapsed": 5425,
     "status": "ok",
     "timestamp": 1584954990628,
     "user": {
      "displayName": "Mahmoud K. Shoush",
      "photoUrl": "https://lh3.googleusercontent.com/a-/AOh14Gg9UiBaJaGnafDynGv5Ght5Z18MwCGvDUW8ttd2=s64",
      "userId": "05621694697917066197"
     },
     "user_tz": -120
    },
    "id": "DkYGXqzyk3Qe",
    "outputId": "7e5999cb-6853-4153-be8c-fba5f3926092"
   },
   "outputs": [
    {
     "data": {
      "image/png": "[encoded data removed]",
      "text/plain": [
       "<Figure size 432x288 with 1 Axes>"
      ]
     },
     "metadata": {},
     "output_type": "display_data"
    }
   ],
   "source": [
    "plt.title('Receiver Operating Characteristic')\n",
    "plt.plot(fpr, tpr, 'y', label = 'AUC = %0.2f' % roc_auc, )\n",
    "plt.legend(loc = 'lower right')\n",
    "plt.plot([0, 1], [0, 1],'r--')\n",
    "plt.xlim([0, 1])\n",
    "plt.ylim([0, 1])\n",
    "plt.ylabel('True Positive Rate')\n",
    "plt.xlabel('False Positive Rate')\n",
    "plt.show()"
   ]
  },
  {
   "cell_type": "markdown",
   "metadata": {
    "colab_type": "text",
    "id": "XxtKOsp_k3Qn"
   },
   "source": [
    "As a quick reminder, precision measures true positives over true positives plus false positives."
   ]
  },
  {
   "cell_type": "code",
   "execution_count": 61,
   "metadata": {
    "colab": {
     "base_uri": "https://localhost:8080/",
     "height": 34
    },
    "colab_type": "code",
    "executionInfo": {
     "elapsed": 5402,
     "status": "ok",
     "timestamp": 1584954990629,
     "user": {
      "displayName": "Mahmoud K. Shoush",
      "photoUrl": "https://lh3.googleusercontent.com/a-/AOh14Gg9UiBaJaGnafDynGv5Ght5Z18MwCGvDUW8ttd2=s64",
      "userId": "05621694697917066197"
     },
     "user_tz": -120
    },
    "id": "NGTpKJ-lk3Qp",
    "outputId": "09f6c057-86b4-43b7-9552-b17d2c6e937e"
   },
   "outputs": [
    {
     "data": {
      "text/plain": [
       "0.8686157097569567"
      ]
     },
     "execution_count": 61,
     "metadata": {},
     "output_type": "execute_result"
    }
   ],
   "source": [
    "precision_score(y_test, y_pred)"
   ]
  },
  {
   "cell_type": "markdown",
   "metadata": {
    "colab_type": "text",
    "id": "VnfNWJm_k3Qy"
   },
   "source": [
    "Recall measures true positives over true positives plus false negatives."
   ]
  },
  {
   "cell_type": "code",
   "execution_count": 62,
   "metadata": {
    "colab": {
     "base_uri": "https://localhost:8080/",
     "height": 34
    },
    "colab_type": "code",
    "executionInfo": {
     "elapsed": 5772,
     "status": "ok",
     "timestamp": 1584954991019,
     "user": {
      "displayName": "Mahmoud K. Shoush",
      "photoUrl": "https://lh3.googleusercontent.com/a-/AOh14Gg9UiBaJaGnafDynGv5Ght5Z18MwCGvDUW8ttd2=s64",
      "userId": "05621694697917066197"
     },
     "user_tz": -120
    },
    "id": "TIqZmiaBk3Q0",
    "outputId": "605eed5e-9d9e-4592-b021-b46661828279"
   },
   "outputs": [
    {
     "data": {
      "text/plain": [
       "0.9378208784940103"
      ]
     },
     "execution_count": 62,
     "metadata": {},
     "output_type": "execute_result"
    }
   ],
   "source": [
    "recall_score(y_test, y_pred)"
   ]
  },
  {
   "cell_type": "markdown",
   "metadata": {
    "colab_type": "text",
    "id": "j0ndgThlk3RJ"
   },
   "source": [
    "The F1 score combines precision and recall using the harmonic mean."
   ]
  },
  {
   "cell_type": "code",
   "execution_count": 63,
   "metadata": {
    "colab": {
     "base_uri": "https://localhost:8080/",
     "height": 34
    },
    "colab_type": "code",
    "executionInfo": {
     "elapsed": 5752,
     "status": "ok",
     "timestamp": 1584954991022,
     "user": {
      "displayName": "Mahmoud K. Shoush",
      "photoUrl": "https://lh3.googleusercontent.com/a-/AOh14Gg9UiBaJaGnafDynGv5Ght5Z18MwCGvDUW8ttd2=s64",
      "userId": "05621694697917066197"
     },
     "user_tz": -120
    },
    "id": "wKqSoNack3RL",
    "outputId": "3869920e-255a-472b-9759-2fd016d8f71b"
   },
   "outputs": [
    {
     "data": {
      "text/plain": [
       "0.9018926579500777"
      ]
     },
     "execution_count": 63,
     "metadata": {},
     "output_type": "execute_result"
    }
   ],
   "source": [
    "f1_score(y_test, y_pred)"
   ]
  },
  {
   "cell_type": "markdown",
   "metadata": {
    "colab_type": "text",
    "id": "X8tzI3G2k3RU"
   },
   "source": [
    "Selecting the number of thresholds which correspond to the top right corner will result in the best combination of precision and recall."
   ]
  },
  {
   "cell_type": "code",
   "execution_count": 64,
   "metadata": {
    "colab": {
     "base_uri": "https://localhost:8080/",
     "height": 316
    },
    "colab_type": "code",
    "executionInfo": {
     "elapsed": 5734,
     "status": "ok",
     "timestamp": 1584954991024,
     "user": {
      "displayName": "Mahmoud K. Shoush",
      "photoUrl": "https://lh3.googleusercontent.com/a-/AOh14Gg9UiBaJaGnafDynGv5Ght5Z18MwCGvDUW8ttd2=s64",
      "userId": "05621694697917066197"
     },
     "user_tz": -120
    },
    "id": "YOiXf_1Qk3RW",
    "outputId": "ad19d46c-d96a-4d3a-c90f-9b1df642bf72"
   },
   "outputs": [
    {
     "data": {
      "text/plain": [
       "Text(0.5, 1.0, '2-class Precision-Recall curve: AP=0.85')"
      ]
     },
     "execution_count": 64,
     "metadata": {},
     "output_type": "execute_result"
    },
    {
     "data": {
      "image/png": "[encoded data removed]",
      "text/plain": [
       "<Figure size 432x288 with 1 Axes>"
      ]
     },
     "metadata": {},
     "output_type": "display_data"
    }
   ],
   "source": [
    "precision, recall, threshold = precision_recall_curve(y_test, y_pred)\n",
    "average_precision = average_precision_score(y_test, y_pred)\n",
    "step_kwargs = ({'step': 'post'} if 'step' in signature(plt.fill_between).parameters else {})\n",
    "plt.step(recall, precision, color='r', alpha=0.2, where='post')\n",
    "plt.fill_between(recall, precision, alpha=0.2, color='r', **step_kwargs)\n",
    "plt.xlabel('Recall')\n",
    "plt.ylabel('Precision')\n",
    "plt.ylim([0.0, 1.0])\n",
    "plt.xlim([0.0, 1.0])\n",
    "plt.title('2-class Precision-Recall curve: AP={0:0.2f}'.format(average_precision))"
   ]
  },
  {
   "cell_type": "markdown",
   "metadata": {
    "colab_type": "text",
    "id": "qvDRWbJ2k3Re"
   },
   "source": [
    "## 6. Log Loss Score\n",
    "\n",
    "https://towardsdatascience.com/understanding-binary-cross-entropy-log-loss-a-visual-explanation-a3ac6025181a\n",
    "\n",
    "* **Log loss**, also called `logistic loss` `logarithmic loss,` or `cross entropy` can be used as a measure for evaluating predicted probabilities.\n",
    "\n",
    "\n",
    "* Each predicted probability is compared to the actual class output value (0 or 1) and a score is calculated that penalizes the probability based on the distance from the expected value. The penalty is logarithmic, offering a small score for small differences (0.1 or 0.2) and enormous score for a large difference (0.9 or 1.0).\n",
    "\n",
    "* A model with perfect skill has a log loss score of `0.0.`\n",
    "\n",
    "\n",
    "* In order to summarize the skill of a model using log loss, the log loss is calculated for each predicted probability, and the average loss is reported."
   ]
  },
  {
   "cell_type": "code",
   "execution_count": 65,
   "metadata": {
    "colab": {
     "base_uri": "https://localhost:8080/",
     "height": 34
    },
    "colab_type": "code",
    "executionInfo": {
     "elapsed": 5711,
     "status": "ok",
     "timestamp": 1584954991025,
     "user": {
      "displayName": "Mahmoud K. Shoush",
      "photoUrl": "https://lh3.googleusercontent.com/a-/AOh14Gg9UiBaJaGnafDynGv5Ght5Z18MwCGvDUW8ttd2=s64",
      "userId": "05621694697917066197"
     },
     "user_tz": -120
    },
    "id": "MVzILdB4k3Rg",
    "outputId": "cb32d39b-bde8-49bd-9a7d-8ca69b9fca95"
   },
   "outputs": [
    {
     "data": {
      "text/plain": [
       "0.2977733614361413"
      ]
     },
     "execution_count": 65,
     "metadata": {},
     "output_type": "execute_result"
    }
   ],
   "source": [
    "from sklearn.metrics import log_loss\n",
    "\n",
    "\n",
    "# predict probabilities\n",
    "probs = model.predict_proba(X_test)\n",
    "\n",
    "# keep the predictions for class 1 only\n",
    "probs = probs[:, 1]\n",
    "\n",
    "# calculate log loss\n",
    "loss = log_loss(y_test, probs)\n",
    "loss"
   ]
  },
  {
   "cell_type": "code",
   "execution_count": 66,
   "metadata": {
    "colab": {
     "base_uri": "https://localhost:8080/",
     "height": 299
    },
    "colab_type": "code",
    "executionInfo": {
     "elapsed": 15821,
     "status": "ok",
     "timestamp": 1584955001154,
     "user": {
      "displayName": "Mahmoud K. Shoush",
      "photoUrl": "https://lh3.googleusercontent.com/a-/AOh14Gg9UiBaJaGnafDynGv5Ght5Z18MwCGvDUW8ttd2=s64",
      "userId": "05621694697917066197"
     },
     "user_tz": -120
    },
    "id": "uYQzAErak3Rr",
    "outputId": "80a6c589-357f-4c0d-bc30-3894f5be375e"
   },
   "outputs": [
    {
     "data": {
      "image/png": "[encoded data removed]",
      "text/plain": [
       "<Figure size 432x288 with 1 Axes>"
      ]
     },
     "metadata": {},
     "output_type": "display_data"
    }
   ],
   "source": [
    "\n",
    "# plot impact of logloss for single forecasts\n",
    "from sklearn.metrics import log_loss\n",
    "from matplotlib import pyplot\n",
    "from numpy import array\n",
    "import matplotlib\n",
    "\n",
    "# predictions as 0 to 1 in 0.01 increments\n",
    "yhat = y_pred\n",
    "\n",
    "# evaluate predictions for a 0 true value\n",
    "losses_0 = [log_loss([0], [x], labels=[0,1]) for x in yhat]\n",
    "\n",
    "# evaluate predictions for a 1 true value\n",
    "losses_1 = [log_loss([1], [x], labels=[0,1]) for x in yhat]\n",
    "\n",
    "matplotlib.rcParams.update({'text.color' : \"blue\",})\n",
    "                    # 'axes.labelcolor' : \"blue\"})\n",
    "# plot input to loss\n",
    "pyplot.plot(yhat, losses_0, label='true=0')\n",
    "pyplot.plot(yhat, losses_1, label='true=1')\n",
    "pyplot.legend()\n",
    "plt.title('Line Plot of Evaluating Predictions with Log Loss')\n",
    "plt.xlabel(\"P(x)\")\n",
    "plt.ylabel(\"-log(p(x))\")\n",
    "pyplot.show()"
   ]
  },
  {
   "cell_type": "markdown",
   "metadata": {
    "colab_type": "text",
    "id": "GmsQ4jqrk3R0"
   },
   "source": [
    "## 7. K-Fold\n",
    "\n",
    "\n",
    "\n",
    "# What is K-Fold Cross Validation?\n"
   ]
  },
  {
   "cell_type": "markdown",
   "metadata": {
    "colab_type": "text",
    "id": "2JVLg1pLk3R3"
   },
   "source": [
    "* Evaluating a Machine Learning model can be quite tricky. Usually, we split the data set into `training` and `testing` sets and use the training set to train the model and testing set to test the model.\n",
    "\n",
    "* We then evaluate the model performance based on many different metrics to determine the goodness of the model. `This method however, is not very reliable as the accuracy obtained for one test set can be very different to the accuracy obtained for a different test set.`\n",
    "\n",
    "\n",
    "* **K-fold Cross Validation(CV)** provides a solution to this problem by dividing the data into folds and ensuring that each fold is used as a testing set at some point. \n",
    "\n",
    "\n",
    "* **K-Fold CV** is where a given data set is split into a `K number of sections/folds` where each fold is used as a testing set at some point.\n",
    "\n",
    "* **For example:** lets take the scenario of `5-Fold cross validation(K=5).` Here, the data set is split into 5 folds. In the first iteration, the first fold is used to test the model and the rest are used to train the model. In the second iteration, 2nd fold is used as the testing set while the rest serve as the training set. This process is repeated until each fold of the 5 folds have been used as the testing set.\n",
    "\n"
   ]
  },
  {
   "cell_type": "code",
   "execution_count": 71,
   "metadata": {
    "colab": {
     "base_uri": "https://localhost:8080/",
     "height": 225
    },
    "colab_type": "code",
    "executionInfo": {
     "elapsed": 16069,
     "status": "ok",
     "timestamp": 1584955001427,
     "user": {
      "displayName": "Mahmoud K. Shoush",
      "photoUrl": "https://lh3.googleusercontent.com/a-/AOh14Gg9UiBaJaGnafDynGv5Ght5Z18MwCGvDUW8ttd2=s64",
      "userId": "05621694697917066197"
     },
     "user_tz": -120
    },
    "id": "MSHfcHvlk3R5",
    "outputId": "401c99c4-a4bd-46fc-f565-9e3a0197277e",
    "scrolled": true
   },
   "outputs": [
    {
     "name": "stdout",
     "output_type": "stream",
     "text": [
      "Train: [    1     2     3 ... 35331 35332 35333] Validation: [    0     4     6 ... 35320 35327 35330]\n"
     ]
    },
    {
     "ename": "KeyError",
     "evalue": "'Passing list-likes to .loc or [] with any missing labels is no longer supported, see https://pandas.pydata.org/pandas-docs/stable/user_guide/indexing.html#deprecate-loc-reindex-listlike'",
     "output_type": "error",
     "traceback": [
      "\u001b[0;31m---------------------------------------------------------------------------\u001b[0m",
      "\u001b[0;31mKeyError\u001b[0m                                  Traceback (most recent call last)",
      "\u001b[0;32m<ipython-input-71-1f1fe4074e55>\u001b[0m in \u001b[0;36m<module>\u001b[0;34m\u001b[0m\n\u001b[1;32m      6\u001b[0m       \u001b[0mprint\u001b[0m\u001b[0;34m(\u001b[0m\u001b[0;34m\"Train:\"\u001b[0m\u001b[0;34m,\u001b[0m \u001b[0mtrain_index\u001b[0m\u001b[0;34m,\u001b[0m \u001b[0;34m\"Validation:\"\u001b[0m\u001b[0;34m,\u001b[0m\u001b[0mtest_index\u001b[0m\u001b[0;34m)\u001b[0m\u001b[0;34m\u001b[0m\u001b[0;34m\u001b[0m\u001b[0m\n\u001b[1;32m      7\u001b[0m       \u001b[0mX_train\u001b[0m\u001b[0;34m,\u001b[0m \u001b[0mX_test\u001b[0m \u001b[0;34m=\u001b[0m \u001b[0mX\u001b[0m\u001b[0;34m[\u001b[0m\u001b[0mtrain_index\u001b[0m\u001b[0;34m]\u001b[0m\u001b[0;34m,\u001b[0m \u001b[0mX\u001b[0m\u001b[0;34m[\u001b[0m\u001b[0mtest_index\u001b[0m\u001b[0;34m]\u001b[0m\u001b[0;34m\u001b[0m\u001b[0;34m\u001b[0m\u001b[0m\n\u001b[0;32m----> 8\u001b[0;31m       \u001b[0my_train\u001b[0m\u001b[0;34m,\u001b[0m \u001b[0my_test\u001b[0m \u001b[0;34m=\u001b[0m \u001b[0my\u001b[0m\u001b[0;34m[\u001b[0m\u001b[0mtrain_index\u001b[0m\u001b[0;34m]\u001b[0m\u001b[0;34m,\u001b[0m \u001b[0my\u001b[0m\u001b[0;34m[\u001b[0m\u001b[0mtest_index\u001b[0m\u001b[0;34m]\u001b[0m\u001b[0;34m\u001b[0m\u001b[0;34m\u001b[0m\u001b[0m\n\u001b[0m",
      "\u001b[0;32m/Library/Frameworks/Python.framework/Versions/3.6/lib/python3.6/site-packages/pandas/core/series.py\u001b[0m in \u001b[0;36m__getitem__\u001b[0;34m(self, key)\u001b[0m\n\u001b[1;32m    908\u001b[0m             \u001b[0mkey\u001b[0m \u001b[0;34m=\u001b[0m \u001b[0mcheck_bool_indexer\u001b[0m\u001b[0;34m(\u001b[0m\u001b[0mself\u001b[0m\u001b[0;34m.\u001b[0m\u001b[0mindex\u001b[0m\u001b[0;34m,\u001b[0m \u001b[0mkey\u001b[0m\u001b[0;34m)\u001b[0m\u001b[0;34m\u001b[0m\u001b[0;34m\u001b[0m\u001b[0m\n\u001b[1;32m    909\u001b[0m \u001b[0;34m\u001b[0m\u001b[0m\n\u001b[0;32m--> 910\u001b[0;31m         \u001b[0;32mreturn\u001b[0m \u001b[0mself\u001b[0m\u001b[0;34m.\u001b[0m\u001b[0m_get_with\u001b[0m\u001b[0;34m(\u001b[0m\u001b[0mkey\u001b[0m\u001b[0;34m)\u001b[0m\u001b[0;34m\u001b[0m\u001b[0;34m\u001b[0m\u001b[0m\n\u001b[0m\u001b[1;32m    911\u001b[0m \u001b[0;34m\u001b[0m\u001b[0m\n\u001b[1;32m    912\u001b[0m     \u001b[0;32mdef\u001b[0m \u001b[0m_get_with\u001b[0m\u001b[0;34m(\u001b[0m\u001b[0mself\u001b[0m\u001b[0;34m,\u001b[0m \u001b[0mkey\u001b[0m\u001b[0;34m)\u001b[0m\u001b[0;34m:\u001b[0m\u001b[0;34m\u001b[0m\u001b[0;34m\u001b[0m\u001b[0m\n",
      "\u001b[0;32m/Library/Frameworks/Python.framework/Versions/3.6/lib/python3.6/site-packages/pandas/core/series.py\u001b[0m in \u001b[0;36m_get_with\u001b[0;34m(self, key)\u001b[0m\n\u001b[1;32m    941\u001b[0m         \u001b[0;32mif\u001b[0m \u001b[0mkey_type\u001b[0m \u001b[0;34m==\u001b[0m \u001b[0;34m\"integer\"\u001b[0m\u001b[0;34m:\u001b[0m\u001b[0;34m\u001b[0m\u001b[0;34m\u001b[0m\u001b[0m\n\u001b[1;32m    942\u001b[0m             \u001b[0;32mif\u001b[0m \u001b[0mself\u001b[0m\u001b[0;34m.\u001b[0m\u001b[0mindex\u001b[0m\u001b[0;34m.\u001b[0m\u001b[0mis_integer\u001b[0m\u001b[0;34m(\u001b[0m\u001b[0;34m)\u001b[0m \u001b[0;32mor\u001b[0m \u001b[0mself\u001b[0m\u001b[0;34m.\u001b[0m\u001b[0mindex\u001b[0m\u001b[0;34m.\u001b[0m\u001b[0mis_floating\u001b[0m\u001b[0;34m(\u001b[0m\u001b[0;34m)\u001b[0m\u001b[0;34m:\u001b[0m\u001b[0;34m\u001b[0m\u001b[0;34m\u001b[0m\u001b[0m\n\u001b[0;32m--> 943\u001b[0;31m                 \u001b[0;32mreturn\u001b[0m \u001b[0mself\u001b[0m\u001b[0;34m.\u001b[0m\u001b[0mloc\u001b[0m\u001b[0;34m[\u001b[0m\u001b[0mkey\u001b[0m\u001b[0;34m]\u001b[0m\u001b[0;34m\u001b[0m\u001b[0;34m\u001b[0m\u001b[0m\n\u001b[0m\u001b[1;32m    944\u001b[0m             \u001b[0;32melse\u001b[0m\u001b[0;34m:\u001b[0m\u001b[0;34m\u001b[0m\u001b[0;34m\u001b[0m\u001b[0m\n\u001b[1;32m    945\u001b[0m                 \u001b[0;32mreturn\u001b[0m \u001b[0mself\u001b[0m\u001b[0;34m.\u001b[0m\u001b[0m_get_values\u001b[0m\u001b[0;34m(\u001b[0m\u001b[0mkey\u001b[0m\u001b[0;34m)\u001b[0m\u001b[0;34m\u001b[0m\u001b[0;34m\u001b[0m\u001b[0m\n",
      "\u001b[0;32m/Library/Frameworks/Python.framework/Versions/3.6/lib/python3.6/site-packages/pandas/core/indexing.py\u001b[0m in \u001b[0;36m__getitem__\u001b[0;34m(self, key)\u001b[0m\n\u001b[1;32m   1765\u001b[0m \u001b[0;34m\u001b[0m\u001b[0m\n\u001b[1;32m   1766\u001b[0m             \u001b[0mmaybe_callable\u001b[0m \u001b[0;34m=\u001b[0m \u001b[0mcom\u001b[0m\u001b[0;34m.\u001b[0m\u001b[0mapply_if_callable\u001b[0m\u001b[0;34m(\u001b[0m\u001b[0mkey\u001b[0m\u001b[0;34m,\u001b[0m \u001b[0mself\u001b[0m\u001b[0;34m.\u001b[0m\u001b[0mobj\u001b[0m\u001b[0;34m)\u001b[0m\u001b[0;34m\u001b[0m\u001b[0;34m\u001b[0m\u001b[0m\n\u001b[0;32m-> 1767\u001b[0;31m             \u001b[0;32mreturn\u001b[0m \u001b[0mself\u001b[0m\u001b[0;34m.\u001b[0m\u001b[0m_getitem_axis\u001b[0m\u001b[0;34m(\u001b[0m\u001b[0mmaybe_callable\u001b[0m\u001b[0;34m,\u001b[0m \u001b[0maxis\u001b[0m\u001b[0;34m=\u001b[0m\u001b[0maxis\u001b[0m\u001b[0;34m)\u001b[0m\u001b[0;34m\u001b[0m\u001b[0;34m\u001b[0m\u001b[0m\n\u001b[0m\u001b[1;32m   1768\u001b[0m \u001b[0;34m\u001b[0m\u001b[0m\n\u001b[1;32m   1769\u001b[0m     \u001b[0;32mdef\u001b[0m \u001b[0m_is_scalar_access\u001b[0m\u001b[0;34m(\u001b[0m\u001b[0mself\u001b[0m\u001b[0;34m,\u001b[0m \u001b[0mkey\u001b[0m\u001b[0;34m:\u001b[0m \u001b[0mTuple\u001b[0m\u001b[0;34m)\u001b[0m\u001b[0;34m:\u001b[0m\u001b[0;34m\u001b[0m\u001b[0;34m\u001b[0m\u001b[0m\n",
      "\u001b[0;32m/Library/Frameworks/Python.framework/Versions/3.6/lib/python3.6/site-packages/pandas/core/indexing.py\u001b[0m in \u001b[0;36m_getitem_axis\u001b[0;34m(self, key, axis)\u001b[0m\n\u001b[1;32m   1951\u001b[0m                     \u001b[0;32mraise\u001b[0m \u001b[0mValueError\u001b[0m\u001b[0;34m(\u001b[0m\u001b[0;34m\"Cannot index with multidimensional key\"\u001b[0m\u001b[0;34m)\u001b[0m\u001b[0;34m\u001b[0m\u001b[0;34m\u001b[0m\u001b[0m\n\u001b[1;32m   1952\u001b[0m \u001b[0;34m\u001b[0m\u001b[0m\n\u001b[0;32m-> 1953\u001b[0;31m                 \u001b[0;32mreturn\u001b[0m \u001b[0mself\u001b[0m\u001b[0;34m.\u001b[0m\u001b[0m_getitem_iterable\u001b[0m\u001b[0;34m(\u001b[0m\u001b[0mkey\u001b[0m\u001b[0;34m,\u001b[0m \u001b[0maxis\u001b[0m\u001b[0;34m=\u001b[0m\u001b[0maxis\u001b[0m\u001b[0;34m)\u001b[0m\u001b[0;34m\u001b[0m\u001b[0;34m\u001b[0m\u001b[0m\n\u001b[0m\u001b[1;32m   1954\u001b[0m \u001b[0;34m\u001b[0m\u001b[0m\n\u001b[1;32m   1955\u001b[0m             \u001b[0;31m# nested tuple slicing\u001b[0m\u001b[0;34m\u001b[0m\u001b[0;34m\u001b[0m\u001b[0;34m\u001b[0m\u001b[0m\n",
      "\u001b[0;32m/Library/Frameworks/Python.framework/Versions/3.6/lib/python3.6/site-packages/pandas/core/indexing.py\u001b[0m in \u001b[0;36m_getitem_iterable\u001b[0;34m(self, key, axis)\u001b[0m\n\u001b[1;32m   1592\u001b[0m         \u001b[0;32melse\u001b[0m\u001b[0;34m:\u001b[0m\u001b[0;34m\u001b[0m\u001b[0;34m\u001b[0m\u001b[0m\n\u001b[1;32m   1593\u001b[0m             \u001b[0;31m# A collection of keys\u001b[0m\u001b[0;34m\u001b[0m\u001b[0;34m\u001b[0m\u001b[0;34m\u001b[0m\u001b[0m\n\u001b[0;32m-> 1594\u001b[0;31m             \u001b[0mkeyarr\u001b[0m\u001b[0;34m,\u001b[0m \u001b[0mindexer\u001b[0m \u001b[0;34m=\u001b[0m \u001b[0mself\u001b[0m\u001b[0;34m.\u001b[0m\u001b[0m_get_listlike_indexer\u001b[0m\u001b[0;34m(\u001b[0m\u001b[0mkey\u001b[0m\u001b[0;34m,\u001b[0m \u001b[0maxis\u001b[0m\u001b[0;34m,\u001b[0m \u001b[0mraise_missing\u001b[0m\u001b[0;34m=\u001b[0m\u001b[0;32mFalse\u001b[0m\u001b[0;34m)\u001b[0m\u001b[0;34m\u001b[0m\u001b[0;34m\u001b[0m\u001b[0m\n\u001b[0m\u001b[1;32m   1595\u001b[0m             return self.obj._reindex_with_indexers(\n\u001b[1;32m   1596\u001b[0m                 \u001b[0;34m{\u001b[0m\u001b[0maxis\u001b[0m\u001b[0;34m:\u001b[0m \u001b[0;34m[\u001b[0m\u001b[0mkeyarr\u001b[0m\u001b[0;34m,\u001b[0m \u001b[0mindexer\u001b[0m\u001b[0;34m]\u001b[0m\u001b[0;34m}\u001b[0m\u001b[0;34m,\u001b[0m \u001b[0mcopy\u001b[0m\u001b[0;34m=\u001b[0m\u001b[0;32mTrue\u001b[0m\u001b[0;34m,\u001b[0m \u001b[0mallow_dups\u001b[0m\u001b[0;34m=\u001b[0m\u001b[0;32mTrue\u001b[0m\u001b[0;34m\u001b[0m\u001b[0;34m\u001b[0m\u001b[0m\n",
      "\u001b[0;32m/Library/Frameworks/Python.framework/Versions/3.6/lib/python3.6/site-packages/pandas/core/indexing.py\u001b[0m in \u001b[0;36m_get_listlike_indexer\u001b[0;34m(self, key, axis, raise_missing)\u001b[0m\n\u001b[1;32m   1550\u001b[0m \u001b[0;34m\u001b[0m\u001b[0m\n\u001b[1;32m   1551\u001b[0m         self._validate_read_indexer(\n\u001b[0;32m-> 1552\u001b[0;31m             \u001b[0mkeyarr\u001b[0m\u001b[0;34m,\u001b[0m \u001b[0mindexer\u001b[0m\u001b[0;34m,\u001b[0m \u001b[0mo\u001b[0m\u001b[0;34m.\u001b[0m\u001b[0m_get_axis_number\u001b[0m\u001b[0;34m(\u001b[0m\u001b[0maxis\u001b[0m\u001b[0;34m)\u001b[0m\u001b[0;34m,\u001b[0m \u001b[0mraise_missing\u001b[0m\u001b[0;34m=\u001b[0m\u001b[0mraise_missing\u001b[0m\u001b[0;34m\u001b[0m\u001b[0;34m\u001b[0m\u001b[0m\n\u001b[0m\u001b[1;32m   1553\u001b[0m         )\n\u001b[1;32m   1554\u001b[0m         \u001b[0;32mreturn\u001b[0m \u001b[0mkeyarr\u001b[0m\u001b[0;34m,\u001b[0m \u001b[0mindexer\u001b[0m\u001b[0;34m\u001b[0m\u001b[0;34m\u001b[0m\u001b[0m\n",
      "\u001b[0;32m/Library/Frameworks/Python.framework/Versions/3.6/lib/python3.6/site-packages/pandas/core/indexing.py\u001b[0m in \u001b[0;36m_validate_read_indexer\u001b[0;34m(self, key, indexer, axis, raise_missing)\u001b[0m\n\u001b[1;32m   1652\u001b[0m             \u001b[0;32mif\u001b[0m \u001b[0;32mnot\u001b[0m \u001b[0;34m(\u001b[0m\u001b[0max\u001b[0m\u001b[0;34m.\u001b[0m\u001b[0mis_categorical\u001b[0m\u001b[0;34m(\u001b[0m\u001b[0;34m)\u001b[0m \u001b[0;32mor\u001b[0m \u001b[0max\u001b[0m\u001b[0;34m.\u001b[0m\u001b[0mis_interval\u001b[0m\u001b[0;34m(\u001b[0m\u001b[0;34m)\u001b[0m\u001b[0;34m)\u001b[0m\u001b[0;34m:\u001b[0m\u001b[0;34m\u001b[0m\u001b[0;34m\u001b[0m\u001b[0m\n\u001b[1;32m   1653\u001b[0m                 raise KeyError(\n\u001b[0;32m-> 1654\u001b[0;31m                     \u001b[0;34m\"Passing list-likes to .loc or [] with any missing labels \"\u001b[0m\u001b[0;34m\u001b[0m\u001b[0;34m\u001b[0m\u001b[0m\n\u001b[0m\u001b[1;32m   1655\u001b[0m                     \u001b[0;34m\"is no longer supported, see \"\u001b[0m\u001b[0;34m\u001b[0m\u001b[0;34m\u001b[0m\u001b[0m\n\u001b[1;32m   1656\u001b[0m                     \u001b[0;34m\"https://pandas.pydata.org/pandas-docs/stable/user_guide/indexing.html#deprecate-loc-reindex-listlike\"\u001b[0m  \u001b[0;31m# noqa:E501\u001b[0m\u001b[0;34m\u001b[0m\u001b[0;34m\u001b[0m\u001b[0m\n",
      "\u001b[0;31mKeyError\u001b[0m: 'Passing list-likes to .loc or [] with any missing labels is no longer supported, see https://pandas.pydata.org/pandas-docs/stable/user_guide/indexing.html#deprecate-loc-reindex-listlike'"
     ]
    }
   ],
   "source": [
    "from sklearn.model_selection import KFold \n",
    "from sklearn.model_selection import RepeatedKFold\n",
    "kf = RepeatedKFold(n_splits=5, n_repeats=1, random_state=None) \n",
    "\n",
    "for train_index, test_index in kf.split(X):\n",
    "      print(\"Train:\", train_index, \"Validation:\",test_index)\n",
    "      X_train, X_test = X[train_index], X[test_index] \n",
    "      y_train, y_test = y[train_index], y[test_index]"
   ]
  },
  {
   "cell_type": "code",
   "execution_count": 68,
   "metadata": {
    "colab": {
     "base_uri": "https://localhost:8080/",
     "height": 52
    },
    "colab_type": "code",
    "executionInfo": {
     "elapsed": 21972,
     "status": "ok",
     "timestamp": 1584955007352,
     "user": {
      "displayName": "Mahmoud K. Shoush",
      "photoUrl": "https://lh3.googleusercontent.com/a-/AOh14Gg9UiBaJaGnafDynGv5Ght5Z18MwCGvDUW8ttd2=s64",
      "userId": "05621694697917066197"
     },
     "user_tz": -120
    },
    "id": "Q61UIRD8k3SB",
    "outputId": "2b12311f-a980-4532-c4ed-0d7fa7117691"
   },
   "outputs": [
    {
     "data": {
      "text/plain": [
       "array([0.91611479, 0.91611479, 0.89794532, 0.89471897, 0.88588895,\n",
       "       0.85311598])"
      ]
     },
     "execution_count": 68,
     "metadata": {},
     "output_type": "execute_result"
    }
   ],
   "source": [
    "from sklearn.model_selection import cross_val_score\n",
    "\n",
    "clf = XGBClassifier()\n",
    "\n",
    "scores = cross_val_score(clf, X, y, cv=6)\n",
    "scores\n"
   ]
  },
  {
   "cell_type": "code",
   "execution_count": 69,
   "metadata": {
    "colab": {
     "base_uri": "https://localhost:8080/",
     "height": 34
    },
    "colab_type": "code",
    "executionInfo": {
     "elapsed": 21964,
     "status": "ok",
     "timestamp": 1584955007358,
     "user": {
      "displayName": "Mahmoud K. Shoush",
      "photoUrl": "https://lh3.googleusercontent.com/a-/AOh14Gg9UiBaJaGnafDynGv5Ght5Z18MwCGvDUW8ttd2=s64",
      "userId": "05621694697917066197"
     },
     "user_tz": -120
    },
    "id": "96vJVYyYk3SL",
    "outputId": "2fdde113-a390-4cf3-af66-5c84cef946be"
   },
   "outputs": [
    {
     "name": "stdout",
     "output_type": "stream",
     "text": [
      "Accuracy: 0.89 (+/- 0.04)\n"
     ]
    }
   ],
   "source": [
    "print(\"Accuracy: %0.2f (+/- %0.2f)\" % (scores.mean(), scores.std() * 2))"
   ]
  },
  {
   "cell_type": "code",
   "execution_count": null,
   "metadata": {},
   "outputs": [],
   "source": []
  }
 ],
 "metadata": {
  "colab": {
   "collapsed_sections": [
    "iLL1meXgk3KO",
    "WTo1mej7k3LU",
    "qvDRWbJ2k3Re"
   ],
   "name": "Lab_06.ipynb",
   "provenance": []
  },
  "kernelspec": {
   "display_name": "Python 3",
   "language": "python",
   "name": "python3"
  },
  "language_info": {
   "codemirror_mode": {
    "name": "ipython",
    "version": 3
   },
   "file_extension": ".py",
   "mimetype": "text/x-python",
   "name": "python",
   "nbconvert_exporter": "python",
   "pygments_lexer": "ipython3",
   "version": "3.6.7"
  }
 },
 "nbformat": 4,
 "nbformat_minor": 1
}
