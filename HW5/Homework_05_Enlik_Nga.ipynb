{
 "cells": [
  {
   "cell_type": "markdown",
   "metadata": {
    "colab_type": "text",
    "id": "vxiTHkg94n5g"
   },
   "source": [
    "<div class=\"alert alert-block alert-info\"><b></b>\n",
    "<h1><center> <font color='black'> Homework 05  </font></center></h1>\n",
    "<h2><center> <font color='black'> A/B Testing &  Uplift modelling </font></center></h2>\n",
    "<h2><center> <font color='black'> Due date : 10 May 23:59 </font></center></h2>    \n",
    "<h2><center> <font color='black'> BDA - University of Tartu - Spring 2020</font></center></h3>\n",
    "</div>"
   ]
  },
  {
   "cell_type": "markdown",
   "metadata": {
    "colab_type": "text",
    "id": "fGcVSswHiFMM"
   },
   "source": [
    "# Homework Instructions"
   ]
  },
  {
   "cell_type": "markdown",
   "metadata": {
    "colab_type": "text",
    "id": "z0jfNfi5iFMP"
   },
   "source": [
    "- Insert your team member names and student IDs in the field \"Team mates\" below. If you are not working in a team please insert only your name, surname and student ID \n",
    "\n",
    "- The accepted submission formats are Colab links or .ipynb files. If you are submitting Colab links please make sure that the privacy settings for the file is public so we can access your code. \n",
    "\n",
    "- The submission will automatically close at 12:00 am, so please make sure you have enough time to submit the homework. \n",
    "\n",
    "- Only one of the teammates should submit the homework. We will grade and give points to both of you! \n",
    "\n",
    "- You do not necessarily need to work on Colab. Especially as the size and the complexity of datasets will increase through the course, you can install jupyter notebooks locally and work from there.\n",
    "\n",
    "- If you do not understand what a question is asking for, please ask in Moodle. "
   ]
  },
  {
   "cell_type": "markdown",
   "metadata": {
    "colab_type": "text",
    "id": "xBn8XjSGiFMS"
   },
   "source": [
    "**<h2><font color='red'>Team mates:</font></h2>**\n",
    "\n",
    "\n",
    "<font color='red'>Name Surname: XXXXX</font>&emsp;   <font color='red'>Student ID: YYYY</font>\n",
    "\n",
    "\n",
    "<font color='red'>Name Surname: XXXXX</font>&emsp;   <font color='red'>Student ID: YYYY</font>"
   ]
  },
  {
   "cell_type": "markdown",
   "metadata": {
    "colab_type": "text",
    "id": "zbnfTD-CiFMU"
   },
   "source": [
    "# 1. A/B Testing (4 points)"
   ]
  },
  {
   "cell_type": "markdown",
   "metadata": {
    "colab_type": "text",
    "id": "7TADXv834n5l"
   },
   "source": [
    "\n",
    "**1.1 Use `AB_clicks.csv` data and find whether Learn, Help, and Services versions of the page compared to the Interact have significantly more (or less) clicks. Justify the choice of the performed tests and interpret the result of the test. (1.5 points)** \n",
    "\n",
    "\n"
   ]
  },
  {
   "cell_type": "code",
   "execution_count": 0,
   "metadata": {
    "colab": {},
    "colab_type": "code",
    "id": "_Zk5TwwIiFMY"
   },
   "outputs": [],
   "source": []
  },
  {
   "cell_type": "markdown",
   "metadata": {
    "colab_type": "text",
    "id": "Vg7zGBiIU5mc"
   },
   "source": [
    "<font color='red'> **Answer:**"
   ]
  },
  {
   "cell_type": "markdown",
   "metadata": {
    "colab_type": "text",
    "id": "CrtKhXGt1p_Y"
   },
   "source": [
    "\n",
    "**1.2 Use two different methods to test the normality of two different versions of your choice (Connect, Help, Services,..) (1.5 points)**\n",
    "\n",
    "\n",
    "\n"
   ]
  },
  {
   "cell_type": "code",
   "execution_count": 0,
   "metadata": {
    "colab": {},
    "colab_type": "code",
    "id": "bZ6orXx5iFMt"
   },
   "outputs": [],
   "source": []
  },
  {
   "cell_type": "markdown",
   "metadata": {
    "colab_type": "text",
    "id": "-cMvX9SbiFM_"
   },
   "source": [
    "<font color='red'> **Answer:**"
   ]
  },
  {
   "cell_type": "markdown",
   "metadata": {
    "colab_type": "text",
    "id": "PC-IQcsPiFNF"
   },
   "source": [
    "**1.3 Read about Multiple comparison problem read ([wikipedia](https://en.wikipedia.org/wiki/Multiple_comparisons_problem), [An Overview of Methods to Address the Multiple Comparison Problem](https://towardsdatascience.com/an-overview-of-methods-to-address-the-multiple-comparison-problem-310427b3ba92) or other resources). What is the problem and when we need to do something about it (describe briefly)? (0.5 points)**"
   ]
  },
  {
   "cell_type": "markdown",
   "metadata": {
    "colab_type": "text",
    "id": "hipVrMCziFNI"
   },
   "source": [
    "<font color='red'> **Answer:**\n"
   ]
  },
  {
   "cell_type": "markdown",
   "metadata": {
    "colab_type": "text",
    "id": "7xrLd73wiTjv"
   },
   "source": [
    "**1.4 Load the dataset classifier_results.csv. The dataset contains the following fields:** \n",
    "\n",
    "**Dataset** - 200 datasets retreived from [OpenML](https://www.openml.org/search?type=data) dataset directory.\n",
    "\n",
    "**Classifier** - 9 classifiers from scikit-learn\n",
    "\n",
    "**Accuracy** - The accuracy achieved after applying the classifier to the dataset\n",
    "\n",
    "\n",
    "**Is there a significant statistical difference between these classifiers ? If you were asked to continue your analysis with only a limited number of classifiers how many would you pick and why ? (0.5 points)** (Hint:You can use the orange package that was introduced in the practice session) "
   ]
  },
  {
   "cell_type": "code",
   "execution_count": 0,
   "metadata": {
    "colab": {},
    "colab_type": "code",
    "id": "TAQvMiZEiitd"
   },
   "outputs": [],
   "source": []
  },
  {
   "cell_type": "markdown",
   "metadata": {
    "colab_type": "text",
    "id": "89Ywg8yZimDc"
   },
   "source": [
    "\n",
    "<font color='red'> **Answer:**\n"
   ]
  },
  {
   "cell_type": "markdown",
   "metadata": {
    "colab_type": "text",
    "id": "anrVRZAciFO1"
   },
   "source": [
    "# 2. Uplift modelling (4 points)"
   ]
  },
  {
   "cell_type": "markdown",
   "metadata": {
    "colab_type": "text",
    "id": "3qiAwaYViFO4"
   },
   "source": [
    "For this task we are going to use email_marketing.csv from [MineThatData](https://blog.minethatdata.com/2008/03/minethatdata-e-mail-analytics-and-data.html). The data was recorded from a two-weeks email campaign that included 64000 customers. Out of this customers:\n",
    "1. 1/3 were randomly chosen to receive an e-mail campaign featuring Mens merchandise.\n",
    "2. 1/3 were randomly chosen to receive an e-mail campaign featuring Womens merchandise.\n",
    "3. 1/3 were randomly chosen to not receive an e-mail campaign.\n",
    "\n",
    "The features in this dataset include:\n",
    "\n",
    "- Recency: Months since last purchase.\n",
    "- History: Actual dollar value spent in the past year.\n",
    "- Mens: 1/0 indicator, 1 = customer purchased Mens merchandise in the past year.\n",
    "- Womens: 1/0 indicator, 1 = customer purchased Womens merchandise in the past year.\n",
    "- Zip_Code: Classifies zip code as Urban, Suburban, or Rural.\n",
    "- Newbie: 1/0 indicator, 1 = New customer in the past twelve months.\n",
    "- Channel: Describes the channels the customer purchased from in the past year.\n",
    "- Segment: e-mail campaign  type that the customer received\n",
    "- Visit: 1/0 indicator, 1 = Customer visited website in the following two weeks.\n",
    "\n",
    "The last variable is realted to the evaluation if the campaign was effective or not.\n",
    "\n",
    "- Conversion: 1/0 indicator, 1 = Customer purchased merchandise in the following two weeks.\n"
   ]
  },
  {
   "cell_type": "code",
   "execution_count": 0,
   "metadata": {
    "colab": {},
    "colab_type": "code",
    "id": "TbvSHUdMiFO7"
   },
   "outputs": [],
   "source": []
  },
  {
   "cell_type": "markdown",
   "metadata": {
    "colab_type": "text",
    "id": "t4qyd_GjiFPi"
   },
   "source": [
    "**2.0 Use the function calc_uplift() from the practice session to calculate the current uplift of the campaign. Remeber to modify the function according to the need. (0.5 points)**"
   ]
  },
  {
   "cell_type": "code",
   "execution_count": 0,
   "metadata": {
    "colab": {},
    "colab_type": "code",
    "id": "s9l1LxCpiFPk"
   },
   "outputs": [],
   "source": []
  },
  {
   "cell_type": "markdown",
   "metadata": {
    "colab_type": "text",
    "id": "oU3HigRXiFPw"
   },
   "source": [
    "**2.1 Create a new column named target_class. Split the customers in 4 categories:**\n",
    "\n",
    "1- Treatment Responders \n",
    "\n",
    "2- Treatment Non-Responders (sleeping dogs)\n",
    "\n",
    "3- Control Responders (sure things)\n",
    "\n",
    "4-Control Non-Responders(lost causes).\n",
    "\n",
    "**Label encode these categories and store the result for each customer in the column target_class (0.5 points)**"
   ]
  },
  {
   "cell_type": "code",
   "execution_count": 0,
   "metadata": {
    "colab": {},
    "colab_type": "code",
    "id": "Px53IcG1iFPy"
   },
   "outputs": [],
   "source": []
  },
  {
   "cell_type": "markdown",
   "metadata": {
    "colab_type": "text",
    "id": "SzsK-bhGiFP7"
   },
   "source": [
    "**2.2 Apply the necessary preprocessing to the data and split it into train annd test set using 80/20 ratio. Remember that you have to drop the columns that define the label and perform preprocessing. Build a model with your classifier of choice that will predict probabilities for the categories mentioned in 2.1. (1.5 points)**"
   ]
  },
  {
   "cell_type": "code",
   "execution_count": 0,
   "metadata": {
    "colab": {},
    "colab_type": "code",
    "id": "WfqqUWAhiFP9"
   },
   "outputs": [],
   "source": []
  },
  {
   "cell_type": "markdown",
   "metadata": {
    "colab_type": "text",
    "id": "h84ZfTioiFQE"
   },
   "source": [
    "**2.3 Calculate the uplift score using probabilities for all customers and store the results to a new column in the dataframe (0.5 points)**"
   ]
  },
  {
   "cell_type": "code",
   "execution_count": 0,
   "metadata": {
    "colab": {},
    "colab_type": "code",
    "id": "oQwwm1QPiFQG"
   },
   "outputs": [],
   "source": []
  },
  {
   "cell_type": "markdown",
   "metadata": {
    "colab_type": "text",
    "id": "tTg-ohkHiFQX"
   },
   "source": [
    "**2.4  Select the customers with High Uplift Score as below:**\n",
    "    \n",
    "**High Uplift Score:** Customers have uplift score > 3rd quantile\n",
    "\n",
    "**a. Calculate the ratio of the customers targeted with Womens e-mail that have high uplift score over the total customers who received emails feaaturing Womens merchandise.**\n",
    "\n",
    "**b. Calculate the ratio of the customers targeted with Mens e-mail that have high uplift score over the total customers who received emails feaaturing Mens merchandise.**\n",
    "\n",
    "\n",
    "**c.Which one of the campaigns would you say is more successful ? (0.5 points)**\n"
   ]
  },
  {
   "cell_type": "code",
   "execution_count": 0,
   "metadata": {
    "colab": {},
    "colab_type": "code",
    "id": "vE0tRTWriFQb"
   },
   "outputs": [],
   "source": []
  },
  {
   "cell_type": "markdown",
   "metadata": {
    "colab_type": "text",
    "id": "JMaV_I_wiFQx"
   },
   "source": [
    "<font color='red'> **Answer:**\n"
   ]
  },
  {
   "cell_type": "markdown",
   "metadata": {
    "colab_type": "text",
    "id": "AEkBzrHqiFQ0"
   },
   "source": [
    "**2.5 For customers in the segment named \"Womens e-mail\" with high uplift score calculate conversion uplift and revenue uplift. Compare it with the benchmark from excercise 2.0 and draw conclusions. (0.5 points)**"
   ]
  },
  {
   "cell_type": "code",
   "execution_count": 0,
   "metadata": {
    "colab": {},
    "colab_type": "code",
    "id": "Jij32Of8iFQ3"
   },
   "outputs": [],
   "source": []
  },
  {
   "cell_type": "markdown",
   "metadata": {
    "colab_type": "text",
    "id": "5_Ov_biFiFRN"
   },
   "source": [
    "<font color='red'> **Answer:**\n"
   ]
  },
  {
   "cell_type": "markdown",
   "metadata": {
    "colab_type": "text",
    "id": "ekwzgvfR4n6X"
   },
   "source": [
    "## How long did it take you to solve the homework?\n",
    "\n",
    "* Please answer as precisely as you can. It does not affect your points or grade in any way. It is okay, if it took 0.5 hours or 24 hours. The collected information will be used to improve future homeworks.\n",
    "\n",
    "<font color='red'> **Answer:**</font>\n",
    "\n",
    "**<font color='red'>(please change X in the next cell into your estimate)</font>**\n",
    "\n",
    "X hours\n",
    "\n",
    "## What is the level of difficulty for this homework?\n",
    "you can put only number between $0:10$ ($0:$ easy, $10:$ difficult)\n",
    "\n",
    "<font color='red'> **Answer:**</font>\n",
    "\n",
    "        \n",
    "        "
   ]
  }
 ],
 "metadata": {
  "colab": {
   "name": "Homework_05.ipynb",
   "provenance": []
  },
  "kernelspec": {
   "display_name": "Python 3",
   "language": "python",
   "name": "python3"
  },
  "language_info": {
   "codemirror_mode": {
    "name": "ipython",
    "version": 3
   },
   "file_extension": ".py",
   "mimetype": "text/x-python",
   "name": "python",
   "nbconvert_exporter": "python",
   "pygments_lexer": "ipython3",
   "version": "3.6.9"
  }
 },
 "nbformat": 4,
 "nbformat_minor": 0
}
