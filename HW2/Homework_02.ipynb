{
  "nbformat": 4,
  "nbformat_minor": 0,
  "metadata": {
    "colab": {
      "name": "Homework_02.ipynb",
      "provenance": [],
      "collapsed_sections": [],
      "toc_visible": true
    },
    "kernelspec": {
      "display_name": "Python 3",
      "language": "python",
      "name": "python3"
    },
    "language_info": {
      "codemirror_mode": {
        "name": "ipython",
        "version": 3
      },
      "file_extension": ".py",
      "mimetype": "text/x-python",
      "name": "python",
      "nbconvert_exporter": "python",
      "pygments_lexer": "ipython3",
      "version": "3.6.8"
    }
  },
  "cells": [
    {
      "cell_type": "markdown",
      "metadata": {
        "colab_type": "text",
        "id": "D0IeHSxlGFru"
      },
      "source": [
        "<div class=\"alert alert-block alert-info\"><b></b>\n",
        "<h1><center> <font color='black'> Homework 02  </font></center></h1>\n",
        "<h2><center> <font color='black'> Customer segmentation and regression problems </font></center></h2>    \n",
        "<h2><center> <font color='black'> BDA - University of Tartu - Spring 2020</font></center></h3>\n",
        "</div>"
      ]
    },
    {
      "cell_type": "markdown",
      "metadata": {
        "id": "ejXDQnC5ISSC",
        "colab_type": "text"
      },
      "source": [
        "# Homework instructions"
      ]
    },
    {
      "cell_type": "markdown",
      "metadata": {
        "id": "yX2KjULTISSI",
        "colab_type": "text"
      },
      "source": [
        "- Insert your team member names and student IDs in the field \"Team mates\" below. If you are not working in a team please insert only your name, surname and student ID \n",
        "\n",
        "- The accepted submission formats are Colab links or .ipynb files. If you are submitting Colab links please make sure that the privacy settings for the file is public so we can access your code. \n",
        "\n",
        "- The submission will automatically close at 12:00 am, so please make sure you have enough time to submit the homework. \n",
        "\n",
        "- Only one of the teammates should submit the homework. We will grade and give points to both of you! \n",
        "\n",
        "- You do not necessarily need to work on Colab. Especially as the size and the complexity of datasets will increase through the course, you can install jupyter notebooks locally and work from there.\n",
        "\n",
        "- If you do not understand what a question is asking for, please ask in Moodle. \n"
      ]
    },
    {
      "cell_type": "markdown",
      "metadata": {
        "id": "PqoIZFjHISSK",
        "colab_type": "text"
      },
      "source": [
        "**<h2><font color='red'>Team mates:</font></h2>**\n",
        "\n",
        "\n",
        "<font color='red'>Name Surname: XXXXX</font>&emsp;   <font color='red'>Student ID: YYYY</font>\n",
        "\n",
        "\n",
        "<font color='red'>Name Surname: XXXXX</font>&emsp;   <font color='red'>Student ID: YYYY</font>\n",
        "\n",
        "\n"
      ]
    },
    {
      "cell_type": "code",
      "metadata": {
        "colab_type": "code",
        "id": "tWqzuHlJGFr9",
        "colab": {}
      },
      "source": [
        "import numpy as np \n",
        "import pandas as pd \n",
        "import datetime as dt "
      ],
      "execution_count": 0,
      "outputs": []
    },
    {
      "cell_type": "markdown",
      "metadata": {
        "colab_type": "text",
        "id": "O60cUCJeGFsH"
      },
      "source": [
        "# 1. RFM technique (3 points)"
      ]
    },
    {
      "cell_type": "markdown",
      "metadata": {
        "colab_type": "text",
        "id": "OnaXOn6_GFsI"
      },
      "source": [
        "In this homework we will apply the RFM technique similarly to what we did in the practice session. The dataset we are using belongs to http://donorschoose.org/. \n",
        "\n",
        "The web platform http://donorschoose.org helps projects in collecting donations. The donators do have the option to give 15% of what they donate to this webplatform. The dataset contains the following fields:\n",
        "\n",
        "- Donor ID - Unique identifier of donors\n",
        "- Donation Included Optional Donation - The donor has agreed(Yes/No) to give 15% of donation amount to Donoschoose.org\n",
        "- Donation Amount - Total amount donated\n",
        "- Donor Cart Sequence - The ranking of the donaton project in the donors list\n",
        "- Donation Received Date - Date of online payment\n"
      ]
    },
    {
      "cell_type": "markdown",
      "metadata": {
        "colab_type": "text",
        "id": "QlpbxXsOGFsJ"
      },
      "source": [
        "**1.0.**\n",
        "**Please load the dataset Donations.csv. The field \"Donation Included Optional Donation\" shows if the donor has agreed (Yes/No) to give 15% of donation amount to Donoschoose.org. Update the field \"Donation Amount\" as such that it will show the correct amount the donor has given for the charity projects in case where the answer is Yes to \"Donation Included Optional Donation\". (0.30 points)** "
      ]
    },
    {
      "cell_type": "code",
      "metadata": {
        "colab_type": "code",
        "id": "Js-zvCEhGFsL",
        "colab": {}
      },
      "source": [
        ""
      ],
      "execution_count": 0,
      "outputs": []
    },
    {
      "cell_type": "markdown",
      "metadata": {
        "colab_type": "text",
        "id": "2GxfrO_nGFsO"
      },
      "source": [
        "**1.1. For `Recency`, consider 2018-05-31 23:00:00 as the reference date\n",
        "(we assume this is report date). Calculate the number of days between this date and the date of last purchase  for each customer. How long the donor with ID equal to e0fe4d9b8def8a71635e65ba4ff5ef40 has been inactive ? (0.30 points)** \n"
      ]
    },
    {
      "cell_type": "code",
      "metadata": {
        "colab_type": "code",
        "id": "KjyT02KdGFsQ",
        "colab": {}
      },
      "source": [
        ""
      ],
      "execution_count": 0,
      "outputs": []
    },
    {
      "cell_type": "markdown",
      "metadata": {
        "colab_type": "text",
        "id": "cV9dLeLNGFsV"
      },
      "source": [
        "**<font color='red'>Answer:</font>** "
      ]
    },
    {
      "cell_type": "markdown",
      "metadata": {
        "colab_type": "text",
        "id": "uwYRdQbUGFsX"
      },
      "source": [
        "**1.2. For the \"Frequency\" calculate how many times  a user has donated. What is the frequency value for the donor with ID e0fe4d9b8def8a71635e65ba4ff5ef40? (0.30 points)**"
      ]
    },
    {
      "cell_type": "code",
      "metadata": {
        "colab_type": "code",
        "id": "L2pDc2I-GFsY",
        "colab": {}
      },
      "source": [
        ""
      ],
      "execution_count": 0,
      "outputs": []
    },
    {
      "cell_type": "markdown",
      "metadata": {
        "colab_type": "text",
        "id": "re6kbAfFGFsc"
      },
      "source": [
        "**<font color='red'>Answer:</font>** "
      ]
    },
    {
      "cell_type": "markdown",
      "metadata": {
        "colab_type": "text",
        "id": "zc85bd49GFsd"
      },
      "source": [
        "**1.3. For the \"Revenue\" calculate how much a donor has donated. What is the revenue value for the donor with ID e0fe4d9b8def8a71635e65ba4ff5ef40? (0.30 points)**"
      ]
    },
    {
      "cell_type": "code",
      "metadata": {
        "colab_type": "code",
        "id": "RcZwrtawGFse",
        "colab": {}
      },
      "source": [
        ""
      ],
      "execution_count": 0,
      "outputs": []
    },
    {
      "cell_type": "markdown",
      "metadata": {
        "colab_type": "text",
        "id": "CbTGdpAZGFsh"
      },
      "source": [
        "**<font color='red'>Answer:</font>**"
      ]
    },
    {
      "cell_type": "markdown",
      "metadata": {
        "colab_type": "text",
        "id": "VpLjn8flGFsi"
      },
      "source": [
        "**1.4. Use the quantiles to separate Recency, Frequency, Revenue into four bins. We define our high value customers which have low Recency value and high Frequency and Revenue values. Calculate score for each donor which is equal to sum of bin values as a RFM components and save it in a new column. (0.50 points)**"
      ]
    },
    {
      "cell_type": "code",
      "metadata": {
        "colab_type": "code",
        "id": "TMzdUqRYGFsj",
        "colab": {}
      },
      "source": [
        ""
      ],
      "execution_count": 0,
      "outputs": []
    },
    {
      "cell_type": "markdown",
      "metadata": {
        "colab_type": "text",
        "id": "nK85bc9yGFsm"
      },
      "source": [
        "**1.5. Build a 3D graph where axes represent the R, F and, M values and the hue (color of shade) represents the score. Based on the graph on how many categories would you cluster the donors? Please explain your decision. (0.50 points)**"
      ]
    },
    {
      "cell_type": "code",
      "metadata": {
        "colab_type": "code",
        "id": "tpjEKXvSGFso",
        "colab": {}
      },
      "source": [
        ""
      ],
      "execution_count": 0,
      "outputs": []
    },
    {
      "cell_type": "markdown",
      "metadata": {
        "colab_type": "text",
        "id": "QG4vXcNHGFst"
      },
      "source": [
        "**<font color='red'>Answer:</font>** "
      ]
    },
    {
      "cell_type": "markdown",
      "metadata": {
        "colab_type": "text",
        "id": "3muemc_LGFsu"
      },
      "source": [
        "**1.6. Interpret what the minimum, maximum and mean score indicates about your donors ?(0.50 points)**"
      ]
    },
    {
      "cell_type": "markdown",
      "metadata": {
        "colab_type": "text",
        "id": "tOA6ITk5GFsv"
      },
      "source": [
        "**<font color='red'>Answer:</font>** "
      ]
    },
    {
      "cell_type": "markdown",
      "metadata": {
        "colab_type": "text",
        "id": "KOj8bvi_GFsw"
      },
      "source": [
        "**1.7. Based on your answer in the question 1.5, please threshold the scores to create as many clusters as you think is reasonable. Assign integer values to those clusters to ease the identification and add a new column to your RFM data frame which shows the cluster each record belongs to. (0.30 points)**"
      ]
    },
    {
      "cell_type": "code",
      "metadata": {
        "colab_type": "code",
        "id": "74G2S3uhGFsx",
        "colab": {}
      },
      "source": [
        ""
      ],
      "execution_count": 0,
      "outputs": []
    },
    {
      "cell_type": "markdown",
      "metadata": {
        "colab_type": "text",
        "id": "OHnuwORcGFsz"
      },
      "source": [
        "# 2. Automated clustering algorithms (4.1 points)"
      ]
    },
    {
      "cell_type": "markdown",
      "metadata": {
        "colab_type": "text",
        "id": "Qww7J1enGFs0"
      },
      "source": [
        "**2.1. Use K-Means algorithm with parameter \"max_iter = 1\", to get the same number of clusters for RFM as you selected in the exercise 1.5.  Feed the RFM values at the same time to the algorithm (not separately). Store your result in a new column and name this column as Kmeans_cluster.(0.50 points)**"
      ]
    },
    {
      "cell_type": "code",
      "metadata": {
        "colab_type": "code",
        "id": "WStUyjfpGFs1",
        "colab": {}
      },
      "source": [
        ""
      ],
      "execution_count": 0,
      "outputs": []
    },
    {
      "cell_type": "markdown",
      "metadata": {
        "colab_type": "text",
        "id": "2iLuD4DpGFs5"
      },
      "source": [
        "**2.2. Take a look at the cluster centers given by KMeans after prediction. Are they identical to mean value of each cluster ? If yes, why do you think so? If no, why do you think so? In case the answer is no, please try to change the parameters of the function so the cluster center and the mean value of clusters will be identical. Store and report the new results. (0.75 points)**"
      ]
    },
    {
      "cell_type": "code",
      "metadata": {
        "colab_type": "code",
        "id": "R7QtuihLGFs6",
        "colab": {}
      },
      "source": [
        ""
      ],
      "execution_count": 0,
      "outputs": []
    },
    {
      "cell_type": "markdown",
      "metadata": {
        "colab_type": "text",
        "id": "0N0zpYdAGFs-"
      },
      "source": [
        "**<font color='red'>Answer:</font>** "
      ]
    },
    {
      "cell_type": "markdown",
      "metadata": {
        "colab_type": "text",
        "id": "ZDskimVBGFs_"
      },
      "source": [
        "**2.3. Compare the results you produced in exercise 1.7 with the results generated by KMeans i.e number of elements in each class, mean and std values for elements in each class. Which approach do you think is better or are they similar ? Hint: Plot histogram and/or boxplot (0.75 points)**"
      ]
    },
    {
      "cell_type": "code",
      "metadata": {
        "colab_type": "code",
        "id": "YblybEUtGFtA",
        "colab": {}
      },
      "source": [
        ""
      ],
      "execution_count": 0,
      "outputs": []
    },
    {
      "cell_type": "markdown",
      "metadata": {
        "colab_type": "text",
        "id": "HJd2SoqzGFtD"
      },
      "source": [
        "**<font color='red'>Answer:</font>**"
      ]
    },
    {
      "cell_type": "markdown",
      "metadata": {
        "colab_type": "text",
        "id": "aEdxQk4NGFtD"
      },
      "source": [
        "**2.4. To overcome the limitations of KMeans many other clustering algorithms are used, one of them is DBSCAN. Mention at least 2 advantages of DBSCAN over KMeans and 2 disadvantages of DBSCAN.(0.30 points)**"
      ]
    },
    {
      "cell_type": "markdown",
      "metadata": {
        "colab_type": "text",
        "id": "dlNB1bgHGFtE"
      },
      "source": [
        "**<font color='red'>Answer:</font>**"
      ]
    },
    {
      "cell_type": "markdown",
      "metadata": {
        "colab_type": "text",
        "id": "WqCjuNTSGFtF"
      },
      "source": [
        "**2.5. Use DBSCAN  with its default parameters to generate clusters based on RFM values. How many clusters did it create? Was the value same as you selected in the exercise 1.5?(0.50 points)**"
      ]
    },
    {
      "cell_type": "code",
      "metadata": {
        "colab_type": "code",
        "id": "T42epiWBGFtG",
        "colab": {}
      },
      "source": [
        ""
      ],
      "execution_count": 0,
      "outputs": []
    },
    {
      "cell_type": "markdown",
      "metadata": {
        "colab_type": "text",
        "id": "A9gmSlHTGFtK"
      },
      "source": [
        "**2.6. In 2.5, how many noisy data points were identified by the DBSCAN? (0.30 points)**"
      ]
    },
    {
      "cell_type": "code",
      "metadata": {
        "colab_type": "code",
        "id": "1PLWQfUqGFtL",
        "colab": {}
      },
      "source": [
        ""
      ],
      "execution_count": 0,
      "outputs": []
    },
    {
      "cell_type": "markdown",
      "metadata": {
        "colab_type": "text",
        "id": "k74v2ytQGFtP"
      },
      "source": [
        "**<font color='red'>Answer:</font>**"
      ]
    },
    {
      "cell_type": "markdown",
      "metadata": {
        "colab_type": "text",
        "id": "lZFAxQuLGFtQ"
      },
      "source": [
        "**2.7 Try different combinations of \"eps\" and \"min_samples\" parameters for DBSCAN in order to reach the same number of classes as in exercise 1.5 (at most you can have a difference of 10 classes). Report the combination that gave the best result (0.75 points). Why do you think it worked and the number of classes decreased compared to exercise 2.5? (0.25 points)** "
      ]
    },
    {
      "cell_type": "code",
      "metadata": {
        "colab_type": "code",
        "id": "nr5UY0NmGFtR",
        "colab": {}
      },
      "source": [
        ""
      ],
      "execution_count": 0,
      "outputs": []
    },
    {
      "cell_type": "markdown",
      "metadata": {
        "colab_type": "text",
        "id": "bTM7CzenGFtV"
      },
      "source": [
        "**<font color='red'>Answer:</font>**"
      ]
    },
    {
      "cell_type": "markdown",
      "metadata": {
        "colab_type": "text",
        "id": "wRlS9pkFGFtW"
      },
      "source": [
        "# 3. Regression (2.9 points)\n",
        "\n"
      ]
    },
    {
      "cell_type": "markdown",
      "metadata": {
        "colab_type": "text",
        "id": "vU4tceyhGFtW"
      },
      "source": [
        "For this exercise we are going to use the Prices dataset which contains 74 columns. Each column explains a  characteristic of houses in sale. The last column is describing their prices. "
      ]
    },
    {
      "cell_type": "code",
      "metadata": {
        "id": "FV8d-1ZrISZu",
        "colab_type": "code",
        "colab": {}
      },
      "source": [
        "data = pd.read_csv(\"Prices.csv\")\n",
        "data.head()"
      ],
      "execution_count": 0,
      "outputs": []
    },
    {
      "cell_type": "markdown",
      "metadata": {
        "id": "kfJfvQ7NISaA",
        "colab_type": "text"
      },
      "source": [
        "Before using the data we have to apply some preprocessing:\n",
        "- Apply one-hot encoding to categorical data types\n",
        "- Apply logarithmic transformation to the data\n",
        "- Replace negative infinite values with 0"
      ]
    },
    {
      "cell_type": "code",
      "metadata": {
        "id": "k1gO_r8AISaI",
        "colab_type": "code",
        "colab": {}
      },
      "source": [
        "X = data.iloc[:, 0:-1]\n",
        "y = data.iloc[:, -1]\n",
        "\n",
        "data = pd.get_dummies(X)\n",
        "data[\"SalePrice\"]=y\n",
        "\n",
        "data = np.log(data)\n",
        "\n",
        "data[data==-np.inf]=0"
      ],
      "execution_count": 0,
      "outputs": []
    },
    {
      "cell_type": "markdown",
      "metadata": {
        "id": "A6GcxqVwISac",
        "colab_type": "text"
      },
      "source": [
        "Now the data is ready for you to use in the next exercises."
      ]
    },
    {
      "cell_type": "markdown",
      "metadata": {
        "colab_type": "text",
        "id": "_9ywqkuoGFtX"
      },
      "source": [
        "**3.1. Calculate the correlation between price and each feature. Which are the top 3 features that have the highest correlation with  price? Is the correlation positive or negative? Explain what happens with the price when each of \n",
        "those 3 features change (consider only one feature at a time) and others are kept constant. (0.50 points)** \n",
        "\n"
      ]
    },
    {
      "cell_type": "code",
      "metadata": {
        "colab_type": "code",
        "id": "SztozeR9GFtY",
        "colab": {}
      },
      "source": [
        ""
      ],
      "execution_count": 0,
      "outputs": []
    },
    {
      "cell_type": "markdown",
      "metadata": {
        "colab_type": "text",
        "id": "kP-jnSGxGFtb"
      },
      "source": [
        "<font color='red'> **Answer:**</font>\n"
      ]
    },
    {
      "cell_type": "markdown",
      "metadata": {
        "colab_type": "text",
        "id": "JSE4qygEGFtc"
      },
      "source": [
        "**3.2.  In this exercise we have to build  a regression model using training data and then predict the price in test data. You are free to select features which you want to use for building the model. As the data has missing values we are asking you to try the following methods for dealing with the missing data:**\n",
        "\n",
        "a) mean imputation\n",
        "\n",
        "b) median imputation\n",
        "\n",
        "c) mode imputation\n",
        "\n",
        "d) dropping missing values\n",
        "\n",
        "\n",
        "**For each of these cases report MAE, RMSE and R<sup>2</sup>. Which method works better ?**\n",
        "\n",
        "**To get the training and test set, split  the data into 20% test set and 80% training set using train_test_split function from scikit-learn. Keep the parameter random_state equal to 0. (1.50 points)**"
      ]
    },
    {
      "cell_type": "code",
      "metadata": {
        "id": "0_niqwACISbI",
        "colab_type": "code",
        "colab": {}
      },
      "source": [
        ""
      ],
      "execution_count": 0,
      "outputs": []
    },
    {
      "cell_type": "code",
      "metadata": {
        "colab_type": "code",
        "id": "6KwYLPw_GFtd",
        "colab": {}
      },
      "source": [
        "<font color='red'> **Answer:**</font>\n"
      ],
      "execution_count": 0,
      "outputs": []
    },
    {
      "cell_type": "code",
      "metadata": {
        "id": "TvPL2MLqISb0",
        "colab_type": "code",
        "colab": {}
      },
      "source": [
        "## Place here the values for MAE, RMSE, R^2 received from the best method\n",
        "mae_best = ...\n",
        "rmse_best = ...\n",
        "r2_best = ..."
      ],
      "execution_count": 0,
      "outputs": []
    },
    {
      "cell_type": "markdown",
      "metadata": {
        "colab_type": "text",
        "id": "r5QBfAtzGFtg"
      },
      "source": [
        "**3.3 From 3.2 keep the best method to deal with missing values and use PCA to reduce the number of features to 34 components. Keep random_state for PCA equal to 0. (0.30 points)**"
      ]
    },
    {
      "cell_type": "code",
      "metadata": {
        "colab_type": "code",
        "id": "YUG2w2u1GFtg",
        "colab": {}
      },
      "source": [
        ""
      ],
      "execution_count": 0,
      "outputs": []
    },
    {
      "cell_type": "markdown",
      "metadata": {
        "colab_type": "text",
        "id": "VcDWSs2TGFtj"
      },
      "source": [
        "**3.4. What percentage of the variance is explained by the first component ? (0.30 points)**"
      ]
    },
    {
      "cell_type": "markdown",
      "metadata": {
        "colab_type": "text",
        "id": "19LfvxdcGFtk"
      },
      "source": [
        "<font color='red'> **Answer:**</font>\n"
      ]
    },
    {
      "cell_type": "markdown",
      "metadata": {
        "colab_type": "text",
        "id": "z7jVxt7AGFtk"
      },
      "source": [
        "**3.5. Use the new components derived from PCA to predict the house pricing. Keep the ratio of test and train set to 20/80 and the random_state equal to 0. Report MAE, RMSE and R<sup>2</sup> (0.30 points)**"
      ]
    },
    {
      "cell_type": "code",
      "metadata": {
        "id": "HXjCmZHgISc7",
        "colab_type": "code",
        "colab": {}
      },
      "source": [
        ""
      ],
      "execution_count": 0,
      "outputs": []
    },
    {
      "cell_type": "code",
      "metadata": {
        "id": "2-NSDWnnISdV",
        "colab_type": "code",
        "colab": {}
      },
      "source": [
        "## Calculate the values for MAE, RMSE, R^2 received after applying PCA\n",
        "\n",
        "mae_pca = ...\n",
        "rmse_pca = ...\n",
        "r2_pca = ...\n"
      ],
      "execution_count": 0,
      "outputs": []
    },
    {
      "cell_type": "code",
      "metadata": {
        "id": "oYtDnxdiISdl",
        "colab_type": "code",
        "colab": {}
      },
      "source": [
        "print(\"MAE difference after PCA: \", mae_best-mae_pca)\n",
        "print(\"RMSE difference after PCA: \", rmse_best-rmse_pca)\n",
        "print(\"R2 difference after PCA: \", r2_best-r2_pca)"
      ],
      "execution_count": 0,
      "outputs": []
    },
    {
      "cell_type": "markdown",
      "metadata": {
        "colab_type": "text",
        "id": "gjRriIRnGFtm"
      },
      "source": [
        "## How long did it take you to solve the homework?\n",
        "\n",
        "* Please answer as precisely as you can. It does not affect your points or grade in any way. It is okay, if it took 0.5 hours or 24 hours. The collected information will be used to improve future homeworks.\n",
        "\n",
        "<font color='red'> **Answer:**</font>\n",
        "\n",
        "**<font color='red'>(please change X in the next cell into your estimate)</font>**\n",
        "\n",
        "X hours\n",
        "\n",
        "## What is the level of difficulty for this homework?\n",
        "you can put only number between $0:10$ ($0:$ easy, $10:$ difficult)\n",
        "\n",
        "<font color='red'> **Answer:**</font>"
      ]
    },
    {
      "cell_type": "code",
      "metadata": {
        "colab_type": "code",
        "id": "Lx-ns4yEGFtn",
        "colab": {}
      },
      "source": [
        ""
      ],
      "execution_count": 0,
      "outputs": []
    }
  ]
}